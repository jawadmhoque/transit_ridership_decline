{
 "cells": [
  {
   "cell_type": "code",
   "execution_count": 1,
   "metadata": {
    "collapsed": false
   },
   "outputs": [
    {
     "name": "stderr",
     "output_type": "stream",
     "text": [
      "C:\\Program Files\\Anaconda3\\lib\\site-packages\\statsmodels\\compat\\pandas.py:56: FutureWarning: The pandas.core.datetools module is deprecated and will be removed in a future version. Please use the pandas.tseries module instead.\n",
      "  from pandas.core import datetools\n"
     ]
    }
   ],
   "source": [
    "import pandas as pd\n",
    "import seaborn as sns\n",
    "import numpy as np\n",
    "import linearmodels as lm\n",
    "import matplotlib\n",
    "import math\n",
    "import statsmodels.formula.api as smf\n",
    "import statsmodels.api as sm\n",
    "\n",
    "from linearmodels.panel import PanelOLS\n",
    "from linearmodels.panel import RandomEffects\n",
    "from linearmodels.panel import FirstDifferenceOLS\n",
    "from linearmodels.panel import compare\n",
    "from matplotlib import pyplot as plt\n",
    "\n",
    "from pandas.api.types import is_numeric_dtype\n",
    "\n",
    "pd.set_option('display.max_columns', 500)\n",
    "\n",
    "%matplotlib inline"
   ]
  },
  {
   "cell_type": "code",
   "execution_count": 2,
   "metadata": {
    "collapsed": false
   },
   "outputs": [
    {
     "name": "stderr",
     "output_type": "stream",
     "text": [
      "C:\\Program Files\\Anaconda3\\lib\\site-packages\\IPython\\core\\interactiveshell.py:2717: DtypeWarning: Columns (117,126) have mixed types. Specify dtype option on import or set low_memory=False.\n",
      "  interactivity=interactivity, compiler=compiler, result=result)\n"
     ]
    }
   ],
   "source": [
    "# read the main data set\n",
    "df=pd.read_csv('estimation_file_normal_fare.csv',\n",
    "                    encoding='utf-8')\n"
   ]
  },
  {
   "cell_type": "code",
   "execution_count": 3,
   "metadata": {
    "collapsed": true
   },
   "outputs": [],
   "source": [
    "# read in and join the maintenance and restructure data\n",
    "mr=pd.read_csv('maintenance_restructure.csv',\n",
    "                    encoding='utf-8')\n",
    "mr = mr[['CBSA', 'Mode', 'Year', 'MAINTENANCE', 'MAINTENANCE_NYC', 'MAINTENANCE_WMATA', 'RESTRUCTURE']]\n",
    "\n",
    "df = df.merge(mr, on=['CBSA', 'Mode', 'Year'], how='left')"
   ]
  },
  {
   "cell_type": "code",
   "execution_count": 4,
   "metadata": {
    "collapsed": true
   },
   "outputs": [],
   "source": [
    "# read in and join the bike share updates\n",
    "bsu=pd.read_csv('bike_share_update.csv',\n",
    "                    encoding='utf-8')\n",
    "bsu = bsu[['CBSA', 'Mode', 'Year', 'PBS_Flag_Update']]\n",
    "\n",
    "df = df.merge(bsu, on=['CBSA', 'Mode', 'Year'], how='left')\n",
    "\n",
    "#df['PBS_Flag_Missing'] = df['PBS_Flag'].apply(lambda x : x.isnan())\n",
    "df['PBS_Flag'] = np.where(df['PBS_Flag'].isnull(), df['PBS_Flag_Update'], df['PBS_Flag'])"
   ]
  },
  {
   "cell_type": "code",
   "execution_count": 5,
   "metadata": {
    "collapsed": true
   },
   "outputs": [],
   "source": [
    "# 4 apta clusers\n",
    "df['CLUSTER_APTA4'] = np.floor(df['CLUSTER_APTA']/10)"
   ]
  },
  {
   "cell_type": "code",
   "execution_count": 6,
   "metadata": {
    "collapsed": true
   },
   "outputs": [],
   "source": [
    "# exclude if ridership is zero--missing data\n",
    "df = df[df['UPT_ADJ']>0]"
   ]
  },
  {
   "cell_type": "code",
   "execution_count": 7,
   "metadata": {
    "collapsed": false
   },
   "outputs": [
    {
     "name": "stdout",
     "output_type": "stream",
     "text": [
      "Excluding 0 records with missing VRM\n",
      "Excluding 74 records with zero or negative fare\n",
      "Excluding 7 records with fare greater than $20\n",
      "Excluding 27 records with negative 0 veh HH\n",
      "Excluding 172 records with problem flag set to 1\n",
      "Excluding 31 cluster 3 rail\n"
     ]
    }
   ],
   "source": [
    "# exclude problematic data\n",
    "old_len = len(df)\n",
    "df = df[df['VRM_ADJ']>0]\n",
    "new_len = len(df)\n",
    "print('Excluding ' + str(old_len-new_len) + ' records with missing VRM') \n",
    "\n",
    "# exclude problematic data\n",
    "old_len = len(df)\n",
    "df = df[df['FARE_per_UPT_2018']>0]\n",
    "new_len = len(df)\n",
    "print('Excluding ' + str(old_len-new_len) + ' records with zero or negative fare') \n",
    "\n",
    "# exclude problematic data\n",
    "old_len = len(df)\n",
    "df = df[df['FARE_per_UPT_2018']<20]\n",
    "new_len = len(df)\n",
    "print('Excluding ' + str(old_len-new_len) + ' records with fare greater than $20') \n",
    "\n",
    "# exclude problematic data\n",
    "old_len = len(df)\n",
    "df = df[df['HH_0Veh']>0]\n",
    "new_len = len(df)\n",
    "print('Excluding ' + str(old_len-new_len) + ' records with negative 0 veh HH') \n",
    "\n",
    "# exclude if problem flag is set\n",
    "old_len = len(df)\n",
    "df = df[df['PROBLEM_FLAG']!=1]\n",
    "new_len = len(df)\n",
    "print('Excluding ' + str(old_len-new_len) + ' records with problem flag set to 1') \n",
    "\n",
    "# drop low op-ex cluster rail\n",
    "old_len = len(df)\n",
    "df = df[(df['CLUSTER_APTA4']!=3) |  (df['Mode']=='Bus')]\n",
    "new_len = len(df)\n",
    "print('Excluding ' + str(old_len-new_len) + ' cluster 3 rail') \n",
    "\n"
   ]
  },
  {
   "cell_type": "code",
   "execution_count": 8,
   "metadata": {
    "collapsed": false
   },
   "outputs": [
    {
     "name": "stdout",
     "output_type": "stream",
     "text": [
      "Excluding 46 records with discontinuities in year.\n",
      "Excluding 40 records with discontinuities in year.\n",
      "Excluding 34 records with discontinuities in year.\n",
      "Excluding 31 records with discontinuities in year.\n",
      "Excluding 25 records with discontinuities in year.\n",
      "Excluding 22 records with discontinuities in year.\n",
      "Excluding 19 records with discontinuities in year.\n",
      "Excluding 18 records with discontinuities in year.\n",
      "Excluding 14 records with discontinuities in year.\n",
      "Excluding 13 records with discontinuities in year.\n",
      "Excluding 11 records with discontinuities in year.\n",
      "Excluding 7 records with discontinuities in year.\n",
      "Excluding 5 records with discontinuities in year.\n",
      "Excluding 4 records with discontinuities in year.\n",
      "Excluding 3 records with discontinuities in year.\n",
      "Excluding 3 records with discontinuities in year.\n",
      "Excluding 0 records with discontinuities in year.\n"
     ]
    }
   ],
   "source": [
    "# exclude discontinuous data\n",
    "df = df.sort_values(by=['CBSA', 'Mode', 'Year'])\n",
    "\n",
    "excluded_records = 100\n",
    "while excluded_records > 0: \n",
    "    old_len = len(df)\n",
    "    df['YearDiff'] = df['Year'].shift(-1) - df['Year']\n",
    "    df = df[(df['YearDiff']==1) | (df['Year']==2018)]\n",
    "    excluded_records = old_len - len(df)\n",
    "    print('Excluding ' + str(excluded_records) + ' records with discontinuities in year.') \n",
    "\n"
   ]
  },
  {
   "cell_type": "code",
   "execution_count": 9,
   "metadata": {
    "collapsed": true
   },
   "outputs": [],
   "source": [
    "df['BUS_FLAG'] = np.where(df['Mode']=='Bus', 1, 0)\n",
    "df['RAIL_FLAG'] = np.where(df['Mode']=='Rail', 1, 0)"
   ]
  },
  {
   "cell_type": "code",
   "execution_count": 10,
   "metadata": {
    "collapsed": true
   },
   "outputs": [],
   "source": [
    "# include population + employment\n",
    "df['POP_EMP'] = df['Tot_Pop'] + df['TOT_EMP_MSA']\n",
    "df['HH_EMP'] = df['Total_HH'] + df['TOT_EMP_MSA']\n",
    "\n",
    "# percent of population in transit supportive density\n",
    "df['TSD_POP_PCT'] = df['POP_CENSUSTRACT'] / df['Tot_Pop']\n",
    "\n",
    "# percent of pop born outside USA\n",
    "df['Tot_NonUSA_POP_pct'] = df['Tot_NonUSA_POP'] / df['Tot_Pop'] * 100\n"
   ]
  },
  {
   "cell_type": "code",
   "execution_count": 11,
   "metadata": {
    "collapsed": true
   },
   "outputs": [],
   "source": [
    "# mode specific effects\n",
    "\n",
    "df['Bus_VRM_ADJ_RAIL']  = df['Bus_VRM_ADJ'] * df['RAIL_FLAG']\n",
    "df['Rail_VRM_ADJ_BUS'] = df['Rail_VRM_ADJ']  * df['BUS_FLAG']\n",
    "\n",
    "df['Bus_VRM_ADJ_RAIL_log'] = np.log(1+df['Bus_VRM_ADJ_RAIL'])\n",
    "df['Rail_VRM_ADJ_BUS_log'] = np.log(1+df['Rail_VRM_ADJ_BUS'])\n"
   ]
  },
  {
   "cell_type": "code",
   "execution_count": 12,
   "metadata": {
    "collapsed": true
   },
   "outputs": [],
   "source": [
    "# time effects\n",
    "df['YEARS_SINCE_2002']  = df['Year'] - 2002\n",
    "\n",
    "df['YEARS_2002_2010']  = df['Year'].apply(lambda x : min(x-2002, 8))\n",
    "df['YEARS_AFTER_2010'] = df['Year'].apply(lambda x : max(x-2010, 0))\n",
    "\n",
    "df['YEARS_2002_2014']  = df['Year'].apply(lambda x : min(x-2002, 12))\n",
    "df['YEARS_AFTER_2014'] = df['Year'].apply(lambda x : max(x-2014, 0))\n",
    "\n",
    "\n",
    "df['YEARS_SINCE_2002_BUS']  = df['YEARS_SINCE_2002'] * df['BUS_FLAG']\n",
    "df['YEARS_SINCE_2002_RAIL'] = df['YEARS_SINCE_2002'] * df['RAIL_FLAG']\n",
    "\n",
    "df['YEARS_2002_2010_BUS']   = df['YEARS_2002_2010'] * df['BUS_FLAG']\n",
    "df['YEARS_AFTER_2010_BUS']  = df['YEARS_AFTER_2010']* df['BUS_FLAG']\n",
    "df['YEARS_2002_2010_RAIL']  = df['YEARS_2002_2010'] * df['RAIL_FLAG']\n",
    "df['YEARS_AFTER_2010_RAIL'] = df['YEARS_AFTER_2010']* df['RAIL_FLAG']\n",
    "\n",
    "df['YEARS_2002_2014_BUS']   = df['YEARS_2002_2014'] * df['BUS_FLAG']\n",
    "df['YEARS_AFTER_2014_BUS']  = df['YEARS_AFTER_2014']* df['BUS_FLAG']\n",
    "df['YEARS_2002_2014_RAIL']  = df['YEARS_2002_2014'] * df['RAIL_FLAG']\n",
    "df['YEARS_AFTER_2014_RAIL'] = df['YEARS_AFTER_2014']* df['RAIL_FLAG']"
   ]
  },
  {
   "cell_type": "code",
   "execution_count": 13,
   "metadata": {
    "collapsed": true
   },
   "outputs": [],
   "source": [
    "# test rail ramp up period\n",
    "df['YEARS_SINCE_RAIL_START'] = (df['Year'] - df['min_year']) * df['RAIL_FLAG']\n",
    "df['YEARS_SINCE_RAIL_START'] = np.where(df['min_year']==2002, 0, df['YEARS_SINCE_RAIL_START'])\n",
    "\n",
    "df['YEARS_SINCE_RAIL_START_1'] = df['YEARS_SINCE_RAIL_START'].apply(lambda x : min(x, 1))\n",
    "df['YEARS_SINCE_RAIL_START_2'] = df['YEARS_SINCE_RAIL_START'].apply(lambda x : min(x, 2))\n",
    "df['YEARS_SINCE_RAIL_START_3'] = df['YEARS_SINCE_RAIL_START'].apply(lambda x : min(x, 3))\n",
    "\n"
   ]
  },
  {
   "cell_type": "code",
   "execution_count": 14,
   "metadata": {
    "collapsed": true
   },
   "outputs": [],
   "source": [
    "# calculate bus vs rail stuff\n",
    "\n",
    "# various bus/rail specifics\n",
    "\n",
    "df['TNC_FLAG_BUS'] = df['TNC_FLAG'] * df['BUS_FLAG']\n",
    "df['TNC_FLAG_RAIL'] = df['TNC_FLAG'] * df['RAIL_FLAG']\n",
    "\n",
    "df['YEARS_SINCE_TNC_BUS'] = df['YEARS_SINCE_TNC'] * df['BUS_FLAG']\n",
    "df['YEARS_SINCE_TNC_RAIL'] = df['YEARS_SINCE_TNC'] * df['RAIL_FLAG']\n",
    "\n",
    "df['dockless_flag'] = df['dockCt'].apply(lambda x : min(x,1))\n",
    "df['scooter_flag']  = df['scooterCt'].apply(lambda x : min(x,1))\n",
    "\n",
    "df['BIKE_SHARE'] = df['PBS_Flag'] + df['dockless_flag']\n",
    "df['BIKE_SHARE'] = df['BIKE_SHARE'].apply(lambda x : min(x,1))\n",
    "\n",
    "\n",
    "df['PBS_Flag_BUS']   = df['PBS_Flag']   * df['BUS_FLAG']\n",
    "df['dockCt_BUS']     = df['dockCt']     * df['BUS_FLAG']\n",
    "df['docklessCt_BUS'] = df['docklessCt'] * df['BUS_FLAG']\n",
    "df['scooterCt_BUS']  = df['scooterCt']  * df['BUS_FLAG']\n",
    "df['dockless_flag_BUS'] = df['dockless_flag'] * df['BUS_FLAG']\n",
    "df['scooter_flag_BUS']  = df['scooter_flag']  * df['BUS_FLAG']\n",
    "df['BIKE_SHARE_BUS']  = df['BIKE_SHARE']  * df['BUS_FLAG']\n",
    "\n",
    "\n",
    "df['PBS_Flag_RAIL']   = df['PBS_Flag']   * df['RAIL_FLAG']\n",
    "df['dockCt_RAIL']     = df['dockCt']     * df['RAIL_FLAG']\n",
    "df['docklessCt_RAIL'] = df['docklessCt'] * df['RAIL_FLAG']\n",
    "df['scooterCt_RAIL']  = df['scooterCt']  * df['RAIL_FLAG']\n",
    "df['dockless_flag_RAIL'] = df['dockless_flag'] * df['RAIL_FLAG']\n",
    "df['scooter_flag_RAIL']  = df['scooter_flag']  * df['RAIL_FLAG']\n",
    "df['BIKE_SHARE_RAIL']  = df['BIKE_SHARE']  * df['RAIL_FLAG']\n",
    "\n",
    "\n"
   ]
  },
  {
   "cell_type": "code",
   "execution_count": 15,
   "metadata": {
    "collapsed": true
   },
   "outputs": [],
   "source": [
    "# convert JTW to numeric columns\n",
    "df['JTW_DA_PCT']        = df['JTW_DA_PCT'].replace('#VALUE!', np.nan)\n",
    "df['JTW_CARPOOLED_PCT'] = df['JTW_CARPOOLED_PCT'].replace('#VALUE!', np.nan)\n",
    "df['JTW_TRANSIT_PCT']   = df['JTW_TRANSIT_PCT'].replace('#VALUE!', np.nan)\n",
    "df['JTW_WALK_PCT']      = df['JTW_WALK_PCT'].replace('#VALUE!', np.nan)\n",
    "df['JTW_BICYCLE_PCT']   = df['JTW_BICYCLE_PCT'].replace('#VALUE!', np.nan)\n",
    "df['JTW_OTHER_PCT']     = df['JTW_OTHER_PCT'].replace('#VALUE!', np.nan)\n",
    "df['JTW_HOME_PCT']      = df['JTW_HOME_PCT'].replace('#VALUE!', np.nan)\n",
    "\n",
    "\n",
    "df['JTW_DA_PCT']        = df['JTW_DA_PCT'].replace('N', np.nan)\n",
    "df['JTW_CARPOOLED_PCT'] = df['JTW_CARPOOLED_PCT'].replace('N', np.nan)\n",
    "df['JTW_TRANSIT_PCT']   = df['JTW_TRANSIT_PCT'].replace('N', np.nan)\n",
    "df['JTW_WALK_PCT']      = df['JTW_WALK_PCT'].replace('N', np.nan)\n",
    "df['JTW_BICYCLE_PCT']   = df['JTW_BICYCLE_PCT'].replace('N', np.nan)\n",
    "df['JTW_OTHER_PCT']     = df['JTW_OTHER_PCT'].replace('N', np.nan)\n",
    "df['JTW_HOME_PCT']      = df['JTW_HOME_PCT'].replace('N', np.nan)\n",
    "\n"
   ]
  },
  {
   "cell_type": "code",
   "execution_count": 16,
   "metadata": {
    "collapsed": true
   },
   "outputs": [],
   "source": [
    "# convert JTW to numeric columns\n",
    "df['JTW_DA_PCT']        = df['JTW_DA_PCT'].astype(float)\n",
    "df['JTW_CARPOOLED_PCT'] = df['JTW_CARPOOLED_PCT'].astype(float)\n",
    "df['JTW_TRANSIT_PCT']   = df['JTW_TRANSIT_PCT'].astype(float)\n",
    "df['JTW_WALK_PCT']      = df['JTW_WALK_PCT'].astype(float)\n",
    "df['JTW_BICYCLE_PCT']   = df['JTW_BICYCLE_PCT'].astype(float)\n",
    "df['JTW_OTHER_PCT']     = df['JTW_OTHER_PCT'].astype(float)\n",
    "df['JTW_HOME_PCT']      = df['JTW_HOME_PCT'].astype(float)\n"
   ]
  },
  {
   "cell_type": "code",
   "execution_count": 17,
   "metadata": {
    "collapsed": true
   },
   "outputs": [],
   "source": [
    "# immigrant population percentage\n",
    "df['Tot_NonUSA_POP_pct'] = df['Tot_NonUSA_POP'] / df['Tot_Pop'] * 100\n",
    "\n",
    "# include VRM on competing modes -- split\n",
    "df['VRM_ADJ_COMPETING_BUS']  = df['VRM_ADJ_COMPETING'] * df['RAIL_FLAG']\n",
    "df['VRM_ADJ_COMPETING_RAIL'] = df['VRM_ADJ_COMPETING'] * df['BUS_FLAG']\n",
    "\n",
    "# include VRM on competing modes -- split\n",
    "df['VRM_ADJ_COMPETING_BUS']  = df['VRM_ADJ_COMPETING'] * df['RAIL_FLAG']\n",
    "df['VRM_ADJ_COMPETING_RAIL'] = df['VRM_ADJ_COMPETING'] * df['BUS_FLAG']\n",
    "\n",
    "# flag testing introduction of new rail\n",
    "df['RAIL_COMPETITION'] = np.where(df['VRM_ADJ_COMPETING']>0, 1, 0) * df['BUS_FLAG']\n",
    "\n"
   ]
  },
  {
   "cell_type": "code",
   "execution_count": 18,
   "metadata": {
    "collapsed": true
   },
   "outputs": [],
   "source": [
    "# TNC lags -- bus vs rail\n",
    "df['TNC_FLAG_BUS_LAGGED_1'] = df['TNC_FLAG_LAGGED_1'] * df['BUS_FLAG']\n",
    "df['TNC_FLAG_BUS_LAGGED_2'] = df['TNC_FLAG_LAGGED_2'] * df['BUS_FLAG']\n",
    "df['TNC_FLAG_BUS_LAGGED_3'] = df['TNC_FLAG_LAGGED_3'] * df['BUS_FLAG']\n",
    "\n",
    "df['TNC_FLAG_RAIL_LAGGED_1'] = df['TNC_FLAG_LAGGED_1'] * df['RAIL_FLAG']\n",
    "df['TNC_FLAG_RAIL_LAGGED_2'] = df['TNC_FLAG_LAGGED_2'] * df['RAIL_FLAG']\n",
    "df['TNC_FLAG_RAIL_LAGGED_3'] = df['TNC_FLAG_LAGGED_3'] * df['RAIL_FLAG']\n",
    "\n",
    "# bike share plus scooters for rail\n",
    "df['BIKE_SCOOTER_RAIL'] = df['BIKE_SHARE_RAIL'] + df['scooter_flag_RAIL']\n",
    "\n",
    "# different spec of bike and scooter\n",
    "df['BIKE_SCOOTER_SCOOTER_RAIL'] = df['BIKE_SHARE_RAIL'] + df['scooter_flag_RAIL'] + df['scooter_flag_RAIL']\n",
    "\n",
    "# different spec of bike and scooter\n",
    "df['BIKE_SCOOTER_SCOOTER_RAIL'] = df['BIKE_SHARE_RAIL'] + df['scooter_flag_RAIL'] + df['scooter_flag_RAIL']\n",
    "\n",
    "# merge bike and scooter for bus\n",
    "df['BIKE_SCOOTER_SCOOTER_BUS'] = df['BIKE_SHARE_BUS'] + df['scooter_flag_BUS'] + df['scooter_flag_BUS']\n",
    "\n",
    "# merge bike and scooter for bus\n",
    "df['BIKE_SCOOTER_BUS'] = df['BIKE_SHARE_BUS'] + df['scooter_flag_BUS'] \n",
    "df['BIKE_SCOOTER_RAIL'] = df['BIKE_SHARE_RAIL'] + df['scooter_flag_RAIL'] \n",
    "\n",
    "# scooter or bike\n",
    "df['BIKE_OR_SCOOTER_BUS']  = df['BIKE_SHARE_BUS'] + df['scooter_flag_BUS'] \n",
    "df['BIKE_OR_SCOOTER_BUS']  = df['BIKE_OR_SCOOTER_BUS'].apply(lambda x : min(x, 1))\n",
    "\n",
    "df['BIKE_OR_SCOOTER_RAIL'] = df['BIKE_SHARE_RAIL'] + df['scooter_flag_RAIL'] \n",
    "df['BIKE_OR_SCOOTER_RAIL'] = df['BIKE_OR_SCOOTER_RAIL'].apply(lambda x : min(x, 1))\n",
    "\n",
    "# calculate average vehicles\n",
    "df['AVG_VEHS'] = (df['HH_1Veh'] + 2*df['HH_2Veh'] + 3*df['HH_3Veh'] + 4*df['HH_4+Veh']) / (df['HH_0Veh'] + df['HH_1Veh'] + df['HH_2Veh'] + df['HH_3Veh'] + df['HH_4+Veh'])\n",
    "df['AVG_VEHS_log'] = np.log(1+df['AVG_VEHS'])\n",
    "\n"
   ]
  },
  {
   "cell_type": "code",
   "execution_count": 19,
   "metadata": {
    "collapsed": true
   },
   "outputs": [],
   "source": [
    "# walk bike other commuting\n",
    "df['JTW_WALK_BIKE_OTHER_PCT'] = df['JTW_WALK_PCT'] + df['JTW_BICYCLE_PCT'] + df['JTW_OTHER_PCT']\n",
    "\n",
    "# walk bike commuting\n",
    "df['JTW_WALK_BIKE_PCT'] = df['JTW_WALK_PCT'] + df['JTW_BICYCLE_PCT']\n"
   ]
  },
  {
   "cell_type": "code",
   "execution_count": 20,
   "metadata": {
    "collapsed": true
   },
   "outputs": [],
   "source": [
    "# percent of HH in transit supportive density\n",
    "df['TSD_POP_PCT'] = df['TSD_POP_PCT'] * 100"
   ]
  },
  {
   "cell_type": "code",
   "execution_count": 21,
   "metadata": {
    "collapsed": true
   },
   "outputs": [],
   "source": [
    "# segment TNCs by cluster\n",
    "df['HI_OPEX']  = np.where(df['CLUSTER_APTA4']==1, 1, 0)\n",
    "df['MID_OPEX'] = np.where(df['CLUSTER_APTA4']==2, 1, 0)\n",
    "df['LOW_OPEX'] = np.where(df['CLUSTER_APTA4']==3, 1, 0)\n",
    "df['NEW_YORK'] = np.where(df['CLUSTER_APTA4']==10, 1, 0)\n",
    "\n",
    "df['YEARS_SINCE_TNC_BUS_HI']  = df['YEARS_SINCE_TNC_BUS'] * df['HI_OPEX']\n",
    "df['YEARS_SINCE_TNC_BUS_MID'] = df['YEARS_SINCE_TNC_BUS'] * df['MID_OPEX']\n",
    "df['YEARS_SINCE_TNC_BUS_LOW'] = df['YEARS_SINCE_TNC_BUS'] * df['LOW_OPEX']\n",
    "df['YEARS_SINCE_TNC_BUS_NY']  = df['YEARS_SINCE_TNC_BUS'] * df['NEW_YORK']\n",
    "\n",
    "df['YEARS_SINCE_TNC_RAIL_HI']  = df['YEARS_SINCE_TNC_RAIL'] * df['HI_OPEX']\n",
    "df['YEARS_SINCE_TNC_RAIL_MID'] = df['YEARS_SINCE_TNC_RAIL'] * df['MID_OPEX']\n",
    "df['YEARS_SINCE_TNC_RAIL_LOW'] = df['YEARS_SINCE_TNC_RAIL'] * df['LOW_OPEX']\n",
    "df['YEARS_SINCE_TNC_RAIL_NY']  = df['YEARS_SINCE_TNC_RAIL'] * df['NEW_YORK']\n",
    "\n",
    "df['YEARS_SINCE_TNC_BUS_HINY']  = df['YEARS_SINCE_TNC_BUS_HI'] + df['YEARS_SINCE_TNC_BUS_NY']\n",
    "df['YEARS_SINCE_TNC_RAIL_HINY']  = df['YEARS_SINCE_TNC_RAIL_HI'] + df['YEARS_SINCE_TNC_RAIL_NY']\n",
    "\n",
    "df['YEARS_SINCE_TNC_BUS_MIDLOW']  = df['YEARS_SINCE_TNC_BUS_MID'] + df['YEARS_SINCE_TNC_BUS_LOW']\n",
    "df['YEARS_SINCE_TNC_RAIL_MIDLOW']  = df['YEARS_SINCE_TNC_RAIL_MID'] + df['YEARS_SINCE_TNC_RAIL_LOW']"
   ]
  },
  {
   "cell_type": "code",
   "execution_count": 22,
   "metadata": {
    "collapsed": true
   },
   "outputs": [],
   "source": [
    "# bikes and scooters by segment\n",
    "\n",
    "df['BIKE_SHARE_HI']  = df['BIKE_SHARE'] * df['HI_OPEX']\n",
    "df['BIKE_SHARE_MID'] = df['BIKE_SHARE'] * df['MID_OPEX']\n",
    "df['BIKE_SHARE_LOW'] = df['BIKE_SHARE'] * df['LOW_OPEX']\n",
    "df['BIKE_SHARE_NY']  = df['BIKE_SHARE'] * df['NEW_YORK']\n",
    "\n",
    "df['scooter_flag_HI']  = df['scooter_flag'] * df['HI_OPEX']\n",
    "df['scooter_flag_MID'] = df['scooter_flag'] * df['MID_OPEX']\n",
    "df['scooter_flag_LOW'] = df['scooter_flag'] * df['LOW_OPEX']\n",
    "df['scooter_flag_NY']  = df['scooter_flag'] * df['NEW_YORK']\n",
    "\n",
    "\n",
    "df['BIKE_SHARE_HINY']  = df['BIKE_SHARE_HI'] + df['BIKE_SHARE_NY']\n",
    "df['BIKE_SHARE_MIDLOW']  = df['BIKE_SHARE_MID'] + df['BIKE_SHARE_LOW']\n",
    "\n",
    "df['scooter_flag_HINY']  = df['scooter_flag_HI'] + df['scooter_flag_NY']\n",
    "df['scooter_flag_MIDLOW']  = df['scooter_flag_MID'] + df['scooter_flag_LOW']"
   ]
  },
  {
   "cell_type": "code",
   "execution_count": 23,
   "metadata": {
    "collapsed": true
   },
   "outputs": [],
   "source": [
    "# set the indices\n",
    "df['ID'] = df['MNAME'] + '-' + df['Mode']\n",
    "df=df.set_index(['ID','Year'])"
   ]
  },
  {
   "cell_type": "code",
   "execution_count": 24,
   "metadata": {
    "collapsed": true
   },
   "outputs": [],
   "source": [
    "# keep only the numeric columns -- the estimation will give an error otherwise\n",
    "df = df.select_dtypes(include=[np.number])"
   ]
  },
  {
   "cell_type": "code",
   "execution_count": 25,
   "metadata": {
    "collapsed": false
   },
   "outputs": [
    {
     "name": "stderr",
     "output_type": "stream",
     "text": [
      "C:\\Program Files\\Anaconda3\\lib\\site-packages\\ipykernel\\__main__.py:3: RuntimeWarning: invalid value encountered in log\n",
      "  app.launch_new_instance()\n",
      "C:\\Program Files\\Anaconda3\\lib\\site-packages\\ipykernel\\__main__.py:3: RuntimeWarning: divide by zero encountered in log\n",
      "  app.launch_new_instance()\n"
     ]
    }
   ],
   "source": [
    "# create a log of all fields\n",
    "for col in df.columns:\n",
    "    df[col+'_log'] = np.log(df[col]+1)\n",
    "    "
   ]
  },
  {
   "cell_type": "markdown",
   "metadata": {},
   "source": [
    "## Model Estimation Tests"
   ]
  },
  {
   "cell_type": "code",
   "execution_count": 26,
   "metadata": {
    "collapsed": false
   },
   "outputs": [
    {
     "name": "stderr",
     "output_type": "stream",
     "text": [
      "C:\\Program Files\\Anaconda3\\lib\\site-packages\\linearmodels\\panel\\data.py:39: FutureWarning: \n",
      "Passing list-likes to .loc or [] with any missing label will raise\n",
      "KeyError in the future, you can use .reindex() as an alternative.\n",
      "\n",
      "See the documentation here:\n",
      "https://pandas.pydata.org/pandas-docs/stable/indexing.html#deprecate-loc-reindex-listlike\n",
      "  new_df = df.copy().loc[self._full_index]\n",
      "C:\\Program Files\\Anaconda3\\lib\\site-packages\\linearmodels\\utility.py:476: MissingValueWarning: \n",
      "Inputs contain missing values. Dropping rows with missing observations.\n",
      "  warnings.warn(missing_value_warning_msg, MissingValueWarning)\n"
     ]
    },
    {
     "name": "stdout",
     "output_type": "stream",
     "text": [
      "                          PanelOLS Estimation Summary                           \n",
      "================================================================================\n",
      "Dep. Variable:            UPT_ADJ_log   R-squared:                        0.6381\n",
      "Estimator:                   PanelOLS   R-squared (Between):              0.9910\n",
      "No. Observations:                3746   R-squared (Within):               0.6381\n",
      "Date:                Tue, Dec 17 2019   R-squared (Overall):              0.9909\n",
      "Time:                        11:31:24   Log-likelihood                    1958.5\n",
      "Cov. Estimator:            Unadjusted                                           \n",
      "                                        F-statistic:                      383.32\n",
      "Entities:                         252   P-value                           0.0000\n",
      "Avg Obs:                       14.865   Distribution:                 F(16,3478)\n",
      "Min Obs:                       1.0000                                           \n",
      "Max Obs:                       17.000   F-statistic (robust):             383.32\n",
      "                                        P-value                           0.0000\n",
      "Time periods:                      17   Distribution:                 F(16,3478)\n",
      "Avg Obs:                       220.35                                           \n",
      "Min Obs:                       144.00                                           \n",
      "Max Obs:                       249.00                                           \n",
      "                                                                                \n",
      "                                      Parameter Estimates                                       \n",
      "================================================================================================\n",
      "                              Parameter  Std. Err.     T-stat    P-value    Lower CI    Upper CI\n",
      "------------------------------------------------------------------------------------------------\n",
      "VRM_ADJ_log                      0.7781     0.0123     63.447     0.0000      0.7541      0.8022\n",
      "FARE_per_UPT_2018_log           -0.3635     0.0229    -15.875     0.0000     -0.4083     -0.3186\n",
      "POP_EMP_log                      0.3541     0.0489     7.2451     0.0000      0.2583      0.4500\n",
      "GAS_PRICE_2018_log               0.2261     0.0216     10.448     0.0000      0.1837      0.2685\n",
      "TOTAL_MED_INC_INDIV_2018_log    -0.2577     0.0459    -5.6117     0.0000     -0.3477     -0.1676\n",
      "Tot_NonUSA_POP_pct               0.0090     0.0074     1.2149     0.2245     -0.0056      0.0237\n",
      "PCT_HH_NO_VEH                    0.0058     0.0027     2.1664     0.0304      0.0006      0.0110\n",
      "TSD_POP_PCT                      0.0073     0.0013     5.5486     0.0000      0.0047      0.0099\n",
      "JTW_HOME_PCT                    -0.0145     0.0034    -4.2715     0.0000     -0.0212     -0.0079\n",
      "RAIL_COMPETITION                 0.0129     0.0243     0.5297     0.5964     -0.0348      0.0606\n",
      "YEARS_SINCE_RAIL_START_1         0.0124     0.0713     0.1737     0.8621     -0.1275      0.1523\n",
      "YEARS_SINCE_TNC_BUS             -0.0193     0.0036    -5.3622     0.0000     -0.0264     -0.0123\n",
      "YEARS_SINCE_TNC_RAIL            -0.0105     0.0044    -2.3918     0.0168     -0.0191     -0.0019\n",
      "MAINTENANCE_WMATA               -0.1806     0.1088    -1.6599     0.0970     -0.3939      0.0327\n",
      "BIKE_SHARE_BUS                   0.0128     0.0119     1.0716     0.2840     -0.0106      0.0362\n",
      "scooter_flag_BUS                -0.0394     0.0257    -1.5297     0.1262     -0.0898      0.0111\n",
      "================================================================================================\n",
      "\n",
      "F-test for Poolability: 113.25\n",
      "P-value: 0.0000\n",
      "Distribution: F(251,3478)\n",
      "\n",
      "Included effects: Entity\n"
     ]
    }
   ],
   "source": [
    "# fully specified model  \n",
    "\n",
    "mod=PanelOLS.from_formula('UPT_ADJ_log \\\n",
    "                    ~ VRM_ADJ_log \\\n",
    "                    + FARE_per_UPT_2018_log \\\n",
    "                    + POP_EMP_log \\\n",
    "                    + GAS_PRICE_2018_log \\\n",
    "                    + TOTAL_MED_INC_INDIV_2018_log \\\n",
    "                    + Tot_NonUSA_POP_pct \\\n",
    "                    + PCT_HH_NO_VEH \\\n",
    "                    + TSD_POP_PCT \\\n",
    "                    + JTW_HOME_PCT \\\n",
    "                    + RAIL_COMPETITION \\\n",
    "                    + YEARS_SINCE_RAIL_START_1 \\\n",
    "                    + YEARS_SINCE_TNC_BUS \\\n",
    "                    + YEARS_SINCE_TNC_RAIL \\\n",
    "                    + MAINTENANCE_WMATA \\\n",
    "                    + BIKE_SHARE_BUS \\\n",
    "                    + scooter_flag_BUS \\\n",
    "                    + EntityEffects \\\n",
    "                    ',data=df)\n",
    "res=mod.fit()\n",
    "print(res)"
   ]
  },
  {
   "cell_type": "code",
   "execution_count": 27,
   "metadata": {
    "collapsed": false
   },
   "outputs": [
    {
     "name": "stderr",
     "output_type": "stream",
     "text": [
      "C:\\Program Files\\Anaconda3\\lib\\site-packages\\linearmodels\\panel\\data.py:39: FutureWarning: \n",
      "Passing list-likes to .loc or [] with any missing label will raise\n",
      "KeyError in the future, you can use .reindex() as an alternative.\n",
      "\n",
      "See the documentation here:\n",
      "https://pandas.pydata.org/pandas-docs/stable/indexing.html#deprecate-loc-reindex-listlike\n",
      "  new_df = df.copy().loc[self._full_index]\n",
      "C:\\Program Files\\Anaconda3\\lib\\site-packages\\linearmodels\\utility.py:476: MissingValueWarning: \n",
      "Inputs contain missing values. Dropping rows with missing observations.\n",
      "  warnings.warn(missing_value_warning_msg, MissingValueWarning)\n"
     ]
    },
    {
     "name": "stdout",
     "output_type": "stream",
     "text": [
      "                          PanelOLS Estimation Summary                           \n",
      "================================================================================\n",
      "Dep. Variable:            UPT_ADJ_log   R-squared:                        0.6389\n",
      "Estimator:                   PanelOLS   R-squared (Between):              0.9917\n",
      "No. Observations:                3746   R-squared (Within):               0.6389\n",
      "Date:                Tue, Dec 17 2019   R-squared (Overall):              0.9916\n",
      "Time:                        11:31:25   Log-likelihood                    1962.3\n",
      "Cov. Estimator:            Unadjusted                                           \n",
      "                                        F-statistic:                      341.64\n",
      "Entities:                         252   P-value                           0.0000\n",
      "Avg Obs:                       14.865   Distribution:                 F(18,3476)\n",
      "Min Obs:                       1.0000                                           \n",
      "Max Obs:                       17.000   F-statistic (robust):             341.64\n",
      "                                        P-value                           0.0000\n",
      "Time periods:                      17   Distribution:                 F(18,3476)\n",
      "Avg Obs:                       220.35                                           \n",
      "Min Obs:                       144.00                                           \n",
      "Max Obs:                       249.00                                           \n",
      "                                                                                \n",
      "                                      Parameter Estimates                                       \n",
      "================================================================================================\n",
      "                              Parameter  Std. Err.     T-stat    P-value    Lower CI    Upper CI\n",
      "------------------------------------------------------------------------------------------------\n",
      "VRM_ADJ_log                      0.7804     0.0123     63.474     0.0000      0.7563      0.8045\n",
      "FARE_per_UPT_2018_log           -0.3613     0.0229    -15.772     0.0000     -0.4062     -0.3164\n",
      "POP_EMP_log                      0.3559     0.0489     7.2834     0.0000      0.2601      0.4516\n",
      "GAS_PRICE_2018_log               0.2256     0.0217     10.395     0.0000      0.1830      0.2681\n",
      "TOTAL_MED_INC_INDIV_2018_log    -0.2576     0.0460    -5.6034     0.0000     -0.3477     -0.1674\n",
      "Tot_NonUSA_POP_pct               0.0093     0.0074     1.2461     0.2128     -0.0053      0.0239\n",
      "PCT_HH_NO_VEH                    0.0056     0.0027     2.0873     0.0369      0.0003      0.0108\n",
      "TSD_POP_PCT                      0.0073     0.0013     5.5463     0.0000      0.0047      0.0099\n",
      "JTW_HOME_PCT                    -0.0143     0.0034    -4.1969     0.0000     -0.0209     -0.0076\n",
      "RAIL_COMPETITION                 0.0127     0.0243     0.5213     0.6022     -0.0350      0.0604\n",
      "YEARS_SINCE_RAIL_START_1         0.0308     0.0717     0.4293     0.6677     -0.1099      0.1715\n",
      "YEARS_SINCE_TNC_BUS             -0.0196     0.0036    -5.4318     0.0000     -0.0267     -0.0125\n",
      "YEARS_SINCE_TNC_RAIL             0.0027     0.0066     0.4006     0.6887     -0.0104      0.0157\n",
      "MAINTENANCE_WMATA               -0.2174     0.1096    -1.9833     0.0474     -0.4323     -0.0025\n",
      "BIKE_SHARE_BUS                   0.0125     0.0119     1.0462     0.2955     -0.0109      0.0359\n",
      "scooter_flag_BUS                -0.0392     0.0257    -1.5235     0.1277     -0.0896      0.0112\n",
      "BIKE_SHARE_RAIL                 -0.0651     0.0255    -2.5548     0.0107     -0.1151     -0.0151\n",
      "scooter_flag_RAIL               -0.0440     0.0415    -1.0601     0.2892     -0.1253      0.0374\n",
      "================================================================================================\n",
      "\n",
      "F-test for Poolability: 112.54\n",
      "P-value: 0.0000\n",
      "Distribution: F(251,3476)\n",
      "\n",
      "Included effects: Entity\n"
     ]
    }
   ],
   "source": [
    "# fully specified model  \n",
    "\n",
    "mod=PanelOLS.from_formula('UPT_ADJ_log \\\n",
    "                    ~ VRM_ADJ_log \\\n",
    "                    + FARE_per_UPT_2018_log \\\n",
    "                    + POP_EMP_log \\\n",
    "                    + GAS_PRICE_2018_log \\\n",
    "                    + TOTAL_MED_INC_INDIV_2018_log \\\n",
    "                    + Tot_NonUSA_POP_pct \\\n",
    "                    + PCT_HH_NO_VEH \\\n",
    "                    + TSD_POP_PCT \\\n",
    "                    + JTW_HOME_PCT \\\n",
    "                    + RAIL_COMPETITION \\\n",
    "                    + YEARS_SINCE_RAIL_START_1 \\\n",
    "                    + YEARS_SINCE_TNC_BUS \\\n",
    "                    + YEARS_SINCE_TNC_RAIL \\\n",
    "                    + MAINTENANCE_WMATA \\\n",
    "                    + BIKE_SHARE_BUS \\\n",
    "                    + scooter_flag_BUS \\\n",
    "                    + BIKE_SHARE_RAIL \\\n",
    "                    + scooter_flag_RAIL \\\n",
    "                    + EntityEffects \\\n",
    "                    ',data=df)\n",
    "res=mod.fit()\n",
    "print(res)"
   ]
  },
  {
   "cell_type": "code",
   "execution_count": 28,
   "metadata": {
    "collapsed": false
   },
   "outputs": [
    {
     "name": "stderr",
     "output_type": "stream",
     "text": [
      "C:\\Program Files\\Anaconda3\\lib\\site-packages\\linearmodels\\panel\\data.py:39: FutureWarning: \n",
      "Passing list-likes to .loc or [] with any missing label will raise\n",
      "KeyError in the future, you can use .reindex() as an alternative.\n",
      "\n",
      "See the documentation here:\n",
      "https://pandas.pydata.org/pandas-docs/stable/indexing.html#deprecate-loc-reindex-listlike\n",
      "  new_df = df.copy().loc[self._full_index]\n",
      "C:\\Program Files\\Anaconda3\\lib\\site-packages\\linearmodels\\utility.py:476: MissingValueWarning: \n",
      "Inputs contain missing values. Dropping rows with missing observations.\n",
      "  warnings.warn(missing_value_warning_msg, MissingValueWarning)\n"
     ]
    },
    {
     "name": "stdout",
     "output_type": "stream",
     "text": [
      "                          PanelOLS Estimation Summary                           \n",
      "================================================================================\n",
      "Dep. Variable:            UPT_ADJ_log   R-squared:                        0.6387\n",
      "Estimator:                   PanelOLS   R-squared (Between):              0.9926\n",
      "No. Observations:                3746   R-squared (Within):               0.6387\n",
      "Date:                Tue, Dec 17 2019   R-squared (Overall):              0.9925\n",
      "Time:                        11:31:25   Log-likelihood                    1961.2\n",
      "Cov. Estimator:            Unadjusted                                           \n",
      "                                        F-statistic:                      409.94\n",
      "Entities:                         252   P-value                           0.0000\n",
      "Avg Obs:                       14.865   Distribution:                 F(15,3479)\n",
      "Min Obs:                       1.0000                                           \n",
      "Max Obs:                       17.000   F-statistic (robust):             409.94\n",
      "                                        P-value                           0.0000\n",
      "Time periods:                      17   Distribution:                 F(15,3479)\n",
      "Avg Obs:                       220.35                                           \n",
      "Min Obs:                       144.00                                           \n",
      "Max Obs:                       249.00                                           \n",
      "                                                                                \n",
      "                                      Parameter Estimates                                       \n",
      "================================================================================================\n",
      "                              Parameter  Std. Err.     T-stat    P-value    Lower CI    Upper CI\n",
      "------------------------------------------------------------------------------------------------\n",
      "VRM_ADJ_log                      0.7814     0.0122     63.922     0.0000      0.7575      0.8054\n",
      "FARE_per_UPT_2018_log           -0.3589     0.0227    -15.787     0.0000     -0.4035     -0.3143\n",
      "POP_EMP_log                      0.3633     0.0485     7.4856     0.0000      0.2681      0.4584\n",
      "GAS_PRICE_2018_log               0.2273     0.0217     10.493     0.0000      0.1848      0.2698\n",
      "TOTAL_MED_INC_INDIV_2018_log    -0.2599     0.0459    -5.6592     0.0000     -0.3499     -0.1698\n",
      "PCT_HH_NO_VEH                    0.0056     0.0027     2.0904     0.0367      0.0003      0.0108\n",
      "TSD_POP_PCT                      0.0072     0.0013     5.4898     0.0000      0.0046      0.0098\n",
      "JTW_HOME_PCT                    -0.0139     0.0034    -4.1128     0.0000     -0.0206     -0.0073\n",
      "MAINTENANCE_WMATA               -0.2179     0.1096    -1.9886     0.0468     -0.4328     -0.0031\n",
      "YEARS_SINCE_TNC_BUS             -0.0190     0.0036    -5.3065     0.0000     -0.0260     -0.0120\n",
      "YEARS_SINCE_TNC_RAIL             0.0027     0.0066     0.4132     0.6795     -0.0103      0.0158\n",
      "BIKE_SHARE_BUS                   0.0127     0.0119     1.0683     0.2855     -0.0106      0.0361\n",
      "scooter_flag_BUS                -0.0397     0.0257    -1.5453     0.1224     -0.0901      0.0107\n",
      "BIKE_SHARE_RAIL                 -0.0635     0.0253    -2.5068     0.0122     -0.1132     -0.0138\n",
      "scooter_flag_RAIL               -0.0446     0.0415    -1.0758     0.2821     -0.1260      0.0367\n",
      "================================================================================================\n",
      "\n",
      "F-test for Poolability: 120.37\n",
      "P-value: 0.0000\n",
      "Distribution: F(251,3479)\n",
      "\n",
      "Included effects: Entity\n"
     ]
    }
   ],
   "source": [
    "# simplified model\n",
    "# drops rail ramp up, rail competition, and immigrant population, which are all insignificant\n",
    "\n",
    "mod=PanelOLS.from_formula('UPT_ADJ_log \\\n",
    "                    ~ VRM_ADJ_log \\\n",
    "                    + FARE_per_UPT_2018_log \\\n",
    "                    + POP_EMP_log \\\n",
    "                    + GAS_PRICE_2018_log \\\n",
    "                    + TOTAL_MED_INC_INDIV_2018_log \\\n",
    "                    + PCT_HH_NO_VEH \\\n",
    "                    + TSD_POP_PCT \\\n",
    "                    + JTW_HOME_PCT \\\n",
    "                    + MAINTENANCE_WMATA \\\n",
    "                    + YEARS_SINCE_TNC_BUS \\\n",
    "                    + YEARS_SINCE_TNC_RAIL \\\n",
    "                    + BIKE_SHARE_BUS \\\n",
    "                    + scooter_flag_BUS \\\n",
    "                    + BIKE_SHARE_RAIL \\\n",
    "                    + scooter_flag_RAIL \\\n",
    "                    + EntityEffects \\\n",
    "                    ',data=df)\n",
    "res=mod.fit()\n",
    "print(res)"
   ]
  },
  {
   "cell_type": "code",
   "execution_count": 29,
   "metadata": {
    "collapsed": false
   },
   "outputs": [
    {
     "name": "stderr",
     "output_type": "stream",
     "text": [
      "C:\\Program Files\\Anaconda3\\lib\\site-packages\\linearmodels\\panel\\data.py:39: FutureWarning: \n",
      "Passing list-likes to .loc or [] with any missing label will raise\n",
      "KeyError in the future, you can use .reindex() as an alternative.\n",
      "\n",
      "See the documentation here:\n",
      "https://pandas.pydata.org/pandas-docs/stable/indexing.html#deprecate-loc-reindex-listlike\n",
      "  new_df = df.copy().loc[self._full_index]\n",
      "C:\\Program Files\\Anaconda3\\lib\\site-packages\\linearmodels\\utility.py:476: MissingValueWarning: \n",
      "Inputs contain missing values. Dropping rows with missing observations.\n",
      "  warnings.warn(missing_value_warning_msg, MissingValueWarning)\n"
     ]
    },
    {
     "name": "stdout",
     "output_type": "stream",
     "text": [
      "                          PanelOLS Estimation Summary                           \n",
      "================================================================================\n",
      "Dep. Variable:            UPT_ADJ_log   R-squared:                        0.6383\n",
      "Estimator:                   PanelOLS   R-squared (Between):              0.9927\n",
      "No. Observations:                3746   R-squared (Within):               0.6383\n",
      "Date:                Tue, Dec 17 2019   R-squared (Overall):              0.9926\n",
      "Time:                        11:31:26   Log-likelihood                    1959.6\n",
      "Cov. Estimator:            Unadjusted                                           \n",
      "                                        F-statistic:                      409.38\n",
      "Entities:                         252   P-value                           0.0000\n",
      "Avg Obs:                       14.865   Distribution:                 F(15,3479)\n",
      "Min Obs:                       1.0000                                           \n",
      "Max Obs:                       17.000   F-statistic (robust):             409.38\n",
      "                                        P-value                           0.0000\n",
      "Time periods:                      17   Distribution:                 F(15,3479)\n",
      "Avg Obs:                       220.35                                           \n",
      "Min Obs:                       144.00                                           \n",
      "Max Obs:                       249.00                                           \n",
      "                                                                                \n",
      "                                      Parameter Estimates                                       \n",
      "================================================================================================\n",
      "                              Parameter  Std. Err.     T-stat    P-value    Lower CI    Upper CI\n",
      "------------------------------------------------------------------------------------------------\n",
      "VRM_ADJ_log                      0.7814     0.0122     63.864     0.0000      0.7574      0.8053\n",
      "FARE_per_UPT_2018_log           -0.3594     0.0227    -15.802     0.0000     -0.4040     -0.3148\n",
      "POP_EMP_log                      0.3633     0.0486     7.4821     0.0000      0.2681      0.4585\n",
      "GAS_PRICE_2018_log               0.2280     0.0217     10.522     0.0000      0.1855      0.2705\n",
      "TOTAL_MED_INC_INDIV_2018_log    -0.2591     0.0459    -5.6393     0.0000     -0.3491     -0.1690\n",
      "PCT_HH_NO_VEH                    0.0056     0.0027     2.0819     0.0374      0.0003      0.0108\n",
      "TSD_POP_PCT                      0.0072     0.0013     5.5162     0.0000      0.0047      0.0098\n",
      "JTW_HOME_PCT                    -0.0139     0.0034    -4.0954     0.0000     -0.0205     -0.0072\n",
      "MAINTENANCE                     -0.0660     0.0704    -0.9372     0.3487     -0.2040      0.0721\n",
      "YEARS_SINCE_TNC_BUS             -0.0189     0.0036    -5.2881     0.0000     -0.0260     -0.0119\n",
      "YEARS_SINCE_TNC_RAIL             0.0011     0.0066     0.1659     0.8682     -0.0119      0.0141\n",
      "BIKE_SHARE_BUS                   0.0127     0.0119     1.0666     0.2862     -0.0106      0.0361\n",
      "scooter_flag_BUS                -0.0399     0.0257    -1.5523     0.1207     -0.0904      0.0105\n",
      "BIKE_SHARE_RAIL                 -0.0600     0.0253    -2.3725     0.0177     -0.1096     -0.0104\n",
      "scooter_flag_RAIL               -0.0389     0.0414    -0.9400     0.3473     -0.1201      0.0423\n",
      "================================================================================================\n",
      "\n",
      "F-test for Poolability: 120.20\n",
      "P-value: 0.0000\n",
      "Distribution: F(251,3479)\n",
      "\n",
      "Included effects: Entity\n"
     ]
    }
   ],
   "source": [
    "# model with combined maintenance\n",
    "\n",
    "mod=PanelOLS.from_formula('UPT_ADJ_log \\\n",
    "                    ~ VRM_ADJ_log \\\n",
    "                    + FARE_per_UPT_2018_log \\\n",
    "                    + POP_EMP_log \\\n",
    "                    + GAS_PRICE_2018_log \\\n",
    "                    + TOTAL_MED_INC_INDIV_2018_log \\\n",
    "                    + PCT_HH_NO_VEH \\\n",
    "                    + TSD_POP_PCT \\\n",
    "                    + JTW_HOME_PCT \\\n",
    "                    + MAINTENANCE \\\n",
    "                    + YEARS_SINCE_TNC_BUS \\\n",
    "                    + YEARS_SINCE_TNC_RAIL \\\n",
    "                    + BIKE_SHARE_BUS \\\n",
    "                    + scooter_flag_BUS \\\n",
    "                    + BIKE_SHARE_RAIL \\\n",
    "                    + scooter_flag_RAIL \\\n",
    "                    + EntityEffects \\\n",
    "                    ',data=df)\n",
    "res=mod.fit()\n",
    "print(res)"
   ]
  },
  {
   "cell_type": "code",
   "execution_count": 30,
   "metadata": {
    "collapsed": false
   },
   "outputs": [
    {
     "name": "stderr",
     "output_type": "stream",
     "text": [
      "C:\\Program Files\\Anaconda3\\lib\\site-packages\\linearmodels\\panel\\data.py:39: FutureWarning: \n",
      "Passing list-likes to .loc or [] with any missing label will raise\n",
      "KeyError in the future, you can use .reindex() as an alternative.\n",
      "\n",
      "See the documentation here:\n",
      "https://pandas.pydata.org/pandas-docs/stable/indexing.html#deprecate-loc-reindex-listlike\n",
      "  new_df = df.copy().loc[self._full_index]\n",
      "C:\\Program Files\\Anaconda3\\lib\\site-packages\\linearmodels\\utility.py:476: MissingValueWarning: \n",
      "Inputs contain missing values. Dropping rows with missing observations.\n",
      "  warnings.warn(missing_value_warning_msg, MissingValueWarning)\n"
     ]
    },
    {
     "name": "stdout",
     "output_type": "stream",
     "text": [
      "                          PanelOLS Estimation Summary                           \n",
      "================================================================================\n",
      "Dep. Variable:            UPT_ADJ_log   R-squared:                        0.6383\n",
      "Estimator:                   PanelOLS   R-squared (Between):              0.9927\n",
      "No. Observations:                3746   R-squared (Within):               0.6383\n",
      "Date:                Tue, Dec 17 2019   R-squared (Overall):              0.9926\n",
      "Time:                        11:31:26   Log-likelihood                    1959.1\n",
      "Cov. Estimator:            Unadjusted                                           \n",
      "                                        F-statistic:                      438.57\n",
      "Entities:                         252   P-value                           0.0000\n",
      "Avg Obs:                       14.865   Distribution:                 F(14,3480)\n",
      "Min Obs:                       1.0000                                           \n",
      "Max Obs:                       17.000   F-statistic (robust):             438.57\n",
      "                                        P-value                           0.0000\n",
      "Time periods:                      17   Distribution:                 F(14,3480)\n",
      "Avg Obs:                       220.35                                           \n",
      "Min Obs:                       144.00                                           \n",
      "Max Obs:                       249.00                                           \n",
      "                                                                                \n",
      "                                      Parameter Estimates                                       \n",
      "================================================================================================\n",
      "                              Parameter  Std. Err.     T-stat    P-value    Lower CI    Upper CI\n",
      "------------------------------------------------------------------------------------------------\n",
      "VRM_ADJ_log                      0.7817     0.0122     63.918     0.0000      0.7577      0.8057\n",
      "FARE_per_UPT_2018_log           -0.3598     0.0227    -15.824     0.0000     -0.4044     -0.3152\n",
      "POP_EMP_log                      0.3632     0.0486     7.4798     0.0000      0.2680      0.4583\n",
      "GAS_PRICE_2018_log               0.2282     0.0217     10.530     0.0000      0.1857      0.2706\n",
      "TOTAL_MED_INC_INDIV_2018_log    -0.2592     0.0459    -5.6421     0.0000     -0.3492     -0.1691\n",
      "PCT_HH_NO_VEH                    0.0056     0.0027     2.0855     0.0371      0.0003      0.0108\n",
      "TSD_POP_PCT                      0.0073     0.0013     5.5398     0.0000      0.0047      0.0099\n",
      "JTW_HOME_PCT                    -0.0139     0.0034    -4.1015     0.0000     -0.0206     -0.0073\n",
      "YEARS_SINCE_TNC_BUS             -0.0189     0.0036    -5.2881     0.0000     -0.0260     -0.0119\n",
      "YEARS_SINCE_TNC_RAIL            -0.0002     0.0065    -0.0378     0.9699     -0.0129      0.0124\n",
      "BIKE_SHARE_BUS                   0.0128     0.0119     1.0746     0.2826     -0.0106      0.0362\n",
      "scooter_flag_BUS                -0.0399     0.0257    -1.5509     0.1210     -0.0903      0.0105\n",
      "BIKE_SHARE_RAIL                 -0.0578     0.0252    -2.2951     0.0218     -0.1071     -0.0084\n",
      "scooter_flag_RAIL               -0.0388     0.0414    -0.9373     0.3487     -0.1200      0.0424\n",
      "================================================================================================\n",
      "\n",
      "F-test for Poolability: 120.26\n",
      "P-value: 0.0000\n",
      "Distribution: F(251,3480)\n",
      "\n",
      "Included effects: Entity\n"
     ]
    }
   ],
   "source": [
    "# drop maintenance\n",
    "\n",
    "mod=PanelOLS.from_formula('UPT_ADJ_log \\\n",
    "                    ~ VRM_ADJ_log \\\n",
    "                    + FARE_per_UPT_2018_log \\\n",
    "                    + POP_EMP_log \\\n",
    "                    + GAS_PRICE_2018_log \\\n",
    "                    + TOTAL_MED_INC_INDIV_2018_log \\\n",
    "                    + PCT_HH_NO_VEH \\\n",
    "                    + TSD_POP_PCT \\\n",
    "                    + JTW_HOME_PCT \\\n",
    "                    + YEARS_SINCE_TNC_BUS \\\n",
    "                    + YEARS_SINCE_TNC_RAIL \\\n",
    "                    + BIKE_SHARE_BUS \\\n",
    "                    + scooter_flag_BUS \\\n",
    "                    + BIKE_SHARE_RAIL \\\n",
    "                    + scooter_flag_RAIL \\\n",
    "                    + EntityEffects \\\n",
    "                    ',data=df)\n",
    "res=mod.fit()\n",
    "print(res)"
   ]
  },
  {
   "cell_type": "code",
   "execution_count": 31,
   "metadata": {
    "collapsed": false
   },
   "outputs": [
    {
     "name": "stderr",
     "output_type": "stream",
     "text": [
      "C:\\Program Files\\Anaconda3\\lib\\site-packages\\linearmodels\\panel\\data.py:39: FutureWarning: \n",
      "Passing list-likes to .loc or [] with any missing label will raise\n",
      "KeyError in the future, you can use .reindex() as an alternative.\n",
      "\n",
      "See the documentation here:\n",
      "https://pandas.pydata.org/pandas-docs/stable/indexing.html#deprecate-loc-reindex-listlike\n",
      "  new_df = df.copy().loc[self._full_index]\n",
      "C:\\Program Files\\Anaconda3\\lib\\site-packages\\linearmodels\\utility.py:476: MissingValueWarning: \n",
      "Inputs contain missing values. Dropping rows with missing observations.\n",
      "  warnings.warn(missing_value_warning_msg, MissingValueWarning)\n"
     ]
    },
    {
     "name": "stdout",
     "output_type": "stream",
     "text": [
      "                          PanelOLS Estimation Summary                           \n",
      "================================================================================\n",
      "Dep. Variable:            UPT_ADJ_log   R-squared:                        0.6567\n",
      "Estimator:                   PanelOLS   R-squared (Between):              0.9743\n",
      "No. Observations:                3746   R-squared (Within):               0.6567\n",
      "Date:                Tue, Dec 17 2019   R-squared (Overall):              0.9760\n",
      "Time:                        11:31:27   Log-likelihood                    2056.9\n",
      "Cov. Estimator:            Unadjusted                                           \n",
      "                                        F-statistic:                      443.60\n",
      "Entities:                         252   P-value                           0.0000\n",
      "Avg Obs:                       14.865   Distribution:                 F(15,3479)\n",
      "Min Obs:                       1.0000                                           \n",
      "Max Obs:                       17.000   F-statistic (robust):             443.60\n",
      "                                        P-value                           0.0000\n",
      "Time periods:                      17   Distribution:                 F(15,3479)\n",
      "Avg Obs:                       220.35                                           \n",
      "Min Obs:                       144.00                                           \n",
      "Max Obs:                       249.00                                           \n",
      "                                                                                \n",
      "                                      Parameter Estimates                                       \n",
      "================================================================================================\n",
      "                              Parameter  Std. Err.     T-stat    P-value    Lower CI    Upper CI\n",
      "------------------------------------------------------------------------------------------------\n",
      "VRM_ADJ_BUS_log                  0.8694     0.0135     64.231     0.0000      0.8428      0.8959\n",
      "VRM_ADJ_RAIL_log                 0.5031     0.0236     21.303     0.0000      0.4568      0.5495\n",
      "FARE_per_UPT_2018_log           -0.3589     0.0222    -16.199     0.0000     -0.4023     -0.3155\n",
      "POP_EMP_log                      0.3096     0.0475     6.5229     0.0000      0.2166      0.4027\n",
      "GAS_PRICE_2018_log               0.2216     0.0211     10.494     0.0000      0.1802      0.2630\n",
      "TOTAL_MED_INC_INDIV_2018_log    -0.2413     0.0448    -5.3881     0.0000     -0.3291     -0.1535\n",
      "PCT_HH_NO_VEH                    0.0054     0.0026     2.0862     0.0370      0.0003      0.0105\n",
      "TSD_POP_PCT                      0.0049     0.0013     3.7845     0.0002      0.0024      0.0074\n",
      "JTW_HOME_PCT                    -0.0142     0.0033    -4.3087     0.0000     -0.0207     -0.0078\n",
      "YEARS_SINCE_TNC_BUS             -0.0215     0.0035    -6.1491     0.0000     -0.0283     -0.0146\n",
      "YEARS_SINCE_TNC_RAIL             0.0099     0.0063     1.5629     0.1182     -0.0025      0.0224\n",
      "BIKE_SHARE_BUS                   0.0093     0.0116     0.7980     0.4249     -0.0135      0.0320\n",
      "scooter_flag_BUS                -0.0343     0.0251    -1.3693     0.1710     -0.0835      0.0148\n",
      "BIKE_SHARE_RAIL              -3.468e-05     0.0249    -0.0014     0.9989     -0.0488      0.0488\n",
      "scooter_flag_RAIL               -0.0451     0.0403    -1.1192     0.2631     -0.1242      0.0339\n",
      "================================================================================================\n",
      "\n",
      "F-test for Poolability: 118.51\n",
      "P-value: 0.0000\n",
      "Distribution: F(251,3479)\n",
      "\n",
      "Included effects: Entity\n"
     ]
    }
   ],
   "source": [
    "# segment VRM by bus vs rail -- don't keep this.\n",
    "\n",
    "df['VRM_ADJ_BUS_log'] = df['VRM_ADJ_log'] * df['BUS_FLAG']\n",
    "df['VRM_ADJ_RAIL_log'] = df['VRM_ADJ_log'] * df['RAIL_FLAG']\n",
    "\n",
    "mod=PanelOLS.from_formula('UPT_ADJ_log \\\n",
    "                    ~ VRM_ADJ_BUS_log \\\n",
    "                    + VRM_ADJ_RAIL_log \\\n",
    "                    + FARE_per_UPT_2018_log \\\n",
    "                    + POP_EMP_log \\\n",
    "                    + GAS_PRICE_2018_log \\\n",
    "                    + TOTAL_MED_INC_INDIV_2018_log \\\n",
    "                    + PCT_HH_NO_VEH \\\n",
    "                    + TSD_POP_PCT \\\n",
    "                    + JTW_HOME_PCT \\\n",
    "                    + YEARS_SINCE_TNC_BUS \\\n",
    "                    + YEARS_SINCE_TNC_RAIL \\\n",
    "                    + BIKE_SHARE_BUS \\\n",
    "                    + scooter_flag_BUS \\\n",
    "                    + BIKE_SHARE_RAIL \\\n",
    "                    + scooter_flag_RAIL \\\n",
    "                    + EntityEffects \\\n",
    "                    ',data=df)\n",
    "res=mod.fit()\n",
    "print(res)"
   ]
  },
  {
   "cell_type": "code",
   "execution_count": 32,
   "metadata": {
    "collapsed": false
   },
   "outputs": [
    {
     "name": "stderr",
     "output_type": "stream",
     "text": [
      "C:\\Program Files\\Anaconda3\\lib\\site-packages\\linearmodels\\panel\\data.py:39: FutureWarning: \n",
      "Passing list-likes to .loc or [] with any missing label will raise\n",
      "KeyError in the future, you can use .reindex() as an alternative.\n",
      "\n",
      "See the documentation here:\n",
      "https://pandas.pydata.org/pandas-docs/stable/indexing.html#deprecate-loc-reindex-listlike\n",
      "  new_df = df.copy().loc[self._full_index]\n",
      "C:\\Program Files\\Anaconda3\\lib\\site-packages\\linearmodels\\utility.py:476: MissingValueWarning: \n",
      "Inputs contain missing values. Dropping rows with missing observations.\n",
      "  warnings.warn(missing_value_warning_msg, MissingValueWarning)\n"
     ]
    },
    {
     "name": "stdout",
     "output_type": "stream",
     "text": [
      "                          PanelOLS Estimation Summary                           \n",
      "================================================================================\n",
      "Dep. Variable:            UPT_ADJ_log   R-squared:                        0.6582\n",
      "Estimator:                   PanelOLS   R-squared (Between):              0.9768\n",
      "No. Observations:                3746   R-squared (Within):               0.6582\n",
      "Date:                Tue, Dec 17 2019   R-squared (Overall):              0.9784\n",
      "Time:                        11:31:27   Log-likelihood                    2065.1\n",
      "Cov. Estimator:            Unadjusted                                           \n",
      "                                        F-statistic:                      371.80\n",
      "Entities:                         252   P-value                           0.0000\n",
      "Avg Obs:                       14.865   Distribution:                 F(18,3476)\n",
      "Min Obs:                       1.0000                                           \n",
      "Max Obs:                       17.000   F-statistic (robust):             371.80\n",
      "                                        P-value                           0.0000\n",
      "Time periods:                      17   Distribution:                 F(18,3476)\n",
      "Avg Obs:                       220.35                                           \n",
      "Min Obs:                       144.00                                           \n",
      "Max Obs:                       249.00                                           \n",
      "                                                                                \n",
      "                                      Parameter Estimates                                       \n",
      "================================================================================================\n",
      "                              Parameter  Std. Err.     T-stat    P-value    Lower CI    Upper CI\n",
      "------------------------------------------------------------------------------------------------\n",
      "VRM_ADJ_BUS_log                  0.8702     0.0136     64.155     0.0000      0.8436      0.8967\n",
      "VRM_ADJ_RAIL_log                 0.5126     0.0237     21.607     0.0000      0.4661      0.5591\n",
      "FARE_per_UPT_2018_log           -0.3598     0.0221    -16.265     0.0000     -0.4031     -0.3164\n",
      "POP_EMP_log                      0.3194     0.0476     6.7096     0.0000      0.2261      0.4128\n",
      "GAS_PRICE_2018_log               0.2166     0.0212     10.235     0.0000      0.1751      0.2581\n",
      "TOTAL_MED_INC_INDIV_2018_log    -0.2416     0.0447    -5.4036     0.0000     -0.3293     -0.1539\n",
      "PCT_HH_NO_VEH                    0.0051     0.0026     1.9466     0.0517  -3.661e-05      0.0102\n",
      "TSD_POP_PCT                      0.0052     0.0013     4.0286     0.0001      0.0027      0.0078\n",
      "JTW_HOME_PCT                    -0.0134     0.0033    -4.0585     0.0001     -0.0199     -0.0069\n",
      "YEARS_SINCE_TNC_BUS_HINY        -0.0167     0.0051    -3.2916     0.0010     -0.0267     -0.0068\n",
      "YEARS_SINCE_TNC_BUS_MID         -0.0255     0.0050    -5.0593     0.0000     -0.0353     -0.0156\n",
      "YEARS_SINCE_TNC_BUS_LOW         -0.0228     0.0043    -5.2618     0.0000     -0.0313     -0.0143\n",
      "YEARS_SINCE_TNC_RAIL_HINY        0.0167     0.0066     2.5187     0.0118      0.0037      0.0297\n",
      "YEARS_SINCE_TNC_RAIL_MID        -0.0170     0.0097    -1.7420     0.0816     -0.0361      0.0021\n",
      "BIKE_SHARE_BUS                   0.0088     0.0116     0.7555     0.4500     -0.0140      0.0316\n",
      "scooter_flag_BUS                -0.0364     0.0255    -1.4280     0.1534     -0.0863      0.0136\n",
      "BIKE_SHARE_RAIL                 -0.0009     0.0248    -0.0381     0.9696     -0.0497      0.0478\n",
      "scooter_flag_RAIL               -0.0486     0.0403    -1.2059     0.2279     -0.1275      0.0304\n",
      "================================================================================================\n",
      "\n",
      "F-test for Poolability: 118.67\n",
      "P-value: 0.0000\n",
      "Distribution: F(251,3476)\n",
      "\n",
      "Included effects: Entity\n"
     ]
    }
   ],
   "source": [
    "# segment TNCS cluster\n",
    "\n",
    "mod=PanelOLS.from_formula('UPT_ADJ_log \\\n",
    "                    ~ VRM_ADJ_BUS_log \\\n",
    "                    + VRM_ADJ_RAIL_log \\\n",
    "                    + FARE_per_UPT_2018_log \\\n",
    "                    + POP_EMP_log \\\n",
    "                    + GAS_PRICE_2018_log \\\n",
    "                    + TOTAL_MED_INC_INDIV_2018_log \\\n",
    "                    + PCT_HH_NO_VEH \\\n",
    "                    + TSD_POP_PCT \\\n",
    "                    + JTW_HOME_PCT \\\n",
    "                    + YEARS_SINCE_TNC_BUS_HINY \\\n",
    "                    + YEARS_SINCE_TNC_BUS_MID \\\n",
    "                    + YEARS_SINCE_TNC_BUS_LOW \\\n",
    "                    + YEARS_SINCE_TNC_RAIL_HINY \\\n",
    "                    + YEARS_SINCE_TNC_RAIL_MID \\\n",
    "                    + BIKE_SHARE_BUS \\\n",
    "                    + scooter_flag_BUS \\\n",
    "                    + BIKE_SHARE_RAIL \\\n",
    "                    + scooter_flag_RAIL \\\n",
    "                    + EntityEffects \\\n",
    "                    ',data=df)\n",
    "res=mod.fit()\n",
    "print(res)"
   ]
  },
  {
   "cell_type": "code",
   "execution_count": 35,
   "metadata": {
    "collapsed": false
   },
   "outputs": [
    {
     "name": "stderr",
     "output_type": "stream",
     "text": [
      "C:\\Program Files\\Anaconda3\\lib\\site-packages\\linearmodels\\panel\\data.py:39: FutureWarning: \n",
      "Passing list-likes to .loc or [] with any missing label will raise\n",
      "KeyError in the future, you can use .reindex() as an alternative.\n",
      "\n",
      "See the documentation here:\n",
      "https://pandas.pydata.org/pandas-docs/stable/indexing.html#deprecate-loc-reindex-listlike\n",
      "  new_df = df.copy().loc[self._full_index]\n",
      "C:\\Program Files\\Anaconda3\\lib\\site-packages\\linearmodels\\utility.py:476: MissingValueWarning: \n",
      "Inputs contain missing values. Dropping rows with missing observations.\n",
      "  warnings.warn(missing_value_warning_msg, MissingValueWarning)\n"
     ]
    },
    {
     "name": "stdout",
     "output_type": "stream",
     "text": [
      "                          PanelOLS Estimation Summary                           \n",
      "================================================================================\n",
      "Dep. Variable:            UPT_ADJ_log   R-squared:                        0.6408\n",
      "Estimator:                   PanelOLS   R-squared (Between):              0.9942\n",
      "No. Observations:                3746   R-squared (Within):               0.6408\n",
      "Date:                Tue, Dec 17 2019   R-squared (Overall):              0.9941\n",
      "Time:                        11:32:17   Log-likelihood                    1972.2\n",
      "Cov. Estimator:            Unadjusted                                           \n",
      "                                        F-statistic:                      364.85\n",
      "Entities:                         252   P-value                           0.0000\n",
      "Avg Obs:                       14.865   Distribution:                 F(17,3477)\n",
      "Min Obs:                       1.0000                                           \n",
      "Max Obs:                       17.000   F-statistic (robust):             364.85\n",
      "                                        P-value                           0.0000\n",
      "Time periods:                      17   Distribution:                 F(17,3477)\n",
      "Avg Obs:                       220.35                                           \n",
      "Min Obs:                       144.00                                           \n",
      "Max Obs:                       249.00                                           \n",
      "                                                                                \n",
      "                                      Parameter Estimates                                       \n",
      "================================================================================================\n",
      "                              Parameter  Std. Err.     T-stat    P-value    Lower CI    Upper CI\n",
      "------------------------------------------------------------------------------------------------\n",
      "VRM_ADJ_log                      0.7850     0.0123     64.067     0.0000      0.7610      0.8090\n",
      "FARE_per_UPT_2018_log           -0.3607     0.0227    -15.912     0.0000     -0.4052     -0.3163\n",
      "POP_EMP_log                      0.3711     0.0486     7.6305     0.0000      0.2757      0.4664\n",
      "GAS_PRICE_2018_log               0.2225     0.0217     10.260     0.0000      0.1800      0.2650\n",
      "TOTAL_MED_INC_INDIV_2018_log    -0.2594     0.0458    -5.6626     0.0000     -0.3492     -0.1696\n",
      "PCT_HH_NO_VEH                    0.0051     0.0027     1.9019     0.0573     -0.0002      0.0103\n",
      "TSD_POP_PCT                      0.0076     0.0013     5.7472     0.0000      0.0050      0.0101\n",
      "JTW_HOME_PCT                    -0.0130     0.0034    -3.8338     0.0001     -0.0196     -0.0064\n",
      "YEARS_SINCE_TNC_BUS_HINY        -0.0155     0.0052    -2.9836     0.0029     -0.0257     -0.0053\n",
      "YEARS_SINCE_TNC_BUS_MID         -0.0236     0.0052    -4.5792     0.0000     -0.0337     -0.0135\n",
      "YEARS_SINCE_TNC_BUS_LOW         -0.0194     0.0044    -4.3750     0.0000     -0.0281     -0.0107\n",
      "YEARS_SINCE_TNC_RAIL_HINY        0.0093     0.0068     1.3778     0.1684     -0.0039      0.0226\n",
      "YEARS_SINCE_TNC_RAIL_MID        -0.0361     0.0099    -3.6593     0.0003     -0.0555     -0.0168\n",
      "BIKE_SHARE_BUS                   0.0126     0.0119     1.0549     0.2915     -0.0108      0.0359\n",
      "scooter_flag_BUS                -0.0398     0.0261    -1.5233     0.1278     -0.0910      0.0114\n",
      "BIKE_SHARE_RAIL                 -0.0570     0.0251    -2.2689     0.0233     -0.1062     -0.0077\n",
      "scooter_flag_RAIL               -0.0436     0.0413    -1.0566     0.2908     -0.1246      0.0373\n",
      "================================================================================================\n",
      "\n",
      "F-test for Poolability: 121.06\n",
      "P-value: 0.0000\n",
      "Distribution: F(251,3477)\n",
      "\n",
      "Included effects: Entity\n"
     ]
    }
   ],
   "source": [
    "# same thing but without the VRM segmentation\n",
    "\n",
    "mod=PanelOLS.from_formula('UPT_ADJ_log \\\n",
    "                    ~ VRM_ADJ_log \\\n",
    "                    + FARE_per_UPT_2018_log \\\n",
    "                    + POP_EMP_log \\\n",
    "                    + GAS_PRICE_2018_log \\\n",
    "                    + TOTAL_MED_INC_INDIV_2018_log \\\n",
    "                    + PCT_HH_NO_VEH \\\n",
    "                    + TSD_POP_PCT \\\n",
    "                    + JTW_HOME_PCT \\\n",
    "                    + YEARS_SINCE_TNC_BUS_HINY \\\n",
    "                    + YEARS_SINCE_TNC_BUS_MID \\\n",
    "                    + YEARS_SINCE_TNC_BUS_LOW \\\n",
    "                    + YEARS_SINCE_TNC_RAIL_HINY \\\n",
    "                    + YEARS_SINCE_TNC_RAIL_MID \\\n",
    "                    + BIKE_SHARE_BUS \\\n",
    "                    + scooter_flag_BUS \\\n",
    "                    + BIKE_SHARE_RAIL \\\n",
    "                    + scooter_flag_RAIL \\\n",
    "                    + EntityEffects \\\n",
    "                    ',data=df)\n",
    "res=mod.fit()\n",
    "print(res)"
   ]
  },
  {
   "cell_type": "code",
   "execution_count": 36,
   "metadata": {
    "collapsed": false
   },
   "outputs": [
    {
     "name": "stderr",
     "output_type": "stream",
     "text": [
      "C:\\Program Files\\Anaconda3\\lib\\site-packages\\linearmodels\\panel\\data.py:39: FutureWarning: \n",
      "Passing list-likes to .loc or [] with any missing label will raise\n",
      "KeyError in the future, you can use .reindex() as an alternative.\n",
      "\n",
      "See the documentation here:\n",
      "https://pandas.pydata.org/pandas-docs/stable/indexing.html#deprecate-loc-reindex-listlike\n",
      "  new_df = df.copy().loc[self._full_index]\n",
      "C:\\Program Files\\Anaconda3\\lib\\site-packages\\linearmodels\\utility.py:476: MissingValueWarning: \n",
      "Inputs contain missing values. Dropping rows with missing observations.\n",
      "  warnings.warn(missing_value_warning_msg, MissingValueWarning)\n"
     ]
    },
    {
     "name": "stdout",
     "output_type": "stream",
     "text": [
      "                          PanelOLS Estimation Summary                           \n",
      "================================================================================\n",
      "Dep. Variable:            UPT_ADJ_log   R-squared:                        0.6401\n",
      "Estimator:                   PanelOLS   R-squared (Between):              0.9944\n",
      "No. Observations:                3746   R-squared (Within):               0.6401\n",
      "Date:                Tue, Dec 17 2019   R-squared (Overall):              0.9943\n",
      "Time:                        11:32:39   Log-likelihood                    1968.8\n",
      "Cov. Estimator:            Unadjusted                                           \n",
      "                                        F-statistic:                      412.56\n",
      "Entities:                         252   P-value                           0.0000\n",
      "Avg Obs:                       14.865   Distribution:                 F(15,3479)\n",
      "Min Obs:                       1.0000                                           \n",
      "Max Obs:                       17.000   F-statistic (robust):             412.56\n",
      "                                        P-value                           0.0000\n",
      "Time periods:                      17   Distribution:                 F(15,3479)\n",
      "Avg Obs:                       220.35                                           \n",
      "Min Obs:                       144.00                                           \n",
      "Max Obs:                       249.00                                           \n",
      "                                                                                \n",
      "                                      Parameter Estimates                                       \n",
      "================================================================================================\n",
      "                              Parameter  Std. Err.     T-stat    P-value    Lower CI    Upper CI\n",
      "------------------------------------------------------------------------------------------------\n",
      "VRM_ADJ_log                      0.7825     0.0122     64.037     0.0000      0.7586      0.8065\n",
      "FARE_per_UPT_2018_log           -0.3632     0.0227    -16.032     0.0000     -0.4076     -0.3188\n",
      "POP_EMP_log                      0.3750     0.0486     7.7116     0.0000      0.2797      0.4704\n",
      "GAS_PRICE_2018_log               0.2225     0.0217     10.256     0.0000      0.1800      0.2651\n",
      "TOTAL_MED_INC_INDIV_2018_log    -0.2586     0.0458    -5.6436     0.0000     -0.3485     -0.1688\n",
      "PCT_HH_NO_VEH                    0.0053     0.0027     1.9694     0.0490   2.335e-05      0.0105\n",
      "TSD_POP_PCT                      0.0076     0.0013     5.7444     0.0000      0.0050      0.0101\n",
      "JTW_HOME_PCT                    -0.0129     0.0034    -3.8130     0.0001     -0.0196     -0.0063\n",
      "YEARS_SINCE_TNC_BUS_HINY        -0.0135     0.0051    -2.6581     0.0079     -0.0235     -0.0035\n",
      "YEARS_SINCE_TNC_BUS_MID         -0.0216     0.0050    -4.2694     0.0000     -0.0315     -0.0117\n",
      "YEARS_SINCE_TNC_BUS_LOW         -0.0177     0.0044    -4.0377     0.0001     -0.0262     -0.0091\n",
      "YEARS_SINCE_TNC_RAIL_HINY       -0.0003     0.0052    -0.0552     0.9560     -0.0104      0.0098\n",
      "YEARS_SINCE_TNC_RAIL_MID        -0.0460     0.0089    -5.1938     0.0000     -0.0634     -0.0286\n",
      "BIKE_SHARE                   -2.501e-05     0.0108    -0.0023     0.9982     -0.0212      0.0212\n",
      "scooter_flag                    -0.0385     0.0222    -1.7347     0.0829     -0.0819      0.0050\n",
      "================================================================================================\n",
      "\n",
      "F-test for Poolability: 122.30\n",
      "P-value: 0.0000\n",
      "Distribution: F(251,3479)\n",
      "\n",
      "Included effects: Entity\n"
     ]
    }
   ],
   "source": [
    "# merge bike and scooter\n",
    "\n",
    "mod=PanelOLS.from_formula('UPT_ADJ_log \\\n",
    "                    ~ VRM_ADJ_log \\\n",
    "                    + FARE_per_UPT_2018_log \\\n",
    "                    + POP_EMP_log \\\n",
    "                    + GAS_PRICE_2018_log \\\n",
    "                    + TOTAL_MED_INC_INDIV_2018_log \\\n",
    "                    + PCT_HH_NO_VEH \\\n",
    "                    + TSD_POP_PCT \\\n",
    "                    + JTW_HOME_PCT \\\n",
    "                    + YEARS_SINCE_TNC_BUS_HINY \\\n",
    "                    + YEARS_SINCE_TNC_BUS_MID \\\n",
    "                    + YEARS_SINCE_TNC_BUS_LOW \\\n",
    "                    + YEARS_SINCE_TNC_RAIL_HINY \\\n",
    "                    + YEARS_SINCE_TNC_RAIL_MID \\\n",
    "                    + BIKE_SHARE \\\n",
    "                    + scooter_flag \\\n",
    "                    + EntityEffects \\\n",
    "                    ',data=df)\n",
    "res=mod.fit()\n",
    "print(res)"
   ]
  },
  {
   "cell_type": "code",
   "execution_count": 37,
   "metadata": {
    "collapsed": false
   },
   "outputs": [
    {
     "name": "stderr",
     "output_type": "stream",
     "text": [
      "C:\\Program Files\\Anaconda3\\lib\\site-packages\\linearmodels\\panel\\data.py:39: FutureWarning: \n",
      "Passing list-likes to .loc or [] with any missing label will raise\n",
      "KeyError in the future, you can use .reindex() as an alternative.\n",
      "\n",
      "See the documentation here:\n",
      "https://pandas.pydata.org/pandas-docs/stable/indexing.html#deprecate-loc-reindex-listlike\n",
      "  new_df = df.copy().loc[self._full_index]\n",
      "C:\\Program Files\\Anaconda3\\lib\\site-packages\\linearmodels\\utility.py:476: MissingValueWarning: \n",
      "Inputs contain missing values. Dropping rows with missing observations.\n",
      "  warnings.warn(missing_value_warning_msg, MissingValueWarning)\n"
     ]
    },
    {
     "name": "stdout",
     "output_type": "stream",
     "text": [
      "                          PanelOLS Estimation Summary                           \n",
      "================================================================================\n",
      "Dep. Variable:            UPT_ADJ_log   R-squared:                        0.6401\n",
      "Estimator:                   PanelOLS   R-squared (Between):              0.9945\n",
      "No. Observations:                3746   R-squared (Within):               0.6401\n",
      "Date:                Tue, Dec 17 2019   R-squared (Overall):              0.9944\n",
      "Time:                        11:32:47   Log-likelihood                    1968.6\n",
      "Cov. Estimator:            Unadjusted                                           \n",
      "                                        F-statistic:                      442.05\n",
      "Entities:                         252   P-value                           0.0000\n",
      "Avg Obs:                       14.865   Distribution:                 F(14,3480)\n",
      "Min Obs:                       1.0000                                           \n",
      "Max Obs:                       17.000   F-statistic (robust):             442.05\n",
      "                                        P-value                           0.0000\n",
      "Time periods:                      17   Distribution:                 F(14,3480)\n",
      "Avg Obs:                       220.35                                           \n",
      "Min Obs:                       144.00                                           \n",
      "Max Obs:                       249.00                                           \n",
      "                                                                                \n",
      "                                      Parameter Estimates                                       \n",
      "================================================================================================\n",
      "                              Parameter  Std. Err.     T-stat    P-value    Lower CI    Upper CI\n",
      "------------------------------------------------------------------------------------------------\n",
      "VRM_ADJ_log                      0.7831     0.0122     64.227     0.0000      0.7592      0.8070\n",
      "FARE_per_UPT_2018_log           -0.3632     0.0227    -16.030     0.0000     -0.4076     -0.3187\n",
      "POP_EMP_log                      0.3749     0.0486     7.7090     0.0000      0.2795      0.4702\n",
      "GAS_PRICE_2018_log               0.2226     0.0217     10.262     0.0000      0.1801      0.2652\n",
      "TOTAL_MED_INC_INDIV_2018_log    -0.2579     0.0458    -5.6288     0.0000     -0.3477     -0.1681\n",
      "PCT_HH_NO_VEH                    0.0053     0.0027     1.9935     0.0463    8.75e-05      0.0105\n",
      "TSD_POP_PCT                      0.0076     0.0013     5.7918     0.0000      0.0050      0.0102\n",
      "JTW_HOME_PCT                    -0.0130     0.0034    -3.8214     0.0001     -0.0196     -0.0063\n",
      "YEARS_SINCE_TNC_BUS_HINY        -0.0133     0.0051    -2.6152     0.0090     -0.0232     -0.0033\n",
      "YEARS_SINCE_TNC_BUS_MIDLOW      -0.0192     0.0038    -5.0783     0.0000     -0.0266     -0.0118\n",
      "YEARS_SINCE_TNC_RAIL_HINY    -6.738e-05     0.0051    -0.0131     0.9895     -0.0101      0.0100\n",
      "YEARS_SINCE_TNC_RAIL_MIDLOW     -0.0458     0.0089    -5.1770     0.0000     -0.0632     -0.0285\n",
      "BIKE_SHARE                      -0.0005     0.0108    -0.0463     0.9631     -0.0217      0.0207\n",
      "scooter_flag                    -0.0405     0.0220    -1.8418     0.0656     -0.0836      0.0026\n",
      "================================================================================================\n",
      "\n",
      "F-test for Poolability: 122.32\n",
      "P-value: 0.0000\n",
      "Distribution: F(251,3480)\n",
      "\n",
      "Included effects: Entity\n"
     ]
    }
   ],
   "source": [
    "# merge low and mid TNCs\n",
    "\n",
    "mod=PanelOLS.from_formula('UPT_ADJ_log \\\n",
    "                    ~ VRM_ADJ_log \\\n",
    "                    + FARE_per_UPT_2018_log \\\n",
    "                    + POP_EMP_log \\\n",
    "                    + GAS_PRICE_2018_log \\\n",
    "                    + TOTAL_MED_INC_INDIV_2018_log \\\n",
    "                    + PCT_HH_NO_VEH \\\n",
    "                    + TSD_POP_PCT \\\n",
    "                    + JTW_HOME_PCT \\\n",
    "                    + YEARS_SINCE_TNC_BUS_HINY \\\n",
    "                    + YEARS_SINCE_TNC_BUS_MIDLOW \\\n",
    "                    + YEARS_SINCE_TNC_RAIL_HINY \\\n",
    "                    + YEARS_SINCE_TNC_RAIL_MIDLOW \\\n",
    "                    + BIKE_SHARE \\\n",
    "                    + scooter_flag \\\n",
    "                    + EntityEffects \\\n",
    "                    ',data=df)\n",
    "res=mod.fit()\n",
    "print(res)"
   ]
  },
  {
   "cell_type": "code",
   "execution_count": 38,
   "metadata": {
    "collapsed": false
   },
   "outputs": [
    {
     "name": "stderr",
     "output_type": "stream",
     "text": [
      "C:\\Program Files\\Anaconda3\\lib\\site-packages\\linearmodels\\panel\\data.py:39: FutureWarning: \n",
      "Passing list-likes to .loc or [] with any missing label will raise\n",
      "KeyError in the future, you can use .reindex() as an alternative.\n",
      "\n",
      "See the documentation here:\n",
      "https://pandas.pydata.org/pandas-docs/stable/indexing.html#deprecate-loc-reindex-listlike\n",
      "  new_df = df.copy().loc[self._full_index]\n",
      "C:\\Program Files\\Anaconda3\\lib\\site-packages\\linearmodels\\utility.py:476: MissingValueWarning: \n",
      "Inputs contain missing values. Dropping rows with missing observations.\n",
      "  warnings.warn(missing_value_warning_msg, MissingValueWarning)\n"
     ]
    },
    {
     "name": "stdout",
     "output_type": "stream",
     "text": [
      "                          PanelOLS Estimation Summary                           \n",
      "================================================================================\n",
      "Dep. Variable:            UPT_ADJ_log   R-squared:                        0.6581\n",
      "Estimator:                   PanelOLS   R-squared (Between):              0.9768\n",
      "No. Observations:                3746   R-squared (Within):               0.6581\n",
      "Date:                Tue, Dec 17 2019   R-squared (Overall):              0.9784\n",
      "Time:                        11:32:58   Log-likelihood                    2064.9\n",
      "Cov. Estimator:            Unadjusted                                           \n",
      "                                        F-statistic:                      446.46\n",
      "Entities:                         252   P-value                           0.0000\n",
      "Avg Obs:                       14.865   Distribution:                 F(15,3479)\n",
      "Min Obs:                       1.0000                                           \n",
      "Max Obs:                       17.000   F-statistic (robust):             446.46\n",
      "                                        P-value                           0.0000\n",
      "Time periods:                      17   Distribution:                 F(15,3479)\n",
      "Avg Obs:                       220.35                                           \n",
      "Min Obs:                       144.00                                           \n",
      "Max Obs:                       249.00                                           \n",
      "                                                                                \n",
      "                                      Parameter Estimates                                       \n",
      "================================================================================================\n",
      "                              Parameter  Std. Err.     T-stat    P-value    Lower CI    Upper CI\n",
      "------------------------------------------------------------------------------------------------\n",
      "VRM_ADJ_BUS_log                  0.8706     0.0135     64.360     0.0000      0.8441      0.8971\n",
      "VRM_ADJ_RAIL_log                 0.5114     0.0233     21.943     0.0000      0.4657      0.5571\n",
      "FARE_per_UPT_2018_log           -0.3599     0.0221    -16.298     0.0000     -0.4032     -0.3166\n",
      "POP_EMP_log                      0.3194     0.0476     6.7135     0.0000      0.2261      0.4127\n",
      "GAS_PRICE_2018_log               0.2166     0.0212     10.242     0.0000      0.1752      0.2581\n",
      "TOTAL_MED_INC_INDIV_2018_log    -0.2411     0.0447    -5.3967     0.0000     -0.3287     -0.1535\n",
      "PCT_HH_NO_VEH                    0.0051     0.0026     1.9719     0.0487   2.925e-05      0.0102\n",
      "TSD_POP_PCT                      0.0052     0.0013     4.0525     0.0001      0.0027      0.0078\n",
      "JTW_HOME_PCT                    -0.0134     0.0033    -4.0659     0.0000     -0.0199     -0.0070\n",
      "YEARS_SINCE_TNC_BUS_HINY        -0.0161     0.0050    -3.2532     0.0012     -0.0258     -0.0064\n",
      "YEARS_SINCE_TNC_BUS_MIDLOW      -0.0235     0.0037    -6.3562     0.0000     -0.0308     -0.0163\n",
      "YEARS_SINCE_TNC_RAIL_HINY        0.0151     0.0051     2.9330     0.0034      0.0050      0.0251\n",
      "YEARS_SINCE_TNC_RAIL_MIDLOW     -0.0185     0.0089    -2.0933     0.0364     -0.0359     -0.0012\n",
      "BIKE_SHARE                       0.0068     0.0105     0.6485     0.5167     -0.0138      0.0275\n",
      "scooter_flag                    -0.0408     0.0214    -1.9055     0.0568     -0.0828      0.0012\n",
      "================================================================================================\n",
      "\n",
      "F-test for Poolability: 118.99\n",
      "P-value: 0.0000\n",
      "Distribution: F(251,3479)\n",
      "\n",
      "Included effects: Entity\n"
     ]
    }
   ],
   "source": [
    "# separate VRM\n",
    "\n",
    "mod=PanelOLS.from_formula('UPT_ADJ_log \\\n",
    "                    ~ VRM_ADJ_BUS_log \\\n",
    "                    + VRM_ADJ_RAIL_log \\\n",
    "                    + FARE_per_UPT_2018_log \\\n",
    "                    + POP_EMP_log \\\n",
    "                    + GAS_PRICE_2018_log \\\n",
    "                    + TOTAL_MED_INC_INDIV_2018_log \\\n",
    "                    + PCT_HH_NO_VEH \\\n",
    "                    + TSD_POP_PCT \\\n",
    "                    + JTW_HOME_PCT \\\n",
    "                    + YEARS_SINCE_TNC_BUS_HINY \\\n",
    "                    + YEARS_SINCE_TNC_BUS_MIDLOW \\\n",
    "                    + YEARS_SINCE_TNC_RAIL_HINY \\\n",
    "                    + YEARS_SINCE_TNC_RAIL_MIDLOW \\\n",
    "                    + BIKE_SHARE \\\n",
    "                    + scooter_flag \\\n",
    "                    + EntityEffects \\\n",
    "                    ',data=df)\n",
    "res=mod.fit()\n",
    "print(res)"
   ]
  },
  {
   "cell_type": "code",
   "execution_count": 39,
   "metadata": {
    "collapsed": false
   },
   "outputs": [
    {
     "name": "stderr",
     "output_type": "stream",
     "text": [
      "C:\\Program Files\\Anaconda3\\lib\\site-packages\\linearmodels\\panel\\data.py:39: FutureWarning: \n",
      "Passing list-likes to .loc or [] with any missing label will raise\n",
      "KeyError in the future, you can use .reindex() as an alternative.\n",
      "\n",
      "See the documentation here:\n",
      "https://pandas.pydata.org/pandas-docs/stable/indexing.html#deprecate-loc-reindex-listlike\n",
      "  new_df = df.copy().loc[self._full_index]\n",
      "C:\\Program Files\\Anaconda3\\lib\\site-packages\\linearmodels\\utility.py:476: MissingValueWarning: \n",
      "Inputs contain missing values. Dropping rows with missing observations.\n",
      "  warnings.warn(missing_value_warning_msg, MissingValueWarning)\n"
     ]
    },
    {
     "name": "stdout",
     "output_type": "stream",
     "text": [
      "                          PanelOLS Estimation Summary                           \n",
      "================================================================================\n",
      "Dep. Variable:            UPT_ADJ_log   R-squared:                        0.6615\n",
      "Estimator:                   PanelOLS   R-squared (Between):              0.9707\n",
      "No. Observations:                3746   R-squared (Within):               0.6615\n",
      "Date:                Tue, Dec 17 2019   R-squared (Overall):              0.9727\n",
      "Time:                        11:33:07   Log-likelihood                    2083.3\n",
      "Cov. Estimator:            Unadjusted                                           \n",
      "                                        F-statistic:                      424.73\n",
      "Entities:                         252   P-value                           0.0000\n",
      "Avg Obs:                       14.865   Distribution:                 F(16,3478)\n",
      "Min Obs:                       1.0000                                           \n",
      "Max Obs:                       17.000   F-statistic (robust):             424.73\n",
      "                                        P-value                           0.0000\n",
      "Time periods:                      17   Distribution:                 F(16,3478)\n",
      "Avg Obs:                       220.35                                           \n",
      "Min Obs:                       144.00                                           \n",
      "Max Obs:                       249.00                                           \n",
      "                                                                                \n",
      "                                      Parameter Estimates                                       \n",
      "================================================================================================\n",
      "                              Parameter  Std. Err.     T-stat    P-value    Lower CI    Upper CI\n",
      "------------------------------------------------------------------------------------------------\n",
      "VRM_ADJ_BUS_log                  0.8731     0.0135     64.822     0.0000      0.8467      0.8995\n",
      "VRM_ADJ_RAIL_log                 0.4920     0.0234     20.997     0.0000      0.4461      0.5380\n",
      "FARE_per_UPT_2018_BUS_log       -0.3171     0.0232    -13.692     0.0000     -0.3625     -0.2717\n",
      "FARE_per_UPT_2018_RAIL_log      -0.7406     0.0685    -10.811     0.0000     -0.8749     -0.6063\n",
      "POP_EMP_log                      0.3125     0.0474     6.5985     0.0000      0.2197      0.4054\n",
      "GAS_PRICE_2018_log               0.2168     0.0211     10.298     0.0000      0.1755      0.2581\n",
      "TOTAL_MED_INC_INDIV_2018_log    -0.2461     0.0445    -5.5339     0.0000     -0.3333     -0.1589\n",
      "PCT_HH_NO_VEH                    0.0050     0.0026     1.9242     0.0544  -9.419e-05      0.0101\n",
      "TSD_POP_PCT                      0.0051     0.0013     3.9512     0.0001      0.0026      0.0076\n",
      "JTW_HOME_PCT                    -0.0138     0.0033    -4.1806     0.0000     -0.0202     -0.0073\n",
      "YEARS_SINCE_TNC_BUS_HINY        -0.0167     0.0049    -3.3963     0.0007     -0.0264     -0.0071\n",
      "YEARS_SINCE_TNC_BUS_MIDLOW      -0.0241     0.0037    -6.5312     0.0000     -0.0313     -0.0168\n",
      "YEARS_SINCE_TNC_RAIL_HINY        0.0223     0.0053     4.2354     0.0000      0.0120      0.0326\n",
      "YEARS_SINCE_TNC_RAIL_MIDLOW     -0.0118     0.0089    -1.3211     0.1865     -0.0292      0.0057\n",
      "BIKE_SHARE                       0.0108     0.0105     1.0299     0.3031     -0.0098      0.0314\n",
      "scooter_flag                    -0.0467     0.0213    -2.1874     0.0288     -0.0886     -0.0048\n",
      "================================================================================================\n",
      "\n",
      "F-test for Poolability: 119.75\n",
      "P-value: 0.0000\n",
      "Distribution: F(251,3478)\n",
      "\n",
      "Included effects: Entity\n"
     ]
    }
   ],
   "source": [
    "# separate fares\n",
    "df['FARE_per_UPT_2018_BUS_log'] = df['FARE_per_UPT_2018_log'] * df['BUS_FLAG']\n",
    "df['FARE_per_UPT_2018_RAIL_log'] = df['FARE_per_UPT_2018_log'] * df['RAIL_FLAG']\n",
    "\n",
    "mod=PanelOLS.from_formula('UPT_ADJ_log \\\n",
    "                    ~ VRM_ADJ_BUS_log \\\n",
    "                    + VRM_ADJ_RAIL_log \\\n",
    "                    + FARE_per_UPT_2018_BUS_log \\\n",
    "                    + FARE_per_UPT_2018_RAIL_log \\\n",
    "                    + POP_EMP_log \\\n",
    "                    + GAS_PRICE_2018_log \\\n",
    "                    + TOTAL_MED_INC_INDIV_2018_log \\\n",
    "                    + PCT_HH_NO_VEH \\\n",
    "                    + TSD_POP_PCT \\\n",
    "                    + JTW_HOME_PCT \\\n",
    "                    + YEARS_SINCE_TNC_BUS_HINY \\\n",
    "                    + YEARS_SINCE_TNC_BUS_MIDLOW \\\n",
    "                    + YEARS_SINCE_TNC_RAIL_HINY \\\n",
    "                    + YEARS_SINCE_TNC_RAIL_MIDLOW \\\n",
    "                    + BIKE_SHARE \\\n",
    "                    + scooter_flag \\\n",
    "                    + EntityEffects \\\n",
    "                    ',data=df)\n",
    "res=mod.fit()\n",
    "print(res)"
   ]
  },
  {
   "cell_type": "code",
   "execution_count": 40,
   "metadata": {
    "collapsed": false
   },
   "outputs": [
    {
     "name": "stderr",
     "output_type": "stream",
     "text": [
      "C:\\Program Files\\Anaconda3\\lib\\site-packages\\linearmodels\\panel\\data.py:39: FutureWarning: \n",
      "Passing list-likes to .loc or [] with any missing label will raise\n",
      "KeyError in the future, you can use .reindex() as an alternative.\n",
      "\n",
      "See the documentation here:\n",
      "https://pandas.pydata.org/pandas-docs/stable/indexing.html#deprecate-loc-reindex-listlike\n",
      "  new_df = df.copy().loc[self._full_index]\n",
      "C:\\Program Files\\Anaconda3\\lib\\site-packages\\linearmodels\\utility.py:476: MissingValueWarning: \n",
      "Inputs contain missing values. Dropping rows with missing observations.\n",
      "  warnings.warn(missing_value_warning_msg, MissingValueWarning)\n"
     ]
    },
    {
     "name": "stdout",
     "output_type": "stream",
     "text": [
      "                          PanelOLS Estimation Summary                           \n",
      "================================================================================\n",
      "Dep. Variable:            UPT_ADJ_log   R-squared:                        0.6600\n",
      "Estimator:                   PanelOLS   R-squared (Between):              0.9677\n",
      "No. Observations:                3746   R-squared (Within):               0.6600\n",
      "Date:                Tue, Dec 17 2019   R-squared (Overall):              0.9700\n",
      "Time:                        11:33:27   Log-likelihood                    2075.1\n",
      "Cov. Estimator:            Unadjusted                                           \n",
      "                                        F-statistic:                      482.46\n",
      "Entities:                         252   P-value                           0.0000\n",
      "Avg Obs:                       14.865   Distribution:                 F(14,3480)\n",
      "Min Obs:                       1.0000                                           \n",
      "Max Obs:                       17.000   F-statistic (robust):             482.46\n",
      "                                        P-value                           0.0000\n",
      "Time periods:                      17   Distribution:                 F(14,3480)\n",
      "Avg Obs:                       220.35                                           \n",
      "Min Obs:                       144.00                                           \n",
      "Max Obs:                       249.00                                           \n",
      "                                                                                \n",
      "                                      Parameter Estimates                                       \n",
      "================================================================================================\n",
      "                              Parameter  Std. Err.     T-stat    P-value    Lower CI    Upper CI\n",
      "------------------------------------------------------------------------------------------------\n",
      "VRM_ADJ_BUS_log                  0.8719     0.0135     64.709     0.0000      0.8455      0.8983\n",
      "VRM_ADJ_RAIL_log                 0.4824     0.0233     20.671     0.0000      0.4366      0.5281\n",
      "FARE_per_UPT_2018_BUS_log       -0.3164     0.0232    -13.639     0.0000     -0.3619     -0.2710\n",
      "FARE_per_UPT_2018_RAIL_log      -0.7383     0.0686    -10.757     0.0000     -0.8729     -0.6037\n",
      "POP_EMP_log                      0.3029     0.0472     6.4130     0.0000      0.2103      0.3955\n",
      "GAS_PRICE_2018_log               0.2218     0.0210     10.554     0.0000      0.1806      0.2630\n",
      "TOTAL_MED_INC_INDIV_2018_log    -0.2463     0.0446    -5.5271     0.0000     -0.3336     -0.1589\n",
      "PCT_HH_NO_VEH                    0.0053     0.0026     2.0485     0.0406      0.0002      0.0104\n",
      "TSD_POP_PCT                      0.0047     0.0013     3.6734     0.0002      0.0022      0.0072\n",
      "JTW_HOME_PCT                    -0.0146     0.0033    -4.4265     0.0000     -0.0210     -0.0081\n",
      "YEARS_SINCE_TNC_BUS             -0.0217     0.0034    -6.4397     0.0000     -0.0283     -0.0151\n",
      "YEARS_SINCE_TNC_RAIL             0.0154     0.0049     3.1195     0.0018      0.0057      0.0250\n",
      "BIKE_SHARE                       0.0117     0.0105     1.1101     0.2670     -0.0089      0.0323\n",
      "scooter_flag                    -0.0429     0.0213    -2.0132     0.0442     -0.0846     -0.0011\n",
      "================================================================================================\n",
      "\n",
      "F-test for Poolability: 119.50\n",
      "P-value: 0.0000\n",
      "Distribution: F(251,3480)\n",
      "\n",
      "Included effects: Entity\n"
     ]
    }
   ],
   "source": [
    "# merge TNCs again\n",
    "\n",
    "mod=PanelOLS.from_formula('UPT_ADJ_log \\\n",
    "                    ~ VRM_ADJ_BUS_log \\\n",
    "                    + VRM_ADJ_RAIL_log \\\n",
    "                    + FARE_per_UPT_2018_BUS_log \\\n",
    "                    + FARE_per_UPT_2018_RAIL_log \\\n",
    "                    + POP_EMP_log \\\n",
    "                    + GAS_PRICE_2018_log \\\n",
    "                    + TOTAL_MED_INC_INDIV_2018_log \\\n",
    "                    + PCT_HH_NO_VEH \\\n",
    "                    + TSD_POP_PCT \\\n",
    "                    + JTW_HOME_PCT \\\n",
    "                    + YEARS_SINCE_TNC_BUS \\\n",
    "                    + YEARS_SINCE_TNC_RAIL \\\n",
    "                    + BIKE_SHARE \\\n",
    "                    + scooter_flag \\\n",
    "                    + EntityEffects \\\n",
    "                    ',data=df)\n",
    "res=mod.fit()\n",
    "print(res)"
   ]
  },
  {
   "cell_type": "code",
   "execution_count": 41,
   "metadata": {
    "collapsed": false
   },
   "outputs": [
    {
     "name": "stderr",
     "output_type": "stream",
     "text": [
      "C:\\Program Files\\Anaconda3\\lib\\site-packages\\linearmodels\\panel\\data.py:39: FutureWarning: \n",
      "Passing list-likes to .loc or [] with any missing label will raise\n",
      "KeyError in the future, you can use .reindex() as an alternative.\n",
      "\n",
      "See the documentation here:\n",
      "https://pandas.pydata.org/pandas-docs/stable/indexing.html#deprecate-loc-reindex-listlike\n",
      "  new_df = df.copy().loc[self._full_index]\n",
      "C:\\Program Files\\Anaconda3\\lib\\site-packages\\linearmodels\\utility.py:476: MissingValueWarning: \n",
      "Inputs contain missing values. Dropping rows with missing observations.\n",
      "  warnings.warn(missing_value_warning_msg, MissingValueWarning)\n"
     ]
    },
    {
     "name": "stdout",
     "output_type": "stream",
     "text": [
      "                          PanelOLS Estimation Summary                           \n",
      "================================================================================\n",
      "Dep. Variable:            UPT_ADJ_log   R-squared:                        0.6376\n",
      "Estimator:                   PanelOLS   R-squared (Between):              0.9929\n",
      "No. Observations:                3746   R-squared (Within):               0.6376\n",
      "Date:                Tue, Dec 17 2019   R-squared (Overall):              0.9928\n",
      "Time:                        11:34:20   Log-likelihood                    1955.6\n",
      "Cov. Estimator:            Unadjusted                                           \n",
      "                                        F-statistic:                      510.46\n",
      "Entities:                         252   P-value                           0.0000\n",
      "Avg Obs:                       14.865   Distribution:                 F(12,3482)\n",
      "Min Obs:                       1.0000                                           \n",
      "Max Obs:                       17.000   F-statistic (robust):             510.46\n",
      "                                        P-value                           0.0000\n",
      "Time periods:                      17   Distribution:                 F(12,3482)\n",
      "Avg Obs:                       220.35                                           \n",
      "Min Obs:                       144.00                                           \n",
      "Max Obs:                       249.00                                           \n",
      "                                                                                \n",
      "                                      Parameter Estimates                                       \n",
      "================================================================================================\n",
      "                              Parameter  Std. Err.     T-stat    P-value    Lower CI    Upper CI\n",
      "------------------------------------------------------------------------------------------------\n",
      "VRM_ADJ_log                      0.7791     0.0122     63.886     0.0000      0.7552      0.8030\n",
      "FARE_per_UPT_2018_log           -0.3624     0.0227    -15.947     0.0000     -0.4069     -0.3178\n",
      "POP_EMP_log                      0.3671     0.0485     7.5630     0.0000      0.2720      0.4623\n",
      "GAS_PRICE_2018_log               0.2283     0.0217     10.527     0.0000      0.1857      0.2708\n",
      "TOTAL_MED_INC_INDIV_2018_log    -0.2584     0.0460    -5.6228     0.0000     -0.3485     -0.1683\n",
      "PCT_HH_NO_VEH                    0.0058     0.0027     2.1539     0.0313      0.0005      0.0110\n",
      "TSD_POP_PCT                      0.0073     0.0013     5.5325     0.0000      0.0047      0.0098\n",
      "JTW_HOME_PCT                    -0.0138     0.0034    -4.0810     0.0000     -0.0205     -0.0072\n",
      "YEARS_SINCE_TNC_BUS             -0.0171     0.0035    -4.9239     0.0000     -0.0238     -0.0103\n",
      "YEARS_SINCE_TNC_RAIL            -0.0099     0.0047    -2.0819     0.0374     -0.0191     -0.0006\n",
      "BIKE_SHARE                    2.166e-05     0.0108     0.0020     0.9984     -0.0212      0.0212\n",
      "scooter_flag                    -0.0369     0.0219    -1.6833     0.0924     -0.0800      0.0061\n",
      "================================================================================================\n",
      "\n",
      "F-test for Poolability: 121.50\n",
      "P-value: 0.0000\n",
      "Distribution: F(251,3482)\n",
      "\n",
      "Included effects: Entity\n"
     ]
    }
   ],
   "source": [
    "# merge fare and VRM\n",
    "\n",
    "mod=PanelOLS.from_formula('UPT_ADJ_log \\\n",
    "                    ~ VRM_ADJ_log \\\n",
    "                    + FARE_per_UPT_2018_log \\\n",
    "                    + POP_EMP_log \\\n",
    "                    + GAS_PRICE_2018_log \\\n",
    "                    + TOTAL_MED_INC_INDIV_2018_log \\\n",
    "                    + PCT_HH_NO_VEH \\\n",
    "                    + TSD_POP_PCT \\\n",
    "                    + JTW_HOME_PCT \\\n",
    "                    + YEARS_SINCE_TNC_BUS \\\n",
    "                    + YEARS_SINCE_TNC_RAIL \\\n",
    "                    + BIKE_SHARE \\\n",
    "                    + scooter_flag \\\n",
    "                    + EntityEffects \\\n",
    "                    ',data=df)\n",
    "res=mod.fit()\n",
    "print(res)\n"
   ]
  },
  {
   "cell_type": "code",
   "execution_count": 42,
   "metadata": {
    "collapsed": false
   },
   "outputs": [
    {
     "name": "stderr",
     "output_type": "stream",
     "text": [
      "C:\\Program Files\\Anaconda3\\lib\\site-packages\\linearmodels\\panel\\data.py:39: FutureWarning: \n",
      "Passing list-likes to .loc or [] with any missing label will raise\n",
      "KeyError in the future, you can use .reindex() as an alternative.\n",
      "\n",
      "See the documentation here:\n",
      "https://pandas.pydata.org/pandas-docs/stable/indexing.html#deprecate-loc-reindex-listlike\n",
      "  new_df = df.copy().loc[self._full_index]\n",
      "C:\\Program Files\\Anaconda3\\lib\\site-packages\\linearmodels\\utility.py:476: MissingValueWarning: \n",
      "Inputs contain missing values. Dropping rows with missing observations.\n",
      "  warnings.warn(missing_value_warning_msg, MissingValueWarning)\n"
     ]
    },
    {
     "name": "stdout",
     "output_type": "stream",
     "text": [
      "                          PanelOLS Estimation Summary                           \n",
      "================================================================================\n",
      "Dep. Variable:            UPT_ADJ_log   R-squared:                        0.6383\n",
      "Estimator:                   PanelOLS   R-squared (Between):              0.9927\n",
      "No. Observations:                3746   R-squared (Within):               0.6383\n",
      "Date:                Tue, Dec 17 2019   R-squared (Overall):              0.9926\n",
      "Time:                        11:34:30   Log-likelihood                    1959.1\n",
      "Cov. Estimator:            Unadjusted                                           \n",
      "                                        F-statistic:                      438.57\n",
      "Entities:                         252   P-value                           0.0000\n",
      "Avg Obs:                       14.865   Distribution:                 F(14,3480)\n",
      "Min Obs:                       1.0000                                           \n",
      "Max Obs:                       17.000   F-statistic (robust):             438.57\n",
      "                                        P-value                           0.0000\n",
      "Time periods:                      17   Distribution:                 F(14,3480)\n",
      "Avg Obs:                       220.35                                           \n",
      "Min Obs:                       144.00                                           \n",
      "Max Obs:                       249.00                                           \n",
      "                                                                                \n",
      "                                      Parameter Estimates                                       \n",
      "================================================================================================\n",
      "                              Parameter  Std. Err.     T-stat    P-value    Lower CI    Upper CI\n",
      "------------------------------------------------------------------------------------------------\n",
      "VRM_ADJ_log                      0.7817     0.0122     63.918     0.0000      0.7577      0.8057\n",
      "FARE_per_UPT_2018_log           -0.3598     0.0227    -15.824     0.0000     -0.4044     -0.3152\n",
      "POP_EMP_log                      0.3632     0.0486     7.4798     0.0000      0.2680      0.4583\n",
      "GAS_PRICE_2018_log               0.2282     0.0217     10.530     0.0000      0.1857      0.2706\n",
      "TOTAL_MED_INC_INDIV_2018_log    -0.2592     0.0459    -5.6421     0.0000     -0.3492     -0.1691\n",
      "PCT_HH_NO_VEH                    0.0056     0.0027     2.0855     0.0371      0.0003      0.0108\n",
      "TSD_POP_PCT                      0.0073     0.0013     5.5398     0.0000      0.0047      0.0099\n",
      "JTW_HOME_PCT                    -0.0139     0.0034    -4.1015     0.0000     -0.0206     -0.0073\n",
      "YEARS_SINCE_TNC_BUS             -0.0189     0.0036    -5.2881     0.0000     -0.0260     -0.0119\n",
      "YEARS_SINCE_TNC_RAIL            -0.0002     0.0065    -0.0378     0.9699     -0.0129      0.0124\n",
      "BIKE_SHARE_BUS                   0.0128     0.0119     1.0746     0.2826     -0.0106      0.0362\n",
      "BIKE_SHARE_RAIL                 -0.0578     0.0252    -2.2951     0.0218     -0.1071     -0.0084\n",
      "scooter_flag_BUS                -0.0399     0.0257    -1.5509     0.1210     -0.0903      0.0105\n",
      "scooter_flag_RAIL               -0.0388     0.0414    -0.9373     0.3487     -0.1200      0.0424\n",
      "================================================================================================\n",
      "\n",
      "F-test for Poolability: 120.26\n",
      "P-value: 0.0000\n",
      "Distribution: F(251,3480)\n",
      "\n",
      "Included effects: Entity\n"
     ]
    }
   ],
   "source": [
    "# bike share segmentation\n",
    "\n",
    "mod=PanelOLS.from_formula('UPT_ADJ_log \\\n",
    "                    ~ VRM_ADJ_log \\\n",
    "                    + FARE_per_UPT_2018_log \\\n",
    "                    + POP_EMP_log \\\n",
    "                    + GAS_PRICE_2018_log \\\n",
    "                    + TOTAL_MED_INC_INDIV_2018_log \\\n",
    "                    + PCT_HH_NO_VEH \\\n",
    "                    + TSD_POP_PCT \\\n",
    "                    + JTW_HOME_PCT \\\n",
    "                    + YEARS_SINCE_TNC_BUS \\\n",
    "                    + YEARS_SINCE_TNC_RAIL \\\n",
    "                    + BIKE_SHARE_BUS \\\n",
    "                    + BIKE_SHARE_RAIL \\\n",
    "                    + scooter_flag_BUS \\\n",
    "                    + scooter_flag_RAIL \\\n",
    "                    + EntityEffects \\\n",
    "                    ',data=df)\n",
    "res=mod.fit()\n",
    "print(res)"
   ]
  },
  {
   "cell_type": "code",
   "execution_count": 43,
   "metadata": {
    "collapsed": false
   },
   "outputs": [
    {
     "name": "stderr",
     "output_type": "stream",
     "text": [
      "C:\\Program Files\\Anaconda3\\lib\\site-packages\\linearmodels\\panel\\data.py:39: FutureWarning: \n",
      "Passing list-likes to .loc or [] with any missing label will raise\n",
      "KeyError in the future, you can use .reindex() as an alternative.\n",
      "\n",
      "See the documentation here:\n",
      "https://pandas.pydata.org/pandas-docs/stable/indexing.html#deprecate-loc-reindex-listlike\n",
      "  new_df = df.copy().loc[self._full_index]\n",
      "C:\\Program Files\\Anaconda3\\lib\\site-packages\\linearmodels\\utility.py:476: MissingValueWarning: \n",
      "Inputs contain missing values. Dropping rows with missing observations.\n",
      "  warnings.warn(missing_value_warning_msg, MissingValueWarning)\n"
     ]
    },
    {
     "name": "stdout",
     "output_type": "stream",
     "text": [
      "                          PanelOLS Estimation Summary                           \n",
      "================================================================================\n",
      "Dep. Variable:            UPT_ADJ_log   R-squared:                        0.6401\n",
      "Estimator:                   PanelOLS   R-squared (Between):              0.9945\n",
      "No. Observations:                3746   R-squared (Within):               0.6401\n",
      "Date:                Tue, Dec 17 2019   R-squared (Overall):              0.9944\n",
      "Time:                        11:34:48   Log-likelihood                    1968.6\n",
      "Cov. Estimator:            Unadjusted                                           \n",
      "                                        F-statistic:                      442.05\n",
      "Entities:                         252   P-value                           0.0000\n",
      "Avg Obs:                       14.865   Distribution:                 F(14,3480)\n",
      "Min Obs:                       1.0000                                           \n",
      "Max Obs:                       17.000   F-statistic (robust):             442.05\n",
      "                                        P-value                           0.0000\n",
      "Time periods:                      17   Distribution:                 F(14,3480)\n",
      "Avg Obs:                       220.35                                           \n",
      "Min Obs:                       144.00                                           \n",
      "Max Obs:                       249.00                                           \n",
      "                                                                                \n",
      "                                      Parameter Estimates                                       \n",
      "================================================================================================\n",
      "                              Parameter  Std. Err.     T-stat    P-value    Lower CI    Upper CI\n",
      "------------------------------------------------------------------------------------------------\n",
      "VRM_ADJ_log                      0.7831     0.0122     64.227     0.0000      0.7592      0.8070\n",
      "FARE_per_UPT_2018_log           -0.3632     0.0227    -16.030     0.0000     -0.4076     -0.3187\n",
      "POP_EMP_log                      0.3749     0.0486     7.7090     0.0000      0.2795      0.4702\n",
      "GAS_PRICE_2018_log               0.2226     0.0217     10.262     0.0000      0.1801      0.2652\n",
      "TOTAL_MED_INC_INDIV_2018_log    -0.2579     0.0458    -5.6288     0.0000     -0.3477     -0.1681\n",
      "PCT_HH_NO_VEH                    0.0053     0.0027     1.9935     0.0463    8.75e-05      0.0105\n",
      "TSD_POP_PCT                      0.0076     0.0013     5.7918     0.0000      0.0050      0.0102\n",
      "JTW_HOME_PCT                    -0.0130     0.0034    -3.8214     0.0001     -0.0196     -0.0063\n",
      "YEARS_SINCE_TNC_BUS_HINY        -0.0133     0.0051    -2.6152     0.0090     -0.0232     -0.0033\n",
      "YEARS_SINCE_TNC_BUS_MIDLOW      -0.0192     0.0038    -5.0783     0.0000     -0.0266     -0.0118\n",
      "YEARS_SINCE_TNC_RAIL_HINY    -6.738e-05     0.0051    -0.0131     0.9895     -0.0101      0.0100\n",
      "YEARS_SINCE_TNC_RAIL_MIDLOW     -0.0458     0.0089    -5.1770     0.0000     -0.0632     -0.0285\n",
      "BIKE_SHARE                      -0.0005     0.0108    -0.0463     0.9631     -0.0217      0.0207\n",
      "scooter_flag                    -0.0405     0.0220    -1.8418     0.0656     -0.0836      0.0026\n",
      "================================================================================================\n",
      "\n",
      "F-test for Poolability: 122.32\n",
      "P-value: 0.0000\n",
      "Distribution: F(251,3480)\n",
      "\n",
      "Included effects: Entity\n"
     ]
    }
   ],
   "source": [
    "# merge low and mid TNCs\n",
    "\n",
    "mod=PanelOLS.from_formula('UPT_ADJ_log \\\n",
    "                    ~ VRM_ADJ_log \\\n",
    "                    + FARE_per_UPT_2018_log \\\n",
    "                    + POP_EMP_log \\\n",
    "                    + GAS_PRICE_2018_log \\\n",
    "                    + TOTAL_MED_INC_INDIV_2018_log \\\n",
    "                    + PCT_HH_NO_VEH \\\n",
    "                    + TSD_POP_PCT \\\n",
    "                    + JTW_HOME_PCT \\\n",
    "                    + YEARS_SINCE_TNC_BUS_HINY \\\n",
    "                    + YEARS_SINCE_TNC_BUS_MIDLOW \\\n",
    "                    + YEARS_SINCE_TNC_RAIL_HINY \\\n",
    "                    + YEARS_SINCE_TNC_RAIL_MIDLOW \\\n",
    "                    + BIKE_SHARE \\\n",
    "                    + scooter_flag \\\n",
    "                    + EntityEffects \\\n",
    "                    ',data=df)\n",
    "res=mod.fit()\n",
    "print(res)"
   ]
  },
  {
   "cell_type": "code",
   "execution_count": 44,
   "metadata": {
    "collapsed": false
   },
   "outputs": [
    {
     "name": "stderr",
     "output_type": "stream",
     "text": [
      "C:\\Program Files\\Anaconda3\\lib\\site-packages\\linearmodels\\panel\\data.py:39: FutureWarning: \n",
      "Passing list-likes to .loc or [] with any missing label will raise\n",
      "KeyError in the future, you can use .reindex() as an alternative.\n",
      "\n",
      "See the documentation here:\n",
      "https://pandas.pydata.org/pandas-docs/stable/indexing.html#deprecate-loc-reindex-listlike\n",
      "  new_df = df.copy().loc[self._full_index]\n",
      "C:\\Program Files\\Anaconda3\\lib\\site-packages\\linearmodels\\utility.py:476: MissingValueWarning: \n",
      "Inputs contain missing values. Dropping rows with missing observations.\n",
      "  warnings.warn(missing_value_warning_msg, MissingValueWarning)\n"
     ]
    },
    {
     "name": "stdout",
     "output_type": "stream",
     "text": [
      "                          PanelOLS Estimation Summary                           \n",
      "================================================================================\n",
      "Dep. Variable:            UPT_ADJ_log   R-squared:                        0.6405\n",
      "Estimator:                   PanelOLS   R-squared (Between):              0.9948\n",
      "No. Observations:                3746   R-squared (Within):               0.6405\n",
      "Date:                Tue, Dec 17 2019   R-squared (Overall):              0.9947\n",
      "Time:                        11:35:07   Log-likelihood                    1970.7\n",
      "Cov. Estimator:            Unadjusted                                           \n",
      "                                        F-statistic:                      387.27\n",
      "Entities:                         252   P-value                           0.0000\n",
      "Avg Obs:                       14.865   Distribution:                 F(16,3478)\n",
      "Min Obs:                       1.0000                                           \n",
      "Max Obs:                       17.000   F-statistic (robust):             387.27\n",
      "                                        P-value                           0.0000\n",
      "Time periods:                      17   Distribution:                 F(16,3478)\n",
      "Avg Obs:                       220.35                                           \n",
      "Min Obs:                       144.00                                           \n",
      "Max Obs:                       249.00                                           \n",
      "                                                                                \n",
      "                                      Parameter Estimates                                       \n",
      "================================================================================================\n",
      "                              Parameter  Std. Err.     T-stat    P-value    Lower CI    Upper CI\n",
      "------------------------------------------------------------------------------------------------\n",
      "VRM_ADJ_log                      0.7837     0.0122     64.270     0.0000      0.7598      0.8076\n",
      "FARE_per_UPT_2018_log           -0.3621     0.0227    -15.975     0.0000     -0.4065     -0.3176\n",
      "POP_EMP_log                      0.3748     0.0486     7.7050     0.0000      0.2794      0.4702\n",
      "GAS_PRICE_2018_log               0.2232     0.0217     10.289     0.0000      0.1807      0.2657\n",
      "TOTAL_MED_INC_INDIV_2018_log    -0.2560     0.0458    -5.5873     0.0000     -0.3459     -0.1662\n",
      "PCT_HH_NO_VEH                    0.0052     0.0027     1.9416     0.0523  -5.092e-05      0.0104\n",
      "TSD_POP_PCT                      0.0076     0.0013     5.7733     0.0000      0.0050      0.0102\n",
      "JTW_HOME_PCT                    -0.0128     0.0034    -3.7797     0.0002     -0.0195     -0.0062\n",
      "YEARS_SINCE_TNC_BUS_HINY        -0.0060     0.0063    -0.9559     0.3392     -0.0183      0.0063\n",
      "YEARS_SINCE_TNC_BUS_MIDLOW      -0.0213     0.0039    -5.4283     0.0000     -0.0290     -0.0136\n",
      "YEARS_SINCE_TNC_RAIL_HINY        0.0071     0.0063     1.1233     0.2614     -0.0053      0.0194\n",
      "YEARS_SINCE_TNC_RAIL_MIDLOW     -0.0485     0.0090    -5.4223     0.0000     -0.0661     -0.0310\n",
      "BIKE_SHARE_HINY                 -0.0315     0.0216    -1.4578     0.1450     -0.0739      0.0109\n",
      "BIKE_SHARE_MIDLOW                0.0084     0.0124     0.6781     0.4978     -0.0159      0.0326\n",
      "scooter_flag_HINY               -0.0776     0.0346    -2.2392     0.0252     -0.1455     -0.0097\n",
      "scooter_flag_MIDLOW             -0.0200     0.0283    -0.7065     0.4799     -0.0755      0.0355\n",
      "================================================================================================\n",
      "\n",
      "F-test for Poolability: 122.10\n",
      "P-value: 0.0000\n",
      "Distribution: F(251,3478)\n",
      "\n",
      "Included effects: Entity\n"
     ]
    }
   ],
   "source": [
    "# separate bike share and scooter effect for HI vs MIDLOW -- don't use this\n",
    "\n",
    "\n",
    "mod=PanelOLS.from_formula('UPT_ADJ_log \\\n",
    "                    ~ VRM_ADJ_log \\\n",
    "                    + FARE_per_UPT_2018_log \\\n",
    "                    + POP_EMP_log \\\n",
    "                    + GAS_PRICE_2018_log \\\n",
    "                    + TOTAL_MED_INC_INDIV_2018_log \\\n",
    "                    + PCT_HH_NO_VEH \\\n",
    "                    + TSD_POP_PCT \\\n",
    "                    + JTW_HOME_PCT \\\n",
    "                    + YEARS_SINCE_TNC_BUS_HINY \\\n",
    "                    + YEARS_SINCE_TNC_BUS_MIDLOW \\\n",
    "                    + YEARS_SINCE_TNC_RAIL_HINY \\\n",
    "                    + YEARS_SINCE_TNC_RAIL_MIDLOW \\\n",
    "                    + BIKE_SHARE_HINY \\\n",
    "                    + BIKE_SHARE_MIDLOW \\\n",
    "                    + scooter_flag_HINY \\\n",
    "                    + scooter_flag_MIDLOW \\\n",
    "                    + EntityEffects \\\n",
    "                    ',data=df)\n",
    "res=mod.fit()\n",
    "print(res)"
   ]
  },
  {
   "cell_type": "code",
   "execution_count": 45,
   "metadata": {
    "collapsed": false
   },
   "outputs": [
    {
     "name": "stderr",
     "output_type": "stream",
     "text": [
      "C:\\Program Files\\Anaconda3\\lib\\site-packages\\linearmodels\\panel\\data.py:39: FutureWarning: \n",
      "Passing list-likes to .loc or [] with any missing label will raise\n",
      "KeyError in the future, you can use .reindex() as an alternative.\n",
      "\n",
      "See the documentation here:\n",
      "https://pandas.pydata.org/pandas-docs/stable/indexing.html#deprecate-loc-reindex-listlike\n",
      "  new_df = df.copy().loc[self._full_index]\n",
      "C:\\Program Files\\Anaconda3\\lib\\site-packages\\linearmodels\\utility.py:476: MissingValueWarning: \n",
      "Inputs contain missing values. Dropping rows with missing observations.\n",
      "  warnings.warn(missing_value_warning_msg, MissingValueWarning)\n"
     ]
    },
    {
     "name": "stdout",
     "output_type": "stream",
     "text": [
      "                          PanelOLS Estimation Summary                           \n",
      "================================================================================\n",
      "Dep. Variable:            UPT_ADJ_log   R-squared:                        0.6376\n",
      "Estimator:                   PanelOLS   R-squared (Between):              0.9929\n",
      "No. Observations:                3746   R-squared (Within):               0.6376\n",
      "Date:                Tue, Dec 17 2019   R-squared (Overall):              0.9928\n",
      "Time:                        11:35:31   Log-likelihood                    1955.6\n",
      "Cov. Estimator:            Unadjusted                                           \n",
      "                                        F-statistic:                      510.46\n",
      "Entities:                         252   P-value                           0.0000\n",
      "Avg Obs:                       14.865   Distribution:                 F(12,3482)\n",
      "Min Obs:                       1.0000                                           \n",
      "Max Obs:                       17.000   F-statistic (robust):             510.46\n",
      "                                        P-value                           0.0000\n",
      "Time periods:                      17   Distribution:                 F(12,3482)\n",
      "Avg Obs:                       220.35                                           \n",
      "Min Obs:                       144.00                                           \n",
      "Max Obs:                       249.00                                           \n",
      "                                                                                \n",
      "                                      Parameter Estimates                                       \n",
      "================================================================================================\n",
      "                              Parameter  Std. Err.     T-stat    P-value    Lower CI    Upper CI\n",
      "------------------------------------------------------------------------------------------------\n",
      "VRM_ADJ_log                      0.7791     0.0122     63.886     0.0000      0.7552      0.8030\n",
      "FARE_per_UPT_2018_log           -0.3624     0.0227    -15.947     0.0000     -0.4069     -0.3178\n",
      "POP_EMP_log                      0.3671     0.0485     7.5630     0.0000      0.2720      0.4623\n",
      "GAS_PRICE_2018_log               0.2283     0.0217     10.527     0.0000      0.1857      0.2708\n",
      "TOTAL_MED_INC_INDIV_2018_log    -0.2584     0.0460    -5.6228     0.0000     -0.3485     -0.1683\n",
      "PCT_HH_NO_VEH                    0.0058     0.0027     2.1539     0.0313      0.0005      0.0110\n",
      "TSD_POP_PCT                      0.0073     0.0013     5.5325     0.0000      0.0047      0.0098\n",
      "JTW_HOME_PCT                    -0.0138     0.0034    -4.0810     0.0000     -0.0205     -0.0072\n",
      "YEARS_SINCE_TNC_BUS             -0.0171     0.0035    -4.9239     0.0000     -0.0238     -0.0103\n",
      "YEARS_SINCE_TNC_RAIL            -0.0099     0.0047    -2.0819     0.0374     -0.0191     -0.0006\n",
      "BIKE_SHARE                    2.166e-05     0.0108     0.0020     0.9984     -0.0212      0.0212\n",
      "scooter_flag                    -0.0369     0.0219    -1.6833     0.0924     -0.0800      0.0061\n",
      "================================================================================================\n",
      "\n",
      "F-test for Poolability: 121.50\n",
      "P-value: 0.0000\n",
      "Distribution: F(251,3482)\n",
      "\n",
      "Included effects: Entity\n"
     ]
    }
   ],
   "source": [
    "# testing\n",
    "\n",
    "mod=PanelOLS.from_formula('UPT_ADJ_log \\\n",
    "                    ~ VRM_ADJ_log \\\n",
    "                    + FARE_per_UPT_2018_log \\\n",
    "                    + POP_EMP_log \\\n",
    "                    + GAS_PRICE_2018_log \\\n",
    "                    + TOTAL_MED_INC_INDIV_2018_log \\\n",
    "                    + PCT_HH_NO_VEH \\\n",
    "                    + TSD_POP_PCT \\\n",
    "                    + JTW_HOME_PCT \\\n",
    "                    + YEARS_SINCE_TNC_BUS \\\n",
    "                    + YEARS_SINCE_TNC_RAIL \\\n",
    "                    + BIKE_SHARE \\\n",
    "                    + scooter_flag \\\n",
    "                    + EntityEffects \\\n",
    "                    ',data=df)\n",
    "res=mod.fit()\n",
    "print(res)"
   ]
  },
  {
   "cell_type": "code",
   "execution_count": 46,
   "metadata": {
    "collapsed": false
   },
   "outputs": [
    {
     "name": "stderr",
     "output_type": "stream",
     "text": [
      "C:\\Program Files\\Anaconda3\\lib\\site-packages\\linearmodels\\panel\\data.py:39: FutureWarning: \n",
      "Passing list-likes to .loc or [] with any missing label will raise\n",
      "KeyError in the future, you can use .reindex() as an alternative.\n",
      "\n",
      "See the documentation here:\n",
      "https://pandas.pydata.org/pandas-docs/stable/indexing.html#deprecate-loc-reindex-listlike\n",
      "  new_df = df.copy().loc[self._full_index]\n",
      "C:\\Program Files\\Anaconda3\\lib\\site-packages\\linearmodels\\utility.py:476: MissingValueWarning: \n",
      "Inputs contain missing values. Dropping rows with missing observations.\n",
      "  warnings.warn(missing_value_warning_msg, MissingValueWarning)\n"
     ]
    },
    {
     "name": "stdout",
     "output_type": "stream",
     "text": [
      "                          PanelOLS Estimation Summary                           \n",
      "================================================================================\n",
      "Dep. Variable:            UPT_ADJ_log   R-squared:                        0.6581\n",
      "Estimator:                   PanelOLS   R-squared (Between):              0.9768\n",
      "No. Observations:                3746   R-squared (Within):               0.6581\n",
      "Date:                Tue, Dec 17 2019   R-squared (Overall):              0.9784\n",
      "Time:                        11:35:39   Log-likelihood                    2064.9\n",
      "Cov. Estimator:            Unadjusted                                           \n",
      "                                        F-statistic:                      446.46\n",
      "Entities:                         252   P-value                           0.0000\n",
      "Avg Obs:                       14.865   Distribution:                 F(15,3479)\n",
      "Min Obs:                       1.0000                                           \n",
      "Max Obs:                       17.000   F-statistic (robust):             446.46\n",
      "                                        P-value                           0.0000\n",
      "Time periods:                      17   Distribution:                 F(15,3479)\n",
      "Avg Obs:                       220.35                                           \n",
      "Min Obs:                       144.00                                           \n",
      "Max Obs:                       249.00                                           \n",
      "                                                                                \n",
      "                                      Parameter Estimates                                       \n",
      "================================================================================================\n",
      "                              Parameter  Std. Err.     T-stat    P-value    Lower CI    Upper CI\n",
      "------------------------------------------------------------------------------------------------\n",
      "VRM_ADJ_BUS_log                  0.8706     0.0135     64.360     0.0000      0.8441      0.8971\n",
      "VRM_ADJ_RAIL_log                 0.5114     0.0233     21.943     0.0000      0.4657      0.5571\n",
      "FARE_per_UPT_2018_log           -0.3599     0.0221    -16.298     0.0000     -0.4032     -0.3166\n",
      "POP_EMP_log                      0.3194     0.0476     6.7135     0.0000      0.2261      0.4127\n",
      "GAS_PRICE_2018_log               0.2166     0.0212     10.242     0.0000      0.1752      0.2581\n",
      "TOTAL_MED_INC_INDIV_2018_log    -0.2411     0.0447    -5.3967     0.0000     -0.3287     -0.1535\n",
      "PCT_HH_NO_VEH                    0.0051     0.0026     1.9719     0.0487   2.925e-05      0.0102\n",
      "TSD_POP_PCT                      0.0052     0.0013     4.0525     0.0001      0.0027      0.0078\n",
      "JTW_HOME_PCT                    -0.0134     0.0033    -4.0659     0.0000     -0.0199     -0.0070\n",
      "YEARS_SINCE_TNC_BUS_HINY        -0.0161     0.0050    -3.2532     0.0012     -0.0258     -0.0064\n",
      "YEARS_SINCE_TNC_BUS_MIDLOW      -0.0235     0.0037    -6.3562     0.0000     -0.0308     -0.0163\n",
      "YEARS_SINCE_TNC_RAIL_HINY        0.0151     0.0051     2.9330     0.0034      0.0050      0.0251\n",
      "YEARS_SINCE_TNC_RAIL_MIDLOW     -0.0185     0.0089    -2.0933     0.0364     -0.0359     -0.0012\n",
      "BIKE_SHARE                       0.0068     0.0105     0.6485     0.5167     -0.0138      0.0275\n",
      "scooter_flag                    -0.0408     0.0214    -1.9055     0.0568     -0.0828      0.0012\n",
      "================================================================================================\n",
      "\n",
      "F-test for Poolability: 118.99\n",
      "P-value: 0.0000\n",
      "Distribution: F(251,3479)\n",
      "\n",
      "Included effects: Entity\n"
     ]
    }
   ],
   "source": [
    "# testing\n",
    "\n",
    "mod=PanelOLS.from_formula('UPT_ADJ_log \\\n",
    "                    ~ VRM_ADJ_BUS_log \\\n",
    "                    + VRM_ADJ_RAIL_log \\\n",
    "                    + FARE_per_UPT_2018_log \\\n",
    "                    + POP_EMP_log \\\n",
    "                    + GAS_PRICE_2018_log \\\n",
    "                    + TOTAL_MED_INC_INDIV_2018_log \\\n",
    "                    + PCT_HH_NO_VEH \\\n",
    "                    + TSD_POP_PCT \\\n",
    "                    + JTW_HOME_PCT \\\n",
    "                    + YEARS_SINCE_TNC_BUS_HINY \\\n",
    "                    + YEARS_SINCE_TNC_BUS_MIDLOW \\\n",
    "                    + YEARS_SINCE_TNC_RAIL_HINY \\\n",
    "                    + YEARS_SINCE_TNC_RAIL_MIDLOW \\\n",
    "                    + BIKE_SHARE \\\n",
    "                    + scooter_flag \\\n",
    "                    + EntityEffects \\\n",
    "                    ',data=df)\n",
    "res=mod.fit()\n",
    "print(res)"
   ]
  },
  {
   "cell_type": "code",
   "execution_count": 47,
   "metadata": {
    "collapsed": false
   },
   "outputs": [
    {
     "name": "stderr",
     "output_type": "stream",
     "text": [
      "C:\\Program Files\\Anaconda3\\lib\\site-packages\\linearmodels\\panel\\data.py:39: FutureWarning: \n",
      "Passing list-likes to .loc or [] with any missing label will raise\n",
      "KeyError in the future, you can use .reindex() as an alternative.\n",
      "\n",
      "See the documentation here:\n",
      "https://pandas.pydata.org/pandas-docs/stable/indexing.html#deprecate-loc-reindex-listlike\n",
      "  new_df = df.copy().loc[self._full_index]\n",
      "C:\\Program Files\\Anaconda3\\lib\\site-packages\\linearmodels\\utility.py:476: MissingValueWarning: \n",
      "Inputs contain missing values. Dropping rows with missing observations.\n",
      "  warnings.warn(missing_value_warning_msg, MissingValueWarning)\n"
     ]
    },
    {
     "name": "stdout",
     "output_type": "stream",
     "text": [
      "                          PanelOLS Estimation Summary                           \n",
      "================================================================================\n",
      "Dep. Variable:            UPT_ADJ_log   R-squared:                        0.6566\n",
      "Estimator:                   PanelOLS   R-squared (Between):              0.9742\n",
      "No. Observations:                3746   R-squared (Within):               0.6566\n",
      "Date:                Tue, Dec 17 2019   R-squared (Overall):              0.9759\n",
      "Time:                        11:36:00   Log-likelihood                    2056.8\n",
      "Cov. Estimator:            Unadjusted                                           \n",
      "                                        F-statistic:                      512.10\n",
      "Entities:                         252   P-value                           0.0000\n",
      "Avg Obs:                       14.865   Distribution:                 F(13,3481)\n",
      "Min Obs:                       1.0000                                           \n",
      "Max Obs:                       17.000   F-statistic (robust):             512.10\n",
      "                                        P-value                           0.0000\n",
      "Time periods:                      17   Distribution:                 F(13,3481)\n",
      "Avg Obs:                       220.35                                           \n",
      "Min Obs:                       144.00                                           \n",
      "Max Obs:                       249.00                                           \n",
      "                                                                                \n",
      "                                      Parameter Estimates                                       \n",
      "================================================================================================\n",
      "                              Parameter  Std. Err.     T-stat    P-value    Lower CI    Upper CI\n",
      "------------------------------------------------------------------------------------------------\n",
      "VRM_ADJ_BUS_log                  0.8694     0.0135     64.251     0.0000      0.8428      0.8959\n",
      "VRM_ADJ_RAIL_log                 0.5018     0.0232     21.626     0.0000      0.4563      0.5473\n",
      "FARE_per_UPT_2018_log           -0.3591     0.0221    -16.232     0.0000     -0.4025     -0.3157\n",
      "POP_EMP_log                      0.3097     0.0474     6.5281     0.0000      0.2167      0.4027\n",
      "GAS_PRICE_2018_log               0.2216     0.0211     10.497     0.0000      0.1802      0.2630\n",
      "TOTAL_MED_INC_INDIV_2018_log    -0.2413     0.0448    -5.3911     0.0000     -0.3290     -0.1535\n",
      "PCT_HH_NO_VEH                    0.0055     0.0026     2.0940     0.0363      0.0003      0.0106\n",
      "TSD_POP_PCT                      0.0049     0.0013     3.7768     0.0002      0.0023      0.0074\n",
      "JTW_HOME_PCT                    -0.0142     0.0033    -4.3107     0.0000     -0.0207     -0.0078\n",
      "YEARS_SINCE_TNC_BUS             -0.0211     0.0034    -6.2458     0.0000     -0.0278     -0.0145\n",
      "YEARS_SINCE_TNC_RAIL             0.0083     0.0048     1.7242     0.0848     -0.0011      0.0177\n",
      "BIKE_SHARE                       0.0077     0.0105     0.7310     0.4648     -0.0130      0.0284\n",
      "scooter_flag                    -0.0370     0.0214    -1.7311     0.0835     -0.0789      0.0049\n",
      "================================================================================================\n",
      "\n",
      "F-test for Poolability: 118.70\n",
      "P-value: 0.0000\n",
      "Distribution: F(251,3481)\n",
      "\n",
      "Included effects: Entity\n"
     ]
    }
   ],
   "source": [
    "# testing\n",
    "\n",
    "mod=PanelOLS.from_formula('UPT_ADJ_log \\\n",
    "                    ~ VRM_ADJ_BUS_log \\\n",
    "                    + VRM_ADJ_RAIL_log \\\n",
    "                    + FARE_per_UPT_2018_log \\\n",
    "                    + POP_EMP_log \\\n",
    "                    + GAS_PRICE_2018_log \\\n",
    "                    + TOTAL_MED_INC_INDIV_2018_log \\\n",
    "                    + PCT_HH_NO_VEH \\\n",
    "                    + TSD_POP_PCT \\\n",
    "                    + JTW_HOME_PCT \\\n",
    "                    + YEARS_SINCE_TNC_BUS \\\n",
    "                    + YEARS_SINCE_TNC_RAIL \\\n",
    "                    + BIKE_SHARE \\\n",
    "                    + scooter_flag \\\n",
    "                    + EntityEffects \\\n",
    "                    ',data=df)\n",
    "res=mod.fit()\n",
    "print(res)"
   ]
  },
  {
   "cell_type": "markdown",
   "metadata": {},
   "source": [
    "## Run some analytics"
   ]
  },
  {
   "cell_type": "code",
   "execution_count": 71,
   "metadata": {
    "collapsed": false
   },
   "outputs": [
    {
     "name": "stderr",
     "output_type": "stream",
     "text": [
      "C:\\Program Files\\Anaconda3\\lib\\site-packages\\linearmodels\\panel\\data.py:39: FutureWarning: \n",
      "Passing list-likes to .loc or [] with any missing label will raise\n",
      "KeyError in the future, you can use .reindex() as an alternative.\n",
      "\n",
      "See the documentation here:\n",
      "https://pandas.pydata.org/pandas-docs/stable/indexing.html#deprecate-loc-reindex-listlike\n",
      "  new_df = df.copy().loc[self._full_index]\n",
      "C:\\Program Files\\Anaconda3\\lib\\site-packages\\linearmodels\\utility.py:476: MissingValueWarning: \n",
      "Inputs contain missing values. Dropping rows with missing observations.\n",
      "  warnings.warn(missing_value_warning_msg, MissingValueWarning)\n"
     ]
    },
    {
     "name": "stdout",
     "output_type": "stream",
     "text": [
      "                          PanelOLS Estimation Summary                           \n",
      "================================================================================\n",
      "Dep. Variable:            UPT_ADJ_log   R-squared:                        0.6376\n",
      "Estimator:                   PanelOLS   R-squared (Between):              0.9929\n",
      "No. Observations:                3746   R-squared (Within):               0.6376\n",
      "Date:                Tue, Dec 17 2019   R-squared (Overall):              0.9928\n",
      "Time:                        02:33:37   Log-likelihood                    1955.6\n",
      "Cov. Estimator:            Unadjusted                                           \n",
      "                                        F-statistic:                      510.46\n",
      "Entities:                         252   P-value                           0.0000\n",
      "Avg Obs:                       14.865   Distribution:                 F(12,3482)\n",
      "Min Obs:                       1.0000                                           \n",
      "Max Obs:                       17.000   F-statistic (robust):             510.46\n",
      "                                        P-value                           0.0000\n",
      "Time periods:                      17   Distribution:                 F(12,3482)\n",
      "Avg Obs:                       220.35                                           \n",
      "Min Obs:                       144.00                                           \n",
      "Max Obs:                       249.00                                           \n",
      "                                                                                \n",
      "                                      Parameter Estimates                                       \n",
      "================================================================================================\n",
      "                              Parameter  Std. Err.     T-stat    P-value    Lower CI    Upper CI\n",
      "------------------------------------------------------------------------------------------------\n",
      "VRM_ADJ_log                      0.7791     0.0122     63.886     0.0000      0.7552      0.8030\n",
      "FARE_per_UPT_2018_log           -0.3624     0.0227    -15.947     0.0000     -0.4069     -0.3178\n",
      "POP_EMP_log                      0.3671     0.0485     7.5630     0.0000      0.2720      0.4623\n",
      "GAS_PRICE_2018_log               0.2283     0.0217     10.527     0.0000      0.1857      0.2708\n",
      "TOTAL_MED_INC_INDIV_2018_log    -0.2584     0.0460    -5.6228     0.0000     -0.3485     -0.1683\n",
      "PCT_HH_NO_VEH                    0.0058     0.0027     2.1539     0.0313      0.0005      0.0110\n",
      "TSD_POP_PCT                      0.0073     0.0013     5.5325     0.0000      0.0047      0.0098\n",
      "JTW_HOME_PCT                    -0.0138     0.0034    -4.0810     0.0000     -0.0205     -0.0072\n",
      "YEARS_SINCE_TNC_BUS             -0.0171     0.0035    -4.9239     0.0000     -0.0238     -0.0103\n",
      "YEARS_SINCE_TNC_RAIL            -0.0099     0.0047    -2.0819     0.0374     -0.0191     -0.0006\n",
      "BIKE_SHARE                    2.166e-05     0.0108     0.0020     0.9984     -0.0212      0.0212\n",
      "scooter_flag                    -0.0369     0.0219    -1.6833     0.0924     -0.0800      0.0061\n",
      "================================================================================================\n",
      "\n",
      "F-test for Poolability: 121.50\n",
      "P-value: 0.0000\n",
      "Distribution: F(251,3482)\n",
      "\n",
      "Included effects: Entity\n"
     ]
    }
   ],
   "source": [
    "# Final Model\n",
    "\n",
    "mod=PanelOLS.from_formula('UPT_ADJ_log \\\n",
    "                    ~ VRM_ADJ_log \\\n",
    "                    + FARE_per_UPT_2018_log \\\n",
    "                    + POP_EMP_log \\\n",
    "                    + GAS_PRICE_2018_log \\\n",
    "                    + TOTAL_MED_INC_INDIV_2018_log \\\n",
    "                    + PCT_HH_NO_VEH \\\n",
    "                    + TSD_POP_PCT \\\n",
    "                    + JTW_HOME_PCT \\\n",
    "                    + YEARS_SINCE_TNC_BUS \\\n",
    "                    + YEARS_SINCE_TNC_RAIL \\\n",
    "                    + BIKE_SHARE \\\n",
    "                    + scooter_flag \\\n",
    "                    + EntityEffects \\\n",
    "                    ',data=df)\n",
    "res=mod.fit()\n",
    "print(res)"
   ]
  },
  {
   "cell_type": "code",
   "execution_count": 72,
   "metadata": {
    "collapsed": false
   },
   "outputs": [
    {
     "data": {
      "text/plain": [
       "<matplotlib.axes._subplots.AxesSubplot at 0x6eb1356dd8>"
      ]
     },
     "execution_count": 72,
     "metadata": {},
     "output_type": "execute_result"
    },
    {
     "data": {
      "image/png": "[encoded data removed]",
      "text/plain": [
       "<matplotlib.figure.Figure at 0x6eb1310f98>"
      ]
     },
     "metadata": {},
     "output_type": "display_data"
    }
   ],
   "source": [
    "sns.distplot(res.resids)"
   ]
  },
  {
   "cell_type": "code",
   "execution_count": 73,
   "metadata": {
    "collapsed": false
   },
   "outputs": [
    {
     "data": {
      "image/png": "[encoded data removed]",
      "text/plain": [
       "<matplotlib.figure.Figure at 0x6ea4e2b9e8>"
      ]
     },
     "execution_count": 73,
     "metadata": {},
     "output_type": "execute_result"
    },
    {
     "data": {
      "image/png": "[encoded data removed]",
      "text/plain": [
       "<matplotlib.figure.Figure at 0x6ea4e2b9e8>"
      ]
     },
     "metadata": {},
     "output_type": "display_data"
    }
   ],
   "source": [
    "sm.graphics.qqplot(res.resids,line = 'q')"
   ]
  },
  {
   "cell_type": "code",
   "execution_count": null,
   "metadata": {
    "collapsed": true
   },
   "outputs": [],
   "source": []
  },
  {
   "cell_type": "code",
   "execution_count": null,
   "metadata": {
    "collapsed": true
   },
   "outputs": [],
   "source": []
  },
  {
   "cell_type": "code",
   "execution_count": null,
   "metadata": {
    "collapsed": true
   },
   "outputs": [],
   "source": []
  },
  {
   "cell_type": "markdown",
   "metadata": {},
   "source": [
    "## Calculate FAC"
   ]
  },
  {
   "cell_type": "code",
   "execution_count": 74,
   "metadata": {
    "collapsed": true
   },
   "outputs": [],
   "source": [
    "# keep the relevant fields in the data set\n",
    "app_data = pd.concat([df[['RAIL_FLAG', 'CLUSTER_APTA']], \n",
    "                      res.model.dependent.dataframe, \n",
    "                      res.model.exog.dataframe, \n",
    "                      res.estimated_effects, \n",
    "                      res.resids], axis=1)\n"
   ]
  },
  {
   "cell_type": "code",
   "execution_count": 75,
   "metadata": {
    "collapsed": false
   },
   "outputs": [
    {
     "data": {
      "text/html": [
       "<div>\n",
       "<style scoped>\n",
       "    .dataframe tbody tr th:only-of-type {\n",
       "        vertical-align: middle;\n",
       "    }\n",
       "\n",
       "    .dataframe tbody tr th {\n",
       "        vertical-align: top;\n",
       "    }\n",
       "\n",
       "    .dataframe thead th {\n",
       "        text-align: right;\n",
       "    }\n",
       "</style>\n",
       "<table border=\"1\" class=\"dataframe\">\n",
       "  <thead>\n",
       "    <tr style=\"text-align: right;\">\n",
       "      <th></th>\n",
       "      <th></th>\n",
       "      <th>RAIL_FLAG</th>\n",
       "      <th>CLUSTER_APTA</th>\n",
       "      <th>UPT_ADJ_log</th>\n",
       "      <th>VRM_ADJ_log</th>\n",
       "      <th>FARE_per_UPT_2018_log</th>\n",
       "      <th>POP_EMP_log</th>\n",
       "      <th>GAS_PRICE_2018_log</th>\n",
       "      <th>TOTAL_MED_INC_INDIV_2018_log</th>\n",
       "      <th>PCT_HH_NO_VEH</th>\n",
       "      <th>TSD_POP_PCT</th>\n",
       "      <th>JTW_HOME_PCT</th>\n",
       "      <th>YEARS_SINCE_TNC_BUS</th>\n",
       "      <th>YEARS_SINCE_TNC_RAIL</th>\n",
       "      <th>BIKE_SHARE</th>\n",
       "      <th>scooter_flag</th>\n",
       "      <th>effects</th>\n",
       "      <th>residual</th>\n",
       "    </tr>\n",
       "  </thead>\n",
       "  <tbody>\n",
       "    <tr>\n",
       "      <th rowspan=\"5\" valign=\"top\">Akron, OH Metro Area-Bus</th>\n",
       "      <th>2002</th>\n",
       "      <td>0</td>\n",
       "      <td>24</td>\n",
       "      <td>15.469231</td>\n",
       "      <td>15.208377</td>\n",
       "      <td>0.148254</td>\n",
       "      <td>13.808216</td>\n",
       "      <td>1.066089</td>\n",
       "      <td>10.479210</td>\n",
       "      <td>8.60</td>\n",
       "      <td>18.525984</td>\n",
       "      <td>3.1</td>\n",
       "      <td>0.0</td>\n",
       "      <td>0.0</td>\n",
       "      <td>0.0</td>\n",
       "      <td>0.0</td>\n",
       "      <td>1.058656</td>\n",
       "      <td>-0.130628</td>\n",
       "    </tr>\n",
       "    <tr>\n",
       "      <th>2003</th>\n",
       "      <td>0</td>\n",
       "      <td>24</td>\n",
       "      <td>15.501150</td>\n",
       "      <td>15.195930</td>\n",
       "      <td>0.462904</td>\n",
       "      <td>13.823451</td>\n",
       "      <td>1.138954</td>\n",
       "      <td>10.446267</td>\n",
       "      <td>8.20</td>\n",
       "      <td>18.076969</td>\n",
       "      <td>3.1</td>\n",
       "      <td>0.0</td>\n",
       "      <td>0.0</td>\n",
       "      <td>0.0</td>\n",
       "      <td>0.0</td>\n",
       "      <td>1.058656</td>\n",
       "      <td>-0.000154</td>\n",
       "    </tr>\n",
       "    <tr>\n",
       "      <th>2004</th>\n",
       "      <td>0</td>\n",
       "      <td>24</td>\n",
       "      <td>15.591676</td>\n",
       "      <td>15.277699</td>\n",
       "      <td>0.414204</td>\n",
       "      <td>13.839439</td>\n",
       "      <td>1.233697</td>\n",
       "      <td>10.403980</td>\n",
       "      <td>7.79</td>\n",
       "      <td>17.637662</td>\n",
       "      <td>3.1</td>\n",
       "      <td>0.0</td>\n",
       "      <td>0.0</td>\n",
       "      <td>0.0</td>\n",
       "      <td>0.0</td>\n",
       "      <td>1.058656</td>\n",
       "      <td>-0.023848</td>\n",
       "    </tr>\n",
       "    <tr>\n",
       "      <th>2005</th>\n",
       "      <td>0</td>\n",
       "      <td>24</td>\n",
       "      <td>15.609548</td>\n",
       "      <td>15.214971</td>\n",
       "      <td>0.460804</td>\n",
       "      <td>13.857195</td>\n",
       "      <td>1.361617</td>\n",
       "      <td>10.365663</td>\n",
       "      <td>7.47</td>\n",
       "      <td>17.243546</td>\n",
       "      <td>3.1</td>\n",
       "      <td>0.0</td>\n",
       "      <td>0.0</td>\n",
       "      <td>0.0</td>\n",
       "      <td>0.0</td>\n",
       "      <td>1.058656</td>\n",
       "      <td>0.018871</td>\n",
       "    </tr>\n",
       "    <tr>\n",
       "      <th>2006</th>\n",
       "      <td>0</td>\n",
       "      <td>24</td>\n",
       "      <td>15.619001</td>\n",
       "      <td>15.200501</td>\n",
       "      <td>0.462420</td>\n",
       "      <td>13.879496</td>\n",
       "      <td>1.429114</td>\n",
       "      <td>10.305856</td>\n",
       "      <td>6.85</td>\n",
       "      <td>16.754287</td>\n",
       "      <td>2.5</td>\n",
       "      <td>0.0</td>\n",
       "      <td>0.0</td>\n",
       "      <td>0.0</td>\n",
       "      <td>0.0</td>\n",
       "      <td>1.058656</td>\n",
       "      <td>-0.000043</td>\n",
       "    </tr>\n",
       "  </tbody>\n",
       "</table>\n",
       "</div>"
      ],
      "text/plain": [
       "                               RAIL_FLAG  CLUSTER_APTA  UPT_ADJ_log  \\\n",
       "Akron, OH Metro Area-Bus 2002          0            24    15.469231   \n",
       "                         2003          0            24    15.501150   \n",
       "                         2004          0            24    15.591676   \n",
       "                         2005          0            24    15.609548   \n",
       "                         2006          0            24    15.619001   \n",
       "\n",
       "                               VRM_ADJ_log  FARE_per_UPT_2018_log  \\\n",
       "Akron, OH Metro Area-Bus 2002    15.208377               0.148254   \n",
       "                         2003    15.195930               0.462904   \n",
       "                         2004    15.277699               0.414204   \n",
       "                         2005    15.214971               0.460804   \n",
       "                         2006    15.200501               0.462420   \n",
       "\n",
       "                               POP_EMP_log  GAS_PRICE_2018_log  \\\n",
       "Akron, OH Metro Area-Bus 2002    13.808216            1.066089   \n",
       "                         2003    13.823451            1.138954   \n",
       "                         2004    13.839439            1.233697   \n",
       "                         2005    13.857195            1.361617   \n",
       "                         2006    13.879496            1.429114   \n",
       "\n",
       "                               TOTAL_MED_INC_INDIV_2018_log  PCT_HH_NO_VEH  \\\n",
       "Akron, OH Metro Area-Bus 2002                     10.479210           8.60   \n",
       "                         2003                     10.446267           8.20   \n",
       "                         2004                     10.403980           7.79   \n",
       "                         2005                     10.365663           7.47   \n",
       "                         2006                     10.305856           6.85   \n",
       "\n",
       "                               TSD_POP_PCT  JTW_HOME_PCT  YEARS_SINCE_TNC_BUS  \\\n",
       "Akron, OH Metro Area-Bus 2002    18.525984           3.1                  0.0   \n",
       "                         2003    18.076969           3.1                  0.0   \n",
       "                         2004    17.637662           3.1                  0.0   \n",
       "                         2005    17.243546           3.1                  0.0   \n",
       "                         2006    16.754287           2.5                  0.0   \n",
       "\n",
       "                               YEARS_SINCE_TNC_RAIL  BIKE_SHARE  scooter_flag  \\\n",
       "Akron, OH Metro Area-Bus 2002                   0.0         0.0           0.0   \n",
       "                         2003                   0.0         0.0           0.0   \n",
       "                         2004                   0.0         0.0           0.0   \n",
       "                         2005                   0.0         0.0           0.0   \n",
       "                         2006                   0.0         0.0           0.0   \n",
       "\n",
       "                                effects  residual  \n",
       "Akron, OH Metro Area-Bus 2002  1.058656 -0.130628  \n",
       "                         2003  1.058656 -0.000154  \n",
       "                         2004  1.058656 -0.023848  \n",
       "                         2005  1.058656  0.018871  \n",
       "                         2006  1.058656 -0.000043  "
      ]
     },
     "execution_count": 75,
     "metadata": {},
     "output_type": "execute_result"
    }
   ],
   "source": [
    "app_data.head()"
   ]
  },
  {
   "cell_type": "code",
   "execution_count": 76,
   "metadata": {
    "collapsed": true
   },
   "outputs": [],
   "source": [
    "# calculate the fitted values\n",
    "app_data['fitted'] = app_data['effects']\n",
    "for var in res.params.keys(): \n",
    "    app_data['fitted'] = app_data['fitted'] + (res.params[var] * app_data[var])\n",
    "\n",
    "# and check that we add up correctly\n",
    "app_data['check_fitted'] = app_data['fitted'] + app_data['residual'] - app_data['UPT_ADJ_log']"
   ]
  },
  {
   "cell_type": "code",
   "execution_count": 77,
   "metadata": {
    "collapsed": true
   },
   "outputs": [],
   "source": [
    "# create the necessary columns\n",
    "\n",
    "# dependents\n",
    "app_data['UPT_ADJ']    = np.exp(app_data['UPT_ADJ_log']) - 1\n",
    "app_data['fitted_exp'] = np.exp(app_data['fitted']) - 1\n",
    "\n",
    "# linear versions of logged variables\n",
    "for var in res.params.keys(): \n",
    "    if '_log' in var: \n",
    "        app_data[var.replace('_log', '')] = np.exp(app_data[var]) - 1              \n",
    "\n",
    "# ratios and differences\n",
    "for var in res.params.keys(): \n",
    "    if '_log' in var: \n",
    "        app_data[var.replace('_log', '_ratio')] = 1\n",
    "    else: \n",
    "        app_data[var+'_diff'] = 0\n",
    "\n",
    "# FAC multipliers\n",
    "for var in res.params.keys(): \n",
    "    app_data[var+'_FAC_ratio'] = 1\n",
    "\n",
    "app_data['UPT_ADJ_base'] = 0\n",
    "app_data['UPT_ADJ_ratio'] = 1\n",
    "app_data['fitted_exp_ratio'] = 1\n",
    "app_data['UPT_ADJ_diff'] = 0\n",
    "app_data['fitted_exp_diff'] = 0\n",
    "\n",
    "# for tracking new systems\n",
    "app_data['UPT_ADJ_first_year'] = 0\n",
    "app_data['UPT_ADJ_new_reporter'] = 0\n"
   ]
  },
  {
   "cell_type": "code",
   "execution_count": null,
   "metadata": {
    "collapsed": true
   },
   "outputs": [],
   "source": [
    "# get the ridership in the first year the system starts. This allows us to track new systems. \n",
    "# calculate the FAC relative to a specific base year\n",
    "ids = app_data.index.get_level_values(0).unique()\n",
    "\n",
    "for id in ids: \n",
    "    years = app_data.loc[id].index.get_level_values(0).sort_values()\n",
    "    first_year = years[0]\n",
    "\n",
    "    app_data.loc[(id,first_year),'UPT_ADJ_new_reporter'] = app_data.loc[(id,first_year),'UPT_ADJ']\n",
    "    \n",
    "    for year in years: \n",
    "        app_data.loc[(id,year),'UPT_ADJ_first_year']   = app_data.loc[(id,first_year),'UPT_ADJ']\n"
   ]
  },
  {
   "cell_type": "code",
   "execution_count": null,
   "metadata": {
    "collapsed": true
   },
   "outputs": [],
   "source": [
    "# calculate the FAC relative to a specific base year\n",
    "ids = app_data.index.get_level_values(0).unique()\n",
    "\n",
    "for id in ids: \n",
    "    years = app_data.loc[id].index.get_level_values(0).sort_values()\n",
    "\n",
    "    for year in years[1:]:       \n",
    "        base_year = year-1\n",
    "        \n",
    "        for var in res.params.keys(): \n",
    "            # ratios and differences\n",
    "            if '_log' in var: \n",
    "                out_var = var.replace('_log', '_ratio')\n",
    "                app_data.loc[(id,year), out_var] = (app_data.loc[(id,year), var] \n",
    "                                                 / app_data.loc[(id,base_year), var])\n",
    "            else: \n",
    "                out_var = var+'_diff'                    \n",
    "                app_data.loc[(id,year), out_var] = (app_data.loc[(id,year), var] \n",
    "                                                 - app_data.loc[(id,base_year), var])\n",
    "\n",
    "            # FAC multipliers\n",
    "            app_data.loc[(id,year),var+'_FAC_ratio'] = np.exp(res.params[var] * (\n",
    "                                                    app_data.loc[(id,year), var] \n",
    "                                                    - app_data.loc[(id,base_year), var]))\n",
    "\n",
    "            # estimated effects (if time effects is zero, no change)\n",
    "            app_data.loc[(id,year),'effects_FAC_ratio'] = np.exp(\n",
    "                                                    app_data.loc[(id,year), 'effects'] \n",
    "                                                    - app_data.loc[(id,base_year), 'effects'])\n",
    "\n",
    "            # residual\n",
    "            app_data.loc[(id,year),'residual_FAC_ratio'] = np.exp(\n",
    "                                                    app_data.loc[(id,year), 'residual'] \n",
    "                                                    - app_data.loc[(id,base_year), 'residual'])\n",
    "\n",
    "        # observed and fitted changes            \n",
    "        app_data.loc[(id,year),'UPT_ADJ_base'] = app_data.loc[(id,base_year),'UPT_ADJ']\n",
    "        app_data.loc[(id,year),'UPT_ADJ_ratio'] = (app_data.loc[(id,year),'UPT_ADJ'] \n",
    "                                                 / app_data.loc[(id,base_year),'UPT_ADJ'])\n",
    "        app_data.loc[(id,year),'fitted_exp_ratio'] = (app_data.loc[(id,year),'fitted_exp'] \n",
    "                                                 / app_data.loc[(id,base_year),'fitted_exp'])\n",
    "\n",
    "        app_data.loc[(id,year),'UPT_ADJ_diff'] = (app_data.loc[(id,year),'UPT_ADJ'] \n",
    "                                                 - app_data.loc[(id,base_year),'UPT_ADJ'])\n",
    "        app_data.loc[(id,year),'fitted_exp_diff'] = (app_data.loc[(id,year),'fitted_exp'] \n",
    "                                                 - app_data.loc[(id,base_year),'fitted_exp'])\n",
    "        "
   ]
  },
  {
   "cell_type": "code",
   "execution_count": null,
   "metadata": {
    "collapsed": true
   },
   "outputs": [],
   "source": [
    "# calculate the FAC\n",
    "app_data['FAC_Sum'] = 0\n",
    "for var in res.params.keys(): \n",
    "    app_data[var+'_FAC'] = (app_data[var+'_FAC_ratio'] - 1) * app_data['UPT_ADJ_base']\n",
    "    app_data['FAC_Sum'] = app_data['FAC_Sum'] + app_data[var+'_FAC']\n"
   ]
  },
  {
   "cell_type": "code",
   "execution_count": null,
   "metadata": {
    "collapsed": true
   },
   "outputs": [],
   "source": [
    "\n",
    "# total FAC is based on the fitted model (applied multiplicitively)\n",
    "app_data['Known_FAC'] = (app_data['fitted_exp_ratio'] - 1) * app_data['UPT_ADJ_base']\n",
    "\n",
    "# uknown change is the difference between the observed change and the known change\n",
    "app_data['Unknown_FAC'] = app_data['UPT_ADJ_diff'] - app_data['Known_FAC']\n",
    "\n",
    "# the change in ridership associated new systems\n",
    "app_data['New_Reporter_FAC'] = app_data['UPT_ADJ_new_reporter'] \n",
    "\n",
    "# should be teh same as UPT_ADJ_DIFF\n",
    "app_data['Total_Change'] = app_data['Known_FAC'] + app_data['Unknown_FAC'] + app_data['New_Reporter_FAC']\n"
   ]
  },
  {
   "cell_type": "code",
   "execution_count": null,
   "metadata": {
    "collapsed": true
   },
   "outputs": [],
   "source": [
    "# calculate APTA - 4 groups\n",
    "app_data['CLUSTER_APTA4'] = np.floor(app_data['CLUSTER_APTA']/10)"
   ]
  },
  {
   "cell_type": "code",
   "execution_count": null,
   "metadata": {
    "collapsed": true
   },
   "outputs": [],
   "source": [
    "# reset the index so I get ID and year\n",
    "app_data = app_data.reset_index()\n",
    "app_data = app_data.rename(columns={'level_0' : 'ID', 'level_1' : 'Year'})\n",
    "app_data.to_csv('FAC.csv')"
   ]
  },
  {
   "cell_type": "code",
   "execution_count": null,
   "metadata": {
    "collapsed": true
   },
   "outputs": [],
   "source": [
    "# these are the fields we keep\n",
    "out_fields = ['ID', 'Year', 'RAIL_FLAG', \n",
    "              'CLUSTER_APTA', 'CLUSTER_APTA4',    \n",
    "              'UPT_ADJ_first_year', \n",
    "              'UPT_ADJ_base', 'UPT_ADJ', 'UPT_ADJ_diff', \n",
    "              'fitted_exp', 'fitted_exp_diff']\n",
    "\n",
    "# exogenous variables \n",
    "for var in res.params.keys(): \n",
    "    out_var = var.replace('_log', '')\n",
    "    out_fields = out_fields + [out_var]\n",
    "    \n",
    "# FAC\n",
    "for var in res.params.keys(): \n",
    "    out_fields = out_fields + [var+'_FAC']\n",
    "out_fields = out_fields + ['FAC_Sum', 'Known_FAC', 'Unknown_FAC', 'New_Reporter_FAC', 'Total_Change']\n",
    "    \n",
    "# keep those fields\n",
    "summary_data = app_data.reset_index()[out_fields]"
   ]
  },
  {
   "cell_type": "code",
   "execution_count": null,
   "metadata": {
    "collapsed": true
   },
   "outputs": [],
   "source": []
  },
  {
   "cell_type": "code",
   "execution_count": null,
   "metadata": {
    "collapsed": true
   },
   "outputs": [],
   "source": [
    "# take weighted average of exogenous variables\n",
    "for var in res.params.keys(): \n",
    "    out_var = var.replace('_log', '')\n",
    "    summary_data[out_var] = summary_data[out_var] * summary_data['UPT_ADJ_base']\n",
    "\n",
    "# aggregate to bus/rail totals\n",
    "summary_data_apta4 = summary_data.groupby(by=['CLUSTER_APTA4', 'RAIL_FLAG', 'Year']).agg('sum')\n",
    "\n",
    "# divide for weighted averages\n",
    "for var in res.params.keys(): \n",
    "    out_var = var.replace('_log', '')\n",
    "    summary_data_apta4[out_var] = summary_data_apta4[out_var] / summary_data_apta4['UPT_ADJ_base']\n",
    "    "
   ]
  },
  {
   "cell_type": "code",
   "execution_count": null,
   "metadata": {
    "collapsed": true
   },
   "outputs": [],
   "source": [
    "\n",
    "summary_data_apta4.to_csv('FAC_totals_APTA4_CLUSTERS.csv')\n"
   ]
  },
  {
   "cell_type": "code",
   "execution_count": null,
   "metadata": {
    "collapsed": true
   },
   "outputs": [],
   "source": []
  },
  {
   "cell_type": "code",
   "execution_count": null,
   "metadata": {
    "collapsed": true
   },
   "outputs": [],
   "source": []
  }
 ],
 "metadata": {
  "anaconda-cloud": {},
  "kernelspec": {
   "display_name": "Python [default]",
   "language": "python",
   "name": "python3"
  },
  "language_info": {
   "codemirror_mode": {
    "name": "ipython",
    "version": 3
   },
   "file_extension": ".py",
   "mimetype": "text/x-python",
   "name": "python",
   "nbconvert_exporter": "python",
   "pygments_lexer": "ipython3",
   "version": "3.5.6"
  }
 },
 "nbformat": 4,
 "nbformat_minor": 1
}
