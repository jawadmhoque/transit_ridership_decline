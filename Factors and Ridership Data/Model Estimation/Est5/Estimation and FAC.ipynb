{
 "cells": [
  {
   "cell_type": "code",
   "execution_count": 1,
   "metadata": {
    "collapsed": false
   },
   "outputs": [
    {
     "name": "stderr",
     "output_type": "stream",
     "text": [
      "C:\\Program Files\\Anaconda3\\lib\\site-packages\\statsmodels\\compat\\pandas.py:56: FutureWarning: The pandas.core.datetools module is deprecated and will be removed in a future version. Please use the pandas.tseries module instead.\n",
      "  from pandas.core import datetools\n"
     ]
    }
   ],
   "source": [
    "import pandas as pd\n",
    "import seaborn as sns\n",
    "import numpy as np\n",
    "import linearmodels as lm\n",
    "import matplotlib\n",
    "import math\n",
    "import statsmodels.formula.api as smf\n",
    "import statsmodels.api as sm\n",
    "\n",
    "from linearmodels.panel import PanelOLS\n",
    "from linearmodels.panel import RandomEffects\n",
    "from linearmodels.panel import FirstDifferenceOLS\n",
    "from linearmodels.panel import compare\n",
    "from matplotlib import pyplot as plt\n",
    "\n",
    "from pandas.api.types import is_numeric_dtype\n",
    "\n",
    "pd.set_option('display.max_columns', 500)\n",
    "\n",
    "%matplotlib inline"
   ]
  },
  {
   "cell_type": "code",
   "execution_count": 2,
   "metadata": {
    "collapsed": false
   },
   "outputs": [
    {
     "name": "stderr",
     "output_type": "stream",
     "text": [
      "C:\\Program Files\\Anaconda3\\lib\\site-packages\\IPython\\core\\interactiveshell.py:2717: DtypeWarning: Columns (5,144) have mixed types. Specify dtype option on import or set low_memory=False.\n",
      "  interactivity=interactivity, compiler=compiler, result=result)\n"
     ]
    }
   ],
   "source": [
    "# read the main data set\n",
    "df=pd.read_csv('estimation_file.csv',\n",
    "                    encoding='utf-8')\n"
   ]
  },
  {
   "cell_type": "code",
   "execution_count": 3,
   "metadata": {
    "collapsed": true
   },
   "outputs": [],
   "source": [
    "# exclude if ridership is zero--missing data\n",
    "df = df[df['UPT_ADJ']>0]"
   ]
  },
  {
   "cell_type": "code",
   "execution_count": 5,
   "metadata": {
    "collapsed": false
   },
   "outputs": [
    {
     "name": "stdout",
     "output_type": "stream",
     "text": [
      "Excluding 0 records with missing VRM\n",
      "Excluding 78 records with zero or negative fare\n",
      "Excluding 11 records with fare greater than $20\n",
      "Excluding 30 records with negative 0 veh HH\n"
     ]
    }
   ],
   "source": [
    "# exclude problematic data\n",
    "old_len = len(df)\n",
    "df = df[df['VRM_ADJ']>0]\n",
    "new_len = len(df)\n",
    "print('Excluding ' + str(old_len-new_len) + ' records with missing VRM') \n",
    "\n",
    "# exclude problematic data\n",
    "old_len = len(df)\n",
    "df = df[df['FARE_per_UPT_2018']>0]\n",
    "new_len = len(df)\n",
    "print('Excluding ' + str(old_len-new_len) + ' records with zero or negative fare') \n",
    "\n",
    "# exclude problematic data\n",
    "old_len = len(df)\n",
    "df = df[df['FARE_per_UPT_2018']<20]\n",
    "new_len = len(df)\n",
    "print('Excluding ' + str(old_len-new_len) + ' records with fare greater than $20') \n",
    "\n",
    "# exclude problematic data\n",
    "old_len = len(df)\n",
    "df = df[df['HH_0Veh']>0]\n",
    "new_len = len(df)\n",
    "print('Excluding ' + str(old_len-new_len) + ' records with negative 0 veh HH') \n"
   ]
  },
  {
   "cell_type": "code",
   "execution_count": 6,
   "metadata": {
    "collapsed": true
   },
   "outputs": [],
   "source": [
    "df['BUS_FLAG'] = np.where(df['Mode']=='Bus', 1, 0)\n",
    "df['RAIL_FLAG'] = np.where(df['Mode']=='Rail', 1, 0)"
   ]
  },
  {
   "cell_type": "code",
   "execution_count": 7,
   "metadata": {
    "collapsed": true
   },
   "outputs": [],
   "source": [
    "# include population + employment\n",
    "df['POP_EMP'] = df['Tot_Pop'] + df['TOT_EMP_MSA']\n",
    "df['HH_EMP'] = df['Total_HH'] + df['TOT_EMP_MSA']\n",
    "\n",
    "# percent of population in transit supportive density\n",
    "df['TSD_POP_PCT'] = df['POP_CENSUSTRACT'] / df['Tot_Pop']\n",
    "\n",
    "# percent of pop born outside USA\n",
    "df['Tot_NonUSA_POP_pct'] = df['Tot_NonUSA_POP'] / df['Tot_Pop'] * 100\n"
   ]
  },
  {
   "cell_type": "code",
   "execution_count": 8,
   "metadata": {
    "collapsed": true
   },
   "outputs": [],
   "source": [
    "# mode specific effects\n",
    "\n",
    "df['Bus_VRM_ADJ_RAIL']  = df['Bus_VRM_ADJ'] * df['RAIL_FLAG']\n",
    "df['Rail_VRM_ADJ_BUS'] = df['Rail_VRM_ADJ']  * df['BUS_FLAG']\n",
    "\n",
    "df['Bus_VRM_ADJ_RAIL_log'] = np.log(1+df['Bus_VRM_ADJ_RAIL'])\n",
    "df['Rail_VRM_ADJ_BUS_log'] = np.log(1+df['Rail_VRM_ADJ_BUS'])\n"
   ]
  },
  {
   "cell_type": "code",
   "execution_count": 9,
   "metadata": {
    "collapsed": true
   },
   "outputs": [],
   "source": [
    "# time effects\n",
    "df['YEARS_SINCE_2002']  = df['Year'] - 2002\n",
    "\n",
    "df['YEARS_2002_2010']  = df['Year'].apply(lambda x : min(x-2002, 8))\n",
    "df['YEARS_AFTER_2010'] = df['Year'].apply(lambda x : max(x-2010, 0))\n",
    "\n",
    "df['YEARS_2002_2014']  = df['Year'].apply(lambda x : min(x-2002, 12))\n",
    "df['YEARS_AFTER_2014'] = df['Year'].apply(lambda x : max(x-2014, 0))\n",
    "\n",
    "\n",
    "df['YEARS_SINCE_2002_BUS']  = df['YEARS_SINCE_2002'] * df['BUS_FLAG']\n",
    "df['YEARS_SINCE_2002_RAIL'] = df['YEARS_SINCE_2002'] * df['RAIL_FLAG']\n",
    "\n",
    "df['YEARS_2002_2010_BUS']   = df['YEARS_2002_2010'] * df['BUS_FLAG']\n",
    "df['YEARS_AFTER_2010_BUS']  = df['YEARS_AFTER_2010']* df['BUS_FLAG']\n",
    "df['YEARS_2002_2010_RAIL']  = df['YEARS_2002_2010'] * df['RAIL_FLAG']\n",
    "df['YEARS_AFTER_2010_RAIL'] = df['YEARS_AFTER_2010']* df['RAIL_FLAG']\n",
    "\n",
    "df['YEARS_2002_2014_BUS']   = df['YEARS_2002_2014'] * df['BUS_FLAG']\n",
    "df['YEARS_AFTER_2014_BUS']  = df['YEARS_AFTER_2014']* df['BUS_FLAG']\n",
    "df['YEARS_2002_2014_RAIL']  = df['YEARS_2002_2014'] * df['RAIL_FLAG']\n",
    "df['YEARS_AFTER_2014_RAIL'] = df['YEARS_AFTER_2014']* df['RAIL_FLAG']"
   ]
  },
  {
   "cell_type": "code",
   "execution_count": 10,
   "metadata": {
    "collapsed": true
   },
   "outputs": [],
   "source": [
    "# calculate bus vs rail stuff\n",
    "\n",
    "# various bus/rail specifics\n",
    "\n",
    "df['TNC_FLAG_BUS'] = df['TNC_FLAG'] * df['BUS_FLAG']\n",
    "df['TNC_FLAG_RAIL'] = df['TNC_FLAG'] * df['RAIL_FLAG']\n",
    "\n",
    "df['YEARS_SINCE_TNC_BUS'] = df['YEARS_SINCE_TNC'] * df['BUS_FLAG']\n",
    "df['YEARS_SINCE_TNC_RAIL'] = df['YEARS_SINCE_TNC'] * df['RAIL_FLAG']\n",
    "\n",
    "df['dockless_flag'] = df['dockCt'].apply(lambda x : min(x,1))\n",
    "df['scooter_flag']  = df['scooterCt'].apply(lambda x : min(x,1))\n",
    "\n",
    "df['BIKE_SHARE'] = df['PBS_Flag'] + df['dockless_flag']\n",
    "df['BIKE_SHARE'] = df['BIKE_SHARE'].apply(lambda x : min(x,1))\n",
    "\n",
    "\n",
    "df['PBS_Flag_BUS']   = df['PBS_Flag']   * df['BUS_FLAG']\n",
    "df['dockCt_BUS']     = df['dockCt']     * df['BUS_FLAG']\n",
    "df['docklessCt_BUS'] = df['docklessCt'] * df['BUS_FLAG']\n",
    "df['scooterCt_BUS']  = df['scooterCt']  * df['BUS_FLAG']\n",
    "df['dockless_flag_BUS'] = df['dockless_flag'] * df['BUS_FLAG']\n",
    "df['scooter_flag_BUS']  = df['scooter_flag']  * df['BUS_FLAG']\n",
    "df['BIKE_SHARE_BUS']  = df['BIKE_SHARE']  * df['BUS_FLAG']\n",
    "\n",
    "\n",
    "df['PBS_Flag_RAIL']   = df['PBS_Flag']   * df['RAIL_FLAG']\n",
    "df['dockCt_RAIL']     = df['dockCt']     * df['RAIL_FLAG']\n",
    "df['docklessCt_RAIL'] = df['docklessCt'] * df['RAIL_FLAG']\n",
    "df['scooterCt_RAIL']  = df['scooterCt']  * df['RAIL_FLAG']\n",
    "df['dockless_flag_RAIL'] = df['dockless_flag'] * df['RAIL_FLAG']\n",
    "df['scooter_flag_RAIL']  = df['scooter_flag']  * df['RAIL_FLAG']\n",
    "df['BIKE_SHARE_RAIL']  = df['BIKE_SHARE']  * df['RAIL_FLAG']\n",
    "\n",
    "\n"
   ]
  },
  {
   "cell_type": "code",
   "execution_count": null,
   "metadata": {
    "collapsed": true
   },
   "outputs": [],
   "source": []
  },
  {
   "cell_type": "code",
   "execution_count": 11,
   "metadata": {
    "collapsed": true
   },
   "outputs": [],
   "source": [
    "# set the indices\n",
    "df['ID'] = df['MNAME'] + '-' + df['Mode']\n",
    "df=df.set_index(['ID','Year'])"
   ]
  },
  {
   "cell_type": "code",
   "execution_count": 12,
   "metadata": {
    "collapsed": true
   },
   "outputs": [],
   "source": [
    "# keep only the numeric columns -- the estimation will give an error otherwise\n",
    "df = df.select_dtypes(include=[np.number])"
   ]
  },
  {
   "cell_type": "code",
   "execution_count": 13,
   "metadata": {
    "collapsed": false
   },
   "outputs": [
    {
     "name": "stderr",
     "output_type": "stream",
     "text": [
      "C:\\Program Files\\Anaconda3\\lib\\site-packages\\ipykernel\\__main__.py:3: RuntimeWarning: invalid value encountered in log\n",
      "  app.launch_new_instance()\n",
      "C:\\Program Files\\Anaconda3\\lib\\site-packages\\ipykernel\\__main__.py:3: RuntimeWarning: divide by zero encountered in log\n",
      "  app.launch_new_instance()\n"
     ]
    }
   ],
   "source": [
    "# create a log of all fields\n",
    "for col in df.columns:\n",
    "    df[col+'_log'] = np.log(df[col]+1)\n",
    "    "
   ]
  },
  {
   "cell_type": "code",
   "execution_count": null,
   "metadata": {
    "collapsed": false
   },
   "outputs": [],
   "source": []
  },
  {
   "cell_type": "code",
   "execution_count": 14,
   "metadata": {
    "collapsed": false
   },
   "outputs": [
    {
     "name": "stderr",
     "output_type": "stream",
     "text": [
      "C:\\Program Files\\Anaconda3\\lib\\site-packages\\ipykernel\\__main__.py:8: SettingWithCopyWarning: \n",
      "A value is trying to be set on a copy of a slice from a DataFrame.\n",
      "Try using .loc[row_indexer,col_indexer] = value instead\n",
      "\n",
      "See the caveats in the documentation: http://pandas.pydata.org/pandas-docs/stable/indexing.html#indexing-view-versus-copy\n"
     ]
    },
    {
     "ename": "KeyboardInterrupt",
     "evalue": "",
     "output_type": "error",
     "traceback": [
      "\u001b[0;31m---------------------------------------------------------------------------\u001b[0m",
      "\u001b[0;31mKeyboardInterrupt\u001b[0m                         Traceback (most recent call last)",
      "\u001b[0;32m<ipython-input-14-a42e1c8fd07d>\u001b[0m in \u001b[0;36m<module>\u001b[0;34m()\u001b[0m\n\u001b[1;32m      6\u001b[0m \u001b[1;33m\u001b[0m\u001b[0m\n\u001b[1;32m      7\u001b[0m     \u001b[1;32mfor\u001b[0m \u001b[0mcol\u001b[0m \u001b[1;32min\u001b[0m \u001b[0mdf\u001b[0m\u001b[1;33m.\u001b[0m\u001b[0mcolumns\u001b[0m\u001b[1;33m:\u001b[0m\u001b[1;33m\u001b[0m\u001b[0m\n\u001b[0;32m----> 8\u001b[0;31m         \u001b[0mdf2\u001b[0m\u001b[1;33m[\u001b[0m\u001b[0mcol\u001b[0m \u001b[1;33m+\u001b[0m \u001b[1;34m'_lag1'\u001b[0m\u001b[1;33m]\u001b[0m \u001b[1;33m=\u001b[0m \u001b[0mdf2\u001b[0m\u001b[1;33m[\u001b[0m\u001b[0mcol\u001b[0m\u001b[1;33m]\u001b[0m\u001b[1;33m.\u001b[0m\u001b[0mshift\u001b[0m\u001b[1;33m(\u001b[0m\u001b[1;36m1\u001b[0m\u001b[1;33m)\u001b[0m\u001b[1;33m\u001b[0m\u001b[0m\n\u001b[0m",
      "\u001b[0;32mC:\\Program Files\\Anaconda3\\lib\\site-packages\\pandas\\core\\frame.py\u001b[0m in \u001b[0;36m__setitem__\u001b[0;34m(self, key, value)\u001b[0m\n\u001b[1;32m   3117\u001b[0m         \u001b[1;32melse\u001b[0m\u001b[1;33m:\u001b[0m\u001b[1;33m\u001b[0m\u001b[0m\n\u001b[1;32m   3118\u001b[0m             \u001b[1;31m# set column\u001b[0m\u001b[1;33m\u001b[0m\u001b[1;33m\u001b[0m\u001b[0m\n\u001b[0;32m-> 3119\u001b[0;31m             \u001b[0mself\u001b[0m\u001b[1;33m.\u001b[0m\u001b[0m_set_item\u001b[0m\u001b[1;33m(\u001b[0m\u001b[0mkey\u001b[0m\u001b[1;33m,\u001b[0m \u001b[0mvalue\u001b[0m\u001b[1;33m)\u001b[0m\u001b[1;33m\u001b[0m\u001b[0m\n\u001b[0m\u001b[1;32m   3120\u001b[0m \u001b[1;33m\u001b[0m\u001b[0m\n\u001b[1;32m   3121\u001b[0m     \u001b[1;32mdef\u001b[0m \u001b[0m_setitem_slice\u001b[0m\u001b[1;33m(\u001b[0m\u001b[0mself\u001b[0m\u001b[1;33m,\u001b[0m \u001b[0mkey\u001b[0m\u001b[1;33m,\u001b[0m \u001b[0mvalue\u001b[0m\u001b[1;33m)\u001b[0m\u001b[1;33m:\u001b[0m\u001b[1;33m\u001b[0m\u001b[0m\n",
      "\u001b[0;32mC:\\Program Files\\Anaconda3\\lib\\site-packages\\pandas\\core\\frame.py\u001b[0m in \u001b[0;36m_set_item\u001b[0;34m(self, key, value)\u001b[0m\n\u001b[1;32m   3199\u001b[0m         \u001b[1;31m# value exception to occur first\u001b[0m\u001b[1;33m\u001b[0m\u001b[1;33m\u001b[0m\u001b[0m\n\u001b[1;32m   3200\u001b[0m         \u001b[1;32mif\u001b[0m \u001b[0mlen\u001b[0m\u001b[1;33m(\u001b[0m\u001b[0mself\u001b[0m\u001b[1;33m)\u001b[0m\u001b[1;33m:\u001b[0m\u001b[1;33m\u001b[0m\u001b[0m\n\u001b[0;32m-> 3201\u001b[0;31m             \u001b[0mself\u001b[0m\u001b[1;33m.\u001b[0m\u001b[0m_check_setitem_copy\u001b[0m\u001b[1;33m(\u001b[0m\u001b[1;33m)\u001b[0m\u001b[1;33m\u001b[0m\u001b[0m\n\u001b[0m\u001b[1;32m   3202\u001b[0m \u001b[1;33m\u001b[0m\u001b[0m\n\u001b[1;32m   3203\u001b[0m     \u001b[1;32mdef\u001b[0m \u001b[0minsert\u001b[0m\u001b[1;33m(\u001b[0m\u001b[0mself\u001b[0m\u001b[1;33m,\u001b[0m \u001b[0mloc\u001b[0m\u001b[1;33m,\u001b[0m \u001b[0mcolumn\u001b[0m\u001b[1;33m,\u001b[0m \u001b[0mvalue\u001b[0m\u001b[1;33m,\u001b[0m \u001b[0mallow_duplicates\u001b[0m\u001b[1;33m=\u001b[0m\u001b[1;32mFalse\u001b[0m\u001b[1;33m)\u001b[0m\u001b[1;33m:\u001b[0m\u001b[1;33m\u001b[0m\u001b[0m\n",
      "\u001b[0;32mC:\\Program Files\\Anaconda3\\lib\\site-packages\\pandas\\core\\generic.py\u001b[0m in \u001b[0;36m_check_setitem_copy\u001b[0;34m(self, stacklevel, t, force)\u001b[0m\n\u001b[1;32m   2672\u001b[0m             \u001b[1;32mtry\u001b[0m\u001b[1;33m:\u001b[0m\u001b[1;33m\u001b[0m\u001b[0m\n\u001b[1;32m   2673\u001b[0m                 \u001b[0mgc\u001b[0m\u001b[1;33m.\u001b[0m\u001b[0mcollect\u001b[0m\u001b[1;33m(\u001b[0m\u001b[1;36m2\u001b[0m\u001b[1;33m)\u001b[0m\u001b[1;33m\u001b[0m\u001b[0m\n\u001b[0;32m-> 2674\u001b[0;31m                 \u001b[1;32mif\u001b[0m \u001b[1;32mnot\u001b[0m \u001b[0mgc\u001b[0m\u001b[1;33m.\u001b[0m\u001b[0mget_referents\u001b[0m\u001b[1;33m(\u001b[0m\u001b[0mself\u001b[0m\u001b[1;33m.\u001b[0m\u001b[0m_is_copy\u001b[0m\u001b[1;33m(\u001b[0m\u001b[1;33m)\u001b[0m\u001b[1;33m)\u001b[0m\u001b[1;33m:\u001b[0m\u001b[1;33m\u001b[0m\u001b[0m\n\u001b[0m\u001b[1;32m   2675\u001b[0m                     \u001b[0mself\u001b[0m\u001b[1;33m.\u001b[0m\u001b[0m_is_copy\u001b[0m \u001b[1;33m=\u001b[0m \u001b[1;32mNone\u001b[0m\u001b[1;33m\u001b[0m\u001b[0m\n\u001b[1;32m   2676\u001b[0m                     \u001b[1;32mreturn\u001b[0m\u001b[1;33m\u001b[0m\u001b[0m\n",
      "\u001b[0;31mKeyboardInterrupt\u001b[0m: "
     ]
    }
   ],
   "source": [
    "# calculate lags\n",
    "\n",
    "ids = df.index.get_level_values(0).unique()\n",
    "for id in ids: \n",
    "    df2 = df.loc[id]\n",
    "    \n",
    "    for col in df.columns:\n",
    "        df2[col + '_lag1'] = df2[col].shift(1)\n"
   ]
  },
  {
   "cell_type": "code",
   "execution_count": 15,
   "metadata": {
    "collapsed": false
   },
   "outputs": [
    {
     "ename": "KeyError",
     "evalue": "\"['UPT_ADJ_lag1'] not in index\"",
     "output_type": "error",
     "traceback": [
      "\u001b[0;31m---------------------------------------------------------------------------\u001b[0m",
      "\u001b[0;31mKeyError\u001b[0m                                  Traceback (most recent call last)",
      "\u001b[0;32m<ipython-input-15-8527fd1d700b>\u001b[0m in \u001b[0;36m<module>\u001b[0;34m()\u001b[0m\n\u001b[0;32m----> 1\u001b[0;31m \u001b[0mdf\u001b[0m\u001b[1;33m[\u001b[0m\u001b[1;33m[\u001b[0m\u001b[1;34m'UPT_ADJ'\u001b[0m\u001b[1;33m,\u001b[0m \u001b[1;34m'UPT_ADJ_lag1'\u001b[0m\u001b[1;33m]\u001b[0m\u001b[1;33m]\u001b[0m\u001b[1;33m\u001b[0m\u001b[0m\n\u001b[0m",
      "\u001b[0;32mC:\\Program Files\\Anaconda3\\lib\\site-packages\\pandas\\core\\frame.py\u001b[0m in \u001b[0;36m__getitem__\u001b[0;34m(self, key)\u001b[0m\n\u001b[1;32m   2680\u001b[0m         \u001b[1;32mif\u001b[0m \u001b[0misinstance\u001b[0m\u001b[1;33m(\u001b[0m\u001b[0mkey\u001b[0m\u001b[1;33m,\u001b[0m \u001b[1;33m(\u001b[0m\u001b[0mSeries\u001b[0m\u001b[1;33m,\u001b[0m \u001b[0mnp\u001b[0m\u001b[1;33m.\u001b[0m\u001b[0mndarray\u001b[0m\u001b[1;33m,\u001b[0m \u001b[0mIndex\u001b[0m\u001b[1;33m,\u001b[0m \u001b[0mlist\u001b[0m\u001b[1;33m)\u001b[0m\u001b[1;33m)\u001b[0m\u001b[1;33m:\u001b[0m\u001b[1;33m\u001b[0m\u001b[0m\n\u001b[1;32m   2681\u001b[0m             \u001b[1;31m# either boolean or fancy integer index\u001b[0m\u001b[1;33m\u001b[0m\u001b[1;33m\u001b[0m\u001b[0m\n\u001b[0;32m-> 2682\u001b[0;31m             \u001b[1;32mreturn\u001b[0m \u001b[0mself\u001b[0m\u001b[1;33m.\u001b[0m\u001b[0m_getitem_array\u001b[0m\u001b[1;33m(\u001b[0m\u001b[0mkey\u001b[0m\u001b[1;33m)\u001b[0m\u001b[1;33m\u001b[0m\u001b[0m\n\u001b[0m\u001b[1;32m   2683\u001b[0m         \u001b[1;32melif\u001b[0m \u001b[0misinstance\u001b[0m\u001b[1;33m(\u001b[0m\u001b[0mkey\u001b[0m\u001b[1;33m,\u001b[0m \u001b[0mDataFrame\u001b[0m\u001b[1;33m)\u001b[0m\u001b[1;33m:\u001b[0m\u001b[1;33m\u001b[0m\u001b[0m\n\u001b[1;32m   2684\u001b[0m             \u001b[1;32mreturn\u001b[0m \u001b[0mself\u001b[0m\u001b[1;33m.\u001b[0m\u001b[0m_getitem_frame\u001b[0m\u001b[1;33m(\u001b[0m\u001b[0mkey\u001b[0m\u001b[1;33m)\u001b[0m\u001b[1;33m\u001b[0m\u001b[0m\n",
      "\u001b[0;32mC:\\Program Files\\Anaconda3\\lib\\site-packages\\pandas\\core\\frame.py\u001b[0m in \u001b[0;36m_getitem_array\u001b[0;34m(self, key)\u001b[0m\n\u001b[1;32m   2724\u001b[0m             \u001b[1;32mreturn\u001b[0m \u001b[0mself\u001b[0m\u001b[1;33m.\u001b[0m\u001b[0m_take\u001b[0m\u001b[1;33m(\u001b[0m\u001b[0mindexer\u001b[0m\u001b[1;33m,\u001b[0m \u001b[0maxis\u001b[0m\u001b[1;33m=\u001b[0m\u001b[1;36m0\u001b[0m\u001b[1;33m)\u001b[0m\u001b[1;33m\u001b[0m\u001b[0m\n\u001b[1;32m   2725\u001b[0m         \u001b[1;32melse\u001b[0m\u001b[1;33m:\u001b[0m\u001b[1;33m\u001b[0m\u001b[0m\n\u001b[0;32m-> 2726\u001b[0;31m             \u001b[0mindexer\u001b[0m \u001b[1;33m=\u001b[0m \u001b[0mself\u001b[0m\u001b[1;33m.\u001b[0m\u001b[0mloc\u001b[0m\u001b[1;33m.\u001b[0m\u001b[0m_convert_to_indexer\u001b[0m\u001b[1;33m(\u001b[0m\u001b[0mkey\u001b[0m\u001b[1;33m,\u001b[0m \u001b[0maxis\u001b[0m\u001b[1;33m=\u001b[0m\u001b[1;36m1\u001b[0m\u001b[1;33m)\u001b[0m\u001b[1;33m\u001b[0m\u001b[0m\n\u001b[0m\u001b[1;32m   2727\u001b[0m             \u001b[1;32mreturn\u001b[0m \u001b[0mself\u001b[0m\u001b[1;33m.\u001b[0m\u001b[0m_take\u001b[0m\u001b[1;33m(\u001b[0m\u001b[0mindexer\u001b[0m\u001b[1;33m,\u001b[0m \u001b[0maxis\u001b[0m\u001b[1;33m=\u001b[0m\u001b[1;36m1\u001b[0m\u001b[1;33m)\u001b[0m\u001b[1;33m\u001b[0m\u001b[0m\n\u001b[1;32m   2728\u001b[0m \u001b[1;33m\u001b[0m\u001b[0m\n",
      "\u001b[0;32mC:\\Program Files\\Anaconda3\\lib\\site-packages\\pandas\\core\\indexing.py\u001b[0m in \u001b[0;36m_convert_to_indexer\u001b[0;34m(self, obj, axis, is_setter)\u001b[0m\n\u001b[1;32m   1325\u001b[0m                 \u001b[1;32mif\u001b[0m \u001b[0mmask\u001b[0m\u001b[1;33m.\u001b[0m\u001b[0many\u001b[0m\u001b[1;33m(\u001b[0m\u001b[1;33m)\u001b[0m\u001b[1;33m:\u001b[0m\u001b[1;33m\u001b[0m\u001b[0m\n\u001b[1;32m   1326\u001b[0m                     raise KeyError('{mask} not in index'\n\u001b[0;32m-> 1327\u001b[0;31m                                    .format(mask=objarr[mask]))\n\u001b[0m\u001b[1;32m   1328\u001b[0m \u001b[1;33m\u001b[0m\u001b[0m\n\u001b[1;32m   1329\u001b[0m                 \u001b[1;32mreturn\u001b[0m \u001b[0mcom\u001b[0m\u001b[1;33m.\u001b[0m\u001b[0m_values_from_object\u001b[0m\u001b[1;33m(\u001b[0m\u001b[0mindexer\u001b[0m\u001b[1;33m)\u001b[0m\u001b[1;33m\u001b[0m\u001b[0m\n",
      "\u001b[0;31mKeyError\u001b[0m: \"['UPT_ADJ_lag1'] not in index\""
     ]
    }
   ],
   "source": [
    "df[['UPT_ADJ', 'UPT_ADJ_lag1']]"
   ]
  },
  {
   "cell_type": "code",
   "execution_count": null,
   "metadata": {
    "collapsed": true
   },
   "outputs": [],
   "source": [
    "df.to_csv('temp.csv')"
   ]
  },
  {
   "cell_type": "code",
   "execution_count": null,
   "metadata": {
    "collapsed": false
   },
   "outputs": [],
   "source": [
    "# check the data\n",
    "df.head()"
   ]
  },
  {
   "cell_type": "markdown",
   "metadata": {},
   "source": [
    "## Some core model specification tests -- looking at traditional factors"
   ]
  },
  {
   "cell_type": "code",
   "execution_count": 16,
   "metadata": {
    "collapsed": false
   },
   "outputs": [
    {
     "name": "stderr",
     "output_type": "stream",
     "text": [
      "C:\\Program Files\\Anaconda3\\lib\\site-packages\\linearmodels\\panel\\data.py:39: FutureWarning: \n",
      "Passing list-likes to .loc or [] with any missing label will raise\n",
      "KeyError in the future, you can use .reindex() as an alternative.\n",
      "\n",
      "See the documentation here:\n",
      "https://pandas.pydata.org/pandas-docs/stable/indexing.html#deprecate-loc-reindex-listlike\n",
      "  new_df = df.copy().loc[self._full_index]\n",
      "C:\\Program Files\\Anaconda3\\lib\\site-packages\\linearmodels\\utility.py:476: MissingValueWarning: \n",
      "Inputs contain missing values. Dropping rows with missing observations.\n",
      "  warnings.warn(missing_value_warning_msg, MissingValueWarning)\n"
     ]
    },
    {
     "name": "stdout",
     "output_type": "stream",
     "text": [
      "                          PanelOLS Estimation Summary                           \n",
      "================================================================================\n",
      "Dep. Variable:            UPT_ADJ_log   R-squared:                        0.5449\n",
      "Estimator:                   PanelOLS   R-squared (Between):              0.9974\n",
      "No. Observations:                4173   R-squared (Within):               0.5449\n",
      "Date:                Thu, Nov 21 2019   R-squared (Overall):              0.9972\n",
      "Time:                        13:32:08   Log-likelihood                    836.76\n",
      "Cov. Estimator:            Unadjusted                                           \n",
      "                                        F-statistic:                      777.95\n",
      "Entities:                         268   P-value                           0.0000\n",
      "Avg Obs:                       15.571   Distribution:                  F(6,3899)\n",
      "Min Obs:                       2.0000                                           \n",
      "Max Obs:                       17.000   F-statistic (robust):             777.95\n",
      "                                        P-value                           0.0000\n",
      "Time periods:                      17   Distribution:                  F(6,3899)\n",
      "Avg Obs:                       245.47                                           \n",
      "Min Obs:                       176.00                                           \n",
      "Max Obs:                       266.00                                           \n",
      "                                                                                \n",
      "                                Parameter Estimates                                 \n",
      "====================================================================================\n",
      "                  Parameter  Std. Err.     T-stat    P-value    Lower CI    Upper CI\n",
      "------------------------------------------------------------------------------------\n",
      "VRM_ADJ_log          0.6685     0.0130     51.568     0.0000      0.6431      0.6939\n",
      "FARE_per_UPT_log    -0.4439     0.0172    -25.766     0.0000     -0.4777     -0.4102\n",
      "POP_EMP_log          0.3245     0.0577     5.6232     0.0000      0.2113      0.4376\n",
      "GasPrice_log         0.3561     0.0214     16.641     0.0000      0.3141      0.3980\n",
      "PCT_HH_NO_VEH        0.0145     0.0033     4.3998     0.0000      0.0080      0.0209\n",
      "TSD_POP_PCT          0.5591     0.1608     3.4777     0.0005      0.2439      0.8743\n",
      "====================================================================================\n",
      "\n",
      "F-test for Poolability: 92.103\n",
      "P-value: 0.0000\n",
      "Distribution: F(267,3899)\n",
      "\n",
      "Included effects: Entity\n"
     ]
    }
   ],
   "source": [
    "# no time trends\n",
    "\n",
    "mod=PanelOLS.from_formula('UPT_ADJ_log \\\n",
    "                    ~ VRM_ADJ_log \\\n",
    "                    + FARE_per_UPT_log \\\n",
    "                    + POP_EMP_log \\\n",
    "                    + GasPrice_log \\\n",
    "                    + PCT_HH_NO_VEH \\\n",
    "                    + TSD_POP_PCT \\\n",
    "                    + EntityEffects \\\n",
    "                    ',data=df)\n",
    "res=mod.fit()\n",
    "print(res)"
   ]
  },
  {
   "cell_type": "code",
   "execution_count": 17,
   "metadata": {
    "collapsed": false
   },
   "outputs": [
    {
     "name": "stderr",
     "output_type": "stream",
     "text": [
      "C:\\Program Files\\Anaconda3\\lib\\site-packages\\linearmodels\\panel\\data.py:39: FutureWarning: \n",
      "Passing list-likes to .loc or [] with any missing label will raise\n",
      "KeyError in the future, you can use .reindex() as an alternative.\n",
      "\n",
      "See the documentation here:\n",
      "https://pandas.pydata.org/pandas-docs/stable/indexing.html#deprecate-loc-reindex-listlike\n",
      "  new_df = df.copy().loc[self._full_index]\n",
      "C:\\Program Files\\Anaconda3\\lib\\site-packages\\linearmodels\\utility.py:476: MissingValueWarning: \n",
      "Inputs contain missing values. Dropping rows with missing observations.\n",
      "  warnings.warn(missing_value_warning_msg, MissingValueWarning)\n"
     ]
    },
    {
     "name": "stdout",
     "output_type": "stream",
     "text": [
      "                          PanelOLS Estimation Summary                           \n",
      "================================================================================\n",
      "Dep. Variable:            UPT_ADJ_log   R-squared:                        0.6086\n",
      "Estimator:                   PanelOLS   R-squared (Between):              0.9957\n",
      "No. Observations:                4173   R-squared (Within):               0.6086\n",
      "Date:                Thu, Nov 21 2019   R-squared (Overall):              0.9959\n",
      "Time:                        13:32:15   Log-likelihood                    1151.4\n",
      "Cov. Estimator:            Unadjusted                                           \n",
      "                                        F-statistic:                      1010.3\n",
      "Entities:                         268   P-value                           0.0000\n",
      "Avg Obs:                       15.571   Distribution:                  F(6,3899)\n",
      "Min Obs:                       2.0000                                           \n",
      "Max Obs:                       17.000   F-statistic (robust):             1010.3\n",
      "                                        P-value                           0.0000\n",
      "Time periods:                      17   Distribution:                  F(6,3899)\n",
      "Avg Obs:                       245.47                                           \n",
      "Min Obs:                       176.00                                           \n",
      "Max Obs:                       266.00                                           \n",
      "                                                                                \n",
      "                                   Parameter Estimates                                   \n",
      "=========================================================================================\n",
      "                       Parameter  Std. Err.     T-stat    P-value    Lower CI    Upper CI\n",
      "-----------------------------------------------------------------------------------------\n",
      "VRM_ADJ_log               0.6067     0.0122     49.659     0.0000      0.5828      0.6307\n",
      "FARE_per_UPT_2018_log    -0.7010     0.0190    -36.965     0.0000     -0.7382     -0.6638\n",
      "POP_EMP_log               0.5074     0.0529     9.5867     0.0000      0.4036      0.6111\n",
      "GAS_PRICE_2018_log        0.3098     0.0208     14.928     0.0000      0.2691      0.3504\n",
      "PCT_HH_NO_VEH             0.0149     0.0030     4.8899     0.0000      0.0089      0.0209\n",
      "TSD_POP_PCT               0.3483     0.1463     2.3803     0.0173      0.0614      0.6352\n",
      "=========================================================================================\n",
      "\n",
      "F-test for Poolability: 103.78\n",
      "P-value: 0.0000\n",
      "Distribution: F(267,3899)\n",
      "\n",
      "Included effects: Entity\n"
     ]
    }
   ],
   "source": [
    "# with inflation adjusted prices\n",
    "\n",
    "mod=PanelOLS.from_formula('UPT_ADJ_log \\\n",
    "                    ~ VRM_ADJ_log \\\n",
    "                    + FARE_per_UPT_2018_log \\\n",
    "                    + POP_EMP_log \\\n",
    "                    + GAS_PRICE_2018_log \\\n",
    "                    + PCT_HH_NO_VEH \\\n",
    "                    + TSD_POP_PCT \\\n",
    "                    + EntityEffects \\\n",
    "                    ',data=df)\n",
    "res=mod.fit()\n",
    "print(res)"
   ]
  },
  {
   "cell_type": "code",
   "execution_count": 18,
   "metadata": {
    "collapsed": false
   },
   "outputs": [
    {
     "name": "stderr",
     "output_type": "stream",
     "text": [
      "C:\\Program Files\\Anaconda3\\lib\\site-packages\\linearmodels\\panel\\data.py:39: FutureWarning: \n",
      "Passing list-likes to .loc or [] with any missing label will raise\n",
      "KeyError in the future, you can use .reindex() as an alternative.\n",
      "\n",
      "See the documentation here:\n",
      "https://pandas.pydata.org/pandas-docs/stable/indexing.html#deprecate-loc-reindex-listlike\n",
      "  new_df = df.copy().loc[self._full_index]\n",
      "C:\\Program Files\\Anaconda3\\lib\\site-packages\\linearmodels\\utility.py:476: MissingValueWarning: \n",
      "Inputs contain missing values. Dropping rows with missing observations.\n",
      "  warnings.warn(missing_value_warning_msg, MissingValueWarning)\n"
     ]
    },
    {
     "name": "stdout",
     "output_type": "stream",
     "text": [
      "                          PanelOLS Estimation Summary                           \n",
      "================================================================================\n",
      "Dep. Variable:            UPT_ADJ_log   R-squared:                        0.6115\n",
      "Estimator:                   PanelOLS   R-squared (Between):              0.9954\n",
      "No. Observations:                4173   R-squared (Within):               0.6115\n",
      "Date:                Thu, Nov 21 2019   R-squared (Overall):              0.9952\n",
      "Time:                        13:33:05   Log-likelihood                    1166.8\n",
      "Cov. Estimator:            Unadjusted                                           \n",
      "                                        F-statistic:                      876.31\n",
      "Entities:                         268   P-value                           0.0000\n",
      "Avg Obs:                       15.571   Distribution:                  F(7,3898)\n",
      "Min Obs:                       2.0000                                           \n",
      "Max Obs:                       17.000   F-statistic (robust):             876.31\n",
      "                                        P-value                           0.0000\n",
      "Time periods:                      17   Distribution:                  F(7,3898)\n",
      "Avg Obs:                       245.47                                           \n",
      "Min Obs:                       176.00                                           \n",
      "Max Obs:                       266.00                                           \n",
      "                                                                                \n",
      "                                   Parameter Estimates                                   \n",
      "=========================================================================================\n",
      "                       Parameter  Std. Err.     T-stat    P-value    Lower CI    Upper CI\n",
      "-----------------------------------------------------------------------------------------\n",
      "VRM_ADJ_log               0.6067     0.0122     49.605     0.0000      0.5828      0.6307\n",
      "FARE_per_UPT_2018_log    -0.7011     0.0189    -37.059     0.0000     -0.7382     -0.6640\n",
      "Tot_Pop_log               0.4996     0.0476     10.495     0.0000      0.4063      0.5929\n",
      "TOT_EMP_MSA_log          -0.1016     0.0711    -1.4297     0.1529     -0.2410      0.0377\n",
      "GAS_PRICE_2018_log        0.2884     0.0212     13.584     0.0000      0.2468      0.3300\n",
      "PCT_HH_NO_VEH             0.0134     0.0031     4.3704     0.0000      0.0074      0.0194\n",
      "TSD_POP_PCT               0.4064     0.1475     2.7547     0.0059      0.1172      0.6957\n",
      "=========================================================================================\n",
      "\n",
      "F-test for Poolability: 94.699\n",
      "P-value: 0.0000\n",
      "Distribution: F(267,3898)\n",
      "\n",
      "Included effects: Entity\n"
     ]
    }
   ],
   "source": [
    "# separate pop and emp\n",
    "\n",
    "\n",
    "mod=PanelOLS.from_formula('UPT_ADJ_log \\\n",
    "                    ~ VRM_ADJ_log \\\n",
    "                    + FARE_per_UPT_2018_log \\\n",
    "                    + Tot_Pop_log \\\n",
    "                    + TOT_EMP_MSA_log \\\n",
    "                    + GAS_PRICE_2018_log \\\n",
    "                    + PCT_HH_NO_VEH \\\n",
    "                    + TSD_POP_PCT \\\n",
    "                    + EntityEffects \\\n",
    "                    ',data=df)\n",
    "res=mod.fit()\n",
    "print(res)"
   ]
  },
  {
   "cell_type": "code",
   "execution_count": null,
   "metadata": {
    "collapsed": true
   },
   "outputs": [],
   "source": []
  },
  {
   "cell_type": "code",
   "execution_count": 19,
   "metadata": {
    "collapsed": false
   },
   "outputs": [
    {
     "name": "stderr",
     "output_type": "stream",
     "text": [
      "C:\\Program Files\\Anaconda3\\lib\\site-packages\\linearmodels\\panel\\data.py:39: FutureWarning: \n",
      "Passing list-likes to .loc or [] with any missing label will raise\n",
      "KeyError in the future, you can use .reindex() as an alternative.\n",
      "\n",
      "See the documentation here:\n",
      "https://pandas.pydata.org/pandas-docs/stable/indexing.html#deprecate-loc-reindex-listlike\n",
      "  new_df = df.copy().loc[self._full_index]\n",
      "C:\\Program Files\\Anaconda3\\lib\\site-packages\\linearmodels\\utility.py:476: MissingValueWarning: \n",
      "Inputs contain missing values. Dropping rows with missing observations.\n",
      "  warnings.warn(missing_value_warning_msg, MissingValueWarning)\n"
     ]
    },
    {
     "name": "stdout",
     "output_type": "stream",
     "text": [
      "                          PanelOLS Estimation Summary                           \n",
      "================================================================================\n",
      "Dep. Variable:            UPT_ADJ_log   R-squared:                        0.6130\n",
      "Estimator:                   PanelOLS   R-squared (Between):              0.9980\n",
      "No. Observations:                4173   R-squared (Within):               0.6130\n",
      "Date:                Thu, Nov 21 2019   R-squared (Overall):              0.9980\n",
      "Time:                        13:33:17   Log-likelihood                    1175.3\n",
      "Cov. Estimator:            Unadjusted                                           \n",
      "                                        F-statistic:                      882.17\n",
      "Entities:                         268   P-value                           0.0000\n",
      "Avg Obs:                       15.571   Distribution:                  F(7,3898)\n",
      "Min Obs:                       2.0000                                           \n",
      "Max Obs:                       17.000   F-statistic (robust):             882.17\n",
      "                                        P-value                           0.0000\n",
      "Time periods:                      17   Distribution:                  F(7,3898)\n",
      "Avg Obs:                       245.47                                           \n",
      "Min Obs:                       176.00                                           \n",
      "Max Obs:                       266.00                                           \n",
      "                                                                                \n",
      "                                   Parameter Estimates                                   \n",
      "=========================================================================================\n",
      "                       Parameter  Std. Err.     T-stat    P-value    Lower CI    Upper CI\n",
      "-----------------------------------------------------------------------------------------\n",
      "VRM_ADJ_log               0.6199     0.0123     50.369     0.0000      0.5958      0.6440\n",
      "AVG_SPEED_log            -0.1470     0.0219    -6.7060     0.0000     -0.1900     -0.1040\n",
      "FARE_per_UPT_2018_log    -0.6924     0.0189    -36.635     0.0000     -0.7295     -0.6554\n",
      "POP_EMP_log               0.4899     0.0527     9.2978     0.0000      0.3866      0.5932\n",
      "GAS_PRICE_2018_log        0.3074     0.0206     14.895     0.0000      0.2669      0.3479\n",
      "PCT_HH_NO_VEH             0.0150     0.0030     4.9606     0.0000      0.0091      0.0210\n",
      "TSD_POP_PCT               0.4164     0.1459     2.8549     0.0043      0.1305      0.7024\n",
      "=========================================================================================\n",
      "\n",
      "F-test for Poolability: 88.174\n",
      "P-value: 0.0000\n",
      "Distribution: F(267,3898)\n",
      "\n",
      "Included effects: Entity\n"
     ]
    }
   ],
   "source": [
    "# add average speed\n",
    "\n",
    "mod=PanelOLS.from_formula('UPT_ADJ_log \\\n",
    "                    ~ VRM_ADJ_log \\\n",
    "                    + AVG_SPEED_log \\\n",
    "                    + FARE_per_UPT_2018_log \\\n",
    "                    + POP_EMP_log \\\n",
    "                    + GAS_PRICE_2018_log \\\n",
    "                    + PCT_HH_NO_VEH \\\n",
    "                    + TSD_POP_PCT \\\n",
    "                    + EntityEffects \\\n",
    "                    ',data=df)\n",
    "res=mod.fit()\n",
    "print(res)"
   ]
  },
  {
   "cell_type": "code",
   "execution_count": 20,
   "metadata": {
    "collapsed": false
   },
   "outputs": [
    {
     "name": "stderr",
     "output_type": "stream",
     "text": [
      "C:\\Program Files\\Anaconda3\\lib\\site-packages\\linearmodels\\panel\\data.py:39: FutureWarning: \n",
      "Passing list-likes to .loc or [] with any missing label will raise\n",
      "KeyError in the future, you can use .reindex() as an alternative.\n",
      "\n",
      "See the documentation here:\n",
      "https://pandas.pydata.org/pandas-docs/stable/indexing.html#deprecate-loc-reindex-listlike\n",
      "  new_df = df.copy().loc[self._full_index]\n",
      "C:\\Program Files\\Anaconda3\\lib\\site-packages\\linearmodels\\utility.py:476: MissingValueWarning: \n",
      "Inputs contain missing values. Dropping rows with missing observations.\n",
      "  warnings.warn(missing_value_warning_msg, MissingValueWarning)\n"
     ]
    },
    {
     "name": "stdout",
     "output_type": "stream",
     "text": [
      "                          PanelOLS Estimation Summary                           \n",
      "================================================================================\n",
      "Dep. Variable:            UPT_ADJ_log   R-squared:                        0.6087\n",
      "Estimator:                   PanelOLS   R-squared (Between):              0.9958\n",
      "No. Observations:                4173   R-squared (Within):               0.6087\n",
      "Date:                Thu, Nov 21 2019   R-squared (Overall):              0.9961\n",
      "Time:                        13:33:23   Log-likelihood                    1151.9\n",
      "Cov. Estimator:            Unadjusted                                           \n",
      "                                        F-statistic:                      866.15\n",
      "Entities:                         268   P-value                           0.0000\n",
      "Avg Obs:                       15.571   Distribution:                  F(7,3898)\n",
      "Min Obs:                       2.0000                                           \n",
      "Max Obs:                       17.000   F-statistic (robust):             866.15\n",
      "                                        P-value                           0.0000\n",
      "Time periods:                      17   Distribution:                  F(7,3898)\n",
      "Avg Obs:                       245.47                                           \n",
      "Min Obs:                       176.00                                           \n",
      "Max Obs:                       266.00                                           \n",
      "                                                                                \n",
      "                                   Parameter Estimates                                   \n",
      "=========================================================================================\n",
      "                       Parameter  Std. Err.     T-stat    P-value    Lower CI    Upper CI\n",
      "-----------------------------------------------------------------------------------------\n",
      "VRM_ADJ_log               0.6072     0.0122     49.662     0.0000      0.5833      0.6312\n",
      "AVG_SPEED                -0.0004     0.0004    -1.0373     0.2996     -0.0012      0.0004\n",
      "FARE_per_UPT_2018_log    -0.7003     0.0190    -36.901     0.0000     -0.7375     -0.6631\n",
      "POP_EMP_log               0.5058     0.0529     9.5545     0.0000      0.4020      0.6096\n",
      "GAS_PRICE_2018_log        0.3090     0.0208     14.882     0.0000      0.2683      0.3497\n",
      "PCT_HH_NO_VEH             0.0149     0.0030     4.8976     0.0000      0.0089      0.0209\n",
      "TSD_POP_PCT               0.3537     0.1464     2.4157     0.0158      0.0666      0.6408\n",
      "=========================================================================================\n",
      "\n",
      "F-test for Poolability: 100.24\n",
      "P-value: 0.0000\n",
      "Distribution: F(267,3898)\n",
      "\n",
      "Included effects: Entity\n"
     ]
    }
   ],
   "source": [
    "# add average speed\n",
    "\n",
    "mod=PanelOLS.from_formula('UPT_ADJ_log \\\n",
    "                    ~ VRM_ADJ_log \\\n",
    "                    + AVG_SPEED \\\n",
    "                    + FARE_per_UPT_2018_log \\\n",
    "                    + POP_EMP_log \\\n",
    "                    + GAS_PRICE_2018_log \\\n",
    "                    + PCT_HH_NO_VEH \\\n",
    "                    + TSD_POP_PCT \\\n",
    "                    + EntityEffects \\\n",
    "                    ',data=df)\n",
    "res=mod.fit()\n",
    "print(res)"
   ]
  },
  {
   "cell_type": "code",
   "execution_count": 21,
   "metadata": {
    "collapsed": false
   },
   "outputs": [
    {
     "name": "stderr",
     "output_type": "stream",
     "text": [
      "C:\\Program Files\\Anaconda3\\lib\\site-packages\\linearmodels\\panel\\data.py:39: FutureWarning: \n",
      "Passing list-likes to .loc or [] with any missing label will raise\n",
      "KeyError in the future, you can use .reindex() as an alternative.\n",
      "\n",
      "See the documentation here:\n",
      "https://pandas.pydata.org/pandas-docs/stable/indexing.html#deprecate-loc-reindex-listlike\n",
      "  new_df = df.copy().loc[self._full_index]\n",
      "C:\\Program Files\\Anaconda3\\lib\\site-packages\\linearmodels\\utility.py:476: MissingValueWarning: \n",
      "Inputs contain missing values. Dropping rows with missing observations.\n",
      "  warnings.warn(missing_value_warning_msg, MissingValueWarning)\n"
     ]
    },
    {
     "name": "stdout",
     "output_type": "stream",
     "text": [
      "                          PanelOLS Estimation Summary                           \n",
      "================================================================================\n",
      "Dep. Variable:            UPT_ADJ_log   R-squared:                        0.6109\n",
      "Estimator:                   PanelOLS   R-squared (Between):              0.9969\n",
      "No. Observations:                4173   R-squared (Within):               0.6109\n",
      "Date:                Thu, Nov 21 2019   R-squared (Overall):              0.9970\n",
      "Time:                        13:33:28   Log-likelihood                    1163.6\n",
      "Cov. Estimator:            Unadjusted                                           \n",
      "                                        F-statistic:                      874.14\n",
      "Entities:                         268   P-value                           0.0000\n",
      "Avg Obs:                       15.571   Distribution:                  F(7,3898)\n",
      "Min Obs:                       2.0000                                           \n",
      "Max Obs:                       17.000   F-statistic (robust):             874.14\n",
      "                                        P-value                           0.0000\n",
      "Time periods:                      17   Distribution:                  F(7,3898)\n",
      "Avg Obs:                       245.47                                           \n",
      "Min Obs:                       176.00                                           \n",
      "Max Obs:                       266.00                                           \n",
      "                                                                                \n",
      "                                   Parameter Estimates                                   \n",
      "=========================================================================================\n",
      "                       Parameter  Std. Err.     T-stat    P-value    Lower CI    Upper CI\n",
      "-----------------------------------------------------------------------------------------\n",
      "VRM_ADJ_log               0.5476     0.0173     31.567     0.0000      0.5136      0.5816\n",
      "VRH_ADJ_log               0.0665     0.0139     4.7914     0.0000      0.0393      0.0937\n",
      "FARE_per_UPT_2018_log    -0.6980     0.0189    -36.888     0.0000     -0.7351     -0.6609\n",
      "POP_EMP_log               0.4986     0.0528     9.4427     0.0000      0.3951      0.6022\n",
      "GAS_PRICE_2018_log        0.3093     0.0207     14.945     0.0000      0.2687      0.3498\n",
      "PCT_HH_NO_VEH             0.0148     0.0030     4.8586     0.0000      0.0088      0.0207\n",
      "TSD_POP_PCT               0.3865     0.1461     2.6447     0.0082      0.1000      0.6730\n",
      "=========================================================================================\n",
      "\n",
      "F-test for Poolability: 91.025\n",
      "P-value: 0.0000\n",
      "Distribution: F(267,3898)\n",
      "\n",
      "Included effects: Entity\n"
     ]
    }
   ],
   "source": [
    "# VRH and VRM\n",
    "\n",
    "mod=PanelOLS.from_formula('UPT_ADJ_log \\\n",
    "                    ~ VRM_ADJ_log \\\n",
    "                    + VRH_ADJ_log \\\n",
    "                    + FARE_per_UPT_2018_log \\\n",
    "                    + POP_EMP_log \\\n",
    "                    + GAS_PRICE_2018_log \\\n",
    "                    + PCT_HH_NO_VEH \\\n",
    "                    + TSD_POP_PCT \\\n",
    "                    + EntityEffects \\\n",
    "                    ',data=df)\n",
    "res=mod.fit()\n",
    "print(res)"
   ]
  },
  {
   "cell_type": "code",
   "execution_count": 22,
   "metadata": {
    "collapsed": false
   },
   "outputs": [
    {
     "name": "stderr",
     "output_type": "stream",
     "text": [
      "C:\\Program Files\\Anaconda3\\lib\\site-packages\\linearmodels\\panel\\data.py:39: FutureWarning: \n",
      "Passing list-likes to .loc or [] with any missing label will raise\n",
      "KeyError in the future, you can use .reindex() as an alternative.\n",
      "\n",
      "See the documentation here:\n",
      "https://pandas.pydata.org/pandas-docs/stable/indexing.html#deprecate-loc-reindex-listlike\n",
      "  new_df = df.copy().loc[self._full_index]\n",
      "C:\\Program Files\\Anaconda3\\lib\\site-packages\\linearmodels\\utility.py:476: MissingValueWarning: \n",
      "Inputs contain missing values. Dropping rows with missing observations.\n",
      "  warnings.warn(missing_value_warning_msg, MissingValueWarning)\n"
     ]
    },
    {
     "name": "stdout",
     "output_type": "stream",
     "text": [
      "                          PanelOLS Estimation Summary                           \n",
      "================================================================================\n",
      "Dep. Variable:            UPT_ADJ_log   R-squared:                        0.5114\n",
      "Estimator:                   PanelOLS   R-squared (Between):              0.9977\n",
      "No. Observations:                4173   R-squared (Within):               0.5114\n",
      "Date:                Thu, Nov 21 2019   R-squared (Overall):              0.9977\n",
      "Time:                        13:33:28   Log-likelihood                    688.65\n",
      "Cov. Estimator:            Unadjusted                                           \n",
      "                                        F-statistic:                      680.11\n",
      "Entities:                         268   P-value                           0.0000\n",
      "Avg Obs:                       15.571   Distribution:                  F(6,3899)\n",
      "Min Obs:                       2.0000                                           \n",
      "Max Obs:                       17.000   F-statistic (robust):             680.11\n",
      "                                        P-value                           0.0000\n",
      "Time periods:                      17   Distribution:                  F(6,3899)\n",
      "Avg Obs:                       245.47                                           \n",
      "Min Obs:                       176.00                                           \n",
      "Max Obs:                       266.00                                           \n",
      "                                                                                \n",
      "                                   Parameter Estimates                                   \n",
      "=========================================================================================\n",
      "                       Parameter  Std. Err.     T-stat    P-value    Lower CI    Upper CI\n",
      "-----------------------------------------------------------------------------------------\n",
      "VRH_ADJ_log               0.3783     0.0109     34.641     0.0000      0.3569      0.3997\n",
      "FARE_per_UPT_2018_log    -0.7625     0.0211    -36.179     0.0000     -0.8038     -0.7212\n",
      "POP_EMP_log               0.7635     0.0584     13.070     0.0000      0.6489      0.8780\n",
      "GAS_PRICE_2018_log        0.2992     0.0232     12.905     0.0000      0.2537      0.3446\n",
      "PCT_HH_NO_VEH             0.0160     0.0034     4.7106     0.0000      0.0094      0.0227\n",
      "TSD_POP_PCT               0.3684     0.1637     2.2497     0.0245      0.0473      0.6894\n",
      "=========================================================================================\n",
      "\n",
      "F-test for Poolability: 73.144\n",
      "P-value: 0.0000\n",
      "Distribution: F(267,3899)\n",
      "\n",
      "Included effects: Entity\n"
     ]
    }
   ],
   "source": [
    "# VRH and VRM\n",
    "\n",
    "mod=PanelOLS.from_formula('UPT_ADJ_log \\\n",
    "                    ~ VRH_ADJ_log \\\n",
    "                    + FARE_per_UPT_2018_log \\\n",
    "                    + POP_EMP_log \\\n",
    "                    + GAS_PRICE_2018_log \\\n",
    "                    + PCT_HH_NO_VEH \\\n",
    "                    + TSD_POP_PCT \\\n",
    "                    + EntityEffects \\\n",
    "                    ',data=df)\n",
    "res=mod.fit()\n",
    "print(res)"
   ]
  },
  {
   "cell_type": "markdown",
   "metadata": {},
   "source": [
    "## look at lagging the VRM and the Fares"
   ]
  },
  {
   "cell_type": "code",
   "execution_count": 23,
   "metadata": {
    "collapsed": false
   },
   "outputs": [
    {
     "name": "stderr",
     "output_type": "stream",
     "text": [
      "C:\\Program Files\\Anaconda3\\lib\\site-packages\\linearmodels\\panel\\data.py:39: FutureWarning: \n",
      "Passing list-likes to .loc or [] with any missing label will raise\n",
      "KeyError in the future, you can use .reindex() as an alternative.\n",
      "\n",
      "See the documentation here:\n",
      "https://pandas.pydata.org/pandas-docs/stable/indexing.html#deprecate-loc-reindex-listlike\n",
      "  new_df = df.copy().loc[self._full_index]\n",
      "C:\\Program Files\\Anaconda3\\lib\\site-packages\\linearmodels\\utility.py:476: MissingValueWarning: \n",
      "Inputs contain missing values. Dropping rows with missing observations.\n",
      "  warnings.warn(missing_value_warning_msg, MissingValueWarning)\n"
     ]
    },
    {
     "name": "stdout",
     "output_type": "stream",
     "text": [
      "                          PanelOLS Estimation Summary                           \n",
      "================================================================================\n",
      "Dep. Variable:            UPT_ADJ_log   R-squared:                        0.6086\n",
      "Estimator:                   PanelOLS   R-squared (Between):              0.9957\n",
      "No. Observations:                4173   R-squared (Within):               0.6086\n",
      "Date:                Thu, Nov 21 2019   R-squared (Overall):              0.9959\n",
      "Time:                        13:33:29   Log-likelihood                    1151.4\n",
      "Cov. Estimator:            Unadjusted                                           \n",
      "                                        F-statistic:                      1010.3\n",
      "Entities:                         268   P-value                           0.0000\n",
      "Avg Obs:                       15.571   Distribution:                  F(6,3899)\n",
      "Min Obs:                       2.0000                                           \n",
      "Max Obs:                       17.000   F-statistic (robust):             1010.3\n",
      "                                        P-value                           0.0000\n",
      "Time periods:                      17   Distribution:                  F(6,3899)\n",
      "Avg Obs:                       245.47                                           \n",
      "Min Obs:                       176.00                                           \n",
      "Max Obs:                       266.00                                           \n",
      "                                                                                \n",
      "                                   Parameter Estimates                                   \n",
      "=========================================================================================\n",
      "                       Parameter  Std. Err.     T-stat    P-value    Lower CI    Upper CI\n",
      "-----------------------------------------------------------------------------------------\n",
      "VRM_ADJ_log               0.6067     0.0122     49.659     0.0000      0.5828      0.6307\n",
      "FARE_per_UPT_2018_log    -0.7010     0.0190    -36.965     0.0000     -0.7382     -0.6638\n",
      "POP_EMP_log               0.5074     0.0529     9.5867     0.0000      0.4036      0.6111\n",
      "GAS_PRICE_2018_log        0.3098     0.0208     14.928     0.0000      0.2691      0.3504\n",
      "PCT_HH_NO_VEH             0.0149     0.0030     4.8899     0.0000      0.0089      0.0209\n",
      "TSD_POP_PCT               0.3483     0.1463     2.3803     0.0173      0.0614      0.6352\n",
      "=========================================================================================\n",
      "\n",
      "F-test for Poolability: 103.78\n",
      "P-value: 0.0000\n",
      "Distribution: F(267,3899)\n",
      "\n",
      "Included effects: Entity\n"
     ]
    }
   ],
   "source": [
    "# base model\n",
    "\n",
    "mod=PanelOLS.from_formula('UPT_ADJ_log \\\n",
    "                    ~ VRM_ADJ_log \\\n",
    "                    + FARE_per_UPT_2018_log \\\n",
    "                    + POP_EMP_log \\\n",
    "                    + GAS_PRICE_2018_log \\\n",
    "                    + PCT_HH_NO_VEH \\\n",
    "                    + TSD_POP_PCT \\\n",
    "                    + EntityEffects \\\n",
    "                    ',data=df)\n",
    "res=mod.fit()\n",
    "print(res)"
   ]
  },
  {
   "cell_type": "code",
   "execution_count": null,
   "metadata": {
    "collapsed": true
   },
   "outputs": [],
   "source": []
  },
  {
   "cell_type": "markdown",
   "metadata": {},
   "source": [
    "## Look at demographics"
   ]
  },
  {
   "cell_type": "code",
   "execution_count": 24,
   "metadata": {
    "collapsed": false
   },
   "outputs": [
    {
     "name": "stderr",
     "output_type": "stream",
     "text": [
      "C:\\Program Files\\Anaconda3\\lib\\site-packages\\linearmodels\\panel\\data.py:39: FutureWarning: \n",
      "Passing list-likes to .loc or [] with any missing label will raise\n",
      "KeyError in the future, you can use .reindex() as an alternative.\n",
      "\n",
      "See the documentation here:\n",
      "https://pandas.pydata.org/pandas-docs/stable/indexing.html#deprecate-loc-reindex-listlike\n",
      "  new_df = df.copy().loc[self._full_index]\n",
      "C:\\Program Files\\Anaconda3\\lib\\site-packages\\linearmodels\\utility.py:476: MissingValueWarning: \n",
      "Inputs contain missing values. Dropping rows with missing observations.\n",
      "  warnings.warn(missing_value_warning_msg, MissingValueWarning)\n"
     ]
    },
    {
     "name": "stdout",
     "output_type": "stream",
     "text": [
      "                          PanelOLS Estimation Summary                           \n",
      "================================================================================\n",
      "Dep. Variable:            UPT_ADJ_log   R-squared:                        0.6086\n",
      "Estimator:                   PanelOLS   R-squared (Between):              0.9957\n",
      "No. Observations:                4173   R-squared (Within):               0.6086\n",
      "Date:                Thu, Nov 21 2019   R-squared (Overall):              0.9959\n",
      "Time:                        13:33:33   Log-likelihood                    1151.4\n",
      "Cov. Estimator:            Unadjusted                                           \n",
      "                                        F-statistic:                      1010.3\n",
      "Entities:                         268   P-value                           0.0000\n",
      "Avg Obs:                       15.571   Distribution:                  F(6,3899)\n",
      "Min Obs:                       2.0000                                           \n",
      "Max Obs:                       17.000   F-statistic (robust):             1010.3\n",
      "                                        P-value                           0.0000\n",
      "Time periods:                      17   Distribution:                  F(6,3899)\n",
      "Avg Obs:                       245.47                                           \n",
      "Min Obs:                       176.00                                           \n",
      "Max Obs:                       266.00                                           \n",
      "                                                                                \n",
      "                                   Parameter Estimates                                   \n",
      "=========================================================================================\n",
      "                       Parameter  Std. Err.     T-stat    P-value    Lower CI    Upper CI\n",
      "-----------------------------------------------------------------------------------------\n",
      "VRM_ADJ_log               0.6067     0.0122     49.659     0.0000      0.5828      0.6307\n",
      "FARE_per_UPT_2018_log    -0.7010     0.0190    -36.965     0.0000     -0.7382     -0.6638\n",
      "POP_EMP_log               0.5074     0.0529     9.5867     0.0000      0.4036      0.6111\n",
      "GAS_PRICE_2018_log        0.3098     0.0208     14.928     0.0000      0.2691      0.3504\n",
      "PCT_HH_NO_VEH             0.0149     0.0030     4.8899     0.0000      0.0089      0.0209\n",
      "TSD_POP_PCT               0.3483     0.1463     2.3803     0.0173      0.0614      0.6352\n",
      "=========================================================================================\n",
      "\n",
      "F-test for Poolability: 103.78\n",
      "P-value: 0.0000\n",
      "Distribution: F(267,3899)\n",
      "\n",
      "Included effects: Entity\n"
     ]
    }
   ],
   "source": [
    "# base model\n",
    "\n",
    "mod=PanelOLS.from_formula('UPT_ADJ_log \\\n",
    "                    ~ VRM_ADJ_log \\\n",
    "                    + FARE_per_UPT_2018_log \\\n",
    "                    + POP_EMP_log \\\n",
    "                    + GAS_PRICE_2018_log \\\n",
    "                    + PCT_HH_NO_VEH \\\n",
    "                    + TSD_POP_PCT \\\n",
    "                    + EntityEffects \\\n",
    "                    ',data=df)\n",
    "res=mod.fit()\n",
    "print(res)"
   ]
  },
  {
   "cell_type": "code",
   "execution_count": 25,
   "metadata": {
    "collapsed": false
   },
   "outputs": [
    {
     "name": "stderr",
     "output_type": "stream",
     "text": [
      "C:\\Program Files\\Anaconda3\\lib\\site-packages\\linearmodels\\panel\\data.py:39: FutureWarning: \n",
      "Passing list-likes to .loc or [] with any missing label will raise\n",
      "KeyError in the future, you can use .reindex() as an alternative.\n",
      "\n",
      "See the documentation here:\n",
      "https://pandas.pydata.org/pandas-docs/stable/indexing.html#deprecate-loc-reindex-listlike\n",
      "  new_df = df.copy().loc[self._full_index]\n",
      "C:\\Program Files\\Anaconda3\\lib\\site-packages\\linearmodels\\utility.py:476: MissingValueWarning: \n",
      "Inputs contain missing values. Dropping rows with missing observations.\n",
      "  warnings.warn(missing_value_warning_msg, MissingValueWarning)\n"
     ]
    },
    {
     "name": "stdout",
     "output_type": "stream",
     "text": [
      "                          PanelOLS Estimation Summary                           \n",
      "================================================================================\n",
      "Dep. Variable:            UPT_ADJ_log   R-squared:                        0.6087\n",
      "Estimator:                   PanelOLS   R-squared (Between):              0.9982\n",
      "No. Observations:                4173   R-squared (Within):               0.6087\n",
      "Date:                Thu, Nov 21 2019   R-squared (Overall):              0.9983\n",
      "Time:                        13:33:39   Log-likelihood                    1152.3\n",
      "Cov. Estimator:            Unadjusted                                           \n",
      "                                        F-statistic:                      866.39\n",
      "Entities:                         268   P-value                           0.0000\n",
      "Avg Obs:                       15.571   Distribution:                  F(7,3898)\n",
      "Min Obs:                       2.0000                                           \n",
      "Max Obs:                       17.000   F-statistic (robust):             866.39\n",
      "                                        P-value                           0.0000\n",
      "Time periods:                      17   Distribution:                  F(7,3898)\n",
      "Avg Obs:                       245.47                                           \n",
      "Min Obs:                       176.00                                           \n",
      "Max Obs:                       266.00                                           \n",
      "                                                                                \n",
      "                                   Parameter Estimates                                   \n",
      "=========================================================================================\n",
      "                       Parameter  Std. Err.     T-stat    P-value    Lower CI    Upper CI\n",
      "-----------------------------------------------------------------------------------------\n",
      "VRM_ADJ_log               0.6050     0.0123     49.222     0.0000      0.5809      0.6291\n",
      "FARE_per_UPT_2018_log    -0.7031     0.0190    -36.951     0.0000     -0.7404     -0.6658\n",
      "POP_EMP_log               0.4689     0.0604     7.7607     0.0000      0.3505      0.5874\n",
      "GAS_PRICE_2018_log        0.3091     0.0208     14.893     0.0000      0.2684      0.3498\n",
      "PCT_HH_NO_VEH             0.0156     0.0031     5.0405     0.0000      0.0095      0.0216\n",
      "INC_U35                  -0.0013     0.0010    -1.3163     0.1881     -0.0032      0.0006\n",
      "TSD_POP_PCT               0.3799     0.1483     2.5622     0.0104      0.0892      0.6706\n",
      "=========================================================================================\n",
      "\n",
      "F-test for Poolability: 103.41\n",
      "P-value: 0.0000\n",
      "Distribution: F(267,3898)\n",
      "\n",
      "Included effects: Entity\n"
     ]
    }
   ],
   "source": [
    "# income percentages\n",
    "\n",
    "mod=PanelOLS.from_formula('UPT_ADJ_log \\\n",
    "                    ~ VRM_ADJ_log \\\n",
    "                    + FARE_per_UPT_2018_log \\\n",
    "                    + POP_EMP_log \\\n",
    "                    + GAS_PRICE_2018_log \\\n",
    "                    + PCT_HH_NO_VEH \\\n",
    "                    + INC_U35 \\\n",
    "                    + TSD_POP_PCT \\\n",
    "                    + EntityEffects \\\n",
    "                    ',data=df)\n",
    "res=mod.fit()\n",
    "print(res)"
   ]
  },
  {
   "cell_type": "code",
   "execution_count": 26,
   "metadata": {
    "collapsed": false
   },
   "outputs": [
    {
     "name": "stderr",
     "output_type": "stream",
     "text": [
      "C:\\Program Files\\Anaconda3\\lib\\site-packages\\linearmodels\\panel\\data.py:39: FutureWarning: \n",
      "Passing list-likes to .loc or [] with any missing label will raise\n",
      "KeyError in the future, you can use .reindex() as an alternative.\n",
      "\n",
      "See the documentation here:\n",
      "https://pandas.pydata.org/pandas-docs/stable/indexing.html#deprecate-loc-reindex-listlike\n",
      "  new_df = df.copy().loc[self._full_index]\n",
      "C:\\Program Files\\Anaconda3\\lib\\site-packages\\linearmodels\\utility.py:476: MissingValueWarning: \n",
      "Inputs contain missing values. Dropping rows with missing observations.\n",
      "  warnings.warn(missing_value_warning_msg, MissingValueWarning)\n"
     ]
    },
    {
     "name": "stdout",
     "output_type": "stream",
     "text": [
      "                          PanelOLS Estimation Summary                           \n",
      "================================================================================\n",
      "Dep. Variable:            UPT_ADJ_log   R-squared:                        0.6086\n",
      "Estimator:                   PanelOLS   R-squared (Between):              0.9949\n",
      "No. Observations:                4173   R-squared (Within):               0.6086\n",
      "Date:                Thu, Nov 21 2019   R-squared (Overall):              0.9952\n",
      "Time:                        13:33:44   Log-likelihood                    1151.4\n",
      "Cov. Estimator:            Unadjusted                                           \n",
      "                                        F-statistic:                      865.79\n",
      "Entities:                         268   P-value                           0.0000\n",
      "Avg Obs:                       15.571   Distribution:                  F(7,3898)\n",
      "Min Obs:                       2.0000                                           \n",
      "Max Obs:                       17.000   F-statistic (robust):             865.79\n",
      "                                        P-value                           0.0000\n",
      "Time periods:                      17   Distribution:                  F(7,3898)\n",
      "Avg Obs:                       245.47                                           \n",
      "Min Obs:                       176.00                                           \n",
      "Max Obs:                       266.00                                           \n",
      "                                                                                \n",
      "                                   Parameter Estimates                                   \n",
      "=========================================================================================\n",
      "                       Parameter  Std. Err.     T-stat    P-value    Lower CI    Upper CI\n",
      "-----------------------------------------------------------------------------------------\n",
      "VRM_ADJ_log               0.6072     0.0124     49.140     0.0000      0.5830      0.6315\n",
      "FARE_per_UPT_2018_log    -0.7004     0.0191    -36.656     0.0000     -0.7378     -0.6629\n",
      "POP_EMP_log               0.5153     0.0603     8.5513     0.0000      0.3971      0.6334\n",
      "GAS_PRICE_2018_log        0.3094     0.0208     14.874     0.0000      0.2686      0.3502\n",
      "PCT_HH_NO_VEH             0.0149     0.0030     4.8801     0.0000      0.0089      0.0208\n",
      "INC_100P                 -0.0003     0.0010    -0.2755     0.7830     -0.0021      0.0016\n",
      "TSD_POP_PCT               0.3360     0.1531     2.1951     0.0282      0.0359      0.6361\n",
      "=========================================================================================\n",
      "\n",
      "F-test for Poolability: 102.74\n",
      "P-value: 0.0000\n",
      "Distribution: F(267,3898)\n",
      "\n",
      "Included effects: Entity\n"
     ]
    }
   ],
   "source": [
    "# income percentages\n",
    "\n",
    "mod=PanelOLS.from_formula('UPT_ADJ_log \\\n",
    "                    ~ VRM_ADJ_log \\\n",
    "                    + FARE_per_UPT_2018_log \\\n",
    "                    + POP_EMP_log \\\n",
    "                    + GAS_PRICE_2018_log \\\n",
    "                    + PCT_HH_NO_VEH \\\n",
    "                    + INC_100P \\\n",
    "                    + TSD_POP_PCT \\\n",
    "                    + EntityEffects \\\n",
    "                    ',data=df)\n",
    "res=mod.fit()\n",
    "print(res)"
   ]
  },
  {
   "cell_type": "code",
   "execution_count": 27,
   "metadata": {
    "collapsed": false
   },
   "outputs": [
    {
     "name": "stderr",
     "output_type": "stream",
     "text": [
      "C:\\Program Files\\Anaconda3\\lib\\site-packages\\linearmodels\\panel\\data.py:39: FutureWarning: \n",
      "Passing list-likes to .loc or [] with any missing label will raise\n",
      "KeyError in the future, you can use .reindex() as an alternative.\n",
      "\n",
      "See the documentation here:\n",
      "https://pandas.pydata.org/pandas-docs/stable/indexing.html#deprecate-loc-reindex-listlike\n",
      "  new_df = df.copy().loc[self._full_index]\n",
      "C:\\Program Files\\Anaconda3\\lib\\site-packages\\linearmodels\\utility.py:476: MissingValueWarning: \n",
      "Inputs contain missing values. Dropping rows with missing observations.\n",
      "  warnings.warn(missing_value_warning_msg, MissingValueWarning)\n"
     ]
    },
    {
     "name": "stdout",
     "output_type": "stream",
     "text": [
      "                          PanelOLS Estimation Summary                           \n",
      "================================================================================\n",
      "Dep. Variable:            UPT_ADJ_log   R-squared:                        0.6088\n",
      "Estimator:                   PanelOLS   R-squared (Between):              0.9952\n",
      "No. Observations:                4173   R-squared (Within):               0.6088\n",
      "Date:                Thu, Nov 21 2019   R-squared (Overall):              0.9955\n",
      "Time:                        13:33:47   Log-likelihood                    1152.5\n",
      "Cov. Estimator:            Unadjusted                                           \n",
      "                                        F-statistic:                      866.52\n",
      "Entities:                         268   P-value                           0.0000\n",
      "Avg Obs:                       15.571   Distribution:                  F(7,3898)\n",
      "Min Obs:                       2.0000                                           \n",
      "Max Obs:                       17.000   F-statistic (robust):             866.52\n",
      "                                        P-value                           0.0000\n",
      "Time periods:                      17   Distribution:                  F(7,3898)\n",
      "Avg Obs:                       245.47                                           \n",
      "Min Obs:                       176.00                                           \n",
      "Max Obs:                       266.00                                           \n",
      "                                                                                \n",
      "                                   Parameter Estimates                                   \n",
      "=========================================================================================\n",
      "                       Parameter  Std. Err.     T-stat    P-value    Lower CI    Upper CI\n",
      "-----------------------------------------------------------------------------------------\n",
      "VRM_ADJ_log               0.6070     0.0122     49.680     0.0000      0.5830      0.6309\n",
      "FARE_per_UPT_2018_log    -0.7010     0.0190    -36.973     0.0000     -0.7382     -0.6639\n",
      "POP_EMP_log               0.5187     0.0535     9.6958     0.0000      0.4138      0.6236\n",
      "GAS_PRICE_2018_log        0.3046     0.0211     14.462     0.0000      0.2633      0.3459\n",
      "PCT_HH_NO_VEH             0.0140     0.0031     4.5076     0.0000      0.0079      0.0201\n",
      "HH_MED_INC_2018       -1.243e-06  8.617e-07    -1.4420     0.1494  -2.932e-06   4.469e-07\n",
      "TSD_POP_PCT               0.3270     0.1471     2.2234     0.0262      0.0386      0.6153\n",
      "=========================================================================================\n",
      "\n",
      "F-test for Poolability: 102.87\n",
      "P-value: 0.0000\n",
      "Distribution: F(267,3898)\n",
      "\n",
      "Included effects: Entity\n"
     ]
    }
   ],
   "source": [
    "# median income\n",
    "\n",
    "\n",
    "mod=PanelOLS.from_formula('UPT_ADJ_log \\\n",
    "                    ~ VRM_ADJ_log \\\n",
    "                    + FARE_per_UPT_2018_log \\\n",
    "                    + POP_EMP_log \\\n",
    "                    + GAS_PRICE_2018_log \\\n",
    "                    + PCT_HH_NO_VEH \\\n",
    "                    + HH_MED_INC_2018 \\\n",
    "                    + TSD_POP_PCT \\\n",
    "                    + EntityEffects \\\n",
    "                    ',data=df)\n",
    "res=mod.fit()\n",
    "print(res)\n",
    "\n"
   ]
  },
  {
   "cell_type": "code",
   "execution_count": 28,
   "metadata": {
    "collapsed": false
   },
   "outputs": [
    {
     "name": "stderr",
     "output_type": "stream",
     "text": [
      "C:\\Program Files\\Anaconda3\\lib\\site-packages\\linearmodels\\panel\\data.py:39: FutureWarning: \n",
      "Passing list-likes to .loc or [] with any missing label will raise\n",
      "KeyError in the future, you can use .reindex() as an alternative.\n",
      "\n",
      "See the documentation here:\n",
      "https://pandas.pydata.org/pandas-docs/stable/indexing.html#deprecate-loc-reindex-listlike\n",
      "  new_df = df.copy().loc[self._full_index]\n",
      "C:\\Program Files\\Anaconda3\\lib\\site-packages\\linearmodels\\utility.py:476: MissingValueWarning: \n",
      "Inputs contain missing values. Dropping rows with missing observations.\n",
      "  warnings.warn(missing_value_warning_msg, MissingValueWarning)\n"
     ]
    },
    {
     "name": "stdout",
     "output_type": "stream",
     "text": [
      "                          PanelOLS Estimation Summary                           \n",
      "================================================================================\n",
      "Dep. Variable:            UPT_ADJ_log   R-squared:                        0.6088\n",
      "Estimator:                   PanelOLS   R-squared (Between):              0.9984\n",
      "No. Observations:                4173   R-squared (Within):               0.6088\n",
      "Date:                Thu, Nov 21 2019   R-squared (Overall):              0.9984\n",
      "Time:                        13:33:53   Log-likelihood                    1152.6\n",
      "Cov. Estimator:            Unadjusted                                           \n",
      "                                        F-statistic:                      866.58\n",
      "Entities:                         268   P-value                           0.0000\n",
      "Avg Obs:                       15.571   Distribution:                  F(7,3898)\n",
      "Min Obs:                       2.0000                                           \n",
      "Max Obs:                       17.000   F-statistic (robust):             866.58\n",
      "                                        P-value                           0.0000\n",
      "Time periods:                      17   Distribution:                  F(7,3898)\n",
      "Avg Obs:                       245.47                                           \n",
      "Min Obs:                       176.00                                           \n",
      "Max Obs:                       266.00                                           \n",
      "                                                                                \n",
      "                                   Parameter Estimates                                   \n",
      "=========================================================================================\n",
      "                       Parameter  Std. Err.     T-stat    P-value    Lower CI    Upper CI\n",
      "-----------------------------------------------------------------------------------------\n",
      "VRM_ADJ_log               0.6070     0.0122     49.683     0.0000      0.5830      0.6309\n",
      "FARE_per_UPT_2018_log    -0.7011     0.0190    -36.976     0.0000     -0.7383     -0.6639\n",
      "POP_EMP_log               0.5186     0.0534     9.7039     0.0000      0.4138      0.6234\n",
      "GAS_PRICE_2018_log        0.3051     0.0210     14.538     0.0000      0.2639      0.3462\n",
      "PCT_HH_NO_VEH             0.0139     0.0031     4.4497     0.0000      0.0078      0.0200\n",
      "HH_MED_INC_2018_log      -0.0751     0.0501    -1.5000     0.1337     -0.1734      0.0231\n",
      "TSD_POP_PCT               0.3274     0.1470     2.2277     0.0260      0.0393      0.6156\n",
      "=========================================================================================\n",
      "\n",
      "F-test for Poolability: 102.73\n",
      "P-value: 0.0000\n",
      "Distribution: F(267,3898)\n",
      "\n",
      "Included effects: Entity\n"
     ]
    }
   ],
   "source": [
    "# median income -- log\n",
    "\n",
    "\n",
    "mod=PanelOLS.from_formula('UPT_ADJ_log \\\n",
    "                    ~ VRM_ADJ_log \\\n",
    "                    + FARE_per_UPT_2018_log \\\n",
    "                    + POP_EMP_log \\\n",
    "                    + GAS_PRICE_2018_log \\\n",
    "                    + PCT_HH_NO_VEH \\\n",
    "                    + HH_MED_INC_2018_log \\\n",
    "                    + TSD_POP_PCT \\\n",
    "                    + EntityEffects \\\n",
    "                    ',data=df)\n",
    "res=mod.fit()\n",
    "print(res)\n",
    "\n"
   ]
  },
  {
   "cell_type": "code",
   "execution_count": 29,
   "metadata": {
    "collapsed": false
   },
   "outputs": [
    {
     "name": "stderr",
     "output_type": "stream",
     "text": [
      "C:\\Program Files\\Anaconda3\\lib\\site-packages\\linearmodels\\panel\\data.py:39: FutureWarning: \n",
      "Passing list-likes to .loc or [] with any missing label will raise\n",
      "KeyError in the future, you can use .reindex() as an alternative.\n",
      "\n",
      "See the documentation here:\n",
      "https://pandas.pydata.org/pandas-docs/stable/indexing.html#deprecate-loc-reindex-listlike\n",
      "  new_df = df.copy().loc[self._full_index]\n",
      "C:\\Program Files\\Anaconda3\\lib\\site-packages\\linearmodels\\utility.py:476: MissingValueWarning: \n",
      "Inputs contain missing values. Dropping rows with missing observations.\n",
      "  warnings.warn(missing_value_warning_msg, MissingValueWarning)\n"
     ]
    },
    {
     "name": "stdout",
     "output_type": "stream",
     "text": [
      "                          PanelOLS Estimation Summary                           \n",
      "================================================================================\n",
      "Dep. Variable:            UPT_ADJ_log   R-squared:                        0.6102\n",
      "Estimator:                   PanelOLS   R-squared (Between):              0.9919\n",
      "No. Observations:                4173   R-squared (Within):               0.6102\n",
      "Date:                Thu, Nov 21 2019   R-squared (Overall):              0.9923\n",
      "Time:                        13:33:59   Log-likelihood                    1160.3\n",
      "Cov. Estimator:            Unadjusted                                           \n",
      "                                        F-statistic:                      871.87\n",
      "Entities:                         268   P-value                           0.0000\n",
      "Avg Obs:                       15.571   Distribution:                  F(7,3898)\n",
      "Min Obs:                       2.0000                                           \n",
      "Max Obs:                       17.000   F-statistic (robust):             871.87\n",
      "                                        P-value                           0.0000\n",
      "Time periods:                      17   Distribution:                  F(7,3898)\n",
      "Avg Obs:                       245.47                                           \n",
      "Min Obs:                       176.00                                           \n",
      "Max Obs:                       266.00                                           \n",
      "                                                                                \n",
      "                                   Parameter Estimates                                   \n",
      "=========================================================================================\n",
      "                       Parameter  Std. Err.     T-stat    P-value    Lower CI    Upper CI\n",
      "-----------------------------------------------------------------------------------------\n",
      "VRM_ADJ_log               0.6083     0.0122     49.862     0.0000      0.5844      0.6322\n",
      "FARE_per_UPT_2018_log    -0.7001     0.0189    -36.990     0.0000     -0.7372     -0.6630\n",
      "POP_EMP_log               0.5589     0.0543     10.293     0.0000      0.4524      0.6653\n",
      "GAS_PRICE_2018_log        0.2929     0.0211     13.873     0.0000      0.2515      0.3343\n",
      "PCT_HH_NO_VEH             0.0123     0.0031     3.9586     0.0001      0.0062      0.0184\n",
      "HH_MEAN_INC_2018      -3.041e-06   7.43e-07    -4.0924     0.0000  -4.497e-06  -1.584e-06\n",
      "TSD_POP_PCT               0.2505     0.1480     1.6925     0.0906     -0.0397      0.5406\n",
      "=========================================================================================\n",
      "\n",
      "F-test for Poolability: 103.24\n",
      "P-value: 0.0000\n",
      "Distribution: F(267,3898)\n",
      "\n",
      "Included effects: Entity\n"
     ]
    }
   ],
   "source": [
    "# mean income\n",
    "\n",
    "\n",
    "mod=PanelOLS.from_formula('UPT_ADJ_log \\\n",
    "                    ~ VRM_ADJ_log \\\n",
    "                    + FARE_per_UPT_2018_log \\\n",
    "                    + POP_EMP_log \\\n",
    "                    + GAS_PRICE_2018_log \\\n",
    "                    + PCT_HH_NO_VEH \\\n",
    "                    + HH_MEAN_INC_2018 \\\n",
    "                    + TSD_POP_PCT \\\n",
    "                    + EntityEffects \\\n",
    "                    ',data=df)\n",
    "res=mod.fit()\n",
    "print(res)\n",
    "\n"
   ]
  },
  {
   "cell_type": "code",
   "execution_count": 30,
   "metadata": {
    "collapsed": false
   },
   "outputs": [
    {
     "name": "stderr",
     "output_type": "stream",
     "text": [
      "C:\\Program Files\\Anaconda3\\lib\\site-packages\\linearmodels\\panel\\data.py:39: FutureWarning: \n",
      "Passing list-likes to .loc or [] with any missing label will raise\n",
      "KeyError in the future, you can use .reindex() as an alternative.\n",
      "\n",
      "See the documentation here:\n",
      "https://pandas.pydata.org/pandas-docs/stable/indexing.html#deprecate-loc-reindex-listlike\n",
      "  new_df = df.copy().loc[self._full_index]\n",
      "C:\\Program Files\\Anaconda3\\lib\\site-packages\\linearmodels\\utility.py:476: MissingValueWarning: \n",
      "Inputs contain missing values. Dropping rows with missing observations.\n",
      "  warnings.warn(missing_value_warning_msg, MissingValueWarning)\n"
     ]
    },
    {
     "name": "stdout",
     "output_type": "stream",
     "text": [
      "                          PanelOLS Estimation Summary                           \n",
      "================================================================================\n",
      "Dep. Variable:            UPT_ADJ_log   R-squared:                        0.6105\n",
      "Estimator:                   PanelOLS   R-squared (Between):              0.9902\n",
      "No. Observations:                4173   R-squared (Within):               0.6105\n",
      "Date:                Thu, Nov 21 2019   R-squared (Overall):              0.9899\n",
      "Time:                        13:34:02   Log-likelihood                    1161.7\n",
      "Cov. Estimator:            Unadjusted                                           \n",
      "                                        F-statistic:                      872.82\n",
      "Entities:                         268   P-value                           0.0000\n",
      "Avg Obs:                       15.571   Distribution:                  F(7,3898)\n",
      "Min Obs:                       2.0000                                           \n",
      "Max Obs:                       17.000   F-statistic (robust):             872.82\n",
      "                                        P-value                           0.0000\n",
      "Time periods:                      17   Distribution:                  F(7,3898)\n",
      "Avg Obs:                       245.47                                           \n",
      "Min Obs:                       176.00                                           \n",
      "Max Obs:                       266.00                                           \n",
      "                                                                                \n",
      "                                   Parameter Estimates                                   \n",
      "=========================================================================================\n",
      "                       Parameter  Std. Err.     T-stat    P-value    Lower CI    Upper CI\n",
      "-----------------------------------------------------------------------------------------\n",
      "VRM_ADJ_log               0.6081     0.0122     49.870     0.0000      0.5842      0.6320\n",
      "FARE_per_UPT_2018_log    -0.7003     0.0189    -37.017     0.0000     -0.7374     -0.6633\n",
      "POP_EMP_log               0.5637     0.0543     10.376     0.0000      0.4572      0.6702\n",
      "GAS_PRICE_2018_log        0.2928     0.0211     13.905     0.0000      0.2515      0.3341\n",
      "PCT_HH_NO_VEH             0.0119     0.0031     3.8137     0.0001      0.0058      0.0180\n",
      "HH_MEAN_INC_2018_log     -0.2591     0.0589    -4.4003     0.0000     -0.3745     -0.1436\n",
      "TSD_POP_PCT               0.2596     0.1474     1.7616     0.0782     -0.0293      0.5486\n",
      "=========================================================================================\n",
      "\n",
      "F-test for Poolability: 103.10\n",
      "P-value: 0.0000\n",
      "Distribution: F(267,3898)\n",
      "\n",
      "Included effects: Entity\n"
     ]
    }
   ],
   "source": [
    "# mean income - log\n",
    "\n",
    "\n",
    "mod=PanelOLS.from_formula('UPT_ADJ_log \\\n",
    "                    ~ VRM_ADJ_log \\\n",
    "                    + FARE_per_UPT_2018_log \\\n",
    "                    + POP_EMP_log \\\n",
    "                    + GAS_PRICE_2018_log \\\n",
    "                    + PCT_HH_NO_VEH \\\n",
    "                    + HH_MEAN_INC_2018_log \\\n",
    "                    + TSD_POP_PCT \\\n",
    "                    + EntityEffects \\\n",
    "                    ',data=df)\n",
    "res=mod.fit()\n",
    "print(res)\n",
    "\n"
   ]
  },
  {
   "cell_type": "code",
   "execution_count": 31,
   "metadata": {
    "collapsed": false
   },
   "outputs": [
    {
     "name": "stderr",
     "output_type": "stream",
     "text": [
      "C:\\Program Files\\Anaconda3\\lib\\site-packages\\linearmodels\\panel\\data.py:39: FutureWarning: \n",
      "Passing list-likes to .loc or [] with any missing label will raise\n",
      "KeyError in the future, you can use .reindex() as an alternative.\n",
      "\n",
      "See the documentation here:\n",
      "https://pandas.pydata.org/pandas-docs/stable/indexing.html#deprecate-loc-reindex-listlike\n",
      "  new_df = df.copy().loc[self._full_index]\n",
      "C:\\Program Files\\Anaconda3\\lib\\site-packages\\linearmodels\\utility.py:476: MissingValueWarning: \n",
      "Inputs contain missing values. Dropping rows with missing observations.\n",
      "  warnings.warn(missing_value_warning_msg, MissingValueWarning)\n"
     ]
    },
    {
     "name": "stdout",
     "output_type": "stream",
     "text": [
      "                          PanelOLS Estimation Summary                           \n",
      "================================================================================\n",
      "Dep. Variable:            UPT_ADJ_log   R-squared:                        0.6115\n",
      "Estimator:                   PanelOLS   R-squared (Between):              0.9984\n",
      "No. Observations:                4173   R-squared (Within):               0.6115\n",
      "Date:                Thu, Nov 21 2019   R-squared (Overall):              0.9984\n",
      "Time:                        13:34:05   Log-likelihood                    1167.1\n",
      "Cov. Estimator:            Unadjusted                                           \n",
      "                                        F-statistic:                      876.50\n",
      "Entities:                         268   P-value                           0.0000\n",
      "Avg Obs:                       15.571   Distribution:                  F(7,3898)\n",
      "Min Obs:                       2.0000                                           \n",
      "Max Obs:                       17.000   F-statistic (robust):             876.50\n",
      "                                        P-value                           0.0000\n",
      "Time periods:                      17   Distribution:                  F(7,3898)\n",
      "Avg Obs:                       245.47                                           \n",
      "Min Obs:                       176.00                                           \n",
      "Max Obs:                       266.00                                           \n",
      "                                                                                \n",
      "                                    Parameter Estimates                                     \n",
      "============================================================================================\n",
      "                          Parameter  Std. Err.     T-stat    P-value    Lower CI    Upper CI\n",
      "--------------------------------------------------------------------------------------------\n",
      "VRM_ADJ_log                  0.6058     0.0122     49.761     0.0000      0.5820      0.6297\n",
      "FARE_per_UPT_2018_log       -0.7023     0.0189    -37.166     0.0000     -0.7394     -0.6653\n",
      "POP_EMP_log                  0.4773     0.0530     9.0033     0.0000      0.3734      0.5813\n",
      "GAS_PRICE_2018_log           0.2490     0.0235     10.589     0.0000      0.2029      0.2951\n",
      "PCT_HH_NO_VEH                0.0109     0.0031     3.5012     0.0005      0.0048      0.0171\n",
      "TOTAL_MED_INC_INDIV_2018 -9.437e-06  1.739e-06    -5.4260     0.0000  -1.285e-05  -6.027e-06\n",
      "TSD_POP_PCT                  0.5440     0.1502     3.6216     0.0003      0.2495      0.8384\n",
      "============================================================================================\n",
      "\n",
      "F-test for Poolability: 103.81\n",
      "P-value: 0.0000\n",
      "Distribution: F(267,3898)\n",
      "\n",
      "Included effects: Entity\n"
     ]
    }
   ],
   "source": [
    "# median personal income\n",
    "\n",
    "mod=PanelOLS.from_formula('UPT_ADJ_log \\\n",
    "                    ~ VRM_ADJ_log \\\n",
    "                    + FARE_per_UPT_2018_log \\\n",
    "                    + POP_EMP_log \\\n",
    "                    + GAS_PRICE_2018_log \\\n",
    "                    + PCT_HH_NO_VEH \\\n",
    "                    + TOTAL_MED_INC_INDIV_2018 \\\n",
    "                    + TSD_POP_PCT \\\n",
    "                    + EntityEffects \\\n",
    "                    ',data=df)\n",
    "res=mod.fit()\n",
    "print(res)\n",
    "\n"
   ]
  },
  {
   "cell_type": "code",
   "execution_count": 32,
   "metadata": {
    "collapsed": false
   },
   "outputs": [
    {
     "name": "stderr",
     "output_type": "stream",
     "text": [
      "C:\\Program Files\\Anaconda3\\lib\\site-packages\\linearmodels\\panel\\data.py:39: FutureWarning: \n",
      "Passing list-likes to .loc or [] with any missing label will raise\n",
      "KeyError in the future, you can use .reindex() as an alternative.\n",
      "\n",
      "See the documentation here:\n",
      "https://pandas.pydata.org/pandas-docs/stable/indexing.html#deprecate-loc-reindex-listlike\n",
      "  new_df = df.copy().loc[self._full_index]\n",
      "C:\\Program Files\\Anaconda3\\lib\\site-packages\\linearmodels\\utility.py:476: MissingValueWarning: \n",
      "Inputs contain missing values. Dropping rows with missing observations.\n",
      "  warnings.warn(missing_value_warning_msg, MissingValueWarning)\n"
     ]
    },
    {
     "name": "stdout",
     "output_type": "stream",
     "text": [
      "                          PanelOLS Estimation Summary                           \n",
      "================================================================================\n",
      "Dep. Variable:            UPT_ADJ_log   R-squared:                        0.6132\n",
      "Estimator:                   PanelOLS   R-squared (Between):              0.9413\n",
      "No. Observations:                4173   R-squared (Within):               0.6132\n",
      "Date:                Thu, Nov 21 2019   R-squared (Overall):              0.9410\n",
      "Time:                        13:34:10   Log-likelihood                    1176.1\n",
      "Cov. Estimator:            Unadjusted                                           \n",
      "                                        F-statistic:                      882.73\n",
      "Entities:                         268   P-value                           0.0000\n",
      "Avg Obs:                       15.571   Distribution:                  F(7,3898)\n",
      "Min Obs:                       2.0000                                           \n",
      "Max Obs:                       17.000   F-statistic (robust):             882.73\n",
      "                                        P-value                           0.0000\n",
      "Time periods:                      17   Distribution:                  F(7,3898)\n",
      "Avg Obs:                       245.47                                           \n",
      "Min Obs:                       176.00                                           \n",
      "Max Obs:                       266.00                                           \n",
      "                                                                                \n",
      "                                      Parameter Estimates                                       \n",
      "================================================================================================\n",
      "                              Parameter  Std. Err.     T-stat    P-value    Lower CI    Upper CI\n",
      "------------------------------------------------------------------------------------------------\n",
      "VRM_ADJ_log                      0.6052     0.0121     49.815     0.0000      0.5814      0.6290\n",
      "FARE_per_UPT_2018_log           -0.7040     0.0189    -37.329     0.0000     -0.7410     -0.6670\n",
      "POP_EMP_log                      0.4666     0.0530     8.8118     0.0000      0.3628      0.5704\n",
      "GAS_PRICE_2018_log               0.2337     0.0235     9.9662     0.0000      0.1877      0.2797\n",
      "TOTAL_MED_INC_INDIV_2018_log    -0.3648     0.0535    -6.8202     0.0000     -0.4697     -0.2599\n",
      "PCT_HH_NO_VEH                    0.0098     0.0031     3.1304     0.0018      0.0037      0.0159\n",
      "TSD_POP_PCT                      0.5394     0.1482     3.6409     0.0003      0.2490      0.8299\n",
      "================================================================================================\n",
      "\n",
      "F-test for Poolability: 104.49\n",
      "P-value: 0.0000\n",
      "Distribution: F(267,3898)\n",
      "\n",
      "Included effects: Entity\n"
     ]
    }
   ],
   "source": [
    "# median personal income - log\n",
    "\n",
    "mod=PanelOLS.from_formula('UPT_ADJ_log \\\n",
    "                    ~ VRM_ADJ_log \\\n",
    "                    + FARE_per_UPT_2018_log \\\n",
    "                    + POP_EMP_log \\\n",
    "                    + GAS_PRICE_2018_log \\\n",
    "                    + TOTAL_MED_INC_INDIV_2018_log \\\n",
    "                    + PCT_HH_NO_VEH \\\n",
    "                    + TSD_POP_PCT \\\n",
    "                    + EntityEffects \\\n",
    "                    ',data=df)\n",
    "res=mod.fit()\n",
    "print(res)\n",
    "\n"
   ]
  },
  {
   "cell_type": "code",
   "execution_count": 33,
   "metadata": {
    "collapsed": false
   },
   "outputs": [
    {
     "name": "stderr",
     "output_type": "stream",
     "text": [
      "C:\\Program Files\\Anaconda3\\lib\\site-packages\\linearmodels\\panel\\data.py:39: FutureWarning: \n",
      "Passing list-likes to .loc or [] with any missing label will raise\n",
      "KeyError in the future, you can use .reindex() as an alternative.\n",
      "\n",
      "See the documentation here:\n",
      "https://pandas.pydata.org/pandas-docs/stable/indexing.html#deprecate-loc-reindex-listlike\n",
      "  new_df = df.copy().loc[self._full_index]\n",
      "C:\\Program Files\\Anaconda3\\lib\\site-packages\\linearmodels\\utility.py:476: MissingValueWarning: \n",
      "Inputs contain missing values. Dropping rows with missing observations.\n",
      "  warnings.warn(missing_value_warning_msg, MissingValueWarning)\n"
     ]
    },
    {
     "name": "stdout",
     "output_type": "stream",
     "text": [
      "                          PanelOLS Estimation Summary                           \n",
      "================================================================================\n",
      "Dep. Variable:            UPT_ADJ_log   R-squared:                        0.6136\n",
      "Estimator:                   PanelOLS   R-squared (Between):              0.9482\n",
      "No. Observations:                4173   R-squared (Within):               0.6136\n",
      "Date:                Thu, Nov 21 2019   R-squared (Overall):              0.9479\n",
      "Time:                        13:34:25   Log-likelihood                    1178.4\n",
      "Cov. Estimator:            Unadjusted                                           \n",
      "                                        F-statistic:                      773.55\n",
      "Entities:                         268   P-value                           0.0000\n",
      "Avg Obs:                       15.571   Distribution:                  F(8,3897)\n",
      "Min Obs:                       2.0000                                           \n",
      "Max Obs:                       17.000   F-statistic (robust):             773.55\n",
      "                                        P-value                           0.0000\n",
      "Time periods:                      17   Distribution:                  F(8,3897)\n",
      "Avg Obs:                       245.47                                           \n",
      "Min Obs:                       176.00                                           \n",
      "Max Obs:                       266.00                                           \n",
      "                                                                                \n",
      "                                      Parameter Estimates                                       \n",
      "================================================================================================\n",
      "                              Parameter  Std. Err.     T-stat    P-value    Lower CI    Upper CI\n",
      "------------------------------------------------------------------------------------------------\n",
      "VRM_ADJ_log                      0.6056     0.0121     49.861     0.0000      0.5818      0.6294\n",
      "FARE_per_UPT_2018_log           -0.7024     0.0189    -37.229     0.0000     -0.7394     -0.6654\n",
      "POP_EMP_log                      0.4921     0.0544     9.0502     0.0000      0.3855      0.5987\n",
      "GAS_PRICE_2018_log               0.2292     0.0235     9.7353     0.0000      0.1831      0.2754\n",
      "TOTAL_MED_INC_INDIV_2018_log    -0.3731     0.0536    -6.9584     0.0000     -0.4782     -0.2680\n",
      "Tot_NonUSA_POP               -1.009e-06  4.927e-07    -2.0480     0.0406  -1.975e-06  -4.308e-08\n",
      "PCT_HH_NO_VEH                    0.0095     0.0031     3.0261     0.0025      0.0033      0.0156\n",
      "TSD_POP_PCT                      0.4888     0.1502     3.2550     0.0011      0.1944      0.7832\n",
      "================================================================================================\n",
      "\n",
      "F-test for Poolability: 102.70\n",
      "P-value: 0.0000\n",
      "Distribution: F(267,3897)\n",
      "\n",
      "Included effects: Entity\n"
     ]
    }
   ],
   "source": [
    "# immigrant population\n",
    "\n",
    "mod=PanelOLS.from_formula('UPT_ADJ_log \\\n",
    "                    ~ VRM_ADJ_log \\\n",
    "                    + FARE_per_UPT_2018_log \\\n",
    "                    + POP_EMP_log \\\n",
    "                    + GAS_PRICE_2018_log \\\n",
    "                    + TOTAL_MED_INC_INDIV_2018_log \\\n",
    "                    + Tot_NonUSA_POP \\\n",
    "                    + PCT_HH_NO_VEH \\\n",
    "                    + TSD_POP_PCT \\\n",
    "                    + EntityEffects \\\n",
    "                    ',data=df)\n",
    "res=mod.fit()\n",
    "print(res)\n"
   ]
  },
  {
   "cell_type": "code",
   "execution_count": 34,
   "metadata": {
    "collapsed": false
   },
   "outputs": [
    {
     "name": "stderr",
     "output_type": "stream",
     "text": [
      "C:\\Program Files\\Anaconda3\\lib\\site-packages\\linearmodels\\panel\\data.py:39: FutureWarning: \n",
      "Passing list-likes to .loc or [] with any missing label will raise\n",
      "KeyError in the future, you can use .reindex() as an alternative.\n",
      "\n",
      "See the documentation here:\n",
      "https://pandas.pydata.org/pandas-docs/stable/indexing.html#deprecate-loc-reindex-listlike\n",
      "  new_df = df.copy().loc[self._full_index]\n",
      "C:\\Program Files\\Anaconda3\\lib\\site-packages\\linearmodels\\utility.py:476: MissingValueWarning: \n",
      "Inputs contain missing values. Dropping rows with missing observations.\n",
      "  warnings.warn(missing_value_warning_msg, MissingValueWarning)\n"
     ]
    },
    {
     "name": "stdout",
     "output_type": "stream",
     "text": [
      "                          PanelOLS Estimation Summary                           \n",
      "================================================================================\n",
      "Dep. Variable:            UPT_ADJ_log   R-squared:                        0.6151\n",
      "Estimator:                   PanelOLS   R-squared (Between):              0.9706\n",
      "No. Observations:                4128   R-squared (Within):               0.6151\n",
      "Date:                Thu, Nov 21 2019   R-squared (Overall):              0.9703\n",
      "Time:                        13:34:29   Log-likelihood                    1282.5\n",
      "Cov. Estimator:            Unadjusted                                           \n",
      "                                        F-statistic:                      769.41\n",
      "Entities:                         268   P-value                           0.0000\n",
      "Avg Obs:                       15.403   Distribution:                  F(8,3852)\n",
      "Min Obs:                       2.0000                                           \n",
      "Max Obs:                       17.000   F-statistic (robust):             769.41\n",
      "                                        P-value                           0.0000\n",
      "Time periods:                      17   Distribution:                  F(8,3852)\n",
      "Avg Obs:                       242.82                                           \n",
      "Min Obs:                       150.00                                           \n",
      "Max Obs:                       266.00                                           \n",
      "                                                                                \n",
      "                                      Parameter Estimates                                       \n",
      "================================================================================================\n",
      "                              Parameter  Std. Err.     T-stat    P-value    Lower CI    Upper CI\n",
      "------------------------------------------------------------------------------------------------\n",
      "VRM_ADJ_log                      0.6132     0.0119     51.375     0.0000      0.5898      0.6366\n",
      "FARE_per_UPT_2018_log           -0.6672     0.0190    -35.143     0.0000     -0.7044     -0.6299\n",
      "POP_EMP_log                      0.4891     0.0546     8.9514     0.0000      0.3819      0.5962\n",
      "GAS_PRICE_2018_log               0.2480     0.0230     10.772     0.0000      0.2028      0.2931\n",
      "TOTAL_MED_INC_INDIV_2018_log    -0.3145     0.0530    -5.9375     0.0000     -0.4184     -0.2107\n",
      "Tot_NonUSA_POP_log              -0.0006     0.0081    -0.0745     0.9406     -0.0166      0.0153\n",
      "PCT_HH_NO_VEH                    0.0162     0.0031     5.1422     0.0000      0.0100      0.0223\n",
      "TSD_POP_PCT                      0.8566     0.1490     5.7495     0.0000      0.5645      1.1488\n",
      "================================================================================================\n",
      "\n",
      "F-test for Poolability: 108.35\n",
      "P-value: 0.0000\n",
      "Distribution: F(267,3852)\n",
      "\n",
      "Included effects: Entity\n"
     ]
    }
   ],
   "source": [
    "# immigrant population - log\n",
    "\n",
    "mod=PanelOLS.from_formula('UPT_ADJ_log \\\n",
    "                    ~ VRM_ADJ_log \\\n",
    "                    + FARE_per_UPT_2018_log \\\n",
    "                    + POP_EMP_log \\\n",
    "                    + GAS_PRICE_2018_log \\\n",
    "                    + TOTAL_MED_INC_INDIV_2018_log \\\n",
    "                    + Tot_NonUSA_POP_log \\\n",
    "                    + PCT_HH_NO_VEH \\\n",
    "                    + TSD_POP_PCT \\\n",
    "                    + EntityEffects \\\n",
    "                    ',data=df)\n",
    "res=mod.fit()\n",
    "print(res)\n"
   ]
  },
  {
   "cell_type": "code",
   "execution_count": 35,
   "metadata": {
    "collapsed": false
   },
   "outputs": [
    {
     "name": "stderr",
     "output_type": "stream",
     "text": [
      "C:\\Program Files\\Anaconda3\\lib\\site-packages\\linearmodels\\panel\\data.py:39: FutureWarning: \n",
      "Passing list-likes to .loc or [] with any missing label will raise\n",
      "KeyError in the future, you can use .reindex() as an alternative.\n",
      "\n",
      "See the documentation here:\n",
      "https://pandas.pydata.org/pandas-docs/stable/indexing.html#deprecate-loc-reindex-listlike\n",
      "  new_df = df.copy().loc[self._full_index]\n",
      "C:\\Program Files\\Anaconda3\\lib\\site-packages\\linearmodels\\utility.py:476: MissingValueWarning: \n",
      "Inputs contain missing values. Dropping rows with missing observations.\n",
      "  warnings.warn(missing_value_warning_msg, MissingValueWarning)\n"
     ]
    },
    {
     "name": "stdout",
     "output_type": "stream",
     "text": [
      "                          PanelOLS Estimation Summary                           \n",
      "================================================================================\n",
      "Dep. Variable:            UPT_ADJ_log   R-squared:                        0.6138\n",
      "Estimator:                   PanelOLS   R-squared (Between):              0.9337\n",
      "No. Observations:                4173   R-squared (Within):               0.6138\n",
      "Date:                Thu, Nov 21 2019   R-squared (Overall):              0.9335\n",
      "Time:                        13:34:30   Log-likelihood                    1179.7\n",
      "Cov. Estimator:            Unadjusted                                           \n",
      "                                        F-statistic:                      774.36\n",
      "Entities:                         268   P-value                           0.0000\n",
      "Avg Obs:                       15.571   Distribution:                  F(8,3897)\n",
      "Min Obs:                       2.0000                                           \n",
      "Max Obs:                       17.000   F-statistic (robust):             774.36\n",
      "                                        P-value                           0.0000\n",
      "Time periods:                      17   Distribution:                  F(8,3897)\n",
      "Avg Obs:                       245.47                                           \n",
      "Min Obs:                       176.00                                           \n",
      "Max Obs:                       266.00                                           \n",
      "                                                                                \n",
      "                                      Parameter Estimates                                       \n",
      "================================================================================================\n",
      "                              Parameter  Std. Err.     T-stat    P-value    Lower CI    Upper CI\n",
      "------------------------------------------------------------------------------------------------\n",
      "VRM_ADJ_log                      0.6049     0.0121     49.820     0.0000      0.5811      0.6287\n",
      "FARE_per_UPT_2018_log           -0.7041     0.0188    -37.364     0.0000     -0.7411     -0.6672\n",
      "POP_EMP_log                      0.4381     0.0540     8.1061     0.0000      0.3322      0.5441\n",
      "GAS_PRICE_2018_log               0.2361     0.0235     10.068     0.0000      0.1901      0.2821\n",
      "TOTAL_MED_INC_INDIV_2018_log    -0.3523     0.0537    -6.5652     0.0000     -0.4575     -0.2471\n",
      "Tot_NonUSA_POP_pct               0.0223     0.0086     2.5872     0.0097      0.0054      0.0391\n",
      "PCT_HH_NO_VEH                    0.0098     0.0031     3.1572     0.0016      0.0037      0.0160\n",
      "TSD_POP_PCT                      0.5480     0.1481     3.7002     0.0002      0.2576      0.8383\n",
      "================================================================================================\n",
      "\n",
      "F-test for Poolability: 103.37\n",
      "P-value: 0.0000\n",
      "Distribution: F(267,3897)\n",
      "\n",
      "Included effects: Entity\n"
     ]
    }
   ],
   "source": [
    "# immigrant population percentage\n",
    "df['Tot_NonUSA_POP_pct'] = df['Tot_NonUSA_POP'] / df['Tot_Pop'] * 100\n",
    "\n",
    "\n",
    "mod=PanelOLS.from_formula('UPT_ADJ_log \\\n",
    "                    ~ VRM_ADJ_log \\\n",
    "                    + FARE_per_UPT_2018_log \\\n",
    "                    + POP_EMP_log \\\n",
    "                    + GAS_PRICE_2018_log \\\n",
    "                    + TOTAL_MED_INC_INDIV_2018_log \\\n",
    "                    + Tot_NonUSA_POP_pct \\\n",
    "                    + PCT_HH_NO_VEH \\\n",
    "                    + TSD_POP_PCT \\\n",
    "                    + EntityEffects \\\n",
    "                    ',data=df)\n",
    "res=mod.fit()\n",
    "print(res)"
   ]
  },
  {
   "cell_type": "code",
   "execution_count": null,
   "metadata": {
    "collapsed": true
   },
   "outputs": [],
   "source": []
  },
  {
   "cell_type": "markdown",
   "metadata": {},
   "source": [
    "## bus vs rail competion"
   ]
  },
  {
   "cell_type": "code",
   "execution_count": 36,
   "metadata": {
    "collapsed": false
   },
   "outputs": [
    {
     "name": "stderr",
     "output_type": "stream",
     "text": [
      "C:\\Program Files\\Anaconda3\\lib\\site-packages\\linearmodels\\panel\\data.py:39: FutureWarning: \n",
      "Passing list-likes to .loc or [] with any missing label will raise\n",
      "KeyError in the future, you can use .reindex() as an alternative.\n",
      "\n",
      "See the documentation here:\n",
      "https://pandas.pydata.org/pandas-docs/stable/indexing.html#deprecate-loc-reindex-listlike\n",
      "  new_df = df.copy().loc[self._full_index]\n",
      "C:\\Program Files\\Anaconda3\\lib\\site-packages\\linearmodels\\utility.py:476: MissingValueWarning: \n",
      "Inputs contain missing values. Dropping rows with missing observations.\n",
      "  warnings.warn(missing_value_warning_msg, MissingValueWarning)\n"
     ]
    },
    {
     "name": "stdout",
     "output_type": "stream",
     "text": [
      "                          PanelOLS Estimation Summary                           \n",
      "================================================================================\n",
      "Dep. Variable:            UPT_ADJ_log   R-squared:                        0.6138\n",
      "Estimator:                   PanelOLS   R-squared (Between):              0.9337\n",
      "No. Observations:                4173   R-squared (Within):               0.6138\n",
      "Date:                Thu, Nov 21 2019   R-squared (Overall):              0.9335\n",
      "Time:                        13:34:37   Log-likelihood                    1179.7\n",
      "Cov. Estimator:            Unadjusted                                           \n",
      "                                        F-statistic:                      774.36\n",
      "Entities:                         268   P-value                           0.0000\n",
      "Avg Obs:                       15.571   Distribution:                  F(8,3897)\n",
      "Min Obs:                       2.0000                                           \n",
      "Max Obs:                       17.000   F-statistic (robust):             774.36\n",
      "                                        P-value                           0.0000\n",
      "Time periods:                      17   Distribution:                  F(8,3897)\n",
      "Avg Obs:                       245.47                                           \n",
      "Min Obs:                       176.00                                           \n",
      "Max Obs:                       266.00                                           \n",
      "                                                                                \n",
      "                                      Parameter Estimates                                       \n",
      "================================================================================================\n",
      "                              Parameter  Std. Err.     T-stat    P-value    Lower CI    Upper CI\n",
      "------------------------------------------------------------------------------------------------\n",
      "VRM_ADJ_log                      0.6049     0.0121     49.820     0.0000      0.5811      0.6287\n",
      "FARE_per_UPT_2018_log           -0.7041     0.0188    -37.364     0.0000     -0.7411     -0.6672\n",
      "POP_EMP_log                      0.4381     0.0540     8.1061     0.0000      0.3322      0.5441\n",
      "GAS_PRICE_2018_log               0.2361     0.0235     10.068     0.0000      0.1901      0.2821\n",
      "TOTAL_MED_INC_INDIV_2018_log    -0.3523     0.0537    -6.5652     0.0000     -0.4575     -0.2471\n",
      "Tot_NonUSA_POP_pct               0.0223     0.0086     2.5872     0.0097      0.0054      0.0391\n",
      "PCT_HH_NO_VEH                    0.0098     0.0031     3.1572     0.0016      0.0037      0.0160\n",
      "TSD_POP_PCT                      0.5480     0.1481     3.7002     0.0002      0.2576      0.8383\n",
      "================================================================================================\n",
      "\n",
      "F-test for Poolability: 103.37\n",
      "P-value: 0.0000\n",
      "Distribution: F(267,3897)\n",
      "\n",
      "Included effects: Entity\n"
     ]
    }
   ],
   "source": [
    "# base model\n",
    "\n",
    "mod=PanelOLS.from_formula('UPT_ADJ_log \\\n",
    "                    ~ VRM_ADJ_log \\\n",
    "                    + FARE_per_UPT_2018_log \\\n",
    "                    + POP_EMP_log \\\n",
    "                    + GAS_PRICE_2018_log \\\n",
    "                    + TOTAL_MED_INC_INDIV_2018_log \\\n",
    "                    + Tot_NonUSA_POP_pct \\\n",
    "                    + PCT_HH_NO_VEH \\\n",
    "                    + TSD_POP_PCT \\\n",
    "                    + EntityEffects \\\n",
    "                    ',data=df)\n",
    "res=mod.fit()\n",
    "print(res)"
   ]
  },
  {
   "cell_type": "code",
   "execution_count": 37,
   "metadata": {
    "collapsed": false
   },
   "outputs": [
    {
     "name": "stderr",
     "output_type": "stream",
     "text": [
      "C:\\Program Files\\Anaconda3\\lib\\site-packages\\linearmodels\\panel\\data.py:39: FutureWarning: \n",
      "Passing list-likes to .loc or [] with any missing label will raise\n",
      "KeyError in the future, you can use .reindex() as an alternative.\n",
      "\n",
      "See the documentation here:\n",
      "https://pandas.pydata.org/pandas-docs/stable/indexing.html#deprecate-loc-reindex-listlike\n",
      "  new_df = df.copy().loc[self._full_index]\n",
      "C:\\Program Files\\Anaconda3\\lib\\site-packages\\linearmodels\\utility.py:476: MissingValueWarning: \n",
      "Inputs contain missing values. Dropping rows with missing observations.\n",
      "  warnings.warn(missing_value_warning_msg, MissingValueWarning)\n"
     ]
    },
    {
     "ename": "ValueError",
     "evalue": "exog does not have full column rank.",
     "output_type": "error",
     "traceback": [
      "\u001b[0;31m---------------------------------------------------------------------------\u001b[0m",
      "\u001b[0;31mValueError\u001b[0m                                Traceback (most recent call last)",
      "\u001b[0;32m<ipython-input-37-0c142a70be42>\u001b[0m in \u001b[0;36m<module>\u001b[0;34m()\u001b[0m\n\u001b[1;32m      2\u001b[0m \u001b[1;31m# base model\u001b[0m\u001b[1;33m\u001b[0m\u001b[1;33m\u001b[0m\u001b[0m\n\u001b[1;32m      3\u001b[0m \u001b[1;33m\u001b[0m\u001b[0m\n\u001b[0;32m----> 4\u001b[0;31m \u001b[0mmod\u001b[0m\u001b[1;33m=\u001b[0m\u001b[0mPanelOLS\u001b[0m\u001b[1;33m.\u001b[0m\u001b[0mfrom_formula\u001b[0m\u001b[1;33m(\u001b[0m\u001b[1;34m'UPT_ADJ_log                     ~ VRM_ADJ_log                     + Bus_VRM_ADJ_RAIL                     + Rail_VRM_ADJ_BUS                     + FARE_per_UPT_2018_log                     + POP_EMP_log                     + GAS_PRICE_2018_log                     + TOTAL_MED_INC_INDIV_2018_log                     + Tot_NonUSA_POP_pct                     + PCT_HH_NO_VEH                     + TSD_POP_PCT                     + EntityEffects                     '\u001b[0m\u001b[1;33m,\u001b[0m\u001b[0mdata\u001b[0m\u001b[1;33m=\u001b[0m\u001b[0mdf\u001b[0m\u001b[1;33m)\u001b[0m\u001b[1;33m\u001b[0m\u001b[0m\n\u001b[0m\u001b[1;32m      5\u001b[0m \u001b[0mres\u001b[0m\u001b[1;33m=\u001b[0m\u001b[0mmod\u001b[0m\u001b[1;33m.\u001b[0m\u001b[0mfit\u001b[0m\u001b[1;33m(\u001b[0m\u001b[1;33m)\u001b[0m\u001b[1;33m\u001b[0m\u001b[0m\n\u001b[1;32m      6\u001b[0m \u001b[0mprint\u001b[0m\u001b[1;33m(\u001b[0m\u001b[0mres\u001b[0m\u001b[1;33m)\u001b[0m\u001b[1;33m\u001b[0m\u001b[0m\n",
      "\u001b[0;32mC:\\Program Files\\Anaconda3\\lib\\site-packages\\linearmodels\\panel\\model.py\u001b[0m in \u001b[0;36mfrom_formula\u001b[0;34m(cls, formula, data, weights, other_effects)\u001b[0m\n\u001b[1;32m    734\u001b[0m                                     return_type='dataframe', NA_action=na_action)\n\u001b[1;32m    735\u001b[0m         mod = cls(dependent, exog, entity_effects=entity_effect,\n\u001b[0;32m--> 736\u001b[0;31m                   time_effects=time_effect, weights=weights, other_effects=other_effects)\n\u001b[0m\u001b[1;32m    737\u001b[0m         \u001b[0mmod\u001b[0m\u001b[1;33m.\u001b[0m\u001b[0mformula\u001b[0m \u001b[1;33m=\u001b[0m \u001b[0mformula\u001b[0m\u001b[1;33m\u001b[0m\u001b[0m\n\u001b[1;32m    738\u001b[0m         \u001b[1;32mreturn\u001b[0m \u001b[0mmod\u001b[0m\u001b[1;33m\u001b[0m\u001b[0m\n",
      "\u001b[0;32mC:\\Program Files\\Anaconda3\\lib\\site-packages\\linearmodels\\panel\\model.py\u001b[0m in \u001b[0;36m__init__\u001b[0;34m(self, dependent, exog, weights, entity_effects, time_effects, other_effects)\u001b[0m\n\u001b[1;32m    598\u001b[0m     def __init__(self, dependent, exog, *, weights=None, entity_effects=False, time_effects=False,\n\u001b[1;32m    599\u001b[0m                  other_effects=None):\n\u001b[0;32m--> 600\u001b[0;31m         \u001b[0msuper\u001b[0m\u001b[1;33m(\u001b[0m\u001b[0mPanelOLS\u001b[0m\u001b[1;33m,\u001b[0m \u001b[0mself\u001b[0m\u001b[1;33m)\u001b[0m\u001b[1;33m.\u001b[0m\u001b[0m__init__\u001b[0m\u001b[1;33m(\u001b[0m\u001b[0mdependent\u001b[0m\u001b[1;33m,\u001b[0m \u001b[0mexog\u001b[0m\u001b[1;33m,\u001b[0m \u001b[0mweights\u001b[0m\u001b[1;33m=\u001b[0m\u001b[0mweights\u001b[0m\u001b[1;33m)\u001b[0m\u001b[1;33m\u001b[0m\u001b[0m\n\u001b[0m\u001b[1;32m    601\u001b[0m \u001b[1;33m\u001b[0m\u001b[0m\n\u001b[1;32m    602\u001b[0m         \u001b[0mself\u001b[0m\u001b[1;33m.\u001b[0m\u001b[0m_entity_effects\u001b[0m \u001b[1;33m=\u001b[0m \u001b[0mentity_effects\u001b[0m\u001b[1;33m\u001b[0m\u001b[0m\n",
      "\u001b[0;32mC:\\Program Files\\Anaconda3\\lib\\site-packages\\linearmodels\\panel\\model.py\u001b[0m in \u001b[0;36m__init__\u001b[0;34m(self, dependent, exog, weights)\u001b[0m\n\u001b[1;32m     86\u001b[0m                                                  DriscollKraay, ACCovariance)\n\u001b[1;32m     87\u001b[0m \u001b[1;33m\u001b[0m\u001b[0m\n\u001b[0;32m---> 88\u001b[0;31m         \u001b[0mself\u001b[0m\u001b[1;33m.\u001b[0m\u001b[0m_validate_data\u001b[0m\u001b[1;33m(\u001b[0m\u001b[1;33m)\u001b[0m\u001b[1;33m\u001b[0m\u001b[0m\n\u001b[0m\u001b[1;32m     89\u001b[0m \u001b[1;33m\u001b[0m\u001b[0m\n\u001b[1;32m     90\u001b[0m     \u001b[1;32mdef\u001b[0m \u001b[0m__str__\u001b[0m\u001b[1;33m(\u001b[0m\u001b[0mself\u001b[0m\u001b[1;33m)\u001b[0m\u001b[1;33m:\u001b[0m\u001b[1;33m\u001b[0m\u001b[0m\n",
      "\u001b[0;32mC:\\Program Files\\Anaconda3\\lib\\site-packages\\linearmodels\\panel\\model.py\u001b[0m in \u001b[0;36m_validate_data\u001b[0;34m(self)\u001b[0m\n\u001b[1;32m    207\u001b[0m \u001b[1;33m\u001b[0m\u001b[0m\n\u001b[1;32m    208\u001b[0m         \u001b[1;32mif\u001b[0m \u001b[0mmatrix_rank\u001b[0m\u001b[1;33m(\u001b[0m\u001b[0mx\u001b[0m\u001b[1;33m)\u001b[0m \u001b[1;33m<\u001b[0m \u001b[0mx\u001b[0m\u001b[1;33m.\u001b[0m\u001b[0mshape\u001b[0m\u001b[1;33m[\u001b[0m\u001b[1;36m1\u001b[0m\u001b[1;33m]\u001b[0m\u001b[1;33m:\u001b[0m\u001b[1;33m\u001b[0m\u001b[0m\n\u001b[0;32m--> 209\u001b[0;31m             \u001b[1;32mraise\u001b[0m \u001b[0mValueError\u001b[0m\u001b[1;33m(\u001b[0m\u001b[1;34m'exog does not have full column rank.'\u001b[0m\u001b[1;33m)\u001b[0m\u001b[1;33m\u001b[0m\u001b[0m\n\u001b[0m\u001b[1;32m    210\u001b[0m         \u001b[0mself\u001b[0m\u001b[1;33m.\u001b[0m\u001b[0m_constant\u001b[0m\u001b[1;33m,\u001b[0m \u001b[0mself\u001b[0m\u001b[1;33m.\u001b[0m\u001b[0m_constant_index\u001b[0m \u001b[1;33m=\u001b[0m \u001b[0mhas_constant\u001b[0m\u001b[1;33m(\u001b[0m\u001b[0mx\u001b[0m\u001b[1;33m)\u001b[0m\u001b[1;33m\u001b[0m\u001b[0m\n\u001b[1;32m    211\u001b[0m \u001b[1;33m\u001b[0m\u001b[0m\n",
      "\u001b[0;31mValueError\u001b[0m: exog does not have full column rank."
     ]
    }
   ],
   "source": [
    "# include VRM on competing modes\n",
    "# base model\n",
    "\n",
    "mod=PanelOLS.from_formula('UPT_ADJ_log \\\n",
    "                    ~ VRM_ADJ_log \\\n",
    "                    + Bus_VRM_ADJ_RAIL \\\n",
    "                    + Rail_VRM_ADJ_BUS \\\n",
    "                    + FARE_per_UPT_2018_log \\\n",
    "                    + POP_EMP_log \\\n",
    "                    + GAS_PRICE_2018_log \\\n",
    "                    + TOTAL_MED_INC_INDIV_2018_log \\\n",
    "                    + Tot_NonUSA_POP_pct \\\n",
    "                    + PCT_HH_NO_VEH \\\n",
    "                    + TSD_POP_PCT \\\n",
    "                    + EntityEffects \\\n",
    "                    ',data=df)\n",
    "res=mod.fit()\n",
    "print(res)\n"
   ]
  },
  {
   "cell_type": "code",
   "execution_count": null,
   "metadata": {
    "collapsed": true
   },
   "outputs": [],
   "source": []
  },
  {
   "cell_type": "markdown",
   "metadata": {},
   "source": [
    "## TNCs, bikes, scooters"
   ]
  },
  {
   "cell_type": "code",
   "execution_count": 38,
   "metadata": {
    "collapsed": false
   },
   "outputs": [
    {
     "name": "stderr",
     "output_type": "stream",
     "text": [
      "C:\\Program Files\\Anaconda3\\lib\\site-packages\\linearmodels\\panel\\data.py:39: FutureWarning: \n",
      "Passing list-likes to .loc or [] with any missing label will raise\n",
      "KeyError in the future, you can use .reindex() as an alternative.\n",
      "\n",
      "See the documentation here:\n",
      "https://pandas.pydata.org/pandas-docs/stable/indexing.html#deprecate-loc-reindex-listlike\n",
      "  new_df = df.copy().loc[self._full_index]\n",
      "C:\\Program Files\\Anaconda3\\lib\\site-packages\\linearmodels\\utility.py:476: MissingValueWarning: \n",
      "Inputs contain missing values. Dropping rows with missing observations.\n",
      "  warnings.warn(missing_value_warning_msg, MissingValueWarning)\n"
     ]
    },
    {
     "name": "stdout",
     "output_type": "stream",
     "text": [
      "                          PanelOLS Estimation Summary                           \n",
      "================================================================================\n",
      "Dep. Variable:            UPT_ADJ_log   R-squared:                        0.6138\n",
      "Estimator:                   PanelOLS   R-squared (Between):              0.9337\n",
      "No. Observations:                4173   R-squared (Within):               0.6138\n",
      "Date:                Thu, Nov 21 2019   R-squared (Overall):              0.9335\n",
      "Time:                        13:34:42   Log-likelihood                    1179.7\n",
      "Cov. Estimator:            Unadjusted                                           \n",
      "                                        F-statistic:                      774.36\n",
      "Entities:                         268   P-value                           0.0000\n",
      "Avg Obs:                       15.571   Distribution:                  F(8,3897)\n",
      "Min Obs:                       2.0000                                           \n",
      "Max Obs:                       17.000   F-statistic (robust):             774.36\n",
      "                                        P-value                           0.0000\n",
      "Time periods:                      17   Distribution:                  F(8,3897)\n",
      "Avg Obs:                       245.47                                           \n",
      "Min Obs:                       176.00                                           \n",
      "Max Obs:                       266.00                                           \n",
      "                                                                                \n",
      "                                      Parameter Estimates                                       \n",
      "================================================================================================\n",
      "                              Parameter  Std. Err.     T-stat    P-value    Lower CI    Upper CI\n",
      "------------------------------------------------------------------------------------------------\n",
      "VRM_ADJ_log                      0.6049     0.0121     49.820     0.0000      0.5811      0.6287\n",
      "FARE_per_UPT_2018_log           -0.7041     0.0188    -37.364     0.0000     -0.7411     -0.6672\n",
      "POP_EMP_log                      0.4381     0.0540     8.1061     0.0000      0.3322      0.5441\n",
      "GAS_PRICE_2018_log               0.2361     0.0235     10.068     0.0000      0.1901      0.2821\n",
      "TOTAL_MED_INC_INDIV_2018_log    -0.3523     0.0537    -6.5652     0.0000     -0.4575     -0.2471\n",
      "Tot_NonUSA_POP_pct               0.0223     0.0086     2.5872     0.0097      0.0054      0.0391\n",
      "PCT_HH_NO_VEH                    0.0098     0.0031     3.1572     0.0016      0.0037      0.0160\n",
      "TSD_POP_PCT                      0.5480     0.1481     3.7002     0.0002      0.2576      0.8383\n",
      "================================================================================================\n",
      "\n",
      "F-test for Poolability: 103.37\n",
      "P-value: 0.0000\n",
      "Distribution: F(267,3897)\n",
      "\n",
      "Included effects: Entity\n"
     ]
    }
   ],
   "source": [
    "# base model\n",
    "\n",
    "mod=PanelOLS.from_formula('UPT_ADJ_log \\\n",
    "                    ~ VRM_ADJ_log \\\n",
    "                    + FARE_per_UPT_2018_log \\\n",
    "                    + POP_EMP_log \\\n",
    "                    + GAS_PRICE_2018_log \\\n",
    "                    + TOTAL_MED_INC_INDIV_2018_log \\\n",
    "                    + Tot_NonUSA_POP_pct \\\n",
    "                    + PCT_HH_NO_VEH \\\n",
    "                    + TSD_POP_PCT \\\n",
    "                    + EntityEffects \\\n",
    "                    ',data=df)\n",
    "res=mod.fit()\n",
    "print(res)"
   ]
  },
  {
   "cell_type": "code",
   "execution_count": 39,
   "metadata": {
    "collapsed": false
   },
   "outputs": [
    {
     "name": "stderr",
     "output_type": "stream",
     "text": [
      "C:\\Program Files\\Anaconda3\\lib\\site-packages\\linearmodels\\panel\\data.py:39: FutureWarning: \n",
      "Passing list-likes to .loc or [] with any missing label will raise\n",
      "KeyError in the future, you can use .reindex() as an alternative.\n",
      "\n",
      "See the documentation here:\n",
      "https://pandas.pydata.org/pandas-docs/stable/indexing.html#deprecate-loc-reindex-listlike\n",
      "  new_df = df.copy().loc[self._full_index]\n",
      "C:\\Program Files\\Anaconda3\\lib\\site-packages\\linearmodels\\utility.py:476: MissingValueWarning: \n",
      "Inputs contain missing values. Dropping rows with missing observations.\n",
      "  warnings.warn(missing_value_warning_msg, MissingValueWarning)\n"
     ]
    },
    {
     "name": "stdout",
     "output_type": "stream",
     "text": [
      "                          PanelOLS Estimation Summary                           \n",
      "================================================================================\n",
      "Dep. Variable:            UPT_ADJ_log   R-squared:                        0.6143\n",
      "Estimator:                   PanelOLS   R-squared (Between):              0.9481\n",
      "No. Observations:                4173   R-squared (Within):               0.6143\n",
      "Date:                Thu, Nov 21 2019   R-squared (Overall):              0.9478\n",
      "Time:                        13:34:52   Log-likelihood                    1182.4\n",
      "Cov. Estimator:            Unadjusted                                           \n",
      "                                        F-statistic:                      620.47\n",
      "Entities:                         268   P-value                           0.0000\n",
      "Avg Obs:                       15.571   Distribution:                 F(10,3895)\n",
      "Min Obs:                       2.0000                                           \n",
      "Max Obs:                       17.000   F-statistic (robust):             620.47\n",
      "                                        P-value                           0.0000\n",
      "Time periods:                      17   Distribution:                 F(10,3895)\n",
      "Avg Obs:                       245.47                                           \n",
      "Min Obs:                       176.00                                           \n",
      "Max Obs:                       266.00                                           \n",
      "                                                                                \n",
      "                                      Parameter Estimates                                       \n",
      "================================================================================================\n",
      "                              Parameter  Std. Err.     T-stat    P-value    Lower CI    Upper CI\n",
      "------------------------------------------------------------------------------------------------\n",
      "VRM_ADJ_log                      0.6050     0.0124     48.674     0.0000      0.5807      0.6294\n",
      "FARE_per_UPT_2018_log           -0.7012     0.0190    -36.949     0.0000     -0.7384     -0.6640\n",
      "POP_EMP_log                      0.4858     0.0581     8.3565     0.0000      0.3718      0.5997\n",
      "GAS_PRICE_2018_log               0.2089     0.0267     7.8153     0.0000      0.1565      0.2613\n",
      "TOTAL_MED_INC_INDIV_2018_log    -0.3672     0.0541    -6.7829     0.0000     -0.4733     -0.2611\n",
      "Tot_NonUSA_POP_pct               0.0254     0.0087     2.9086     0.0037      0.0083      0.0425\n",
      "PCT_HH_NO_VEH                    0.0097     0.0031     3.1178     0.0018      0.0036      0.0158\n",
      "TSD_POP_PCT                      0.5099     0.1500     3.3995     0.0007      0.2158      0.8040\n",
      "TNC_FLAG_BUS                    -0.0215     0.0096    -2.2317     0.0257     -0.0404     -0.0026\n",
      "TNC_FLAG_RAIL                   -0.0039     0.0180    -0.2186     0.8269     -0.0392      0.0314\n",
      "================================================================================================\n",
      "\n",
      "F-test for Poolability: 102.55\n",
      "P-value: 0.0000\n",
      "Distribution: F(267,3895)\n",
      "\n",
      "Included effects: Entity\n"
     ]
    }
   ],
   "source": [
    "# add TNC flag\n",
    "\n",
    "mod=PanelOLS.from_formula('UPT_ADJ_log \\\n",
    "                    ~ VRM_ADJ_log \\\n",
    "                    + FARE_per_UPT_2018_log \\\n",
    "                    + POP_EMP_log \\\n",
    "                    + GAS_PRICE_2018_log \\\n",
    "                    + TOTAL_MED_INC_INDIV_2018_log \\\n",
    "                    + Tot_NonUSA_POP_pct \\\n",
    "                    + PCT_HH_NO_VEH \\\n",
    "                    + TSD_POP_PCT \\\n",
    "                    + TNC_FLAG_BUS \\\n",
    "                    + TNC_FLAG_RAIL \\\n",
    "                    + EntityEffects \\\n",
    "                    ',data=df)\n",
    "res=mod.fit()\n",
    "print(res)"
   ]
  },
  {
   "cell_type": "code",
   "execution_count": 40,
   "metadata": {
    "collapsed": false
   },
   "outputs": [
    {
     "name": "stderr",
     "output_type": "stream",
     "text": [
      "C:\\Program Files\\Anaconda3\\lib\\site-packages\\linearmodels\\panel\\data.py:39: FutureWarning: \n",
      "Passing list-likes to .loc or [] with any missing label will raise\n",
      "KeyError in the future, you can use .reindex() as an alternative.\n",
      "\n",
      "See the documentation here:\n",
      "https://pandas.pydata.org/pandas-docs/stable/indexing.html#deprecate-loc-reindex-listlike\n",
      "  new_df = df.copy().loc[self._full_index]\n",
      "C:\\Program Files\\Anaconda3\\lib\\site-packages\\linearmodels\\utility.py:476: MissingValueWarning: \n",
      "Inputs contain missing values. Dropping rows with missing observations.\n",
      "  warnings.warn(missing_value_warning_msg, MissingValueWarning)\n"
     ]
    },
    {
     "name": "stdout",
     "output_type": "stream",
     "text": [
      "                          PanelOLS Estimation Summary                           \n",
      "================================================================================\n",
      "Dep. Variable:            UPT_ADJ_log   R-squared:                        0.6185\n",
      "Estimator:                   PanelOLS   R-squared (Between):              0.9753\n",
      "No. Observations:                4173   R-squared (Within):               0.6185\n",
      "Date:                Thu, Nov 21 2019   R-squared (Overall):              0.9750\n",
      "Time:                        13:34:55   Log-likelihood                    1205.3\n",
      "Cov. Estimator:            Unadjusted                                           \n",
      "                                        F-statistic:                      631.60\n",
      "Entities:                         268   P-value                           0.0000\n",
      "Avg Obs:                       15.571   Distribution:                 F(10,3895)\n",
      "Min Obs:                       2.0000                                           \n",
      "Max Obs:                       17.000   F-statistic (robust):             631.60\n",
      "                                        P-value                           0.0000\n",
      "Time periods:                      17   Distribution:                 F(10,3895)\n",
      "Avg Obs:                       245.47                                           \n",
      "Min Obs:                       176.00                                           \n",
      "Max Obs:                       266.00                                           \n",
      "                                                                                \n",
      "                                      Parameter Estimates                                       \n",
      "================================================================================================\n",
      "                              Parameter  Std. Err.     T-stat    P-value    Lower CI    Upper CI\n",
      "------------------------------------------------------------------------------------------------\n",
      "VRM_ADJ_log                      0.5997     0.0123     48.904     0.0000      0.5757      0.6237\n",
      "FARE_per_UPT_2018_log           -0.7012     0.0188    -37.302     0.0000     -0.7381     -0.6644\n",
      "POP_EMP_log                      0.5614     0.0573     9.7924     0.0000      0.4490      0.6737\n",
      "GAS_PRICE_2018_log               0.1816     0.0253     7.1719     0.0000      0.1320      0.2313\n",
      "TOTAL_MED_INC_INDIV_2018_log    -0.3485     0.0534    -6.5314     0.0000     -0.4532     -0.2439\n",
      "Tot_NonUSA_POP_pct               0.0301     0.0087     3.4775     0.0005      0.0131      0.0471\n",
      "PCT_HH_NO_VEH                    0.0091     0.0031     2.9164     0.0036      0.0030      0.0152\n",
      "TSD_POP_PCT                      0.4671     0.1487     3.1410     0.0017      0.1755      0.7587\n",
      "YEARS_SINCE_TNC_BUS             -0.0231     0.0035    -6.5916     0.0000     -0.0299     -0.0162\n",
      "YEARS_SINCE_TNC_RAIL             0.0041     0.0049     0.8311     0.4060     -0.0056      0.0137\n",
      "================================================================================================\n",
      "\n",
      "F-test for Poolability: 104.20\n",
      "P-value: 0.0000\n",
      "Distribution: F(267,3895)\n",
      "\n",
      "Included effects: Entity\n"
     ]
    }
   ],
   "source": [
    "# add TNC flag\n",
    "\n",
    "mod=PanelOLS.from_formula('UPT_ADJ_log \\\n",
    "                    ~ VRM_ADJ_log \\\n",
    "                    + FARE_per_UPT_2018_log \\\n",
    "                    + POP_EMP_log \\\n",
    "                    + GAS_PRICE_2018_log \\\n",
    "                    + TOTAL_MED_INC_INDIV_2018_log \\\n",
    "                    + Tot_NonUSA_POP_pct \\\n",
    "                    + PCT_HH_NO_VEH \\\n",
    "                    + TSD_POP_PCT \\\n",
    "                    + YEARS_SINCE_TNC_BUS \\\n",
    "                    + YEARS_SINCE_TNC_RAIL \\\n",
    "                    + EntityEffects \\\n",
    "                    ',data=df)\n",
    "res=mod.fit()\n",
    "print(res)"
   ]
  },
  {
   "cell_type": "code",
   "execution_count": 41,
   "metadata": {
    "collapsed": false
   },
   "outputs": [
    {
     "name": "stderr",
     "output_type": "stream",
     "text": [
      "C:\\Program Files\\Anaconda3\\lib\\site-packages\\linearmodels\\panel\\data.py:39: FutureWarning: \n",
      "Passing list-likes to .loc or [] with any missing label will raise\n",
      "KeyError in the future, you can use .reindex() as an alternative.\n",
      "\n",
      "See the documentation here:\n",
      "https://pandas.pydata.org/pandas-docs/stable/indexing.html#deprecate-loc-reindex-listlike\n",
      "  new_df = df.copy().loc[self._full_index]\n",
      "C:\\Program Files\\Anaconda3\\lib\\site-packages\\linearmodels\\utility.py:476: MissingValueWarning: \n",
      "Inputs contain missing values. Dropping rows with missing observations.\n",
      "  warnings.warn(missing_value_warning_msg, MissingValueWarning)\n"
     ]
    },
    {
     "name": "stdout",
     "output_type": "stream",
     "text": [
      "                          PanelOLS Estimation Summary                           \n",
      "================================================================================\n",
      "Dep. Variable:            UPT_ADJ_log   R-squared:                        0.6166\n",
      "Estimator:                   PanelOLS   R-squared (Between):              0.9984\n",
      "No. Observations:                3962   R-squared (Within):               0.6166\n",
      "Date:                Thu, Nov 21 2019   R-squared (Overall):              0.9984\n",
      "Time:                        13:34:58   Log-likelihood                    1183.6\n",
      "Cov. Estimator:            Unadjusted                                           \n",
      "                                        F-statistic:                      495.50\n",
      "Entities:                         253   P-value                           0.0000\n",
      "Avg Obs:                       15.660   Distribution:                 F(12,3697)\n",
      "Min Obs:                       2.0000                                           \n",
      "Max Obs:                       17.000   F-statistic (robust):             495.50\n",
      "                                        P-value                           0.0000\n",
      "Time periods:                      17   Distribution:                 F(12,3697)\n",
      "Avg Obs:                       233.06                                           \n",
      "Min Obs:                       169.00                                           \n",
      "Max Obs:                       251.00                                           \n",
      "                                                                                \n",
      "                                      Parameter Estimates                                       \n",
      "================================================================================================\n",
      "                              Parameter  Std. Err.     T-stat    P-value    Lower CI    Upper CI\n",
      "------------------------------------------------------------------------------------------------\n",
      "VRM_ADJ_log                      0.6037     0.0130     46.283     0.0000      0.5782      0.6293\n",
      "FARE_per_UPT_2018_log           -0.7291     0.0194    -37.545     0.0000     -0.7672     -0.6910\n",
      "POP_EMP_log                      0.7370     0.0672     10.962     0.0000      0.6052      0.8688\n",
      "GAS_PRICE_2018_log               0.1592     0.0260     6.1302     0.0000      0.1083      0.2101\n",
      "TOTAL_MED_INC_INDIV_2018_log    -0.3464     0.0547    -6.3307     0.0000     -0.4536     -0.2391\n",
      "Tot_NonUSA_POP_pct               0.0260     0.0088     2.9686     0.0030      0.0088      0.0432\n",
      "PCT_HH_NO_VEH                    0.0090     0.0032     2.8554     0.0043      0.0028      0.0152\n",
      "TSD_POP_PCT                      0.6207     0.1519     4.0856     0.0000      0.3228      0.9185\n",
      "YEARS_SINCE_TNC_BUS             -0.0246     0.0042    -5.8659     0.0000     -0.0328     -0.0163\n",
      "YEARS_SINCE_TNC_RAIL            -0.0016     0.0068    -0.2294     0.8186     -0.0148      0.0117\n",
      "BIKE_SHARE_BUS                  -0.0214     0.0149    -1.4374     0.1507     -0.0505      0.0078\n",
      "BIKE_SHARE_RAIL                  0.0010     0.0280     0.0342     0.9727     -0.0539      0.0558\n",
      "================================================================================================\n",
      "\n",
      "F-test for Poolability: 100.04\n",
      "P-value: 0.0000\n",
      "Distribution: F(252,3697)\n",
      "\n",
      "Included effects: Entity\n"
     ]
    }
   ],
   "source": [
    "# add BIKE SHARE\n",
    "\n",
    "mod=PanelOLS.from_formula('UPT_ADJ_log \\\n",
    "                    ~ VRM_ADJ_log \\\n",
    "                    + FARE_per_UPT_2018_log \\\n",
    "                    + POP_EMP_log \\\n",
    "                    + GAS_PRICE_2018_log \\\n",
    "                    + TOTAL_MED_INC_INDIV_2018_log \\\n",
    "                    + Tot_NonUSA_POP_pct \\\n",
    "                    + PCT_HH_NO_VEH \\\n",
    "                    + TSD_POP_PCT \\\n",
    "                    + YEARS_SINCE_TNC_BUS \\\n",
    "                    + YEARS_SINCE_TNC_RAIL \\\n",
    "                    + BIKE_SHARE_BUS \\\n",
    "                    + BIKE_SHARE_RAIL \\\n",
    "                    + EntityEffects \\\n",
    "                    ',data=df)\n",
    "res=mod.fit()\n",
    "print(res)"
   ]
  },
  {
   "cell_type": "code",
   "execution_count": 42,
   "metadata": {
    "collapsed": false
   },
   "outputs": [
    {
     "name": "stderr",
     "output_type": "stream",
     "text": [
      "C:\\Program Files\\Anaconda3\\lib\\site-packages\\linearmodels\\panel\\data.py:39: FutureWarning: \n",
      "Passing list-likes to .loc or [] with any missing label will raise\n",
      "KeyError in the future, you can use .reindex() as an alternative.\n",
      "\n",
      "See the documentation here:\n",
      "https://pandas.pydata.org/pandas-docs/stable/indexing.html#deprecate-loc-reindex-listlike\n",
      "  new_df = df.copy().loc[self._full_index]\n",
      "C:\\Program Files\\Anaconda3\\lib\\site-packages\\linearmodels\\utility.py:476: MissingValueWarning: \n",
      "Inputs contain missing values. Dropping rows with missing observations.\n",
      "  warnings.warn(missing_value_warning_msg, MissingValueWarning)\n"
     ]
    },
    {
     "name": "stdout",
     "output_type": "stream",
     "text": [
      "                          PanelOLS Estimation Summary                           \n",
      "================================================================================\n",
      "Dep. Variable:            UPT_ADJ_log   R-squared:                        0.6169\n",
      "Estimator:                   PanelOLS   R-squared (Between):              0.9982\n",
      "No. Observations:                3962   R-squared (Within):               0.6169\n",
      "Date:                Thu, Nov 21 2019   R-squared (Overall):              0.9982\n",
      "Time:                        13:35:01   Log-likelihood                    1184.9\n",
      "Cov. Estimator:            Unadjusted                                           \n",
      "                                        F-statistic:                      424.91\n",
      "Entities:                         253   P-value                           0.0000\n",
      "Avg Obs:                       15.660   Distribution:                 F(14,3695)\n",
      "Min Obs:                       2.0000                                           \n",
      "Max Obs:                       17.000   F-statistic (robust):             424.91\n",
      "                                        P-value                           0.0000\n",
      "Time periods:                      17   Distribution:                 F(14,3695)\n",
      "Avg Obs:                       233.06                                           \n",
      "Min Obs:                       169.00                                           \n",
      "Max Obs:                       251.00                                           \n",
      "                                                                                \n",
      "                                      Parameter Estimates                                       \n",
      "================================================================================================\n",
      "                              Parameter  Std. Err.     T-stat    P-value    Lower CI    Upper CI\n",
      "------------------------------------------------------------------------------------------------\n",
      "VRM_ADJ_log                      0.6036     0.0130     46.276     0.0000      0.5781      0.6292\n",
      "FARE_per_UPT_2018_log           -0.7297     0.0194    -37.571     0.0000     -0.7678     -0.6917\n",
      "POP_EMP_log                      0.7387     0.0672     10.984     0.0000      0.6068      0.8705\n",
      "GAS_PRICE_2018_log               0.1650     0.0262     6.2858     0.0000      0.1135      0.2165\n",
      "TOTAL_MED_INC_INDIV_2018_log    -0.3399     0.0549    -6.1941     0.0000     -0.4475     -0.2323\n",
      "Tot_NonUSA_POP_pct               0.0257     0.0088     2.9259     0.0035      0.0085      0.0429\n",
      "PCT_HH_NO_VEH                    0.0090     0.0032     2.8422     0.0045      0.0028      0.0152\n",
      "TSD_POP_PCT                      0.6362     0.1523     4.1784     0.0000      0.3377      0.9347\n",
      "YEARS_SINCE_TNC_BUS             -0.0227     0.0044    -5.1540     0.0000     -0.0313     -0.0141\n",
      "YEARS_SINCE_TNC_RAIL             0.0011     0.0075     0.1446     0.8850     -0.0136      0.0157\n",
      "BIKE_SHARE_BUS                  -0.0208     0.0149    -1.4020     0.1610     -0.0500      0.0083\n",
      "BIKE_SHARE_RAIL                 -0.0006     0.0281    -0.0203     0.9838     -0.0556      0.0545\n",
      "scooter_flag_BUS                -0.0414     0.0318    -1.3029     0.1927     -0.1037      0.0209\n",
      "scooter_flag_RAIL               -0.0388     0.0491    -0.7912     0.4289     -0.1351      0.0574\n",
      "================================================================================================\n",
      "\n",
      "F-test for Poolability: 100.04\n",
      "P-value: 0.0000\n",
      "Distribution: F(252,3695)\n",
      "\n",
      "Included effects: Entity\n"
     ]
    }
   ],
   "source": [
    "# add SCOOTERS\n",
    "\n",
    "mod=PanelOLS.from_formula('UPT_ADJ_log \\\n",
    "                    ~ VRM_ADJ_log \\\n",
    "                    + FARE_per_UPT_2018_log \\\n",
    "                    + POP_EMP_log \\\n",
    "                    + GAS_PRICE_2018_log \\\n",
    "                    + TOTAL_MED_INC_INDIV_2018_log \\\n",
    "                    + Tot_NonUSA_POP_pct \\\n",
    "                    + PCT_HH_NO_VEH \\\n",
    "                    + TSD_POP_PCT \\\n",
    "                    + YEARS_SINCE_TNC_BUS \\\n",
    "                    + YEARS_SINCE_TNC_RAIL \\\n",
    "                    + BIKE_SHARE_BUS \\\n",
    "                    + BIKE_SHARE_RAIL \\\n",
    "                    + scooter_flag_BUS \\\n",
    "                    + scooter_flag_RAIL \\\n",
    "                    + EntityEffects \\\n",
    "                    ',data=df)\n",
    "res=mod.fit()\n",
    "print(res)"
   ]
  },
  {
   "cell_type": "code",
   "execution_count": 43,
   "metadata": {
    "collapsed": false
   },
   "outputs": [
    {
     "name": "stderr",
     "output_type": "stream",
     "text": [
      "C:\\Program Files\\Anaconda3\\lib\\site-packages\\linearmodels\\panel\\data.py:39: FutureWarning: \n",
      "Passing list-likes to .loc or [] with any missing label will raise\n",
      "KeyError in the future, you can use .reindex() as an alternative.\n",
      "\n",
      "See the documentation here:\n",
      "https://pandas.pydata.org/pandas-docs/stable/indexing.html#deprecate-loc-reindex-listlike\n",
      "  new_df = df.copy().loc[self._full_index]\n",
      "C:\\Program Files\\Anaconda3\\lib\\site-packages\\linearmodels\\utility.py:476: MissingValueWarning: \n",
      "Inputs contain missing values. Dropping rows with missing observations.\n",
      "  warnings.warn(missing_value_warning_msg, MissingValueWarning)\n"
     ]
    },
    {
     "name": "stdout",
     "output_type": "stream",
     "text": [
      "                          PanelOLS Estimation Summary                           \n",
      "================================================================================\n",
      "Dep. Variable:            UPT_ADJ_log   R-squared:                        0.6189\n",
      "Estimator:                   PanelOLS   R-squared (Between):              0.9781\n",
      "No. Observations:                4173   R-squared (Within):               0.6189\n",
      "Date:                Thu, Nov 21 2019   R-squared (Overall):              0.9778\n",
      "Time:                        13:35:04   Log-likelihood                    1207.2\n",
      "Cov. Estimator:            Unadjusted                                           \n",
      "                                        F-statistic:                      451.34\n",
      "Entities:                         268   P-value                           0.0000\n",
      "Avg Obs:                       15.571   Distribution:                 F(14,3891)\n",
      "Min Obs:                       2.0000                                           \n",
      "Max Obs:                       17.000   F-statistic (robust):             451.34\n",
      "                                        P-value                           0.0000\n",
      "Time periods:                      17   Distribution:                 F(14,3891)\n",
      "Avg Obs:                       245.47                                           \n",
      "Min Obs:                       176.00                                           \n",
      "Max Obs:                       266.00                                           \n",
      "                                                                                \n",
      "                                      Parameter Estimates                                       \n",
      "================================================================================================\n",
      "                              Parameter  Std. Err.     T-stat    P-value    Lower CI    Upper CI\n",
      "------------------------------------------------------------------------------------------------\n",
      "VRM_ADJ_log                      0.6005     0.0123     48.817     0.0000      0.5763      0.6246\n",
      "FARE_per_UPT_2018_log           -0.7016     0.0188    -37.301     0.0000     -0.7384     -0.6647\n",
      "POP_EMP_log                      0.5642     0.0575     9.8179     0.0000      0.4515      0.6769\n",
      "GAS_PRICE_2018_log               0.1877     0.0256     7.3301     0.0000      0.1375      0.2378\n",
      "TOTAL_MED_INC_INDIV_2018_log    -0.3404     0.0536    -6.3560     0.0000     -0.4455     -0.2354\n",
      "Tot_NonUSA_POP_pct               0.0300     0.0087     3.4631     0.0005      0.0130      0.0470\n",
      "PCT_HH_NO_VEH                    0.0090     0.0031     2.9019     0.0037      0.0029      0.0151\n",
      "TSD_POP_PCT                      0.4845     0.1492     3.2484     0.0012      0.1921      0.7769\n",
      "YEARS_SINCE_TNC_BUS             -0.0216     0.0040    -5.3610     0.0000     -0.0295     -0.0137\n",
      "YEARS_SINCE_TNC_RAIL             0.0028     0.0067     0.4099     0.6819     -0.0104      0.0159\n",
      "dockCt_BUS                    2.841e-05  9.609e-05     0.2957     0.7675     -0.0002      0.0002\n",
      "dockCt_RAIL                      0.0001     0.0001     1.0240     0.3059     -0.0001      0.0003\n",
      "scooter_flag_BUS                -0.0424     0.0318    -1.3329     0.1826     -0.1047      0.0199\n",
      "scooter_flag_RAIL               -0.0387     0.0484    -0.7994     0.4241     -0.1335      0.0562\n",
      "================================================================================================\n",
      "\n",
      "F-test for Poolability: 104.12\n",
      "P-value: 0.0000\n",
      "Distribution: F(267,3891)\n",
      "\n",
      "Included effects: Entity\n"
     ]
    }
   ],
   "source": [
    "# add dock count\n",
    "\n",
    "mod=PanelOLS.from_formula('UPT_ADJ_log \\\n",
    "                    ~ VRM_ADJ_log \\\n",
    "                    + FARE_per_UPT_2018_log \\\n",
    "                    + POP_EMP_log \\\n",
    "                    + GAS_PRICE_2018_log \\\n",
    "                    + TOTAL_MED_INC_INDIV_2018_log \\\n",
    "                    + Tot_NonUSA_POP_pct \\\n",
    "                    + PCT_HH_NO_VEH \\\n",
    "                    + TSD_POP_PCT \\\n",
    "                    + YEARS_SINCE_TNC_BUS \\\n",
    "                    + YEARS_SINCE_TNC_RAIL \\\n",
    "                    + dockCt_BUS \\\n",
    "                    + dockCt_RAIL \\\n",
    "                    + scooter_flag_BUS \\\n",
    "                    + scooter_flag_RAIL \\\n",
    "                    + EntityEffects \\\n",
    "                    ',data=df)\n",
    "res=mod.fit()\n",
    "print(res)"
   ]
  },
  {
   "cell_type": "code",
   "execution_count": 44,
   "metadata": {
    "collapsed": false
   },
   "outputs": [
    {
     "name": "stderr",
     "output_type": "stream",
     "text": [
      "C:\\Program Files\\Anaconda3\\lib\\site-packages\\linearmodels\\panel\\data.py:39: FutureWarning: \n",
      "Passing list-likes to .loc or [] with any missing label will raise\n",
      "KeyError in the future, you can use .reindex() as an alternative.\n",
      "\n",
      "See the documentation here:\n",
      "https://pandas.pydata.org/pandas-docs/stable/indexing.html#deprecate-loc-reindex-listlike\n",
      "  new_df = df.copy().loc[self._full_index]\n",
      "C:\\Program Files\\Anaconda3\\lib\\site-packages\\linearmodels\\utility.py:476: MissingValueWarning: \n",
      "Inputs contain missing values. Dropping rows with missing observations.\n",
      "  warnings.warn(missing_value_warning_msg, MissingValueWarning)\n"
     ]
    },
    {
     "name": "stdout",
     "output_type": "stream",
     "text": [
      "                          PanelOLS Estimation Summary                           \n",
      "================================================================================\n",
      "Dep. Variable:            UPT_ADJ_log   R-squared:                        0.6169\n",
      "Estimator:                   PanelOLS   R-squared (Between):              0.9982\n",
      "No. Observations:                3962   R-squared (Within):               0.6169\n",
      "Date:                Thu, Nov 21 2019   R-squared (Overall):              0.9982\n",
      "Time:                        13:35:08   Log-likelihood                    1184.9\n",
      "Cov. Estimator:            Unadjusted                                           \n",
      "                                        F-statistic:                      424.91\n",
      "Entities:                         253   P-value                           0.0000\n",
      "Avg Obs:                       15.660   Distribution:                 F(14,3695)\n",
      "Min Obs:                       2.0000                                           \n",
      "Max Obs:                       17.000   F-statistic (robust):             424.91\n",
      "                                        P-value                           0.0000\n",
      "Time periods:                      17   Distribution:                 F(14,3695)\n",
      "Avg Obs:                       233.06                                           \n",
      "Min Obs:                       169.00                                           \n",
      "Max Obs:                       251.00                                           \n",
      "                                                                                \n",
      "                                      Parameter Estimates                                       \n",
      "================================================================================================\n",
      "                              Parameter  Std. Err.     T-stat    P-value    Lower CI    Upper CI\n",
      "------------------------------------------------------------------------------------------------\n",
      "VRM_ADJ_log                      0.6036     0.0130     46.276     0.0000      0.5781      0.6292\n",
      "FARE_per_UPT_2018_log           -0.7297     0.0194    -37.571     0.0000     -0.7678     -0.6917\n",
      "POP_EMP_log                      0.7387     0.0672     10.984     0.0000      0.6068      0.8705\n",
      "GAS_PRICE_2018_log               0.1650     0.0262     6.2858     0.0000      0.1135      0.2165\n",
      "TOTAL_MED_INC_INDIV_2018_log    -0.3399     0.0549    -6.1941     0.0000     -0.4475     -0.2323\n",
      "Tot_NonUSA_POP_pct               0.0257     0.0088     2.9259     0.0035      0.0085      0.0429\n",
      "PCT_HH_NO_VEH                    0.0090     0.0032     2.8422     0.0045      0.0028      0.0152\n",
      "TSD_POP_PCT                      0.6362     0.1523     4.1784     0.0000      0.3377      0.9347\n",
      "YEARS_SINCE_TNC_BUS             -0.0227     0.0044    -5.1540     0.0000     -0.0313     -0.0141\n",
      "YEARS_SINCE_TNC_RAIL             0.0011     0.0075     0.1446     0.8850     -0.0136      0.0157\n",
      "BIKE_SHARE_BUS                  -0.0208     0.0149    -1.4020     0.1610     -0.0500      0.0083\n",
      "BIKE_SHARE_RAIL                 -0.0006     0.0281    -0.0203     0.9838     -0.0556      0.0545\n",
      "scooter_flag_BUS                -0.0414     0.0318    -1.3029     0.1927     -0.1037      0.0209\n",
      "scooter_flag_RAIL               -0.0388     0.0491    -0.7912     0.4289     -0.1351      0.0574\n",
      "================================================================================================\n",
      "\n",
      "F-test for Poolability: 100.04\n",
      "P-value: 0.0000\n",
      "Distribution: F(252,3695)\n",
      "\n",
      "Included effects: Entity\n"
     ]
    }
   ],
   "source": [
    "# current favorite\n",
    "\n",
    "mod=PanelOLS.from_formula('UPT_ADJ_log \\\n",
    "                    ~ VRM_ADJ_log \\\n",
    "                    + FARE_per_UPT_2018_log \\\n",
    "                    + POP_EMP_log \\\n",
    "                    + GAS_PRICE_2018_log \\\n",
    "                    + TOTAL_MED_INC_INDIV_2018_log \\\n",
    "                    + Tot_NonUSA_POP_pct \\\n",
    "                    + PCT_HH_NO_VEH \\\n",
    "                    + TSD_POP_PCT \\\n",
    "                    + YEARS_SINCE_TNC_BUS \\\n",
    "                    + YEARS_SINCE_TNC_RAIL \\\n",
    "                    + BIKE_SHARE_BUS \\\n",
    "                    + BIKE_SHARE_RAIL \\\n",
    "                    + scooter_flag_BUS \\\n",
    "                    + scooter_flag_RAIL \\\n",
    "                    + EntityEffects \\\n",
    "                    ',data=df)\n",
    "res=mod.fit()\n",
    "print(res)"
   ]
  },
  {
   "cell_type": "code",
   "execution_count": 45,
   "metadata": {
    "collapsed": false,
    "scrolled": true
   },
   "outputs": [
    {
     "name": "stderr",
     "output_type": "stream",
     "text": [
      "C:\\Program Files\\Anaconda3\\lib\\site-packages\\linearmodels\\panel\\data.py:39: FutureWarning: \n",
      "Passing list-likes to .loc or [] with any missing label will raise\n",
      "KeyError in the future, you can use .reindex() as an alternative.\n",
      "\n",
      "See the documentation here:\n",
      "https://pandas.pydata.org/pandas-docs/stable/indexing.html#deprecate-loc-reindex-listlike\n",
      "  new_df = df.copy().loc[self._full_index]\n",
      "C:\\Program Files\\Anaconda3\\lib\\site-packages\\linearmodels\\utility.py:476: MissingValueWarning: \n",
      "Inputs contain missing values. Dropping rows with missing observations.\n",
      "  warnings.warn(missing_value_warning_msg, MissingValueWarning)\n"
     ]
    },
    {
     "name": "stdout",
     "output_type": "stream",
     "text": [
      "                          PanelOLS Estimation Summary                           \n",
      "================================================================================\n",
      "Dep. Variable:            UPT_ADJ_log   R-squared:                        0.6168\n",
      "Estimator:                   PanelOLS   R-squared (Between):              0.9983\n",
      "No. Observations:                3962   R-squared (Within):               0.6168\n",
      "Date:                Thu, Nov 21 2019   R-squared (Overall):              0.9983\n",
      "Time:                        13:35:11   Log-likelihood                    1184.6\n",
      "Cov. Estimator:            Unadjusted                                           \n",
      "                                        F-statistic:                      457.62\n",
      "Entities:                         253   P-value                           0.0000\n",
      "Avg Obs:                       15.660   Distribution:                 F(13,3696)\n",
      "Min Obs:                       2.0000                                           \n",
      "Max Obs:                       17.000   F-statistic (robust):             457.62\n",
      "                                        P-value                           0.0000\n",
      "Time periods:                      17   Distribution:                 F(13,3696)\n",
      "Avg Obs:                       233.06                                           \n",
      "Min Obs:                       169.00                                           \n",
      "Max Obs:                       251.00                                           \n",
      "                                                                                \n",
      "                                      Parameter Estimates                                       \n",
      "================================================================================================\n",
      "                              Parameter  Std. Err.     T-stat    P-value    Lower CI    Upper CI\n",
      "------------------------------------------------------------------------------------------------\n",
      "VRM_ADJ_log                      0.6041     0.0130     46.364     0.0000      0.5785      0.6296\n",
      "FARE_per_UPT_2018_log           -0.7293     0.0194    -37.570     0.0000     -0.7674     -0.6913\n",
      "POP_EMP_log                      0.7385     0.0672     10.982     0.0000      0.6066      0.8703\n",
      "GAS_PRICE_2018_log               0.1634     0.0261     6.2487     0.0000      0.1121      0.2146\n",
      "TOTAL_MED_INC_INDIV_2018_log    -0.3424     0.0548    -6.2524     0.0000     -0.4498     -0.2350\n",
      "Tot_NonUSA_POP_pct               0.0258     0.0088     2.9431     0.0033      0.0086      0.0430\n",
      "PCT_HH_NO_VEH                    0.0089     0.0032     2.8341     0.0046      0.0028      0.0151\n",
      "TSD_POP_PCT                      0.6319     0.1521     4.1540     0.0000      0.3337      0.9302\n",
      "YEARS_SINCE_TNC_BUS             -0.0228     0.0044    -5.1830     0.0000     -0.0315     -0.0142\n",
      "YEARS_SINCE_TNC_RAIL             0.0008     0.0075     0.1085     0.9136     -0.0138      0.0154\n",
      "BIKE_SHARE_BUS                  -0.0209     0.0149    -1.4088     0.1590     -0.0501      0.0082\n",
      "scooter_flag_BUS                -0.0411     0.0318    -1.2932     0.1960     -0.1033      0.0212\n",
      "BIKE_SCOOTER_RAIL               -0.0093     0.0252    -0.3678     0.7130     -0.0587      0.0401\n",
      "================================================================================================\n",
      "\n",
      "F-test for Poolability: 100.46\n",
      "P-value: 0.0000\n",
      "Distribution: F(252,3696)\n",
      "\n",
      "Included effects: Entity\n"
     ]
    }
   ],
   "source": [
    "# bike share plus scooters for rail\n",
    "df['BIKE_SCOOTER_RAIL'] = df['BIKE_SHARE_RAIL'] + df['scooter_flag_RAIL']\n",
    "\n",
    "mod=PanelOLS.from_formula('UPT_ADJ_log \\\n",
    "                    ~ VRM_ADJ_log \\\n",
    "                    + FARE_per_UPT_2018_log \\\n",
    "                    + POP_EMP_log \\\n",
    "                    + GAS_PRICE_2018_log \\\n",
    "                    + TOTAL_MED_INC_INDIV_2018_log \\\n",
    "                    + Tot_NonUSA_POP_pct \\\n",
    "                    + PCT_HH_NO_VEH \\\n",
    "                    + TSD_POP_PCT \\\n",
    "                    + YEARS_SINCE_TNC_BUS \\\n",
    "                    + YEARS_SINCE_TNC_RAIL \\\n",
    "                    + BIKE_SHARE_BUS \\\n",
    "                    + scooter_flag_BUS \\\n",
    "                    + BIKE_SCOOTER_RAIL \\\n",
    "                    + EntityEffects \\\n",
    "                    ',data=df)\n",
    "res=mod.fit()\n",
    "print(res)\n"
   ]
  },
  {
   "cell_type": "code",
   "execution_count": 54,
   "metadata": {
    "collapsed": false
   },
   "outputs": [
    {
     "name": "stderr",
     "output_type": "stream",
     "text": [
      "C:\\Program Files\\Anaconda3\\lib\\site-packages\\linearmodels\\panel\\data.py:39: FutureWarning: \n",
      "Passing list-likes to .loc or [] with any missing label will raise\n",
      "KeyError in the future, you can use .reindex() as an alternative.\n",
      "\n",
      "See the documentation here:\n",
      "https://pandas.pydata.org/pandas-docs/stable/indexing.html#deprecate-loc-reindex-listlike\n",
      "  new_df = df.copy().loc[self._full_index]\n",
      "C:\\Program Files\\Anaconda3\\lib\\site-packages\\linearmodels\\utility.py:476: MissingValueWarning: \n",
      "Inputs contain missing values. Dropping rows with missing observations.\n",
      "  warnings.warn(missing_value_warning_msg, MissingValueWarning)\n"
     ]
    },
    {
     "name": "stdout",
     "output_type": "stream",
     "text": [
      "                          PanelOLS Estimation Summary                           \n",
      "================================================================================\n",
      "Dep. Variable:            UPT_ADJ_log   R-squared:                        0.6168\n",
      "Estimator:                   PanelOLS   R-squared (Between):              0.9982\n",
      "No. Observations:                3962   R-squared (Within):               0.6168\n",
      "Date:                Thu, Nov 21 2019   R-squared (Overall):              0.9983\n",
      "Time:                        13:38:48   Log-likelihood                    1184.7\n",
      "Cov. Estimator:            Unadjusted                                           \n",
      "                                        F-statistic:                      457.67\n",
      "Entities:                         253   P-value                           0.0000\n",
      "Avg Obs:                       15.660   Distribution:                 F(13,3696)\n",
      "Min Obs:                       2.0000                                           \n",
      "Max Obs:                       17.000   F-statistic (robust):             457.67\n",
      "                                        P-value                           0.0000\n",
      "Time periods:                      17   Distribution:                 F(13,3696)\n",
      "Avg Obs:                       233.06                                           \n",
      "Min Obs:                       169.00                                           \n",
      "Max Obs:                       251.00                                           \n",
      "                                                                                \n",
      "                                      Parameter Estimates                                       \n",
      "================================================================================================\n",
      "                              Parameter  Std. Err.     T-stat    P-value    Lower CI    Upper CI\n",
      "------------------------------------------------------------------------------------------------\n",
      "VRM_ADJ_log                      0.6041     0.0130     46.435     0.0000      0.5786      0.6296\n",
      "FARE_per_UPT_2018_log           -0.7293     0.0194    -37.584     0.0000     -0.7674     -0.6913\n",
      "POP_EMP_log                      0.7390     0.0672     10.991     0.0000      0.6072      0.8708\n",
      "GAS_PRICE_2018_log               0.1639     0.0262     6.2643     0.0000      0.1126      0.2152\n",
      "TOTAL_MED_INC_INDIV_2018_log    -0.3417     0.0548    -6.2385     0.0000     -0.4491     -0.2343\n",
      "Tot_NonUSA_POP_pct               0.0258     0.0088     2.9416     0.0033      0.0086      0.0430\n",
      "PCT_HH_NO_VEH                    0.0089     0.0032     2.8332     0.0046      0.0028      0.0151\n",
      "TSD_POP_PCT                      0.6337     0.1522     4.1643     0.0000      0.3353      0.9320\n",
      "YEARS_SINCE_TNC_BUS             -0.0228     0.0044    -5.1807     0.0000     -0.0314     -0.0142\n",
      "YEARS_SINCE_TNC_RAIL             0.0019     0.0073     0.2611     0.7940     -0.0124      0.0162\n",
      "BIKE_SHARE_BUS                  -0.0209     0.0149    -1.4083     0.1591     -0.0501      0.0082\n",
      "scooter_flag_BUS                -0.0412     0.0318    -1.2960     0.1951     -0.1034      0.0211\n",
      "BIKE_SCOOTER_SCOOTER_RAIL       -0.0114     0.0192    -0.5916     0.5541     -0.0490      0.0263\n",
      "================================================================================================\n",
      "\n",
      "F-test for Poolability: 101.00\n",
      "P-value: 0.0000\n",
      "Distribution: F(252,3696)\n",
      "\n",
      "Included effects: Entity\n"
     ]
    }
   ],
   "source": [
    "# different spec of bike and scooter\n",
    "df['BIKE_SCOOTER_SCOOTER_RAIL'] = df['BIKE_SHARE_RAIL'] + df['scooter_flag_RAIL'] + df['scooter_flag_RAIL']\n",
    "\n",
    "mod=PanelOLS.from_formula('UPT_ADJ_log \\\n",
    "                    ~ VRM_ADJ_log \\\n",
    "                    + FARE_per_UPT_2018_log \\\n",
    "                    + POP_EMP_log \\\n",
    "                    + GAS_PRICE_2018_log \\\n",
    "                    + TOTAL_MED_INC_INDIV_2018_log \\\n",
    "                    + Tot_NonUSA_POP_pct \\\n",
    "                    + PCT_HH_NO_VEH \\\n",
    "                    + TSD_POP_PCT \\\n",
    "                    + YEARS_SINCE_TNC_BUS \\\n",
    "                    + YEARS_SINCE_TNC_RAIL \\\n",
    "                    + BIKE_SHARE_BUS \\\n",
    "                    + scooter_flag_BUS \\\n",
    "                    + BIKE_SCOOTER_SCOOTER_RAIL \\\n",
    "                    + EntityEffects \\\n",
    "                    ',data=df)\n",
    "res=mod.fit()\n",
    "print(res)\n"
   ]
  },
  {
   "cell_type": "code",
   "execution_count": null,
   "metadata": {
    "collapsed": true
   },
   "outputs": [],
   "source": []
  },
  {
   "cell_type": "markdown",
   "metadata": {},
   "source": [
    "## try time effects"
   ]
  },
  {
   "cell_type": "code",
   "execution_count": 63,
   "metadata": {
    "collapsed": false
   },
   "outputs": [
    {
     "name": "stderr",
     "output_type": "stream",
     "text": [
      "C:\\Program Files\\Anaconda3\\lib\\site-packages\\linearmodels\\panel\\data.py:39: FutureWarning: \n",
      "Passing list-likes to .loc or [] with any missing label will raise\n",
      "KeyError in the future, you can use .reindex() as an alternative.\n",
      "\n",
      "See the documentation here:\n",
      "https://pandas.pydata.org/pandas-docs/stable/indexing.html#deprecate-loc-reindex-listlike\n",
      "  new_df = df.copy().loc[self._full_index]\n",
      "C:\\Program Files\\Anaconda3\\lib\\site-packages\\linearmodels\\utility.py:476: MissingValueWarning: \n",
      "Inputs contain missing values. Dropping rows with missing observations.\n",
      "  warnings.warn(missing_value_warning_msg, MissingValueWarning)\n"
     ]
    },
    {
     "name": "stdout",
     "output_type": "stream",
     "text": [
      "                          PanelOLS Estimation Summary                           \n",
      "================================================================================\n",
      "Dep. Variable:            UPT_ADJ_log   R-squared:                        0.6168\n",
      "Estimator:                   PanelOLS   R-squared (Between):              0.9982\n",
      "No. Observations:                3962   R-squared (Within):               0.6168\n",
      "Date:                Thu, Nov 21 2019   R-squared (Overall):              0.9983\n",
      "Time:                        13:48:45   Log-likelihood                    1184.7\n",
      "Cov. Estimator:            Unadjusted                                           \n",
      "                                        F-statistic:                      457.67\n",
      "Entities:                         253   P-value                           0.0000\n",
      "Avg Obs:                       15.660   Distribution:                 F(13,3696)\n",
      "Min Obs:                       2.0000                                           \n",
      "Max Obs:                       17.000   F-statistic (robust):             457.67\n",
      "                                        P-value                           0.0000\n",
      "Time periods:                      17   Distribution:                 F(13,3696)\n",
      "Avg Obs:                       233.06                                           \n",
      "Min Obs:                       169.00                                           \n",
      "Max Obs:                       251.00                                           \n",
      "                                                                                \n",
      "                                      Parameter Estimates                                       \n",
      "================================================================================================\n",
      "                              Parameter  Std. Err.     T-stat    P-value    Lower CI    Upper CI\n",
      "------------------------------------------------------------------------------------------------\n",
      "VRM_ADJ_log                      0.6041     0.0130     46.435     0.0000      0.5786      0.6296\n",
      "FARE_per_UPT_2018_log           -0.7293     0.0194    -37.584     0.0000     -0.7674     -0.6913\n",
      "POP_EMP_log                      0.7390     0.0672     10.991     0.0000      0.6072      0.8708\n",
      "GAS_PRICE_2018_log               0.1639     0.0262     6.2643     0.0000      0.1126      0.2152\n",
      "TOTAL_MED_INC_INDIV_2018_log    -0.3417     0.0548    -6.2385     0.0000     -0.4491     -0.2343\n",
      "Tot_NonUSA_POP_pct               0.0258     0.0088     2.9416     0.0033      0.0086      0.0430\n",
      "PCT_HH_NO_VEH                    0.0089     0.0032     2.8332     0.0046      0.0028      0.0151\n",
      "TSD_POP_PCT                      0.6337     0.1522     4.1643     0.0000      0.3353      0.9320\n",
      "YEARS_SINCE_TNC_BUS             -0.0228     0.0044    -5.1807     0.0000     -0.0314     -0.0142\n",
      "YEARS_SINCE_TNC_RAIL             0.0019     0.0073     0.2611     0.7940     -0.0124      0.0162\n",
      "BIKE_SHARE_BUS                  -0.0209     0.0149    -1.4083     0.1591     -0.0501      0.0082\n",
      "scooter_flag_BUS                -0.0412     0.0318    -1.2960     0.1951     -0.1034      0.0211\n",
      "BIKE_SCOOTER_SCOOTER_RAIL       -0.0114     0.0192    -0.5916     0.5541     -0.0490      0.0263\n",
      "================================================================================================\n",
      "\n",
      "F-test for Poolability: 101.00\n",
      "P-value: 0.0000\n",
      "Distribution: F(252,3696)\n",
      "\n",
      "Included effects: Entity\n"
     ]
    }
   ],
   "source": [
    "# no time effects\n",
    "\n",
    "mod=PanelOLS.from_formula('UPT_ADJ_log \\\n",
    "                    ~ VRM_ADJ_log \\\n",
    "                    + FARE_per_UPT_2018_log \\\n",
    "                    + POP_EMP_log \\\n",
    "                    + GAS_PRICE_2018_log \\\n",
    "                    + TOTAL_MED_INC_INDIV_2018_log \\\n",
    "                    + Tot_NonUSA_POP_pct \\\n",
    "                    + PCT_HH_NO_VEH \\\n",
    "                    + TSD_POP_PCT \\\n",
    "                    + YEARS_SINCE_TNC_BUS \\\n",
    "                    + YEARS_SINCE_TNC_RAIL \\\n",
    "                    + BIKE_SHARE_BUS \\\n",
    "                    + scooter_flag_BUS \\\n",
    "                    + BIKE_SCOOTER_SCOOTER_RAIL \\\n",
    "                    + EntityEffects \\\n",
    "                    ',data=df)\n",
    "res=mod.fit()\n",
    "print(res)\n"
   ]
  },
  {
   "cell_type": "code",
   "execution_count": 64,
   "metadata": {
    "collapsed": false
   },
   "outputs": [
    {
     "name": "stderr",
     "output_type": "stream",
     "text": [
      "C:\\Program Files\\Anaconda3\\lib\\site-packages\\linearmodels\\panel\\data.py:39: FutureWarning: \n",
      "Passing list-likes to .loc or [] with any missing label will raise\n",
      "KeyError in the future, you can use .reindex() as an alternative.\n",
      "\n",
      "See the documentation here:\n",
      "https://pandas.pydata.org/pandas-docs/stable/indexing.html#deprecate-loc-reindex-listlike\n",
      "  new_df = df.copy().loc[self._full_index]\n",
      "C:\\Program Files\\Anaconda3\\lib\\site-packages\\linearmodels\\utility.py:476: MissingValueWarning: \n",
      "Inputs contain missing values. Dropping rows with missing observations.\n",
      "  warnings.warn(missing_value_warning_msg, MissingValueWarning)\n"
     ]
    },
    {
     "name": "stdout",
     "output_type": "stream",
     "text": [
      "                          PanelOLS Estimation Summary                           \n",
      "================================================================================\n",
      "Dep. Variable:            UPT_ADJ_log   R-squared:                        0.5667\n",
      "Estimator:                   PanelOLS   R-squared (Between):              0.9883\n",
      "No. Observations:                3962   R-squared (Within):               0.6119\n",
      "Date:                Thu, Nov 21 2019   R-squared (Overall):              0.9887\n",
      "Time:                        13:49:07   Log-likelihood                    1234.9\n",
      "Cov. Estimator:            Unadjusted                                           \n",
      "                                        F-statistic:                      370.17\n",
      "Entities:                         253   P-value                           0.0000\n",
      "Avg Obs:                       15.660   Distribution:                 F(13,3680)\n",
      "Min Obs:                       2.0000                                           \n",
      "Max Obs:                       17.000   F-statistic (robust):             370.17\n",
      "                                        P-value                           0.0000\n",
      "Time periods:                      17   Distribution:                 F(13,3680)\n",
      "Avg Obs:                       233.06                                           \n",
      "Min Obs:                       169.00                                           \n",
      "Max Obs:                       251.00                                           \n",
      "                                                                                \n",
      "                                      Parameter Estimates                                       \n",
      "================================================================================================\n",
      "                              Parameter  Std. Err.     T-stat    P-value    Lower CI    Upper CI\n",
      "------------------------------------------------------------------------------------------------\n",
      "VRM_ADJ_log                      0.5957     0.0131     45.598     0.0000      0.5701      0.6213\n",
      "FARE_per_UPT_2018_log           -0.7508     0.0194    -38.619     0.0000     -0.7890     -0.7127\n",
      "POP_EMP_log                      0.6915     0.0721     9.5896     0.0000      0.5501      0.8329\n",
      "GAS_PRICE_2018_log               0.3091     0.1795     1.7219     0.0852     -0.0429      0.6610\n",
      "TOTAL_MED_INC_INDIV_2018_log    -0.1573     0.0652    -2.4119     0.0159     -0.2852     -0.0294\n",
      "Tot_NonUSA_POP_pct               0.0212     0.0088     2.4020     0.0164      0.0039      0.0386\n",
      "PCT_HH_NO_VEH                    0.0074     0.0031     2.3538     0.0186      0.0012      0.0136\n",
      "TSD_POP_PCT                      0.8067     0.1555     5.1893     0.0000      0.5019      1.1115\n",
      "YEARS_SINCE_TNC_BUS             -0.0059     0.0062    -0.9549     0.3397     -0.0180      0.0062\n",
      "YEARS_SINCE_TNC_RAIL             0.0119     0.0077     1.5365     0.1245     -0.0033      0.0270\n",
      "BIKE_SHARE_BUS                  -0.0268     0.0149    -1.8021     0.0716     -0.0561      0.0024\n",
      "scooter_flag_BUS                -0.0315     0.0329    -0.9596     0.3373     -0.0959      0.0329\n",
      "BIKE_SCOOTER_SCOOTER_RAIL       -0.0070     0.0194    -0.3624     0.7171     -0.0450      0.0310\n",
      "================================================================================================\n",
      "\n",
      "F-test for Poolability: 97.335\n",
      "P-value: 0.0000\n",
      "Distribution: F(268,3680)\n",
      "\n",
      "Included effects: Entity, Time\n"
     ]
    }
   ],
   "source": [
    "# full time effects\n",
    "\n",
    "mod=PanelOLS.from_formula('UPT_ADJ_log \\\n",
    "                    ~ VRM_ADJ_log \\\n",
    "                    + FARE_per_UPT_2018_log \\\n",
    "                    + POP_EMP_log \\\n",
    "                    + GAS_PRICE_2018_log \\\n",
    "                    + TOTAL_MED_INC_INDIV_2018_log \\\n",
    "                    + Tot_NonUSA_POP_pct \\\n",
    "                    + PCT_HH_NO_VEH \\\n",
    "                    + TSD_POP_PCT \\\n",
    "                    + YEARS_SINCE_TNC_BUS \\\n",
    "                    + YEARS_SINCE_TNC_RAIL \\\n",
    "                    + BIKE_SHARE_BUS \\\n",
    "                    + scooter_flag_BUS \\\n",
    "                    + BIKE_SCOOTER_SCOOTER_RAIL \\\n",
    "                    + EntityEffects \\\n",
    "                    + TimeEffects \\\n",
    "                    ',data=df)\n",
    "res=mod.fit()\n",
    "print(res)\n"
   ]
  },
  {
   "cell_type": "code",
   "execution_count": 65,
   "metadata": {
    "collapsed": false
   },
   "outputs": [
    {
     "name": "stderr",
     "output_type": "stream",
     "text": [
      "C:\\Program Files\\Anaconda3\\lib\\site-packages\\linearmodels\\panel\\data.py:39: FutureWarning: \n",
      "Passing list-likes to .loc or [] with any missing label will raise\n",
      "KeyError in the future, you can use .reindex() as an alternative.\n",
      "\n",
      "See the documentation here:\n",
      "https://pandas.pydata.org/pandas-docs/stable/indexing.html#deprecate-loc-reindex-listlike\n",
      "  new_df = df.copy().loc[self._full_index]\n",
      "C:\\Program Files\\Anaconda3\\lib\\site-packages\\linearmodels\\utility.py:476: MissingValueWarning: \n",
      "Inputs contain missing values. Dropping rows with missing observations.\n",
      "  warnings.warn(missing_value_warning_msg, MissingValueWarning)\n"
     ]
    },
    {
     "name": "stdout",
     "output_type": "stream",
     "text": [
      "                          PanelOLS Estimation Summary                           \n",
      "================================================================================\n",
      "Dep. Variable:            UPT_ADJ_log   R-squared:                        0.6202\n",
      "Estimator:                   PanelOLS   R-squared (Between):              0.9968\n",
      "No. Observations:                3962   R-squared (Within):               0.6202\n",
      "Date:                Thu, Nov 21 2019   R-squared (Overall):              0.9966\n",
      "Time:                        13:54:46   Log-likelihood                    1202.4\n",
      "Cov. Estimator:            Unadjusted                                           \n",
      "                                        F-statistic:                      402.18\n",
      "Entities:                         253   P-value                           0.0000\n",
      "Avg Obs:                       15.660   Distribution:                 F(15,3694)\n",
      "Min Obs:                       2.0000                                           \n",
      "Max Obs:                       17.000   F-statistic (robust):             402.18\n",
      "                                        P-value                           0.0000\n",
      "Time periods:                      17   Distribution:                 F(15,3694)\n",
      "Avg Obs:                       233.06                                           \n",
      "Min Obs:                       169.00                                           \n",
      "Max Obs:                       251.00                                           \n",
      "                                                                                \n",
      "                                      Parameter Estimates                                       \n",
      "================================================================================================\n",
      "                              Parameter  Std. Err.     T-stat    P-value    Lower CI    Upper CI\n",
      "------------------------------------------------------------------------------------------------\n",
      "VRM_ADJ_log                      0.6086     0.0133     45.745     0.0000      0.5826      0.6347\n",
      "FARE_per_UPT_2018_log           -0.7343     0.0194    -37.780     0.0000     -0.7724     -0.6962\n",
      "POP_EMP_log                      0.6150     0.0712     8.6386     0.0000      0.4754      0.7546\n",
      "GAS_PRICE_2018_log               0.1681     0.0261     6.4434     0.0000      0.1169      0.2192\n",
      "TOTAL_MED_INC_INDIV_2018_log    -0.2678     0.0590    -4.5380     0.0000     -0.3835     -0.1521\n",
      "Tot_NonUSA_POP_pct               0.0200     0.0089     2.2553     0.0242      0.0026      0.0375\n",
      "PCT_HH_NO_VEH                    0.0086     0.0031     2.7496     0.0060      0.0025      0.0148\n",
      "TSD_POP_PCT                      0.6372     0.1535     4.1502     0.0000      0.3362      0.9382\n",
      "YEARS_SINCE_TNC_BUS             -0.0334     0.0050    -6.6831     0.0000     -0.0432     -0.0236\n",
      "YEARS_SINCE_TNC_RAIL             0.0161     0.0087     1.8511     0.0642     -0.0010      0.0332\n",
      "BIKE_SHARE_BUS                  -0.0277     0.0149    -1.8626     0.0626     -0.0568      0.0015\n",
      "scooter_flag_BUS                -0.0279     0.0318    -0.8792     0.3794     -0.0902      0.0343\n",
      "BIKE_SCOOTER_SCOOTER_RAIL       -0.0021     0.0193    -0.1075     0.9144     -0.0399      0.0357\n",
      "YEARS_SINCE_2002_BUS             0.0058     0.0013     4.4332     0.0000      0.0032      0.0083\n",
      "YEARS_SINCE_2002_RAIL           -0.0067     0.0029    -2.3166     0.0206     -0.0123     -0.0010\n",
      "================================================================================================\n",
      "\n",
      "F-test for Poolability: 99.667\n",
      "P-value: 0.0000\n",
      "Distribution: F(252,3694)\n",
      "\n",
      "Included effects: Entity\n"
     ]
    }
   ],
   "source": [
    "# trends\n",
    "\n",
    "mod=PanelOLS.from_formula('UPT_ADJ_log \\\n",
    "                    ~ VRM_ADJ_log \\\n",
    "                    + FARE_per_UPT_2018_log \\\n",
    "                    + POP_EMP_log \\\n",
    "                    + GAS_PRICE_2018_log \\\n",
    "                    + TOTAL_MED_INC_INDIV_2018_log \\\n",
    "                    + Tot_NonUSA_POP_pct \\\n",
    "                    + PCT_HH_NO_VEH \\\n",
    "                    + TSD_POP_PCT \\\n",
    "                    + YEARS_SINCE_TNC_BUS \\\n",
    "                    + YEARS_SINCE_TNC_RAIL \\\n",
    "                    + BIKE_SHARE_BUS \\\n",
    "                    + scooter_flag_BUS \\\n",
    "                    + BIKE_SCOOTER_SCOOTER_RAIL \\\n",
    "                    + YEARS_SINCE_2002_BUS \\\n",
    "                    + YEARS_SINCE_2002_RAIL \\\n",
    "                    + EntityEffects \\\n",
    "                    ',data=df)\n",
    "res=mod.fit()\n",
    "print(res)\n"
   ]
  },
  {
   "cell_type": "code",
   "execution_count": 66,
   "metadata": {
    "collapsed": false
   },
   "outputs": [
    {
     "name": "stderr",
     "output_type": "stream",
     "text": [
      "C:\\Program Files\\Anaconda3\\lib\\site-packages\\linearmodels\\panel\\data.py:39: FutureWarning: \n",
      "Passing list-likes to .loc or [] with any missing label will raise\n",
      "KeyError in the future, you can use .reindex() as an alternative.\n",
      "\n",
      "See the documentation here:\n",
      "https://pandas.pydata.org/pandas-docs/stable/indexing.html#deprecate-loc-reindex-listlike\n",
      "  new_df = df.copy().loc[self._full_index]\n",
      "C:\\Program Files\\Anaconda3\\lib\\site-packages\\linearmodels\\utility.py:476: MissingValueWarning: \n",
      "Inputs contain missing values. Dropping rows with missing observations.\n",
      "  warnings.warn(missing_value_warning_msg, MissingValueWarning)\n"
     ]
    },
    {
     "name": "stdout",
     "output_type": "stream",
     "text": [
      "                          PanelOLS Estimation Summary                           \n",
      "================================================================================\n",
      "Dep. Variable:            UPT_ADJ_log   R-squared:                        0.6267\n",
      "Estimator:                   PanelOLS   R-squared (Between):              0.9981\n",
      "No. Observations:                3962   R-squared (Within):               0.6267\n",
      "Date:                Thu, Nov 21 2019   R-squared (Overall):              0.9981\n",
      "Time:                        13:58:29   Log-likelihood                    1236.5\n",
      "Cov. Estimator:            Unadjusted                                           \n",
      "                                        F-statistic:                      364.61\n",
      "Entities:                         253   P-value                           0.0000\n",
      "Avg Obs:                       15.660   Distribution:                 F(17,3692)\n",
      "Min Obs:                       2.0000                                           \n",
      "Max Obs:                       17.000   F-statistic (robust):             364.61\n",
      "                                        P-value                           0.0000\n",
      "Time periods:                      17   Distribution:                 F(17,3692)\n",
      "Avg Obs:                       233.06                                           \n",
      "Min Obs:                       169.00                                           \n",
      "Max Obs:                       251.00                                           \n",
      "                                                                                \n",
      "                                      Parameter Estimates                                       \n",
      "================================================================================================\n",
      "                              Parameter  Std. Err.     T-stat    P-value    Lower CI    Upper CI\n",
      "------------------------------------------------------------------------------------------------\n",
      "VRM_ADJ_log                      0.6083     0.0132     46.091     0.0000      0.5824      0.6342\n",
      "FARE_per_UPT_2018_log           -0.7457     0.0193    -38.584     0.0000     -0.7836     -0.7079\n",
      "POP_EMP_log                      0.6020     0.0706     8.5241     0.0000      0.4636      0.7405\n",
      "GAS_PRICE_2018_log               0.0943     0.0279     3.3776     0.0007      0.0396      0.1491\n",
      "TOTAL_MED_INC_INDIV_2018_log    -0.1487     0.0608    -2.4471     0.0144     -0.2679     -0.0296\n",
      "Tot_NonUSA_POP_pct               0.0218     0.0088     2.4726     0.0135      0.0045      0.0391\n",
      "PCT_HH_NO_VEH                    0.0074     0.0031     2.3561     0.0185      0.0012      0.0135\n",
      "TSD_POP_PCT                      0.7566     0.1530     4.9444     0.0000      0.4566      1.0566\n",
      "YEARS_SINCE_TNC_BUS             -0.0110     0.0063    -1.7447     0.0811     -0.0234      0.0014\n",
      "YEARS_SINCE_TNC_RAIL             0.0586     0.0124     4.7272     0.0000      0.0343      0.0829\n",
      "BIKE_SHARE_BUS                  -0.0316     0.0147    -2.1448     0.0320     -0.0605     -0.0027\n",
      "scooter_flag_BUS                -0.0131     0.0316    -0.4157     0.6776     -0.0750      0.0488\n",
      "BIKE_SCOOTER_SCOOTER_RAIL        0.0215     0.0196     1.0990     0.2719     -0.0169      0.0599\n",
      "YEARS_2002_2014_BUS              0.0123     0.0016     7.6799     0.0000      0.0091      0.0154\n",
      "YEARS_2002_2014_RAIL            -0.0012     0.0029    -0.4062     0.6846     -0.0070      0.0046\n",
      "YEARS_AFTER_2014_BUS            -0.0320     0.0063    -5.0899     0.0000     -0.0444     -0.0197\n",
      "YEARS_AFTER_2014_RAIL           -0.0937     0.0161    -5.8249     0.0000     -0.1252     -0.0621\n",
      "================================================================================================\n",
      "\n",
      "F-test for Poolability: 101.16\n",
      "P-value: 0.0000\n",
      "Distribution: F(252,3692)\n",
      "\n",
      "Included effects: Entity\n"
     ]
    }
   ],
   "source": [
    "# split trends\n",
    "\n",
    "mod=PanelOLS.from_formula('UPT_ADJ_log \\\n",
    "                    ~ VRM_ADJ_log \\\n",
    "                    + FARE_per_UPT_2018_log \\\n",
    "                    + POP_EMP_log \\\n",
    "                    + GAS_PRICE_2018_log \\\n",
    "                    + TOTAL_MED_INC_INDIV_2018_log \\\n",
    "                    + Tot_NonUSA_POP_pct \\\n",
    "                    + PCT_HH_NO_VEH \\\n",
    "                    + TSD_POP_PCT \\\n",
    "                    + YEARS_SINCE_TNC_BUS \\\n",
    "                    + YEARS_SINCE_TNC_RAIL \\\n",
    "                    + BIKE_SHARE_BUS \\\n",
    "                    + scooter_flag_BUS \\\n",
    "                    + BIKE_SCOOTER_SCOOTER_RAIL \\\n",
    "                    + YEARS_2002_2014_BUS \\\n",
    "                    + YEARS_2002_2014_RAIL \\\n",
    "                    + YEARS_AFTER_2014_BUS \\\n",
    "                    + YEARS_AFTER_2014_RAIL \\\n",
    "                    + EntityEffects \\\n",
    "                    ',data=df)\n",
    "res=mod.fit()\n",
    "print(res)\n"
   ]
  },
  {
   "cell_type": "code",
   "execution_count": 67,
   "metadata": {
    "collapsed": false
   },
   "outputs": [
    {
     "name": "stderr",
     "output_type": "stream",
     "text": [
      "C:\\Program Files\\Anaconda3\\lib\\site-packages\\linearmodels\\panel\\data.py:39: FutureWarning: \n",
      "Passing list-likes to .loc or [] with any missing label will raise\n",
      "KeyError in the future, you can use .reindex() as an alternative.\n",
      "\n",
      "See the documentation here:\n",
      "https://pandas.pydata.org/pandas-docs/stable/indexing.html#deprecate-loc-reindex-listlike\n",
      "  new_df = df.copy().loc[self._full_index]\n",
      "C:\\Program Files\\Anaconda3\\lib\\site-packages\\linearmodels\\utility.py:476: MissingValueWarning: \n",
      "Inputs contain missing values. Dropping rows with missing observations.\n",
      "  warnings.warn(missing_value_warning_msg, MissingValueWarning)\n"
     ]
    },
    {
     "name": "stdout",
     "output_type": "stream",
     "text": [
      "                          PanelOLS Estimation Summary                           \n",
      "================================================================================\n",
      "Dep. Variable:            UPT_ADJ_log   R-squared:                        0.6168\n",
      "Estimator:                   PanelOLS   R-squared (Between):              0.9982\n",
      "No. Observations:                3962   R-squared (Within):               0.6168\n",
      "Date:                Thu, Nov 21 2019   R-squared (Overall):              0.9983\n",
      "Time:                        13:59:29   Log-likelihood                    1184.7\n",
      "Cov. Estimator:            Unadjusted                                           \n",
      "                                        F-statistic:                      457.67\n",
      "Entities:                         253   P-value                           0.0000\n",
      "Avg Obs:                       15.660   Distribution:                 F(13,3696)\n",
      "Min Obs:                       2.0000                                           \n",
      "Max Obs:                       17.000   F-statistic (robust):             457.67\n",
      "                                        P-value                           0.0000\n",
      "Time periods:                      17   Distribution:                 F(13,3696)\n",
      "Avg Obs:                       233.06                                           \n",
      "Min Obs:                       169.00                                           \n",
      "Max Obs:                       251.00                                           \n",
      "                                                                                \n",
      "                                      Parameter Estimates                                       \n",
      "================================================================================================\n",
      "                              Parameter  Std. Err.     T-stat    P-value    Lower CI    Upper CI\n",
      "------------------------------------------------------------------------------------------------\n",
      "VRM_ADJ_log                      0.6041     0.0130     46.435     0.0000      0.5786      0.6296\n",
      "FARE_per_UPT_2018_log           -0.7293     0.0194    -37.584     0.0000     -0.7674     -0.6913\n",
      "POP_EMP_log                      0.7390     0.0672     10.991     0.0000      0.6072      0.8708\n",
      "GAS_PRICE_2018_log               0.1639     0.0262     6.2643     0.0000      0.1126      0.2152\n",
      "TOTAL_MED_INC_INDIV_2018_log    -0.3417     0.0548    -6.2385     0.0000     -0.4491     -0.2343\n",
      "Tot_NonUSA_POP_pct               0.0258     0.0088     2.9416     0.0033      0.0086      0.0430\n",
      "PCT_HH_NO_VEH                    0.0089     0.0032     2.8332     0.0046      0.0028      0.0151\n",
      "TSD_POP_PCT                      0.6337     0.1522     4.1643     0.0000      0.3353      0.9320\n",
      "YEARS_SINCE_TNC_BUS             -0.0228     0.0044    -5.1807     0.0000     -0.0314     -0.0142\n",
      "YEARS_SINCE_TNC_RAIL             0.0019     0.0073     0.2611     0.7940     -0.0124      0.0162\n",
      "BIKE_SHARE_BUS                  -0.0209     0.0149    -1.4083     0.1591     -0.0501      0.0082\n",
      "scooter_flag_BUS                -0.0412     0.0318    -1.2960     0.1951     -0.1034      0.0211\n",
      "BIKE_SCOOTER_SCOOTER_RAIL       -0.0114     0.0192    -0.5916     0.5541     -0.0490      0.0263\n",
      "================================================================================================\n",
      "\n",
      "F-test for Poolability: 101.00\n",
      "P-value: 0.0000\n",
      "Distribution: F(252,3696)\n",
      "\n",
      "Included effects: Entity\n"
     ]
    }
   ],
   "source": [
    "# it looks best without the time effects\n",
    "\n",
    "mod=PanelOLS.from_formula('UPT_ADJ_log \\\n",
    "                    ~ VRM_ADJ_log \\\n",
    "                    + FARE_per_UPT_2018_log \\\n",
    "                    + POP_EMP_log \\\n",
    "                    + GAS_PRICE_2018_log \\\n",
    "                    + TOTAL_MED_INC_INDIV_2018_log \\\n",
    "                    + Tot_NonUSA_POP_pct \\\n",
    "                    + PCT_HH_NO_VEH \\\n",
    "                    + TSD_POP_PCT \\\n",
    "                    + YEARS_SINCE_TNC_BUS \\\n",
    "                    + YEARS_SINCE_TNC_RAIL \\\n",
    "                    + BIKE_SHARE_BUS \\\n",
    "                    + scooter_flag_BUS \\\n",
    "                    + BIKE_SCOOTER_SCOOTER_RAIL \\\n",
    "                    + EntityEffects \\\n",
    "                    ',data=df)\n",
    "res=mod.fit()\n",
    "print(res)\n"
   ]
  },
  {
   "cell_type": "code",
   "execution_count": null,
   "metadata": {
    "collapsed": true
   },
   "outputs": [],
   "source": []
  },
  {
   "cell_type": "code",
   "execution_count": null,
   "metadata": {
    "collapsed": true
   },
   "outputs": [],
   "source": []
  },
  {
   "cell_type": "markdown",
   "metadata": {},
   "source": [
    "## Run some analytics"
   ]
  },
  {
   "cell_type": "code",
   "execution_count": 55,
   "metadata": {
    "collapsed": false
   },
   "outputs": [
    {
     "name": "stderr",
     "output_type": "stream",
     "text": [
      "C:\\Program Files\\Anaconda3\\lib\\site-packages\\linearmodels\\panel\\data.py:39: FutureWarning: \n",
      "Passing list-likes to .loc or [] with any missing label will raise\n",
      "KeyError in the future, you can use .reindex() as an alternative.\n",
      "\n",
      "See the documentation here:\n",
      "https://pandas.pydata.org/pandas-docs/stable/indexing.html#deprecate-loc-reindex-listlike\n",
      "  new_df = df.copy().loc[self._full_index]\n",
      "C:\\Program Files\\Anaconda3\\lib\\site-packages\\linearmodels\\utility.py:476: MissingValueWarning: \n",
      "Inputs contain missing values. Dropping rows with missing observations.\n",
      "  warnings.warn(missing_value_warning_msg, MissingValueWarning)\n"
     ]
    },
    {
     "name": "stdout",
     "output_type": "stream",
     "text": [
      "                          PanelOLS Estimation Summary                           \n",
      "================================================================================\n",
      "Dep. Variable:            UPT_ADJ_log   R-squared:                        0.6168\n",
      "Estimator:                   PanelOLS   R-squared (Between):              0.9982\n",
      "No. Observations:                3962   R-squared (Within):               0.6168\n",
      "Date:                Thu, Nov 21 2019   R-squared (Overall):              0.9983\n",
      "Time:                        13:39:34   Log-likelihood                    1184.7\n",
      "Cov. Estimator:            Unadjusted                                           \n",
      "                                        F-statistic:                      457.67\n",
      "Entities:                         253   P-value                           0.0000\n",
      "Avg Obs:                       15.660   Distribution:                 F(13,3696)\n",
      "Min Obs:                       2.0000                                           \n",
      "Max Obs:                       17.000   F-statistic (robust):             457.67\n",
      "                                        P-value                           0.0000\n",
      "Time periods:                      17   Distribution:                 F(13,3696)\n",
      "Avg Obs:                       233.06                                           \n",
      "Min Obs:                       169.00                                           \n",
      "Max Obs:                       251.00                                           \n",
      "                                                                                \n",
      "                                      Parameter Estimates                                       \n",
      "================================================================================================\n",
      "                              Parameter  Std. Err.     T-stat    P-value    Lower CI    Upper CI\n",
      "------------------------------------------------------------------------------------------------\n",
      "VRM_ADJ_log                      0.6041     0.0130     46.435     0.0000      0.5786      0.6296\n",
      "FARE_per_UPT_2018_log           -0.7293     0.0194    -37.584     0.0000     -0.7674     -0.6913\n",
      "POP_EMP_log                      0.7390     0.0672     10.991     0.0000      0.6072      0.8708\n",
      "GAS_PRICE_2018_log               0.1639     0.0262     6.2643     0.0000      0.1126      0.2152\n",
      "TOTAL_MED_INC_INDIV_2018_log    -0.3417     0.0548    -6.2385     0.0000     -0.4491     -0.2343\n",
      "Tot_NonUSA_POP_pct               0.0258     0.0088     2.9416     0.0033      0.0086      0.0430\n",
      "PCT_HH_NO_VEH                    0.0089     0.0032     2.8332     0.0046      0.0028      0.0151\n",
      "TSD_POP_PCT                      0.6337     0.1522     4.1643     0.0000      0.3353      0.9320\n",
      "YEARS_SINCE_TNC_BUS             -0.0228     0.0044    -5.1807     0.0000     -0.0314     -0.0142\n",
      "YEARS_SINCE_TNC_RAIL             0.0019     0.0073     0.2611     0.7940     -0.0124      0.0162\n",
      "BIKE_SHARE_BUS                  -0.0209     0.0149    -1.4083     0.1591     -0.0501      0.0082\n",
      "scooter_flag_BUS                -0.0412     0.0318    -1.2960     0.1951     -0.1034      0.0211\n",
      "BIKE_SCOOTER_SCOOTER_RAIL       -0.0114     0.0192    -0.5916     0.5541     -0.0490      0.0263\n",
      "================================================================================================\n",
      "\n",
      "F-test for Poolability: 101.00\n",
      "P-value: 0.0000\n",
      "Distribution: F(252,3696)\n",
      "\n",
      "Included effects: Entity\n"
     ]
    }
   ],
   "source": [
    "# bike share plus scooters for rail\n",
    "\n",
    "mod=PanelOLS.from_formula('UPT_ADJ_log \\\n",
    "                    ~ VRM_ADJ_log \\\n",
    "                    + FARE_per_UPT_2018_log \\\n",
    "                    + POP_EMP_log \\\n",
    "                    + GAS_PRICE_2018_log \\\n",
    "                    + TOTAL_MED_INC_INDIV_2018_log \\\n",
    "                    + Tot_NonUSA_POP_pct \\\n",
    "                    + PCT_HH_NO_VEH \\\n",
    "                    + TSD_POP_PCT \\\n",
    "                    + YEARS_SINCE_TNC_BUS \\\n",
    "                    + YEARS_SINCE_TNC_RAIL \\\n",
    "                    + BIKE_SHARE_BUS \\\n",
    "                    + scooter_flag_BUS \\\n",
    "                    + BIKE_SCOOTER_SCOOTER_RAIL \\\n",
    "                    + EntityEffects \\\n",
    "                    ',data=df)\n",
    "res=mod.fit()\n",
    "print(res)"
   ]
  },
  {
   "cell_type": "code",
   "execution_count": 56,
   "metadata": {
    "collapsed": false
   },
   "outputs": [
    {
     "data": {
      "text/plain": [
       "<matplotlib.axes._subplots.AxesSubplot at 0x22c2cf53c8>"
      ]
     },
     "execution_count": 56,
     "metadata": {},
     "output_type": "execute_result"
    },
    {
     "data": {
      "image/png": "[encoded data removed]",
      "text/plain": [
       "<matplotlib.figure.Figure at 0x22cd3a36a0>"
      ]
     },
     "metadata": {},
     "output_type": "display_data"
    }
   ],
   "source": [
    "sns.distplot(res.resids)"
   ]
  },
  {
   "cell_type": "code",
   "execution_count": 57,
   "metadata": {
    "collapsed": false
   },
   "outputs": [
    {
     "data": {
      "image/png": "[encoded data removed]",
      "text/plain": [
       "<matplotlib.figure.Figure at 0x22c29fb438>"
      ]
     },
     "execution_count": 57,
     "metadata": {},
     "output_type": "execute_result"
    },
    {
     "data": {
      "image/png": "[encoded data removed]",
      "text/plain": [
       "<matplotlib.figure.Figure at 0x22c29fb438>"
      ]
     },
     "metadata": {},
     "output_type": "display_data"
    }
   ],
   "source": [
    "sm.graphics.qqplot(res.resids,line = 'q')"
   ]
  },
  {
   "cell_type": "markdown",
   "metadata": {},
   "source": [
    "## Calculate FAC"
   ]
  },
  {
   "cell_type": "code",
   "execution_count": 58,
   "metadata": {
    "collapsed": false
   },
   "outputs": [],
   "source": [
    "# keep the relevant fields in the data set\n",
    "app_data = pd.concat([df[['RAIL_FLAG', 'CLUSTER_APTA']], \n",
    "                      res.model.dependent.dataframe, \n",
    "                      res.model.exog.dataframe, \n",
    "                      res.estimated_effects, \n",
    "                      res.resids], axis=1)\n"
   ]
  },
  {
   "cell_type": "code",
   "execution_count": 59,
   "metadata": {
    "collapsed": false
   },
   "outputs": [
    {
     "data": {
      "text/html": [
       "<div>\n",
       "<style scoped>\n",
       "    .dataframe tbody tr th:only-of-type {\n",
       "        vertical-align: middle;\n",
       "    }\n",
       "\n",
       "    .dataframe tbody tr th {\n",
       "        vertical-align: top;\n",
       "    }\n",
       "\n",
       "    .dataframe thead th {\n",
       "        text-align: right;\n",
       "    }\n",
       "</style>\n",
       "<table border=\"1\" class=\"dataframe\">\n",
       "  <thead>\n",
       "    <tr style=\"text-align: right;\">\n",
       "      <th></th>\n",
       "      <th></th>\n",
       "      <th>RAIL_FLAG</th>\n",
       "      <th>CLUSTER_APTA</th>\n",
       "      <th>UPT_ADJ_log</th>\n",
       "      <th>VRM_ADJ_log</th>\n",
       "      <th>FARE_per_UPT_2018_log</th>\n",
       "      <th>POP_EMP_log</th>\n",
       "      <th>GAS_PRICE_2018_log</th>\n",
       "      <th>TOTAL_MED_INC_INDIV_2018_log</th>\n",
       "      <th>Tot_NonUSA_POP_pct</th>\n",
       "      <th>PCT_HH_NO_VEH</th>\n",
       "      <th>TSD_POP_PCT</th>\n",
       "      <th>YEARS_SINCE_TNC_BUS</th>\n",
       "      <th>YEARS_SINCE_TNC_RAIL</th>\n",
       "      <th>BIKE_SHARE_BUS</th>\n",
       "      <th>scooter_flag_BUS</th>\n",
       "      <th>BIKE_SCOOTER_SCOOTER_RAIL</th>\n",
       "      <th>effects</th>\n",
       "      <th>residual</th>\n",
       "    </tr>\n",
       "  </thead>\n",
       "  <tbody>\n",
       "    <tr>\n",
       "      <th rowspan=\"5\" valign=\"top\">Akron, OH Metro Area-Bus</th>\n",
       "      <th>2002</th>\n",
       "      <td>0</td>\n",
       "      <td>24.0</td>\n",
       "      <td>15.469231</td>\n",
       "      <td>15.208377</td>\n",
       "      <td>0.162997</td>\n",
       "      <td>13.808216</td>\n",
       "      <td>1.066089</td>\n",
       "      <td>10.479210</td>\n",
       "      <td>-0.060245</td>\n",
       "      <td>8.60</td>\n",
       "      <td>0.185260</td>\n",
       "      <td>0.0</td>\n",
       "      <td>0.0</td>\n",
       "      <td>0.0</td>\n",
       "      <td>0.0</td>\n",
       "      <td>0.0</td>\n",
       "      <td>-0.313754</td>\n",
       "      <td>-0.276881</td>\n",
       "    </tr>\n",
       "    <tr>\n",
       "      <th>2003</th>\n",
       "      <td>0</td>\n",
       "      <td>24.0</td>\n",
       "      <td>15.501150</td>\n",
       "      <td>15.195930</td>\n",
       "      <td>0.502067</td>\n",
       "      <td>13.823451</td>\n",
       "      <td>1.138954</td>\n",
       "      <td>10.446267</td>\n",
       "      <td>0.114214</td>\n",
       "      <td>8.20</td>\n",
       "      <td>0.180770</td>\n",
       "      <td>0.0</td>\n",
       "      <td>0.0</td>\n",
       "      <td>0.0</td>\n",
       "      <td>0.0</td>\n",
       "      <td>0.0</td>\n",
       "      <td>-0.313754</td>\n",
       "      <td>-0.022682</td>\n",
       "    </tr>\n",
       "    <tr>\n",
       "      <th>2004</th>\n",
       "      <td>0</td>\n",
       "      <td>24.0</td>\n",
       "      <td>15.591676</td>\n",
       "      <td>15.277699</td>\n",
       "      <td>0.450106</td>\n",
       "      <td>13.839439</td>\n",
       "      <td>1.233697</td>\n",
       "      <td>10.403980</td>\n",
       "      <td>0.288851</td>\n",
       "      <td>7.79</td>\n",
       "      <td>0.176377</td>\n",
       "      <td>0.0</td>\n",
       "      <td>0.0</td>\n",
       "      <td>0.0</td>\n",
       "      <td>0.0</td>\n",
       "      <td>0.0</td>\n",
       "      <td>-0.313754</td>\n",
       "      <td>-0.059297</td>\n",
       "    </tr>\n",
       "    <tr>\n",
       "      <th>2005</th>\n",
       "      <td>0</td>\n",
       "      <td>24.0</td>\n",
       "      <td>15.609548</td>\n",
       "      <td>15.214971</td>\n",
       "      <td>0.499830</td>\n",
       "      <td>13.857195</td>\n",
       "      <td>1.361617</td>\n",
       "      <td>10.365663</td>\n",
       "      <td>0.430267</td>\n",
       "      <td>7.47</td>\n",
       "      <td>0.172435</td>\n",
       "      <td>0.0</td>\n",
       "      <td>0.0</td>\n",
       "      <td>0.0</td>\n",
       "      <td>0.0</td>\n",
       "      <td>0.0</td>\n",
       "      <td>-0.313754</td>\n",
       "      <td>-0.012730</td>\n",
       "    </tr>\n",
       "    <tr>\n",
       "      <th>2006</th>\n",
       "      <td>0</td>\n",
       "      <td>24.0</td>\n",
       "      <td>15.619001</td>\n",
       "      <td>15.200501</td>\n",
       "      <td>0.501551</td>\n",
       "      <td>13.879496</td>\n",
       "      <td>1.429114</td>\n",
       "      <td>10.305856</td>\n",
       "      <td>0.669812</td>\n",
       "      <td>6.85</td>\n",
       "      <td>0.167543</td>\n",
       "      <td>0.0</td>\n",
       "      <td>0.0</td>\n",
       "      <td>0.0</td>\n",
       "      <td>0.0</td>\n",
       "      <td>0.0</td>\n",
       "      <td>-0.313754</td>\n",
       "      <td>-0.038790</td>\n",
       "    </tr>\n",
       "  </tbody>\n",
       "</table>\n",
       "</div>"
      ],
      "text/plain": [
       "                               RAIL_FLAG  CLUSTER_APTA  UPT_ADJ_log  \\\n",
       "Akron, OH Metro Area-Bus 2002          0          24.0    15.469231   \n",
       "                         2003          0          24.0    15.501150   \n",
       "                         2004          0          24.0    15.591676   \n",
       "                         2005          0          24.0    15.609548   \n",
       "                         2006          0          24.0    15.619001   \n",
       "\n",
       "                               VRM_ADJ_log  FARE_per_UPT_2018_log  \\\n",
       "Akron, OH Metro Area-Bus 2002    15.208377               0.162997   \n",
       "                         2003    15.195930               0.502067   \n",
       "                         2004    15.277699               0.450106   \n",
       "                         2005    15.214971               0.499830   \n",
       "                         2006    15.200501               0.501551   \n",
       "\n",
       "                               POP_EMP_log  GAS_PRICE_2018_log  \\\n",
       "Akron, OH Metro Area-Bus 2002    13.808216            1.066089   \n",
       "                         2003    13.823451            1.138954   \n",
       "                         2004    13.839439            1.233697   \n",
       "                         2005    13.857195            1.361617   \n",
       "                         2006    13.879496            1.429114   \n",
       "\n",
       "                               TOTAL_MED_INC_INDIV_2018_log  \\\n",
       "Akron, OH Metro Area-Bus 2002                     10.479210   \n",
       "                         2003                     10.446267   \n",
       "                         2004                     10.403980   \n",
       "                         2005                     10.365663   \n",
       "                         2006                     10.305856   \n",
       "\n",
       "                               Tot_NonUSA_POP_pct  PCT_HH_NO_VEH  TSD_POP_PCT  \\\n",
       "Akron, OH Metro Area-Bus 2002           -0.060245           8.60     0.185260   \n",
       "                         2003            0.114214           8.20     0.180770   \n",
       "                         2004            0.288851           7.79     0.176377   \n",
       "                         2005            0.430267           7.47     0.172435   \n",
       "                         2006            0.669812           6.85     0.167543   \n",
       "\n",
       "                               YEARS_SINCE_TNC_BUS  YEARS_SINCE_TNC_RAIL  \\\n",
       "Akron, OH Metro Area-Bus 2002                  0.0                   0.0   \n",
       "                         2003                  0.0                   0.0   \n",
       "                         2004                  0.0                   0.0   \n",
       "                         2005                  0.0                   0.0   \n",
       "                         2006                  0.0                   0.0   \n",
       "\n",
       "                               BIKE_SHARE_BUS  scooter_flag_BUS  \\\n",
       "Akron, OH Metro Area-Bus 2002             0.0               0.0   \n",
       "                         2003             0.0               0.0   \n",
       "                         2004             0.0               0.0   \n",
       "                         2005             0.0               0.0   \n",
       "                         2006             0.0               0.0   \n",
       "\n",
       "                               BIKE_SCOOTER_SCOOTER_RAIL   effects  residual  \n",
       "Akron, OH Metro Area-Bus 2002                        0.0 -0.313754 -0.276881  \n",
       "                         2003                        0.0 -0.313754 -0.022682  \n",
       "                         2004                        0.0 -0.313754 -0.059297  \n",
       "                         2005                        0.0 -0.313754 -0.012730  \n",
       "                         2006                        0.0 -0.313754 -0.038790  "
      ]
     },
     "execution_count": 59,
     "metadata": {},
     "output_type": "execute_result"
    }
   ],
   "source": [
    "app_data.head()"
   ]
  },
  {
   "cell_type": "code",
   "execution_count": 60,
   "metadata": {
    "collapsed": false
   },
   "outputs": [],
   "source": [
    "# calculate the fitted values\n",
    "app_data['fitted'] = app_data['effects']\n",
    "for var in res.params.keys(): \n",
    "    app_data['fitted'] = app_data['fitted'] + (res.params[var] * app_data[var])\n",
    "\n",
    "# and check that we add up correctly\n",
    "app_data['check_fitted'] = app_data['fitted'] + app_data['residual'] - app_data['UPT_ADJ_log']"
   ]
  },
  {
   "cell_type": "code",
   "execution_count": 61,
   "metadata": {
    "collapsed": true
   },
   "outputs": [],
   "source": [
    "# create the necessary columns\n",
    "\n",
    "# dependents\n",
    "app_data['UPT_ADJ']    = np.exp(app_data['UPT_ADJ_log']) - 1\n",
    "app_data['fitted_exp'] = np.exp(app_data['fitted']) - 1\n",
    "\n",
    "# linear versions of logged variables\n",
    "for var in res.params.keys(): \n",
    "    if '_log' in var: \n",
    "        app_data[var.replace('_log', '')] = np.exp(app_data[var]) - 1              \n",
    "\n",
    "# ratios and differences\n",
    "for var in res.params.keys(): \n",
    "    if '_log' in var: \n",
    "        app_data[var.replace('_log', '_ratio')] = 1\n",
    "    else: \n",
    "        app_data[var+'_diff'] = 0\n",
    "\n",
    "# FAC multipliers\n",
    "for var in res.params.keys(): \n",
    "    app_data[var+'_FAC_ratio'] = 1\n",
    "\n",
    "app_data['UPT_ADJ_base'] = 0\n",
    "app_data['UPT_ADJ_ratio'] = 1\n",
    "app_data['fitted_exp_ratio'] = 1\n",
    "app_data['UPT_ADJ_diff'] = 0\n",
    "app_data['fitted_exp_diff'] = 0"
   ]
  },
  {
   "cell_type": "code",
   "execution_count": 62,
   "metadata": {
    "collapsed": false
   },
   "outputs": [
    {
     "ename": "KeyError",
     "evalue": "1574",
     "output_type": "error",
     "traceback": [
      "\u001b[0;31m---------------------------------------------------------------------------\u001b[0m",
      "\u001b[0;31mKeyError\u001b[0m                                  Traceback (most recent call last)",
      "\u001b[0;32m<ipython-input-62-34f84878a14d>\u001b[0m in \u001b[0;36m<module>\u001b[0;34m()\u001b[0m\n\u001b[1;32m     13\u001b[0m                 \u001b[0mout_var\u001b[0m \u001b[1;33m=\u001b[0m \u001b[0mvar\u001b[0m\u001b[1;33m.\u001b[0m\u001b[0mreplace\u001b[0m\u001b[1;33m(\u001b[0m\u001b[1;34m'_log'\u001b[0m\u001b[1;33m,\u001b[0m \u001b[1;34m'_ratio'\u001b[0m\u001b[1;33m)\u001b[0m\u001b[1;33m\u001b[0m\u001b[0m\n\u001b[1;32m     14\u001b[0m                 app_data.loc[(id,year), out_var] = (app_data.loc[(id,year), var] \n\u001b[0;32m---> 15\u001b[0;31m                                                  / app_data.loc[(id,base_year), var])\n\u001b[0m\u001b[1;32m     16\u001b[0m             \u001b[1;32melse\u001b[0m\u001b[1;33m:\u001b[0m\u001b[1;33m\u001b[0m\u001b[0m\n\u001b[1;32m     17\u001b[0m                 \u001b[0mout_var\u001b[0m \u001b[1;33m=\u001b[0m \u001b[0mvar\u001b[0m\u001b[1;33m+\u001b[0m\u001b[1;34m'_diff'\u001b[0m\u001b[1;33m\u001b[0m\u001b[0m\n",
      "\u001b[0;32mC:\\Program Files\\Anaconda3\\lib\\site-packages\\pandas\\core\\indexing.py\u001b[0m in \u001b[0;36m__getitem__\u001b[0;34m(self, key)\u001b[0m\n\u001b[1;32m   1470\u001b[0m             \u001b[1;32mexcept\u001b[0m \u001b[1;33m(\u001b[0m\u001b[0mKeyError\u001b[0m\u001b[1;33m,\u001b[0m \u001b[0mIndexError\u001b[0m\u001b[1;33m)\u001b[0m\u001b[1;33m:\u001b[0m\u001b[1;33m\u001b[0m\u001b[0m\n\u001b[1;32m   1471\u001b[0m                 \u001b[1;32mpass\u001b[0m\u001b[1;33m\u001b[0m\u001b[0m\n\u001b[0;32m-> 1472\u001b[0;31m             \u001b[1;32mreturn\u001b[0m \u001b[0mself\u001b[0m\u001b[1;33m.\u001b[0m\u001b[0m_getitem_tuple\u001b[0m\u001b[1;33m(\u001b[0m\u001b[0mkey\u001b[0m\u001b[1;33m)\u001b[0m\u001b[1;33m\u001b[0m\u001b[0m\n\u001b[0m\u001b[1;32m   1473\u001b[0m         \u001b[1;32melse\u001b[0m\u001b[1;33m:\u001b[0m\u001b[1;33m\u001b[0m\u001b[0m\n\u001b[1;32m   1474\u001b[0m             \u001b[1;31m# we by definition only have the 0th axis\u001b[0m\u001b[1;33m\u001b[0m\u001b[1;33m\u001b[0m\u001b[0m\n",
      "\u001b[0;32mC:\\Program Files\\Anaconda3\\lib\\site-packages\\pandas\\core\\indexing.py\u001b[0m in \u001b[0;36m_getitem_tuple\u001b[0;34m(self, tup)\u001b[0m\n\u001b[1;32m    868\u001b[0m     \u001b[1;32mdef\u001b[0m \u001b[0m_getitem_tuple\u001b[0m\u001b[1;33m(\u001b[0m\u001b[0mself\u001b[0m\u001b[1;33m,\u001b[0m \u001b[0mtup\u001b[0m\u001b[1;33m)\u001b[0m\u001b[1;33m:\u001b[0m\u001b[1;33m\u001b[0m\u001b[0m\n\u001b[1;32m    869\u001b[0m         \u001b[1;32mtry\u001b[0m\u001b[1;33m:\u001b[0m\u001b[1;33m\u001b[0m\u001b[0m\n\u001b[0;32m--> 870\u001b[0;31m             \u001b[1;32mreturn\u001b[0m \u001b[0mself\u001b[0m\u001b[1;33m.\u001b[0m\u001b[0m_getitem_lowerdim\u001b[0m\u001b[1;33m(\u001b[0m\u001b[0mtup\u001b[0m\u001b[1;33m)\u001b[0m\u001b[1;33m\u001b[0m\u001b[0m\n\u001b[0m\u001b[1;32m    871\u001b[0m         \u001b[1;32mexcept\u001b[0m \u001b[0mIndexingError\u001b[0m\u001b[1;33m:\u001b[0m\u001b[1;33m\u001b[0m\u001b[0m\n\u001b[1;32m    872\u001b[0m             \u001b[1;32mpass\u001b[0m\u001b[1;33m\u001b[0m\u001b[0m\n",
      "\u001b[0;32mC:\\Program Files\\Anaconda3\\lib\\site-packages\\pandas\\core\\indexing.py\u001b[0m in \u001b[0;36m_getitem_lowerdim\u001b[0;34m(self, tup)\u001b[0m\n\u001b[1;32m    977\u001b[0m         \u001b[1;31m# we may have a nested tuples indexer here\u001b[0m\u001b[1;33m\u001b[0m\u001b[1;33m\u001b[0m\u001b[0m\n\u001b[1;32m    978\u001b[0m         \u001b[1;32mif\u001b[0m \u001b[0mself\u001b[0m\u001b[1;33m.\u001b[0m\u001b[0m_is_nested_tuple_indexer\u001b[0m\u001b[1;33m(\u001b[0m\u001b[0mtup\u001b[0m\u001b[1;33m)\u001b[0m\u001b[1;33m:\u001b[0m\u001b[1;33m\u001b[0m\u001b[0m\n\u001b[0;32m--> 979\u001b[0;31m             \u001b[1;32mreturn\u001b[0m \u001b[0mself\u001b[0m\u001b[1;33m.\u001b[0m\u001b[0m_getitem_nested_tuple\u001b[0m\u001b[1;33m(\u001b[0m\u001b[0mtup\u001b[0m\u001b[1;33m)\u001b[0m\u001b[1;33m\u001b[0m\u001b[0m\n\u001b[0m\u001b[1;32m    980\u001b[0m \u001b[1;33m\u001b[0m\u001b[0m\n\u001b[1;32m    981\u001b[0m         \u001b[1;31m# we maybe be using a tuple to represent multiple dimensions here\u001b[0m\u001b[1;33m\u001b[0m\u001b[1;33m\u001b[0m\u001b[0m\n",
      "\u001b[0;32mC:\\Program Files\\Anaconda3\\lib\\site-packages\\pandas\\core\\indexing.py\u001b[0m in \u001b[0;36m_getitem_nested_tuple\u001b[0;34m(self, tup)\u001b[0m\n\u001b[1;32m   1056\u001b[0m \u001b[1;33m\u001b[0m\u001b[0m\n\u001b[1;32m   1057\u001b[0m             \u001b[0mcurrent_ndim\u001b[0m \u001b[1;33m=\u001b[0m \u001b[0mobj\u001b[0m\u001b[1;33m.\u001b[0m\u001b[0mndim\u001b[0m\u001b[1;33m\u001b[0m\u001b[0m\n\u001b[0;32m-> 1058\u001b[0;31m             \u001b[0mobj\u001b[0m \u001b[1;33m=\u001b[0m \u001b[0mgetattr\u001b[0m\u001b[1;33m(\u001b[0m\u001b[0mobj\u001b[0m\u001b[1;33m,\u001b[0m \u001b[0mself\u001b[0m\u001b[1;33m.\u001b[0m\u001b[0mname\u001b[0m\u001b[1;33m)\u001b[0m\u001b[1;33m.\u001b[0m\u001b[0m_getitem_axis\u001b[0m\u001b[1;33m(\u001b[0m\u001b[0mkey\u001b[0m\u001b[1;33m,\u001b[0m \u001b[0maxis\u001b[0m\u001b[1;33m=\u001b[0m\u001b[0maxis\u001b[0m\u001b[1;33m)\u001b[0m\u001b[1;33m\u001b[0m\u001b[0m\n\u001b[0m\u001b[1;32m   1059\u001b[0m             \u001b[0maxis\u001b[0m \u001b[1;33m+=\u001b[0m \u001b[1;36m1\u001b[0m\u001b[1;33m\u001b[0m\u001b[0m\n\u001b[1;32m   1060\u001b[0m \u001b[1;33m\u001b[0m\u001b[0m\n",
      "\u001b[0;32mC:\\Program Files\\Anaconda3\\lib\\site-packages\\pandas\\core\\indexing.py\u001b[0m in \u001b[0;36m_getitem_axis\u001b[0;34m(self, key, axis)\u001b[0m\n\u001b[1;32m   1910\u001b[0m         \u001b[1;31m# fall thru to straight lookup\u001b[0m\u001b[1;33m\u001b[0m\u001b[1;33m\u001b[0m\u001b[0m\n\u001b[1;32m   1911\u001b[0m         \u001b[0mself\u001b[0m\u001b[1;33m.\u001b[0m\u001b[0m_validate_key\u001b[0m\u001b[1;33m(\u001b[0m\u001b[0mkey\u001b[0m\u001b[1;33m,\u001b[0m \u001b[0maxis\u001b[0m\u001b[1;33m)\u001b[0m\u001b[1;33m\u001b[0m\u001b[0m\n\u001b[0;32m-> 1912\u001b[0;31m         \u001b[1;32mreturn\u001b[0m \u001b[0mself\u001b[0m\u001b[1;33m.\u001b[0m\u001b[0m_get_label\u001b[0m\u001b[1;33m(\u001b[0m\u001b[0mkey\u001b[0m\u001b[1;33m,\u001b[0m \u001b[0maxis\u001b[0m\u001b[1;33m=\u001b[0m\u001b[0maxis\u001b[0m\u001b[1;33m)\u001b[0m\u001b[1;33m\u001b[0m\u001b[0m\n\u001b[0m\u001b[1;32m   1913\u001b[0m \u001b[1;33m\u001b[0m\u001b[0m\n\u001b[1;32m   1914\u001b[0m \u001b[1;33m\u001b[0m\u001b[0m\n",
      "\u001b[0;32mC:\\Program Files\\Anaconda3\\lib\\site-packages\\pandas\\core\\indexing.py\u001b[0m in \u001b[0;36m_get_label\u001b[0;34m(self, label, axis)\u001b[0m\n\u001b[1;32m    138\u001b[0m             \u001b[1;32mraise\u001b[0m \u001b[0mIndexingError\u001b[0m\u001b[1;33m(\u001b[0m\u001b[1;34m'no slices here, handle elsewhere'\u001b[0m\u001b[1;33m)\u001b[0m\u001b[1;33m\u001b[0m\u001b[0m\n\u001b[1;32m    139\u001b[0m \u001b[1;33m\u001b[0m\u001b[0m\n\u001b[0;32m--> 140\u001b[0;31m         \u001b[1;32mreturn\u001b[0m \u001b[0mself\u001b[0m\u001b[1;33m.\u001b[0m\u001b[0mobj\u001b[0m\u001b[1;33m.\u001b[0m\u001b[0m_xs\u001b[0m\u001b[1;33m(\u001b[0m\u001b[0mlabel\u001b[0m\u001b[1;33m,\u001b[0m \u001b[0maxis\u001b[0m\u001b[1;33m=\u001b[0m\u001b[0maxis\u001b[0m\u001b[1;33m)\u001b[0m\u001b[1;33m\u001b[0m\u001b[0m\n\u001b[0m\u001b[1;32m    141\u001b[0m \u001b[1;33m\u001b[0m\u001b[0m\n\u001b[1;32m    142\u001b[0m     \u001b[1;32mdef\u001b[0m \u001b[0m_get_loc\u001b[0m\u001b[1;33m(\u001b[0m\u001b[0mself\u001b[0m\u001b[1;33m,\u001b[0m \u001b[0mkey\u001b[0m\u001b[1;33m,\u001b[0m \u001b[0maxis\u001b[0m\u001b[1;33m=\u001b[0m\u001b[1;32mNone\u001b[0m\u001b[1;33m)\u001b[0m\u001b[1;33m:\u001b[0m\u001b[1;33m\u001b[0m\u001b[0m\n",
      "\u001b[0;32mC:\\Program Files\\Anaconda3\\lib\\site-packages\\pandas\\core\\generic.py\u001b[0m in \u001b[0;36mxs\u001b[0;34m(self, key, axis, level, drop_level)\u001b[0m\n\u001b[1;32m   2983\u001b[0m         \u001b[1;32mif\u001b[0m \u001b[0misinstance\u001b[0m\u001b[1;33m(\u001b[0m\u001b[0mindex\u001b[0m\u001b[1;33m,\u001b[0m \u001b[0mMultiIndex\u001b[0m\u001b[1;33m)\u001b[0m\u001b[1;33m:\u001b[0m\u001b[1;33m\u001b[0m\u001b[0m\n\u001b[1;32m   2984\u001b[0m             loc, new_index = self.index.get_loc_level(key,\n\u001b[0;32m-> 2985\u001b[0;31m                                                       drop_level=drop_level)\n\u001b[0m\u001b[1;32m   2986\u001b[0m         \u001b[1;32melse\u001b[0m\u001b[1;33m:\u001b[0m\u001b[1;33m\u001b[0m\u001b[0m\n\u001b[1;32m   2987\u001b[0m             \u001b[0mloc\u001b[0m \u001b[1;33m=\u001b[0m \u001b[0mself\u001b[0m\u001b[1;33m.\u001b[0m\u001b[0mindex\u001b[0m\u001b[1;33m.\u001b[0m\u001b[0mget_loc\u001b[0m\u001b[1;33m(\u001b[0m\u001b[0mkey\u001b[0m\u001b[1;33m)\u001b[0m\u001b[1;33m\u001b[0m\u001b[0m\n",
      "\u001b[0;32mC:\\Program Files\\Anaconda3\\lib\\site-packages\\pandas\\core\\indexes\\multi.py\u001b[0m in \u001b[0;36mget_loc_level\u001b[0;34m(self, key, level, drop_level)\u001b[0m\n\u001b[1;32m   2383\u001b[0m                 \u001b[1;32mif\u001b[0m \u001b[0mlen\u001b[0m\u001b[1;33m(\u001b[0m\u001b[0mkey\u001b[0m\u001b[1;33m)\u001b[0m \u001b[1;33m==\u001b[0m \u001b[0mself\u001b[0m\u001b[1;33m.\u001b[0m\u001b[0mnlevels\u001b[0m \u001b[1;32mand\u001b[0m \u001b[0mself\u001b[0m\u001b[1;33m.\u001b[0m\u001b[0mis_unique\u001b[0m\u001b[1;33m:\u001b[0m\u001b[1;33m\u001b[0m\u001b[0m\n\u001b[1;32m   2384\u001b[0m                     \u001b[1;31m# Complete key in unique index -> standard get_loc\u001b[0m\u001b[1;33m\u001b[0m\u001b[1;33m\u001b[0m\u001b[0m\n\u001b[0;32m-> 2385\u001b[0;31m                     \u001b[1;32mreturn\u001b[0m \u001b[1;33m(\u001b[0m\u001b[0mself\u001b[0m\u001b[1;33m.\u001b[0m\u001b[0m_engine\u001b[0m\u001b[1;33m.\u001b[0m\u001b[0mget_loc\u001b[0m\u001b[1;33m(\u001b[0m\u001b[0mkey\u001b[0m\u001b[1;33m)\u001b[0m\u001b[1;33m,\u001b[0m \u001b[1;32mNone\u001b[0m\u001b[1;33m)\u001b[0m\u001b[1;33m\u001b[0m\u001b[0m\n\u001b[0m\u001b[1;32m   2386\u001b[0m                 \u001b[1;32melse\u001b[0m\u001b[1;33m:\u001b[0m\u001b[1;33m\u001b[0m\u001b[0m\n\u001b[1;32m   2387\u001b[0m                     \u001b[1;32mreturn\u001b[0m \u001b[0mpartial_selection\u001b[0m\u001b[1;33m(\u001b[0m\u001b[0mkey\u001b[0m\u001b[1;33m)\u001b[0m\u001b[1;33m\u001b[0m\u001b[0m\n",
      "\u001b[0;32mpandas\\_libs\\index.pyx\u001b[0m in \u001b[0;36mpandas._libs.index.BaseMultiIndexCodesEngine.get_loc\u001b[0;34m()\u001b[0m\n",
      "\u001b[0;32mpandas\\_libs\\index.pyx\u001b[0m in \u001b[0;36mpandas._libs.index.IndexEngine.get_loc\u001b[0;34m()\u001b[0m\n",
      "\u001b[0;32mpandas\\_libs\\index.pyx\u001b[0m in \u001b[0;36mpandas._libs.index.IndexEngine.get_loc\u001b[0;34m()\u001b[0m\n",
      "\u001b[0;32mpandas\\_libs\\hashtable_class_helper.pxi\u001b[0m in \u001b[0;36mpandas._libs.hashtable.UInt64HashTable.get_item\u001b[0;34m()\u001b[0m\n",
      "\u001b[0;32mpandas\\_libs\\hashtable_class_helper.pxi\u001b[0m in \u001b[0;36mpandas._libs.hashtable.UInt64HashTable.get_item\u001b[0;34m()\u001b[0m\n",
      "\u001b[0;31mKeyError\u001b[0m: 1574"
     ]
    }
   ],
   "source": [
    "# calculate the FAC relative to a specific base year\n",
    "ids = app_data.index.get_level_values(0).unique()\n",
    "\n",
    "for id in ids: \n",
    "    years = app_data.loc[id].index.get_level_values(0)\n",
    "\n",
    "    for year in years[1:]:       \n",
    "        base_year = year-1\n",
    "        \n",
    "        for var in res.params.keys(): \n",
    "            # ratios and differences\n",
    "            if '_log' in var: \n",
    "                out_var = var.replace('_log', '_ratio')\n",
    "                app_data.loc[(id,year), out_var] = (app_data.loc[(id,year), var] \n",
    "                                                 / app_data.loc[(id,base_year), var])\n",
    "            else: \n",
    "                out_var = var+'_diff'                    \n",
    "                app_data.loc[(id,year), out_var] = (app_data.loc[(id,year), var] \n",
    "                                                 - app_data.loc[(id,base_year), var])\n",
    "\n",
    "            # FAC multipliers\n",
    "            app_data.loc[(id,year),var+'_FAC_ratio'] = np.exp(res.params[var] * (\n",
    "                                                    app_data.loc[(id,year), var] \n",
    "                                                    - app_data.loc[(id,base_year), var]))\n",
    "\n",
    "            # estimated effects (if time effects is zero, no change)\n",
    "            app_data.loc[(id,year),'effects_FAC_ratio'] = np.exp(\n",
    "                                                    app_data.loc[(id,year), 'effects'] \n",
    "                                                    - app_data.loc[(id,base_year), 'effects'])\n",
    "\n",
    "            # residual\n",
    "            app_data.loc[(id,year),'residual_FAC_ratio'] = np.exp(\n",
    "                                                    app_data.loc[(id,year), 'residual'] \n",
    "                                                    - app_data.loc[(id,base_year), 'residual'])\n",
    "\n",
    "        # observed and fitted changes            \n",
    "        app_data.loc[(id,year),'UPT_ADJ_base'] = app_data.loc[(id,base_year),'UPT_ADJ']\n",
    "        app_data.loc[(id,year),'UPT_ADJ_ratio'] = (app_data.loc[(id,year),'UPT_ADJ'] \n",
    "                                                 / app_data.loc[(id,base_year),'UPT_ADJ'])\n",
    "        app_data.loc[(id,year),'fitted_exp_ratio'] = (app_data.loc[(id,year),'fitted_exp'] \n",
    "                                                 / app_data.loc[(id,base_year),'fitted_exp'])\n",
    "\n",
    "        app_data.loc[(id,year),'UPT_ADJ_diff'] = (app_data.loc[(id,year),'UPT_ADJ'] \n",
    "                                                 - app_data.loc[(id,base_year),'UPT_ADJ'])\n",
    "        app_data.loc[(id,year),'fitted_exp_diff'] = (app_data.loc[(id,year),'fitted_exp'] \n",
    "                                                 - app_data.loc[(id,base_year),'fitted_exp'])\n"
   ]
  },
  {
   "cell_type": "code",
   "execution_count": null,
   "metadata": {
    "collapsed": true
   },
   "outputs": [],
   "source": [
    "# calculate the total change ratios\n",
    "\n",
    "app_data['FAC_ratio'] = 1\n",
    "for var in res.params.keys(): \n",
    "    app_data['FAC_ratio'] = app_data['FAC_ratio'] * app_data[var+'_FAC_ratio']\n",
    "    \n",
    "app_data['FAC_ratio'] = app_data['FAC_ratio'] * app_data['effects_FAC_ratio']"
   ]
  },
  {
   "cell_type": "code",
   "execution_count": null,
   "metadata": {
    "collapsed": false
   },
   "outputs": [],
   "source": [
    "app_data"
   ]
  },
  {
   "cell_type": "code",
   "execution_count": null,
   "metadata": {
    "collapsed": true
   },
   "outputs": [],
   "source": [
    "# calculate the FAC\n",
    "app_data['Total_FAC'] = 0\n",
    "for var in res.params.keys(): \n",
    "    app_data[var+'_FAC'] = (app_data[var+'_FAC_ratio'] - 1) * app_data['UPT_ADJ_base']\n",
    "    app_data['Total_FAC'] = app_data['Total_FAC'] + app_data[var+'_FAC']\n",
    "app_data['effects_FAC'] = (app_data['effects_FAC_ratio'] - 1) * app_data['UPT_ADJ_base']\n",
    "app_data['Total_FAC'] = app_data['Total_FAC'] + app_data['effects_FAC']\n",
    "\n",
    "# scale the FAC\n",
    "app_data['FAC_scale'] = app_data['fitted_exp_diff'] / app_data['Total_FAC']\n",
    "app_data['FAC_scale'] = app_data['FAC_scale'].fillna(1)\n",
    "\n",
    "app_data['Total_FAC_scaled'] = 0\n",
    "for var in res.params.keys(): \n",
    "    app_data[var+'_FAC_scaled'] = app_data[var+'_FAC'] * app_data['FAC_scale']\n",
    "    app_data['Total_FAC_scaled'] = app_data['Total_FAC_scaled'] + app_data[var+'_FAC_scaled']\n",
    "app_data['effects_FAC_scaled'] = app_data[var+'_FAC_scaled'] * app_data['FAC_scale']\n",
    "app_data['Total_FAC_scaled'] = app_data['Total_FAC_scaled'] + app_data['effects_FAC_scaled']\n"
   ]
  },
  {
   "cell_type": "code",
   "execution_count": null,
   "metadata": {
    "collapsed": true
   },
   "outputs": [],
   "source": [
    "# reset the index so I get ID and year\n",
    "app_data = app_data.reset_index()\n",
    "app_data = app_data.rename(columns={'level_0' : 'ID', 'level_1' : 'Year'})\n",
    "app_data.to_csv('FAC.csv')"
   ]
  },
  {
   "cell_type": "code",
   "execution_count": null,
   "metadata": {
    "collapsed": true
   },
   "outputs": [],
   "source": [
    "# these are the fields we keep\n",
    "out_fields = ['ID', 'Year', 'RAIL_FLAG', \n",
    "              'CLUSTER_APTA',  \n",
    "              'UPT_ADJ_base', 'UPT_ADJ', 'UPT_ADJ_diff', \n",
    "              'fitted_exp', 'fitted_exp_diff']\n",
    "\n",
    "# exogenous variables \n",
    "for var in res.params.keys(): \n",
    "    out_var = var.replace('_log', '')\n",
    "    out_fields = out_fields + [out_var]\n",
    "    \n",
    "# FAC\n",
    "for var in res.params.keys(): \n",
    "    out_fields = out_fields + [var+'_FAC']\n",
    "out_fields = out_fields + ['Total_FAC']\n",
    "    \n",
    "# scaled FAC\n",
    "for var in res.params.keys(): \n",
    "    out_fields = out_fields + [var+'_FAC_scaled']\n",
    "out_fields = out_fields + ['Total_FAC_scaled']\n",
    "\n",
    "# keep those fields\n",
    "summary_data = app_data.reset_index()[out_fields]"
   ]
  },
  {
   "cell_type": "code",
   "execution_count": null,
   "metadata": {
    "collapsed": false
   },
   "outputs": [],
   "source": [
    "# take weighted average of exogenous variables\n",
    "for var in res.params.keys(): \n",
    "    out_var = var.replace('_log', '')\n",
    "    summary_data[out_var] = summary_data[out_var] * summary_data['UPT_ADJ_base']\n",
    "\n",
    "# aggregate to bus/rail totals\n",
    "summary_data_apta = summary_data.groupby(by=['CLUSTER_APTA', 'RAIL_FLAG', 'Year']).agg('sum')\n",
    "\n",
    "# divide for weighted averages\n",
    "for var in res.params.keys(): \n",
    "    out_var = var.replace('_log', '')\n",
    "#    summary_data_gt[out_var] = summary_data_gt[out_var] / summary_data_gt['UPT_ADJ_base']\n",
    "    summary_data_apta[out_var] = summary_data_apta[out_var] / summary_data_apta['UPT_ADJ_base']\n",
    "#    summary_data_apta_hml[out_var] = summary_data_apta_hml[out_var] / summary_data_apta_hml['UPT_ADJ_base']\n",
    "    "
   ]
  },
  {
   "cell_type": "code",
   "execution_count": null,
   "metadata": {
    "collapsed": true
   },
   "outputs": [],
   "source": [
    "#summary_data_gt.to_csv('FAC_totals_GT_CLUSTERS.csv')\n",
    "summary_data_apta.to_csv('FAC_totals_APTA_CLUSTERS.csv')\n",
    "#summary_data_apta_hml.to_csv('FAC_totals_APTA_HML_CLUSTERS.csv')\n"
   ]
  },
  {
   "cell_type": "code",
   "execution_count": null,
   "metadata": {
    "collapsed": false
   },
   "outputs": [],
   "source": [
    "summary_data_apta.head(20)"
   ]
  },
  {
   "cell_type": "code",
   "execution_count": null,
   "metadata": {
    "collapsed": true
   },
   "outputs": [],
   "source": []
  },
  {
   "cell_type": "code",
   "execution_count": null,
   "metadata": {
    "collapsed": true
   },
   "outputs": [],
   "source": []
  }
 ],
 "metadata": {
  "anaconda-cloud": {},
  "kernelspec": {
   "display_name": "Python [default]",
   "language": "python",
   "name": "python3"
  },
  "language_info": {
   "codemirror_mode": {
    "name": "ipython",
    "version": 3
   },
   "file_extension": ".py",
   "mimetype": "text/x-python",
   "name": "python",
   "nbconvert_exporter": "python",
   "pygments_lexer": "ipython3",
   "version": "3.5.6"
  }
 },
 "nbformat": 4,
 "nbformat_minor": 1
}
