{
 "cells": [
  {
   "cell_type": "code",
   "execution_count": 1,
   "metadata": {
    "collapsed": false
   },
   "outputs": [
    {
     "name": "stderr",
     "output_type": "stream",
     "text": [
      "C:\\Program Files\\Anaconda3\\lib\\site-packages\\statsmodels\\compat\\pandas.py:56: FutureWarning: The pandas.core.datetools module is deprecated and will be removed in a future version. Please use the pandas.tseries module instead.\n",
      "  from pandas.core import datetools\n"
     ]
    }
   ],
   "source": [
    "import pandas as pd\n",
    "import seaborn as sns\n",
    "import numpy as np\n",
    "import linearmodels as lm\n",
    "import matplotlib\n",
    "import math\n",
    "import statsmodels.formula.api as smf\n",
    "import statsmodels.api as sm\n",
    "\n",
    "from linearmodels.panel import PanelOLS\n",
    "from linearmodels.panel import RandomEffects\n",
    "from linearmodels.panel import FirstDifferenceOLS\n",
    "from linearmodels.panel import compare\n",
    "from matplotlib import pyplot as plt\n",
    "\n",
    "from pandas.api.types import is_numeric_dtype\n",
    "\n",
    "pd.set_option('display.max_columns', 500)\n",
    "\n",
    "%matplotlib inline"
   ]
  },
  {
   "cell_type": "code",
   "execution_count": 2,
   "metadata": {
    "collapsed": false
   },
   "outputs": [
    {
     "name": "stderr",
     "output_type": "stream",
     "text": [
      "C:\\Program Files\\Anaconda3\\lib\\site-packages\\IPython\\core\\interactiveshell.py:2717: DtypeWarning: Columns (117,126) have mixed types. Specify dtype option on import or set low_memory=False.\n",
      "  interactivity=interactivity, compiler=compiler, result=result)\n"
     ]
    }
   ],
   "source": [
    "# read the main data set\n",
    "df=pd.read_csv('estimation_file_normal_fare.csv',\n",
    "                    encoding='utf-8')\n"
   ]
  },
  {
   "cell_type": "code",
   "execution_count": 3,
   "metadata": {
    "collapsed": true
   },
   "outputs": [],
   "source": [
    "# read in and join the maintenance and restructure data\n",
    "mr=pd.read_csv('maintenance_restructure.csv',\n",
    "                    encoding='utf-8')\n",
    "mr = mr[['CBSA', 'Mode', 'Year', 'MAINTENANCE', 'MAINTENANCE_NYC', 'MAINTENANCE_WMATA', 'RESTRUCTURE']]\n",
    "\n",
    "df = df.merge(mr, on=['CBSA', 'Mode', 'Year'], how='left')"
   ]
  },
  {
   "cell_type": "code",
   "execution_count": 4,
   "metadata": {
    "collapsed": true
   },
   "outputs": [],
   "source": [
    "# read in and join the bike share updates\n",
    "bsu=pd.read_csv('bike_share_update.csv',\n",
    "                    encoding='utf-8')\n",
    "bsu = bsu[['CBSA', 'Mode', 'Year', 'PBS_Flag_Update']]\n",
    "\n",
    "df = df.merge(bsu, on=['CBSA', 'Mode', 'Year'], how='left')\n",
    "\n",
    "#df['PBS_Flag_Missing'] = df['PBS_Flag'].apply(lambda x : x.isnan())\n",
    "df['PBS_Flag'] = np.where(df['PBS_Flag'].isnull(), df['PBS_Flag_Update'], df['PBS_Flag'])"
   ]
  },
  {
   "cell_type": "code",
   "execution_count": 5,
   "metadata": {
    "collapsed": true
   },
   "outputs": [],
   "source": [
    "# 4 apta clusers\n",
    "df['CLUSTER_APTA4'] = np.floor(df['CLUSTER_APTA']/10)"
   ]
  },
  {
   "cell_type": "code",
   "execution_count": 6,
   "metadata": {
    "collapsed": true
   },
   "outputs": [],
   "source": [
    "# exclude if ridership is zero--missing data\n",
    "df = df[df['UPT_ADJ']>0]"
   ]
  },
  {
   "cell_type": "code",
   "execution_count": 7,
   "metadata": {
    "collapsed": false
   },
   "outputs": [
    {
     "name": "stdout",
     "output_type": "stream",
     "text": [
      "Excluding 0 records with missing VRM\n",
      "Excluding 74 records with zero or negative fare\n",
      "Excluding 7 records with fare greater than $20\n",
      "Excluding 27 records with negative 0 veh HH\n",
      "Excluding 172 records with problem flag set to 1\n",
      "Excluding 31 cluster 3 rail\n"
     ]
    }
   ],
   "source": [
    "# exclude problematic data\n",
    "old_len = len(df)\n",
    "df = df[df['VRM_ADJ']>0]\n",
    "new_len = len(df)\n",
    "print('Excluding ' + str(old_len-new_len) + ' records with missing VRM') \n",
    "\n",
    "# exclude problematic data\n",
    "old_len = len(df)\n",
    "df = df[df['FARE_per_UPT_2018']>0]\n",
    "new_len = len(df)\n",
    "print('Excluding ' + str(old_len-new_len) + ' records with zero or negative fare') \n",
    "\n",
    "# exclude problematic data\n",
    "old_len = len(df)\n",
    "df = df[df['FARE_per_UPT_2018']<20]\n",
    "new_len = len(df)\n",
    "print('Excluding ' + str(old_len-new_len) + ' records with fare greater than $20') \n",
    "\n",
    "# exclude problematic data\n",
    "old_len = len(df)\n",
    "df = df[df['HH_0Veh']>0]\n",
    "new_len = len(df)\n",
    "print('Excluding ' + str(old_len-new_len) + ' records with negative 0 veh HH') \n",
    "\n",
    "# exclude if problem flag is set\n",
    "old_len = len(df)\n",
    "df = df[df['PROBLEM_FLAG']!=1]\n",
    "new_len = len(df)\n",
    "print('Excluding ' + str(old_len-new_len) + ' records with problem flag set to 1') \n",
    "\n",
    "# drop low op-ex cluster rail\n",
    "old_len = len(df)\n",
    "df = df[(df['CLUSTER_APTA4']!=3) |  (df['Mode']=='Bus')]\n",
    "new_len = len(df)\n",
    "print('Excluding ' + str(old_len-new_len) + ' cluster 3 rail') \n",
    "\n"
   ]
  },
  {
   "cell_type": "code",
   "execution_count": 8,
   "metadata": {
    "collapsed": false
   },
   "outputs": [
    {
     "name": "stdout",
     "output_type": "stream",
     "text": [
      "Excluding 46 records with discontinuities in year.\n",
      "Excluding 40 records with discontinuities in year.\n",
      "Excluding 34 records with discontinuities in year.\n",
      "Excluding 31 records with discontinuities in year.\n",
      "Excluding 25 records with discontinuities in year.\n",
      "Excluding 22 records with discontinuities in year.\n",
      "Excluding 19 records with discontinuities in year.\n",
      "Excluding 18 records with discontinuities in year.\n",
      "Excluding 14 records with discontinuities in year.\n",
      "Excluding 13 records with discontinuities in year.\n",
      "Excluding 11 records with discontinuities in year.\n",
      "Excluding 7 records with discontinuities in year.\n",
      "Excluding 5 records with discontinuities in year.\n",
      "Excluding 4 records with discontinuities in year.\n",
      "Excluding 3 records with discontinuities in year.\n",
      "Excluding 3 records with discontinuities in year.\n",
      "Excluding 0 records with discontinuities in year.\n"
     ]
    }
   ],
   "source": [
    "# exclude discontinuous data\n",
    "df = df.sort_values(by=['CBSA', 'Mode', 'Year'])\n",
    "\n",
    "excluded_records = 100\n",
    "while excluded_records > 0: \n",
    "    old_len = len(df)\n",
    "    df['YearDiff'] = df['Year'].shift(-1) - df['Year']\n",
    "    df = df[(df['YearDiff']==1) | (df['Year']==2018)]\n",
    "    excluded_records = old_len - len(df)\n",
    "    print('Excluding ' + str(excluded_records) + ' records with discontinuities in year.') \n",
    "\n"
   ]
  },
  {
   "cell_type": "code",
   "execution_count": 9,
   "metadata": {
    "collapsed": true
   },
   "outputs": [],
   "source": [
    "df['BUS_FLAG'] = np.where(df['Mode']=='Bus', 1, 0)\n",
    "df['RAIL_FLAG'] = np.where(df['Mode']=='Rail', 1, 0)"
   ]
  },
  {
   "cell_type": "code",
   "execution_count": 10,
   "metadata": {
    "collapsed": true
   },
   "outputs": [],
   "source": [
    "# include population + employment\n",
    "df['POP_EMP'] = df['Tot_Pop'] + df['TOT_EMP_MSA']\n",
    "df['HH_EMP'] = df['Total_HH'] + df['TOT_EMP_MSA']\n",
    "\n",
    "# percent of population in transit supportive density\n",
    "df['TSD_POP_PCT'] = df['POP_CENSUSTRACT'] / df['Tot_Pop']\n",
    "\n",
    "# percent of pop born outside USA\n",
    "df['Tot_NonUSA_POP_pct'] = df['Tot_NonUSA_POP'] / df['Tot_Pop'] * 100\n"
   ]
  },
  {
   "cell_type": "code",
   "execution_count": 11,
   "metadata": {
    "collapsed": true
   },
   "outputs": [],
   "source": [
    "# mode specific effects\n",
    "\n",
    "df['Bus_VRM_ADJ_RAIL']  = df['Bus_VRM_ADJ'] * df['RAIL_FLAG']\n",
    "df['Rail_VRM_ADJ_BUS'] = df['Rail_VRM_ADJ']  * df['BUS_FLAG']\n",
    "\n",
    "df['Bus_VRM_ADJ_RAIL_log'] = np.log(1+df['Bus_VRM_ADJ_RAIL'])\n",
    "df['Rail_VRM_ADJ_BUS_log'] = np.log(1+df['Rail_VRM_ADJ_BUS'])\n"
   ]
  },
  {
   "cell_type": "code",
   "execution_count": 12,
   "metadata": {
    "collapsed": true
   },
   "outputs": [],
   "source": [
    "# time effects\n",
    "df['YEARS_SINCE_2002']  = df['Year'] - 2002\n",
    "\n",
    "df['YEARS_2002_2010']  = df['Year'].apply(lambda x : min(x-2002, 8))\n",
    "df['YEARS_AFTER_2010'] = df['Year'].apply(lambda x : max(x-2010, 0))\n",
    "\n",
    "df['YEARS_2002_2014']  = df['Year'].apply(lambda x : min(x-2002, 12))\n",
    "df['YEARS_AFTER_2014'] = df['Year'].apply(lambda x : max(x-2014, 0))\n",
    "\n",
    "\n",
    "df['YEARS_SINCE_2002_BUS']  = df['YEARS_SINCE_2002'] * df['BUS_FLAG']\n",
    "df['YEARS_SINCE_2002_RAIL'] = df['YEARS_SINCE_2002'] * df['RAIL_FLAG']\n",
    "\n",
    "df['YEARS_2002_2010_BUS']   = df['YEARS_2002_2010'] * df['BUS_FLAG']\n",
    "df['YEARS_AFTER_2010_BUS']  = df['YEARS_AFTER_2010']* df['BUS_FLAG']\n",
    "df['YEARS_2002_2010_RAIL']  = df['YEARS_2002_2010'] * df['RAIL_FLAG']\n",
    "df['YEARS_AFTER_2010_RAIL'] = df['YEARS_AFTER_2010']* df['RAIL_FLAG']\n",
    "\n",
    "df['YEARS_2002_2014_BUS']   = df['YEARS_2002_2014'] * df['BUS_FLAG']\n",
    "df['YEARS_AFTER_2014_BUS']  = df['YEARS_AFTER_2014']* df['BUS_FLAG']\n",
    "df['YEARS_2002_2014_RAIL']  = df['YEARS_2002_2014'] * df['RAIL_FLAG']\n",
    "df['YEARS_AFTER_2014_RAIL'] = df['YEARS_AFTER_2014']* df['RAIL_FLAG']"
   ]
  },
  {
   "cell_type": "code",
   "execution_count": 13,
   "metadata": {
    "collapsed": true
   },
   "outputs": [],
   "source": [
    "# test rail ramp up period\n",
    "df['YEARS_SINCE_RAIL_START'] = (df['Year'] - df['min_year']) * df['RAIL_FLAG']\n",
    "df['YEARS_SINCE_RAIL_START'] = np.where(df['min_year']==2002, 0, df['YEARS_SINCE_RAIL_START'])\n",
    "\n",
    "df['YEARS_SINCE_RAIL_START_1'] = df['YEARS_SINCE_RAIL_START'].apply(lambda x : min(x, 1))\n",
    "df['YEARS_SINCE_RAIL_START_2'] = df['YEARS_SINCE_RAIL_START'].apply(lambda x : min(x, 2))\n",
    "df['YEARS_SINCE_RAIL_START_3'] = df['YEARS_SINCE_RAIL_START'].apply(lambda x : min(x, 3))\n",
    "\n"
   ]
  },
  {
   "cell_type": "code",
   "execution_count": 14,
   "metadata": {
    "collapsed": true
   },
   "outputs": [],
   "source": [
    "# calculate bus vs rail stuff\n",
    "\n",
    "# various bus/rail specifics\n",
    "\n",
    "df['TNC_FLAG_BUS'] = df['TNC_FLAG'] * df['BUS_FLAG']\n",
    "df['TNC_FLAG_RAIL'] = df['TNC_FLAG'] * df['RAIL_FLAG']\n",
    "\n",
    "df['YEARS_SINCE_TNC_BUS'] = df['YEARS_SINCE_TNC'] * df['BUS_FLAG']\n",
    "df['YEARS_SINCE_TNC_RAIL'] = df['YEARS_SINCE_TNC'] * df['RAIL_FLAG']\n",
    "\n",
    "df['dockless_flag'] = df['dockCt'].apply(lambda x : min(x,1))\n",
    "df['scooter_flag']  = df['scooterCt'].apply(lambda x : min(x,1))\n",
    "\n",
    "df['BIKE_SHARE'] = df['PBS_Flag'] + df['dockless_flag']\n",
    "df['BIKE_SHARE'] = df['BIKE_SHARE'].apply(lambda x : min(x,1))\n",
    "\n",
    "\n",
    "df['PBS_Flag_BUS']   = df['PBS_Flag']   * df['BUS_FLAG']\n",
    "df['dockCt_BUS']     = df['dockCt']     * df['BUS_FLAG']\n",
    "df['docklessCt_BUS'] = df['docklessCt'] * df['BUS_FLAG']\n",
    "df['scooterCt_BUS']  = df['scooterCt']  * df['BUS_FLAG']\n",
    "df['dockless_flag_BUS'] = df['dockless_flag'] * df['BUS_FLAG']\n",
    "df['scooter_flag_BUS']  = df['scooter_flag']  * df['BUS_FLAG']\n",
    "df['BIKE_SHARE_BUS']  = df['BIKE_SHARE']  * df['BUS_FLAG']\n",
    "\n",
    "\n",
    "df['PBS_Flag_RAIL']   = df['PBS_Flag']   * df['RAIL_FLAG']\n",
    "df['dockCt_RAIL']     = df['dockCt']     * df['RAIL_FLAG']\n",
    "df['docklessCt_RAIL'] = df['docklessCt'] * df['RAIL_FLAG']\n",
    "df['scooterCt_RAIL']  = df['scooterCt']  * df['RAIL_FLAG']\n",
    "df['dockless_flag_RAIL'] = df['dockless_flag'] * df['RAIL_FLAG']\n",
    "df['scooter_flag_RAIL']  = df['scooter_flag']  * df['RAIL_FLAG']\n",
    "df['BIKE_SHARE_RAIL']  = df['BIKE_SHARE']  * df['RAIL_FLAG']\n",
    "\n",
    "\n"
   ]
  },
  {
   "cell_type": "code",
   "execution_count": 15,
   "metadata": {
    "collapsed": true
   },
   "outputs": [],
   "source": [
    "# convert JTW to numeric columns\n",
    "df['JTW_DA_PCT']        = df['JTW_DA_PCT'].replace('#VALUE!', np.nan)\n",
    "df['JTW_CARPOOLED_PCT'] = df['JTW_CARPOOLED_PCT'].replace('#VALUE!', np.nan)\n",
    "df['JTW_TRANSIT_PCT']   = df['JTW_TRANSIT_PCT'].replace('#VALUE!', np.nan)\n",
    "df['JTW_WALK_PCT']      = df['JTW_WALK_PCT'].replace('#VALUE!', np.nan)\n",
    "df['JTW_BICYCLE_PCT']   = df['JTW_BICYCLE_PCT'].replace('#VALUE!', np.nan)\n",
    "df['JTW_OTHER_PCT']     = df['JTW_OTHER_PCT'].replace('#VALUE!', np.nan)\n",
    "df['JTW_HOME_PCT']      = df['JTW_HOME_PCT'].replace('#VALUE!', np.nan)\n",
    "\n",
    "\n",
    "df['JTW_DA_PCT']        = df['JTW_DA_PCT'].replace('N', np.nan)\n",
    "df['JTW_CARPOOLED_PCT'] = df['JTW_CARPOOLED_PCT'].replace('N', np.nan)\n",
    "df['JTW_TRANSIT_PCT']   = df['JTW_TRANSIT_PCT'].replace('N', np.nan)\n",
    "df['JTW_WALK_PCT']      = df['JTW_WALK_PCT'].replace('N', np.nan)\n",
    "df['JTW_BICYCLE_PCT']   = df['JTW_BICYCLE_PCT'].replace('N', np.nan)\n",
    "df['JTW_OTHER_PCT']     = df['JTW_OTHER_PCT'].replace('N', np.nan)\n",
    "df['JTW_HOME_PCT']      = df['JTW_HOME_PCT'].replace('N', np.nan)\n",
    "\n"
   ]
  },
  {
   "cell_type": "code",
   "execution_count": 16,
   "metadata": {
    "collapsed": true
   },
   "outputs": [],
   "source": [
    "# convert JTW to numeric columns\n",
    "df['JTW_DA_PCT']        = df['JTW_DA_PCT'].astype(float)\n",
    "df['JTW_CARPOOLED_PCT'] = df['JTW_CARPOOLED_PCT'].astype(float)\n",
    "df['JTW_TRANSIT_PCT']   = df['JTW_TRANSIT_PCT'].astype(float)\n",
    "df['JTW_WALK_PCT']      = df['JTW_WALK_PCT'].astype(float)\n",
    "df['JTW_BICYCLE_PCT']   = df['JTW_BICYCLE_PCT'].astype(float)\n",
    "df['JTW_OTHER_PCT']     = df['JTW_OTHER_PCT'].astype(float)\n",
    "df['JTW_HOME_PCT']      = df['JTW_HOME_PCT'].astype(float)\n"
   ]
  },
  {
   "cell_type": "code",
   "execution_count": 17,
   "metadata": {
    "collapsed": true
   },
   "outputs": [],
   "source": [
    "# immigrant population percentage\n",
    "df['Tot_NonUSA_POP_pct'] = df['Tot_NonUSA_POP'] / df['Tot_Pop'] * 100\n",
    "\n",
    "# include VRM on competing modes -- split\n",
    "df['VRM_ADJ_COMPETING_BUS']  = df['VRM_ADJ_COMPETING'] * df['RAIL_FLAG']\n",
    "df['VRM_ADJ_COMPETING_RAIL'] = df['VRM_ADJ_COMPETING'] * df['BUS_FLAG']\n",
    "\n",
    "# include VRM on competing modes -- split\n",
    "df['VRM_ADJ_COMPETING_BUS']  = df['VRM_ADJ_COMPETING'] * df['RAIL_FLAG']\n",
    "df['VRM_ADJ_COMPETING_RAIL'] = df['VRM_ADJ_COMPETING'] * df['BUS_FLAG']\n",
    "\n",
    "# flag testing introduction of new rail\n",
    "df['RAIL_COMPETITION'] = np.where(df['VRM_ADJ_COMPETING']>0, 1, 0) * df['BUS_FLAG']\n",
    "\n"
   ]
  },
  {
   "cell_type": "code",
   "execution_count": 18,
   "metadata": {
    "collapsed": true
   },
   "outputs": [],
   "source": [
    "# TNC lags -- bus vs rail\n",
    "df['TNC_FLAG_BUS_LAGGED_1'] = df['TNC_FLAG_LAGGED_1'] * df['BUS_FLAG']\n",
    "df['TNC_FLAG_BUS_LAGGED_2'] = df['TNC_FLAG_LAGGED_2'] * df['BUS_FLAG']\n",
    "df['TNC_FLAG_BUS_LAGGED_3'] = df['TNC_FLAG_LAGGED_3'] * df['BUS_FLAG']\n",
    "\n",
    "df['TNC_FLAG_RAIL_LAGGED_1'] = df['TNC_FLAG_LAGGED_1'] * df['RAIL_FLAG']\n",
    "df['TNC_FLAG_RAIL_LAGGED_2'] = df['TNC_FLAG_LAGGED_2'] * df['RAIL_FLAG']\n",
    "df['TNC_FLAG_RAIL_LAGGED_3'] = df['TNC_FLAG_LAGGED_3'] * df['RAIL_FLAG']\n",
    "\n",
    "# bike share plus scooters for rail\n",
    "df['BIKE_SCOOTER_RAIL'] = df['BIKE_SHARE_RAIL'] + df['scooter_flag_RAIL']\n",
    "\n",
    "# different spec of bike and scooter\n",
    "df['BIKE_SCOOTER_SCOOTER_RAIL'] = df['BIKE_SHARE_RAIL'] + df['scooter_flag_RAIL'] + df['scooter_flag_RAIL']\n",
    "\n",
    "# different spec of bike and scooter\n",
    "df['BIKE_SCOOTER_SCOOTER_RAIL'] = df['BIKE_SHARE_RAIL'] + df['scooter_flag_RAIL'] + df['scooter_flag_RAIL']\n",
    "\n",
    "# merge bike and scooter for bus\n",
    "df['BIKE_SCOOTER_SCOOTER_BUS'] = df['BIKE_SHARE_BUS'] + df['scooter_flag_BUS'] + df['scooter_flag_BUS']\n",
    "\n",
    "# merge bike and scooter for bus\n",
    "df['BIKE_SCOOTER_BUS'] = df['BIKE_SHARE_BUS'] + df['scooter_flag_BUS'] \n",
    "df['BIKE_SCOOTER_RAIL'] = df['BIKE_SHARE_RAIL'] + df['scooter_flag_RAIL'] \n",
    "\n",
    "# scooter or bike\n",
    "df['BIKE_OR_SCOOTER_BUS']  = df['BIKE_SHARE_BUS'] + df['scooter_flag_BUS'] \n",
    "df['BIKE_OR_SCOOTER_BUS']  = df['BIKE_OR_SCOOTER_BUS'].apply(lambda x : min(x, 1))\n",
    "\n",
    "df['BIKE_OR_SCOOTER_RAIL'] = df['BIKE_SHARE_RAIL'] + df['scooter_flag_RAIL'] \n",
    "df['BIKE_OR_SCOOTER_RAIL'] = df['BIKE_OR_SCOOTER_RAIL'].apply(lambda x : min(x, 1))\n",
    "\n",
    "# calculate average vehicles\n",
    "df['AVG_VEHS'] = (df['HH_1Veh'] + 2*df['HH_2Veh'] + 3*df['HH_3Veh'] + 4*df['HH_4+Veh']) / (df['HH_0Veh'] + df['HH_1Veh'] + df['HH_2Veh'] + df['HH_3Veh'] + df['HH_4+Veh'])\n",
    "df['AVG_VEHS_log'] = np.log(1+df['AVG_VEHS'])\n",
    "\n"
   ]
  },
  {
   "cell_type": "code",
   "execution_count": 19,
   "metadata": {
    "collapsed": true
   },
   "outputs": [],
   "source": [
    "# walk bike other commuting\n",
    "df['JTW_WALK_BIKE_OTHER_PCT'] = df['JTW_WALK_PCT'] + df['JTW_BICYCLE_PCT'] + df['JTW_OTHER_PCT']\n",
    "\n",
    "# walk bike commuting\n",
    "df['JTW_WALK_BIKE_PCT'] = df['JTW_WALK_PCT'] + df['JTW_BICYCLE_PCT']\n"
   ]
  },
  {
   "cell_type": "code",
   "execution_count": 32,
   "metadata": {
    "collapsed": true
   },
   "outputs": [],
   "source": [
    "\n",
    "df['VRM_ADJ_BUS_log'] = df['VRM_ADJ_log'] * df['BUS_FLAG']\n",
    "df['VRM_ADJ_RAIL_log'] = df['VRM_ADJ_log'] * df['RAIL_FLAG']"
   ]
  },
  {
   "cell_type": "code",
   "execution_count": 20,
   "metadata": {
    "collapsed": true
   },
   "outputs": [],
   "source": [
    "# percent of HH in transit supportive density\n",
    "df['TSD_POP_PCT'] = df['TSD_POP_PCT'] * 100"
   ]
  },
  {
   "cell_type": "code",
   "execution_count": 21,
   "metadata": {
    "collapsed": true
   },
   "outputs": [],
   "source": [
    "# segment TNCs by cluster\n",
    "df['HI_OPEX']  = np.where(df['CLUSTER_APTA4']==1, 1, 0)\n",
    "df['MID_OPEX'] = np.where(df['CLUSTER_APTA4']==2, 1, 0)\n",
    "df['LOW_OPEX'] = np.where(df['CLUSTER_APTA4']==3, 1, 0)\n",
    "df['NEW_YORK'] = np.where(df['CLUSTER_APTA4']==10, 1, 0)\n",
    "\n",
    "df['YEARS_SINCE_TNC_BUS_HI']  = df['YEARS_SINCE_TNC_BUS'] * df['HI_OPEX']\n",
    "df['YEARS_SINCE_TNC_BUS_MID'] = df['YEARS_SINCE_TNC_BUS'] * df['MID_OPEX']\n",
    "df['YEARS_SINCE_TNC_BUS_LOW'] = df['YEARS_SINCE_TNC_BUS'] * df['LOW_OPEX']\n",
    "df['YEARS_SINCE_TNC_BUS_NY']  = df['YEARS_SINCE_TNC_BUS'] * df['NEW_YORK']\n",
    "\n",
    "df['YEARS_SINCE_TNC_RAIL_HI']  = df['YEARS_SINCE_TNC_RAIL'] * df['HI_OPEX']\n",
    "df['YEARS_SINCE_TNC_RAIL_MID'] = df['YEARS_SINCE_TNC_RAIL'] * df['MID_OPEX']\n",
    "df['YEARS_SINCE_TNC_RAIL_LOW'] = df['YEARS_SINCE_TNC_RAIL'] * df['LOW_OPEX']\n",
    "df['YEARS_SINCE_TNC_RAIL_NY']  = df['YEARS_SINCE_TNC_RAIL'] * df['NEW_YORK']\n",
    "\n",
    "df['YEARS_SINCE_TNC_BUS_HINY']  = df['YEARS_SINCE_TNC_BUS_HI'] + df['YEARS_SINCE_TNC_BUS_NY']\n",
    "df['YEARS_SINCE_TNC_RAIL_HINY']  = df['YEARS_SINCE_TNC_RAIL_HI'] + df['YEARS_SINCE_TNC_RAIL_NY']\n",
    "\n",
    "df['YEARS_SINCE_TNC_BUS_MIDLOW']  = df['YEARS_SINCE_TNC_BUS_MID'] + df['YEARS_SINCE_TNC_BUS_LOW']\n",
    "df['YEARS_SINCE_TNC_RAIL_MIDLOW']  = df['YEARS_SINCE_TNC_RAIL_MID'] + df['YEARS_SINCE_TNC_RAIL_LOW']"
   ]
  },
  {
   "cell_type": "code",
   "execution_count": 22,
   "metadata": {
    "collapsed": true
   },
   "outputs": [],
   "source": [
    "# bikes and scooters by segment\n",
    "\n",
    "df['BIKE_SHARE_HI']  = df['BIKE_SHARE'] * df['HI_OPEX']\n",
    "df['BIKE_SHARE_MID'] = df['BIKE_SHARE'] * df['MID_OPEX']\n",
    "df['BIKE_SHARE_LOW'] = df['BIKE_SHARE'] * df['LOW_OPEX']\n",
    "df['BIKE_SHARE_NY']  = df['BIKE_SHARE'] * df['NEW_YORK']\n",
    "\n",
    "df['scooter_flag_HI']  = df['scooter_flag'] * df['HI_OPEX']\n",
    "df['scooter_flag_MID'] = df['scooter_flag'] * df['MID_OPEX']\n",
    "df['scooter_flag_LOW'] = df['scooter_flag'] * df['LOW_OPEX']\n",
    "df['scooter_flag_NY']  = df['scooter_flag'] * df['NEW_YORK']\n",
    "\n",
    "\n",
    "df['BIKE_SHARE_HINY']  = df['BIKE_SHARE_HI'] + df['BIKE_SHARE_NY']\n",
    "df['BIKE_SHARE_MIDLOW']  = df['BIKE_SHARE_MID'] + df['BIKE_SHARE_LOW']\n",
    "\n",
    "df['scooter_flag_HINY']  = df['scooter_flag_HI'] + df['scooter_flag_NY']\n",
    "df['scooter_flag_MIDLOW']  = df['scooter_flag_MID'] + df['scooter_flag_LOW']"
   ]
  },
  {
   "cell_type": "code",
   "execution_count": 23,
   "metadata": {
    "collapsed": true
   },
   "outputs": [],
   "source": [
    "# set the indices\n",
    "df['ID'] = df['MNAME'] + '-' + df['Mode']\n",
    "df=df.set_index(['ID','Year'])"
   ]
  },
  {
   "cell_type": "code",
   "execution_count": 24,
   "metadata": {
    "collapsed": true
   },
   "outputs": [],
   "source": [
    "# keep only the numeric columns -- the estimation will give an error otherwise\n",
    "df = df.select_dtypes(include=[np.number])"
   ]
  },
  {
   "cell_type": "code",
   "execution_count": 25,
   "metadata": {
    "collapsed": false
   },
   "outputs": [
    {
     "name": "stderr",
     "output_type": "stream",
     "text": [
      "C:\\Program Files\\Anaconda3\\lib\\site-packages\\ipykernel\\__main__.py:3: RuntimeWarning: invalid value encountered in log\n",
      "  app.launch_new_instance()\n",
      "C:\\Program Files\\Anaconda3\\lib\\site-packages\\ipykernel\\__main__.py:3: RuntimeWarning: divide by zero encountered in log\n",
      "  app.launch_new_instance()\n"
     ]
    }
   ],
   "source": [
    "# create a log of all fields\n",
    "for col in df.columns:\n",
    "    df[col+'_log'] = np.log(df[col]+1)\n",
    "    "
   ]
  },
  {
   "cell_type": "markdown",
   "metadata": {},
   "source": [
    "## Model Estimation Tests"
   ]
  },
  {
   "cell_type": "code",
   "execution_count": 26,
   "metadata": {
    "collapsed": false
   },
   "outputs": [
    {
     "name": "stderr",
     "output_type": "stream",
     "text": [
      "C:\\Program Files\\Anaconda3\\lib\\site-packages\\linearmodels\\panel\\data.py:39: FutureWarning: \n",
      "Passing list-likes to .loc or [] with any missing label will raise\n",
      "KeyError in the future, you can use .reindex() as an alternative.\n",
      "\n",
      "See the documentation here:\n",
      "https://pandas.pydata.org/pandas-docs/stable/indexing.html#deprecate-loc-reindex-listlike\n",
      "  new_df = df.copy().loc[self._full_index]\n",
      "C:\\Program Files\\Anaconda3\\lib\\site-packages\\linearmodels\\utility.py:476: MissingValueWarning: \n",
      "Inputs contain missing values. Dropping rows with missing observations.\n",
      "  warnings.warn(missing_value_warning_msg, MissingValueWarning)\n"
     ]
    },
    {
     "name": "stdout",
     "output_type": "stream",
     "text": [
      "                          PanelOLS Estimation Summary                           \n",
      "================================================================================\n",
      "Dep. Variable:            UPT_ADJ_log   R-squared:                        0.6376\n",
      "Estimator:                   PanelOLS   R-squared (Between):              0.9929\n",
      "No. Observations:                3746   R-squared (Within):               0.6376\n",
      "Date:                Tue, Dec 17 2019   R-squared (Overall):              0.9928\n",
      "Time:                        11:37:22   Log-likelihood                    1955.6\n",
      "Cov. Estimator:            Unadjusted                                           \n",
      "                                        F-statistic:                      510.46\n",
      "Entities:                         252   P-value                           0.0000\n",
      "Avg Obs:                       14.865   Distribution:                 F(12,3482)\n",
      "Min Obs:                       1.0000                                           \n",
      "Max Obs:                       17.000   F-statistic (robust):             510.46\n",
      "                                        P-value                           0.0000\n",
      "Time periods:                      17   Distribution:                 F(12,3482)\n",
      "Avg Obs:                       220.35                                           \n",
      "Min Obs:                       144.00                                           \n",
      "Max Obs:                       249.00                                           \n",
      "                                                                                \n",
      "                                      Parameter Estimates                                       \n",
      "================================================================================================\n",
      "                              Parameter  Std. Err.     T-stat    P-value    Lower CI    Upper CI\n",
      "------------------------------------------------------------------------------------------------\n",
      "VRM_ADJ_log                      0.7791     0.0122     63.886     0.0000      0.7552      0.8030\n",
      "FARE_per_UPT_2018_log           -0.3624     0.0227    -15.947     0.0000     -0.4069     -0.3178\n",
      "POP_EMP_log                      0.3671     0.0485     7.5630     0.0000      0.2720      0.4623\n",
      "GAS_PRICE_2018_log               0.2283     0.0217     10.527     0.0000      0.1857      0.2708\n",
      "TOTAL_MED_INC_INDIV_2018_log    -0.2584     0.0460    -5.6228     0.0000     -0.3485     -0.1683\n",
      "PCT_HH_NO_VEH                    0.0058     0.0027     2.1539     0.0313      0.0005      0.0110\n",
      "TSD_POP_PCT                      0.0073     0.0013     5.5325     0.0000      0.0047      0.0098\n",
      "JTW_HOME_PCT                    -0.0138     0.0034    -4.0810     0.0000     -0.0205     -0.0072\n",
      "YEARS_SINCE_TNC_BUS             -0.0171     0.0035    -4.9239     0.0000     -0.0238     -0.0103\n",
      "YEARS_SINCE_TNC_RAIL            -0.0099     0.0047    -2.0819     0.0374     -0.0191     -0.0006\n",
      "BIKE_SHARE                    2.166e-05     0.0108     0.0020     0.9984     -0.0212      0.0212\n",
      "scooter_flag                    -0.0369     0.0219    -1.6833     0.0924     -0.0800      0.0061\n",
      "================================================================================================\n",
      "\n",
      "F-test for Poolability: 121.50\n",
      "P-value: 0.0000\n",
      "Distribution: F(251,3482)\n",
      "\n",
      "Included effects: Entity\n"
     ]
    }
   ],
   "source": [
    "# base model\n",
    "\n",
    "mod=PanelOLS.from_formula('UPT_ADJ_log \\\n",
    "                    ~ VRM_ADJ_log \\\n",
    "                    + FARE_per_UPT_2018_log \\\n",
    "                    + POP_EMP_log \\\n",
    "                    + GAS_PRICE_2018_log \\\n",
    "                    + TOTAL_MED_INC_INDIV_2018_log \\\n",
    "                    + PCT_HH_NO_VEH \\\n",
    "                    + TSD_POP_PCT \\\n",
    "                    + JTW_HOME_PCT \\\n",
    "                    + YEARS_SINCE_TNC_BUS \\\n",
    "                    + YEARS_SINCE_TNC_RAIL \\\n",
    "                    + BIKE_SHARE \\\n",
    "                    + scooter_flag \\\n",
    "                    + EntityEffects \\\n",
    "                    ',data=df)\n",
    "res=mod.fit()\n",
    "print(res)"
   ]
  },
  {
   "cell_type": "code",
   "execution_count": 27,
   "metadata": {
    "collapsed": false
   },
   "outputs": [
    {
     "name": "stdout",
     "output_type": "stream",
     "text": [
      "                          PanelOLS Estimation Summary                           \n",
      "================================================================================\n",
      "Dep. Variable:            UPT_ADJ_log   R-squared:                        0.6868\n",
      "Estimator:                   PanelOLS   R-squared (Between):             -0.6437\n",
      "No. Observations:                 579   R-squared (Within):               0.6868\n",
      "Date:                Tue, Dec 17 2019   R-squared (Overall):             -0.6303\n",
      "Time:                        11:38:13   Log-likelihood                    473.04\n",
      "Cov. Estimator:            Unadjusted                                           \n",
      "                                        F-statistic:                      96.844\n",
      "Entities:                          37   P-value                           0.0000\n",
      "Avg Obs:                       15.649   Distribution:                  F(12,530)\n",
      "Min Obs:                       2.0000                                           \n",
      "Max Obs:                       17.000   F-statistic (robust):             96.844\n",
      "                                        P-value                           0.0000\n",
      "Time periods:                      17   Distribution:                  F(12,530)\n",
      "Avg Obs:                       34.059                                           \n",
      "Min Obs:                       29.000                                           \n",
      "Max Obs:                       36.000                                           \n",
      "                                                                                \n",
      "                                      Parameter Estimates                                       \n",
      "================================================================================================\n",
      "                              Parameter  Std. Err.     T-stat    P-value    Lower CI    Upper CI\n",
      "------------------------------------------------------------------------------------------------\n",
      "VRM_ADJ_log                      0.5407     0.0262     20.666     0.0000      0.4893      0.5921\n",
      "FARE_per_UPT_2018_log           -0.7513     0.0644    -11.672     0.0000     -0.8778     -0.6249\n",
      "POP_EMP_log                     -0.6337     0.1745    -3.6323     0.0003     -0.9765     -0.2910\n",
      "GAS_PRICE_2018_log               0.1404     0.0485     2.8930     0.0040      0.0451      0.2358\n",
      "TOTAL_MED_INC_INDIV_2018_log    -0.3804     0.1371    -2.7754     0.0057     -0.6497     -0.1112\n",
      "PCT_HH_NO_VEH                    0.0057     0.0117     0.4881     0.6256     -0.0172      0.0286\n",
      "TSD_POP_PCT                     -0.0035     0.0024    -1.4426     0.1497     -0.0082      0.0013\n",
      "JTW_HOME_PCT                     0.0303     0.0131     2.3083     0.0214      0.0045      0.0562\n",
      "YEARS_SINCE_TNC_BUS             -0.0089     0.0058    -1.5346     0.1255     -0.0203      0.0025\n",
      "YEARS_SINCE_TNC_RAIL             0.0190     0.0055     3.4349     0.0006      0.0082      0.0299\n",
      "BIKE_SHARE                       0.0229     0.0179     1.2794     0.2013     -0.0123      0.0581\n",
      "scooter_flag                    -0.0589     0.0278    -2.1222     0.0343     -0.1135     -0.0044\n",
      "================================================================================================\n",
      "\n",
      "F-test for Poolability: 66.135\n",
      "P-value: 0.0000\n",
      "Distribution: F(36,530)\n",
      "\n",
      "Included effects: Entity\n"
     ]
    },
    {
     "name": "stderr",
     "output_type": "stream",
     "text": [
      "C:\\Program Files\\Anaconda3\\lib\\site-packages\\linearmodels\\panel\\data.py:39: FutureWarning: \n",
      "Passing list-likes to .loc or [] with any missing label will raise\n",
      "KeyError in the future, you can use .reindex() as an alternative.\n",
      "\n",
      "See the documentation here:\n",
      "https://pandas.pydata.org/pandas-docs/stable/indexing.html#deprecate-loc-reindex-listlike\n",
      "  new_df = df.copy().loc[self._full_index]\n",
      "C:\\Program Files\\Anaconda3\\lib\\site-packages\\linearmodels\\utility.py:476: MissingValueWarning: \n",
      "Inputs contain missing values. Dropping rows with missing observations.\n",
      "  warnings.warn(missing_value_warning_msg, MissingValueWarning)\n"
     ]
    }
   ],
   "source": [
    "# High op-ex + NY\n",
    "df2 = df[(df['CLUSTER_APTA4']==1) | (df['CLUSTER_APTA4']==10)]\n",
    "\n",
    "mod=PanelOLS.from_formula('UPT_ADJ_log \\\n",
    "                    ~ VRM_ADJ_log \\\n",
    "                    + FARE_per_UPT_2018_log \\\n",
    "                    + POP_EMP_log \\\n",
    "                    + GAS_PRICE_2018_log \\\n",
    "                    + TOTAL_MED_INC_INDIV_2018_log \\\n",
    "                    + PCT_HH_NO_VEH \\\n",
    "                    + TSD_POP_PCT \\\n",
    "                    + JTW_HOME_PCT \\\n",
    "                    + YEARS_SINCE_TNC_BUS \\\n",
    "                    + YEARS_SINCE_TNC_RAIL \\\n",
    "                    + BIKE_SHARE \\\n",
    "                    + scooter_flag \\\n",
    "                    + EntityEffects \\\n",
    "                    ',data=df2)\n",
    "res=mod.fit()\n",
    "print(res)"
   ]
  },
  {
   "cell_type": "code",
   "execution_count": 28,
   "metadata": {
    "collapsed": false
   },
   "outputs": [
    {
     "name": "stdout",
     "output_type": "stream",
     "text": [
      "                          PanelOLS Estimation Summary                           \n",
      "================================================================================\n",
      "Dep. Variable:            UPT_ADJ_log   R-squared:                        0.6551\n",
      "Estimator:                   PanelOLS   R-squared (Between):              0.9928\n",
      "No. Observations:                1188   R-squared (Within):               0.6551\n",
      "Date:                Tue, Dec 17 2019   R-squared (Overall):              0.9929\n",
      "Time:                        11:38:44   Log-likelihood                    796.47\n",
      "Cov. Estimator:            Unadjusted                                           \n",
      "                                        F-statistic:                      173.79\n",
      "Entities:                          78   P-value                           0.0000\n",
      "Avg Obs:                       15.231   Distribution:                 F(12,1098)\n",
      "Min Obs:                       4.0000                                           \n",
      "Max Obs:                       17.000   F-statistic (robust):             173.79\n",
      "                                        P-value                           0.0000\n",
      "Time periods:                      17   Distribution:                 F(12,1098)\n",
      "Avg Obs:                       69.882                                           \n",
      "Min Obs:                       56.000                                           \n",
      "Max Obs:                       77.000                                           \n",
      "                                                                                \n",
      "                                      Parameter Estimates                                       \n",
      "================================================================================================\n",
      "                              Parameter  Std. Err.     T-stat    P-value    Lower CI    Upper CI\n",
      "------------------------------------------------------------------------------------------------\n",
      "VRM_ADJ_log                      0.7606     0.0211     36.012     0.0000      0.7192      0.8021\n",
      "FARE_per_UPT_2018_log           -0.4782     0.0389    -12.305     0.0000     -0.5545     -0.4020\n",
      "POP_EMP_log                      0.4810     0.1010     4.7638     0.0000      0.2829      0.6792\n",
      "GAS_PRICE_2018_log               0.1851     0.0363     5.1035     0.0000      0.1140      0.2563\n",
      "TOTAL_MED_INC_INDIV_2018_log    -0.1195     0.0775    -1.5421     0.1233     -0.2715      0.0325\n",
      "PCT_HH_NO_VEH                    0.0015     0.0049     0.3063     0.7594     -0.0081      0.0111\n",
      "TSD_POP_PCT                      0.0030     0.0022     1.3752     0.1693     -0.0013      0.0072\n",
      "JTW_HOME_PCT                     0.0010     0.0069     0.1418     0.8873     -0.0125      0.0145\n",
      "YEARS_SINCE_TNC_BUS             -0.0370     0.0060    -6.1240     0.0000     -0.0489     -0.0252\n",
      "YEARS_SINCE_TNC_RAIL            -0.0564     0.0087    -6.4872     0.0000     -0.0735     -0.0394\n",
      "BIKE_SHARE                       0.0047     0.0158     0.2965     0.7669     -0.0263      0.0356\n",
      "scooter_flag                    -0.0289     0.0306    -0.9457     0.3445     -0.0890      0.0311\n",
      "================================================================================================\n",
      "\n",
      "F-test for Poolability: 85.377\n",
      "P-value: 0.0000\n",
      "Distribution: F(77,1098)\n",
      "\n",
      "Included effects: Entity\n"
     ]
    },
    {
     "name": "stderr",
     "output_type": "stream",
     "text": [
      "C:\\Program Files\\Anaconda3\\lib\\site-packages\\linearmodels\\panel\\data.py:39: FutureWarning: \n",
      "Passing list-likes to .loc or [] with any missing label will raise\n",
      "KeyError in the future, you can use .reindex() as an alternative.\n",
      "\n",
      "See the documentation here:\n",
      "https://pandas.pydata.org/pandas-docs/stable/indexing.html#deprecate-loc-reindex-listlike\n",
      "  new_df = df.copy().loc[self._full_index]\n",
      "C:\\Program Files\\Anaconda3\\lib\\site-packages\\linearmodels\\utility.py:476: MissingValueWarning: \n",
      "Inputs contain missing values. Dropping rows with missing observations.\n",
      "  warnings.warn(missing_value_warning_msg, MissingValueWarning)\n"
     ]
    }
   ],
   "source": [
    "# Mid op-ex \n",
    "df2 = df[(df['CLUSTER_APTA4']==2)]\n",
    "\n",
    "mod=PanelOLS.from_formula('UPT_ADJ_log \\\n",
    "                    ~ VRM_ADJ_log \\\n",
    "                    + FARE_per_UPT_2018_log \\\n",
    "                    + POP_EMP_log \\\n",
    "                    + GAS_PRICE_2018_log \\\n",
    "                    + TOTAL_MED_INC_INDIV_2018_log \\\n",
    "                    + PCT_HH_NO_VEH \\\n",
    "                    + TSD_POP_PCT \\\n",
    "                    + JTW_HOME_PCT \\\n",
    "                    + YEARS_SINCE_TNC_BUS \\\n",
    "                    + YEARS_SINCE_TNC_RAIL \\\n",
    "                    + BIKE_SHARE \\\n",
    "                    + scooter_flag \\\n",
    "                    + EntityEffects \\\n",
    "                    ',data=df2)\n",
    "res=mod.fit()\n",
    "print(res)"
   ]
  },
  {
   "cell_type": "code",
   "execution_count": 30,
   "metadata": {
    "collapsed": false
   },
   "outputs": [
    {
     "name": "stdout",
     "output_type": "stream",
     "text": [
      "                          PanelOLS Estimation Summary                           \n",
      "================================================================================\n",
      "Dep. Variable:            UPT_ADJ_log   R-squared:                        0.6498\n",
      "Estimator:                   PanelOLS   R-squared (Between):              0.9986\n",
      "No. Observations:                1979   R-squared (Within):               0.6498\n",
      "Date:                Tue, Dec 17 2019   R-squared (Overall):              0.9986\n",
      "Time:                        11:39:10   Log-likelihood                    857.17\n",
      "Cov. Estimator:            Unadjusted                                           \n",
      "                                        F-statistic:                      308.88\n",
      "Entities:                         137   P-value                           0.0000\n",
      "Avg Obs:                       14.445   Distribution:                 F(11,1831)\n",
      "Min Obs:                       1.0000                                           \n",
      "Max Obs:                       17.000   F-statistic (robust):             308.88\n",
      "                                        P-value                           0.0000\n",
      "Time periods:                      17   Distribution:                 F(11,1831)\n",
      "Avg Obs:                       116.41                                           \n",
      "Min Obs:                       59.000                                           \n",
      "Max Obs:                       136.00                                           \n",
      "                                                                                \n",
      "                                      Parameter Estimates                                       \n",
      "================================================================================================\n",
      "                              Parameter  Std. Err.     T-stat    P-value    Lower CI    Upper CI\n",
      "------------------------------------------------------------------------------------------------\n",
      "VRM_ADJ_log                      0.8356     0.0174     48.149     0.0000      0.8016      0.8697\n",
      "FARE_per_UPT_2018_log           -0.2940     0.0307    -9.5647     0.0000     -0.3543     -0.2337\n",
      "POP_EMP_log                      0.3978     0.0623     6.3810     0.0000      0.2755      0.5201\n",
      "GAS_PRICE_2018_log               0.2479     0.0308     8.0587     0.0000      0.1876      0.3082\n",
      "TOTAL_MED_INC_INDIV_2018_log    -0.2805     0.0623    -4.5033     0.0000     -0.4027     -0.1584\n",
      "PCT_HH_NO_VEH                    0.0057     0.0034     1.6731     0.0945     -0.0010      0.0124\n",
      "TSD_POP_PCT                      0.0137     0.0026     5.3315     0.0000      0.0086      0.0187\n",
      "JTW_HOME_PCT                    -0.0174     0.0043    -4.0863     0.0000     -0.0258     -0.0091\n",
      "YEARS_SINCE_TNC_BUS             -0.0179     0.0055    -3.2818     0.0011     -0.0287     -0.0072\n",
      "BIKE_SHARE                       0.0095     0.0188     0.5039     0.6144     -0.0274      0.0463\n",
      "scooter_flag                     0.0150     0.0554     0.2703     0.7869     -0.0936      0.1236\n",
      "================================================================================================\n",
      "\n",
      "F-test for Poolability: 99.878\n",
      "P-value: 0.0000\n",
      "Distribution: F(136,1831)\n",
      "\n",
      "Included effects: Entity\n"
     ]
    },
    {
     "name": "stderr",
     "output_type": "stream",
     "text": [
      "C:\\Program Files\\Anaconda3\\lib\\site-packages\\linearmodels\\panel\\data.py:39: FutureWarning: \n",
      "Passing list-likes to .loc or [] with any missing label will raise\n",
      "KeyError in the future, you can use .reindex() as an alternative.\n",
      "\n",
      "See the documentation here:\n",
      "https://pandas.pydata.org/pandas-docs/stable/indexing.html#deprecate-loc-reindex-listlike\n",
      "  new_df = df.copy().loc[self._full_index]\n",
      "C:\\Program Files\\Anaconda3\\lib\\site-packages\\linearmodels\\utility.py:476: MissingValueWarning: \n",
      "Inputs contain missing values. Dropping rows with missing observations.\n",
      "  warnings.warn(missing_value_warning_msg, MissingValueWarning)\n"
     ]
    }
   ],
   "source": [
    "# low op-ex\n",
    "\n",
    "df2 = df[(df['CLUSTER_APTA4']==3)]\n",
    "\n",
    "mod=PanelOLS.from_formula('UPT_ADJ_log \\\n",
    "                    ~ VRM_ADJ_log \\\n",
    "                    + FARE_per_UPT_2018_log \\\n",
    "                    + POP_EMP_log \\\n",
    "                    + GAS_PRICE_2018_log \\\n",
    "                    + TOTAL_MED_INC_INDIV_2018_log \\\n",
    "                    + PCT_HH_NO_VEH \\\n",
    "                    + TSD_POP_PCT \\\n",
    "                    + JTW_HOME_PCT \\\n",
    "                    + YEARS_SINCE_TNC_BUS \\\n",
    "                    + BIKE_SHARE \\\n",
    "                    + scooter_flag \\\n",
    "                    + EntityEffects \\\n",
    "                    ',data=df2)\n",
    "res=mod.fit()\n",
    "print(res)"
   ]
  },
  {
   "cell_type": "markdown",
   "metadata": {},
   "source": [
    "## with bus vs rail VRM"
   ]
  },
  {
   "cell_type": "code",
   "execution_count": 33,
   "metadata": {
    "collapsed": false
   },
   "outputs": [
    {
     "name": "stderr",
     "output_type": "stream",
     "text": [
      "C:\\Program Files\\Anaconda3\\lib\\site-packages\\linearmodels\\panel\\data.py:39: FutureWarning: \n",
      "Passing list-likes to .loc or [] with any missing label will raise\n",
      "KeyError in the future, you can use .reindex() as an alternative.\n",
      "\n",
      "See the documentation here:\n",
      "https://pandas.pydata.org/pandas-docs/stable/indexing.html#deprecate-loc-reindex-listlike\n",
      "  new_df = df.copy().loc[self._full_index]\n",
      "C:\\Program Files\\Anaconda3\\lib\\site-packages\\linearmodels\\utility.py:476: MissingValueWarning: \n",
      "Inputs contain missing values. Dropping rows with missing observations.\n",
      "  warnings.warn(missing_value_warning_msg, MissingValueWarning)\n"
     ]
    },
    {
     "name": "stdout",
     "output_type": "stream",
     "text": [
      "                          PanelOLS Estimation Summary                           \n",
      "================================================================================\n",
      "Dep. Variable:            UPT_ADJ_log   R-squared:                        0.6566\n",
      "Estimator:                   PanelOLS   R-squared (Between):              0.9742\n",
      "No. Observations:                3746   R-squared (Within):               0.6566\n",
      "Date:                Tue, Dec 17 2019   R-squared (Overall):              0.9759\n",
      "Time:                        11:52:16   Log-likelihood                    2056.8\n",
      "Cov. Estimator:            Unadjusted                                           \n",
      "                                        F-statistic:                      512.10\n",
      "Entities:                         252   P-value                           0.0000\n",
      "Avg Obs:                       14.865   Distribution:                 F(13,3481)\n",
      "Min Obs:                       1.0000                                           \n",
      "Max Obs:                       17.000   F-statistic (robust):             512.10\n",
      "                                        P-value                           0.0000\n",
      "Time periods:                      17   Distribution:                 F(13,3481)\n",
      "Avg Obs:                       220.35                                           \n",
      "Min Obs:                       144.00                                           \n",
      "Max Obs:                       249.00                                           \n",
      "                                                                                \n",
      "                                      Parameter Estimates                                       \n",
      "================================================================================================\n",
      "                              Parameter  Std. Err.     T-stat    P-value    Lower CI    Upper CI\n",
      "------------------------------------------------------------------------------------------------\n",
      "VRM_ADJ_BUS_log                  0.8694     0.0135     64.251     0.0000      0.8428      0.8959\n",
      "VRM_ADJ_RAIL_log                 0.5018     0.0232     21.626     0.0000      0.4563      0.5473\n",
      "FARE_per_UPT_2018_log           -0.3591     0.0221    -16.232     0.0000     -0.4025     -0.3157\n",
      "POP_EMP_log                      0.3097     0.0474     6.5281     0.0000      0.2167      0.4027\n",
      "GAS_PRICE_2018_log               0.2216     0.0211     10.497     0.0000      0.1802      0.2630\n",
      "TOTAL_MED_INC_INDIV_2018_log    -0.2413     0.0448    -5.3911     0.0000     -0.3290     -0.1535\n",
      "PCT_HH_NO_VEH                    0.0055     0.0026     2.0940     0.0363      0.0003      0.0106\n",
      "TSD_POP_PCT                      0.0049     0.0013     3.7768     0.0002      0.0023      0.0074\n",
      "JTW_HOME_PCT                    -0.0142     0.0033    -4.3107     0.0000     -0.0207     -0.0078\n",
      "YEARS_SINCE_TNC_BUS             -0.0211     0.0034    -6.2458     0.0000     -0.0278     -0.0145\n",
      "YEARS_SINCE_TNC_RAIL             0.0083     0.0048     1.7242     0.0848     -0.0011      0.0177\n",
      "BIKE_SHARE                       0.0077     0.0105     0.7310     0.4648     -0.0130      0.0284\n",
      "scooter_flag                    -0.0370     0.0214    -1.7311     0.0835     -0.0789      0.0049\n",
      "================================================================================================\n",
      "\n",
      "F-test for Poolability: 118.70\n",
      "P-value: 0.0000\n",
      "Distribution: F(251,3481)\n",
      "\n",
      "Included effects: Entity\n"
     ]
    }
   ],
   "source": [
    "# base model\n",
    "\n",
    "mod=PanelOLS.from_formula('UPT_ADJ_log \\\n",
    "                    ~ VRM_ADJ_BUS_log \\\n",
    "                    + VRM_ADJ_RAIL_log \\\n",
    "                    + FARE_per_UPT_2018_log \\\n",
    "                    + POP_EMP_log \\\n",
    "                    + GAS_PRICE_2018_log \\\n",
    "                    + TOTAL_MED_INC_INDIV_2018_log \\\n",
    "                    + PCT_HH_NO_VEH \\\n",
    "                    + TSD_POP_PCT \\\n",
    "                    + JTW_HOME_PCT \\\n",
    "                    + YEARS_SINCE_TNC_BUS \\\n",
    "                    + YEARS_SINCE_TNC_RAIL \\\n",
    "                    + BIKE_SHARE \\\n",
    "                    + scooter_flag \\\n",
    "                    + EntityEffects \\\n",
    "                    ',data=df)\n",
    "res=mod.fit()\n",
    "print(res)"
   ]
  },
  {
   "cell_type": "code",
   "execution_count": 34,
   "metadata": {
    "collapsed": false
   },
   "outputs": [
    {
     "name": "stdout",
     "output_type": "stream",
     "text": [
      "                          PanelOLS Estimation Summary                           \n",
      "================================================================================\n",
      "Dep. Variable:            UPT_ADJ_log   R-squared:                        0.6880\n",
      "Estimator:                   PanelOLS   R-squared (Between):             -0.7545\n",
      "No. Observations:                 579   R-squared (Within):               0.6880\n",
      "Date:                Tue, Dec 17 2019   R-squared (Overall):             -0.7484\n",
      "Time:                        11:52:36   Log-likelihood                    474.18\n",
      "Cov. Estimator:            Unadjusted                                           \n",
      "                                        F-statistic:                      89.736\n",
      "Entities:                          37   P-value                           0.0000\n",
      "Avg Obs:                       15.649   Distribution:                  F(13,529)\n",
      "Min Obs:                       2.0000                                           \n",
      "Max Obs:                       17.000   F-statistic (robust):             89.736\n",
      "                                        P-value                           0.0000\n",
      "Time periods:                      17   Distribution:                  F(13,529)\n",
      "Avg Obs:                       34.059                                           \n",
      "Min Obs:                       29.000                                           \n",
      "Max Obs:                       36.000                                           \n",
      "                                                                                \n",
      "                                      Parameter Estimates                                       \n",
      "================================================================================================\n",
      "                              Parameter  Std. Err.     T-stat    P-value    Lower CI    Upper CI\n",
      "------------------------------------------------------------------------------------------------\n",
      "VRM_ADJ_BUS_log                  0.4242     0.0849     4.9944     0.0000      0.2574      0.5911\n",
      "VRM_ADJ_RAIL_log                 0.5494     0.0268     20.480     0.0000      0.4967      0.6021\n",
      "FARE_per_UPT_2018_log           -0.7591     0.0645    -11.763     0.0000     -0.8858     -0.6323\n",
      "POP_EMP_log                     -0.6063     0.1753    -3.4580     0.0006     -0.9507     -0.2619\n",
      "GAS_PRICE_2018_log               0.1349     0.0486     2.7724     0.0058      0.0393      0.2304\n",
      "TOTAL_MED_INC_INDIV_2018_log    -0.4007     0.1376    -2.9108     0.0038     -0.6711     -0.1303\n",
      "PCT_HH_NO_VEH                    0.0029     0.0118     0.2424     0.8085     -0.0203      0.0261\n",
      "TSD_POP_PCT                     -0.0032     0.0024    -1.3368     0.1819     -0.0079      0.0015\n",
      "JTW_HOME_PCT                     0.0281     0.0132     2.1211     0.0344      0.0021      0.0540\n",
      "YEARS_SINCE_TNC_BUS             -0.0080     0.0058    -1.3754     0.1696     -0.0194      0.0034\n",
      "YEARS_SINCE_TNC_RAIL             0.0182     0.0056     3.2627     0.0012      0.0072      0.0291\n",
      "BIKE_SHARE                       0.0241     0.0179     1.3447     0.1793     -0.0111      0.0593\n",
      "scooter_flag                    -0.0575     0.0278    -2.0702     0.0389     -0.1120     -0.0029\n",
      "================================================================================================\n",
      "\n",
      "F-test for Poolability: 58.805\n",
      "P-value: 0.0000\n",
      "Distribution: F(36,529)\n",
      "\n",
      "Included effects: Entity\n"
     ]
    },
    {
     "name": "stderr",
     "output_type": "stream",
     "text": [
      "C:\\Program Files\\Anaconda3\\lib\\site-packages\\linearmodels\\panel\\data.py:39: FutureWarning: \n",
      "Passing list-likes to .loc or [] with any missing label will raise\n",
      "KeyError in the future, you can use .reindex() as an alternative.\n",
      "\n",
      "See the documentation here:\n",
      "https://pandas.pydata.org/pandas-docs/stable/indexing.html#deprecate-loc-reindex-listlike\n",
      "  new_df = df.copy().loc[self._full_index]\n",
      "C:\\Program Files\\Anaconda3\\lib\\site-packages\\linearmodels\\utility.py:476: MissingValueWarning: \n",
      "Inputs contain missing values. Dropping rows with missing observations.\n",
      "  warnings.warn(missing_value_warning_msg, MissingValueWarning)\n"
     ]
    }
   ],
   "source": [
    "# High op-ex + NY\n",
    "df2 = df[(df['CLUSTER_APTA4']==1) | (df['CLUSTER_APTA4']==10)]\n",
    "\n",
    "mod=PanelOLS.from_formula('UPT_ADJ_log \\\n",
    "                    ~ VRM_ADJ_BUS_log \\\n",
    "                    + VRM_ADJ_RAIL_log \\\n",
    "                    + FARE_per_UPT_2018_log \\\n",
    "                    + POP_EMP_log \\\n",
    "                    + GAS_PRICE_2018_log \\\n",
    "                    + TOTAL_MED_INC_INDIV_2018_log \\\n",
    "                    + PCT_HH_NO_VEH \\\n",
    "                    + TSD_POP_PCT \\\n",
    "                    + JTW_HOME_PCT \\\n",
    "                    + YEARS_SINCE_TNC_BUS \\\n",
    "                    + YEARS_SINCE_TNC_RAIL \\\n",
    "                    + BIKE_SHARE \\\n",
    "                    + scooter_flag \\\n",
    "                    + EntityEffects \\\n",
    "                    ',data=df2)\n",
    "res=mod.fit()\n",
    "print(res)"
   ]
  },
  {
   "cell_type": "code",
   "execution_count": 35,
   "metadata": {
    "collapsed": false
   },
   "outputs": [
    {
     "name": "stdout",
     "output_type": "stream",
     "text": [
      "                          PanelOLS Estimation Summary                           \n",
      "================================================================================\n",
      "Dep. Variable:            UPT_ADJ_log   R-squared:                        0.7347\n",
      "Estimator:                   PanelOLS   R-squared (Between):              0.9380\n",
      "No. Observations:                1188   R-squared (Within):               0.7347\n",
      "Date:                Tue, Dec 17 2019   R-squared (Overall):              0.9430\n",
      "Time:                        11:53:12   Log-likelihood                    952.39\n",
      "Cov. Estimator:            Unadjusted                                           \n",
      "                                        F-statistic:                      233.72\n",
      "Entities:                          78   P-value                           0.0000\n",
      "Avg Obs:                       15.231   Distribution:                 F(13,1097)\n",
      "Min Obs:                       4.0000                                           \n",
      "Max Obs:                       17.000   F-statistic (robust):             233.72\n",
      "                                        P-value                           0.0000\n",
      "Time periods:                      17   Distribution:                 F(13,1097)\n",
      "Avg Obs:                       69.882                                           \n",
      "Min Obs:                       56.000                                           \n",
      "Max Obs:                       77.000                                           \n",
      "                                                                                \n",
      "                                      Parameter Estimates                                       \n",
      "================================================================================================\n",
      "                              Parameter  Std. Err.     T-stat    P-value    Lower CI    Upper CI\n",
      "------------------------------------------------------------------------------------------------\n",
      "VRM_ADJ_BUS_log                  1.0436     0.0242     43.090     0.0000      0.9960      1.0911\n",
      "VRM_ADJ_RAIL_log                 0.3970     0.0273     14.545     0.0000      0.3435      0.4506\n",
      "FARE_per_UPT_2018_log           -0.4143     0.0343    -12.085     0.0000     -0.4815     -0.3470\n",
      "POP_EMP_log                      0.3138     0.0891     3.5226     0.0004      0.1390      0.4886\n",
      "GAS_PRICE_2018_log               0.2039     0.0318     6.4020     0.0000      0.1414      0.2664\n",
      "TOTAL_MED_INC_INDIV_2018_log    -0.1355     0.0680    -1.9942     0.0464     -0.2689     -0.0022\n",
      "PCT_HH_NO_VEH                    0.0008     0.0043     0.1916     0.8481     -0.0076      0.0093\n",
      "TSD_POP_PCT                      0.0013     0.0019     0.6884     0.4913     -0.0024      0.0050\n",
      "JTW_HOME_PCT                    -0.0014     0.0060    -0.2375     0.8123     -0.0133      0.0104\n",
      "YEARS_SINCE_TNC_BUS             -0.0400     0.0053    -7.5419     0.0000     -0.0504     -0.0296\n",
      "YEARS_SINCE_TNC_RAIL            -0.0156     0.0080    -1.9570     0.0506     -0.0312   4.109e-05\n",
      "BIKE_SHARE                       0.0119     0.0138     0.8595     0.3903     -0.0153      0.0390\n",
      "scooter_flag                    -0.0268     0.0268    -0.9988     0.3181     -0.0795      0.0259\n",
      "================================================================================================\n",
      "\n",
      "F-test for Poolability: 106.88\n",
      "P-value: 0.0000\n",
      "Distribution: F(77,1097)\n",
      "\n",
      "Included effects: Entity\n"
     ]
    },
    {
     "name": "stderr",
     "output_type": "stream",
     "text": [
      "C:\\Program Files\\Anaconda3\\lib\\site-packages\\linearmodels\\panel\\data.py:39: FutureWarning: \n",
      "Passing list-likes to .loc or [] with any missing label will raise\n",
      "KeyError in the future, you can use .reindex() as an alternative.\n",
      "\n",
      "See the documentation here:\n",
      "https://pandas.pydata.org/pandas-docs/stable/indexing.html#deprecate-loc-reindex-listlike\n",
      "  new_df = df.copy().loc[self._full_index]\n",
      "C:\\Program Files\\Anaconda3\\lib\\site-packages\\linearmodels\\utility.py:476: MissingValueWarning: \n",
      "Inputs contain missing values. Dropping rows with missing observations.\n",
      "  warnings.warn(missing_value_warning_msg, MissingValueWarning)\n"
     ]
    }
   ],
   "source": [
    "# Mid op-ex \n",
    "df2 = df[(df['CLUSTER_APTA4']==2)]\n",
    "\n",
    "mod=PanelOLS.from_formula('UPT_ADJ_log \\\n",
    "                    ~ VRM_ADJ_BUS_log \\\n",
    "                    + VRM_ADJ_RAIL_log \\\n",
    "                    + FARE_per_UPT_2018_log \\\n",
    "                    + POP_EMP_log \\\n",
    "                    + GAS_PRICE_2018_log \\\n",
    "                    + TOTAL_MED_INC_INDIV_2018_log \\\n",
    "                    + PCT_HH_NO_VEH \\\n",
    "                    + TSD_POP_PCT \\\n",
    "                    + JTW_HOME_PCT \\\n",
    "                    + YEARS_SINCE_TNC_BUS \\\n",
    "                    + YEARS_SINCE_TNC_RAIL \\\n",
    "                    + BIKE_SHARE \\\n",
    "                    + scooter_flag \\\n",
    "                    + EntityEffects \\\n",
    "                    ',data=df2)\n",
    "res=mod.fit()\n",
    "print(res)"
   ]
  },
  {
   "cell_type": "code",
   "execution_count": 37,
   "metadata": {
    "collapsed": false
   },
   "outputs": [
    {
     "name": "stdout",
     "output_type": "stream",
     "text": [
      "                          PanelOLS Estimation Summary                           \n",
      "================================================================================\n",
      "Dep. Variable:            UPT_ADJ_log   R-squared:                        0.6498\n",
      "Estimator:                   PanelOLS   R-squared (Between):              0.9986\n",
      "No. Observations:                1979   R-squared (Within):               0.6498\n",
      "Date:                Tue, Dec 17 2019   R-squared (Overall):              0.9986\n",
      "Time:                        11:53:48   Log-likelihood                    857.17\n",
      "Cov. Estimator:            Unadjusted                                           \n",
      "                                        F-statistic:                      308.88\n",
      "Entities:                         137   P-value                           0.0000\n",
      "Avg Obs:                       14.445   Distribution:                 F(11,1831)\n",
      "Min Obs:                       1.0000                                           \n",
      "Max Obs:                       17.000   F-statistic (robust):             308.88\n",
      "                                        P-value                           0.0000\n",
      "Time periods:                      17   Distribution:                 F(11,1831)\n",
      "Avg Obs:                       116.41                                           \n",
      "Min Obs:                       59.000                                           \n",
      "Max Obs:                       136.00                                           \n",
      "                                                                                \n",
      "                                      Parameter Estimates                                       \n",
      "================================================================================================\n",
      "                              Parameter  Std. Err.     T-stat    P-value    Lower CI    Upper CI\n",
      "------------------------------------------------------------------------------------------------\n",
      "VRM_ADJ_BUS_log                  0.8356     0.0174     48.149     0.0000      0.8016      0.8697\n",
      "FARE_per_UPT_2018_log           -0.2940     0.0307    -9.5647     0.0000     -0.3543     -0.2337\n",
      "POP_EMP_log                      0.3978     0.0623     6.3810     0.0000      0.2755      0.5201\n",
      "GAS_PRICE_2018_log               0.2479     0.0308     8.0587     0.0000      0.1876      0.3082\n",
      "TOTAL_MED_INC_INDIV_2018_log    -0.2805     0.0623    -4.5033     0.0000     -0.4027     -0.1584\n",
      "PCT_HH_NO_VEH                    0.0057     0.0034     1.6731     0.0945     -0.0010      0.0124\n",
      "TSD_POP_PCT                      0.0137     0.0026     5.3315     0.0000      0.0086      0.0187\n",
      "JTW_HOME_PCT                    -0.0174     0.0043    -4.0863     0.0000     -0.0258     -0.0091\n",
      "YEARS_SINCE_TNC_BUS             -0.0179     0.0055    -3.2818     0.0011     -0.0287     -0.0072\n",
      "BIKE_SHARE                       0.0095     0.0188     0.5039     0.6144     -0.0274      0.0463\n",
      "scooter_flag                     0.0150     0.0554     0.2703     0.7869     -0.0936      0.1236\n",
      "================================================================================================\n",
      "\n",
      "F-test for Poolability: 99.878\n",
      "P-value: 0.0000\n",
      "Distribution: F(136,1831)\n",
      "\n",
      "Included effects: Entity\n"
     ]
    },
    {
     "name": "stderr",
     "output_type": "stream",
     "text": [
      "C:\\Program Files\\Anaconda3\\lib\\site-packages\\linearmodels\\panel\\data.py:39: FutureWarning: \n",
      "Passing list-likes to .loc or [] with any missing label will raise\n",
      "KeyError in the future, you can use .reindex() as an alternative.\n",
      "\n",
      "See the documentation here:\n",
      "https://pandas.pydata.org/pandas-docs/stable/indexing.html#deprecate-loc-reindex-listlike\n",
      "  new_df = df.copy().loc[self._full_index]\n",
      "C:\\Program Files\\Anaconda3\\lib\\site-packages\\linearmodels\\utility.py:476: MissingValueWarning: \n",
      "Inputs contain missing values. Dropping rows with missing observations.\n",
      "  warnings.warn(missing_value_warning_msg, MissingValueWarning)\n"
     ]
    }
   ],
   "source": [
    "# low op-ex\n",
    "\n",
    "df2 = df[(df['CLUSTER_APTA4']==3)]\n",
    "\n",
    "mod=PanelOLS.from_formula('UPT_ADJ_log \\\n",
    "                    ~ VRM_ADJ_BUS_log \\\n",
    "                    + FARE_per_UPT_2018_log \\\n",
    "                    + POP_EMP_log \\\n",
    "                    + GAS_PRICE_2018_log \\\n",
    "                    + TOTAL_MED_INC_INDIV_2018_log \\\n",
    "                    + PCT_HH_NO_VEH \\\n",
    "                    + TSD_POP_PCT \\\n",
    "                    + JTW_HOME_PCT \\\n",
    "                    + YEARS_SINCE_TNC_BUS \\\n",
    "                    + BIKE_SHARE \\\n",
    "                    + scooter_flag \\\n",
    "                    + EntityEffects \\\n",
    "                    ',data=df2)\n",
    "res=mod.fit()\n",
    "print(res)"
   ]
  },
  {
   "cell_type": "markdown",
   "metadata": {},
   "source": [
    "## Treat just low as its own grouping"
   ]
  },
  {
   "cell_type": "code",
   "execution_count": 42,
   "metadata": {
    "collapsed": false
   },
   "outputs": [
    {
     "name": "stdout",
     "output_type": "stream",
     "text": [
      "                          PanelOLS Estimation Summary                           \n",
      "================================================================================\n",
      "Dep. Variable:            UPT_ADJ_log   R-squared:                        0.6927\n",
      "Estimator:                   PanelOLS   R-squared (Between):              0.9000\n",
      "No. Observations:                1767   R-squared (Within):               0.6927\n",
      "Date:                Tue, Dec 17 2019   R-squared (Overall):              0.9106\n",
      "Time:                        12:12:32   Log-likelihood                    1340.0\n",
      "Cov. Estimator:            Unadjusted                                           \n",
      "                                        F-statistic:                      284.22\n",
      "Entities:                         115   P-value                           0.0000\n",
      "Avg Obs:                       15.365   Distribution:                 F(13,1639)\n",
      "Min Obs:                       2.0000                                           \n",
      "Max Obs:                       17.000   F-statistic (robust):             284.22\n",
      "                                        P-value                           0.0000\n",
      "Time periods:                      17   Distribution:                 F(13,1639)\n",
      "Avg Obs:                       103.94                                           \n",
      "Min Obs:                       85.000                                           \n",
      "Max Obs:                       113.00                                           \n",
      "                                                                                \n",
      "                                      Parameter Estimates                                       \n",
      "================================================================================================\n",
      "                              Parameter  Std. Err.     T-stat    P-value    Lower CI    Upper CI\n",
      "------------------------------------------------------------------------------------------------\n",
      "VRM_ADJ_BUS_log                  1.0013     0.0241     41.489     0.0000      0.9539      1.0486\n",
      "VRM_ADJ_RAIL_log                 0.4847     0.0192     25.285     0.0000      0.4471      0.5224\n",
      "FARE_per_UPT_2018_log           -0.4933     0.0313    -15.755     0.0000     -0.5547     -0.4319\n",
      "POP_EMP_log                      0.1144     0.0791     1.4466     0.1482     -0.0407      0.2694\n",
      "GAS_PRICE_2018_log               0.1958     0.0275     7.1216     0.0000      0.1419      0.2498\n",
      "TOTAL_MED_INC_INDIV_2018_log    -0.1948     0.0629    -3.0956     0.0020     -0.3181     -0.0714\n",
      "PCT_HH_NO_VEH                    0.0036     0.0041     0.8564     0.3919     -0.0046      0.0117\n",
      "TSD_POP_PCT                     -0.0003     0.0015    -0.2191     0.8266     -0.0032      0.0025\n",
      "JTW_HOME_PCT                     0.0019     0.0056     0.3444     0.7306     -0.0090      0.0129\n",
      "YEARS_SINCE_TNC_BUS             -0.0264     0.0040    -6.6322     0.0000     -0.0342     -0.0186\n",
      "YEARS_SINCE_TNC_RAIL             0.0075     0.0043     1.7450     0.0812     -0.0009      0.0160\n",
      "BIKE_SHARE                       0.0068     0.0112     0.6025     0.5469     -0.0152      0.0288\n",
      "scooter_flag                    -0.0499     0.0199    -2.5120     0.0121     -0.0889     -0.0109\n",
      "================================================================================================\n",
      "\n",
      "F-test for Poolability: 105.84\n",
      "P-value: 0.0000\n",
      "Distribution: F(114,1639)\n",
      "\n",
      "Included effects: Entity\n"
     ]
    },
    {
     "name": "stderr",
     "output_type": "stream",
     "text": [
      "C:\\Program Files\\Anaconda3\\lib\\site-packages\\linearmodels\\panel\\data.py:39: FutureWarning: \n",
      "Passing list-likes to .loc or [] with any missing label will raise\n",
      "KeyError in the future, you can use .reindex() as an alternative.\n",
      "\n",
      "See the documentation here:\n",
      "https://pandas.pydata.org/pandas-docs/stable/indexing.html#deprecate-loc-reindex-listlike\n",
      "  new_df = df.copy().loc[self._full_index]\n",
      "C:\\Program Files\\Anaconda3\\lib\\site-packages\\linearmodels\\utility.py:476: MissingValueWarning: \n",
      "Inputs contain missing values. Dropping rows with missing observations.\n",
      "  warnings.warn(missing_value_warning_msg, MissingValueWarning)\n"
     ]
    }
   ],
   "source": [
    "# High op-ex + Mid op-ex + NY\n",
    "df2 = df[(df['CLUSTER_APTA4']!=3)]\n",
    "\n",
    "mod=PanelOLS.from_formula('UPT_ADJ_log \\\n",
    "                    ~ VRM_ADJ_BUS_log \\\n",
    "                    + VRM_ADJ_RAIL_log \\\n",
    "                    + FARE_per_UPT_2018_log \\\n",
    "                    + POP_EMP_log \\\n",
    "                    + GAS_PRICE_2018_log \\\n",
    "                    + TOTAL_MED_INC_INDIV_2018_log \\\n",
    "                    + PCT_HH_NO_VEH \\\n",
    "                    + TSD_POP_PCT \\\n",
    "                    + JTW_HOME_PCT \\\n",
    "                    + YEARS_SINCE_TNC_BUS \\\n",
    "                    + YEARS_SINCE_TNC_RAIL \\\n",
    "                    + BIKE_SHARE \\\n",
    "                    + scooter_flag \\\n",
    "                    + EntityEffects \\\n",
    "                    ',data=df2)\n",
    "res=mod.fit()\n",
    "print(res)"
   ]
  },
  {
   "cell_type": "code",
   "execution_count": 43,
   "metadata": {
    "collapsed": false
   },
   "outputs": [
    {
     "name": "stdout",
     "output_type": "stream",
     "text": [
      "                          PanelOLS Estimation Summary                           \n",
      "================================================================================\n",
      "Dep. Variable:            UPT_ADJ_log   R-squared:                        0.6498\n",
      "Estimator:                   PanelOLS   R-squared (Between):              0.9986\n",
      "No. Observations:                1979   R-squared (Within):               0.6498\n",
      "Date:                Tue, Dec 17 2019   R-squared (Overall):              0.9986\n",
      "Time:                        12:13:02   Log-likelihood                    857.17\n",
      "Cov. Estimator:            Unadjusted                                           \n",
      "                                        F-statistic:                      308.88\n",
      "Entities:                         137   P-value                           0.0000\n",
      "Avg Obs:                       14.445   Distribution:                 F(11,1831)\n",
      "Min Obs:                       1.0000                                           \n",
      "Max Obs:                       17.000   F-statistic (robust):             308.88\n",
      "                                        P-value                           0.0000\n",
      "Time periods:                      17   Distribution:                 F(11,1831)\n",
      "Avg Obs:                       116.41                                           \n",
      "Min Obs:                       59.000                                           \n",
      "Max Obs:                       136.00                                           \n",
      "                                                                                \n",
      "                                      Parameter Estimates                                       \n",
      "================================================================================================\n",
      "                              Parameter  Std. Err.     T-stat    P-value    Lower CI    Upper CI\n",
      "------------------------------------------------------------------------------------------------\n",
      "VRM_ADJ_BUS_log                  0.8356     0.0174     48.149     0.0000      0.8016      0.8697\n",
      "FARE_per_UPT_2018_log           -0.2940     0.0307    -9.5647     0.0000     -0.3543     -0.2337\n",
      "POP_EMP_log                      0.3978     0.0623     6.3810     0.0000      0.2755      0.5201\n",
      "GAS_PRICE_2018_log               0.2479     0.0308     8.0587     0.0000      0.1876      0.3082\n",
      "TOTAL_MED_INC_INDIV_2018_log    -0.2805     0.0623    -4.5033     0.0000     -0.4027     -0.1584\n",
      "PCT_HH_NO_VEH                    0.0057     0.0034     1.6731     0.0945     -0.0010      0.0124\n",
      "TSD_POP_PCT                      0.0137     0.0026     5.3315     0.0000      0.0086      0.0187\n",
      "JTW_HOME_PCT                    -0.0174     0.0043    -4.0863     0.0000     -0.0258     -0.0091\n",
      "YEARS_SINCE_TNC_BUS             -0.0179     0.0055    -3.2818     0.0011     -0.0287     -0.0072\n",
      "BIKE_SHARE                       0.0095     0.0188     0.5039     0.6144     -0.0274      0.0463\n",
      "scooter_flag                     0.0150     0.0554     0.2703     0.7869     -0.0936      0.1236\n",
      "================================================================================================\n",
      "\n",
      "F-test for Poolability: 99.878\n",
      "P-value: 0.0000\n",
      "Distribution: F(136,1831)\n",
      "\n",
      "Included effects: Entity\n"
     ]
    },
    {
     "name": "stderr",
     "output_type": "stream",
     "text": [
      "C:\\Program Files\\Anaconda3\\lib\\site-packages\\linearmodels\\panel\\data.py:39: FutureWarning: \n",
      "Passing list-likes to .loc or [] with any missing label will raise\n",
      "KeyError in the future, you can use .reindex() as an alternative.\n",
      "\n",
      "See the documentation here:\n",
      "https://pandas.pydata.org/pandas-docs/stable/indexing.html#deprecate-loc-reindex-listlike\n",
      "  new_df = df.copy().loc[self._full_index]\n",
      "C:\\Program Files\\Anaconda3\\lib\\site-packages\\linearmodels\\utility.py:476: MissingValueWarning: \n",
      "Inputs contain missing values. Dropping rows with missing observations.\n",
      "  warnings.warn(missing_value_warning_msg, MissingValueWarning)\n"
     ]
    }
   ],
   "source": [
    "# Low op-ex\n",
    "df2 = df[(df['CLUSTER_APTA4']==3)]\n",
    "\n",
    "mod=PanelOLS.from_formula('UPT_ADJ_log \\\n",
    "                    ~ VRM_ADJ_BUS_log \\\n",
    "                    + FARE_per_UPT_2018_log \\\n",
    "                    + POP_EMP_log \\\n",
    "                    + GAS_PRICE_2018_log \\\n",
    "                    + TOTAL_MED_INC_INDIV_2018_log \\\n",
    "                    + PCT_HH_NO_VEH \\\n",
    "                    + TSD_POP_PCT \\\n",
    "                    + JTW_HOME_PCT \\\n",
    "                    + YEARS_SINCE_TNC_BUS \\\n",
    "                    + BIKE_SHARE \\\n",
    "                    + scooter_flag \\\n",
    "                    + EntityEffects \\\n",
    "                    ',data=df2)\n",
    "res=mod.fit()\n",
    "print(res)"
   ]
  },
  {
   "cell_type": "markdown",
   "metadata": {},
   "source": [
    "## Partial Segmentation -- low vs others"
   ]
  },
  {
   "cell_type": "code",
   "execution_count": 46,
   "metadata": {
    "collapsed": false
   },
   "outputs": [
    {
     "name": "stderr",
     "output_type": "stream",
     "text": [
      "C:\\Program Files\\Anaconda3\\lib\\site-packages\\linearmodels\\panel\\data.py:39: FutureWarning: \n",
      "Passing list-likes to .loc or [] with any missing label will raise\n",
      "KeyError in the future, you can use .reindex() as an alternative.\n",
      "\n",
      "See the documentation here:\n",
      "https://pandas.pydata.org/pandas-docs/stable/indexing.html#deprecate-loc-reindex-listlike\n",
      "  new_df = df.copy().loc[self._full_index]\n",
      "C:\\Program Files\\Anaconda3\\lib\\site-packages\\linearmodels\\utility.py:476: MissingValueWarning: \n",
      "Inputs contain missing values. Dropping rows with missing observations.\n",
      "  warnings.warn(missing_value_warning_msg, MissingValueWarning)\n"
     ]
    },
    {
     "name": "stdout",
     "output_type": "stream",
     "text": [
      "                          PanelOLS Estimation Summary                           \n",
      "================================================================================\n",
      "Dep. Variable:            UPT_ADJ_log   R-squared:                        0.6569\n",
      "Estimator:                   PanelOLS   R-squared (Between):              0.9747\n",
      "No. Observations:                3746   R-squared (Within):               0.6569\n",
      "Date:                Tue, Dec 17 2019   R-squared (Overall):              0.9764\n",
      "Time:                        12:16:49   Log-likelihood                    2058.1\n",
      "Cov. Estimator:            Unadjusted                                           \n",
      "                                        F-statistic:                      416.14\n",
      "Entities:                         252   P-value                           0.0000\n",
      "Avg Obs:                       14.865   Distribution:                 F(16,3478)\n",
      "Min Obs:                       1.0000                                           \n",
      "Max Obs:                       17.000   F-statistic (robust):             416.14\n",
      "                                        P-value                           0.0000\n",
      "Time periods:                      17   Distribution:                 F(16,3478)\n",
      "Avg Obs:                       220.35                                           \n",
      "Min Obs:                       144.00                                           \n",
      "Max Obs:                       249.00                                           \n",
      "                                                                                \n",
      "                                      Parameter Estimates                                       \n",
      "================================================================================================\n",
      "                              Parameter  Std. Err.     T-stat    P-value    Lower CI    Upper CI\n",
      "------------------------------------------------------------------------------------------------\n",
      "VRM_ADJ_BUS_log                  0.8698     0.0136     64.036     0.0000      0.8432      0.8965\n",
      "VRM_ADJ_RAIL_log                 0.5016     0.0233     21.565     0.0000      0.4560      0.5472\n",
      "FARE_per_UPT_2018_log           -0.3595     0.0222    -16.229     0.0000     -0.4029     -0.3160\n",
      "POP_EMP_log                      0.3110     0.0475     6.5489     0.0000      0.2179      0.4041\n",
      "GAS_PRICE_2018_log               0.2217     0.0211     10.495     0.0000      0.1803      0.2632\n",
      "TOTAL_MED_INC_INDIV_2018_log    -0.2385     0.0448    -5.3231     0.0000     -0.3264     -0.1507\n",
      "PCT_HH_NO_VEH                    0.0056     0.0026     2.1348     0.0328      0.0005      0.0107\n",
      "TSD_POP_PCT                      0.0049     0.0013     3.7857     0.0002      0.0024      0.0074\n",
      "JTW_HOME_PCT                    -0.0141     0.0033    -4.2752     0.0000     -0.0206     -0.0077\n",
      "YEARS_SINCE_TNC_BUS             -0.0198     0.0043    -4.5891     0.0000     -0.0282     -0.0113\n",
      "YEARS_SINCE_TNC_BUS_LOW         -0.0030     0.0059    -0.5112     0.6092     -0.0145      0.0085\n",
      "YEARS_SINCE_TNC_RAIL             0.0092     0.0050     1.8323     0.0670     -0.0006      0.0191\n",
      "BIKE_SHARE                       0.0074     0.0136     0.5419     0.5880     -0.0193      0.0340\n",
      "BIKE_SHARE_LOW                  -0.0021     0.0213    -0.0971     0.9227     -0.0439      0.0398\n",
      "scooter_flag                    -0.0535     0.0241    -2.2209     0.0264     -0.1007     -0.0063\n",
      "scooter_flag_LOW                 0.0814     0.0546     1.4921     0.1358     -0.0256      0.1884\n",
      "================================================================================================\n",
      "\n",
      "F-test for Poolability: 118.39\n",
      "P-value: 0.0000\n",
      "Distribution: F(251,3478)\n",
      "\n",
      "Included effects: Entity\n"
     ]
    }
   ],
   "source": [
    "# base model\n",
    "\n",
    "mod=PanelOLS.from_formula('UPT_ADJ_log \\\n",
    "                    ~ VRM_ADJ_BUS_log \\\n",
    "                    + VRM_ADJ_RAIL_log \\\n",
    "                    + FARE_per_UPT_2018_log \\\n",
    "                    + POP_EMP_log \\\n",
    "                    + GAS_PRICE_2018_log \\\n",
    "                    + TOTAL_MED_INC_INDIV_2018_log \\\n",
    "                    + PCT_HH_NO_VEH \\\n",
    "                    + TSD_POP_PCT \\\n",
    "                    + JTW_HOME_PCT \\\n",
    "                    + YEARS_SINCE_TNC_BUS \\\n",
    "                    + YEARS_SINCE_TNC_BUS_LOW \\\n",
    "                    + YEARS_SINCE_TNC_RAIL \\\n",
    "                    + BIKE_SHARE \\\n",
    "                    + BIKE_SHARE_LOW \\\n",
    "                    + scooter_flag \\\n",
    "                    + scooter_flag_LOW \\\n",
    "                    + EntityEffects \\\n",
    "                    ',data=df)\n",
    "res=mod.fit()\n",
    "print(res)"
   ]
  },
  {
   "cell_type": "code",
   "execution_count": 47,
   "metadata": {
    "collapsed": false
   },
   "outputs": [
    {
     "name": "stderr",
     "output_type": "stream",
     "text": [
      "C:\\Program Files\\Anaconda3\\lib\\site-packages\\linearmodels\\panel\\data.py:39: FutureWarning: \n",
      "Passing list-likes to .loc or [] with any missing label will raise\n",
      "KeyError in the future, you can use .reindex() as an alternative.\n",
      "\n",
      "See the documentation here:\n",
      "https://pandas.pydata.org/pandas-docs/stable/indexing.html#deprecate-loc-reindex-listlike\n",
      "  new_df = df.copy().loc[self._full_index]\n",
      "C:\\Program Files\\Anaconda3\\lib\\site-packages\\linearmodels\\utility.py:476: MissingValueWarning: \n",
      "Inputs contain missing values. Dropping rows with missing observations.\n",
      "  warnings.warn(missing_value_warning_msg, MissingValueWarning)\n"
     ]
    },
    {
     "name": "stdout",
     "output_type": "stream",
     "text": [
      "                          PanelOLS Estimation Summary                           \n",
      "================================================================================\n",
      "Dep. Variable:            UPT_ADJ_log   R-squared:                        0.6378\n",
      "Estimator:                   PanelOLS   R-squared (Between):              0.9932\n",
      "No. Observations:                3746   R-squared (Within):               0.6378\n",
      "Date:                Tue, Dec 17 2019   R-squared (Overall):              0.9931\n",
      "Time:                        12:17:46   Log-likelihood                    1956.8\n",
      "Cov. Estimator:            Unadjusted                                           \n",
      "                                        F-statistic:                      408.45\n",
      "Entities:                         252   P-value                           0.0000\n",
      "Avg Obs:                       14.865   Distribution:                 F(15,3479)\n",
      "Min Obs:                       1.0000                                           \n",
      "Max Obs:                       17.000   F-statistic (robust):             408.45\n",
      "                                        P-value                           0.0000\n",
      "Time periods:                      17   Distribution:                 F(15,3479)\n",
      "Avg Obs:                       220.35                                           \n",
      "Min Obs:                       144.00                                           \n",
      "Max Obs:                       249.00                                           \n",
      "                                                                                \n",
      "                                      Parameter Estimates                                       \n",
      "================================================================================================\n",
      "                              Parameter  Std. Err.     T-stat    P-value    Lower CI    Upper CI\n",
      "------------------------------------------------------------------------------------------------\n",
      "VRM_ADJ_log                      0.7792     0.0122     63.656     0.0000      0.7552      0.8032\n",
      "FARE_per_UPT_2018_log           -0.3618     0.0228    -15.902     0.0000     -0.4064     -0.3172\n",
      "POP_EMP_log                      0.3670     0.0486     7.5493     0.0000      0.2717      0.4623\n",
      "GAS_PRICE_2018_log               0.2287     0.0217     10.543     0.0000      0.1862      0.2713\n",
      "TOTAL_MED_INC_INDIV_2018_log    -0.2563     0.0460    -5.5700     0.0000     -0.3465     -0.1661\n",
      "PCT_HH_NO_VEH                    0.0058     0.0027     2.1739     0.0298      0.0006      0.0111\n",
      "TSD_POP_PCT                      0.0072     0.0013     5.4629     0.0000      0.0046      0.0098\n",
      "JTW_HOME_PCT                    -0.0139     0.0034    -4.0856     0.0000     -0.0205     -0.0072\n",
      "YEARS_SINCE_TNC_BUS             -0.0153     0.0044    -3.4632     0.0005     -0.0239     -0.0066\n",
      "YEARS_SINCE_TNC_BUS_LOW         -0.0037     0.0060    -0.6220     0.5340     -0.0155      0.0081\n",
      "YEARS_SINCE_TNC_RAIL            -0.0079     0.0050    -1.5703     0.1164     -0.0177      0.0020\n",
      "BIKE_SHARE                      -0.0072     0.0139    -0.5183     0.6043     -0.0345      0.0201\n",
      "BIKE_SHARE_LOW                   0.0163     0.0219     0.7430     0.4576     -0.0266      0.0592\n",
      "scooter_flag                    -0.0516     0.0247    -2.0844     0.0372     -0.1000     -0.0031\n",
      "scooter_flag_LOW                 0.0734     0.0560     1.3094     0.1905     -0.0365      0.1833\n",
      "================================================================================================\n",
      "\n",
      "F-test for Poolability: 121.20\n",
      "P-value: 0.0000\n",
      "Distribution: F(251,3479)\n",
      "\n",
      "Included effects: Entity\n"
     ]
    }
   ],
   "source": [
    "# base model\n",
    "\n",
    "mod=PanelOLS.from_formula('UPT_ADJ_log \\\n",
    "                    ~ VRM_ADJ_log \\\n",
    "                    + FARE_per_UPT_2018_log \\\n",
    "                    + POP_EMP_log \\\n",
    "                    + GAS_PRICE_2018_log \\\n",
    "                    + TOTAL_MED_INC_INDIV_2018_log \\\n",
    "                    + PCT_HH_NO_VEH \\\n",
    "                    + TSD_POP_PCT \\\n",
    "                    + JTW_HOME_PCT \\\n",
    "                    + YEARS_SINCE_TNC_BUS \\\n",
    "                    + YEARS_SINCE_TNC_BUS_LOW \\\n",
    "                    + YEARS_SINCE_TNC_RAIL \\\n",
    "                    + BIKE_SHARE \\\n",
    "                    + BIKE_SHARE_LOW \\\n",
    "                    + scooter_flag \\\n",
    "                    + scooter_flag_LOW \\\n",
    "                    + EntityEffects \\\n",
    "                    ',data=df)\n",
    "res=mod.fit()\n",
    "print(res)"
   ]
  },
  {
   "cell_type": "code",
   "execution_count": null,
   "metadata": {
    "collapsed": true
   },
   "outputs": [],
   "source": []
  },
  {
   "cell_type": "markdown",
   "metadata": {},
   "source": [
    "## look again at rail expansion"
   ]
  },
  {
   "cell_type": "code",
   "execution_count": 40,
   "metadata": {
    "collapsed": false
   },
   "outputs": [
    {
     "name": "stderr",
     "output_type": "stream",
     "text": [
      "C:\\Program Files\\Anaconda3\\lib\\site-packages\\linearmodels\\panel\\data.py:39: FutureWarning: \n",
      "Passing list-likes to .loc or [] with any missing label will raise\n",
      "KeyError in the future, you can use .reindex() as an alternative.\n",
      "\n",
      "See the documentation here:\n",
      "https://pandas.pydata.org/pandas-docs/stable/indexing.html#deprecate-loc-reindex-listlike\n",
      "  new_df = df.copy().loc[self._full_index]\n",
      "C:\\Program Files\\Anaconda3\\lib\\site-packages\\linearmodels\\utility.py:476: MissingValueWarning: \n",
      "Inputs contain missing values. Dropping rows with missing observations.\n",
      "  warnings.warn(missing_value_warning_msg, MissingValueWarning)\n"
     ]
    },
    {
     "name": "stdout",
     "output_type": "stream",
     "text": [
      "                          PanelOLS Estimation Summary                           \n",
      "================================================================================\n",
      "Dep. Variable:            UPT_ADJ_log   R-squared:                        0.6378\n",
      "Estimator:                   PanelOLS   R-squared (Between):              0.9932\n",
      "No. Observations:                3746   R-squared (Within):               0.6378\n",
      "Date:                Tue, Dec 17 2019   R-squared (Overall):              0.9931\n",
      "Time:                        11:59:33   Log-likelihood                    1956.7\n",
      "Cov. Estimator:            Unadjusted                                           \n",
      "                                        F-statistic:                      437.71\n",
      "Entities:                         252   P-value                           0.0000\n",
      "Avg Obs:                       14.865   Distribution:                 F(14,3480)\n",
      "Min Obs:                       1.0000                                           \n",
      "Max Obs:                       17.000   F-statistic (robust):             437.71\n",
      "                                        P-value                           0.0000\n",
      "Time periods:                      17   Distribution:                 F(14,3480)\n",
      "Avg Obs:                       220.35                                           \n",
      "Min Obs:                       144.00                                           \n",
      "Max Obs:                       249.00                                           \n",
      "                                                                                \n",
      "                                      Parameter Estimates                                       \n",
      "================================================================================================\n",
      "                              Parameter  Std. Err.     T-stat    P-value    Lower CI    Upper CI\n",
      "------------------------------------------------------------------------------------------------\n",
      "VRM_ADJ_log                      0.7811     0.0123     63.629     0.0000      0.7570      0.8051\n",
      "FARE_per_UPT_2018_log           -0.3595     0.0228    -15.761     0.0000     -0.4042     -0.3148\n",
      "POP_EMP_log                      0.3657     0.0486     7.5298     0.0000      0.2705      0.4609\n",
      "GAS_PRICE_2018_log               0.2284     0.0217     10.534     0.0000      0.1859      0.2710\n",
      "TOTAL_MED_INC_INDIV_2018_log    -0.2575     0.0460    -5.6030     0.0000     -0.3477     -0.1674\n",
      "PCT_HH_NO_VEH                    0.0058     0.0027     2.1658     0.0304      0.0005      0.0110\n",
      "TSD_POP_PCT                      0.0073     0.0013     5.5578     0.0000      0.0047      0.0099\n",
      "JTW_HOME_PCT                    -0.0140     0.0034    -4.1201     0.0000     -0.0206     -0.0073\n",
      "RAIL_COMPETITION                 0.0156     0.0243     0.6433     0.5201     -0.0320      0.0633\n",
      "YEARS_SINCE_RAIL_START_2        -0.0421     0.0319    -1.3205     0.1868     -0.1045      0.0204\n",
      "YEARS_SINCE_TNC_BUS             -0.0173     0.0035    -4.9788     0.0000     -0.0241     -0.0105\n",
      "YEARS_SINCE_TNC_RAIL            -0.0092     0.0048    -1.9408     0.0524     -0.0186   9.446e-05\n",
      "BIKE_SHARE                       0.0004     0.0108     0.0335     0.9733     -0.0209      0.0216\n",
      "scooter_flag                    -0.0377     0.0219    -1.7154     0.0864     -0.0807      0.0054\n",
      "================================================================================================\n",
      "\n",
      "F-test for Poolability: 114.48\n",
      "P-value: 0.0000\n",
      "Distribution: F(251,3480)\n",
      "\n",
      "Included effects: Entity\n"
     ]
    }
   ],
   "source": [
    "# rail expansion--nope\n",
    "\n",
    "mod=PanelOLS.from_formula('UPT_ADJ_log \\\n",
    "                    ~ VRM_ADJ_log \\\n",
    "                    + FARE_per_UPT_2018_log \\\n",
    "                    + POP_EMP_log \\\n",
    "                    + GAS_PRICE_2018_log \\\n",
    "                    + TOTAL_MED_INC_INDIV_2018_log \\\n",
    "                    + PCT_HH_NO_VEH \\\n",
    "                    + TSD_POP_PCT \\\n",
    "                    + JTW_HOME_PCT \\\n",
    "                    + RAIL_COMPETITION \\\n",
    "                    + YEARS_SINCE_RAIL_START_2 \\\n",
    "                    + YEARS_SINCE_TNC_BUS \\\n",
    "                    + YEARS_SINCE_TNC_RAIL \\\n",
    "                    + BIKE_SHARE \\\n",
    "                    + scooter_flag \\\n",
    "                    + EntityEffects \\\n",
    "                    ',data=df)\n",
    "res=mod.fit()\n",
    "print(res)"
   ]
  },
  {
   "cell_type": "markdown",
   "metadata": {},
   "source": [
    "## Look at years since TNC segmentation again"
   ]
  },
  {
   "cell_type": "code",
   "execution_count": 67,
   "metadata": {
    "collapsed": false
   },
   "outputs": [
    {
     "name": "stderr",
     "output_type": "stream",
     "text": [
      "C:\\Program Files\\Anaconda3\\lib\\site-packages\\linearmodels\\panel\\data.py:39: FutureWarning: \n",
      "Passing list-likes to .loc or [] with any missing label will raise\n",
      "KeyError in the future, you can use .reindex() as an alternative.\n",
      "\n",
      "See the documentation here:\n",
      "https://pandas.pydata.org/pandas-docs/stable/indexing.html#deprecate-loc-reindex-listlike\n",
      "  new_df = df.copy().loc[self._full_index]\n",
      "C:\\Program Files\\Anaconda3\\lib\\site-packages\\linearmodels\\utility.py:476: MissingValueWarning: \n",
      "Inputs contain missing values. Dropping rows with missing observations.\n",
      "  warnings.warn(missing_value_warning_msg, MissingValueWarning)\n"
     ]
    },
    {
     "name": "stdout",
     "output_type": "stream",
     "text": [
      "                          PanelOLS Estimation Summary                           \n",
      "================================================================================\n",
      "Dep. Variable:            UPT_ADJ_log   R-squared:                        0.6585\n",
      "Estimator:                   PanelOLS   R-squared (Between):              0.9777\n",
      "No. Observations:                3746   R-squared (Within):               0.6585\n",
      "Date:                Tue, Dec 17 2019   R-squared (Overall):              0.9793\n",
      "Time:                        12:30:31   Log-likelihood                    2066.8\n",
      "Cov. Estimator:            Unadjusted                                           \n",
      "                                        F-statistic:                      372.33\n",
      "Entities:                         252   P-value                           0.0000\n",
      "Avg Obs:                       14.865   Distribution:                 F(18,3476)\n",
      "Min Obs:                       1.0000                                           \n",
      "Max Obs:                       17.000   F-statistic (robust):             372.33\n",
      "                                        P-value                           0.0000\n",
      "Time periods:                      17   Distribution:                 F(18,3476)\n",
      "Avg Obs:                       220.35                                           \n",
      "Min Obs:                       144.00                                           \n",
      "Max Obs:                       249.00                                           \n",
      "                                                                                \n",
      "                                      Parameter Estimates                                       \n",
      "================================================================================================\n",
      "                              Parameter  Std. Err.     T-stat    P-value    Lower CI    Upper CI\n",
      "------------------------------------------------------------------------------------------------\n",
      "VRM_ADJ_BUS_log                  0.8700     0.0136     64.166     0.0000      0.8434      0.8966\n",
      "VRM_ADJ_RAIL_log                 0.5149     0.0234     22.002     0.0000      0.4690      0.5607\n",
      "FARE_per_UPT_2018_log           -0.3601     0.0221    -16.299     0.0000     -0.4034     -0.3167\n",
      "POP_EMP_log                      0.3225     0.0476     6.7751     0.0000      0.2292      0.4158\n",
      "GAS_PRICE_2018_log               0.2167     0.0212     10.243     0.0000      0.1752      0.2581\n",
      "TOTAL_MED_INC_INDIV_2018_log    -0.2396     0.0447    -5.3594     0.0000     -0.3272     -0.1519\n",
      "PCT_HH_NO_VEH                    0.0052     0.0026     1.9937     0.0463   8.608e-05      0.0103\n",
      "TSD_POP_PCT                      0.0053     0.0013     4.0703     0.0000      0.0027      0.0078\n",
      "JTW_HOME_PCT                    -0.0132     0.0033    -3.9995     0.0001     -0.0197     -0.0067\n",
      "YEARS_SINCE_TNC_BUS_NY          -0.0082     0.0169    -0.4844     0.6281     -0.0414      0.0250\n",
      "YEARS_SINCE_TNC_BUS_HI          -0.0168     0.0051    -3.2965     0.0010     -0.0268     -0.0068\n",
      "YEARS_SINCE_TNC_BUS_MID         -0.0251     0.0049    -5.0870     0.0000     -0.0347     -0.0154\n",
      "YEARS_SINCE_TNC_BUS_LOW         -0.0226     0.0043    -5.2772     0.0000     -0.0310     -0.0142\n",
      "YEARS_SINCE_TNC_RAIL_NY          0.0405     0.0152     2.6709     0.0076      0.0108      0.0702\n",
      "YEARS_SINCE_TNC_RAIL_HI          0.0123     0.0053     2.3098     0.0210      0.0019      0.0228\n",
      "YEARS_SINCE_TNC_RAIL_MID        -0.0191     0.0089    -2.1501     0.0316     -0.0364     -0.0017\n",
      "BIKE_SHARE                       0.0067     0.0106     0.6316     0.5277     -0.0140      0.0274\n",
      "scooter_flag                    -0.0397     0.0216    -1.8376     0.0662     -0.0821      0.0027\n",
      "================================================================================================\n",
      "\n",
      "F-test for Poolability: 118.18\n",
      "P-value: 0.0000\n",
      "Distribution: F(251,3476)\n",
      "\n",
      "Included effects: Entity\n"
     ]
    }
   ],
   "source": [
    "# Final Model\n",
    "\n",
    "mod=PanelOLS.from_formula('UPT_ADJ_log \\\n",
    "                    ~ VRM_ADJ_BUS_log \\\n",
    "                    + VRM_ADJ_RAIL_log \\\n",
    "                    + FARE_per_UPT_2018_log \\\n",
    "                    + POP_EMP_log \\\n",
    "                    + GAS_PRICE_2018_log \\\n",
    "                    + TOTAL_MED_INC_INDIV_2018_log \\\n",
    "                    + PCT_HH_NO_VEH \\\n",
    "                    + TSD_POP_PCT \\\n",
    "                    + JTW_HOME_PCT \\\n",
    "                    + YEARS_SINCE_TNC_BUS_NY \\\n",
    "                    + YEARS_SINCE_TNC_BUS_HI \\\n",
    "                    + YEARS_SINCE_TNC_BUS_MID \\\n",
    "                    + YEARS_SINCE_TNC_BUS_LOW \\\n",
    "                    + YEARS_SINCE_TNC_RAIL_NY \\\n",
    "                    + YEARS_SINCE_TNC_RAIL_HI \\\n",
    "                    + YEARS_SINCE_TNC_RAIL_MID \\\n",
    "                    + BIKE_SHARE \\\n",
    "                    + scooter_flag \\\n",
    "                    + EntityEffects \\\n",
    "                    ',data=df)\n",
    "res=mod.fit()\n",
    "print(res)"
   ]
  },
  {
   "cell_type": "code",
   "execution_count": 68,
   "metadata": {
    "collapsed": false
   },
   "outputs": [
    {
     "name": "stderr",
     "output_type": "stream",
     "text": [
      "C:\\Program Files\\Anaconda3\\lib\\site-packages\\linearmodels\\panel\\data.py:39: FutureWarning: \n",
      "Passing list-likes to .loc or [] with any missing label will raise\n",
      "KeyError in the future, you can use .reindex() as an alternative.\n",
      "\n",
      "See the documentation here:\n",
      "https://pandas.pydata.org/pandas-docs/stable/indexing.html#deprecate-loc-reindex-listlike\n",
      "  new_df = df.copy().loc[self._full_index]\n",
      "C:\\Program Files\\Anaconda3\\lib\\site-packages\\linearmodels\\utility.py:476: MissingValueWarning: \n",
      "Inputs contain missing values. Dropping rows with missing observations.\n",
      "  warnings.warn(missing_value_warning_msg, MissingValueWarning)\n"
     ]
    },
    {
     "name": "stdout",
     "output_type": "stream",
     "text": [
      "                          PanelOLS Estimation Summary                           \n",
      "================================================================================\n",
      "Dep. Variable:            UPT_ADJ_log   R-squared:                        0.6569\n",
      "Estimator:                   PanelOLS   R-squared (Between):              0.9753\n",
      "No. Observations:                3746   R-squared (Within):               0.6569\n",
      "Date:                Tue, Dec 17 2019   R-squared (Overall):              0.9770\n",
      "Time:                        12:31:34   Log-likelihood                    2058.1\n",
      "Cov. Estimator:            Unadjusted                                           \n",
      "                                        F-statistic:                      416.16\n",
      "Entities:                         252   P-value                           0.0000\n",
      "Avg Obs:                       14.865   Distribution:                 F(16,3478)\n",
      "Min Obs:                       1.0000                                           \n",
      "Max Obs:                       17.000   F-statistic (robust):             416.16\n",
      "                                        P-value                           0.0000\n",
      "Time periods:                      17   Distribution:                 F(16,3478)\n",
      "Avg Obs:                       220.35                                           \n",
      "Min Obs:                       144.00                                           \n",
      "Max Obs:                       249.00                                           \n",
      "                                                                                \n",
      "                                      Parameter Estimates                                       \n",
      "================================================================================================\n",
      "                              Parameter  Std. Err.     T-stat    P-value    Lower CI    Upper CI\n",
      "------------------------------------------------------------------------------------------------\n",
      "VRM_ADJ_BUS_log                  0.8699     0.0136     64.026     0.0000      0.8432      0.8965\n",
      "VRM_ADJ_RAIL_log                 0.5018     0.0232     21.618     0.0000      0.4563      0.5473\n",
      "FARE_per_UPT_2018_log           -0.3599     0.0221    -16.257     0.0000     -0.4033     -0.3165\n",
      "POP_EMP_log                      0.3166     0.0477     6.6411     0.0000      0.2231      0.4100\n",
      "GAS_PRICE_2018_log               0.2192     0.0212     10.349     0.0000      0.1777      0.2608\n",
      "TOTAL_MED_INC_INDIV_2018_log    -0.2410     0.0448    -5.3825     0.0000     -0.3288     -0.1532\n",
      "PCT_HH_NO_VEH                    0.0054     0.0026     2.0764     0.0379      0.0003      0.0105\n",
      "TSD_POP_PCT                      0.0050     0.0013     3.8326     0.0001      0.0024      0.0075\n",
      "JTW_HOME_PCT                    -0.0139     0.0033    -4.1831     0.0000     -0.0203     -0.0074\n",
      "YEARS_SINCE_TNC_BUS_NY          -0.0082     0.0170    -0.4857     0.6272     -0.0415      0.0250\n",
      "YEARS_SINCE_TNC_BUS_HI          -0.0168     0.0051    -3.2983     0.0010     -0.0269     -0.0068\n",
      "YEARS_SINCE_TNC_BUS_MID         -0.0248     0.0049    -5.0307     0.0000     -0.0345     -0.0152\n",
      "YEARS_SINCE_TNC_BUS_LOW         -0.0222     0.0043    -5.1821     0.0000     -0.0306     -0.0138\n",
      "YEARS_SINCE_TNC_RAIL             0.0082     0.0048     1.7038     0.0885     -0.0012      0.0176\n",
      "BIKE_SHARE                       0.0073     0.0106     0.6859     0.4928     -0.0135      0.0280\n",
      "scooter_flag                    -0.0386     0.0217    -1.7837     0.0746     -0.0811      0.0038\n",
      "================================================================================================\n",
      "\n",
      "F-test for Poolability: 118.29\n",
      "P-value: 0.0000\n",
      "Distribution: F(251,3478)\n",
      "\n",
      "Included effects: Entity\n"
     ]
    }
   ],
   "source": [
    "# merge rail\n",
    "\n",
    "mod=PanelOLS.from_formula('UPT_ADJ_log \\\n",
    "                    ~ VRM_ADJ_BUS_log \\\n",
    "                    + VRM_ADJ_RAIL_log \\\n",
    "                    + FARE_per_UPT_2018_log \\\n",
    "                    + POP_EMP_log \\\n",
    "                    + GAS_PRICE_2018_log \\\n",
    "                    + TOTAL_MED_INC_INDIV_2018_log \\\n",
    "                    + PCT_HH_NO_VEH \\\n",
    "                    + TSD_POP_PCT \\\n",
    "                    + JTW_HOME_PCT \\\n",
    "                    + YEARS_SINCE_TNC_BUS_NY \\\n",
    "                    + YEARS_SINCE_TNC_BUS_HI \\\n",
    "                    + YEARS_SINCE_TNC_BUS_MID \\\n",
    "                    + YEARS_SINCE_TNC_BUS_LOW \\\n",
    "                    + YEARS_SINCE_TNC_RAIL \\\n",
    "                    + BIKE_SHARE \\\n",
    "                    + scooter_flag \\\n",
    "                    + EntityEffects \\\n",
    "                    ',data=df)\n",
    "res=mod.fit()\n",
    "print(res)"
   ]
  },
  {
   "cell_type": "code",
   "execution_count": 69,
   "metadata": {
    "collapsed": false
   },
   "outputs": [
    {
     "name": "stderr",
     "output_type": "stream",
     "text": [
      "C:\\Program Files\\Anaconda3\\lib\\site-packages\\linearmodels\\panel\\data.py:39: FutureWarning: \n",
      "Passing list-likes to .loc or [] with any missing label will raise\n",
      "KeyError in the future, you can use .reindex() as an alternative.\n",
      "\n",
      "See the documentation here:\n",
      "https://pandas.pydata.org/pandas-docs/stable/indexing.html#deprecate-loc-reindex-listlike\n",
      "  new_df = df.copy().loc[self._full_index]\n",
      "C:\\Program Files\\Anaconda3\\lib\\site-packages\\linearmodels\\utility.py:476: MissingValueWarning: \n",
      "Inputs contain missing values. Dropping rows with missing observations.\n",
      "  warnings.warn(missing_value_warning_msg, MissingValueWarning)\n"
     ]
    },
    {
     "name": "stdout",
     "output_type": "stream",
     "text": [
      "                          PanelOLS Estimation Summary                           \n",
      "================================================================================\n",
      "Dep. Variable:            UPT_ADJ_log   R-squared:                        0.6569\n",
      "Estimator:                   PanelOLS   R-squared (Between):              0.9754\n",
      "No. Observations:                3746   R-squared (Within):               0.6569\n",
      "Date:                Tue, Dec 17 2019   R-squared (Overall):              0.9770\n",
      "Time:                        12:32:07   Log-likelihood                    2058.0\n",
      "Cov. Estimator:            Unadjusted                                           \n",
      "                                        F-statistic:                      443.99\n",
      "Entities:                         252   P-value                           0.0000\n",
      "Avg Obs:                       14.865   Distribution:                 F(15,3479)\n",
      "Min Obs:                       1.0000                                           \n",
      "Max Obs:                       17.000   F-statistic (robust):             443.99\n",
      "                                        P-value                           0.0000\n",
      "Time periods:                      17   Distribution:                 F(15,3479)\n",
      "Avg Obs:                       220.35                                           \n",
      "Min Obs:                       144.00                                           \n",
      "Max Obs:                       249.00                                           \n",
      "                                                                                \n",
      "                                      Parameter Estimates                                       \n",
      "================================================================================================\n",
      "                              Parameter  Std. Err.     T-stat    P-value    Lower CI    Upper CI\n",
      "------------------------------------------------------------------------------------------------\n",
      "VRM_ADJ_BUS_log                  0.8703     0.0136     64.209     0.0000      0.8437      0.8969\n",
      "VRM_ADJ_RAIL_log                 0.5020     0.0232     21.632     0.0000      0.4565      0.5475\n",
      "FARE_per_UPT_2018_log           -0.3598     0.0221    -16.257     0.0000     -0.4032     -0.3164\n",
      "POP_EMP_log                      0.3164     0.0477     6.6389     0.0000      0.2230      0.4099\n",
      "GAS_PRICE_2018_log               0.2193     0.0212     10.355     0.0000      0.1778      0.2608\n",
      "TOTAL_MED_INC_INDIV_2018_log    -0.2405     0.0448    -5.3728     0.0000     -0.3283     -0.1527\n",
      "PCT_HH_NO_VEH                    0.0054     0.0026     2.0936     0.0364      0.0003      0.0106\n",
      "TSD_POP_PCT                      0.0050     0.0013     3.8630     0.0001      0.0025      0.0075\n",
      "JTW_HOME_PCT                    -0.0139     0.0033    -4.1896     0.0000     -0.0204     -0.0074\n",
      "YEARS_SINCE_TNC_BUS_NY          -0.0081     0.0170    -0.4766     0.6337     -0.0413      0.0252\n",
      "YEARS_SINCE_TNC_BUS_HI          -0.0167     0.0051    -3.2732     0.0011     -0.0267     -0.0067\n",
      "YEARS_SINCE_TNC_BUS_MIDLOW      -0.0233     0.0037    -6.2743     0.0000     -0.0305     -0.0160\n",
      "YEARS_SINCE_TNC_RAIL             0.0083     0.0048     1.7392     0.0821     -0.0011      0.0177\n",
      "BIKE_SHARE                       0.0069     0.0106     0.6575     0.5109     -0.0138      0.0276\n",
      "scooter_flag                    -0.0400     0.0215    -1.8627     0.0626     -0.0821      0.0021\n",
      "================================================================================================\n",
      "\n",
      "F-test for Poolability: 118.42\n",
      "P-value: 0.0000\n",
      "Distribution: F(251,3479)\n",
      "\n",
      "Included effects: Entity\n"
     ]
    }
   ],
   "source": [
    "# merge mid/low\n",
    "\n",
    "mod=PanelOLS.from_formula('UPT_ADJ_log \\\n",
    "                    ~ VRM_ADJ_BUS_log \\\n",
    "                    + VRM_ADJ_RAIL_log \\\n",
    "                    + FARE_per_UPT_2018_log \\\n",
    "                    + POP_EMP_log \\\n",
    "                    + GAS_PRICE_2018_log \\\n",
    "                    + TOTAL_MED_INC_INDIV_2018_log \\\n",
    "                    + PCT_HH_NO_VEH \\\n",
    "                    + TSD_POP_PCT \\\n",
    "                    + JTW_HOME_PCT \\\n",
    "                    + YEARS_SINCE_TNC_BUS_NY \\\n",
    "                    + YEARS_SINCE_TNC_BUS_HI \\\n",
    "                    + YEARS_SINCE_TNC_BUS_MIDLOW \\\n",
    "                    + YEARS_SINCE_TNC_RAIL \\\n",
    "                    + BIKE_SHARE \\\n",
    "                    + scooter_flag \\\n",
    "                    + EntityEffects \\\n",
    "                    ',data=df)\n",
    "res=mod.fit()\n",
    "print(res)"
   ]
  },
  {
   "cell_type": "code",
   "execution_count": 70,
   "metadata": {
    "collapsed": false
   },
   "outputs": [
    {
     "name": "stderr",
     "output_type": "stream",
     "text": [
      "C:\\Program Files\\Anaconda3\\lib\\site-packages\\linearmodels\\panel\\data.py:39: FutureWarning: \n",
      "Passing list-likes to .loc or [] with any missing label will raise\n",
      "KeyError in the future, you can use .reindex() as an alternative.\n",
      "\n",
      "See the documentation here:\n",
      "https://pandas.pydata.org/pandas-docs/stable/indexing.html#deprecate-loc-reindex-listlike\n",
      "  new_df = df.copy().loc[self._full_index]\n",
      "C:\\Program Files\\Anaconda3\\lib\\site-packages\\linearmodels\\utility.py:476: MissingValueWarning: \n",
      "Inputs contain missing values. Dropping rows with missing observations.\n",
      "  warnings.warn(missing_value_warning_msg, MissingValueWarning)\n"
     ]
    },
    {
     "name": "stdout",
     "output_type": "stream",
     "text": [
      "                          PanelOLS Estimation Summary                           \n",
      "================================================================================\n",
      "Dep. Variable:            UPT_ADJ_log   R-squared:                        0.6568\n",
      "Estimator:                   PanelOLS   R-squared (Between):              0.9753\n",
      "No. Observations:                3746   R-squared (Within):               0.6568\n",
      "Date:                Tue, Dec 17 2019   R-squared (Overall):              0.9770\n",
      "Time:                        12:32:34   Log-likelihood                    2057.9\n",
      "Cov. Estimator:            Unadjusted                                           \n",
      "                                        F-statistic:                      475.79\n",
      "Entities:                         252   P-value                           0.0000\n",
      "Avg Obs:                       14.865   Distribution:                 F(14,3480)\n",
      "Min Obs:                       1.0000                                           \n",
      "Max Obs:                       17.000   F-statistic (robust):             475.79\n",
      "                                        P-value                           0.0000\n",
      "Time periods:                      17   Distribution:                 F(14,3480)\n",
      "Avg Obs:                       220.35                                           \n",
      "Min Obs:                       144.00                                           \n",
      "Max Obs:                       249.00                                           \n",
      "                                                                                \n",
      "                                      Parameter Estimates                                       \n",
      "================================================================================================\n",
      "                              Parameter  Std. Err.     T-stat    P-value    Lower CI    Upper CI\n",
      "------------------------------------------------------------------------------------------------\n",
      "VRM_ADJ_BUS_log                  0.8704     0.0136     64.235     0.0000      0.8439      0.8970\n",
      "VRM_ADJ_RAIL_log                 0.5021     0.0232     21.638     0.0000      0.4566      0.5475\n",
      "FARE_per_UPT_2018_log           -0.3595     0.0221    -16.252     0.0000     -0.4029     -0.3161\n",
      "POP_EMP_log                      0.3160     0.0476     6.6315     0.0000      0.2226      0.4094\n",
      "GAS_PRICE_2018_log               0.2192     0.0212     10.353     0.0000      0.1777      0.2608\n",
      "TOTAL_MED_INC_INDIV_2018_log    -0.2408     0.0448    -5.3812     0.0000     -0.3286     -0.1531\n",
      "PCT_HH_NO_VEH                    0.0054     0.0026     2.0882     0.0368      0.0003      0.0105\n",
      "TSD_POP_PCT                      0.0050     0.0013     3.8698     0.0001      0.0025      0.0075\n",
      "JTW_HOME_PCT                    -0.0139     0.0033    -4.2061     0.0000     -0.0204     -0.0074\n",
      "YEARS_SINCE_TNC_BUS_HINY        -0.0161     0.0050    -3.2459     0.0012     -0.0258     -0.0064\n",
      "YEARS_SINCE_TNC_BUS_MIDLOW      -0.0232     0.0037    -6.2702     0.0000     -0.0305     -0.0160\n",
      "YEARS_SINCE_TNC_RAIL             0.0083     0.0048     1.7400     0.0819     -0.0011      0.0177\n",
      "BIKE_SHARE                       0.0070     0.0106     0.6618     0.5082     -0.0137      0.0277\n",
      "scooter_flag                    -0.0399     0.0215    -1.8588     0.0631     -0.0820      0.0022\n",
      "================================================================================================\n",
      "\n",
      "F-test for Poolability: 118.63\n",
      "P-value: 0.0000\n",
      "Distribution: F(251,3480)\n",
      "\n",
      "Included effects: Entity\n"
     ]
    }
   ],
   "source": [
    "# merge NY and high\n",
    "\n",
    "mod=PanelOLS.from_formula('UPT_ADJ_log \\\n",
    "                    ~ VRM_ADJ_BUS_log \\\n",
    "                    + VRM_ADJ_RAIL_log \\\n",
    "                    + FARE_per_UPT_2018_log \\\n",
    "                    + POP_EMP_log \\\n",
    "                    + GAS_PRICE_2018_log \\\n",
    "                    + TOTAL_MED_INC_INDIV_2018_log \\\n",
    "                    + PCT_HH_NO_VEH \\\n",
    "                    + TSD_POP_PCT \\\n",
    "                    + JTW_HOME_PCT \\\n",
    "                    + YEARS_SINCE_TNC_BUS_HINY \\\n",
    "                    + YEARS_SINCE_TNC_BUS_MIDLOW \\\n",
    "                    + YEARS_SINCE_TNC_RAIL \\\n",
    "                    + BIKE_SHARE \\\n",
    "                    + scooter_flag \\\n",
    "                    + EntityEffects \\\n",
    "                    ',data=df)\n",
    "res=mod.fit()\n",
    "print(res)"
   ]
  },
  {
   "cell_type": "code",
   "execution_count": null,
   "metadata": {
    "collapsed": true
   },
   "outputs": [],
   "source": []
  },
  {
   "cell_type": "markdown",
   "metadata": {},
   "source": [
    "## Run some analytics"
   ]
  },
  {
   "cell_type": "code",
   "execution_count": 71,
   "metadata": {
    "collapsed": false
   },
   "outputs": [
    {
     "name": "stderr",
     "output_type": "stream",
     "text": [
      "C:\\Program Files\\Anaconda3\\lib\\site-packages\\linearmodels\\panel\\data.py:39: FutureWarning: \n",
      "Passing list-likes to .loc or [] with any missing label will raise\n",
      "KeyError in the future, you can use .reindex() as an alternative.\n",
      "\n",
      "See the documentation here:\n",
      "https://pandas.pydata.org/pandas-docs/stable/indexing.html#deprecate-loc-reindex-listlike\n",
      "  new_df = df.copy().loc[self._full_index]\n",
      "C:\\Program Files\\Anaconda3\\lib\\site-packages\\linearmodels\\utility.py:476: MissingValueWarning: \n",
      "Inputs contain missing values. Dropping rows with missing observations.\n",
      "  warnings.warn(missing_value_warning_msg, MissingValueWarning)\n"
     ]
    },
    {
     "name": "stdout",
     "output_type": "stream",
     "text": [
      "                          PanelOLS Estimation Summary                           \n",
      "================================================================================\n",
      "Dep. Variable:            UPT_ADJ_log   R-squared:                        0.6566\n",
      "Estimator:                   PanelOLS   R-squared (Between):              0.9742\n",
      "No. Observations:                3746   R-squared (Within):               0.6566\n",
      "Date:                Tue, Dec 17 2019   R-squared (Overall):              0.9759\n",
      "Time:                        12:33:04   Log-likelihood                    2056.8\n",
      "Cov. Estimator:            Unadjusted                                           \n",
      "                                        F-statistic:                      512.10\n",
      "Entities:                         252   P-value                           0.0000\n",
      "Avg Obs:                       14.865   Distribution:                 F(13,3481)\n",
      "Min Obs:                       1.0000                                           \n",
      "Max Obs:                       17.000   F-statistic (robust):             512.10\n",
      "                                        P-value                           0.0000\n",
      "Time periods:                      17   Distribution:                 F(13,3481)\n",
      "Avg Obs:                       220.35                                           \n",
      "Min Obs:                       144.00                                           \n",
      "Max Obs:                       249.00                                           \n",
      "                                                                                \n",
      "                                      Parameter Estimates                                       \n",
      "================================================================================================\n",
      "                              Parameter  Std. Err.     T-stat    P-value    Lower CI    Upper CI\n",
      "------------------------------------------------------------------------------------------------\n",
      "VRM_ADJ_BUS_log                  0.8694     0.0135     64.251     0.0000      0.8428      0.8959\n",
      "VRM_ADJ_RAIL_log                 0.5018     0.0232     21.626     0.0000      0.4563      0.5473\n",
      "FARE_per_UPT_2018_log           -0.3591     0.0221    -16.232     0.0000     -0.4025     -0.3157\n",
      "POP_EMP_log                      0.3097     0.0474     6.5281     0.0000      0.2167      0.4027\n",
      "GAS_PRICE_2018_log               0.2216     0.0211     10.497     0.0000      0.1802      0.2630\n",
      "TOTAL_MED_INC_INDIV_2018_log    -0.2413     0.0448    -5.3911     0.0000     -0.3290     -0.1535\n",
      "PCT_HH_NO_VEH                    0.0055     0.0026     2.0940     0.0363      0.0003      0.0106\n",
      "TSD_POP_PCT                      0.0049     0.0013     3.7768     0.0002      0.0023      0.0074\n",
      "JTW_HOME_PCT                    -0.0142     0.0033    -4.3107     0.0000     -0.0207     -0.0078\n",
      "YEARS_SINCE_TNC_BUS             -0.0211     0.0034    -6.2458     0.0000     -0.0278     -0.0145\n",
      "YEARS_SINCE_TNC_RAIL             0.0083     0.0048     1.7242     0.0848     -0.0011      0.0177\n",
      "BIKE_SHARE                       0.0077     0.0105     0.7310     0.4648     -0.0130      0.0284\n",
      "scooter_flag                    -0.0370     0.0214    -1.7311     0.0835     -0.0789      0.0049\n",
      "================================================================================================\n",
      "\n",
      "F-test for Poolability: 118.70\n",
      "P-value: 0.0000\n",
      "Distribution: F(251,3481)\n",
      "\n",
      "Included effects: Entity\n"
     ]
    }
   ],
   "source": [
    "# Final Model\n",
    "\n",
    "mod=PanelOLS.from_formula('UPT_ADJ_log \\\n",
    "                    ~ VRM_ADJ_BUS_log \\\n",
    "                    + VRM_ADJ_RAIL_log \\\n",
    "                    + FARE_per_UPT_2018_log \\\n",
    "                    + POP_EMP_log \\\n",
    "                    + GAS_PRICE_2018_log \\\n",
    "                    + TOTAL_MED_INC_INDIV_2018_log \\\n",
    "                    + PCT_HH_NO_VEH \\\n",
    "                    + TSD_POP_PCT \\\n",
    "                    + JTW_HOME_PCT \\\n",
    "                    + YEARS_SINCE_TNC_BUS \\\n",
    "                    + YEARS_SINCE_TNC_RAIL \\\n",
    "                    + BIKE_SHARE \\\n",
    "                    + scooter_flag \\\n",
    "                    + EntityEffects \\\n",
    "                    ',data=df)\n",
    "res=mod.fit()\n",
    "print(res)"
   ]
  },
  {
   "cell_type": "code",
   "execution_count": 72,
   "metadata": {
    "collapsed": false
   },
   "outputs": [
    {
     "data": {
      "text/plain": [
       "<matplotlib.axes._subplots.AxesSubplot at 0x46d415bf28>"
      ]
     },
     "execution_count": 72,
     "metadata": {},
     "output_type": "execute_result"
    },
    {
     "data": {
      "image/png": "[encoded data removed]",
      "text/plain": [
       "<matplotlib.figure.Figure at 0x46d3ef7ba8>"
      ]
     },
     "metadata": {},
     "output_type": "display_data"
    }
   ],
   "source": [
    "sns.distplot(res.resids)"
   ]
  },
  {
   "cell_type": "code",
   "execution_count": 73,
   "metadata": {
    "collapsed": false
   },
   "outputs": [
    {
     "data": {
      "image/png": "[encoded data removed]",
      "text/plain": [
       "<matplotlib.figure.Figure at 0x46d41d7c88>"
      ]
     },
     "execution_count": 73,
     "metadata": {},
     "output_type": "execute_result"
    },
    {
     "data": {
      "image/png": "[encoded data removed]",
      "text/plain": [
       "<matplotlib.figure.Figure at 0x46d41d7c88>"
      ]
     },
     "metadata": {},
     "output_type": "display_data"
    }
   ],
   "source": [
    "sm.graphics.qqplot(res.resids,line = 'q')"
   ]
  },
  {
   "cell_type": "code",
   "execution_count": null,
   "metadata": {
    "collapsed": true
   },
   "outputs": [],
   "source": []
  },
  {
   "cell_type": "code",
   "execution_count": null,
   "metadata": {
    "collapsed": true
   },
   "outputs": [],
   "source": []
  },
  {
   "cell_type": "code",
   "execution_count": null,
   "metadata": {
    "collapsed": true
   },
   "outputs": [],
   "source": []
  },
  {
   "cell_type": "markdown",
   "metadata": {},
   "source": [
    "## Calculate FAC"
   ]
  },
  {
   "cell_type": "code",
   "execution_count": 74,
   "metadata": {
    "collapsed": true
   },
   "outputs": [],
   "source": [
    "# keep the relevant fields in the data set\n",
    "app_data = pd.concat([df[['RAIL_FLAG', 'CLUSTER_APTA']], \n",
    "                      res.model.dependent.dataframe, \n",
    "                      res.model.exog.dataframe, \n",
    "                      res.estimated_effects, \n",
    "                      res.resids], axis=1)\n"
   ]
  },
  {
   "cell_type": "code",
   "execution_count": 75,
   "metadata": {
    "collapsed": false
   },
   "outputs": [
    {
     "data": {
      "text/html": [
       "<div>\n",
       "<style scoped>\n",
       "    .dataframe tbody tr th:only-of-type {\n",
       "        vertical-align: middle;\n",
       "    }\n",
       "\n",
       "    .dataframe tbody tr th {\n",
       "        vertical-align: top;\n",
       "    }\n",
       "\n",
       "    .dataframe thead th {\n",
       "        text-align: right;\n",
       "    }\n",
       "</style>\n",
       "<table border=\"1\" class=\"dataframe\">\n",
       "  <thead>\n",
       "    <tr style=\"text-align: right;\">\n",
       "      <th></th>\n",
       "      <th></th>\n",
       "      <th>RAIL_FLAG</th>\n",
       "      <th>CLUSTER_APTA</th>\n",
       "      <th>UPT_ADJ_log</th>\n",
       "      <th>VRM_ADJ_BUS_log</th>\n",
       "      <th>VRM_ADJ_RAIL_log</th>\n",
       "      <th>FARE_per_UPT_2018_log</th>\n",
       "      <th>POP_EMP_log</th>\n",
       "      <th>GAS_PRICE_2018_log</th>\n",
       "      <th>TOTAL_MED_INC_INDIV_2018_log</th>\n",
       "      <th>PCT_HH_NO_VEH</th>\n",
       "      <th>TSD_POP_PCT</th>\n",
       "      <th>JTW_HOME_PCT</th>\n",
       "      <th>YEARS_SINCE_TNC_BUS</th>\n",
       "      <th>YEARS_SINCE_TNC_RAIL</th>\n",
       "      <th>BIKE_SHARE</th>\n",
       "      <th>scooter_flag</th>\n",
       "      <th>effects</th>\n",
       "      <th>residual</th>\n",
       "    </tr>\n",
       "  </thead>\n",
       "  <tbody>\n",
       "    <tr>\n",
       "      <th rowspan=\"5\" valign=\"top\">Akron, OH Metro Area-Bus</th>\n",
       "      <th>2002</th>\n",
       "      <td>0</td>\n",
       "      <td>24</td>\n",
       "      <td>15.469231</td>\n",
       "      <td>15.208377</td>\n",
       "      <td>0.0</td>\n",
       "      <td>0.148254</td>\n",
       "      <td>13.808216</td>\n",
       "      <td>1.066089</td>\n",
       "      <td>10.479210</td>\n",
       "      <td>8.60</td>\n",
       "      <td>18.525984</td>\n",
       "      <td>3.1</td>\n",
       "      <td>0.0</td>\n",
       "      <td>0.0</td>\n",
       "      <td>0.0</td>\n",
       "      <td>0.0</td>\n",
       "      <td>0.356954</td>\n",
       "      <td>-0.133111</td>\n",
       "    </tr>\n",
       "    <tr>\n",
       "      <th>2003</th>\n",
       "      <td>0</td>\n",
       "      <td>24</td>\n",
       "      <td>15.501150</td>\n",
       "      <td>15.195930</td>\n",
       "      <td>0.0</td>\n",
       "      <td>0.462904</td>\n",
       "      <td>13.823451</td>\n",
       "      <td>1.138954</td>\n",
       "      <td>10.446267</td>\n",
       "      <td>8.20</td>\n",
       "      <td>18.076969</td>\n",
       "      <td>3.1</td>\n",
       "      <td>0.0</td>\n",
       "      <td>0.0</td>\n",
       "      <td>0.0</td>\n",
       "      <td>0.0</td>\n",
       "      <td>0.356954</td>\n",
       "      <td>-0.001827</td>\n",
       "    </tr>\n",
       "    <tr>\n",
       "      <th>2004</th>\n",
       "      <td>0</td>\n",
       "      <td>24</td>\n",
       "      <td>15.591676</td>\n",
       "      <td>15.277699</td>\n",
       "      <td>0.0</td>\n",
       "      <td>0.414204</td>\n",
       "      <td>13.839439</td>\n",
       "      <td>1.233697</td>\n",
       "      <td>10.403980</td>\n",
       "      <td>7.79</td>\n",
       "      <td>17.637662</td>\n",
       "      <td>3.1</td>\n",
       "      <td>0.0</td>\n",
       "      <td>0.0</td>\n",
       "      <td>0.0</td>\n",
       "      <td>0.0</td>\n",
       "      <td>0.356954</td>\n",
       "      <td>-0.031650</td>\n",
       "    </tr>\n",
       "    <tr>\n",
       "      <th>2005</th>\n",
       "      <td>0</td>\n",
       "      <td>24</td>\n",
       "      <td>15.609548</td>\n",
       "      <td>15.214971</td>\n",
       "      <td>0.0</td>\n",
       "      <td>0.460804</td>\n",
       "      <td>13.857195</td>\n",
       "      <td>1.361617</td>\n",
       "      <td>10.365663</td>\n",
       "      <td>7.47</td>\n",
       "      <td>17.243546</td>\n",
       "      <td>3.1</td>\n",
       "      <td>0.0</td>\n",
       "      <td>0.0</td>\n",
       "      <td>0.0</td>\n",
       "      <td>0.0</td>\n",
       "      <td>0.356954</td>\n",
       "      <td>0.018062</td>\n",
       "    </tr>\n",
       "    <tr>\n",
       "      <th>2006</th>\n",
       "      <td>0</td>\n",
       "      <td>24</td>\n",
       "      <td>15.619001</td>\n",
       "      <td>15.200501</td>\n",
       "      <td>0.0</td>\n",
       "      <td>0.462420</td>\n",
       "      <td>13.879496</td>\n",
       "      <td>1.429114</td>\n",
       "      <td>10.305856</td>\n",
       "      <td>6.85</td>\n",
       "      <td>16.754287</td>\n",
       "      <td>2.5</td>\n",
       "      <td>0.0</td>\n",
       "      <td>0.0</td>\n",
       "      <td>0.0</td>\n",
       "      <td>0.0</td>\n",
       "      <td>0.356954</td>\n",
       "      <td>0.001604</td>\n",
       "    </tr>\n",
       "  </tbody>\n",
       "</table>\n",
       "</div>"
      ],
      "text/plain": [
       "                               RAIL_FLAG  CLUSTER_APTA  UPT_ADJ_log  \\\n",
       "Akron, OH Metro Area-Bus 2002          0            24    15.469231   \n",
       "                         2003          0            24    15.501150   \n",
       "                         2004          0            24    15.591676   \n",
       "                         2005          0            24    15.609548   \n",
       "                         2006          0            24    15.619001   \n",
       "\n",
       "                               VRM_ADJ_BUS_log  VRM_ADJ_RAIL_log  \\\n",
       "Akron, OH Metro Area-Bus 2002        15.208377               0.0   \n",
       "                         2003        15.195930               0.0   \n",
       "                         2004        15.277699               0.0   \n",
       "                         2005        15.214971               0.0   \n",
       "                         2006        15.200501               0.0   \n",
       "\n",
       "                               FARE_per_UPT_2018_log  POP_EMP_log  \\\n",
       "Akron, OH Metro Area-Bus 2002               0.148254    13.808216   \n",
       "                         2003               0.462904    13.823451   \n",
       "                         2004               0.414204    13.839439   \n",
       "                         2005               0.460804    13.857195   \n",
       "                         2006               0.462420    13.879496   \n",
       "\n",
       "                               GAS_PRICE_2018_log  \\\n",
       "Akron, OH Metro Area-Bus 2002            1.066089   \n",
       "                         2003            1.138954   \n",
       "                         2004            1.233697   \n",
       "                         2005            1.361617   \n",
       "                         2006            1.429114   \n",
       "\n",
       "                               TOTAL_MED_INC_INDIV_2018_log  PCT_HH_NO_VEH  \\\n",
       "Akron, OH Metro Area-Bus 2002                     10.479210           8.60   \n",
       "                         2003                     10.446267           8.20   \n",
       "                         2004                     10.403980           7.79   \n",
       "                         2005                     10.365663           7.47   \n",
       "                         2006                     10.305856           6.85   \n",
       "\n",
       "                               TSD_POP_PCT  JTW_HOME_PCT  YEARS_SINCE_TNC_BUS  \\\n",
       "Akron, OH Metro Area-Bus 2002    18.525984           3.1                  0.0   \n",
       "                         2003    18.076969           3.1                  0.0   \n",
       "                         2004    17.637662           3.1                  0.0   \n",
       "                         2005    17.243546           3.1                  0.0   \n",
       "                         2006    16.754287           2.5                  0.0   \n",
       "\n",
       "                               YEARS_SINCE_TNC_RAIL  BIKE_SHARE  scooter_flag  \\\n",
       "Akron, OH Metro Area-Bus 2002                   0.0         0.0           0.0   \n",
       "                         2003                   0.0         0.0           0.0   \n",
       "                         2004                   0.0         0.0           0.0   \n",
       "                         2005                   0.0         0.0           0.0   \n",
       "                         2006                   0.0         0.0           0.0   \n",
       "\n",
       "                                effects  residual  \n",
       "Akron, OH Metro Area-Bus 2002  0.356954 -0.133111  \n",
       "                         2003  0.356954 -0.001827  \n",
       "                         2004  0.356954 -0.031650  \n",
       "                         2005  0.356954  0.018062  \n",
       "                         2006  0.356954  0.001604  "
      ]
     },
     "execution_count": 75,
     "metadata": {},
     "output_type": "execute_result"
    }
   ],
   "source": [
    "app_data.head()"
   ]
  },
  {
   "cell_type": "code",
   "execution_count": 76,
   "metadata": {
    "collapsed": true
   },
   "outputs": [],
   "source": [
    "# calculate the fitted values\n",
    "app_data['fitted'] = app_data['effects']\n",
    "for var in res.params.keys(): \n",
    "    app_data['fitted'] = app_data['fitted'] + (res.params[var] * app_data[var])\n",
    "\n",
    "# and check that we add up correctly\n",
    "app_data['check_fitted'] = app_data['fitted'] + app_data['residual'] - app_data['UPT_ADJ_log']"
   ]
  },
  {
   "cell_type": "code",
   "execution_count": 77,
   "metadata": {
    "collapsed": true
   },
   "outputs": [],
   "source": [
    "# create the necessary columns\n",
    "\n",
    "# dependents\n",
    "app_data['UPT_ADJ']    = np.exp(app_data['UPT_ADJ_log']) - 1\n",
    "app_data['fitted_exp'] = np.exp(app_data['fitted']) - 1\n",
    "\n",
    "# linear versions of logged variables\n",
    "for var in res.params.keys(): \n",
    "    if '_log' in var: \n",
    "        app_data[var.replace('_log', '')] = np.exp(app_data[var]) - 1              \n",
    "\n",
    "# ratios and differences\n",
    "for var in res.params.keys(): \n",
    "    if '_log' in var: \n",
    "        app_data[var.replace('_log', '_ratio')] = 1\n",
    "    else: \n",
    "        app_data[var+'_diff'] = 0\n",
    "\n",
    "# FAC multipliers\n",
    "for var in res.params.keys(): \n",
    "    app_data[var+'_FAC_ratio'] = 1\n",
    "\n",
    "app_data['UPT_ADJ_base'] = 0\n",
    "app_data['UPT_ADJ_ratio'] = 1\n",
    "app_data['fitted_exp_ratio'] = 1\n",
    "app_data['UPT_ADJ_diff'] = 0\n",
    "app_data['fitted_exp_diff'] = 0\n",
    "\n",
    "# for tracking new systems\n",
    "app_data['UPT_ADJ_first_year'] = 0\n",
    "app_data['UPT_ADJ_new_reporter'] = 0\n"
   ]
  },
  {
   "cell_type": "code",
   "execution_count": 78,
   "metadata": {
    "collapsed": true
   },
   "outputs": [],
   "source": [
    "# get the ridership in the first year the system starts. This allows us to track new systems. \n",
    "# calculate the FAC relative to a specific base year\n",
    "ids = app_data.index.get_level_values(0).unique()\n",
    "\n",
    "for id in ids: \n",
    "    years = app_data.loc[id].index.get_level_values(0).sort_values()\n",
    "    first_year = years[0]\n",
    "\n",
    "    app_data.loc[(id,first_year),'UPT_ADJ_new_reporter'] = app_data.loc[(id,first_year),'UPT_ADJ']\n",
    "    \n",
    "    for year in years: \n",
    "        app_data.loc[(id,year),'UPT_ADJ_first_year']   = app_data.loc[(id,first_year),'UPT_ADJ']\n"
   ]
  },
  {
   "cell_type": "code",
   "execution_count": 79,
   "metadata": {
    "collapsed": false
   },
   "outputs": [
    {
     "name": "stderr",
     "output_type": "stream",
     "text": [
      "C:\\Program Files\\Anaconda3\\lib\\site-packages\\ipykernel\\__main__.py:15: RuntimeWarning: invalid value encountered in double_scalars\n"
     ]
    }
   ],
   "source": [
    "# calculate the FAC relative to a specific base year\n",
    "ids = app_data.index.get_level_values(0).unique()\n",
    "\n",
    "for id in ids: \n",
    "    years = app_data.loc[id].index.get_level_values(0).sort_values()\n",
    "\n",
    "    for year in years[1:]:       \n",
    "        base_year = year-1\n",
    "        \n",
    "        for var in res.params.keys(): \n",
    "            # ratios and differences\n",
    "            if '_log' in var: \n",
    "                out_var = var.replace('_log', '_ratio')\n",
    "                app_data.loc[(id,year), out_var] = (app_data.loc[(id,year), var] \n",
    "                                                 / app_data.loc[(id,base_year), var])\n",
    "            else: \n",
    "                out_var = var+'_diff'                    \n",
    "                app_data.loc[(id,year), out_var] = (app_data.loc[(id,year), var] \n",
    "                                                 - app_data.loc[(id,base_year), var])\n",
    "\n",
    "            # FAC multipliers\n",
    "            app_data.loc[(id,year),var+'_FAC_ratio'] = np.exp(res.params[var] * (\n",
    "                                                    app_data.loc[(id,year), var] \n",
    "                                                    - app_data.loc[(id,base_year), var]))\n",
    "\n",
    "            # estimated effects (if time effects is zero, no change)\n",
    "            app_data.loc[(id,year),'effects_FAC_ratio'] = np.exp(\n",
    "                                                    app_data.loc[(id,year), 'effects'] \n",
    "                                                    - app_data.loc[(id,base_year), 'effects'])\n",
    "\n",
    "            # residual\n",
    "            app_data.loc[(id,year),'residual_FAC_ratio'] = np.exp(\n",
    "                                                    app_data.loc[(id,year), 'residual'] \n",
    "                                                    - app_data.loc[(id,base_year), 'residual'])\n",
    "\n",
    "        # observed and fitted changes            \n",
    "        app_data.loc[(id,year),'UPT_ADJ_base'] = app_data.loc[(id,base_year),'UPT_ADJ']\n",
    "        app_data.loc[(id,year),'UPT_ADJ_ratio'] = (app_data.loc[(id,year),'UPT_ADJ'] \n",
    "                                                 / app_data.loc[(id,base_year),'UPT_ADJ'])\n",
    "        app_data.loc[(id,year),'fitted_exp_ratio'] = (app_data.loc[(id,year),'fitted_exp'] \n",
    "                                                 / app_data.loc[(id,base_year),'fitted_exp'])\n",
    "\n",
    "        app_data.loc[(id,year),'UPT_ADJ_diff'] = (app_data.loc[(id,year),'UPT_ADJ'] \n",
    "                                                 - app_data.loc[(id,base_year),'UPT_ADJ'])\n",
    "        app_data.loc[(id,year),'fitted_exp_diff'] = (app_data.loc[(id,year),'fitted_exp'] \n",
    "                                                 - app_data.loc[(id,base_year),'fitted_exp'])\n",
    "        "
   ]
  },
  {
   "cell_type": "code",
   "execution_count": 80,
   "metadata": {
    "collapsed": true
   },
   "outputs": [],
   "source": [
    "# calculate the FAC\n",
    "app_data['FAC_Sum'] = 0\n",
    "for var in res.params.keys(): \n",
    "    app_data[var+'_FAC'] = (app_data[var+'_FAC_ratio'] - 1) * app_data['UPT_ADJ_base']\n",
    "    app_data['FAC_Sum'] = app_data['FAC_Sum'] + app_data[var+'_FAC']\n"
   ]
  },
  {
   "cell_type": "code",
   "execution_count": 81,
   "metadata": {
    "collapsed": true
   },
   "outputs": [],
   "source": [
    "\n",
    "# total FAC is based on the fitted model (applied multiplicitively)\n",
    "app_data['Known_FAC'] = (app_data['fitted_exp_ratio'] - 1) * app_data['UPT_ADJ_base']\n",
    "\n",
    "# uknown change is the difference between the observed change and the known change\n",
    "app_data['Unknown_FAC'] = app_data['UPT_ADJ_diff'] - app_data['Known_FAC']\n",
    "\n",
    "# the change in ridership associated new systems\n",
    "app_data['New_Reporter_FAC'] = app_data['UPT_ADJ_new_reporter'] \n",
    "\n",
    "# should be teh same as UPT_ADJ_DIFF\n",
    "app_data['Total_Change'] = app_data['Known_FAC'] + app_data['Unknown_FAC'] + app_data['New_Reporter_FAC']\n"
   ]
  },
  {
   "cell_type": "code",
   "execution_count": 82,
   "metadata": {
    "collapsed": true
   },
   "outputs": [],
   "source": [
    "# calculate APTA - 4 groups\n",
    "app_data['CLUSTER_APTA4'] = np.floor(app_data['CLUSTER_APTA']/10)"
   ]
  },
  {
   "cell_type": "code",
   "execution_count": 83,
   "metadata": {
    "collapsed": true
   },
   "outputs": [],
   "source": [
    "# reset the index so I get ID and year\n",
    "app_data = app_data.reset_index()\n",
    "app_data = app_data.rename(columns={'level_0' : 'ID', 'level_1' : 'Year'})\n",
    "app_data.to_csv('FAC.csv')"
   ]
  },
  {
   "cell_type": "code",
   "execution_count": 84,
   "metadata": {
    "collapsed": true
   },
   "outputs": [],
   "source": [
    "# these are the fields we keep\n",
    "out_fields = ['ID', 'Year', 'RAIL_FLAG', \n",
    "              'CLUSTER_APTA', 'CLUSTER_APTA4',    \n",
    "              'UPT_ADJ_first_year', \n",
    "              'UPT_ADJ_base', 'UPT_ADJ', 'UPT_ADJ_diff', \n",
    "              'fitted_exp', 'fitted_exp_diff']\n",
    "\n",
    "# exogenous variables \n",
    "for var in res.params.keys(): \n",
    "    out_var = var.replace('_log', '')\n",
    "    out_fields = out_fields + [out_var]\n",
    "    \n",
    "# FAC\n",
    "for var in res.params.keys(): \n",
    "    out_fields = out_fields + [var+'_FAC']\n",
    "out_fields = out_fields + ['FAC_Sum', 'Known_FAC', 'Unknown_FAC', 'New_Reporter_FAC', 'Total_Change']\n",
    "    \n",
    "# keep those fields\n",
    "summary_data = app_data.reset_index()[out_fields]"
   ]
  },
  {
   "cell_type": "code",
   "execution_count": null,
   "metadata": {
    "collapsed": true
   },
   "outputs": [],
   "source": []
  },
  {
   "cell_type": "code",
   "execution_count": 85,
   "metadata": {
    "collapsed": true
   },
   "outputs": [],
   "source": [
    "# take weighted average of exogenous variables\n",
    "for var in res.params.keys(): \n",
    "    out_var = var.replace('_log', '')\n",
    "    summary_data[out_var] = summary_data[out_var] * summary_data['UPT_ADJ_base']\n",
    "\n",
    "# aggregate to bus/rail totals\n",
    "summary_data_apta4 = summary_data.groupby(by=['CLUSTER_APTA4', 'RAIL_FLAG', 'Year']).agg('sum')\n",
    "\n",
    "# divide for weighted averages\n",
    "for var in res.params.keys(): \n",
    "    out_var = var.replace('_log', '')\n",
    "    summary_data_apta4[out_var] = summary_data_apta4[out_var] / summary_data_apta4['UPT_ADJ_base']\n",
    "    "
   ]
  },
  {
   "cell_type": "code",
   "execution_count": 86,
   "metadata": {
    "collapsed": true
   },
   "outputs": [],
   "source": [
    "\n",
    "summary_data_apta4.to_csv('FAC_totals_APTA4_CLUSTERS.csv')\n"
   ]
  },
  {
   "cell_type": "code",
   "execution_count": null,
   "metadata": {
    "collapsed": true
   },
   "outputs": [],
   "source": []
  },
  {
   "cell_type": "code",
   "execution_count": 66,
   "metadata": {
    "collapsed": true
   },
   "outputs": [],
   "source": [
    "df.to_csv('temp.csv')"
   ]
  },
  {
   "cell_type": "code",
   "execution_count": null,
   "metadata": {
    "collapsed": true
   },
   "outputs": [],
   "source": []
  }
 ],
 "metadata": {
  "anaconda-cloud": {},
  "kernelspec": {
   "display_name": "Python [default]",
   "language": "python",
   "name": "python3"
  },
  "language_info": {
   "codemirror_mode": {
    "name": "ipython",
    "version": 3
   },
   "file_extension": ".py",
   "mimetype": "text/x-python",
   "name": "python",
   "nbconvert_exporter": "python",
   "pygments_lexer": "ipython3",
   "version": "3.5.6"
  }
 },
 "nbformat": 4,
 "nbformat_minor": 1
}
