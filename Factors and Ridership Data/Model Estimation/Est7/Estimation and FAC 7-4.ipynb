{
 "cells": [
  {
   "cell_type": "code",
   "execution_count": 1,
   "metadata": {
    "collapsed": true
   },
   "outputs": [],
   "source": [
    "## fewer exclusions.  Don't throw out good data. "
   ]
  },
  {
   "cell_type": "code",
   "execution_count": 2,
   "metadata": {
    "collapsed": false
   },
   "outputs": [
    {
     "name": "stderr",
     "output_type": "stream",
     "text": [
      "C:\\Program Files\\Anaconda3\\lib\\site-packages\\statsmodels\\compat\\pandas.py:56: FutureWarning: The pandas.core.datetools module is deprecated and will be removed in a future version. Please use the pandas.tseries module instead.\n",
      "  from pandas.core import datetools\n"
     ]
    }
   ],
   "source": [
    "import pandas as pd\n",
    "import seaborn as sns\n",
    "import numpy as np\n",
    "import linearmodels as lm\n",
    "import matplotlib\n",
    "import math\n",
    "import statsmodels.formula.api as smf\n",
    "import statsmodels.api as sm\n",
    "\n",
    "from linearmodels.panel import PanelOLS\n",
    "from linearmodels.panel import RandomEffects\n",
    "from linearmodels.panel import FirstDifferenceOLS\n",
    "from linearmodels.panel import compare\n",
    "from matplotlib import pyplot as plt\n",
    "\n",
    "from pandas.api.types import is_numeric_dtype\n",
    "\n",
    "pd.set_option('display.max_columns', 500)\n",
    "\n",
    "%matplotlib inline"
   ]
  },
  {
   "cell_type": "code",
   "execution_count": 3,
   "metadata": {
    "collapsed": false
   },
   "outputs": [
    {
     "name": "stderr",
     "output_type": "stream",
     "text": [
      "C:\\Program Files\\Anaconda3\\lib\\site-packages\\IPython\\core\\interactiveshell.py:2717: DtypeWarning: Columns (118,127) have mixed types. Specify dtype option on import or set low_memory=False.\n",
      "  interactivity=interactivity, compiler=compiler, result=result)\n"
     ]
    }
   ],
   "source": [
    "# read the main data set\n",
    "df=pd.read_csv('estimation_file_normal_fare.csv',\n",
    "                    encoding='utf-8')\n"
   ]
  },
  {
   "cell_type": "code",
   "execution_count": 4,
   "metadata": {
    "collapsed": true
   },
   "outputs": [],
   "source": [
    "# read in and join the maintenance and restructure data\n",
    "mr=pd.read_csv('maintenance_restructure.csv',\n",
    "                    encoding='utf-8')\n",
    "mr = mr[['CBSA', 'Mode', 'Year', 'MAINTENANCE', 'MAINTENANCE_NYC', 'MAINTENANCE_WMATA', 'RESTRUCTURE']]\n",
    "\n",
    "df = df.merge(mr, on=['CBSA', 'Mode', 'Year'], how='left')"
   ]
  },
  {
   "cell_type": "code",
   "execution_count": 5,
   "metadata": {
    "collapsed": true
   },
   "outputs": [],
   "source": [
    "# read in and join the bike share updates\n",
    "bsu=pd.read_csv('bike_share_update.csv',\n",
    "                    encoding='utf-8')\n",
    "bsu = bsu[['CBSA', 'Mode', 'Year', 'PBS_Flag_Update']]\n",
    "\n",
    "df = df.merge(bsu, on=['CBSA', 'Mode', 'Year'], how='left')\n",
    "\n",
    "#df['PBS_Flag_Missing'] = df['PBS_Flag'].apply(lambda x : x.isnan())\n",
    "df['PBS_Flag'] = np.where(df['PBS_Flag'].isnull(), df['PBS_Flag_Update'], df['PBS_Flag'])"
   ]
  },
  {
   "cell_type": "code",
   "execution_count": 6,
   "metadata": {
    "collapsed": true
   },
   "outputs": [],
   "source": [
    "# 4 apta clusers\n",
    "df['CLUSTER_APTA4'] = np.floor(df['CLUSTER_APTA']/10)"
   ]
  },
  {
   "cell_type": "code",
   "execution_count": 7,
   "metadata": {
    "collapsed": true
   },
   "outputs": [],
   "source": [
    "# exclude if ridership is zero--missing data\n",
    "df = df[df['UPT_ADJ']>0]"
   ]
  },
  {
   "cell_type": "code",
   "execution_count": 8,
   "metadata": {
    "collapsed": true
   },
   "outputs": [],
   "source": [
    "# fill in missing data as needed\n",
    "\n",
    "# min fare is zero\n",
    "df['FARE_per_UPT_2018'] = df['FARE_per_UPT_2018'].apply(lambda x : max(x,0))\n",
    "\n",
    "# max fare is $20\n",
    "df['FARE_per_UPT_2018'] = df['FARE_per_UPT_2018'].apply(lambda x : min(x,20))\n",
    "\n",
    "# zero vehicle HH can't go negative\n",
    "df['HH_0Veh'] = df['HH_0Veh'].apply(lambda x : max(x,0))\n"
   ]
  },
  {
   "cell_type": "code",
   "execution_count": 9,
   "metadata": {
    "collapsed": false
   },
   "outputs": [
    {
     "name": "stdout",
     "output_type": "stream",
     "text": [
      "Excluding 0 records with missing VRM\n",
      "Excluding 5 records with problem flag set to 1\n"
     ]
    }
   ],
   "source": [
    "# exclude problematic data\n",
    "old_len = len(df)\n",
    "df = df[df['VRM_ADJ']>0]\n",
    "new_len = len(df)\n",
    "print('Excluding ' + str(old_len-new_len) + ' records with missing VRM') \n",
    "\n",
    "# exclude if problem flag 2 is set\n",
    "old_len = len(df)\n",
    "df = df[df['PROBLEM_FLAG2']!=1]\n",
    "new_len = len(df)\n",
    "print('Excluding ' + str(old_len-new_len) + ' records with problem flag set to 1') \n",
    "\n"
   ]
  },
  {
   "cell_type": "code",
   "execution_count": 10,
   "metadata": {
    "collapsed": false
   },
   "outputs": [
    {
     "name": "stdout",
     "output_type": "stream",
     "text": [
      "Excluding 7 records with discontinuities in year.\n",
      "Excluding 5 records with discontinuities in year.\n",
      "Excluding 4 records with discontinuities in year.\n",
      "Excluding 3 records with discontinuities in year.\n",
      "Excluding 1 records with discontinuities in year.\n",
      "Excluding 1 records with discontinuities in year.\n",
      "Excluding 1 records with discontinuities in year.\n",
      "Excluding 1 records with discontinuities in year.\n",
      "Excluding 1 records with discontinuities in year.\n",
      "Excluding 0 records with discontinuities in year.\n"
     ]
    }
   ],
   "source": [
    "# exclude discontinuous data\n",
    "df = df.sort_values(by=['CBSA', 'Mode', 'Year'])\n",
    "\n",
    "excluded_records = 100\n",
    "while excluded_records > 0: \n",
    "    old_len = len(df)\n",
    "    df['YearDiff'] = df['Year'].shift(-1) - df['Year']\n",
    "    df = df[(df['YearDiff']==1) | (df['Year']==2018)]\n",
    "    excluded_records = old_len - len(df)\n",
    "    print('Excluding ' + str(excluded_records) + ' records with discontinuities in year.') \n",
    "\n"
   ]
  },
  {
   "cell_type": "code",
   "execution_count": 11,
   "metadata": {
    "collapsed": true
   },
   "outputs": [],
   "source": [
    "df['BUS_FLAG'] = np.where(df['Mode']=='Bus', 1, 0)\n",
    "df['RAIL_FLAG'] = np.where(df['Mode']=='Rail', 1, 0)"
   ]
  },
  {
   "cell_type": "code",
   "execution_count": 12,
   "metadata": {
    "collapsed": true
   },
   "outputs": [],
   "source": [
    "# include population + employment\n",
    "df['POP_EMP'] = df['Tot_Pop'] + df['TOT_EMP_MSA']\n",
    "df['HH_EMP'] = df['Total_HH'] + df['TOT_EMP_MSA']\n",
    "\n",
    "# percent of population in transit supportive density\n",
    "df['TSD_POP_PCT'] = df['POP_CENSUSTRACT'] / df['Tot_Pop']\n",
    "\n",
    "# percent of pop born outside USA\n",
    "df['Tot_NonUSA_POP_pct'] = df['Tot_NonUSA_POP'] / df['Tot_Pop'] * 100\n"
   ]
  },
  {
   "cell_type": "code",
   "execution_count": 13,
   "metadata": {
    "collapsed": true
   },
   "outputs": [],
   "source": [
    "# mode specific effects\n",
    "\n",
    "df['Bus_VRM_ADJ_RAIL']  = df['Bus_VRM_ADJ'] * df['RAIL_FLAG']\n",
    "df['Rail_VRM_ADJ_BUS'] = df['Rail_VRM_ADJ']  * df['BUS_FLAG']\n",
    "\n",
    "df['Bus_VRM_ADJ_RAIL_log'] = np.log(1+df['Bus_VRM_ADJ_RAIL'])\n",
    "df['Rail_VRM_ADJ_BUS_log'] = np.log(1+df['Rail_VRM_ADJ_BUS'])\n"
   ]
  },
  {
   "cell_type": "code",
   "execution_count": 14,
   "metadata": {
    "collapsed": true
   },
   "outputs": [],
   "source": [
    "# time effects\n",
    "df['YEARS_SINCE_2002']  = df['Year'] - 2002\n",
    "\n",
    "df['YEARS_2002_2010']  = df['Year'].apply(lambda x : min(x-2002, 8))\n",
    "df['YEARS_AFTER_2010'] = df['Year'].apply(lambda x : max(x-2010, 0))\n",
    "\n",
    "df['YEARS_2002_2014']  = df['Year'].apply(lambda x : min(x-2002, 12))\n",
    "df['YEARS_AFTER_2014'] = df['Year'].apply(lambda x : max(x-2014, 0))\n",
    "\n",
    "\n",
    "df['YEARS_SINCE_2002_BUS']  = df['YEARS_SINCE_2002'] * df['BUS_FLAG']\n",
    "df['YEARS_SINCE_2002_RAIL'] = df['YEARS_SINCE_2002'] * df['RAIL_FLAG']\n",
    "\n",
    "df['YEARS_2002_2010_BUS']   = df['YEARS_2002_2010'] * df['BUS_FLAG']\n",
    "df['YEARS_AFTER_2010_BUS']  = df['YEARS_AFTER_2010']* df['BUS_FLAG']\n",
    "df['YEARS_2002_2010_RAIL']  = df['YEARS_2002_2010'] * df['RAIL_FLAG']\n",
    "df['YEARS_AFTER_2010_RAIL'] = df['YEARS_AFTER_2010']* df['RAIL_FLAG']\n",
    "\n",
    "df['YEARS_2002_2014_BUS']   = df['YEARS_2002_2014'] * df['BUS_FLAG']\n",
    "df['YEARS_AFTER_2014_BUS']  = df['YEARS_AFTER_2014']* df['BUS_FLAG']\n",
    "df['YEARS_2002_2014_RAIL']  = df['YEARS_2002_2014'] * df['RAIL_FLAG']\n",
    "df['YEARS_AFTER_2014_RAIL'] = df['YEARS_AFTER_2014']* df['RAIL_FLAG']"
   ]
  },
  {
   "cell_type": "code",
   "execution_count": 15,
   "metadata": {
    "collapsed": false
   },
   "outputs": [],
   "source": [
    "# more time effects\n",
    "\n",
    "df['YEARS_AFTER_2012'] = df['Year'].apply(lambda x : max(x-2012, 0))\n",
    "\n",
    "df['TNC_YEARS_AFTER_2012'] = df['YEARS_AFTER_2012'] * df['TNC_FLAG']\n",
    "\n",
    "df['TNC_YEARS_AFTER_2012_BUS'] = df['TNC_YEARS_AFTER_2012'] * df['BUS_FLAG']\n",
    "df['TNC_YEARS_AFTER_2012_RAIL'] = df['TNC_YEARS_AFTER_2012'] * df['RAIL_FLAG']\n",
    "\n",
    "\n"
   ]
  },
  {
   "cell_type": "code",
   "execution_count": 16,
   "metadata": {
    "collapsed": true
   },
   "outputs": [],
   "source": [
    "# test rail ramp up period\n",
    "df['YEARS_SINCE_RAIL_START'] = (df['Year'] - df['min_year']) * df['RAIL_FLAG']\n",
    "df['YEARS_SINCE_RAIL_START'] = np.where(df['min_year']==2002, 0, df['YEARS_SINCE_RAIL_START'])\n",
    "\n",
    "df['YEARS_SINCE_RAIL_START_1'] = df['YEARS_SINCE_RAIL_START'].apply(lambda x : min(x, 1))\n",
    "df['YEARS_SINCE_RAIL_START_2'] = df['YEARS_SINCE_RAIL_START'].apply(lambda x : min(x, 2))\n",
    "df['YEARS_SINCE_RAIL_START_3'] = df['YEARS_SINCE_RAIL_START'].apply(lambda x : min(x, 3))\n",
    "\n"
   ]
  },
  {
   "cell_type": "code",
   "execution_count": 17,
   "metadata": {
    "collapsed": true
   },
   "outputs": [],
   "source": [
    "# calculate bus vs rail stuff\n",
    "\n",
    "# various bus/rail specifics\n",
    "\n",
    "df['TNC_FLAG_BUS'] = df['TNC_FLAG'] * df['BUS_FLAG']\n",
    "df['TNC_FLAG_RAIL'] = df['TNC_FLAG'] * df['RAIL_FLAG']\n",
    "\n",
    "df['YEARS_SINCE_TNC_BUS'] = df['YEARS_SINCE_TNC'] * df['BUS_FLAG']\n",
    "df['YEARS_SINCE_TNC_RAIL'] = df['YEARS_SINCE_TNC'] * df['RAIL_FLAG']\n",
    "\n",
    "df['dockless_flag'] = df['dockCt'].apply(lambda x : min(x,1))\n",
    "df['scooter_flag']  = df['scooterCt'].apply(lambda x : min(x,1))\n",
    "\n",
    "df['BIKE_SHARE'] = df['PBS_Flag'] + df['dockless_flag']\n",
    "df['BIKE_SHARE'] = df['BIKE_SHARE'].apply(lambda x : min(x,1))\n",
    "\n",
    "\n",
    "df['PBS_Flag_BUS']   = df['PBS_Flag']   * df['BUS_FLAG']\n",
    "df['dockCt_BUS']     = df['dockCt']     * df['BUS_FLAG']\n",
    "df['docklessCt_BUS'] = df['docklessCt'] * df['BUS_FLAG']\n",
    "df['scooterCt_BUS']  = df['scooterCt']  * df['BUS_FLAG']\n",
    "df['dockless_flag_BUS'] = df['dockless_flag'] * df['BUS_FLAG']\n",
    "df['scooter_flag_BUS']  = df['scooter_flag']  * df['BUS_FLAG']\n",
    "df['BIKE_SHARE_BUS']  = df['BIKE_SHARE']  * df['BUS_FLAG']\n",
    "\n",
    "\n",
    "df['PBS_Flag_RAIL']   = df['PBS_Flag']   * df['RAIL_FLAG']\n",
    "df['dockCt_RAIL']     = df['dockCt']     * df['RAIL_FLAG']\n",
    "df['docklessCt_RAIL'] = df['docklessCt'] * df['RAIL_FLAG']\n",
    "df['scooterCt_RAIL']  = df['scooterCt']  * df['RAIL_FLAG']\n",
    "df['dockless_flag_RAIL'] = df['dockless_flag'] * df['RAIL_FLAG']\n",
    "df['scooter_flag_RAIL']  = df['scooter_flag']  * df['RAIL_FLAG']\n",
    "df['BIKE_SHARE_RAIL']  = df['BIKE_SHARE']  * df['RAIL_FLAG']\n",
    "\n",
    "\n"
   ]
  },
  {
   "cell_type": "code",
   "execution_count": 18,
   "metadata": {
    "collapsed": true
   },
   "outputs": [],
   "source": [
    "# convert JTW to numeric columns\n",
    "df['JTW_DA_PCT']        = df['JTW_DA_PCT'].replace('#VALUE!', np.nan)\n",
    "df['JTW_CARPOOLED_PCT'] = df['JTW_CARPOOLED_PCT'].replace('#VALUE!', np.nan)\n",
    "df['JTW_TRANSIT_PCT']   = df['JTW_TRANSIT_PCT'].replace('#VALUE!', np.nan)\n",
    "df['JTW_WALK_PCT']      = df['JTW_WALK_PCT'].replace('#VALUE!', np.nan)\n",
    "df['JTW_BICYCLE_PCT']   = df['JTW_BICYCLE_PCT'].replace('#VALUE!', np.nan)\n",
    "df['JTW_OTHER_PCT']     = df['JTW_OTHER_PCT'].replace('#VALUE!', np.nan)\n",
    "df['JTW_HOME_PCT']      = df['JTW_HOME_PCT'].replace('#VALUE!', np.nan)\n",
    "\n",
    "\n",
    "df['JTW_DA_PCT']        = df['JTW_DA_PCT'].replace('N', np.nan)\n",
    "df['JTW_CARPOOLED_PCT'] = df['JTW_CARPOOLED_PCT'].replace('N', np.nan)\n",
    "df['JTW_TRANSIT_PCT']   = df['JTW_TRANSIT_PCT'].replace('N', np.nan)\n",
    "df['JTW_WALK_PCT']      = df['JTW_WALK_PCT'].replace('N', np.nan)\n",
    "df['JTW_BICYCLE_PCT']   = df['JTW_BICYCLE_PCT'].replace('N', np.nan)\n",
    "df['JTW_OTHER_PCT']     = df['JTW_OTHER_PCT'].replace('N', np.nan)\n",
    "df['JTW_HOME_PCT']      = df['JTW_HOME_PCT'].replace('N', np.nan)\n",
    "\n"
   ]
  },
  {
   "cell_type": "code",
   "execution_count": 19,
   "metadata": {
    "collapsed": true
   },
   "outputs": [],
   "source": [
    "# convert JTW to numeric columns\n",
    "df['JTW_DA_PCT']        = df['JTW_DA_PCT'].astype(float)\n",
    "df['JTW_CARPOOLED_PCT'] = df['JTW_CARPOOLED_PCT'].astype(float)\n",
    "df['JTW_TRANSIT_PCT']   = df['JTW_TRANSIT_PCT'].astype(float)\n",
    "df['JTW_WALK_PCT']      = df['JTW_WALK_PCT'].astype(float)\n",
    "df['JTW_BICYCLE_PCT']   = df['JTW_BICYCLE_PCT'].astype(float)\n",
    "df['JTW_OTHER_PCT']     = df['JTW_OTHER_PCT'].astype(float)\n",
    "df['JTW_HOME_PCT']      = df['JTW_HOME_PCT'].astype(float)\n"
   ]
  },
  {
   "cell_type": "code",
   "execution_count": 20,
   "metadata": {
    "collapsed": true
   },
   "outputs": [],
   "source": [
    "# immigrant population percentage\n",
    "df['Tot_NonUSA_POP_pct'] = df['Tot_NonUSA_POP'] / df['Tot_Pop'] * 100\n",
    "\n",
    "# include VRM on competing modes -- split\n",
    "df['VRM_ADJ_COMPETING_BUS']  = df['VRM_ADJ_COMPETING'] * df['RAIL_FLAG']\n",
    "df['VRM_ADJ_COMPETING_RAIL'] = df['VRM_ADJ_COMPETING'] * df['BUS_FLAG']\n",
    "\n",
    "# include VRM on competing modes -- split\n",
    "df['VRM_ADJ_COMPETING_BUS']  = df['VRM_ADJ_COMPETING'] * df['RAIL_FLAG']\n",
    "df['VRM_ADJ_COMPETING_RAIL'] = df['VRM_ADJ_COMPETING'] * df['BUS_FLAG']\n",
    "\n",
    "# flag testing introduction of new rail\n",
    "df['RAIL_COMPETITION'] = np.where(df['VRM_ADJ_COMPETING']>0, 1, 0) * df['BUS_FLAG']\n",
    "\n"
   ]
  },
  {
   "cell_type": "code",
   "execution_count": 21,
   "metadata": {
    "collapsed": true
   },
   "outputs": [],
   "source": [
    "# TNC lags -- bus vs rail\n",
    "df['TNC_FLAG_BUS_LAGGED_1'] = df['TNC_FLAG_LAGGED_1'] * df['BUS_FLAG']\n",
    "df['TNC_FLAG_BUS_LAGGED_2'] = df['TNC_FLAG_LAGGED_2'] * df['BUS_FLAG']\n",
    "df['TNC_FLAG_BUS_LAGGED_3'] = df['TNC_FLAG_LAGGED_3'] * df['BUS_FLAG']\n",
    "\n",
    "df['TNC_FLAG_RAIL_LAGGED_1'] = df['TNC_FLAG_LAGGED_1'] * df['RAIL_FLAG']\n",
    "df['TNC_FLAG_RAIL_LAGGED_2'] = df['TNC_FLAG_LAGGED_2'] * df['RAIL_FLAG']\n",
    "df['TNC_FLAG_RAIL_LAGGED_3'] = df['TNC_FLAG_LAGGED_3'] * df['RAIL_FLAG']\n",
    "\n",
    "# bike share plus scooters for rail\n",
    "df['BIKE_SCOOTER_RAIL'] = df['BIKE_SHARE_RAIL'] + df['scooter_flag_RAIL']\n",
    "\n",
    "# different spec of bike and scooter\n",
    "df['BIKE_SCOOTER_SCOOTER_RAIL'] = df['BIKE_SHARE_RAIL'] + df['scooter_flag_RAIL'] + df['scooter_flag_RAIL']\n",
    "\n",
    "# different spec of bike and scooter\n",
    "df['BIKE_SCOOTER_SCOOTER_RAIL'] = df['BIKE_SHARE_RAIL'] + df['scooter_flag_RAIL'] + df['scooter_flag_RAIL']\n",
    "\n",
    "# merge bike and scooter for bus\n",
    "df['BIKE_SCOOTER_SCOOTER_BUS'] = df['BIKE_SHARE_BUS'] + df['scooter_flag_BUS'] + df['scooter_flag_BUS']\n",
    "\n",
    "# merge bike and scooter for bus\n",
    "df['BIKE_SCOOTER_BUS'] = df['BIKE_SHARE_BUS'] + df['scooter_flag_BUS'] \n",
    "df['BIKE_SCOOTER_RAIL'] = df['BIKE_SHARE_RAIL'] + df['scooter_flag_RAIL'] \n",
    "\n",
    "# scooter or bike\n",
    "df['BIKE_OR_SCOOTER_BUS']  = df['BIKE_SHARE_BUS'] + df['scooter_flag_BUS'] \n",
    "df['BIKE_OR_SCOOTER_BUS']  = df['BIKE_OR_SCOOTER_BUS'].apply(lambda x : min(x, 1))\n",
    "\n",
    "df['BIKE_OR_SCOOTER_RAIL'] = df['BIKE_SHARE_RAIL'] + df['scooter_flag_RAIL'] \n",
    "df['BIKE_OR_SCOOTER_RAIL'] = df['BIKE_OR_SCOOTER_RAIL'].apply(lambda x : min(x, 1))\n",
    "\n",
    "# calculate average vehicles\n",
    "df['AVG_VEHS'] = (df['HH_1Veh'] + 2*df['HH_2Veh'] + 3*df['HH_3Veh'] + 4*df['HH_4+Veh']) / (df['HH_0Veh'] + df['HH_1Veh'] + df['HH_2Veh'] + df['HH_3Veh'] + df['HH_4+Veh'])\n",
    "df['AVG_VEHS_log'] = np.log(1+df['AVG_VEHS'])\n",
    "\n"
   ]
  },
  {
   "cell_type": "code",
   "execution_count": 22,
   "metadata": {
    "collapsed": true
   },
   "outputs": [],
   "source": [
    "# walk bike other commuting\n",
    "df['JTW_WALK_BIKE_OTHER_PCT'] = df['JTW_WALK_PCT'] + df['JTW_BICYCLE_PCT'] + df['JTW_OTHER_PCT']\n",
    "\n",
    "# walk bike commuting\n",
    "df['JTW_WALK_BIKE_PCT'] = df['JTW_WALK_PCT'] + df['JTW_BICYCLE_PCT']\n"
   ]
  },
  {
   "cell_type": "code",
   "execution_count": 23,
   "metadata": {
    "collapsed": false
   },
   "outputs": [],
   "source": [
    "\n",
    "df['VRM_ADJ_BUS'] = df['VRM_ADJ'] * df['BUS_FLAG']\n",
    "df['VRM_ADJ_RAIL'] = df['VRM_ADJ'] * df['RAIL_FLAG']"
   ]
  },
  {
   "cell_type": "code",
   "execution_count": 24,
   "metadata": {
    "collapsed": true
   },
   "outputs": [],
   "source": [
    "# percent of HH in transit supportive density\n",
    "df['TSD_POP_PCT'] = df['TSD_POP_PCT'] * 100"
   ]
  },
  {
   "cell_type": "code",
   "execution_count": 25,
   "metadata": {
    "collapsed": true
   },
   "outputs": [],
   "source": [
    "# segment TNCs by cluster\n",
    "df['HI_OPEX']  = np.where(df['CLUSTER_APTA4']==1, 1, 0)\n",
    "df['MID_OPEX'] = np.where(df['CLUSTER_APTA4']==2, 1, 0)\n",
    "df['LOW_OPEX'] = np.where(df['CLUSTER_APTA4']==3, 1, 0)\n",
    "df['NEW_YORK'] = np.where(df['CLUSTER_APTA4']==10, 1, 0)\n",
    "\n",
    "df['YEARS_SINCE_TNC_BUS_HI']  = df['YEARS_SINCE_TNC_BUS'] * df['HI_OPEX']\n",
    "df['YEARS_SINCE_TNC_BUS_MID'] = df['YEARS_SINCE_TNC_BUS'] * df['MID_OPEX']\n",
    "df['YEARS_SINCE_TNC_BUS_LOW'] = df['YEARS_SINCE_TNC_BUS'] * df['LOW_OPEX']\n",
    "df['YEARS_SINCE_TNC_BUS_NY']  = df['YEARS_SINCE_TNC_BUS'] * df['NEW_YORK']\n",
    "\n",
    "df['YEARS_SINCE_TNC_RAIL_HI']  = df['YEARS_SINCE_TNC_RAIL'] * df['HI_OPEX']\n",
    "df['YEARS_SINCE_TNC_RAIL_MID'] = df['YEARS_SINCE_TNC_RAIL'] * df['MID_OPEX']\n",
    "df['YEARS_SINCE_TNC_RAIL_LOW'] = df['YEARS_SINCE_TNC_RAIL'] * df['LOW_OPEX']\n",
    "df['YEARS_SINCE_TNC_RAIL_NY']  = df['YEARS_SINCE_TNC_RAIL'] * df['NEW_YORK']\n",
    "\n",
    "df['YEARS_SINCE_TNC_BUS_HINY']  = df['YEARS_SINCE_TNC_BUS_HI'] + df['YEARS_SINCE_TNC_BUS_NY']\n",
    "df['YEARS_SINCE_TNC_RAIL_HINY']  = df['YEARS_SINCE_TNC_RAIL_HI'] + df['YEARS_SINCE_TNC_RAIL_NY']\n",
    "\n",
    "df['YEARS_SINCE_TNC_BUS_MIDLOW']  = df['YEARS_SINCE_TNC_BUS_MID'] + df['YEARS_SINCE_TNC_BUS_LOW']\n",
    "df['YEARS_SINCE_TNC_RAIL_MIDLOW']  = df['YEARS_SINCE_TNC_RAIL_MID'] + df['YEARS_SINCE_TNC_RAIL_LOW']"
   ]
  },
  {
   "cell_type": "code",
   "execution_count": 26,
   "metadata": {
    "collapsed": true
   },
   "outputs": [],
   "source": [
    "# bikes and scooters by segment\n",
    "\n",
    "df['BIKE_SHARE_HI']  = df['BIKE_SHARE'] * df['HI_OPEX']\n",
    "df['BIKE_SHARE_MID'] = df['BIKE_SHARE'] * df['MID_OPEX']\n",
    "df['BIKE_SHARE_LOW'] = df['BIKE_SHARE'] * df['LOW_OPEX']\n",
    "df['BIKE_SHARE_NY']  = df['BIKE_SHARE'] * df['NEW_YORK']\n",
    "\n",
    "df['scooter_flag_HI']  = df['scooter_flag'] * df['HI_OPEX']\n",
    "df['scooter_flag_MID'] = df['scooter_flag'] * df['MID_OPEX']\n",
    "df['scooter_flag_LOW'] = df['scooter_flag'] * df['LOW_OPEX']\n",
    "df['scooter_flag_NY']  = df['scooter_flag'] * df['NEW_YORK']\n",
    "\n",
    "\n",
    "df['BIKE_SHARE_HINY']  = df['BIKE_SHARE_HI'] + df['BIKE_SHARE_NY']\n",
    "df['BIKE_SHARE_MIDLOW']  = df['BIKE_SHARE_MID'] + df['BIKE_SHARE_LOW']\n",
    "\n",
    "df['scooter_flag_HINY']  = df['scooter_flag_HI'] + df['scooter_flag_NY']\n",
    "df['scooter_flag_MIDLOW']  = df['scooter_flag_MID'] + df['scooter_flag_LOW']"
   ]
  },
  {
   "cell_type": "code",
   "execution_count": 27,
   "metadata": {
    "collapsed": true
   },
   "outputs": [],
   "source": [
    "# set the indices\n",
    "df['ID'] = df['MNAME'] + '-' + df['Mode']\n",
    "df=df.set_index(['ID','Year'])"
   ]
  },
  {
   "cell_type": "code",
   "execution_count": 28,
   "metadata": {
    "collapsed": true
   },
   "outputs": [],
   "source": [
    "# keep only the numeric columns -- the estimation will give an error otherwise\n",
    "df = df.select_dtypes(include=[np.number])"
   ]
  },
  {
   "cell_type": "code",
   "execution_count": 29,
   "metadata": {
    "collapsed": false
   },
   "outputs": [
    {
     "name": "stderr",
     "output_type": "stream",
     "text": [
      "C:\\Program Files\\Anaconda3\\lib\\site-packages\\ipykernel\\__main__.py:3: RuntimeWarning: invalid value encountered in log\n",
      "  app.launch_new_instance()\n",
      "C:\\Program Files\\Anaconda3\\lib\\site-packages\\ipykernel\\__main__.py:3: RuntimeWarning: divide by zero encountered in log\n",
      "  app.launch_new_instance()\n"
     ]
    }
   ],
   "source": [
    "# create a log of all fields\n",
    "for col in df.columns:\n",
    "    df[col+'_log'] = np.log(df[col]+1)\n",
    "    "
   ]
  },
  {
   "cell_type": "markdown",
   "metadata": {},
   "source": [
    "## Model Estimation Tests"
   ]
  },
  {
   "cell_type": "code",
   "execution_count": 30,
   "metadata": {
    "collapsed": false
   },
   "outputs": [
    {
     "name": "stderr",
     "output_type": "stream",
     "text": [
      "C:\\Program Files\\Anaconda3\\lib\\site-packages\\linearmodels\\panel\\data.py:39: FutureWarning: \n",
      "Passing list-likes to .loc or [] with any missing label will raise\n",
      "KeyError in the future, you can use .reindex() as an alternative.\n",
      "\n",
      "See the documentation here:\n",
      "https://pandas.pydata.org/pandas-docs/stable/indexing.html#deprecate-loc-reindex-listlike\n",
      "  new_df = df.copy().loc[self._full_index]\n",
      "C:\\Program Files\\Anaconda3\\lib\\site-packages\\linearmodels\\utility.py:476: MissingValueWarning: \n",
      "Inputs contain missing values. Dropping rows with missing observations.\n",
      "  warnings.warn(missing_value_warning_msg, MissingValueWarning)\n"
     ]
    },
    {
     "name": "stdout",
     "output_type": "stream",
     "text": [
      "                          PanelOLS Estimation Summary                           \n",
      "================================================================================\n",
      "Dep. Variable:            UPT_ADJ_log   R-squared:                        0.6702\n",
      "Estimator:                   PanelOLS   R-squared (Between):              0.9934\n",
      "No. Observations:                4172   R-squared (Within):               0.6702\n",
      "Date:                Tue, Dec 17 2019   R-squared (Overall):              0.9933\n",
      "Time:                        19:10:46   Log-likelihood                    1018.9\n",
      "Cov. Estimator:            Unadjusted                                           \n",
      "                                        F-statistic:                      658.69\n",
      "Entities:                         270   P-value                           0.0000\n",
      "Avg Obs:                       15.452   Distribution:                 F(12,3890)\n",
      "Min Obs:                       3.0000                                           \n",
      "Max Obs:                       17.000   F-statistic (robust):             658.69\n",
      "                                        P-value                           0.0000\n",
      "Time periods:                      17   Distribution:                 F(12,3890)\n",
      "Avg Obs:                       245.41                                           \n",
      "Min Obs:                       179.00                                           \n",
      "Max Obs:                       269.00                                           \n",
      "                                                                                \n",
      "                                      Parameter Estimates                                       \n",
      "================================================================================================\n",
      "                              Parameter  Std. Err.     T-stat    P-value    Lower CI    Upper CI\n",
      "------------------------------------------------------------------------------------------------\n",
      "VRM_ADJ_log                      0.8290     0.0118     70.073     0.0000      0.8058      0.8522\n",
      "FARE_per_UPT_2018_log           -0.5895     0.0191    -30.882     0.0000     -0.6269     -0.5520\n",
      "POP_EMP_log                      0.3315     0.0598     5.5386     0.0000      0.2141      0.4488\n",
      "GAS_PRICE_2018_log               0.2036     0.0269     7.5734     0.0000      0.1509      0.2563\n",
      "TOTAL_MED_INC_INDIV_2018_log    -0.2554     0.0565    -4.5225     0.0000     -0.3661     -0.1447\n",
      "PCT_HH_NO_VEH                    0.0072     0.0031     2.2890     0.0221      0.0010      0.0133\n",
      "TSD_POP_PCT                      0.0051     0.0016     3.1995     0.0014      0.0020      0.0082\n",
      "JTW_HOME_PCT                    -0.0052     0.0042    -1.2344     0.2171     -0.0133      0.0030\n",
      "YEARS_SINCE_TNC_BUS             -0.0297     0.0044    -6.7731     0.0000     -0.0382     -0.0211\n",
      "YEARS_SINCE_TNC_RAIL            -0.0085     0.0058    -1.4669     0.1425     -0.0199      0.0029\n",
      "BIKE_SHARE                       0.0174     0.0136     1.2826     0.1997     -0.0092      0.0440\n",
      "scooter_flag                    -0.0313     0.0277    -1.1309     0.2582     -0.0856      0.0230\n",
      "================================================================================================\n",
      "\n",
      "F-test for Poolability: 94.110\n",
      "P-value: 0.0000\n",
      "Distribution: F(269,3890)\n",
      "\n",
      "Included effects: Entity\n"
     ]
    }
   ],
   "source": [
    "# base model\n",
    "\n",
    "mod=PanelOLS.from_formula('UPT_ADJ_log \\\n",
    "                    ~ VRM_ADJ_log \\\n",
    "                    + FARE_per_UPT_2018_log \\\n",
    "                    + POP_EMP_log \\\n",
    "                    + GAS_PRICE_2018_log \\\n",
    "                    + TOTAL_MED_INC_INDIV_2018_log \\\n",
    "                    + PCT_HH_NO_VEH \\\n",
    "                    + TSD_POP_PCT \\\n",
    "                    + JTW_HOME_PCT \\\n",
    "                    + YEARS_SINCE_TNC_BUS \\\n",
    "                    + YEARS_SINCE_TNC_RAIL \\\n",
    "                    + BIKE_SHARE \\\n",
    "                    + scooter_flag \\\n",
    "                    + EntityEffects \\\n",
    "                    ',data=df)\n",
    "res=mod.fit()\n",
    "print(res)"
   ]
  },
  {
   "cell_type": "code",
   "execution_count": 31,
   "metadata": {
    "collapsed": false
   },
   "outputs": [
    {
     "name": "stdout",
     "output_type": "stream",
     "text": [
      "                          PanelOLS Estimation Summary                           \n",
      "================================================================================\n",
      "Dep. Variable:            UPT_ADJ_log   R-squared:                        0.7568\n",
      "Estimator:                   PanelOLS   R-squared (Between):              0.4524\n",
      "No. Observations:                 635   R-squared (Within):               0.7568\n",
      "Date:                Tue, Dec 17 2019   R-squared (Overall):              0.4538\n",
      "Time:                        19:10:46   Log-likelihood                    450.51\n",
      "Cov. Estimator:            Unadjusted                                           \n",
      "                                        F-statistic:                      151.72\n",
      "Entities:                          38   P-value                           0.0000\n",
      "Avg Obs:                       16.711   Distribution:                  F(12,585)\n",
      "Min Obs:                      10.0000                                           \n",
      "Max Obs:                       17.000   F-statistic (robust):             151.72\n",
      "                                        P-value                           0.0000\n",
      "Time periods:                      17   Distribution:                  F(12,585)\n",
      "Avg Obs:                       37.353                                           \n",
      "Min Obs:                       35.000                                           \n",
      "Max Obs:                       38.000                                           \n",
      "                                                                                \n",
      "                                      Parameter Estimates                                       \n",
      "================================================================================================\n",
      "                              Parameter  Std. Err.     T-stat    P-value    Lower CI    Upper CI\n",
      "------------------------------------------------------------------------------------------------\n",
      "VRM_ADJ_log                      0.6900     0.0225     30.691     0.0000      0.6458      0.7341\n",
      "FARE_per_UPT_2018_log           -0.4961     0.0610    -8.1387     0.0000     -0.6158     -0.3764\n",
      "POP_EMP_log                     -0.4152     0.1817    -2.2848     0.0227     -0.7722     -0.0583\n",
      "GAS_PRICE_2018_log               0.2193     0.0514     4.2643     0.0000      0.1183      0.3202\n",
      "TOTAL_MED_INC_INDIV_2018_log    -0.0540     0.1439    -0.3754     0.7075     -0.3366      0.2286\n",
      "PCT_HH_NO_VEH                    0.0153     0.0118     1.2939     0.1962     -0.0079      0.0386\n",
      "TSD_POP_PCT                     -0.0027     0.0026    -1.0241     0.3062     -0.0078      0.0024\n",
      "JTW_HOME_PCT                     0.0245     0.0140     1.7448     0.0815     -0.0031      0.0520\n",
      "YEARS_SINCE_TNC_BUS             -0.0058     0.0061    -0.9518     0.3416     -0.0178      0.0062\n",
      "YEARS_SINCE_TNC_RAIL             0.0178     0.0059     3.0004     0.0028      0.0062      0.0295\n",
      "BIKE_SHARE                       0.0081     0.0189     0.4263     0.6701     -0.0291      0.0453\n",
      "scooter_flag                    -0.0723     0.0297    -2.4342     0.0152     -0.1307     -0.0140\n",
      "================================================================================================\n",
      "\n",
      "F-test for Poolability: 54.795\n",
      "P-value: 0.0000\n",
      "Distribution: F(37,585)\n",
      "\n",
      "Included effects: Entity\n"
     ]
    },
    {
     "name": "stderr",
     "output_type": "stream",
     "text": [
      "C:\\Program Files\\Anaconda3\\lib\\site-packages\\linearmodels\\panel\\data.py:39: FutureWarning: \n",
      "Passing list-likes to .loc or [] with any missing label will raise\n",
      "KeyError in the future, you can use .reindex() as an alternative.\n",
      "\n",
      "See the documentation here:\n",
      "https://pandas.pydata.org/pandas-docs/stable/indexing.html#deprecate-loc-reindex-listlike\n",
      "  new_df = df.copy().loc[self._full_index]\n",
      "C:\\Program Files\\Anaconda3\\lib\\site-packages\\linearmodels\\utility.py:476: MissingValueWarning: \n",
      "Inputs contain missing values. Dropping rows with missing observations.\n",
      "  warnings.warn(missing_value_warning_msg, MissingValueWarning)\n"
     ]
    }
   ],
   "source": [
    "# High op-ex + NY\n",
    "df2 = df[(df['CLUSTER_APTA4']==1) | (df['CLUSTER_APTA4']==10)]\n",
    "\n",
    "mod=PanelOLS.from_formula('UPT_ADJ_log \\\n",
    "                    ~ VRM_ADJ_log \\\n",
    "                    + FARE_per_UPT_2018_log \\\n",
    "                    + POP_EMP_log \\\n",
    "                    + GAS_PRICE_2018_log \\\n",
    "                    + TOTAL_MED_INC_INDIV_2018_log \\\n",
    "                    + PCT_HH_NO_VEH \\\n",
    "                    + TSD_POP_PCT \\\n",
    "                    + JTW_HOME_PCT \\\n",
    "                    + YEARS_SINCE_TNC_BUS \\\n",
    "                    + YEARS_SINCE_TNC_RAIL \\\n",
    "                    + BIKE_SHARE \\\n",
    "                    + scooter_flag \\\n",
    "                    + EntityEffects \\\n",
    "                    ',data=df2)\n",
    "res=mod.fit()\n",
    "print(res)"
   ]
  },
  {
   "cell_type": "code",
   "execution_count": 32,
   "metadata": {
    "collapsed": false
   },
   "outputs": [
    {
     "name": "stdout",
     "output_type": "stream",
     "text": [
      "                          PanelOLS Estimation Summary                           \n",
      "================================================================================\n",
      "Dep. Variable:            UPT_ADJ_log   R-squared:                        0.7471\n",
      "Estimator:                   PanelOLS   R-squared (Between):              0.7503\n",
      "No. Observations:                1316   R-squared (Within):               0.7471\n",
      "Date:                Tue, Dec 17 2019   R-squared (Overall):              0.7549\n",
      "Time:                        19:10:46   Log-likelihood                    479.01\n",
      "Cov. Estimator:            Unadjusted                                           \n",
      "                                        F-statistic:                      300.28\n",
      "Entities:                          84   P-value                           0.0000\n",
      "Avg Obs:                       15.667   Distribution:                 F(12,1220)\n",
      "Min Obs:                       3.0000                                           \n",
      "Max Obs:                       17.000   F-statistic (robust):             300.28\n",
      "                                        P-value                           0.0000\n",
      "Time periods:                      17   Distribution:                 F(12,1220)\n",
      "Avg Obs:                       77.412                                           \n",
      "Min Obs:                       67.000                                           \n",
      "Max Obs:                       84.000                                           \n",
      "                                                                                \n",
      "                                      Parameter Estimates                                       \n",
      "================================================================================================\n",
      "                              Parameter  Std. Err.     T-stat    P-value    Lower CI    Upper CI\n",
      "------------------------------------------------------------------------------------------------\n",
      "VRM_ADJ_log                      0.7431     0.0191     38.890     0.0000      0.7056      0.7806\n",
      "FARE_per_UPT_2018_log           -0.8489     0.0263    -32.326     0.0000     -0.9005     -0.7974\n",
      "POP_EMP_log                      1.0360     0.1229     8.4321     0.0000      0.7949      1.2770\n",
      "GAS_PRICE_2018_log               0.0926     0.0462     2.0040     0.0453      0.0019      0.1832\n",
      "TOTAL_MED_INC_INDIV_2018_log    -0.2102     0.1007    -2.0872     0.0371     -0.4078     -0.0126\n",
      "PCT_HH_NO_VEH                    0.0142     0.0056     2.5211     0.0118      0.0032      0.0253\n",
      "TSD_POP_PCT                      0.0087     0.0027     3.2533     0.0012      0.0035      0.0140\n",
      "JTW_HOME_PCT                     0.0067     0.0087     0.7759     0.4380     -0.0103      0.0238\n",
      "YEARS_SINCE_TNC_BUS             -0.0556     0.0078    -7.1344     0.0000     -0.0709     -0.0403\n",
      "YEARS_SINCE_TNC_RAIL            -0.0323     0.0106    -3.0437     0.0024     -0.0532     -0.0115\n",
      "BIKE_SHARE                      -0.0151     0.0203    -0.7467     0.4554     -0.0549      0.0246\n",
      "scooter_flag                    -0.0139     0.0393    -0.3540     0.7234     -0.0911      0.0632\n",
      "================================================================================================\n",
      "\n",
      "F-test for Poolability: 46.766\n",
      "P-value: 0.0000\n",
      "Distribution: F(83,1220)\n",
      "\n",
      "Included effects: Entity\n"
     ]
    },
    {
     "name": "stderr",
     "output_type": "stream",
     "text": [
      "C:\\Program Files\\Anaconda3\\lib\\site-packages\\linearmodels\\panel\\data.py:39: FutureWarning: \n",
      "Passing list-likes to .loc or [] with any missing label will raise\n",
      "KeyError in the future, you can use .reindex() as an alternative.\n",
      "\n",
      "See the documentation here:\n",
      "https://pandas.pydata.org/pandas-docs/stable/indexing.html#deprecate-loc-reindex-listlike\n",
      "  new_df = df.copy().loc[self._full_index]\n",
      "C:\\Program Files\\Anaconda3\\lib\\site-packages\\linearmodels\\utility.py:476: MissingValueWarning: \n",
      "Inputs contain missing values. Dropping rows with missing observations.\n",
      "  warnings.warn(missing_value_warning_msg, MissingValueWarning)\n"
     ]
    }
   ],
   "source": [
    "# Mid op-ex \n",
    "df2 = df[(df['CLUSTER_APTA4']==2)]\n",
    "\n",
    "mod=PanelOLS.from_formula('UPT_ADJ_log \\\n",
    "                    ~ VRM_ADJ_log \\\n",
    "                    + FARE_per_UPT_2018_log \\\n",
    "                    + POP_EMP_log \\\n",
    "                    + GAS_PRICE_2018_log \\\n",
    "                    + TOTAL_MED_INC_INDIV_2018_log \\\n",
    "                    + PCT_HH_NO_VEH \\\n",
    "                    + TSD_POP_PCT \\\n",
    "                    + JTW_HOME_PCT \\\n",
    "                    + YEARS_SINCE_TNC_BUS \\\n",
    "                    + YEARS_SINCE_TNC_RAIL \\\n",
    "                    + BIKE_SHARE \\\n",
    "                    + scooter_flag \\\n",
    "                    + EntityEffects \\\n",
    "                    ',data=df2)\n",
    "res=mod.fit()\n",
    "print(res)"
   ]
  },
  {
   "cell_type": "code",
   "execution_count": 33,
   "metadata": {
    "collapsed": false
   },
   "outputs": [
    {
     "name": "stdout",
     "output_type": "stream",
     "text": [
      "                          PanelOLS Estimation Summary                           \n",
      "================================================================================\n",
      "Dep. Variable:            UPT_ADJ_log   R-squared:                        0.6523\n",
      "Estimator:                   PanelOLS   R-squared (Between):              0.9865\n",
      "No. Observations:                2221   R-squared (Within):               0.6523\n",
      "Date:                Tue, Dec 17 2019   R-squared (Overall):              0.9861\n",
      "Time:                        19:10:47   Log-likelihood                    360.41\n",
      "Cov. Estimator:            Unadjusted                                           \n",
      "                                        F-statistic:                      351.65\n",
      "Entities:                         148   P-value                           0.0000\n",
      "Avg Obs:                       15.007   Distribution:                 F(11,2062)\n",
      "Min Obs:                       4.0000                                           \n",
      "Max Obs:                       17.000   F-statistic (robust):             351.65\n",
      "                                        P-value                           0.0000\n",
      "Time periods:                      17   Distribution:                 F(11,2062)\n",
      "Avg Obs:                       130.65                                           \n",
      "Min Obs:                       77.000                                           \n",
      "Max Obs:                       148.00                                           \n",
      "                                                                                \n",
      "                                      Parameter Estimates                                       \n",
      "================================================================================================\n",
      "                              Parameter  Std. Err.     T-stat    P-value    Lower CI    Upper CI\n",
      "------------------------------------------------------------------------------------------------\n",
      "VRM_ADJ_log                      0.9136     0.0172     53.092     0.0000      0.8799      0.9474\n",
      "FARE_per_UPT_2018_log           -0.3902     0.0285    -13.707     0.0000     -0.4460     -0.3344\n",
      "POP_EMP_log                      0.1624     0.0777     2.0888     0.0369      0.0099      0.3148\n",
      "GAS_PRICE_2018_log               0.2365     0.0380     6.2309     0.0000      0.1620      0.3109\n",
      "TOTAL_MED_INC_INDIV_2018_log    -0.2198     0.0753    -2.9201     0.0035     -0.3674     -0.0722\n",
      "PCT_HH_NO_VEH                    0.0020     0.0040     0.5040     0.6143     -0.0059      0.0100\n",
      "TSD_POP_PCT                      0.0049     0.0029     1.6888     0.0914     -0.0008      0.0106\n",
      "JTW_HOME_PCT                    -0.0122     0.0052    -2.3526     0.0187     -0.0224     -0.0020\n",
      "YEARS_SINCE_TNC_BUS             -0.0353     0.0068    -5.1704     0.0000     -0.0487     -0.0219\n",
      "BIKE_SHARE                       0.0417     0.0234     1.7831     0.0747     -0.0042      0.0875\n",
      "scooter_flag                    -0.0578     0.0687    -0.8413     0.4003     -0.1926      0.0769\n",
      "================================================================================================\n",
      "\n",
      "F-test for Poolability: 96.745\n",
      "P-value: 0.0000\n",
      "Distribution: F(147,2062)\n",
      "\n",
      "Included effects: Entity\n"
     ]
    },
    {
     "name": "stderr",
     "output_type": "stream",
     "text": [
      "C:\\Program Files\\Anaconda3\\lib\\site-packages\\linearmodels\\panel\\data.py:39: FutureWarning: \n",
      "Passing list-likes to .loc or [] with any missing label will raise\n",
      "KeyError in the future, you can use .reindex() as an alternative.\n",
      "\n",
      "See the documentation here:\n",
      "https://pandas.pydata.org/pandas-docs/stable/indexing.html#deprecate-loc-reindex-listlike\n",
      "  new_df = df.copy().loc[self._full_index]\n",
      "C:\\Program Files\\Anaconda3\\lib\\site-packages\\linearmodels\\utility.py:476: MissingValueWarning: \n",
      "Inputs contain missing values. Dropping rows with missing observations.\n",
      "  warnings.warn(missing_value_warning_msg, MissingValueWarning)\n"
     ]
    }
   ],
   "source": [
    "# low op-ex\n",
    "\n",
    "df2 = df[(df['CLUSTER_APTA4']==3)]\n",
    "\n",
    "mod=PanelOLS.from_formula('UPT_ADJ_log \\\n",
    "                    ~ VRM_ADJ_log \\\n",
    "                    + FARE_per_UPT_2018_log \\\n",
    "                    + POP_EMP_log \\\n",
    "                    + GAS_PRICE_2018_log \\\n",
    "                    + TOTAL_MED_INC_INDIV_2018_log \\\n",
    "                    + PCT_HH_NO_VEH \\\n",
    "                    + TSD_POP_PCT \\\n",
    "                    + JTW_HOME_PCT \\\n",
    "                    + YEARS_SINCE_TNC_BUS \\\n",
    "                    + BIKE_SHARE \\\n",
    "                    + scooter_flag \\\n",
    "                    + EntityEffects \\\n",
    "                    ',data=df2)\n",
    "res=mod.fit()\n",
    "print(res)"
   ]
  },
  {
   "cell_type": "markdown",
   "metadata": {},
   "source": [
    "## with bus vs rail VRM"
   ]
  },
  {
   "cell_type": "code",
   "execution_count": 34,
   "metadata": {
    "collapsed": false
   },
   "outputs": [
    {
     "name": "stderr",
     "output_type": "stream",
     "text": [
      "C:\\Program Files\\Anaconda3\\lib\\site-packages\\linearmodels\\panel\\data.py:39: FutureWarning: \n",
      "Passing list-likes to .loc or [] with any missing label will raise\n",
      "KeyError in the future, you can use .reindex() as an alternative.\n",
      "\n",
      "See the documentation here:\n",
      "https://pandas.pydata.org/pandas-docs/stable/indexing.html#deprecate-loc-reindex-listlike\n",
      "  new_df = df.copy().loc[self._full_index]\n",
      "C:\\Program Files\\Anaconda3\\lib\\site-packages\\linearmodels\\utility.py:476: MissingValueWarning: \n",
      "Inputs contain missing values. Dropping rows with missing observations.\n",
      "  warnings.warn(missing_value_warning_msg, MissingValueWarning)\n"
     ]
    },
    {
     "name": "stdout",
     "output_type": "stream",
     "text": [
      "                          PanelOLS Estimation Summary                           \n",
      "================================================================================\n",
      "Dep. Variable:            UPT_ADJ_log   R-squared:                        0.6834\n",
      "Estimator:                   PanelOLS   R-squared (Between):              0.9808\n",
      "No. Observations:                4172   R-squared (Within):               0.6834\n",
      "Date:                Tue, Dec 17 2019   R-squared (Overall):              0.9815\n",
      "Time:                        19:10:48   Log-likelihood                    1104.4\n",
      "Cov. Estimator:            Unadjusted                                           \n",
      "                                        F-statistic:                      645.84\n",
      "Entities:                         270   P-value                           0.0000\n",
      "Avg Obs:                       15.452   Distribution:                 F(13,3889)\n",
      "Min Obs:                       3.0000                                           \n",
      "Max Obs:                       17.000   F-statistic (robust):             645.84\n",
      "                                        P-value                           0.0000\n",
      "Time periods:                      17   Distribution:                 F(13,3889)\n",
      "Avg Obs:                       245.41                                           \n",
      "Min Obs:                       179.00                                           \n",
      "Max Obs:                       269.00                                           \n",
      "                                                                                \n",
      "                                      Parameter Estimates                                       \n",
      "================================================================================================\n",
      "                              Parameter  Std. Err.     T-stat    P-value    Lower CI    Upper CI\n",
      "------------------------------------------------------------------------------------------------\n",
      "VRM_ADJ_BUS_log                  0.9294     0.0140     66.339     0.0000      0.9019      0.9568\n",
      "VRM_ADJ_RAIL_log                 0.6280     0.0196     32.117     0.0000      0.5897      0.6663\n",
      "FARE_per_UPT_2018_log           -0.5836     0.0187    -31.196     0.0000     -0.6203     -0.5470\n",
      "POP_EMP_log                      0.2733     0.0588     4.6472     0.0000      0.1580      0.3886\n",
      "GAS_PRICE_2018_log               0.2015     0.0263     7.6490     0.0000      0.1499      0.2532\n",
      "TOTAL_MED_INC_INDIV_2018_log    -0.2441     0.0553    -4.4104     0.0000     -0.3526     -0.1356\n",
      "PCT_HH_NO_VEH                    0.0065     0.0031     2.1237     0.0338      0.0005      0.0125\n",
      "TSD_POP_PCT                      0.0032     0.0016     2.0377     0.0416      0.0001      0.0063\n",
      "JTW_HOME_PCT                    -0.0061     0.0041    -1.4916     0.1359     -0.0141      0.0019\n",
      "YEARS_SINCE_TNC_BUS             -0.0330     0.0043    -7.6696     0.0000     -0.0414     -0.0245\n",
      "YEARS_SINCE_TNC_RAIL             0.0090     0.0059     1.5388     0.1239     -0.0025      0.0205\n",
      "BIKE_SHARE                       0.0246     0.0133     1.8500     0.0644     -0.0015      0.0507\n",
      "scooter_flag                    -0.0319     0.0271    -1.1759     0.2397     -0.0851      0.0213\n",
      "================================================================================================\n",
      "\n",
      "F-test for Poolability: 95.327\n",
      "P-value: 0.0000\n",
      "Distribution: F(269,3889)\n",
      "\n",
      "Included effects: Entity\n"
     ]
    }
   ],
   "source": [
    "# base model\n",
    "\n",
    "mod=PanelOLS.from_formula('UPT_ADJ_log \\\n",
    "                    ~ VRM_ADJ_BUS_log \\\n",
    "                    + VRM_ADJ_RAIL_log \\\n",
    "                    + FARE_per_UPT_2018_log \\\n",
    "                    + POP_EMP_log \\\n",
    "                    + GAS_PRICE_2018_log \\\n",
    "                    + TOTAL_MED_INC_INDIV_2018_log \\\n",
    "                    + PCT_HH_NO_VEH \\\n",
    "                    + TSD_POP_PCT \\\n",
    "                    + JTW_HOME_PCT \\\n",
    "                    + YEARS_SINCE_TNC_BUS \\\n",
    "                    + YEARS_SINCE_TNC_RAIL \\\n",
    "                    + BIKE_SHARE \\\n",
    "                    + scooter_flag \\\n",
    "                    + EntityEffects \\\n",
    "                    ',data=df)\n",
    "res=mod.fit()\n",
    "print(res)"
   ]
  },
  {
   "cell_type": "code",
   "execution_count": 35,
   "metadata": {
    "collapsed": false
   },
   "outputs": [
    {
     "name": "stdout",
     "output_type": "stream",
     "text": [
      "                          PanelOLS Estimation Summary                           \n",
      "================================================================================\n",
      "Dep. Variable:            UPT_ADJ_log   R-squared:                        0.7596\n",
      "Estimator:                   PanelOLS   R-squared (Between):              0.2869\n",
      "No. Observations:                 635   R-squared (Within):               0.7596\n",
      "Date:                Tue, Dec 17 2019   R-squared (Overall):              0.2855\n",
      "Time:                        19:10:48   Log-likelihood                    454.19\n",
      "Cov. Estimator:            Unadjusted                                           \n",
      "                                        F-statistic:                      141.97\n",
      "Entities:                          38   P-value                           0.0000\n",
      "Avg Obs:                       16.711   Distribution:                  F(13,584)\n",
      "Min Obs:                      10.0000                                           \n",
      "Max Obs:                       17.000   F-statistic (robust):             141.97\n",
      "                                        P-value                           0.0000\n",
      "Time periods:                      17   Distribution:                  F(13,584)\n",
      "Avg Obs:                       37.353                                           \n",
      "Min Obs:                       35.000                                           \n",
      "Max Obs:                       38.000                                           \n",
      "                                                                                \n",
      "                                      Parameter Estimates                                       \n",
      "================================================================================================\n",
      "                              Parameter  Std. Err.     T-stat    P-value    Lower CI    Upper CI\n",
      "------------------------------------------------------------------------------------------------\n",
      "VRM_ADJ_BUS_log                  0.4615     0.0903     5.1085     0.0000      0.2841      0.6389\n",
      "VRM_ADJ_RAIL_log                 0.7007     0.0227     30.805     0.0000      0.6561      0.7454\n",
      "FARE_per_UPT_2018_log           -0.5156     0.0611    -8.4370     0.0000     -0.6356     -0.3956\n",
      "POP_EMP_log                     -0.3651     0.1819    -2.0076     0.0451     -0.7223     -0.0079\n",
      "GAS_PRICE_2018_log               0.2067     0.0514     4.0218     0.0001      0.1057      0.3076\n",
      "TOTAL_MED_INC_INDIV_2018_log    -0.1038     0.1444    -0.7185     0.4727     -0.3875      0.1799\n",
      "PCT_HH_NO_VEH                    0.0085     0.0121     0.7083     0.4790     -0.0151      0.0322\n",
      "TSD_POP_PCT                     -0.0023     0.0026    -0.8839     0.3771     -0.0074      0.0028\n",
      "JTW_HOME_PCT                     0.0198     0.0141     1.4071     0.1599     -0.0078      0.0474\n",
      "YEARS_SINCE_TNC_BUS             -0.0041     0.0061    -0.6681     0.5043     -0.0161      0.0079\n",
      "YEARS_SINCE_TNC_RAIL             0.0162     0.0059     2.7219     0.0067      0.0045      0.0279\n",
      "BIKE_SHARE                       0.0106     0.0189     0.5606     0.5753     -0.0265      0.0476\n",
      "scooter_flag                    -0.0689     0.0296    -2.3293     0.0202     -0.1271     -0.0108\n",
      "================================================================================================\n",
      "\n",
      "F-test for Poolability: 48.592\n",
      "P-value: 0.0000\n",
      "Distribution: F(37,584)\n",
      "\n",
      "Included effects: Entity\n"
     ]
    },
    {
     "name": "stderr",
     "output_type": "stream",
     "text": [
      "C:\\Program Files\\Anaconda3\\lib\\site-packages\\linearmodels\\panel\\data.py:39: FutureWarning: \n",
      "Passing list-likes to .loc or [] with any missing label will raise\n",
      "KeyError in the future, you can use .reindex() as an alternative.\n",
      "\n",
      "See the documentation here:\n",
      "https://pandas.pydata.org/pandas-docs/stable/indexing.html#deprecate-loc-reindex-listlike\n",
      "  new_df = df.copy().loc[self._full_index]\n",
      "C:\\Program Files\\Anaconda3\\lib\\site-packages\\linearmodels\\utility.py:476: MissingValueWarning: \n",
      "Inputs contain missing values. Dropping rows with missing observations.\n",
      "  warnings.warn(missing_value_warning_msg, MissingValueWarning)\n"
     ]
    }
   ],
   "source": [
    "# High op-ex + NY\n",
    "df2 = df[(df['CLUSTER_APTA4']==1) | (df['CLUSTER_APTA4']==10)]\n",
    "\n",
    "mod=PanelOLS.from_formula('UPT_ADJ_log \\\n",
    "                    ~ VRM_ADJ_BUS_log \\\n",
    "                    + VRM_ADJ_RAIL_log \\\n",
    "                    + FARE_per_UPT_2018_log \\\n",
    "                    + POP_EMP_log \\\n",
    "                    + GAS_PRICE_2018_log \\\n",
    "                    + TOTAL_MED_INC_INDIV_2018_log \\\n",
    "                    + PCT_HH_NO_VEH \\\n",
    "                    + TSD_POP_PCT \\\n",
    "                    + JTW_HOME_PCT \\\n",
    "                    + YEARS_SINCE_TNC_BUS \\\n",
    "                    + YEARS_SINCE_TNC_RAIL \\\n",
    "                    + BIKE_SHARE \\\n",
    "                    + scooter_flag \\\n",
    "                    + EntityEffects \\\n",
    "                    ',data=df2)\n",
    "res=mod.fit()\n",
    "print(res)"
   ]
  },
  {
   "cell_type": "code",
   "execution_count": 36,
   "metadata": {
    "collapsed": false
   },
   "outputs": [
    {
     "name": "stdout",
     "output_type": "stream",
     "text": [
      "                          PanelOLS Estimation Summary                           \n",
      "================================================================================\n",
      "Dep. Variable:            UPT_ADJ_log   R-squared:                        0.7746\n",
      "Estimator:                   PanelOLS   R-squared (Between):              0.7111\n",
      "No. Observations:                1316   R-squared (Within):               0.7746\n",
      "Date:                Tue, Dec 17 2019   R-squared (Overall):              0.7003\n",
      "Time:                        19:10:48   Log-likelihood                    554.91\n",
      "Cov. Estimator:            Unadjusted                                           \n",
      "                                        F-statistic:                      322.28\n",
      "Entities:                          84   P-value                           0.0000\n",
      "Avg Obs:                       15.667   Distribution:                 F(13,1219)\n",
      "Min Obs:                       3.0000                                           \n",
      "Max Obs:                       17.000   F-statistic (robust):             322.28\n",
      "                                        P-value                           0.0000\n",
      "Time periods:                      17   Distribution:                 F(13,1219)\n",
      "Avg Obs:                       77.412                                           \n",
      "Min Obs:                       67.000                                           \n",
      "Max Obs:                       84.000                                           \n",
      "                                                                                \n",
      "                                      Parameter Estimates                                       \n",
      "================================================================================================\n",
      "                              Parameter  Std. Err.     T-stat    P-value    Lower CI    Upper CI\n",
      "------------------------------------------------------------------------------------------------\n",
      "VRM_ADJ_BUS_log                  1.0348     0.0299     34.558     0.0000      0.9761      1.0936\n",
      "VRM_ADJ_RAIL_log                 0.5949     0.0217     27.354     0.0000      0.5522      0.6375\n",
      "FARE_per_UPT_2018_log           -0.8427     0.0248    -33.973     0.0000     -0.8914     -0.7941\n",
      "POP_EMP_log                      0.8540     0.1170     7.3004     0.0000      0.6245      1.0835\n",
      "GAS_PRICE_2018_log               0.1293     0.0437     2.9575     0.0032      0.0435      0.2152\n",
      "TOTAL_MED_INC_INDIV_2018_log    -0.2421     0.0951    -2.5440     0.0111     -0.4287     -0.0554\n",
      "PCT_HH_NO_VEH                    0.0107     0.0053     2.0027     0.0454      0.0002      0.0211\n",
      "TSD_POP_PCT                      0.0095     0.0025     3.7356     0.0002      0.0045      0.0144\n",
      "JTW_HOME_PCT                     0.0080     0.0082     0.9762     0.3291     -0.0081      0.0241\n",
      "YEARS_SINCE_TNC_BUS             -0.0558     0.0074    -7.5801     0.0000     -0.0703     -0.0414\n",
      "YEARS_SINCE_TNC_RAIL            -0.0101     0.0102    -0.9951     0.3199     -0.0301      0.0099\n",
      "BIKE_SHARE                      -0.0066     0.0192    -0.3471     0.7285     -0.0442      0.0309\n",
      "scooter_flag                    -0.0214     0.0371    -0.5750     0.5654     -0.0942      0.0515\n",
      "================================================================================================\n",
      "\n",
      "F-test for Poolability: 51.791\n",
      "P-value: 0.0000\n",
      "Distribution: F(83,1219)\n",
      "\n",
      "Included effects: Entity\n"
     ]
    },
    {
     "name": "stderr",
     "output_type": "stream",
     "text": [
      "C:\\Program Files\\Anaconda3\\lib\\site-packages\\linearmodels\\panel\\data.py:39: FutureWarning: \n",
      "Passing list-likes to .loc or [] with any missing label will raise\n",
      "KeyError in the future, you can use .reindex() as an alternative.\n",
      "\n",
      "See the documentation here:\n",
      "https://pandas.pydata.org/pandas-docs/stable/indexing.html#deprecate-loc-reindex-listlike\n",
      "  new_df = df.copy().loc[self._full_index]\n",
      "C:\\Program Files\\Anaconda3\\lib\\site-packages\\linearmodels\\utility.py:476: MissingValueWarning: \n",
      "Inputs contain missing values. Dropping rows with missing observations.\n",
      "  warnings.warn(missing_value_warning_msg, MissingValueWarning)\n"
     ]
    }
   ],
   "source": [
    "# Mid op-ex \n",
    "df2 = df[(df['CLUSTER_APTA4']==2)]\n",
    "\n",
    "mod=PanelOLS.from_formula('UPT_ADJ_log \\\n",
    "                    ~ VRM_ADJ_BUS_log \\\n",
    "                    + VRM_ADJ_RAIL_log \\\n",
    "                    + FARE_per_UPT_2018_log \\\n",
    "                    + POP_EMP_log \\\n",
    "                    + GAS_PRICE_2018_log \\\n",
    "                    + TOTAL_MED_INC_INDIV_2018_log \\\n",
    "                    + PCT_HH_NO_VEH \\\n",
    "                    + TSD_POP_PCT \\\n",
    "                    + JTW_HOME_PCT \\\n",
    "                    + YEARS_SINCE_TNC_BUS \\\n",
    "                    + YEARS_SINCE_TNC_RAIL \\\n",
    "                    + BIKE_SHARE \\\n",
    "                    + scooter_flag \\\n",
    "                    + EntityEffects \\\n",
    "                    ',data=df2)\n",
    "res=mod.fit()\n",
    "print(res)"
   ]
  },
  {
   "cell_type": "code",
   "execution_count": 37,
   "metadata": {
    "collapsed": false
   },
   "outputs": [
    {
     "name": "stdout",
     "output_type": "stream",
     "text": [
      "                          PanelOLS Estimation Summary                           \n",
      "================================================================================\n",
      "Dep. Variable:            UPT_ADJ_log   R-squared:                        0.6618\n",
      "Estimator:                   PanelOLS   R-squared (Between):              0.9779\n",
      "No. Observations:                2221   R-squared (Within):               0.6618\n",
      "Date:                Tue, Dec 17 2019   R-squared (Overall):              0.9768\n",
      "Time:                        19:10:49   Log-likelihood                    391.10\n",
      "Cov. Estimator:            Unadjusted                                           \n",
      "                                        F-statistic:                      366.76\n",
      "Entities:                         148   P-value                           0.0000\n",
      "Avg Obs:                       15.007   Distribution:                 F(11,2062)\n",
      "Min Obs:                       4.0000                                           \n",
      "Max Obs:                       17.000   F-statistic (robust):             366.76\n",
      "                                        P-value                           0.0000\n",
      "Time periods:                      17   Distribution:                 F(11,2062)\n",
      "Avg Obs:                       130.65                                           \n",
      "Min Obs:                       77.000                                           \n",
      "Max Obs:                       148.00                                           \n",
      "                                                                                \n",
      "                                      Parameter Estimates                                       \n",
      "================================================================================================\n",
      "                              Parameter  Std. Err.     T-stat    P-value    Lower CI    Upper CI\n",
      "------------------------------------------------------------------------------------------------\n",
      "VRM_ADJ_BUS_log                  0.9302     0.0171     54.365     0.0000      0.8966      0.9637\n",
      "FARE_per_UPT_2018_log           -0.3837     0.0281    -13.664     0.0000     -0.4388     -0.3287\n",
      "POP_EMP_log                      0.1742     0.0766     2.2738     0.0231      0.0240      0.3245\n",
      "GAS_PRICE_2018_log               0.2416     0.0374     6.4547     0.0000      0.1682      0.3149\n",
      "TOTAL_MED_INC_INDIV_2018_log    -0.2243     0.0742    -3.0216     0.0025     -0.3699     -0.0787\n",
      "PCT_HH_NO_VEH                    0.0031     0.0040     0.7816     0.4345     -0.0047      0.0109\n",
      "TSD_POP_PCT                      0.0056     0.0029     1.9437     0.0521  -4.984e-05      0.0112\n",
      "JTW_HOME_PCT                    -0.0127     0.0051    -2.4774     0.0133     -0.0228     -0.0026\n",
      "YEARS_SINCE_TNC_BUS             -0.0362     0.0067    -5.3688     0.0000     -0.0494     -0.0230\n",
      "BIKE_SHARE                       0.0442     0.0231     1.9151     0.0556     -0.0011      0.0894\n",
      "scooter_flag                    -0.0428     0.0678    -0.6319     0.5275     -0.1757      0.0901\n",
      "================================================================================================\n",
      "\n",
      "F-test for Poolability: 153.78\n",
      "P-value: 0.0000\n",
      "Distribution: F(147,2062)\n",
      "\n",
      "Included effects: Entity\n"
     ]
    },
    {
     "name": "stderr",
     "output_type": "stream",
     "text": [
      "C:\\Program Files\\Anaconda3\\lib\\site-packages\\linearmodels\\panel\\data.py:39: FutureWarning: \n",
      "Passing list-likes to .loc or [] with any missing label will raise\n",
      "KeyError in the future, you can use .reindex() as an alternative.\n",
      "\n",
      "See the documentation here:\n",
      "https://pandas.pydata.org/pandas-docs/stable/indexing.html#deprecate-loc-reindex-listlike\n",
      "  new_df = df.copy().loc[self._full_index]\n",
      "C:\\Program Files\\Anaconda3\\lib\\site-packages\\linearmodels\\utility.py:476: MissingValueWarning: \n",
      "Inputs contain missing values. Dropping rows with missing observations.\n",
      "  warnings.warn(missing_value_warning_msg, MissingValueWarning)\n"
     ]
    }
   ],
   "source": [
    "# low op-ex\n",
    "\n",
    "df2 = df[(df['CLUSTER_APTA4']==3)]\n",
    "\n",
    "mod=PanelOLS.from_formula('UPT_ADJ_log \\\n",
    "                    ~ VRM_ADJ_BUS_log \\\n",
    "                    + FARE_per_UPT_2018_log \\\n",
    "                    + POP_EMP_log \\\n",
    "                    + GAS_PRICE_2018_log \\\n",
    "                    + TOTAL_MED_INC_INDIV_2018_log \\\n",
    "                    + PCT_HH_NO_VEH \\\n",
    "                    + TSD_POP_PCT \\\n",
    "                    + JTW_HOME_PCT \\\n",
    "                    + YEARS_SINCE_TNC_BUS \\\n",
    "                    + BIKE_SHARE \\\n",
    "                    + scooter_flag \\\n",
    "                    + EntityEffects \\\n",
    "                    ',data=df2)\n",
    "res=mod.fit()\n",
    "print(res)"
   ]
  },
  {
   "cell_type": "markdown",
   "metadata": {},
   "source": [
    "## Treat just low as its own grouping"
   ]
  },
  {
   "cell_type": "code",
   "execution_count": 38,
   "metadata": {
    "collapsed": false
   },
   "outputs": [
    {
     "name": "stdout",
     "output_type": "stream",
     "text": [
      "                          PanelOLS Estimation Summary                           \n",
      "================================================================================\n",
      "Dep. Variable:            UPT_ADJ_log   R-squared:                        0.7576\n",
      "Estimator:                   PanelOLS   R-squared (Between):              0.9272\n",
      "No. Observations:                1951   R-squared (Within):               0.7576\n",
      "Date:                Tue, Dec 17 2019   R-squared (Overall):              0.9248\n",
      "Time:                        19:10:50   Log-likelihood                    917.01\n",
      "Cov. Estimator:            Unadjusted                                           \n",
      "                                        F-statistic:                      436.66\n",
      "Entities:                         122   P-value                           0.0000\n",
      "Avg Obs:                       15.992   Distribution:                 F(13,1816)\n",
      "Min Obs:                       3.0000                                           \n",
      "Max Obs:                       17.000   F-statistic (robust):             436.66\n",
      "                                        P-value                           0.0000\n",
      "Time periods:                      17   Distribution:                 F(13,1816)\n",
      "Avg Obs:                       114.76                                           \n",
      "Min Obs:                       102.00                                           \n",
      "Max Obs:                       122.00                                           \n",
      "                                                                                \n",
      "                                      Parameter Estimates                                       \n",
      "================================================================================================\n",
      "                              Parameter  Std. Err.     T-stat    P-value    Lower CI    Upper CI\n",
      "------------------------------------------------------------------------------------------------\n",
      "VRM_ADJ_BUS_log                  1.0039     0.0274     36.616     0.0000      0.9502      1.0577\n",
      "VRM_ADJ_RAIL_log                 0.6220     0.0164     37.829     0.0000      0.5898      0.6543\n",
      "FARE_per_UPT_2018_log           -0.8119     0.0224    -36.193     0.0000     -0.8559     -0.7679\n",
      "POP_EMP_log                      0.5596     0.0958     5.8406     0.0000      0.3717      0.7475\n",
      "GAS_PRICE_2018_log               0.1747     0.0345     5.0683     0.0000      0.1071      0.2422\n",
      "TOTAL_MED_INC_INDIV_2018_log    -0.2058     0.0798    -2.5773     0.0100     -0.3623     -0.0492\n",
      "PCT_HH_NO_VEH                    0.0151     0.0047     3.2046     0.0014      0.0059      0.0244\n",
      "TSD_POP_PCT                      0.0049     0.0018     2.6901     0.0072      0.0013      0.0085\n",
      "JTW_HOME_PCT                     0.0067     0.0070     0.9617     0.3363     -0.0070      0.0204\n",
      "YEARS_SINCE_TNC_BUS             -0.0331     0.0050    -6.6091     0.0000     -0.0429     -0.0233\n",
      "YEARS_SINCE_TNC_RAIL             0.0107     0.0054     1.9799     0.0479      0.0001      0.0214\n",
      "BIKE_SHARE                    4.796e-05     0.0142     0.0034     0.9973     -0.0279      0.0280\n",
      "scooter_flag                    -0.0514     0.0253    -2.0300     0.0425     -0.1011     -0.0017\n",
      "================================================================================================\n",
      "\n",
      "F-test for Poolability: 61.532\n",
      "P-value: 0.0000\n",
      "Distribution: F(121,1816)\n",
      "\n",
      "Included effects: Entity\n"
     ]
    },
    {
     "name": "stderr",
     "output_type": "stream",
     "text": [
      "C:\\Program Files\\Anaconda3\\lib\\site-packages\\linearmodels\\panel\\data.py:39: FutureWarning: \n",
      "Passing list-likes to .loc or [] with any missing label will raise\n",
      "KeyError in the future, you can use .reindex() as an alternative.\n",
      "\n",
      "See the documentation here:\n",
      "https://pandas.pydata.org/pandas-docs/stable/indexing.html#deprecate-loc-reindex-listlike\n",
      "  new_df = df.copy().loc[self._full_index]\n",
      "C:\\Program Files\\Anaconda3\\lib\\site-packages\\linearmodels\\utility.py:476: MissingValueWarning: \n",
      "Inputs contain missing values. Dropping rows with missing observations.\n",
      "  warnings.warn(missing_value_warning_msg, MissingValueWarning)\n"
     ]
    }
   ],
   "source": [
    "# High op-ex + Mid op-ex + NY\n",
    "df2 = df[(df['CLUSTER_APTA4']!=3)]\n",
    "\n",
    "mod=PanelOLS.from_formula('UPT_ADJ_log \\\n",
    "                    ~ VRM_ADJ_BUS_log \\\n",
    "                    + VRM_ADJ_RAIL_log \\\n",
    "                    + FARE_per_UPT_2018_log \\\n",
    "                    + POP_EMP_log \\\n",
    "                    + GAS_PRICE_2018_log \\\n",
    "                    + TOTAL_MED_INC_INDIV_2018_log \\\n",
    "                    + PCT_HH_NO_VEH \\\n",
    "                    + TSD_POP_PCT \\\n",
    "                    + JTW_HOME_PCT \\\n",
    "                    + YEARS_SINCE_TNC_BUS \\\n",
    "                    + YEARS_SINCE_TNC_RAIL \\\n",
    "                    + BIKE_SHARE \\\n",
    "                    + scooter_flag \\\n",
    "                    + EntityEffects \\\n",
    "                    ',data=df2)\n",
    "res=mod.fit()\n",
    "print(res)"
   ]
  },
  {
   "cell_type": "code",
   "execution_count": 39,
   "metadata": {
    "collapsed": false
   },
   "outputs": [
    {
     "name": "stdout",
     "output_type": "stream",
     "text": [
      "                          PanelOLS Estimation Summary                           \n",
      "================================================================================\n",
      "Dep. Variable:            UPT_ADJ_log   R-squared:                        0.6618\n",
      "Estimator:                   PanelOLS   R-squared (Between):              0.9779\n",
      "No. Observations:                2221   R-squared (Within):               0.6618\n",
      "Date:                Tue, Dec 17 2019   R-squared (Overall):              0.9768\n",
      "Time:                        19:10:51   Log-likelihood                    391.10\n",
      "Cov. Estimator:            Unadjusted                                           \n",
      "                                        F-statistic:                      366.76\n",
      "Entities:                         148   P-value                           0.0000\n",
      "Avg Obs:                       15.007   Distribution:                 F(11,2062)\n",
      "Min Obs:                       4.0000                                           \n",
      "Max Obs:                       17.000   F-statistic (robust):             366.76\n",
      "                                        P-value                           0.0000\n",
      "Time periods:                      17   Distribution:                 F(11,2062)\n",
      "Avg Obs:                       130.65                                           \n",
      "Min Obs:                       77.000                                           \n",
      "Max Obs:                       148.00                                           \n",
      "                                                                                \n",
      "                                      Parameter Estimates                                       \n",
      "================================================================================================\n",
      "                              Parameter  Std. Err.     T-stat    P-value    Lower CI    Upper CI\n",
      "------------------------------------------------------------------------------------------------\n",
      "VRM_ADJ_BUS_log                  0.9302     0.0171     54.365     0.0000      0.8966      0.9637\n",
      "FARE_per_UPT_2018_log           -0.3837     0.0281    -13.664     0.0000     -0.4388     -0.3287\n",
      "POP_EMP_log                      0.1742     0.0766     2.2738     0.0231      0.0240      0.3245\n",
      "GAS_PRICE_2018_log               0.2416     0.0374     6.4547     0.0000      0.1682      0.3149\n",
      "TOTAL_MED_INC_INDIV_2018_log    -0.2243     0.0742    -3.0216     0.0025     -0.3699     -0.0787\n",
      "PCT_HH_NO_VEH                    0.0031     0.0040     0.7816     0.4345     -0.0047      0.0109\n",
      "TSD_POP_PCT                      0.0056     0.0029     1.9437     0.0521  -4.984e-05      0.0112\n",
      "JTW_HOME_PCT                    -0.0127     0.0051    -2.4774     0.0133     -0.0228     -0.0026\n",
      "YEARS_SINCE_TNC_BUS             -0.0362     0.0067    -5.3688     0.0000     -0.0494     -0.0230\n",
      "BIKE_SHARE                       0.0442     0.0231     1.9151     0.0556     -0.0011      0.0894\n",
      "scooter_flag                    -0.0428     0.0678    -0.6319     0.5275     -0.1757      0.0901\n",
      "================================================================================================\n",
      "\n",
      "F-test for Poolability: 153.78\n",
      "P-value: 0.0000\n",
      "Distribution: F(147,2062)\n",
      "\n",
      "Included effects: Entity\n"
     ]
    },
    {
     "name": "stderr",
     "output_type": "stream",
     "text": [
      "C:\\Program Files\\Anaconda3\\lib\\site-packages\\linearmodels\\panel\\data.py:39: FutureWarning: \n",
      "Passing list-likes to .loc or [] with any missing label will raise\n",
      "KeyError in the future, you can use .reindex() as an alternative.\n",
      "\n",
      "See the documentation here:\n",
      "https://pandas.pydata.org/pandas-docs/stable/indexing.html#deprecate-loc-reindex-listlike\n",
      "  new_df = df.copy().loc[self._full_index]\n",
      "C:\\Program Files\\Anaconda3\\lib\\site-packages\\linearmodels\\utility.py:476: MissingValueWarning: \n",
      "Inputs contain missing values. Dropping rows with missing observations.\n",
      "  warnings.warn(missing_value_warning_msg, MissingValueWarning)\n"
     ]
    }
   ],
   "source": [
    "# Low op-ex\n",
    "df2 = df[(df['CLUSTER_APTA4']==3)]\n",
    "\n",
    "mod=PanelOLS.from_formula('UPT_ADJ_log \\\n",
    "                    ~ VRM_ADJ_BUS_log \\\n",
    "                    + FARE_per_UPT_2018_log \\\n",
    "                    + POP_EMP_log \\\n",
    "                    + GAS_PRICE_2018_log \\\n",
    "                    + TOTAL_MED_INC_INDIV_2018_log \\\n",
    "                    + PCT_HH_NO_VEH \\\n",
    "                    + TSD_POP_PCT \\\n",
    "                    + JTW_HOME_PCT \\\n",
    "                    + YEARS_SINCE_TNC_BUS \\\n",
    "                    + BIKE_SHARE \\\n",
    "                    + scooter_flag \\\n",
    "                    + EntityEffects \\\n",
    "                    ',data=df2)\n",
    "res=mod.fit()\n",
    "print(res)"
   ]
  },
  {
   "cell_type": "markdown",
   "metadata": {},
   "source": [
    "## Partial Segmentation -- low vs others"
   ]
  },
  {
   "cell_type": "code",
   "execution_count": 40,
   "metadata": {
    "collapsed": false
   },
   "outputs": [
    {
     "name": "stderr",
     "output_type": "stream",
     "text": [
      "C:\\Program Files\\Anaconda3\\lib\\site-packages\\linearmodels\\panel\\data.py:39: FutureWarning: \n",
      "Passing list-likes to .loc or [] with any missing label will raise\n",
      "KeyError in the future, you can use .reindex() as an alternative.\n",
      "\n",
      "See the documentation here:\n",
      "https://pandas.pydata.org/pandas-docs/stable/indexing.html#deprecate-loc-reindex-listlike\n",
      "  new_df = df.copy().loc[self._full_index]\n",
      "C:\\Program Files\\Anaconda3\\lib\\site-packages\\linearmodels\\utility.py:476: MissingValueWarning: \n",
      "Inputs contain missing values. Dropping rows with missing observations.\n",
      "  warnings.warn(missing_value_warning_msg, MissingValueWarning)\n"
     ]
    },
    {
     "name": "stdout",
     "output_type": "stream",
     "text": [
      "                          PanelOLS Estimation Summary                           \n",
      "================================================================================\n",
      "Dep. Variable:            UPT_ADJ_log   R-squared:                        0.6840\n",
      "Estimator:                   PanelOLS   R-squared (Between):              0.9823\n",
      "No. Observations:                4172   R-squared (Within):               0.6840\n",
      "Date:                Tue, Dec 17 2019   R-squared (Overall):              0.9829\n",
      "Time:                        19:10:52   Log-likelihood                    1107.9\n",
      "Cov. Estimator:            Unadjusted                                           \n",
      "                                        F-statistic:                      525.62\n",
      "Entities:                         270   P-value                           0.0000\n",
      "Avg Obs:                       15.452   Distribution:                 F(16,3886)\n",
      "Min Obs:                       3.0000                                           \n",
      "Max Obs:                       17.000   F-statistic (robust):             525.62\n",
      "                                        P-value                           0.0000\n",
      "Time periods:                      17   Distribution:                 F(16,3886)\n",
      "Avg Obs:                       245.41                                           \n",
      "Min Obs:                       179.00                                           \n",
      "Max Obs:                       269.00                                           \n",
      "                                                                                \n",
      "                                      Parameter Estimates                                       \n",
      "================================================================================================\n",
      "                              Parameter  Std. Err.     T-stat    P-value    Lower CI    Upper CI\n",
      "------------------------------------------------------------------------------------------------\n",
      "VRM_ADJ_BUS_log                  0.9312     0.0140     66.343     0.0000      0.9037      0.9587\n",
      "VRM_ADJ_RAIL_log                 0.6295     0.0196     32.147     0.0000      0.5911      0.6679\n",
      "FARE_per_UPT_2018_log           -0.5839     0.0187    -31.216     0.0000     -0.6206     -0.5473\n",
      "POP_EMP_log                      0.2817     0.0589     4.7821     0.0000      0.1662      0.3971\n",
      "GAS_PRICE_2018_log               0.1992     0.0264     7.5575     0.0000      0.1475      0.2509\n",
      "TOTAL_MED_INC_INDIV_2018_log    -0.2404     0.0554    -4.3403     0.0000     -0.3489     -0.1318\n",
      "PCT_HH_NO_VEH                    0.0067     0.0031     2.2013     0.0278      0.0007      0.0128\n",
      "TSD_POP_PCT                      0.0035     0.0016     2.1946     0.0283      0.0004      0.0065\n",
      "JTW_HOME_PCT                    -0.0059     0.0041    -1.4431     0.1491     -0.0139      0.0021\n",
      "YEARS_SINCE_TNC_BUS             -0.0254     0.0055    -4.6565     0.0000     -0.0361     -0.0147\n",
      "YEARS_SINCE_TNC_BUS_LOW         -0.0171     0.0074    -2.3067     0.0211     -0.0316     -0.0026\n",
      "YEARS_SINCE_TNC_RAIL             0.0109     0.0061     1.7773     0.0756     -0.0011      0.0229\n",
      "BIKE_SHARE                       0.0147     0.0171     0.8644     0.3874     -0.0187      0.0482\n",
      "BIKE_SHARE_LOW                   0.0178     0.0267     0.6677     0.5044     -0.0345      0.0702\n",
      "scooter_flag                    -0.0410     0.0305    -1.3441     0.1790     -0.1008      0.0188\n",
      "scooter_flag_LOW                -0.0153     0.0685    -0.2227     0.8238     -0.1496      0.1190\n",
      "================================================================================================\n",
      "\n",
      "F-test for Poolability: 94.948\n",
      "P-value: 0.0000\n",
      "Distribution: F(269,3886)\n",
      "\n",
      "Included effects: Entity\n"
     ]
    }
   ],
   "source": [
    "# base model\n",
    "\n",
    "mod=PanelOLS.from_formula('UPT_ADJ_log \\\n",
    "                    ~ VRM_ADJ_BUS_log \\\n",
    "                    + VRM_ADJ_RAIL_log \\\n",
    "                    + FARE_per_UPT_2018_log \\\n",
    "                    + POP_EMP_log \\\n",
    "                    + GAS_PRICE_2018_log \\\n",
    "                    + TOTAL_MED_INC_INDIV_2018_log \\\n",
    "                    + PCT_HH_NO_VEH \\\n",
    "                    + TSD_POP_PCT \\\n",
    "                    + JTW_HOME_PCT \\\n",
    "                    + YEARS_SINCE_TNC_BUS \\\n",
    "                    + YEARS_SINCE_TNC_BUS_LOW \\\n",
    "                    + YEARS_SINCE_TNC_RAIL \\\n",
    "                    + BIKE_SHARE \\\n",
    "                    + BIKE_SHARE_LOW \\\n",
    "                    + scooter_flag \\\n",
    "                    + scooter_flag_LOW \\\n",
    "                    + EntityEffects \\\n",
    "                    ',data=df)\n",
    "res=mod.fit()\n",
    "print(res)"
   ]
  },
  {
   "cell_type": "code",
   "execution_count": 41,
   "metadata": {
    "collapsed": false
   },
   "outputs": [
    {
     "name": "stderr",
     "output_type": "stream",
     "text": [
      "C:\\Program Files\\Anaconda3\\lib\\site-packages\\linearmodels\\panel\\data.py:39: FutureWarning: \n",
      "Passing list-likes to .loc or [] with any missing label will raise\n",
      "KeyError in the future, you can use .reindex() as an alternative.\n",
      "\n",
      "See the documentation here:\n",
      "https://pandas.pydata.org/pandas-docs/stable/indexing.html#deprecate-loc-reindex-listlike\n",
      "  new_df = df.copy().loc[self._full_index]\n",
      "C:\\Program Files\\Anaconda3\\lib\\site-packages\\linearmodels\\utility.py:476: MissingValueWarning: \n",
      "Inputs contain missing values. Dropping rows with missing observations.\n",
      "  warnings.warn(missing_value_warning_msg, MissingValueWarning)\n"
     ]
    },
    {
     "name": "stdout",
     "output_type": "stream",
     "text": [
      "                          PanelOLS Estimation Summary                           \n",
      "================================================================================\n",
      "Dep. Variable:            UPT_ADJ_log   R-squared:                        0.6707\n",
      "Estimator:                   PanelOLS   R-squared (Between):              0.9948\n",
      "No. Observations:                4172   R-squared (Within):               0.6707\n",
      "Date:                Tue, Dec 17 2019   R-squared (Overall):              0.9947\n",
      "Time:                        19:10:53   Log-likelihood                    1022.4\n",
      "Cov. Estimator:            Unadjusted                                           \n",
      "                                        F-statistic:                      527.88\n",
      "Entities:                         270   P-value                           0.0000\n",
      "Avg Obs:                       15.452   Distribution:                 F(15,3887)\n",
      "Min Obs:                       3.0000                                           \n",
      "Max Obs:                       17.000   F-statistic (robust):             527.88\n",
      "                                        P-value                           0.0000\n",
      "Time periods:                      17   Distribution:                 F(15,3887)\n",
      "Avg Obs:                       245.41                                           \n",
      "Min Obs:                       179.00                                           \n",
      "Max Obs:                       269.00                                           \n",
      "                                                                                \n",
      "                                      Parameter Estimates                                       \n",
      "================================================================================================\n",
      "                              Parameter  Std. Err.     T-stat    P-value    Lower CI    Upper CI\n",
      "------------------------------------------------------------------------------------------------\n",
      "VRM_ADJ_log                      0.8305     0.0118     70.117     0.0000      0.8073      0.8538\n",
      "FARE_per_UPT_2018_log           -0.5894     0.0191    -30.878     0.0000     -0.6268     -0.5519\n",
      "POP_EMP_log                      0.3382     0.0599     5.6416     0.0000      0.2206      0.4557\n",
      "GAS_PRICE_2018_log               0.2018     0.0269     7.5021     0.0000      0.1491      0.2545\n",
      "TOTAL_MED_INC_INDIV_2018_log    -0.2522     0.0565    -4.4630     0.0000     -0.3630     -0.1414\n",
      "PCT_HH_NO_VEH                    0.0074     0.0031     2.3539     0.0186      0.0012      0.0135\n",
      "TSD_POP_PCT                      0.0053     0.0016     3.2875     0.0010      0.0021      0.0084\n",
      "JTW_HOME_PCT                    -0.0051     0.0042    -1.2251     0.2206     -0.0133      0.0031\n",
      "YEARS_SINCE_TNC_BUS             -0.0213     0.0056    -3.8406     0.0001     -0.0322     -0.0104\n",
      "YEARS_SINCE_TNC_BUS_LOW         -0.0185     0.0076    -2.4460     0.0145     -0.0333     -0.0037\n",
      "YEARS_SINCE_TNC_RAIL            -0.0053     0.0061    -0.8632     0.3881     -0.0173      0.0067\n",
      "BIKE_SHARE                      -0.0009     0.0174    -0.0543     0.9567     -0.0350      0.0331\n",
      "BIKE_SHARE_LOW                   0.0403     0.0272     1.4802     0.1389     -0.0131      0.0936\n",
      "scooter_flag                    -0.0396     0.0311    -1.2721     0.2034     -0.1006      0.0214\n",
      "scooter_flag_LOW                -0.0189     0.0699    -0.2710     0.7864     -0.1560      0.1181\n",
      "================================================================================================\n",
      "\n",
      "F-test for Poolability: 93.988\n",
      "P-value: 0.0000\n",
      "Distribution: F(269,3887)\n",
      "\n",
      "Included effects: Entity\n"
     ]
    }
   ],
   "source": [
    "# base model\n",
    "\n",
    "mod=PanelOLS.from_formula('UPT_ADJ_log \\\n",
    "                    ~ VRM_ADJ_log \\\n",
    "                    + FARE_per_UPT_2018_log \\\n",
    "                    + POP_EMP_log \\\n",
    "                    + GAS_PRICE_2018_log \\\n",
    "                    + TOTAL_MED_INC_INDIV_2018_log \\\n",
    "                    + PCT_HH_NO_VEH \\\n",
    "                    + TSD_POP_PCT \\\n",
    "                    + JTW_HOME_PCT \\\n",
    "                    + YEARS_SINCE_TNC_BUS \\\n",
    "                    + YEARS_SINCE_TNC_BUS_LOW \\\n",
    "                    + YEARS_SINCE_TNC_RAIL \\\n",
    "                    + BIKE_SHARE \\\n",
    "                    + BIKE_SHARE_LOW \\\n",
    "                    + scooter_flag \\\n",
    "                    + scooter_flag_LOW \\\n",
    "                    + EntityEffects \\\n",
    "                    ',data=df)\n",
    "res=mod.fit()\n",
    "print(res)"
   ]
  },
  {
   "cell_type": "code",
   "execution_count": null,
   "metadata": {
    "collapsed": true
   },
   "outputs": [],
   "source": []
  },
  {
   "cell_type": "markdown",
   "metadata": {},
   "source": [
    "## look again at rail expansion"
   ]
  },
  {
   "cell_type": "code",
   "execution_count": 42,
   "metadata": {
    "collapsed": false
   },
   "outputs": [
    {
     "name": "stderr",
     "output_type": "stream",
     "text": [
      "C:\\Program Files\\Anaconda3\\lib\\site-packages\\linearmodels\\panel\\data.py:39: FutureWarning: \n",
      "Passing list-likes to .loc or [] with any missing label will raise\n",
      "KeyError in the future, you can use .reindex() as an alternative.\n",
      "\n",
      "See the documentation here:\n",
      "https://pandas.pydata.org/pandas-docs/stable/indexing.html#deprecate-loc-reindex-listlike\n",
      "  new_df = df.copy().loc[self._full_index]\n",
      "C:\\Program Files\\Anaconda3\\lib\\site-packages\\linearmodels\\utility.py:476: MissingValueWarning: \n",
      "Inputs contain missing values. Dropping rows with missing observations.\n",
      "  warnings.warn(missing_value_warning_msg, MissingValueWarning)\n"
     ]
    },
    {
     "name": "stdout",
     "output_type": "stream",
     "text": [
      "                          PanelOLS Estimation Summary                           \n",
      "================================================================================\n",
      "Dep. Variable:            UPT_ADJ_log   R-squared:                        0.6703\n",
      "Estimator:                   PanelOLS   R-squared (Between):              0.9937\n",
      "No. Observations:                4172   R-squared (Within):               0.6703\n",
      "Date:                Tue, Dec 17 2019   R-squared (Overall):              0.9936\n",
      "Time:                        19:10:56   Log-likelihood                    1019.6\n",
      "Cov. Estimator:            Unadjusted                                           \n",
      "                                        F-statistic:                      564.60\n",
      "Entities:                         270   P-value                           0.0000\n",
      "Avg Obs:                       15.452   Distribution:                 F(14,3888)\n",
      "Min Obs:                       3.0000                                           \n",
      "Max Obs:                       17.000   F-statistic (robust):             564.60\n",
      "                                        P-value                           0.0000\n",
      "Time periods:                      17   Distribution:                 F(14,3888)\n",
      "Avg Obs:                       245.41                                           \n",
      "Min Obs:                       179.00                                           \n",
      "Max Obs:                       269.00                                           \n",
      "                                                                                \n",
      "                                      Parameter Estimates                                       \n",
      "================================================================================================\n",
      "                              Parameter  Std. Err.     T-stat    P-value    Lower CI    Upper CI\n",
      "------------------------------------------------------------------------------------------------\n",
      "VRM_ADJ_log                      0.8321     0.0121     68.589     0.0000      0.8083      0.8559\n",
      "FARE_per_UPT_2018_log           -0.5890     0.0191    -30.811     0.0000     -0.6264     -0.5515\n",
      "POP_EMP_log                      0.3313     0.0599     5.5343     0.0000      0.2139      0.4486\n",
      "GAS_PRICE_2018_log               0.2028     0.0269     7.5307     0.0000      0.1500      0.2556\n",
      "TOTAL_MED_INC_INDIV_2018_log    -0.2566     0.0565    -4.5416     0.0000     -0.3674     -0.1458\n",
      "PCT_HH_NO_VEH                    0.0072     0.0031     2.2867     0.0223      0.0010      0.0133\n",
      "TSD_POP_PCT                      0.0051     0.0016     3.1984     0.0014      0.0020      0.0082\n",
      "JTW_HOME_PCT                    -0.0053     0.0042    -1.2673     0.2051     -0.0135      0.0029\n",
      "RAIL_COMPETITION                 0.0005     0.0294     0.0178     0.9858     -0.0572      0.0583\n",
      "YEARS_SINCE_RAIL_START_2        -0.0334     0.0284    -1.1740     0.2405     -0.0891      0.0224\n",
      "YEARS_SINCE_TNC_BUS             -0.0298     0.0044    -6.7916     0.0000     -0.0384     -0.0212\n",
      "YEARS_SINCE_TNC_RAIL            -0.0080     0.0058    -1.3694     0.1710     -0.0194      0.0034\n",
      "BIKE_SHARE                       0.0179     0.0136     1.3132     0.1892     -0.0088      0.0446\n",
      "scooter_flag                    -0.0311     0.0277    -1.1241     0.2610     -0.0854      0.0232\n",
      "================================================================================================\n",
      "\n",
      "F-test for Poolability: 94.081\n",
      "P-value: 0.0000\n",
      "Distribution: F(269,3888)\n",
      "\n",
      "Included effects: Entity\n"
     ]
    }
   ],
   "source": [
    "# rail expansion--nope\n",
    "\n",
    "mod=PanelOLS.from_formula('UPT_ADJ_log \\\n",
    "                    ~ VRM_ADJ_log \\\n",
    "                    + FARE_per_UPT_2018_log \\\n",
    "                    + POP_EMP_log \\\n",
    "                    + GAS_PRICE_2018_log \\\n",
    "                    + TOTAL_MED_INC_INDIV_2018_log \\\n",
    "                    + PCT_HH_NO_VEH \\\n",
    "                    + TSD_POP_PCT \\\n",
    "                    + JTW_HOME_PCT \\\n",
    "                    + RAIL_COMPETITION \\\n",
    "                    + YEARS_SINCE_RAIL_START_2 \\\n",
    "                    + YEARS_SINCE_TNC_BUS \\\n",
    "                    + YEARS_SINCE_TNC_RAIL \\\n",
    "                    + BIKE_SHARE \\\n",
    "                    + scooter_flag \\\n",
    "                    + EntityEffects \\\n",
    "                    ',data=df)\n",
    "res=mod.fit()\n",
    "print(res)"
   ]
  },
  {
   "cell_type": "markdown",
   "metadata": {},
   "source": [
    "## Look at years since TNC segmentation again"
   ]
  },
  {
   "cell_type": "code",
   "execution_count": 43,
   "metadata": {
    "collapsed": false
   },
   "outputs": [
    {
     "name": "stderr",
     "output_type": "stream",
     "text": [
      "C:\\Program Files\\Anaconda3\\lib\\site-packages\\linearmodels\\panel\\data.py:39: FutureWarning: \n",
      "Passing list-likes to .loc or [] with any missing label will raise\n",
      "KeyError in the future, you can use .reindex() as an alternative.\n",
      "\n",
      "See the documentation here:\n",
      "https://pandas.pydata.org/pandas-docs/stable/indexing.html#deprecate-loc-reindex-listlike\n",
      "  new_df = df.copy().loc[self._full_index]\n",
      "C:\\Program Files\\Anaconda3\\lib\\site-packages\\linearmodels\\utility.py:476: MissingValueWarning: \n",
      "Inputs contain missing values. Dropping rows with missing observations.\n",
      "  warnings.warn(missing_value_warning_msg, MissingValueWarning)\n"
     ]
    },
    {
     "name": "stdout",
     "output_type": "stream",
     "text": [
      "                          PanelOLS Estimation Summary                           \n",
      "================================================================================\n",
      "Dep. Variable:            UPT_ADJ_log   R-squared:                        0.6849\n",
      "Estimator:                   PanelOLS   R-squared (Between):              0.9836\n",
      "No. Observations:                4172   R-squared (Within):               0.6849\n",
      "Date:                Tue, Dec 17 2019   R-squared (Overall):              0.9841\n",
      "Time:                        19:10:57   Log-likelihood                    1114.2\n",
      "Cov. Estimator:            Unadjusted                                           \n",
      "                                        F-statistic:                      469.05\n",
      "Entities:                         270   P-value                           0.0000\n",
      "Avg Obs:                       15.452   Distribution:                 F(18,3884)\n",
      "Min Obs:                       3.0000                                           \n",
      "Max Obs:                       17.000   F-statistic (robust):             469.05\n",
      "                                        P-value                           0.0000\n",
      "Time periods:                      17   Distribution:                 F(18,3884)\n",
      "Avg Obs:                       245.41                                           \n",
      "Min Obs:                       179.00                                           \n",
      "Max Obs:                       269.00                                           \n",
      "                                                                                \n",
      "                                      Parameter Estimates                                       \n",
      "================================================================================================\n",
      "                              Parameter  Std. Err.     T-stat    P-value    Lower CI    Upper CI\n",
      "------------------------------------------------------------------------------------------------\n",
      "VRM_ADJ_BUS_log                  0.9319     0.0140     66.498     0.0000      0.9044      0.9594\n",
      "VRM_ADJ_RAIL_log                 0.6275     0.0196     31.987     0.0000      0.5891      0.6660\n",
      "FARE_per_UPT_2018_log           -0.5855     0.0187    -31.318     0.0000     -0.6221     -0.5488\n",
      "POP_EMP_log                      0.2963     0.0592     5.0085     0.0000      0.1803      0.4123\n",
      "GAS_PRICE_2018_log               0.1958     0.0264     7.4206     0.0000      0.1441      0.2476\n",
      "TOTAL_MED_INC_INDIV_2018_log    -0.2415     0.0553    -4.3653     0.0000     -0.3499     -0.1330\n",
      "PCT_HH_NO_VEH                    0.0066     0.0031     2.1458     0.0320      0.0006      0.0126\n",
      "TSD_POP_PCT                      0.0039     0.0016     2.4917     0.0128      0.0008      0.0070\n",
      "JTW_HOME_PCT                    -0.0050     0.0041    -1.2314     0.2183     -0.0131      0.0030\n",
      "YEARS_SINCE_TNC_BUS_NY          -0.0190     0.0201    -0.9478     0.3433     -0.0584      0.0203\n",
      "YEARS_SINCE_TNC_BUS_HI          -0.0154     0.0065    -2.3889     0.0169     -0.0281     -0.0028\n",
      "YEARS_SINCE_TNC_BUS_MID         -0.0349     0.0063    -5.5633     0.0000     -0.0472     -0.0226\n",
      "YEARS_SINCE_TNC_BUS_LOW         -0.0413     0.0055    -7.5533     0.0000     -0.0521     -0.0306\n",
      "YEARS_SINCE_TNC_RAIL_NY          0.0391     0.0201     1.9470     0.0516     -0.0003      0.0785\n",
      "YEARS_SINCE_TNC_RAIL_HI          0.0151     0.0067     2.2682     0.0234      0.0020      0.0281\n",
      "YEARS_SINCE_TNC_RAIL_MID         0.0052     0.0102     0.5086     0.6111     -0.0148      0.0252\n",
      "BIKE_SHARE                       0.0175     0.0133     1.3146     0.1887     -0.0086      0.0437\n",
      "scooter_flag                    -0.0506     0.0274    -1.8493     0.0645     -0.1043      0.0030\n",
      "================================================================================================\n",
      "\n",
      "F-test for Poolability: 94.290\n",
      "P-value: 0.0000\n",
      "Distribution: F(269,3884)\n",
      "\n",
      "Included effects: Entity\n"
     ]
    }
   ],
   "source": [
    "# Final Model\n",
    "\n",
    "mod=PanelOLS.from_formula('UPT_ADJ_log \\\n",
    "                    ~ VRM_ADJ_BUS_log \\\n",
    "                    + VRM_ADJ_RAIL_log \\\n",
    "                    + FARE_per_UPT_2018_log \\\n",
    "                    + POP_EMP_log \\\n",
    "                    + GAS_PRICE_2018_log \\\n",
    "                    + TOTAL_MED_INC_INDIV_2018_log \\\n",
    "                    + PCT_HH_NO_VEH \\\n",
    "                    + TSD_POP_PCT \\\n",
    "                    + JTW_HOME_PCT \\\n",
    "                    + YEARS_SINCE_TNC_BUS_NY \\\n",
    "                    + YEARS_SINCE_TNC_BUS_HI \\\n",
    "                    + YEARS_SINCE_TNC_BUS_MID \\\n",
    "                    + YEARS_SINCE_TNC_BUS_LOW \\\n",
    "                    + YEARS_SINCE_TNC_RAIL_NY \\\n",
    "                    + YEARS_SINCE_TNC_RAIL_HI \\\n",
    "                    + YEARS_SINCE_TNC_RAIL_MID \\\n",
    "                    + BIKE_SHARE \\\n",
    "                    + scooter_flag \\\n",
    "                    + EntityEffects \\\n",
    "                    ',data=df)\n",
    "res=mod.fit()\n",
    "print(res)"
   ]
  },
  {
   "cell_type": "code",
   "execution_count": 44,
   "metadata": {
    "collapsed": false
   },
   "outputs": [
    {
     "name": "stderr",
     "output_type": "stream",
     "text": [
      "C:\\Program Files\\Anaconda3\\lib\\site-packages\\linearmodels\\panel\\data.py:39: FutureWarning: \n",
      "Passing list-likes to .loc or [] with any missing label will raise\n",
      "KeyError in the future, you can use .reindex() as an alternative.\n",
      "\n",
      "See the documentation here:\n",
      "https://pandas.pydata.org/pandas-docs/stable/indexing.html#deprecate-loc-reindex-listlike\n",
      "  new_df = df.copy().loc[self._full_index]\n",
      "C:\\Program Files\\Anaconda3\\lib\\site-packages\\linearmodels\\utility.py:476: MissingValueWarning: \n",
      "Inputs contain missing values. Dropping rows with missing observations.\n",
      "  warnings.warn(missing_value_warning_msg, MissingValueWarning)\n"
     ]
    },
    {
     "name": "stdout",
     "output_type": "stream",
     "text": [
      "                          PanelOLS Estimation Summary                           \n",
      "================================================================================\n",
      "Dep. Variable:            UPT_ADJ_log   R-squared:                        0.6845\n",
      "Estimator:                   PanelOLS   R-squared (Between):              0.9835\n",
      "No. Observations:                4172   R-squared (Within):               0.6845\n",
      "Date:                Tue, Dec 17 2019   R-squared (Overall):              0.9840\n",
      "Time:                        19:10:57   Log-likelihood                    1111.2\n",
      "Cov. Estimator:            Unadjusted                                           \n",
      "                                        F-statistic:                      526.82\n",
      "Entities:                         270   P-value                           0.0000\n",
      "Avg Obs:                       15.452   Distribution:                 F(16,3886)\n",
      "Min Obs:                       3.0000                                           \n",
      "Max Obs:                       17.000   F-statistic (robust):             526.82\n",
      "                                        P-value                           0.0000\n",
      "Time periods:                      17   Distribution:                 F(16,3886)\n",
      "Avg Obs:                       245.41                                           \n",
      "Min Obs:                       179.00                                           \n",
      "Max Obs:                       269.00                                           \n",
      "                                                                                \n",
      "                                      Parameter Estimates                                       \n",
      "================================================================================================\n",
      "                              Parameter  Std. Err.     T-stat    P-value    Lower CI    Upper CI\n",
      "------------------------------------------------------------------------------------------------\n",
      "VRM_ADJ_BUS_log                  0.9317     0.0140     66.445     0.0000      0.9042      0.9592\n",
      "VRM_ADJ_RAIL_log                 0.6286     0.0195     32.185     0.0000      0.5903      0.6669\n",
      "FARE_per_UPT_2018_log           -0.5845     0.0187    -31.272     0.0000     -0.6211     -0.5478\n",
      "POP_EMP_log                      0.2948     0.0591     4.9877     0.0000      0.1789      0.4107\n",
      "GAS_PRICE_2018_log               0.1938     0.0264     7.3353     0.0000      0.1420      0.2455\n",
      "TOTAL_MED_INC_INDIV_2018_log    -0.2420     0.0553    -4.3743     0.0000     -0.3505     -0.1335\n",
      "PCT_HH_NO_VEH                    0.0065     0.0031     2.1356     0.0328      0.0005      0.0125\n",
      "TSD_POP_PCT                      0.0037     0.0016     2.3288     0.0199      0.0006      0.0068\n",
      "JTW_HOME_PCT                    -0.0051     0.0041    -1.2406     0.2148     -0.0131      0.0030\n",
      "YEARS_SINCE_TNC_BUS_NY          -0.0204     0.0201    -1.0127     0.3113     -0.0598      0.0191\n",
      "YEARS_SINCE_TNC_BUS_HI          -0.0166     0.0065    -2.5713     0.0102     -0.0293     -0.0040\n",
      "YEARS_SINCE_TNC_BUS_MID         -0.0361     0.0063    -5.7356     0.0000     -0.0484     -0.0238\n",
      "YEARS_SINCE_TNC_BUS_LOW         -0.0421     0.0055    -7.6766     0.0000     -0.0528     -0.0313\n",
      "YEARS_SINCE_TNC_RAIL             0.0095     0.0059     1.6203     0.1052     -0.0020      0.0210\n",
      "BIKE_SHARE                       0.0212     0.0134     1.5879     0.1124     -0.0050      0.0474\n",
      "scooter_flag                    -0.0442     0.0275    -1.6097     0.1076     -0.0981      0.0096\n",
      "================================================================================================\n",
      "\n",
      "F-test for Poolability: 94.811\n",
      "P-value: 0.0000\n",
      "Distribution: F(269,3886)\n",
      "\n",
      "Included effects: Entity\n"
     ]
    }
   ],
   "source": [
    "# merge rail\n",
    "\n",
    "mod=PanelOLS.from_formula('UPT_ADJ_log \\\n",
    "                    ~ VRM_ADJ_BUS_log \\\n",
    "                    + VRM_ADJ_RAIL_log \\\n",
    "                    + FARE_per_UPT_2018_log \\\n",
    "                    + POP_EMP_log \\\n",
    "                    + GAS_PRICE_2018_log \\\n",
    "                    + TOTAL_MED_INC_INDIV_2018_log \\\n",
    "                    + PCT_HH_NO_VEH \\\n",
    "                    + TSD_POP_PCT \\\n",
    "                    + JTW_HOME_PCT \\\n",
    "                    + YEARS_SINCE_TNC_BUS_NY \\\n",
    "                    + YEARS_SINCE_TNC_BUS_HI \\\n",
    "                    + YEARS_SINCE_TNC_BUS_MID \\\n",
    "                    + YEARS_SINCE_TNC_BUS_LOW \\\n",
    "                    + YEARS_SINCE_TNC_RAIL \\\n",
    "                    + BIKE_SHARE \\\n",
    "                    + scooter_flag \\\n",
    "                    + EntityEffects \\\n",
    "                    ',data=df)\n",
    "res=mod.fit()\n",
    "print(res)"
   ]
  },
  {
   "cell_type": "code",
   "execution_count": 45,
   "metadata": {
    "collapsed": false
   },
   "outputs": [
    {
     "name": "stderr",
     "output_type": "stream",
     "text": [
      "C:\\Program Files\\Anaconda3\\lib\\site-packages\\linearmodels\\panel\\data.py:39: FutureWarning: \n",
      "Passing list-likes to .loc or [] with any missing label will raise\n",
      "KeyError in the future, you can use .reindex() as an alternative.\n",
      "\n",
      "See the documentation here:\n",
      "https://pandas.pydata.org/pandas-docs/stable/indexing.html#deprecate-loc-reindex-listlike\n",
      "  new_df = df.copy().loc[self._full_index]\n",
      "C:\\Program Files\\Anaconda3\\lib\\site-packages\\linearmodels\\utility.py:476: MissingValueWarning: \n",
      "Inputs contain missing values. Dropping rows with missing observations.\n",
      "  warnings.warn(missing_value_warning_msg, MissingValueWarning)\n"
     ]
    },
    {
     "name": "stdout",
     "output_type": "stream",
     "text": [
      "                          PanelOLS Estimation Summary                           \n",
      "================================================================================\n",
      "Dep. Variable:            UPT_ADJ_log   R-squared:                        0.6844\n",
      "Estimator:                   PanelOLS   R-squared (Between):              0.9833\n",
      "No. Observations:                4172   R-squared (Within):               0.6844\n",
      "Date:                Tue, Dec 17 2019   R-squared (Overall):              0.9838\n",
      "Time:                        19:10:58   Log-likelihood                    1110.8\n",
      "Cov. Estimator:            Unadjusted                                           \n",
      "                                        F-statistic:                      561.93\n",
      "Entities:                         270   P-value                           0.0000\n",
      "Avg Obs:                       15.452   Distribution:                 F(15,3887)\n",
      "Min Obs:                       3.0000                                           \n",
      "Max Obs:                       17.000   F-statistic (robust):             561.93\n",
      "                                        P-value                           0.0000\n",
      "Time periods:                      17   Distribution:                 F(15,3887)\n",
      "Avg Obs:                       245.41                                           \n",
      "Min Obs:                       179.00                                           \n",
      "Max Obs:                       269.00                                           \n",
      "                                                                                \n",
      "                                      Parameter Estimates                                       \n",
      "================================================================================================\n",
      "                              Parameter  Std. Err.     T-stat    P-value    Lower CI    Upper CI\n",
      "------------------------------------------------------------------------------------------------\n",
      "VRM_ADJ_BUS_log                  0.9310     0.0140     66.491     0.0000      0.9036      0.9585\n",
      "VRM_ADJ_RAIL_log                 0.6284     0.0195     32.177     0.0000      0.5901      0.6667\n",
      "FARE_per_UPT_2018_log           -0.5844     0.0187    -31.268     0.0000     -0.6210     -0.5477\n",
      "POP_EMP_log                      0.2944     0.0591     4.9801     0.0000      0.1785      0.4103\n",
      "GAS_PRICE_2018_log               0.1936     0.0264     7.3300     0.0000      0.1418      0.2454\n",
      "TOTAL_MED_INC_INDIV_2018_log    -0.2436     0.0553    -4.4049     0.0000     -0.3520     -0.1352\n",
      "PCT_HH_NO_VEH                    0.0064     0.0031     2.1010     0.0357      0.0004      0.0124\n",
      "TSD_POP_PCT                      0.0036     0.0016     2.2913     0.0220      0.0005      0.0067\n",
      "JTW_HOME_PCT                    -0.0051     0.0041    -1.2324     0.2179     -0.0131      0.0030\n",
      "YEARS_SINCE_TNC_BUS_NY          -0.0208     0.0201    -1.0333     0.3015     -0.0602      0.0186\n",
      "YEARS_SINCE_TNC_BUS_HI          -0.0170     0.0065    -2.6360     0.0084     -0.0297     -0.0044\n",
      "YEARS_SINCE_TNC_BUS_MIDLOW      -0.0397     0.0047    -8.4074     0.0000     -0.0489     -0.0304\n",
      "YEARS_SINCE_TNC_RAIL             0.0091     0.0058     1.5638     0.1179     -0.0023      0.0206\n",
      "BIKE_SHARE                       0.0220     0.0133     1.6536     0.0983     -0.0041      0.0482\n",
      "scooter_flag                    -0.0411     0.0272    -1.5085     0.1315     -0.0944      0.0123\n",
      "================================================================================================\n",
      "\n",
      "F-test for Poolability: 95.086\n",
      "P-value: 0.0000\n",
      "Distribution: F(269,3887)\n",
      "\n",
      "Included effects: Entity\n"
     ]
    }
   ],
   "source": [
    "# merge mid/low\n",
    "\n",
    "mod=PanelOLS.from_formula('UPT_ADJ_log \\\n",
    "                    ~ VRM_ADJ_BUS_log \\\n",
    "                    + VRM_ADJ_RAIL_log \\\n",
    "                    + FARE_per_UPT_2018_log \\\n",
    "                    + POP_EMP_log \\\n",
    "                    + GAS_PRICE_2018_log \\\n",
    "                    + TOTAL_MED_INC_INDIV_2018_log \\\n",
    "                    + PCT_HH_NO_VEH \\\n",
    "                    + TSD_POP_PCT \\\n",
    "                    + JTW_HOME_PCT \\\n",
    "                    + YEARS_SINCE_TNC_BUS_NY \\\n",
    "                    + YEARS_SINCE_TNC_BUS_HI \\\n",
    "                    + YEARS_SINCE_TNC_BUS_MIDLOW \\\n",
    "                    + YEARS_SINCE_TNC_RAIL \\\n",
    "                    + BIKE_SHARE \\\n",
    "                    + scooter_flag \\\n",
    "                    + EntityEffects \\\n",
    "                    ',data=df)\n",
    "res=mod.fit()\n",
    "print(res)"
   ]
  },
  {
   "cell_type": "code",
   "execution_count": 46,
   "metadata": {
    "collapsed": false
   },
   "outputs": [
    {
     "name": "stderr",
     "output_type": "stream",
     "text": [
      "C:\\Program Files\\Anaconda3\\lib\\site-packages\\linearmodels\\panel\\data.py:39: FutureWarning: \n",
      "Passing list-likes to .loc or [] with any missing label will raise\n",
      "KeyError in the future, you can use .reindex() as an alternative.\n",
      "\n",
      "See the documentation here:\n",
      "https://pandas.pydata.org/pandas-docs/stable/indexing.html#deprecate-loc-reindex-listlike\n",
      "  new_df = df.copy().loc[self._full_index]\n",
      "C:\\Program Files\\Anaconda3\\lib\\site-packages\\linearmodels\\utility.py:476: MissingValueWarning: \n",
      "Inputs contain missing values. Dropping rows with missing observations.\n",
      "  warnings.warn(missing_value_warning_msg, MissingValueWarning)\n"
     ]
    },
    {
     "name": "stdout",
     "output_type": "stream",
     "text": [
      "                          PanelOLS Estimation Summary                           \n",
      "================================================================================\n",
      "Dep. Variable:            UPT_ADJ_log   R-squared:                        0.6844\n",
      "Estimator:                   PanelOLS   R-squared (Between):              0.9833\n",
      "No. Observations:                4172   R-squared (Within):               0.6844\n",
      "Date:                Tue, Dec 17 2019   R-squared (Overall):              0.9839\n",
      "Time:                        19:10:59   Log-likelihood                    1110.7\n",
      "Cov. Estimator:            Unadjusted                                           \n",
      "                                        F-statistic:                      602.21\n",
      "Entities:                         270   P-value                           0.0000\n",
      "Avg Obs:                       15.452   Distribution:                 F(14,3888)\n",
      "Min Obs:                       3.0000                                           \n",
      "Max Obs:                       17.000   F-statistic (robust):             602.21\n",
      "                                        P-value                           0.0000\n",
      "Time periods:                      17   Distribution:                 F(14,3888)\n",
      "Avg Obs:                       245.41                                           \n",
      "Min Obs:                       179.00                                           \n",
      "Max Obs:                       269.00                                           \n",
      "                                                                                \n",
      "                                      Parameter Estimates                                       \n",
      "================================================================================================\n",
      "                              Parameter  Std. Err.     T-stat    P-value    Lower CI    Upper CI\n",
      "------------------------------------------------------------------------------------------------\n",
      "VRM_ADJ_BUS_log                  0.9310     0.0140     66.509     0.0000      0.9035      0.9584\n",
      "VRM_ADJ_RAIL_log                 0.6284     0.0195     32.181     0.0000      0.5901      0.6667\n",
      "FARE_per_UPT_2018_log           -0.5844     0.0187    -31.278     0.0000     -0.6210     -0.5478\n",
      "POP_EMP_log                      0.2947     0.0591     4.9903     0.0000      0.1789      0.4105\n",
      "GAS_PRICE_2018_log               0.1936     0.0264     7.3312     0.0000      0.1418      0.2454\n",
      "TOTAL_MED_INC_INDIV_2018_log    -0.2433     0.0553    -4.4023     0.0000     -0.3517     -0.1349\n",
      "PCT_HH_NO_VEH                    0.0064     0.0031     2.1052     0.0353      0.0004      0.0124\n",
      "TSD_POP_PCT                      0.0036     0.0016     2.2948     0.0218      0.0005      0.0067\n",
      "JTW_HOME_PCT                    -0.0050     0.0041    -1.2278     0.2196     -0.0131      0.0030\n",
      "YEARS_SINCE_TNC_BUS_HINY        -0.0173     0.0063    -2.7602     0.0058     -0.0296     -0.0050\n",
      "YEARS_SINCE_TNC_BUS_MIDLOW      -0.0397     0.0047    -8.4116     0.0000     -0.0490     -0.0304\n",
      "YEARS_SINCE_TNC_RAIL             0.0091     0.0058     1.5632     0.1181     -0.0023      0.0206\n",
      "BIKE_SHARE                       0.0220     0.0133     1.6516     0.0987     -0.0041      0.0481\n",
      "scooter_flag                    -0.0411     0.0272    -1.5092     0.1313     -0.0944      0.0123\n",
      "================================================================================================\n",
      "\n",
      "F-test for Poolability: 95.386\n",
      "P-value: 0.0000\n",
      "Distribution: F(269,3888)\n",
      "\n",
      "Included effects: Entity\n"
     ]
    }
   ],
   "source": [
    "# merge NY and high\n",
    "\n",
    "mod=PanelOLS.from_formula('UPT_ADJ_log \\\n",
    "                    ~ VRM_ADJ_BUS_log \\\n",
    "                    + VRM_ADJ_RAIL_log \\\n",
    "                    + FARE_per_UPT_2018_log \\\n",
    "                    + POP_EMP_log \\\n",
    "                    + GAS_PRICE_2018_log \\\n",
    "                    + TOTAL_MED_INC_INDIV_2018_log \\\n",
    "                    + PCT_HH_NO_VEH \\\n",
    "                    + TSD_POP_PCT \\\n",
    "                    + JTW_HOME_PCT \\\n",
    "                    + YEARS_SINCE_TNC_BUS_HINY \\\n",
    "                    + YEARS_SINCE_TNC_BUS_MIDLOW \\\n",
    "                    + YEARS_SINCE_TNC_RAIL \\\n",
    "                    + BIKE_SHARE \\\n",
    "                    + scooter_flag \\\n",
    "                    + EntityEffects \\\n",
    "                    ',data=df)\n",
    "res=mod.fit()\n",
    "print(res)"
   ]
  },
  {
   "cell_type": "markdown",
   "metadata": {},
   "source": [
    "## more TNC specifications"
   ]
  },
  {
   "cell_type": "code",
   "execution_count": 47,
   "metadata": {
    "collapsed": false
   },
   "outputs": [
    {
     "name": "stderr",
     "output_type": "stream",
     "text": [
      "C:\\Program Files\\Anaconda3\\lib\\site-packages\\linearmodels\\panel\\data.py:39: FutureWarning: \n",
      "Passing list-likes to .loc or [] with any missing label will raise\n",
      "KeyError in the future, you can use .reindex() as an alternative.\n",
      "\n",
      "See the documentation here:\n",
      "https://pandas.pydata.org/pandas-docs/stable/indexing.html#deprecate-loc-reindex-listlike\n",
      "  new_df = df.copy().loc[self._full_index]\n",
      "C:\\Program Files\\Anaconda3\\lib\\site-packages\\linearmodels\\utility.py:476: MissingValueWarning: \n",
      "Inputs contain missing values. Dropping rows with missing observations.\n",
      "  warnings.warn(missing_value_warning_msg, MissingValueWarning)\n"
     ]
    },
    {
     "name": "stdout",
     "output_type": "stream",
     "text": [
      "                          PanelOLS Estimation Summary                           \n",
      "================================================================================\n",
      "Dep. Variable:            UPT_ADJ_log   R-squared:                        0.6834\n",
      "Estimator:                   PanelOLS   R-squared (Between):              0.9808\n",
      "No. Observations:                4172   R-squared (Within):               0.6834\n",
      "Date:                Tue, Dec 17 2019   R-squared (Overall):              0.9815\n",
      "Time:                        19:11:02   Log-likelihood                    1104.4\n",
      "Cov. Estimator:            Unadjusted                                           \n",
      "                                        F-statistic:                      645.84\n",
      "Entities:                         270   P-value                           0.0000\n",
      "Avg Obs:                       15.452   Distribution:                 F(13,3889)\n",
      "Min Obs:                       3.0000                                           \n",
      "Max Obs:                       17.000   F-statistic (robust):             645.84\n",
      "                                        P-value                           0.0000\n",
      "Time periods:                      17   Distribution:                 F(13,3889)\n",
      "Avg Obs:                       245.41                                           \n",
      "Min Obs:                       179.00                                           \n",
      "Max Obs:                       269.00                                           \n",
      "                                                                                \n",
      "                                      Parameter Estimates                                       \n",
      "================================================================================================\n",
      "                              Parameter  Std. Err.     T-stat    P-value    Lower CI    Upper CI\n",
      "------------------------------------------------------------------------------------------------\n",
      "VRM_ADJ_BUS_log                  0.9294     0.0140     66.339     0.0000      0.9019      0.9568\n",
      "VRM_ADJ_RAIL_log                 0.6280     0.0196     32.117     0.0000      0.5897      0.6663\n",
      "FARE_per_UPT_2018_log           -0.5836     0.0187    -31.196     0.0000     -0.6203     -0.5470\n",
      "POP_EMP_log                      0.2733     0.0588     4.6472     0.0000      0.1580      0.3886\n",
      "GAS_PRICE_2018_log               0.2015     0.0263     7.6490     0.0000      0.1499      0.2532\n",
      "TOTAL_MED_INC_INDIV_2018_log    -0.2441     0.0553    -4.4104     0.0000     -0.3526     -0.1356\n",
      "PCT_HH_NO_VEH                    0.0065     0.0031     2.1237     0.0338      0.0005      0.0125\n",
      "TSD_POP_PCT                      0.0032     0.0016     2.0377     0.0416      0.0001      0.0063\n",
      "JTW_HOME_PCT                    -0.0061     0.0041    -1.4916     0.1359     -0.0141      0.0019\n",
      "YEARS_SINCE_TNC_BUS             -0.0330     0.0043    -7.6696     0.0000     -0.0414     -0.0245\n",
      "YEARS_SINCE_TNC_RAIL             0.0090     0.0059     1.5388     0.1239     -0.0025      0.0205\n",
      "BIKE_SHARE                       0.0246     0.0133     1.8500     0.0644     -0.0015      0.0507\n",
      "scooter_flag                    -0.0319     0.0271    -1.1759     0.2397     -0.0851      0.0213\n",
      "================================================================================================\n",
      "\n",
      "F-test for Poolability: 95.327\n",
      "P-value: 0.0000\n",
      "Distribution: F(269,3889)\n",
      "\n",
      "Included effects: Entity\n"
     ]
    }
   ],
   "source": [
    "# base model\n",
    "\n",
    "mod=PanelOLS.from_formula('UPT_ADJ_log \\\n",
    "                    ~ VRM_ADJ_BUS_log \\\n",
    "                    + VRM_ADJ_RAIL_log \\\n",
    "                    + FARE_per_UPT_2018_log \\\n",
    "                    + POP_EMP_log \\\n",
    "                    + GAS_PRICE_2018_log \\\n",
    "                    + TOTAL_MED_INC_INDIV_2018_log \\\n",
    "                    + PCT_HH_NO_VEH \\\n",
    "                    + TSD_POP_PCT \\\n",
    "                    + JTW_HOME_PCT \\\n",
    "                    + YEARS_SINCE_TNC_BUS \\\n",
    "                    + YEARS_SINCE_TNC_RAIL \\\n",
    "                    + BIKE_SHARE \\\n",
    "                    + scooter_flag \\\n",
    "                    + EntityEffects \\\n",
    "                    ',data=df)\n",
    "res=mod.fit()\n",
    "print(res)\n"
   ]
  },
  {
   "cell_type": "code",
   "execution_count": 48,
   "metadata": {
    "collapsed": false
   },
   "outputs": [
    {
     "name": "stderr",
     "output_type": "stream",
     "text": [
      "C:\\Program Files\\Anaconda3\\lib\\site-packages\\linearmodels\\panel\\data.py:39: FutureWarning: \n",
      "Passing list-likes to .loc or [] with any missing label will raise\n",
      "KeyError in the future, you can use .reindex() as an alternative.\n",
      "\n",
      "See the documentation here:\n",
      "https://pandas.pydata.org/pandas-docs/stable/indexing.html#deprecate-loc-reindex-listlike\n",
      "  new_df = df.copy().loc[self._full_index]\n",
      "C:\\Program Files\\Anaconda3\\lib\\site-packages\\linearmodels\\utility.py:476: MissingValueWarning: \n",
      "Inputs contain missing values. Dropping rows with missing observations.\n",
      "  warnings.warn(missing_value_warning_msg, MissingValueWarning)\n"
     ]
    },
    {
     "name": "stdout",
     "output_type": "stream",
     "text": [
      "                          PanelOLS Estimation Summary                           \n",
      "================================================================================\n",
      "Dep. Variable:            UPT_ADJ_log   R-squared:                        0.6794\n",
      "Estimator:                   PanelOLS   R-squared (Between):              0.9761\n",
      "No. Observations:                4172   R-squared (Within):               0.6794\n",
      "Date:                Tue, Dec 17 2019   R-squared (Overall):              0.9769\n",
      "Time:                        19:11:03   Log-likelihood                    1078.3\n",
      "Cov. Estimator:            Unadjusted                                           \n",
      "                                        F-statistic:                      634.06\n",
      "Entities:                         270   P-value                           0.0000\n",
      "Avg Obs:                       15.452   Distribution:                 F(13,3889)\n",
      "Min Obs:                       3.0000                                           \n",
      "Max Obs:                       17.000   F-statistic (robust):             634.06\n",
      "                                        P-value                           0.0000\n",
      "Time periods:                      17   Distribution:                 F(13,3889)\n",
      "Avg Obs:                       245.41                                           \n",
      "Min Obs:                       179.00                                           \n",
      "Max Obs:                       269.00                                           \n",
      "                                                                                \n",
      "                                      Parameter Estimates                                       \n",
      "================================================================================================\n",
      "                              Parameter  Std. Err.     T-stat    P-value    Lower CI    Upper CI\n",
      "------------------------------------------------------------------------------------------------\n",
      "VRM_ADJ_BUS_log                  0.9318     0.0141     65.979     0.0000      0.9041      0.9595\n",
      "VRM_ADJ_RAIL_log                 0.6370     0.0201     31.680     0.0000      0.5975      0.6764\n",
      "FARE_per_UPT_2018_log           -0.5809     0.0188    -30.843     0.0000     -0.6178     -0.5440\n",
      "POP_EMP_log                      0.2602     0.0602     4.3218     0.0000      0.1422      0.3782\n",
      "GAS_PRICE_2018_log               0.2067     0.0277     7.4700     0.0000      0.1524      0.2609\n",
      "TOTAL_MED_INC_INDIV_2018_log    -0.2781     0.0561    -4.9580     0.0000     -0.3880     -0.1681\n",
      "PCT_HH_NO_VEH                    0.0070     0.0031     2.2786     0.0227      0.0010      0.0131\n",
      "TSD_POP_PCT                      0.0036     0.0016     2.2804     0.0226      0.0005      0.0067\n",
      "JTW_HOME_PCT                    -0.0094     0.0041    -2.2896     0.0221     -0.0174     -0.0013\n",
      "TNC_FLAG_BUS                    -0.0489     0.0105    -4.6634     0.0000     -0.0695     -0.0284\n",
      "TNC_FLAG_RAIL                    0.0397     0.0202     1.9654     0.0494   9.646e-05      0.0793\n",
      "BIKE_SHARE                       0.0018     0.0127     0.1427     0.8865     -0.0230      0.0267\n",
      "scooter_flag                    -0.0704     0.0256    -2.7537     0.0059     -0.1206     -0.0203\n",
      "================================================================================================\n",
      "\n",
      "F-test for Poolability: 94.058\n",
      "P-value: 0.0000\n",
      "Distribution: F(269,3889)\n",
      "\n",
      "Included effects: Entity\n"
     ]
    }
   ],
   "source": [
    "# flags\n",
    "\n",
    "mod=PanelOLS.from_formula('UPT_ADJ_log \\\n",
    "                    ~ VRM_ADJ_BUS_log \\\n",
    "                    + VRM_ADJ_RAIL_log \\\n",
    "                    + FARE_per_UPT_2018_log \\\n",
    "                    + POP_EMP_log \\\n",
    "                    + GAS_PRICE_2018_log \\\n",
    "                    + TOTAL_MED_INC_INDIV_2018_log \\\n",
    "                    + PCT_HH_NO_VEH \\\n",
    "                    + TSD_POP_PCT \\\n",
    "                    + JTW_HOME_PCT \\\n",
    "                    + TNC_FLAG_BUS \\\n",
    "                    + TNC_FLAG_RAIL \\\n",
    "                    + BIKE_SHARE \\\n",
    "                    + scooter_flag \\\n",
    "                    + EntityEffects \\\n",
    "                    ',data=df)\n",
    "res=mod.fit()\n",
    "print(res)\n"
   ]
  },
  {
   "cell_type": "code",
   "execution_count": 49,
   "metadata": {
    "collapsed": false
   },
   "outputs": [
    {
     "name": "stderr",
     "output_type": "stream",
     "text": [
      "C:\\Program Files\\Anaconda3\\lib\\site-packages\\linearmodels\\panel\\data.py:39: FutureWarning: \n",
      "Passing list-likes to .loc or [] with any missing label will raise\n",
      "KeyError in the future, you can use .reindex() as an alternative.\n",
      "\n",
      "See the documentation here:\n",
      "https://pandas.pydata.org/pandas-docs/stable/indexing.html#deprecate-loc-reindex-listlike\n",
      "  new_df = df.copy().loc[self._full_index]\n",
      "C:\\Program Files\\Anaconda3\\lib\\site-packages\\linearmodels\\utility.py:476: MissingValueWarning: \n",
      "Inputs contain missing values. Dropping rows with missing observations.\n",
      "  warnings.warn(missing_value_warning_msg, MissingValueWarning)\n"
     ]
    },
    {
     "name": "stdout",
     "output_type": "stream",
     "text": [
      "                          PanelOLS Estimation Summary                           \n",
      "================================================================================\n",
      "Dep. Variable:            UPT_ADJ_log   R-squared:                        0.6825\n",
      "Estimator:                   PanelOLS   R-squared (Between):              0.9794\n",
      "No. Observations:                4172   R-squared (Within):               0.6825\n",
      "Date:                Tue, Dec 17 2019   R-squared (Overall):              0.9801\n",
      "Time:                        19:11:04   Log-likelihood                    1098.1\n",
      "Cov. Estimator:            Unadjusted                                           \n",
      "                                        F-statistic:                      439.25\n",
      "Entities:                         270   P-value                           0.0000\n",
      "Avg Obs:                       15.452   Distribution:                 F(19,3883)\n",
      "Min Obs:                       3.0000                                           \n",
      "Max Obs:                       17.000   F-statistic (robust):             439.25\n",
      "                                        P-value                           0.0000\n",
      "Time periods:                      17   Distribution:                 F(19,3883)\n",
      "Avg Obs:                       245.41                                           \n",
      "Min Obs:                       179.00                                           \n",
      "Max Obs:                       269.00                                           \n",
      "                                                                                \n",
      "                                      Parameter Estimates                                       \n",
      "================================================================================================\n",
      "                              Parameter  Std. Err.     T-stat    P-value    Lower CI    Upper CI\n",
      "------------------------------------------------------------------------------------------------\n",
      "VRM_ADJ_BUS_log                  0.9289     0.0141     65.968     0.0000      0.9013      0.9565\n",
      "VRM_ADJ_RAIL_log                 0.6348     0.0201     31.514     0.0000      0.5953      0.6743\n",
      "FARE_per_UPT_2018_log           -0.5824     0.0188    -31.036     0.0000     -0.6192     -0.5456\n",
      "POP_EMP_log                      0.2525     0.0604     4.1801     0.0000      0.1341      0.3710\n",
      "GAS_PRICE_2018_log               0.1833     0.0285     6.4202     0.0000      0.1273      0.2392\n",
      "TOTAL_MED_INC_INDIV_2018_log    -0.2332     0.0566    -4.1194     0.0000     -0.3442     -0.1222\n",
      "PCT_HH_NO_VEH                    0.0068     0.0031     2.2073     0.0273      0.0008      0.0128\n",
      "TSD_POP_PCT                      0.0035     0.0016     2.1923     0.0284      0.0004      0.0066\n",
      "JTW_HOME_PCT                    -0.0075     0.0041    -1.8286     0.0675     -0.0156      0.0005\n",
      "TNC_FLAG_BUS                    -0.0157     0.0142    -1.1057     0.2689     -0.0435      0.0121\n",
      "TNC_FLAG_BUS_LAGGED_1           -0.0450     0.0168    -2.6739     0.0075     -0.0779     -0.0120\n",
      "TNC_FLAG_BUS_LAGGED_2           -0.0051     0.0132    -0.3867     0.6990     -0.0310      0.0208\n",
      "TNC_FLAG_BUS_LAGGED_3           -0.0371     0.0111    -3.3299     0.0009     -0.0589     -0.0152\n",
      "TNC_FLAG_RAIL                   -0.0081     0.0332    -0.2439     0.8073     -0.0732      0.0570\n",
      "TNC_FLAG_RAIL_LAGGED_1           0.0394     0.0391     1.0096     0.3127     -0.0372      0.1160\n",
      "TNC_FLAG_RAIL_LAGGED_2           0.0089     0.0316     0.2810     0.7788     -0.0530      0.0707\n",
      "TNC_FLAG_RAIL_LAGGED_3           0.0012     0.0250     0.0492     0.9608     -0.0478      0.0502\n",
      "BIKE_SHARE                       0.0162     0.0131     1.2394     0.2153     -0.0094      0.0419\n",
      "scooter_flag                    -0.0578     0.0258    -2.2401     0.0251     -0.1085     -0.0072\n",
      "================================================================================================\n",
      "\n",
      "F-test for Poolability: 94.743\n",
      "P-value: 0.0000\n",
      "Distribution: F(269,3883)\n",
      "\n",
      "Included effects: Entity\n"
     ]
    }
   ],
   "source": [
    "# LAGGED TNC EFFECT\n",
    "\n",
    "mod=PanelOLS.from_formula('UPT_ADJ_log \\\n",
    "                    ~ VRM_ADJ_BUS_log \\\n",
    "                    + VRM_ADJ_RAIL_log \\\n",
    "                    + FARE_per_UPT_2018_log \\\n",
    "                    + POP_EMP_log \\\n",
    "                    + GAS_PRICE_2018_log \\\n",
    "                    + TOTAL_MED_INC_INDIV_2018_log \\\n",
    "                    + PCT_HH_NO_VEH \\\n",
    "                    + TSD_POP_PCT \\\n",
    "                    + JTW_HOME_PCT \\\n",
    "                    + TNC_FLAG_BUS \\\n",
    "                    + TNC_FLAG_BUS_LAGGED_1 \\\n",
    "                    + TNC_FLAG_BUS_LAGGED_2 \\\n",
    "                    + TNC_FLAG_BUS_LAGGED_3 \\\n",
    "                    + TNC_FLAG_RAIL \\\n",
    "                    + TNC_FLAG_RAIL_LAGGED_1 \\\n",
    "                    + TNC_FLAG_RAIL_LAGGED_2 \\\n",
    "                    + TNC_FLAG_RAIL_LAGGED_3 \\\n",
    "                    + BIKE_SHARE \\\n",
    "                    + scooter_flag \\\n",
    "                    + EntityEffects \\\n",
    "                    ',data=df)\n",
    "res=mod.fit()\n",
    "print(res)\n"
   ]
  },
  {
   "cell_type": "code",
   "execution_count": 50,
   "metadata": {
    "collapsed": true
   },
   "outputs": [],
   "source": [
    "# Test TNC ramp up\n",
    "\n",
    "df['YEARS_SINCE_TNC_BUS_2'] = df['YEARS_SINCE_TNC_BUS'].apply(lambda x : min(x, 2))\n",
    "df['YEARS_SINCE_TNC_BUS_3'] = df['YEARS_SINCE_TNC_BUS'].apply(lambda x : min(x, 3))\n",
    "df['YEARS_SINCE_TNC_BUS_4'] = df['YEARS_SINCE_TNC_BUS'].apply(lambda x : min(x, 4))\n",
    "df['YEARS_SINCE_TNC_BUS_5'] = df['YEARS_SINCE_TNC_BUS'].apply(lambda x : min(x, 5))\n",
    "\n",
    "df['YEARS_SINCE_TNC_RAIL_2'] = df['YEARS_SINCE_TNC_RAIL'].apply(lambda x : min(x, 2))\n",
    "df['YEARS_SINCE_TNC_RAIL_3'] = df['YEARS_SINCE_TNC_RAIL'].apply(lambda x : min(x, 3))\n",
    "df['YEARS_SINCE_TNC_RAIL_4'] = df['YEARS_SINCE_TNC_RAIL'].apply(lambda x : min(x, 4))\n",
    "df['YEARS_SINCE_TNC_RAIL_5'] = df['YEARS_SINCE_TNC_RAIL'].apply(lambda x : min(x, 5))"
   ]
  },
  {
   "cell_type": "code",
   "execution_count": 51,
   "metadata": {
    "collapsed": false
   },
   "outputs": [
    {
     "name": "stderr",
     "output_type": "stream",
     "text": [
      "C:\\Program Files\\Anaconda3\\lib\\site-packages\\linearmodels\\panel\\data.py:39: FutureWarning: \n",
      "Passing list-likes to .loc or [] with any missing label will raise\n",
      "KeyError in the future, you can use .reindex() as an alternative.\n",
      "\n",
      "See the documentation here:\n",
      "https://pandas.pydata.org/pandas-docs/stable/indexing.html#deprecate-loc-reindex-listlike\n",
      "  new_df = df.copy().loc[self._full_index]\n",
      "C:\\Program Files\\Anaconda3\\lib\\site-packages\\linearmodels\\utility.py:476: MissingValueWarning: \n",
      "Inputs contain missing values. Dropping rows with missing observations.\n",
      "  warnings.warn(missing_value_warning_msg, MissingValueWarning)\n"
     ]
    },
    {
     "name": "stdout",
     "output_type": "stream",
     "text": [
      "                          PanelOLS Estimation Summary                           \n",
      "================================================================================\n",
      "Dep. Variable:            UPT_ADJ_log   R-squared:                        0.6821\n",
      "Estimator:                   PanelOLS   R-squared (Between):              0.9807\n",
      "No. Observations:                4172   R-squared (Within):               0.6821\n",
      "Date:                Tue, Dec 17 2019   R-squared (Overall):              0.9814\n",
      "Time:                        19:11:06   Log-likelihood                    1095.8\n",
      "Cov. Estimator:            Unadjusted                                           \n",
      "                                        F-statistic:                      641.95\n",
      "Entities:                         270   P-value                           0.0000\n",
      "Avg Obs:                       15.452   Distribution:                 F(13,3889)\n",
      "Min Obs:                       3.0000                                           \n",
      "Max Obs:                       17.000   F-statistic (robust):             641.95\n",
      "                                        P-value                           0.0000\n",
      "Time periods:                      17   Distribution:                 F(13,3889)\n",
      "Avg Obs:                       245.41                                           \n",
      "Min Obs:                       179.00                                           \n",
      "Max Obs:                       269.00                                           \n",
      "                                                                                \n",
      "                                      Parameter Estimates                                       \n",
      "================================================================================================\n",
      "                              Parameter  Std. Err.     T-stat    P-value    Lower CI    Upper CI\n",
      "------------------------------------------------------------------------------------------------\n",
      "VRM_ADJ_BUS_log                  0.9307     0.0140     66.281     0.0000      0.9032      0.9582\n",
      "VRM_ADJ_RAIL_log                 0.6305     0.0198     31.852     0.0000      0.5917      0.6693\n",
      "FARE_per_UPT_2018_log           -0.5818     0.0187    -31.032     0.0000     -0.6185     -0.5450\n",
      "POP_EMP_log                      0.2796     0.0594     4.7041     0.0000      0.1631      0.3962\n",
      "GAS_PRICE_2018_log               0.1923     0.0273     7.0344     0.0000      0.1387      0.2460\n",
      "TOTAL_MED_INC_INDIV_2018_log    -0.2564     0.0555    -4.6232     0.0000     -0.3651     -0.1476\n",
      "PCT_HH_NO_VEH                    0.0070     0.0031     2.2806     0.0226      0.0010      0.0130\n",
      "TSD_POP_PCT                      0.0033     0.0016     2.0824     0.0374      0.0002      0.0064\n",
      "JTW_HOME_PCT                    -0.0064     0.0041    -1.5426     0.1230     -0.0144      0.0017\n",
      "YEARS_SINCE_TNC_BUS_2           -0.0460     0.0067    -6.8600     0.0000     -0.0592     -0.0329\n",
      "YEARS_SINCE_TNC_RAIL_2           0.0207     0.0115     1.8043     0.0713     -0.0018      0.0432\n",
      "BIKE_SHARE                       0.0146     0.0130     1.1191     0.2632     -0.0110      0.0401\n",
      "scooter_flag                    -0.0629     0.0256    -2.4565     0.0141     -0.1130     -0.0127\n",
      "================================================================================================\n",
      "\n",
      "F-test for Poolability: 94.879\n",
      "P-value: 0.0000\n",
      "Distribution: F(269,3889)\n",
      "\n",
      "Included effects: Entity\n"
     ]
    }
   ],
   "source": [
    "# TNC RAMP UP\n",
    "\n",
    "\n",
    "mod=PanelOLS.from_formula('UPT_ADJ_log \\\n",
    "                    ~ VRM_ADJ_BUS_log \\\n",
    "                    + VRM_ADJ_RAIL_log \\\n",
    "                    + FARE_per_UPT_2018_log \\\n",
    "                    + POP_EMP_log \\\n",
    "                    + GAS_PRICE_2018_log \\\n",
    "                    + TOTAL_MED_INC_INDIV_2018_log \\\n",
    "                    + PCT_HH_NO_VEH \\\n",
    "                    + TSD_POP_PCT \\\n",
    "                    + JTW_HOME_PCT \\\n",
    "                    + YEARS_SINCE_TNC_BUS_2 \\\n",
    "                    + YEARS_SINCE_TNC_RAIL_2 \\\n",
    "                    + BIKE_SHARE \\\n",
    "                    + scooter_flag \\\n",
    "                    + EntityEffects \\\n",
    "                    ',data=df)\n",
    "res=mod.fit()\n",
    "print(res)\n",
    "\n"
   ]
  },
  {
   "cell_type": "code",
   "execution_count": 52,
   "metadata": {
    "collapsed": false
   },
   "outputs": [
    {
     "name": "stderr",
     "output_type": "stream",
     "text": [
      "C:\\Program Files\\Anaconda3\\lib\\site-packages\\linearmodels\\panel\\data.py:39: FutureWarning: \n",
      "Passing list-likes to .loc or [] with any missing label will raise\n",
      "KeyError in the future, you can use .reindex() as an alternative.\n",
      "\n",
      "See the documentation here:\n",
      "https://pandas.pydata.org/pandas-docs/stable/indexing.html#deprecate-loc-reindex-listlike\n",
      "  new_df = df.copy().loc[self._full_index]\n",
      "C:\\Program Files\\Anaconda3\\lib\\site-packages\\linearmodels\\utility.py:476: MissingValueWarning: \n",
      "Inputs contain missing values. Dropping rows with missing observations.\n",
      "  warnings.warn(missing_value_warning_msg, MissingValueWarning)\n"
     ]
    },
    {
     "name": "stdout",
     "output_type": "stream",
     "text": [
      "                          PanelOLS Estimation Summary                           \n",
      "================================================================================\n",
      "Dep. Variable:            UPT_ADJ_log   R-squared:                        0.6832\n",
      "Estimator:                   PanelOLS   R-squared (Between):              0.9816\n",
      "No. Observations:                4172   R-squared (Within):               0.6832\n",
      "Date:                Tue, Dec 17 2019   R-squared (Overall):              0.9823\n",
      "Time:                        19:11:06   Log-likelihood                    1102.7\n",
      "Cov. Estimator:            Unadjusted                                           \n",
      "                                        F-statistic:                      645.07\n",
      "Entities:                         270   P-value                           0.0000\n",
      "Avg Obs:                       15.452   Distribution:                 F(13,3889)\n",
      "Min Obs:                       3.0000                                           \n",
      "Max Obs:                       17.000   F-statistic (robust):             645.07\n",
      "                                        P-value                           0.0000\n",
      "Time periods:                      17   Distribution:                 F(13,3889)\n",
      "Avg Obs:                       245.41                                           \n",
      "Min Obs:                       179.00                                           \n",
      "Max Obs:                       269.00                                           \n",
      "                                                                                \n",
      "                                      Parameter Estimates                                       \n",
      "================================================================================================\n",
      "                              Parameter  Std. Err.     T-stat    P-value    Lower CI    Upper CI\n",
      "------------------------------------------------------------------------------------------------\n",
      "VRM_ADJ_BUS_log                  0.9301     0.0140     66.358     0.0000      0.9026      0.9576\n",
      "VRM_ADJ_RAIL_log                 0.6291     0.0197     31.906     0.0000      0.5905      0.6678\n",
      "FARE_per_UPT_2018_log           -0.5828     0.0187    -31.142     0.0000     -0.6195     -0.5461\n",
      "POP_EMP_log                      0.2837     0.0591     4.7986     0.0000      0.1678      0.3996\n",
      "GAS_PRICE_2018_log               0.1926     0.0268     7.1807     0.0000      0.1400      0.2452\n",
      "TOTAL_MED_INC_INDIV_2018_log    -0.2500     0.0553    -4.5164     0.0000     -0.3585     -0.1415\n",
      "PCT_HH_NO_VEH                    0.0066     0.0031     2.1606     0.0308      0.0006      0.0126\n",
      "TSD_POP_PCT                      0.0032     0.0016     2.0477     0.0407      0.0001      0.0063\n",
      "JTW_HOME_PCT                    -0.0056     0.0041    -1.3625     0.1731     -0.0137      0.0025\n",
      "YEARS_SINCE_TNC_BUS_3           -0.0395     0.0051    -7.6834     0.0000     -0.0496     -0.0294\n",
      "YEARS_SINCE_TNC_RAIL_3           0.0123     0.0084     1.4764     0.1399     -0.0040      0.0287\n",
      "BIKE_SHARE                       0.0223     0.0133     1.6853     0.0920     -0.0036      0.0483\n",
      "scooter_flag                    -0.0537     0.0257    -2.0867     0.0370     -0.1042     -0.0032\n",
      "================================================================================================\n",
      "\n",
      "F-test for Poolability: 95.250\n",
      "P-value: 0.0000\n",
      "Distribution: F(269,3889)\n",
      "\n",
      "Included effects: Entity\n"
     ]
    }
   ],
   "source": [
    "# TNC RAMP UP\n",
    "\n",
    "\n",
    "mod=PanelOLS.from_formula('UPT_ADJ_log \\\n",
    "                    ~ VRM_ADJ_BUS_log \\\n",
    "                    + VRM_ADJ_RAIL_log \\\n",
    "                    + FARE_per_UPT_2018_log \\\n",
    "                    + POP_EMP_log \\\n",
    "                    + GAS_PRICE_2018_log \\\n",
    "                    + TOTAL_MED_INC_INDIV_2018_log \\\n",
    "                    + PCT_HH_NO_VEH \\\n",
    "                    + TSD_POP_PCT \\\n",
    "                    + JTW_HOME_PCT \\\n",
    "                    + YEARS_SINCE_TNC_BUS_3 \\\n",
    "                    + YEARS_SINCE_TNC_RAIL_3 \\\n",
    "                    + BIKE_SHARE \\\n",
    "                    + scooter_flag \\\n",
    "                    + EntityEffects \\\n",
    "                    ',data=df)\n",
    "res=mod.fit()\n",
    "print(res)\n",
    "\n"
   ]
  },
  {
   "cell_type": "code",
   "execution_count": 53,
   "metadata": {
    "collapsed": false
   },
   "outputs": [
    {
     "name": "stderr",
     "output_type": "stream",
     "text": [
      "C:\\Program Files\\Anaconda3\\lib\\site-packages\\linearmodels\\panel\\data.py:39: FutureWarning: \n",
      "Passing list-likes to .loc or [] with any missing label will raise\n",
      "KeyError in the future, you can use .reindex() as an alternative.\n",
      "\n",
      "See the documentation here:\n",
      "https://pandas.pydata.org/pandas-docs/stable/indexing.html#deprecate-loc-reindex-listlike\n",
      "  new_df = df.copy().loc[self._full_index]\n",
      "C:\\Program Files\\Anaconda3\\lib\\site-packages\\linearmodels\\utility.py:476: MissingValueWarning: \n",
      "Inputs contain missing values. Dropping rows with missing observations.\n",
      "  warnings.warn(missing_value_warning_msg, MissingValueWarning)\n"
     ]
    },
    {
     "name": "stdout",
     "output_type": "stream",
     "text": [
      "                          PanelOLS Estimation Summary                           \n",
      "================================================================================\n",
      "Dep. Variable:            UPT_ADJ_log   R-squared:                        0.6837\n",
      "Estimator:                   PanelOLS   R-squared (Between):              0.9819\n",
      "No. Observations:                4172   R-squared (Within):               0.6837\n",
      "Date:                Tue, Dec 17 2019   R-squared (Overall):              0.9825\n",
      "Time:                        19:11:07   Log-likelihood                    1106.2\n",
      "Cov. Estimator:            Unadjusted                                           \n",
      "                                        F-statistic:                      646.66\n",
      "Entities:                         270   P-value                           0.0000\n",
      "Avg Obs:                       15.452   Distribution:                 F(13,3889)\n",
      "Min Obs:                       3.0000                                           \n",
      "Max Obs:                       17.000   F-statistic (robust):             646.66\n",
      "                                        P-value                           0.0000\n",
      "Time periods:                      17   Distribution:                 F(13,3889)\n",
      "Avg Obs:                       245.41                                           \n",
      "Min Obs:                       179.00                                           \n",
      "Max Obs:                       269.00                                           \n",
      "                                                                                \n",
      "                                      Parameter Estimates                                       \n",
      "================================================================================================\n",
      "                              Parameter  Std. Err.     T-stat    P-value    Lower CI    Upper CI\n",
      "------------------------------------------------------------------------------------------------\n",
      "VRM_ADJ_BUS_log                  0.9297     0.0140     66.387     0.0000      0.9022      0.9571\n",
      "VRM_ADJ_RAIL_log                 0.6286     0.0196     31.990     0.0000      0.5901      0.6671\n",
      "FARE_per_UPT_2018_log           -0.5837     0.0187    -31.211     0.0000     -0.6203     -0.5470\n",
      "POP_EMP_log                      0.2831     0.0589     4.8047     0.0000      0.1676      0.3987\n",
      "GAS_PRICE_2018_log               0.1956     0.0265     7.3841     0.0000      0.1437      0.2475\n",
      "TOTAL_MED_INC_INDIV_2018_log    -0.2453     0.0553    -4.4359     0.0000     -0.3538     -0.1369\n",
      "PCT_HH_NO_VEH                    0.0064     0.0031     2.0796     0.0376      0.0004      0.0124\n",
      "TSD_POP_PCT                      0.0032     0.0016     2.0481     0.0406      0.0001      0.0063\n",
      "JTW_HOME_PCT                    -0.0054     0.0041    -1.3077     0.1910     -0.0134      0.0027\n",
      "YEARS_SINCE_TNC_BUS_4           -0.0367     0.0045    -8.0628     0.0000     -0.0456     -0.0277\n",
      "YEARS_SINCE_TNC_RAIL_4           0.0088     0.0069     1.2684     0.2047     -0.0048      0.0224\n",
      "BIKE_SHARE                       0.0266     0.0133     1.9960     0.0460      0.0005      0.0528\n",
      "scooter_flag                    -0.0405     0.0262    -1.5461     0.1222     -0.0918      0.0109\n",
      "================================================================================================\n",
      "\n",
      "F-test for Poolability: 95.415\n",
      "P-value: 0.0000\n",
      "Distribution: F(269,3889)\n",
      "\n",
      "Included effects: Entity\n"
     ]
    }
   ],
   "source": [
    "# TNC RAMP UP\n",
    "\n",
    "\n",
    "mod=PanelOLS.from_formula('UPT_ADJ_log \\\n",
    "                    ~ VRM_ADJ_BUS_log \\\n",
    "                    + VRM_ADJ_RAIL_log \\\n",
    "                    + FARE_per_UPT_2018_log \\\n",
    "                    + POP_EMP_log \\\n",
    "                    + GAS_PRICE_2018_log \\\n",
    "                    + TOTAL_MED_INC_INDIV_2018_log \\\n",
    "                    + PCT_HH_NO_VEH \\\n",
    "                    + TSD_POP_PCT \\\n",
    "                    + JTW_HOME_PCT \\\n",
    "                    + YEARS_SINCE_TNC_BUS_4 \\\n",
    "                    + YEARS_SINCE_TNC_RAIL_4 \\\n",
    "                    + BIKE_SHARE \\\n",
    "                    + scooter_flag \\\n",
    "                    + EntityEffects \\\n",
    "                    ',data=df)\n",
    "res=mod.fit()\n",
    "print(res)\n",
    "\n"
   ]
  },
  {
   "cell_type": "code",
   "execution_count": 54,
   "metadata": {
    "collapsed": false
   },
   "outputs": [
    {
     "name": "stderr",
     "output_type": "stream",
     "text": [
      "C:\\Program Files\\Anaconda3\\lib\\site-packages\\linearmodels\\panel\\data.py:39: FutureWarning: \n",
      "Passing list-likes to .loc or [] with any missing label will raise\n",
      "KeyError in the future, you can use .reindex() as an alternative.\n",
      "\n",
      "See the documentation here:\n",
      "https://pandas.pydata.org/pandas-docs/stable/indexing.html#deprecate-loc-reindex-listlike\n",
      "  new_df = df.copy().loc[self._full_index]\n",
      "C:\\Program Files\\Anaconda3\\lib\\site-packages\\linearmodels\\utility.py:476: MissingValueWarning: \n",
      "Inputs contain missing values. Dropping rows with missing observations.\n",
      "  warnings.warn(missing_value_warning_msg, MissingValueWarning)\n"
     ]
    },
    {
     "name": "stdout",
     "output_type": "stream",
     "text": [
      "                          PanelOLS Estimation Summary                           \n",
      "================================================================================\n",
      "Dep. Variable:            UPT_ADJ_log   R-squared:                        0.6837\n",
      "Estimator:                   PanelOLS   R-squared (Between):              0.9814\n",
      "No. Observations:                4172   R-squared (Within):               0.6837\n",
      "Date:                Tue, Dec 17 2019   R-squared (Overall):              0.9820\n",
      "Time:                        19:11:08   Log-likelihood                    1105.9\n",
      "Cov. Estimator:            Unadjusted                                           \n",
      "                                        F-statistic:                      646.53\n",
      "Entities:                         270   P-value                           0.0000\n",
      "Avg Obs:                       15.452   Distribution:                 F(13,3889)\n",
      "Min Obs:                       3.0000                                           \n",
      "Max Obs:                       17.000   F-statistic (robust):             646.53\n",
      "                                        P-value                           0.0000\n",
      "Time periods:                      17   Distribution:                 F(13,3889)\n",
      "Avg Obs:                       245.41                                           \n",
      "Min Obs:                       179.00                                           \n",
      "Max Obs:                       269.00                                           \n",
      "                                                                                \n",
      "                                      Parameter Estimates                                       \n",
      "================================================================================================\n",
      "                              Parameter  Std. Err.     T-stat    P-value    Lower CI    Upper CI\n",
      "------------------------------------------------------------------------------------------------\n",
      "VRM_ADJ_BUS_log                  0.9296     0.0140     66.378     0.0000      0.9021      0.9571\n",
      "VRM_ADJ_RAIL_log                 0.6276     0.0196     31.991     0.0000      0.5891      0.6660\n",
      "FARE_per_UPT_2018_log           -0.5836     0.0187    -31.208     0.0000     -0.6203     -0.5470\n",
      "POP_EMP_log                      0.2789     0.0589     4.7370     0.0000      0.1635      0.3944\n",
      "GAS_PRICE_2018_log               0.1983     0.0264     7.5004     0.0000      0.1465      0.2501\n",
      "TOTAL_MED_INC_INDIV_2018_log    -0.2450     0.0553    -4.4297     0.0000     -0.3535     -0.1366\n",
      "PCT_HH_NO_VEH                    0.0064     0.0031     2.0998     0.0358      0.0004      0.0124\n",
      "TSD_POP_PCT                      0.0032     0.0016     2.0461     0.0408      0.0001      0.0063\n",
      "JTW_HOME_PCT                    -0.0057     0.0041    -1.3907     0.1644     -0.0137      0.0023\n",
      "YEARS_SINCE_TNC_BUS_5           -0.0349     0.0044    -7.8901     0.0000     -0.0436     -0.0262\n",
      "YEARS_SINCE_TNC_RAIL_5           0.0092     0.0063     1.4572     0.1451     -0.0032      0.0217\n",
      "BIKE_SHARE                       0.0258     0.0133     1.9351     0.0531     -0.0003      0.0520\n",
      "scooter_flag                    -0.0358     0.0266    -1.3464     0.1783     -0.0879      0.0163\n",
      "================================================================================================\n",
      "\n",
      "F-test for Poolability: 95.418\n",
      "P-value: 0.0000\n",
      "Distribution: F(269,3889)\n",
      "\n",
      "Included effects: Entity\n"
     ]
    }
   ],
   "source": [
    "# TNC RAMP UP\n",
    "# this is about the same as years since TNC\n",
    "\n",
    "mod=PanelOLS.from_formula('UPT_ADJ_log \\\n",
    "                    ~ VRM_ADJ_BUS_log \\\n",
    "                    + VRM_ADJ_RAIL_log \\\n",
    "                    + FARE_per_UPT_2018_log \\\n",
    "                    + POP_EMP_log \\\n",
    "                    + GAS_PRICE_2018_log \\\n",
    "                    + TOTAL_MED_INC_INDIV_2018_log \\\n",
    "                    + PCT_HH_NO_VEH \\\n",
    "                    + TSD_POP_PCT \\\n",
    "                    + JTW_HOME_PCT \\\n",
    "                    + YEARS_SINCE_TNC_BUS_5 \\\n",
    "                    + YEARS_SINCE_TNC_RAIL_5 \\\n",
    "                    + BIKE_SHARE \\\n",
    "                    + scooter_flag \\\n",
    "                    + EntityEffects \\\n",
    "                    ',data=df)\n",
    "res=mod.fit()\n",
    "print(res)\n",
    "\n"
   ]
  },
  {
   "cell_type": "code",
   "execution_count": 55,
   "metadata": {
    "collapsed": false
   },
   "outputs": [
    {
     "name": "stderr",
     "output_type": "stream",
     "text": [
      "C:\\Program Files\\Anaconda3\\lib\\site-packages\\linearmodels\\panel\\data.py:39: FutureWarning: \n",
      "Passing list-likes to .loc or [] with any missing label will raise\n",
      "KeyError in the future, you can use .reindex() as an alternative.\n",
      "\n",
      "See the documentation here:\n",
      "https://pandas.pydata.org/pandas-docs/stable/indexing.html#deprecate-loc-reindex-listlike\n",
      "  new_df = df.copy().loc[self._full_index]\n",
      "C:\\Program Files\\Anaconda3\\lib\\site-packages\\linearmodels\\utility.py:476: MissingValueWarning: \n",
      "Inputs contain missing values. Dropping rows with missing observations.\n",
      "  warnings.warn(missing_value_warning_msg, MissingValueWarning)\n"
     ]
    },
    {
     "name": "stdout",
     "output_type": "stream",
     "text": [
      "                          PanelOLS Estimation Summary                           \n",
      "================================================================================\n",
      "Dep. Variable:            UPT_ADJ_log   R-squared:                        0.6825\n",
      "Estimator:                   PanelOLS   R-squared (Between):              0.9843\n",
      "No. Observations:                4172   R-squared (Within):               0.6825\n",
      "Date:                Tue, Dec 17 2019   R-squared (Overall):              0.9848\n",
      "Time:                        19:11:09   Log-likelihood                    1098.3\n",
      "Cov. Estimator:            Unadjusted                                           \n",
      "                                        F-statistic:                      643.06\n",
      "Entities:                         270   P-value                           0.0000\n",
      "Avg Obs:                       15.452   Distribution:                 F(13,3889)\n",
      "Min Obs:                       3.0000                                           \n",
      "Max Obs:                       17.000   F-statistic (robust):             643.06\n",
      "                                        P-value                           0.0000\n",
      "Time periods:                      17   Distribution:                 F(13,3889)\n",
      "Avg Obs:                       245.41                                           \n",
      "Min Obs:                       179.00                                           \n",
      "Max Obs:                       269.00                                           \n",
      "                                                                                \n",
      "                                      Parameter Estimates                                       \n",
      "================================================================================================\n",
      "                              Parameter  Std. Err.     T-stat    P-value    Lower CI    Upper CI\n",
      "------------------------------------------------------------------------------------------------\n",
      "VRM_ADJ_BUS_log                  0.9350     0.0141     66.501     0.0000      0.9074      0.9626\n",
      "VRM_ADJ_RAIL_log                 0.6362     0.0198     32.075     0.0000      0.5973      0.6750\n",
      "FARE_per_UPT_2018_log           -0.5810     0.0187    -31.012     0.0000     -0.6177     -0.5442\n",
      "POP_EMP_log                      0.3126     0.0603     5.1882     0.0000      0.1945      0.4308\n",
      "GAS_PRICE_2018_log               0.1686     0.0281     6.0101     0.0000      0.1136      0.2236\n",
      "TOTAL_MED_INC_INDIV_2018_log    -0.2598     0.0554    -4.6891     0.0000     -0.3684     -0.1512\n",
      "PCT_HH_NO_VEH                    0.0066     0.0031     2.1468     0.0319      0.0006      0.0126\n",
      "TSD_POP_PCT                      0.0031     0.0016     1.9892     0.0468   4.479e-05      0.0062\n",
      "JTW_HOME_PCT                    -0.0037     0.0042    -0.8731     0.3827     -0.0119      0.0046\n",
      "TNC_YEARS_AFTER_2012_BUS        -0.0192     0.0025    -7.6029     0.0000     -0.0242     -0.0143\n",
      "TNC_YEARS_AFTER_2012_RAIL        0.0019     0.0051     0.3786     0.7050     -0.0080      0.0118\n",
      "BIKE_SHARE                       0.0174     0.0129     1.3469     0.1781     -0.0079      0.0426\n",
      "scooter_flag                    -0.0515     0.0261    -1.9712     0.0488     -0.1028     -0.0003\n",
      "================================================================================================\n",
      "\n",
      "F-test for Poolability: 94.436\n",
      "P-value: 0.0000\n",
      "Distribution: F(269,3889)\n",
      "\n",
      "Included effects: Entity\n"
     ]
    }
   ],
   "source": [
    "# TNC years since 2012\n",
    "\n",
    "mod=PanelOLS.from_formula('UPT_ADJ_log \\\n",
    "                    ~ VRM_ADJ_BUS_log \\\n",
    "                    + VRM_ADJ_RAIL_log \\\n",
    "                    + FARE_per_UPT_2018_log \\\n",
    "                    + POP_EMP_log \\\n",
    "                    + GAS_PRICE_2018_log \\\n",
    "                    + TOTAL_MED_INC_INDIV_2018_log \\\n",
    "                    + PCT_HH_NO_VEH \\\n",
    "                    + TSD_POP_PCT \\\n",
    "                    + JTW_HOME_PCT \\\n",
    "                    + TNC_YEARS_AFTER_2012_BUS \\\n",
    "                    + TNC_YEARS_AFTER_2012_RAIL \\\n",
    "                    + BIKE_SHARE \\\n",
    "                    + scooter_flag \\\n",
    "                    + EntityEffects \\\n",
    "                    ',data=df)\n",
    "res=mod.fit()\n",
    "print(res)\n"
   ]
  },
  {
   "cell_type": "code",
   "execution_count": 56,
   "metadata": {
    "collapsed": false
   },
   "outputs": [
    {
     "name": "stderr",
     "output_type": "stream",
     "text": [
      "C:\\Program Files\\Anaconda3\\lib\\site-packages\\linearmodels\\panel\\data.py:39: FutureWarning: \n",
      "Passing list-likes to .loc or [] with any missing label will raise\n",
      "KeyError in the future, you can use .reindex() as an alternative.\n",
      "\n",
      "See the documentation here:\n",
      "https://pandas.pydata.org/pandas-docs/stable/indexing.html#deprecate-loc-reindex-listlike\n",
      "  new_df = df.copy().loc[self._full_index]\n",
      "C:\\Program Files\\Anaconda3\\lib\\site-packages\\linearmodels\\utility.py:476: MissingValueWarning: \n",
      "Inputs contain missing values. Dropping rows with missing observations.\n",
      "  warnings.warn(missing_value_warning_msg, MissingValueWarning)\n"
     ]
    },
    {
     "name": "stdout",
     "output_type": "stream",
     "text": [
      "                          PanelOLS Estimation Summary                           \n",
      "================================================================================\n",
      "Dep. Variable:            UPT_ADJ_log   R-squared:                        0.6846\n",
      "Estimator:                   PanelOLS   R-squared (Between):              0.9847\n",
      "No. Observations:                4172   R-squared (Within):               0.6846\n",
      "Date:                Tue, Dec 17 2019   R-squared (Overall):              0.9852\n",
      "Time:                        19:11:09   Log-likelihood                    1112.4\n",
      "Cov. Estimator:            Unadjusted                                           \n",
      "                                        F-statistic:                      562.57\n",
      "Entities:                         270   P-value                           0.0000\n",
      "Avg Obs:                       15.452   Distribution:                 F(15,3887)\n",
      "Min Obs:                       3.0000                                           \n",
      "Max Obs:                       17.000   F-statistic (robust):             562.57\n",
      "                                        P-value                           0.0000\n",
      "Time periods:                      17   Distribution:                 F(15,3887)\n",
      "Avg Obs:                       245.41                                           \n",
      "Min Obs:                       179.00                                           \n",
      "Max Obs:                       269.00                                           \n",
      "                                                                                \n",
      "                                      Parameter Estimates                                       \n",
      "================================================================================================\n",
      "                              Parameter  Std. Err.     T-stat    P-value    Lower CI    Upper CI\n",
      "------------------------------------------------------------------------------------------------\n",
      "VRM_ADJ_BUS_log                  0.9323     0.0140     66.412     0.0000      0.9047      0.9598\n",
      "VRM_ADJ_RAIL_log                 0.6357     0.0198     32.134     0.0000      0.5969      0.6745\n",
      "FARE_per_UPT_2018_log           -0.5835     0.0187    -31.233     0.0000     -0.6201     -0.5469\n",
      "POP_EMP_log                      0.3142     0.0601     5.2303     0.0000      0.1964      0.4320\n",
      "GAS_PRICE_2018_log               0.1696     0.0280     6.0623     0.0000      0.1147      0.2244\n",
      "TOTAL_MED_INC_INDIV_2018_log    -0.2533     0.0553    -4.5795     0.0000     -0.3617     -0.1448\n",
      "PCT_HH_NO_VEH                    0.0061     0.0031     2.0088     0.0446      0.0001      0.0121\n",
      "TSD_POP_PCT                      0.0032     0.0016     2.0422     0.0412      0.0001      0.0063\n",
      "JTW_HOME_PCT                    -0.0027     0.0042    -0.6360     0.5248     -0.0109      0.0056\n",
      "TNC_YEARS_AFTER_2012_BUS        -0.0095     0.0035    -2.7466     0.0060     -0.0163     -0.0027\n",
      "TNC_YEARS_AFTER_2012_RAIL       -0.0312     0.0108    -2.8946     0.0038     -0.0524     -0.0101\n",
      "YEARS_SINCE_TNC_BUS             -0.0231     0.0059    -3.8949     0.0001     -0.0347     -0.0115\n",
      "YEARS_SINCE_TNC_RAIL             0.0386     0.0124     3.1111     0.0019      0.0143      0.0630\n",
      "BIKE_SHARE                       0.0294     0.0134     2.2015     0.0278      0.0032      0.0556\n",
      "scooter_flag                    -0.0362     0.0271    -1.3336     0.1824     -0.0893      0.0170\n",
      "================================================================================================\n",
      "\n",
      "F-test for Poolability: 94.838\n",
      "P-value: 0.0000\n",
      "Distribution: F(269,3887)\n",
      "\n",
      "Included effects: Entity\n"
     ]
    }
   ],
   "source": [
    "# BOTH\n",
    "\n",
    "mod=PanelOLS.from_formula('UPT_ADJ_log \\\n",
    "                    ~ VRM_ADJ_BUS_log \\\n",
    "                    + VRM_ADJ_RAIL_log \\\n",
    "                    + FARE_per_UPT_2018_log \\\n",
    "                    + POP_EMP_log \\\n",
    "                    + GAS_PRICE_2018_log \\\n",
    "                    + TOTAL_MED_INC_INDIV_2018_log \\\n",
    "                    + PCT_HH_NO_VEH \\\n",
    "                    + TSD_POP_PCT \\\n",
    "                    + JTW_HOME_PCT \\\n",
    "                    + TNC_YEARS_AFTER_2012_BUS \\\n",
    "                    + TNC_YEARS_AFTER_2012_RAIL \\\n",
    "                    + YEARS_SINCE_TNC_BUS \\\n",
    "                    + YEARS_SINCE_TNC_RAIL \\\n",
    "                    + BIKE_SHARE \\\n",
    "                    + scooter_flag \\\n",
    "                    + EntityEffects \\\n",
    "                    ',data=df)\n",
    "res=mod.fit()\n",
    "print(res)\n"
   ]
  },
  {
   "cell_type": "code",
   "execution_count": null,
   "metadata": {
    "collapsed": true
   },
   "outputs": [],
   "source": []
  },
  {
   "cell_type": "code",
   "execution_count": 57,
   "metadata": {
    "collapsed": false
   },
   "outputs": [
    {
     "name": "stderr",
     "output_type": "stream",
     "text": [
      "C:\\Program Files\\Anaconda3\\lib\\site-packages\\linearmodels\\panel\\data.py:39: FutureWarning: \n",
      "Passing list-likes to .loc or [] with any missing label will raise\n",
      "KeyError in the future, you can use .reindex() as an alternative.\n",
      "\n",
      "See the documentation here:\n",
      "https://pandas.pydata.org/pandas-docs/stable/indexing.html#deprecate-loc-reindex-listlike\n",
      "  new_df = df.copy().loc[self._full_index]\n",
      "C:\\Program Files\\Anaconda3\\lib\\site-packages\\linearmodels\\utility.py:476: MissingValueWarning: \n",
      "Inputs contain missing values. Dropping rows with missing observations.\n",
      "  warnings.warn(missing_value_warning_msg, MissingValueWarning)\n"
     ]
    },
    {
     "name": "stdout",
     "output_type": "stream",
     "text": [
      "                          PanelOLS Estimation Summary                           \n",
      "================================================================================\n",
      "Dep. Variable:            UPT_ADJ_log   R-squared:                        0.6833\n",
      "Estimator:                   PanelOLS   R-squared (Between):              0.9819\n",
      "No. Observations:                4172   R-squared (Within):               0.6833\n",
      "Date:                Tue, Dec 17 2019   R-squared (Overall):              0.9825\n",
      "Time:                        19:11:12   Log-likelihood                    1103.5\n",
      "Cov. Estimator:            Unadjusted                                           \n",
      "                                        F-statistic:                      645.42\n",
      "Entities:                         270   P-value                           0.0000\n",
      "Avg Obs:                       15.452   Distribution:                 F(13,3889)\n",
      "Min Obs:                       3.0000                                           \n",
      "Max Obs:                       17.000   F-statistic (robust):             645.42\n",
      "                                        P-value                           0.0000\n",
      "Time periods:                      17   Distribution:                 F(13,3889)\n",
      "Avg Obs:                       245.41                                           \n",
      "Min Obs:                       179.00                                           \n",
      "Max Obs:                       269.00                                           \n",
      "                                                                                \n",
      "                                      Parameter Estimates                                       \n",
      "================================================================================================\n",
      "                              Parameter  Std. Err.     T-stat    P-value    Lower CI    Upper CI\n",
      "------------------------------------------------------------------------------------------------\n",
      "VRM_ADJ_BUS_log                  0.9313     0.0140     66.441     0.0000      0.9038      0.9588\n",
      "VRM_ADJ_RAIL_log                 0.6259     0.0198     31.645     0.0000      0.5871      0.6647\n",
      "FARE_per_UPT_2018_log           -0.5827     0.0187    -31.139     0.0000     -0.6194     -0.5460\n",
      "POP_EMP_log                      0.2970     0.0596     4.9863     0.0000      0.1802      0.4138\n",
      "GAS_PRICE_2018_log               0.1845     0.0272     6.7854     0.0000      0.1312      0.2379\n",
      "TOTAL_MED_INC_INDIV_2018_log    -0.2598     0.0553    -4.6957     0.0000     -0.3683     -0.1513\n",
      "PCT_HH_NO_VEH                    0.0066     0.0031     2.1408     0.0324      0.0006      0.0126\n",
      "TSD_POP_PCT                      0.0029     0.0016     1.8710     0.0614     -0.0001      0.0060\n",
      "JTW_HOME_PCT                    -0.0054     0.0041    -1.3137     0.1890     -0.0135      0.0027\n",
      "YEARS_SINCE_TNC_BUS2            -0.0264     0.0035    -7.5652     0.0000     -0.0332     -0.0196\n",
      "YEARS_SINCE_TNC_RAIL2            0.0065     0.0050     1.3131     0.1892     -0.0032      0.0162\n",
      "BIKE_SHARE                       0.0245     0.0134     1.8289     0.0675     -0.0018      0.0508\n",
      "scooter_flag                    -0.0392     0.0267    -1.4722     0.1411     -0.0915      0.0130\n",
      "================================================================================================\n",
      "\n",
      "F-test for Poolability: 95.189\n",
      "P-value: 0.0000\n",
      "Distribution: F(269,3889)\n",
      "\n",
      "Included effects: Entity\n"
     ]
    }
   ],
   "source": [
    "# count the first year of TNC presence\n",
    "df['YEARS_SINCE_TNC_BUS2'] = df['YEARS_SINCE_TNC_BUS'] + df['TNC_FLAG_BUS']\n",
    "df['YEARS_SINCE_TNC_RAIL2'] = df['YEARS_SINCE_TNC_RAIL'] + df['TNC_FLAG_RAIL']\n",
    "\n",
    "\n",
    "mod=PanelOLS.from_formula('UPT_ADJ_log \\\n",
    "                    ~ VRM_ADJ_BUS_log \\\n",
    "                    + VRM_ADJ_RAIL_log \\\n",
    "                    + FARE_per_UPT_2018_log \\\n",
    "                    + POP_EMP_log \\\n",
    "                    + GAS_PRICE_2018_log \\\n",
    "                    + TOTAL_MED_INC_INDIV_2018_log \\\n",
    "                    + PCT_HH_NO_VEH \\\n",
    "                    + TSD_POP_PCT \\\n",
    "                    + JTW_HOME_PCT \\\n",
    "                    + YEARS_SINCE_TNC_BUS2 \\\n",
    "                    + YEARS_SINCE_TNC_RAIL2 \\\n",
    "                    + BIKE_SHARE \\\n",
    "                    + scooter_flag \\\n",
    "                    + EntityEffects \\\n",
    "                    ',data=df)\n",
    "res=mod.fit()\n",
    "print(res)"
   ]
  },
  {
   "cell_type": "code",
   "execution_count": 58,
   "metadata": {
    "collapsed": false
   },
   "outputs": [
    {
     "name": "stderr",
     "output_type": "stream",
     "text": [
      "C:\\Program Files\\Anaconda3\\lib\\site-packages\\linearmodels\\panel\\data.py:39: FutureWarning: \n",
      "Passing list-likes to .loc or [] with any missing label will raise\n",
      "KeyError in the future, you can use .reindex() as an alternative.\n",
      "\n",
      "See the documentation here:\n",
      "https://pandas.pydata.org/pandas-docs/stable/indexing.html#deprecate-loc-reindex-listlike\n",
      "  new_df = df.copy().loc[self._full_index]\n",
      "C:\\Program Files\\Anaconda3\\lib\\site-packages\\linearmodels\\utility.py:476: MissingValueWarning: \n",
      "Inputs contain missing values. Dropping rows with missing observations.\n",
      "  warnings.warn(missing_value_warning_msg, MissingValueWarning)\n"
     ]
    },
    {
     "name": "stdout",
     "output_type": "stream",
     "text": [
      "                          PanelOLS Estimation Summary                           \n",
      "================================================================================\n",
      "Dep. Variable:            UPT_ADJ_log   R-squared:                        0.6836\n",
      "Estimator:                   PanelOLS   R-squared (Between):              0.9806\n",
      "No. Observations:                4172   R-squared (Within):               0.6836\n",
      "Date:                Tue, Dec 17 2019   R-squared (Overall):              0.9812\n",
      "Time:                        19:11:13   Log-likelihood                    1105.4\n",
      "Cov. Estimator:            Unadjusted                                           \n",
      "                                        F-statistic:                      599.97\n",
      "Entities:                         270   P-value                           0.0000\n",
      "Avg Obs:                       15.452   Distribution:                 F(14,3888)\n",
      "Min Obs:                       3.0000                                           \n",
      "Max Obs:                       17.000   F-statistic (robust):             599.97\n",
      "                                        P-value                           0.0000\n",
      "Time periods:                      17   Distribution:                 F(14,3888)\n",
      "Avg Obs:                       245.41                                           \n",
      "Min Obs:                       179.00                                           \n",
      "Max Obs:                       269.00                                           \n",
      "                                                                                \n",
      "                                      Parameter Estimates                                       \n",
      "================================================================================================\n",
      "                              Parameter  Std. Err.     T-stat    P-value    Lower CI    Upper CI\n",
      "------------------------------------------------------------------------------------------------\n",
      "VRM_ADJ_BUS_log                  0.9294     0.0140     66.347     0.0000      0.9019      0.9568\n",
      "VRM_ADJ_RAIL_log                 0.6263     0.0196     31.967     0.0000      0.5879      0.6647\n",
      "FARE_per_UPT_2018_log           -0.5832     0.0187    -31.173     0.0000     -0.6199     -0.5465\n",
      "POP_EMP_log                      0.2729     0.0588     4.6413     0.0000      0.1576      0.3882\n",
      "GAS_PRICE_2018_log               0.2012     0.0263     7.6389     0.0000      0.1496      0.2529\n",
      "TOTAL_MED_INC_INDIV_2018_log    -0.2441     0.0553    -4.4109     0.0000     -0.3526     -0.1356\n",
      "PCT_HH_NO_VEH                    0.0065     0.0031     2.1220     0.0339      0.0005      0.0125\n",
      "TSD_POP_PCT                      0.0031     0.0016     1.9991     0.0457   6.044e-05      0.0062\n",
      "JTW_HOME_PCT                    -0.0061     0.0041    -1.4919     0.1358     -0.0141      0.0019\n",
      "YEARS_SINCE_TNC_BUS             -0.0329     0.0043    -7.6464     0.0000     -0.0413     -0.0244\n",
      "YEARS_SINCE_TNC_RAIL             0.0108     0.0060     1.7944     0.0728     -0.0010      0.0225\n",
      "BIKE_SHARE                       0.0239     0.0133     1.7918     0.0732     -0.0022      0.0500\n",
      "scooter_flag                    -0.0319     0.0271    -1.1749     0.2401     -0.0850      0.0213\n",
      "MAINTENANCE                     -0.1221     0.0903    -1.3530     0.1761     -0.2991      0.0548\n",
      "================================================================================================\n",
      "\n",
      "F-test for Poolability: 95.351\n",
      "P-value: 0.0000\n",
      "Distribution: F(269,3888)\n",
      "\n",
      "Included effects: Entity\n"
     ]
    }
   ],
   "source": [
    "# MAINTENANCE\n",
    "\n",
    "mod=PanelOLS.from_formula('UPT_ADJ_log \\\n",
    "                    ~ VRM_ADJ_BUS_log \\\n",
    "                    + VRM_ADJ_RAIL_log \\\n",
    "                    + FARE_per_UPT_2018_log \\\n",
    "                    + POP_EMP_log \\\n",
    "                    + GAS_PRICE_2018_log \\\n",
    "                    + TOTAL_MED_INC_INDIV_2018_log \\\n",
    "                    + PCT_HH_NO_VEH \\\n",
    "                    + TSD_POP_PCT \\\n",
    "                    + JTW_HOME_PCT \\\n",
    "                    + YEARS_SINCE_TNC_BUS \\\n",
    "                    + YEARS_SINCE_TNC_RAIL \\\n",
    "                    + BIKE_SHARE \\\n",
    "                    + scooter_flag \\\n",
    "                    + MAINTENANCE \\\n",
    "                    + EntityEffects \\\n",
    "                    ',data=df)\n",
    "res=mod.fit()\n",
    "print(res)"
   ]
  },
  {
   "cell_type": "code",
   "execution_count": null,
   "metadata": {
    "collapsed": true
   },
   "outputs": [],
   "source": []
  },
  {
   "cell_type": "markdown",
   "metadata": {},
   "source": [
    "## model without new york\n",
    "\n"
   ]
  },
  {
   "cell_type": "code",
   "execution_count": 59,
   "metadata": {
    "collapsed": false
   },
   "outputs": [
    {
     "name": "stderr",
     "output_type": "stream",
     "text": [
      "C:\\Program Files\\Anaconda3\\lib\\site-packages\\linearmodels\\panel\\data.py:39: FutureWarning: \n",
      "Passing list-likes to .loc or [] with any missing label will raise\n",
      "KeyError in the future, you can use .reindex() as an alternative.\n",
      "\n",
      "See the documentation here:\n",
      "https://pandas.pydata.org/pandas-docs/stable/indexing.html#deprecate-loc-reindex-listlike\n",
      "  new_df = df.copy().loc[self._full_index]\n",
      "C:\\Program Files\\Anaconda3\\lib\\site-packages\\linearmodels\\utility.py:476: MissingValueWarning: \n",
      "Inputs contain missing values. Dropping rows with missing observations.\n",
      "  warnings.warn(missing_value_warning_msg, MissingValueWarning)\n"
     ]
    },
    {
     "name": "stdout",
     "output_type": "stream",
     "text": [
      "                          PanelOLS Estimation Summary                           \n",
      "================================================================================\n",
      "Dep. Variable:            UPT_ADJ_log   R-squared:                        0.6834\n",
      "Estimator:                   PanelOLS   R-squared (Between):              0.9808\n",
      "No. Observations:                4172   R-squared (Within):               0.6834\n",
      "Date:                Tue, Dec 17 2019   R-squared (Overall):              0.9815\n",
      "Time:                        19:11:14   Log-likelihood                    1104.4\n",
      "Cov. Estimator:            Unadjusted                                           \n",
      "                                        F-statistic:                      645.84\n",
      "Entities:                         270   P-value                           0.0000\n",
      "Avg Obs:                       15.452   Distribution:                 F(13,3889)\n",
      "Min Obs:                       3.0000                                           \n",
      "Max Obs:                       17.000   F-statistic (robust):             645.84\n",
      "                                        P-value                           0.0000\n",
      "Time periods:                      17   Distribution:                 F(13,3889)\n",
      "Avg Obs:                       245.41                                           \n",
      "Min Obs:                       179.00                                           \n",
      "Max Obs:                       269.00                                           \n",
      "                                                                                \n",
      "                                      Parameter Estimates                                       \n",
      "================================================================================================\n",
      "                              Parameter  Std. Err.     T-stat    P-value    Lower CI    Upper CI\n",
      "------------------------------------------------------------------------------------------------\n",
      "VRM_ADJ_BUS_log                  0.9294     0.0140     66.339     0.0000      0.9019      0.9568\n",
      "VRM_ADJ_RAIL_log                 0.6280     0.0196     32.117     0.0000      0.5897      0.6663\n",
      "FARE_per_UPT_2018_log           -0.5836     0.0187    -31.196     0.0000     -0.6203     -0.5470\n",
      "POP_EMP_log                      0.2733     0.0588     4.6472     0.0000      0.1580      0.3886\n",
      "GAS_PRICE_2018_log               0.2015     0.0263     7.6490     0.0000      0.1499      0.2532\n",
      "TOTAL_MED_INC_INDIV_2018_log    -0.2441     0.0553    -4.4104     0.0000     -0.3526     -0.1356\n",
      "PCT_HH_NO_VEH                    0.0065     0.0031     2.1237     0.0338      0.0005      0.0125\n",
      "TSD_POP_PCT                      0.0032     0.0016     2.0377     0.0416      0.0001      0.0063\n",
      "JTW_HOME_PCT                    -0.0061     0.0041    -1.4916     0.1359     -0.0141      0.0019\n",
      "YEARS_SINCE_TNC_BUS             -0.0330     0.0043    -7.6696     0.0000     -0.0414     -0.0245\n",
      "YEARS_SINCE_TNC_RAIL             0.0090     0.0059     1.5388     0.1239     -0.0025      0.0205\n",
      "BIKE_SHARE                       0.0246     0.0133     1.8500     0.0644     -0.0015      0.0507\n",
      "scooter_flag                    -0.0319     0.0271    -1.1759     0.2397     -0.0851      0.0213\n",
      "================================================================================================\n",
      "\n",
      "F-test for Poolability: 95.327\n",
      "P-value: 0.0000\n",
      "Distribution: F(269,3889)\n",
      "\n",
      "Included effects: Entity\n"
     ]
    }
   ],
   "source": [
    "# base model\n",
    "\n",
    "mod=PanelOLS.from_formula('UPT_ADJ_log \\\n",
    "                    ~ VRM_ADJ_BUS_log \\\n",
    "                    + VRM_ADJ_RAIL_log \\\n",
    "                    + FARE_per_UPT_2018_log \\\n",
    "                    + POP_EMP_log \\\n",
    "                    + GAS_PRICE_2018_log \\\n",
    "                    + TOTAL_MED_INC_INDIV_2018_log \\\n",
    "                    + PCT_HH_NO_VEH \\\n",
    "                    + TSD_POP_PCT \\\n",
    "                    + JTW_HOME_PCT \\\n",
    "                    + YEARS_SINCE_TNC_BUS \\\n",
    "                    + YEARS_SINCE_TNC_RAIL \\\n",
    "                    + BIKE_SHARE \\\n",
    "                    + scooter_flag \\\n",
    "                    + EntityEffects \\\n",
    "                    ',data=df)\n",
    "res=mod.fit()\n",
    "print(res)"
   ]
  },
  {
   "cell_type": "code",
   "execution_count": 60,
   "metadata": {
    "collapsed": false
   },
   "outputs": [
    {
     "name": "stderr",
     "output_type": "stream",
     "text": [
      "C:\\Program Files\\Anaconda3\\lib\\site-packages\\linearmodels\\panel\\data.py:39: FutureWarning: \n",
      "Passing list-likes to .loc or [] with any missing label will raise\n",
      "KeyError in the future, you can use .reindex() as an alternative.\n",
      "\n",
      "See the documentation here:\n",
      "https://pandas.pydata.org/pandas-docs/stable/indexing.html#deprecate-loc-reindex-listlike\n",
      "  new_df = df.copy().loc[self._full_index]\n",
      "C:\\Program Files\\Anaconda3\\lib\\site-packages\\linearmodels\\utility.py:476: MissingValueWarning: \n",
      "Inputs contain missing values. Dropping rows with missing observations.\n",
      "  warnings.warn(missing_value_warning_msg, MissingValueWarning)\n"
     ]
    },
    {
     "name": "stdout",
     "output_type": "stream",
     "text": [
      "                          PanelOLS Estimation Summary                           \n",
      "================================================================================\n",
      "Dep. Variable:            UPT_ADJ_log   R-squared:                        0.6837\n",
      "Estimator:                   PanelOLS   R-squared (Between):              0.9824\n",
      "No. Observations:                4138   R-squared (Within):               0.6837\n",
      "Date:                Tue, Dec 17 2019   R-squared (Overall):              0.9830\n",
      "Time:                        19:11:14   Log-likelihood                    1082.1\n",
      "Cov. Estimator:            Unadjusted                                           \n",
      "                                        F-statistic:                      641.41\n",
      "Entities:                         268   P-value                           0.0000\n",
      "Avg Obs:                       15.440   Distribution:                 F(13,3857)\n",
      "Min Obs:                       3.0000                                           \n",
      "Max Obs:                       17.000   F-statistic (robust):             641.41\n",
      "                                        P-value                           0.0000\n",
      "Time periods:                      17   Distribution:                 F(13,3857)\n",
      "Avg Obs:                       243.41                                           \n",
      "Min Obs:                       177.00                                           \n",
      "Max Obs:                       267.00                                           \n",
      "                                                                                \n",
      "                                      Parameter Estimates                                       \n",
      "================================================================================================\n",
      "                              Parameter  Std. Err.     T-stat    P-value    Lower CI    Upper CI\n",
      "------------------------------------------------------------------------------------------------\n",
      "VRM_ADJ_BUS_log                  0.9294     0.0141     66.109     0.0000      0.9018      0.9570\n",
      "VRM_ADJ_RAIL_log                 0.6301     0.0197     32.002     0.0000      0.5915      0.6687\n",
      "FARE_per_UPT_2018_log           -0.5848     0.0188    -31.109     0.0000     -0.6216     -0.5479\n",
      "POP_EMP_log                      0.2781     0.0592     4.6937     0.0000      0.1619      0.3943\n",
      "GAS_PRICE_2018_log               0.2013     0.0265     7.5990     0.0000      0.1494      0.2533\n",
      "TOTAL_MED_INC_INDIV_2018_log    -0.2405     0.0556    -4.3259     0.0000     -0.3496     -0.1315\n",
      "PCT_HH_NO_VEH                    0.0066     0.0031     2.1473     0.0318      0.0006      0.0126\n",
      "TSD_POP_PCT                      0.0033     0.0016     2.0867     0.0370      0.0002      0.0064\n",
      "JTW_HOME_PCT                    -0.0058     0.0041    -1.4099     0.1586     -0.0139      0.0023\n",
      "YEARS_SINCE_TNC_BUS             -0.0333     0.0043    -7.6739     0.0000     -0.0419     -0.0248\n",
      "YEARS_SINCE_TNC_RAIL             0.0072     0.0060     1.1900     0.2341     -0.0046      0.0190\n",
      "BIKE_SHARE                       0.0245     0.0134     1.8235     0.0683     -0.0018      0.0508\n",
      "scooter_flag                    -0.0328     0.0275    -1.1906     0.2339     -0.0868      0.0212\n",
      "================================================================================================\n",
      "\n",
      "F-test for Poolability: 92.175\n",
      "P-value: 0.0000\n",
      "Distribution: F(267,3857)\n",
      "\n",
      "Included effects: Entity\n"
     ]
    }
   ],
   "source": [
    "# excluding NY\n",
    "\n",
    "df2 = df[df['NEW_YORK']==0]\n",
    "\n",
    "mod=PanelOLS.from_formula('UPT_ADJ_log \\\n",
    "                    ~ VRM_ADJ_BUS_log \\\n",
    "                    + VRM_ADJ_RAIL_log \\\n",
    "                    + FARE_per_UPT_2018_log \\\n",
    "                    + POP_EMP_log \\\n",
    "                    + GAS_PRICE_2018_log \\\n",
    "                    + TOTAL_MED_INC_INDIV_2018_log \\\n",
    "                    + PCT_HH_NO_VEH \\\n",
    "                    + TSD_POP_PCT \\\n",
    "                    + JTW_HOME_PCT \\\n",
    "                    + YEARS_SINCE_TNC_BUS \\\n",
    "                    + YEARS_SINCE_TNC_RAIL \\\n",
    "                    + BIKE_SHARE \\\n",
    "                    + scooter_flag \\\n",
    "                    + EntityEffects \\\n",
    "                    ',data=df2)\n",
    "res=mod.fit()\n",
    "print(res)"
   ]
  },
  {
   "cell_type": "code",
   "execution_count": 61,
   "metadata": {
    "collapsed": false
   },
   "outputs": [
    {
     "name": "stderr",
     "output_type": "stream",
     "text": [
      "C:\\Program Files\\Anaconda3\\lib\\site-packages\\linearmodels\\panel\\data.py:39: FutureWarning: \n",
      "Passing list-likes to .loc or [] with any missing label will raise\n",
      "KeyError in the future, you can use .reindex() as an alternative.\n",
      "\n",
      "See the documentation here:\n",
      "https://pandas.pydata.org/pandas-docs/stable/indexing.html#deprecate-loc-reindex-listlike\n",
      "  new_df = df.copy().loc[self._full_index]\n",
      "C:\\Program Files\\Anaconda3\\lib\\site-packages\\linearmodels\\utility.py:476: MissingValueWarning: \n",
      "Inputs contain missing values. Dropping rows with missing observations.\n",
      "  warnings.warn(missing_value_warning_msg, MissingValueWarning)\n"
     ]
    },
    {
     "name": "stdout",
     "output_type": "stream",
     "text": [
      "                          PanelOLS Estimation Summary                           \n",
      "================================================================================\n",
      "Dep. Variable:            UPT_ADJ_log   R-squared:                        0.6840\n",
      "Estimator:                   PanelOLS   R-squared (Between):              0.9826\n",
      "No. Observations:                4138   R-squared (Within):               0.6840\n",
      "Date:                Tue, Dec 17 2019   R-squared (Overall):              0.9832\n",
      "Time:                        19:11:15   Log-likelihood                    1084.1\n",
      "Cov. Estimator:            Unadjusted                                           \n",
      "                                        F-statistic:                      556.36\n",
      "Entities:                         268   P-value                           0.0000\n",
      "Avg Obs:                       15.440   Distribution:                 F(15,3855)\n",
      "Min Obs:                       3.0000                                           \n",
      "Max Obs:                       17.000   F-statistic (robust):             556.36\n",
      "                                        P-value                           0.0000\n",
      "Time periods:                      17   Distribution:                 F(15,3855)\n",
      "Avg Obs:                       243.41                                           \n",
      "Min Obs:                       177.00                                           \n",
      "Max Obs:                       267.00                                           \n",
      "                                                                                \n",
      "                                      Parameter Estimates                                       \n",
      "================================================================================================\n",
      "                              Parameter  Std. Err.     T-stat    P-value    Lower CI    Upper CI\n",
      "------------------------------------------------------------------------------------------------\n",
      "VRM_ADJ_BUS_log                  0.9296     0.0141     66.126     0.0000      0.9020      0.9571\n",
      "VRM_ADJ_RAIL_log                 0.6279     0.0199     31.514     0.0000      0.5888      0.6669\n",
      "FARE_per_UPT_2018_log           -0.5856     0.0188    -31.137     0.0000     -0.6224     -0.5487\n",
      "POP_EMP_log                      0.2801     0.0592     4.7273     0.0000      0.1639      0.3962\n",
      "GAS_PRICE_2018_log               0.2012     0.0265     7.5943     0.0000      0.1492      0.2531\n",
      "TOTAL_MED_INC_INDIV_2018_log    -0.2384     0.0556    -4.2869     0.0000     -0.3474     -0.1294\n",
      "PCT_HH_NO_VEH                    0.0067     0.0031     2.1689     0.0301      0.0006      0.0127\n",
      "TSD_POP_PCT                      0.0033     0.0016     2.0874     0.0369      0.0002      0.0064\n",
      "JTW_HOME_PCT                    -0.0058     0.0041    -1.4048     0.1601     -0.0138      0.0023\n",
      "YEARS_SINCE_TNC_BUS             -0.0339     0.0045    -7.5251     0.0000     -0.0428     -0.0251\n",
      "YEARS_SINCE_TNC_RAIL             0.0092     0.0078     1.1880     0.2349     -0.0060      0.0245\n",
      "BIKE_SHARE_BUS                   0.0198     0.0150     1.3166     0.1880     -0.0097      0.0492\n",
      "BIKE_SHARE_RAIL                  0.0369     0.0292     1.2653     0.2058     -0.0203      0.0942\n",
      "scooter_flag_BUS                 0.0001     0.0329     0.0039     0.9969     -0.0643      0.0646\n",
      "scooter_flag_RAIL               -0.1059     0.0499    -2.1229     0.0338     -0.2036     -0.0081\n",
      "================================================================================================\n",
      "\n",
      "F-test for Poolability: 91.854\n",
      "P-value: 0.0000\n",
      "Distribution: F(267,3855)\n",
      "\n",
      "Included effects: Entity\n"
     ]
    }
   ],
   "source": [
    "# excluding NY\n",
    "\n",
    "df2 = df[df['NEW_YORK']==0]\n",
    "\n",
    "mod=PanelOLS.from_formula('UPT_ADJ_log \\\n",
    "                    ~ VRM_ADJ_BUS_log \\\n",
    "                    + VRM_ADJ_RAIL_log \\\n",
    "                    + FARE_per_UPT_2018_log \\\n",
    "                    + POP_EMP_log \\\n",
    "                    + GAS_PRICE_2018_log \\\n",
    "                    + TOTAL_MED_INC_INDIV_2018_log \\\n",
    "                    + PCT_HH_NO_VEH \\\n",
    "                    + TSD_POP_PCT \\\n",
    "                    + JTW_HOME_PCT \\\n",
    "                    + YEARS_SINCE_TNC_BUS \\\n",
    "                    + YEARS_SINCE_TNC_RAIL \\\n",
    "                    + BIKE_SHARE_BUS \\\n",
    "                    + BIKE_SHARE_RAIL \\\n",
    "                    + scooter_flag_BUS \\\n",
    "                    + scooter_flag_RAIL \\\n",
    "                    + EntityEffects \\\n",
    "                    ',data=df2)\n",
    "res=mod.fit()\n",
    "print(res)"
   ]
  },
  {
   "cell_type": "code",
   "execution_count": null,
   "metadata": {
    "collapsed": true
   },
   "outputs": [],
   "source": []
  },
  {
   "cell_type": "markdown",
   "metadata": {},
   "source": [
    "## Segmentation"
   ]
  },
  {
   "cell_type": "code",
   "execution_count": 62,
   "metadata": {
    "collapsed": false
   },
   "outputs": [
    {
     "name": "stderr",
     "output_type": "stream",
     "text": [
      "C:\\Program Files\\Anaconda3\\lib\\site-packages\\linearmodels\\panel\\data.py:39: FutureWarning: \n",
      "Passing list-likes to .loc or [] with any missing label will raise\n",
      "KeyError in the future, you can use .reindex() as an alternative.\n",
      "\n",
      "See the documentation here:\n",
      "https://pandas.pydata.org/pandas-docs/stable/indexing.html#deprecate-loc-reindex-listlike\n",
      "  new_df = df.copy().loc[self._full_index]\n",
      "C:\\Program Files\\Anaconda3\\lib\\site-packages\\linearmodels\\utility.py:476: MissingValueWarning: \n",
      "Inputs contain missing values. Dropping rows with missing observations.\n",
      "  warnings.warn(missing_value_warning_msg, MissingValueWarning)\n"
     ]
    },
    {
     "name": "stdout",
     "output_type": "stream",
     "text": [
      "                          PanelOLS Estimation Summary                           \n",
      "================================================================================\n",
      "Dep. Variable:            UPT_ADJ_log   R-squared:                        0.6849\n",
      "Estimator:                   PanelOLS   R-squared (Between):              0.9836\n",
      "No. Observations:                4172   R-squared (Within):               0.6849\n",
      "Date:                Tue, Dec 17 2019   R-squared (Overall):              0.9841\n",
      "Time:                        19:11:16   Log-likelihood                    1114.2\n",
      "Cov. Estimator:            Unadjusted                                           \n",
      "                                        F-statistic:                      469.05\n",
      "Entities:                         270   P-value                           0.0000\n",
      "Avg Obs:                       15.452   Distribution:                 F(18,3884)\n",
      "Min Obs:                       3.0000                                           \n",
      "Max Obs:                       17.000   F-statistic (robust):             469.05\n",
      "                                        P-value                           0.0000\n",
      "Time periods:                      17   Distribution:                 F(18,3884)\n",
      "Avg Obs:                       245.41                                           \n",
      "Min Obs:                       179.00                                           \n",
      "Max Obs:                       269.00                                           \n",
      "                                                                                \n",
      "                                      Parameter Estimates                                       \n",
      "================================================================================================\n",
      "                              Parameter  Std. Err.     T-stat    P-value    Lower CI    Upper CI\n",
      "------------------------------------------------------------------------------------------------\n",
      "VRM_ADJ_BUS_log                  0.9319     0.0140     66.498     0.0000      0.9044      0.9594\n",
      "VRM_ADJ_RAIL_log                 0.6275     0.0196     31.987     0.0000      0.5891      0.6660\n",
      "FARE_per_UPT_2018_log           -0.5855     0.0187    -31.318     0.0000     -0.6221     -0.5488\n",
      "POP_EMP_log                      0.2963     0.0592     5.0085     0.0000      0.1803      0.4123\n",
      "GAS_PRICE_2018_log               0.1958     0.0264     7.4206     0.0000      0.1441      0.2476\n",
      "TOTAL_MED_INC_INDIV_2018_log    -0.2415     0.0553    -4.3653     0.0000     -0.3499     -0.1330\n",
      "PCT_HH_NO_VEH                    0.0066     0.0031     2.1458     0.0320      0.0006      0.0126\n",
      "TSD_POP_PCT                      0.0039     0.0016     2.4917     0.0128      0.0008      0.0070\n",
      "JTW_HOME_PCT                    -0.0050     0.0041    -1.2314     0.2183     -0.0131      0.0030\n",
      "YEARS_SINCE_TNC_BUS_NY          -0.0190     0.0201    -0.9478     0.3433     -0.0584      0.0203\n",
      "YEARS_SINCE_TNC_BUS_HI          -0.0154     0.0065    -2.3889     0.0169     -0.0281     -0.0028\n",
      "YEARS_SINCE_TNC_BUS_MID         -0.0349     0.0063    -5.5633     0.0000     -0.0472     -0.0226\n",
      "YEARS_SINCE_TNC_BUS_LOW         -0.0413     0.0055    -7.5533     0.0000     -0.0521     -0.0306\n",
      "YEARS_SINCE_TNC_RAIL_NY          0.0391     0.0201     1.9470     0.0516     -0.0003      0.0785\n",
      "YEARS_SINCE_TNC_RAIL_HI          0.0151     0.0067     2.2682     0.0234      0.0020      0.0281\n",
      "YEARS_SINCE_TNC_RAIL_MID         0.0052     0.0102     0.5086     0.6111     -0.0148      0.0252\n",
      "BIKE_SHARE                       0.0175     0.0133     1.3146     0.1887     -0.0086      0.0437\n",
      "scooter_flag                    -0.0506     0.0274    -1.8493     0.0645     -0.1043      0.0030\n",
      "================================================================================================\n",
      "\n",
      "F-test for Poolability: 94.290\n",
      "P-value: 0.0000\n",
      "Distribution: F(269,3884)\n",
      "\n",
      "Included effects: Entity\n"
     ]
    }
   ],
   "source": [
    "# TNC segmentation\n",
    "\n",
    "mod=PanelOLS.from_formula('UPT_ADJ_log \\\n",
    "                    ~ VRM_ADJ_BUS_log \\\n",
    "                    + VRM_ADJ_RAIL_log \\\n",
    "                    + FARE_per_UPT_2018_log \\\n",
    "                    + POP_EMP_log \\\n",
    "                    + GAS_PRICE_2018_log \\\n",
    "                    + TOTAL_MED_INC_INDIV_2018_log \\\n",
    "                    + PCT_HH_NO_VEH \\\n",
    "                    + TSD_POP_PCT \\\n",
    "                    + JTW_HOME_PCT \\\n",
    "                    + YEARS_SINCE_TNC_BUS_NY \\\n",
    "                    + YEARS_SINCE_TNC_BUS_HI \\\n",
    "                    + YEARS_SINCE_TNC_BUS_MID \\\n",
    "                    + YEARS_SINCE_TNC_BUS_LOW \\\n",
    "                    + YEARS_SINCE_TNC_RAIL_NY \\\n",
    "                    + YEARS_SINCE_TNC_RAIL_HI \\\n",
    "                    + YEARS_SINCE_TNC_RAIL_MID \\\n",
    "                    + BIKE_SHARE \\\n",
    "                    + scooter_flag \\\n",
    "                    + EntityEffects \\\n",
    "                    ',data=df)\n",
    "res=mod.fit()\n",
    "print(res)"
   ]
  },
  {
   "cell_type": "code",
   "execution_count": 63,
   "metadata": {
    "collapsed": false
   },
   "outputs": [
    {
     "name": "stderr",
     "output_type": "stream",
     "text": [
      "C:\\Program Files\\Anaconda3\\lib\\site-packages\\linearmodels\\panel\\data.py:39: FutureWarning: \n",
      "Passing list-likes to .loc or [] with any missing label will raise\n",
      "KeyError in the future, you can use .reindex() as an alternative.\n",
      "\n",
      "See the documentation here:\n",
      "https://pandas.pydata.org/pandas-docs/stable/indexing.html#deprecate-loc-reindex-listlike\n",
      "  new_df = df.copy().loc[self._full_index]\n",
      "C:\\Program Files\\Anaconda3\\lib\\site-packages\\linearmodels\\utility.py:476: MissingValueWarning: \n",
      "Inputs contain missing values. Dropping rows with missing observations.\n",
      "  warnings.warn(missing_value_warning_msg, MissingValueWarning)\n"
     ]
    },
    {
     "name": "stdout",
     "output_type": "stream",
     "text": [
      "                          PanelOLS Estimation Summary                           \n",
      "================================================================================\n",
      "Dep. Variable:            UPT_ADJ_log   R-squared:                        0.6848\n",
      "Estimator:                   PanelOLS   R-squared (Between):              0.9839\n",
      "No. Observations:                4172   R-squared (Within):               0.6848\n",
      "Date:                Tue, Dec 17 2019   R-squared (Overall):              0.9845\n",
      "Time:                        19:11:17   Log-likelihood                    1113.2\n",
      "Cov. Estimator:            Unadjusted                                           \n",
      "                                        F-statistic:                      562.90\n",
      "Entities:                         270   P-value                           0.0000\n",
      "Avg Obs:                       15.452   Distribution:                 F(15,3887)\n",
      "Min Obs:                       3.0000                                           \n",
      "Max Obs:                       17.000   F-statistic (robust):             562.90\n",
      "                                        P-value                           0.0000\n",
      "Time periods:                      17   Distribution:                 F(15,3887)\n",
      "Avg Obs:                       245.41                                           \n",
      "Min Obs:                       179.00                                           \n",
      "Max Obs:                       269.00                                           \n",
      "                                                                                \n",
      "                                      Parameter Estimates                                       \n",
      "================================================================================================\n",
      "                              Parameter  Std. Err.     T-stat    P-value    Lower CI    Upper CI\n",
      "------------------------------------------------------------------------------------------------\n",
      "VRM_ADJ_BUS_log                  0.9308     0.0140     66.527     0.0000      0.9034      0.9582\n",
      "VRM_ADJ_RAIL_log                 0.6303     0.0195     32.260     0.0000      0.5920      0.6686\n",
      "FARE_per_UPT_2018_log           -0.5860     0.0187    -31.354     0.0000     -0.6227     -0.5494\n",
      "POP_EMP_log                      0.3002     0.0591     5.0808     0.0000      0.1844      0.4161\n",
      "GAS_PRICE_2018_log               0.1906     0.0264     7.2096     0.0000      0.1388      0.2424\n",
      "TOTAL_MED_INC_INDIV_2018_log    -0.2443     0.0552    -4.4223     0.0000     -0.3526     -0.1360\n",
      "PCT_HH_NO_VEH                    0.0062     0.0031     2.0246     0.0430      0.0002      0.0122\n",
      "TSD_POP_PCT                      0.0038     0.0016     2.4145     0.0158      0.0007      0.0069\n",
      "JTW_HOME_PCT                    -0.0044     0.0041    -1.0751     0.2824     -0.0125      0.0036\n",
      "YEARS_SINCE_TNC_BUS_HINY        -0.0174     0.0063    -2.7788     0.0055     -0.0297     -0.0051\n",
      "YEARS_SINCE_TNC_BUS_MIDLOW      -0.0401     0.0047    -8.4966     0.0000     -0.0494     -0.0309\n",
      "YEARS_SINCE_TNC_RAIL_HINY        0.0150     0.0064     2.3239     0.0202      0.0023      0.0276\n",
      "YEARS_SINCE_TNC_RAIL_MIDLOW     -0.0076     0.0097    -0.7791     0.4360     -0.0266      0.0115\n",
      "BIKE_SHARE                       0.0218     0.0133     1.6355     0.1020     -0.0043      0.0479\n",
      "scooter_flag                    -0.0418     0.0272    -1.5350     0.1249     -0.0951      0.0116\n",
      "================================================================================================\n",
      "\n",
      "F-test for Poolability: 95.473\n",
      "P-value: 0.0000\n",
      "Distribution: F(269,3887)\n",
      "\n",
      "Included effects: Entity\n"
     ]
    }
   ],
   "source": [
    "# TNC segmentation\n",
    "\n",
    "mod=PanelOLS.from_formula('UPT_ADJ_log \\\n",
    "                    ~ VRM_ADJ_BUS_log \\\n",
    "                    + VRM_ADJ_RAIL_log \\\n",
    "                    + FARE_per_UPT_2018_log \\\n",
    "                    + POP_EMP_log \\\n",
    "                    + GAS_PRICE_2018_log \\\n",
    "                    + TOTAL_MED_INC_INDIV_2018_log \\\n",
    "                    + PCT_HH_NO_VEH \\\n",
    "                    + TSD_POP_PCT \\\n",
    "                    + JTW_HOME_PCT \\\n",
    "                    + YEARS_SINCE_TNC_BUS_HINY \\\n",
    "                    + YEARS_SINCE_TNC_BUS_MIDLOW \\\n",
    "                    + YEARS_SINCE_TNC_RAIL_HINY \\\n",
    "                    + YEARS_SINCE_TNC_RAIL_MIDLOW \\\n",
    "                    + BIKE_SHARE \\\n",
    "                    + scooter_flag \\\n",
    "                    + EntityEffects \\\n",
    "                    ',data=df)\n",
    "res=mod.fit()\n",
    "print(res)"
   ]
  },
  {
   "cell_type": "code",
   "execution_count": 64,
   "metadata": {
    "collapsed": false
   },
   "outputs": [
    {
     "name": "stderr",
     "output_type": "stream",
     "text": [
      "C:\\Program Files\\Anaconda3\\lib\\site-packages\\linearmodels\\panel\\data.py:39: FutureWarning: \n",
      "Passing list-likes to .loc or [] with any missing label will raise\n",
      "KeyError in the future, you can use .reindex() as an alternative.\n",
      "\n",
      "See the documentation here:\n",
      "https://pandas.pydata.org/pandas-docs/stable/indexing.html#deprecate-loc-reindex-listlike\n",
      "  new_df = df.copy().loc[self._full_index]\n",
      "C:\\Program Files\\Anaconda3\\lib\\site-packages\\linearmodels\\utility.py:476: MissingValueWarning: \n",
      "Inputs contain missing values. Dropping rows with missing observations.\n",
      "  warnings.warn(missing_value_warning_msg, MissingValueWarning)\n"
     ]
    },
    {
     "name": "stdout",
     "output_type": "stream",
     "text": [
      "                          PanelOLS Estimation Summary                           \n",
      "================================================================================\n",
      "Dep. Variable:            UPT_ADJ_log   R-squared:                        0.6716\n",
      "Estimator:                   PanelOLS   R-squared (Between):              0.9965\n",
      "No. Observations:                4172   R-squared (Within):               0.6716\n",
      "Date:                Tue, Dec 17 2019   R-squared (Overall):              0.9964\n",
      "Time:                        19:11:18   Log-likelihood                    1027.9\n",
      "Cov. Estimator:            Unadjusted                                           \n",
      "                                        F-statistic:                      567.97\n",
      "Entities:                         270   P-value                           0.0000\n",
      "Avg Obs:                       15.452   Distribution:                 F(14,3888)\n",
      "Min Obs:                       3.0000                                           \n",
      "Max Obs:                       17.000   F-statistic (robust):             567.97\n",
      "                                        P-value                           0.0000\n",
      "Time periods:                      17   Distribution:                 F(14,3888)\n",
      "Avg Obs:                       245.41                                           \n",
      "Min Obs:                       179.00                                           \n",
      "Max Obs:                       269.00                                           \n",
      "                                                                                \n",
      "                                      Parameter Estimates                                       \n",
      "================================================================================================\n",
      "                              Parameter  Std. Err.     T-stat    P-value    Lower CI    Upper CI\n",
      "------------------------------------------------------------------------------------------------\n",
      "VRM_ADJ_log                      0.8307     0.0118     70.311     0.0000      0.8076      0.8539\n",
      "FARE_per_UPT_2018_log           -0.5922     0.0191    -31.057     0.0000     -0.6295     -0.5548\n",
      "POP_EMP_log                      0.3582     0.0601     5.9576     0.0000      0.2403      0.4761\n",
      "GAS_PRICE_2018_log               0.1924     0.0270     7.1321     0.0000      0.1395      0.2453\n",
      "TOTAL_MED_INC_INDIV_2018_log    -0.2559     0.0564    -4.5389     0.0000     -0.3664     -0.1453\n",
      "PCT_HH_NO_VEH                    0.0068     0.0031     2.1733     0.0298      0.0007      0.0129\n",
      "TSD_POP_PCT                      0.0057     0.0016     3.5766     0.0004      0.0026      0.0089\n",
      "JTW_HOME_PCT                    -0.0034     0.0042    -0.8071     0.4197     -0.0116      0.0048\n",
      "YEARS_SINCE_TNC_BUS_HINY        -0.0150     0.0064    -2.3525     0.0187     -0.0276     -0.0025\n",
      "YEARS_SINCE_TNC_BUS_MIDLOW      -0.0365     0.0048    -7.5972     0.0000     -0.0460     -0.0271\n",
      "YEARS_SINCE_TNC_RAIL_HINY       -0.0011     0.0064    -0.1669     0.8674     -0.0137      0.0116\n",
      "YEARS_SINCE_TNC_RAIL_MIDLOW     -0.0291     0.0098    -2.9774     0.0029     -0.0482     -0.0099\n",
      "BIKE_SHARE                       0.0147     0.0136     1.0818     0.2794     -0.0119      0.0413\n",
      "scooter_flag                    -0.0408     0.0278    -1.4702     0.1416     -0.0953      0.0136\n",
      "================================================================================================\n",
      "\n",
      "F-test for Poolability: 94.402\n",
      "P-value: 0.0000\n",
      "Distribution: F(269,3888)\n",
      "\n",
      "Included effects: Entity\n"
     ]
    }
   ],
   "source": [
    "# TNC segmentation\n",
    "\n",
    "mod=PanelOLS.from_formula('UPT_ADJ_log \\\n",
    "                    ~ VRM_ADJ_log \\\n",
    "                    + FARE_per_UPT_2018_log \\\n",
    "                    + POP_EMP_log \\\n",
    "                    + GAS_PRICE_2018_log \\\n",
    "                    + TOTAL_MED_INC_INDIV_2018_log \\\n",
    "                    + PCT_HH_NO_VEH \\\n",
    "                    + TSD_POP_PCT \\\n",
    "                    + JTW_HOME_PCT \\\n",
    "                    + YEARS_SINCE_TNC_BUS_HINY \\\n",
    "                    + YEARS_SINCE_TNC_BUS_MIDLOW \\\n",
    "                    + YEARS_SINCE_TNC_RAIL_HINY \\\n",
    "                    + YEARS_SINCE_TNC_RAIL_MIDLOW \\\n",
    "                    + BIKE_SHARE \\\n",
    "                    + scooter_flag \\\n",
    "                    + EntityEffects \\\n",
    "                    ',data=df)\n",
    "res=mod.fit()\n",
    "print(res)"
   ]
  },
  {
   "cell_type": "code",
   "execution_count": 65,
   "metadata": {
    "collapsed": false
   },
   "outputs": [
    {
     "name": "stderr",
     "output_type": "stream",
     "text": [
      "C:\\Program Files\\Anaconda3\\lib\\site-packages\\linearmodels\\panel\\data.py:39: FutureWarning: \n",
      "Passing list-likes to .loc or [] with any missing label will raise\n",
      "KeyError in the future, you can use .reindex() as an alternative.\n",
      "\n",
      "See the documentation here:\n",
      "https://pandas.pydata.org/pandas-docs/stable/indexing.html#deprecate-loc-reindex-listlike\n",
      "  new_df = df.copy().loc[self._full_index]\n",
      "C:\\Program Files\\Anaconda3\\lib\\site-packages\\linearmodels\\utility.py:476: MissingValueWarning: \n",
      "Inputs contain missing values. Dropping rows with missing observations.\n",
      "  warnings.warn(missing_value_warning_msg, MissingValueWarning)\n"
     ]
    },
    {
     "name": "stdout",
     "output_type": "stream",
     "text": [
      "                          PanelOLS Estimation Summary                           \n",
      "================================================================================\n",
      "Dep. Variable:            UPT_ADJ_log   R-squared:                        0.6705\n",
      "Estimator:                   PanelOLS   R-squared (Between):              0.9937\n",
      "No. Observations:                4172   R-squared (Within):               0.6705\n",
      "Date:                Tue, Dec 17 2019   R-squared (Overall):              0.9936\n",
      "Time:                        19:11:19   Log-likelihood                    1021.0\n",
      "Cov. Estimator:            Unadjusted                                           \n",
      "                                        F-statistic:                      565.15\n",
      "Entities:                         270   P-value                           0.0000\n",
      "Avg Obs:                       15.452   Distribution:                 F(14,3888)\n",
      "Min Obs:                       3.0000                                           \n",
      "Max Obs:                       17.000   F-statistic (robust):             565.15\n",
      "                                        P-value                           0.0000\n",
      "Time periods:                      17   Distribution:                 F(14,3888)\n",
      "Avg Obs:                       245.41                                           \n",
      "Min Obs:                       179.00                                           \n",
      "Max Obs:                       269.00                                           \n",
      "                                                                                \n",
      "                                      Parameter Estimates                                       \n",
      "================================================================================================\n",
      "                              Parameter  Std. Err.     T-stat    P-value    Lower CI    Upper CI\n",
      "------------------------------------------------------------------------------------------------\n",
      "VRM_ADJ_log                      0.8298     0.0119     69.981     0.0000      0.8065      0.8530\n",
      "FARE_per_UPT_2018_log           -0.5891     0.0191    -30.850     0.0000     -0.6266     -0.5517\n",
      "POP_EMP_log                      0.3322     0.0598     5.5504     0.0000      0.2148      0.4495\n",
      "GAS_PRICE_2018_log               0.2035     0.0269     7.5709     0.0000      0.1508      0.2562\n",
      "TOTAL_MED_INC_INDIV_2018_log    -0.2549     0.0565    -4.5130     0.0000     -0.3656     -0.1442\n",
      "PCT_HH_NO_VEH                    0.0071     0.0031     2.2752     0.0229      0.0010      0.0132\n",
      "TSD_POP_PCT                      0.0051     0.0016     3.2105     0.0013      0.0020      0.0082\n",
      "JTW_HOME_PCT                    -0.0051     0.0042    -1.2156     0.2242     -0.0133      0.0031\n",
      "YEARS_SINCE_TNC_BUS             -0.0319     0.0046    -7.0061     0.0000     -0.0408     -0.0230\n",
      "YEARS_SINCE_TNC_RAIL             0.0005     0.0078     0.0596     0.9525     -0.0147      0.0157\n",
      "BIKE_SHARE_BUS                   0.0240     0.0152     1.5767     0.1149     -0.0058      0.0539\n",
      "scooter_flag_BUS                -0.0017     0.0331    -0.0509     0.9594     -0.0667      0.0633\n",
      "BIKE_SHARE_RAIL                 -0.0126     0.0292    -0.4329     0.6651     -0.0698      0.0446\n",
      "scooter_flag_RAIL               -0.1039     0.0498    -2.0891     0.0368     -0.2015     -0.0064\n",
      "================================================================================================\n",
      "\n",
      "F-test for Poolability: 93.178\n",
      "P-value: 0.0000\n",
      "Distribution: F(269,3888)\n",
      "\n",
      "Included effects: Entity\n"
     ]
    }
   ],
   "source": [
    "# model 6.4 specification  \n",
    "\n",
    "mod=PanelOLS.from_formula('UPT_ADJ_log \\\n",
    "                    ~ VRM_ADJ_log \\\n",
    "                    + FARE_per_UPT_2018_log \\\n",
    "                    + POP_EMP_log \\\n",
    "                    + GAS_PRICE_2018_log \\\n",
    "                    + TOTAL_MED_INC_INDIV_2018_log \\\n",
    "                    + PCT_HH_NO_VEH \\\n",
    "                    + TSD_POP_PCT \\\n",
    "                    + JTW_HOME_PCT \\\n",
    "                    + YEARS_SINCE_TNC_BUS \\\n",
    "                    + YEARS_SINCE_TNC_RAIL \\\n",
    "                    + BIKE_SHARE_BUS \\\n",
    "                    + scooter_flag_BUS \\\n",
    "                    + BIKE_SHARE_RAIL \\\n",
    "                    + scooter_flag_RAIL \\\n",
    "                    + EntityEffects \\\n",
    "                    ',data=df)\n",
    "res=mod.fit()\n",
    "print(res)"
   ]
  },
  {
   "cell_type": "code",
   "execution_count": 66,
   "metadata": {
    "collapsed": false
   },
   "outputs": [
    {
     "name": "stderr",
     "output_type": "stream",
     "text": [
      "C:\\Program Files\\Anaconda3\\lib\\site-packages\\linearmodels\\panel\\data.py:39: FutureWarning: \n",
      "Passing list-likes to .loc or [] with any missing label will raise\n",
      "KeyError in the future, you can use .reindex() as an alternative.\n",
      "\n",
      "See the documentation here:\n",
      "https://pandas.pydata.org/pandas-docs/stable/indexing.html#deprecate-loc-reindex-listlike\n",
      "  new_df = df.copy().loc[self._full_index]\n",
      "C:\\Program Files\\Anaconda3\\lib\\site-packages\\linearmodels\\utility.py:476: MissingValueWarning: \n",
      "Inputs contain missing values. Dropping rows with missing observations.\n",
      "  warnings.warn(missing_value_warning_msg, MissingValueWarning)\n"
     ]
    },
    {
     "name": "stdout",
     "output_type": "stream",
     "text": [
      "                          PanelOLS Estimation Summary                           \n",
      "================================================================================\n",
      "Dep. Variable:            UPT_ADJ_log   R-squared:                        0.6834\n",
      "Estimator:                   PanelOLS   R-squared (Between):              0.9808\n",
      "No. Observations:                4172   R-squared (Within):               0.6834\n",
      "Date:                Tue, Dec 17 2019   R-squared (Overall):              0.9815\n",
      "Time:                        19:11:20   Log-likelihood                    1104.4\n",
      "Cov. Estimator:            Unadjusted                                           \n",
      "                                        F-statistic:                      645.84\n",
      "Entities:                         270   P-value                           0.0000\n",
      "Avg Obs:                       15.452   Distribution:                 F(13,3889)\n",
      "Min Obs:                       3.0000                                           \n",
      "Max Obs:                       17.000   F-statistic (robust):             645.84\n",
      "                                        P-value                           0.0000\n",
      "Time periods:                      17   Distribution:                 F(13,3889)\n",
      "Avg Obs:                       245.41                                           \n",
      "Min Obs:                       179.00                                           \n",
      "Max Obs:                       269.00                                           \n",
      "                                                                                \n",
      "                                      Parameter Estimates                                       \n",
      "================================================================================================\n",
      "                              Parameter  Std. Err.     T-stat    P-value    Lower CI    Upper CI\n",
      "------------------------------------------------------------------------------------------------\n",
      "VRM_ADJ_BUS_log                  0.9294     0.0140     66.339     0.0000      0.9019      0.9568\n",
      "VRM_ADJ_RAIL_log                 0.6280     0.0196     32.117     0.0000      0.5897      0.6663\n",
      "FARE_per_UPT_2018_log           -0.5836     0.0187    -31.196     0.0000     -0.6203     -0.5470\n",
      "POP_EMP_log                      0.2733     0.0588     4.6472     0.0000      0.1580      0.3886\n",
      "GAS_PRICE_2018_log               0.2015     0.0263     7.6490     0.0000      0.1499      0.2532\n",
      "TOTAL_MED_INC_INDIV_2018_log    -0.2441     0.0553    -4.4104     0.0000     -0.3526     -0.1356\n",
      "PCT_HH_NO_VEH                    0.0065     0.0031     2.1237     0.0338      0.0005      0.0125\n",
      "TSD_POP_PCT                      0.0032     0.0016     2.0377     0.0416      0.0001      0.0063\n",
      "JTW_HOME_PCT                    -0.0061     0.0041    -1.4916     0.1359     -0.0141      0.0019\n",
      "YEARS_SINCE_TNC_BUS             -0.0330     0.0043    -7.6696     0.0000     -0.0414     -0.0245\n",
      "YEARS_SINCE_TNC_RAIL             0.0090     0.0059     1.5388     0.1239     -0.0025      0.0205\n",
      "BIKE_SHARE                       0.0246     0.0133     1.8500     0.0644     -0.0015      0.0507\n",
      "scooter_flag                    -0.0319     0.0271    -1.1759     0.2397     -0.0851      0.0213\n",
      "================================================================================================\n",
      "\n",
      "F-test for Poolability: 95.327\n",
      "P-value: 0.0000\n",
      "Distribution: F(269,3889)\n",
      "\n",
      "Included effects: Entity\n"
     ]
    }
   ],
   "source": [
    "# 7.3 Specification\n",
    "\n",
    "mod=PanelOLS.from_formula('UPT_ADJ_log \\\n",
    "                    ~ VRM_ADJ_BUS_log \\\n",
    "                    + VRM_ADJ_RAIL_log \\\n",
    "                    + FARE_per_UPT_2018_log \\\n",
    "                    + POP_EMP_log \\\n",
    "                    + GAS_PRICE_2018_log \\\n",
    "                    + TOTAL_MED_INC_INDIV_2018_log \\\n",
    "                    + PCT_HH_NO_VEH \\\n",
    "                    + TSD_POP_PCT \\\n",
    "                    + JTW_HOME_PCT \\\n",
    "                    + YEARS_SINCE_TNC_BUS \\\n",
    "                    + YEARS_SINCE_TNC_RAIL \\\n",
    "                    + BIKE_SHARE \\\n",
    "                    + scooter_flag \\\n",
    "                    + EntityEffects \\\n",
    "                    ',data=df)\n",
    "res=mod.fit()\n",
    "print(res)"
   ]
  },
  {
   "cell_type": "code",
   "execution_count": 67,
   "metadata": {
    "collapsed": false
   },
   "outputs": [
    {
     "name": "stderr",
     "output_type": "stream",
     "text": [
      "C:\\Program Files\\Anaconda3\\lib\\site-packages\\linearmodels\\panel\\data.py:39: FutureWarning: \n",
      "Passing list-likes to .loc or [] with any missing label will raise\n",
      "KeyError in the future, you can use .reindex() as an alternative.\n",
      "\n",
      "See the documentation here:\n",
      "https://pandas.pydata.org/pandas-docs/stable/indexing.html#deprecate-loc-reindex-listlike\n",
      "  new_df = df.copy().loc[self._full_index]\n",
      "C:\\Program Files\\Anaconda3\\lib\\site-packages\\linearmodels\\utility.py:476: MissingValueWarning: \n",
      "Inputs contain missing values. Dropping rows with missing observations.\n",
      "  warnings.warn(missing_value_warning_msg, MissingValueWarning)\n"
     ]
    },
    {
     "name": "stdout",
     "output_type": "stream",
     "text": [
      "                          PanelOLS Estimation Summary                           \n",
      "================================================================================\n",
      "Dep. Variable:            UPT_ADJ_log   R-squared:                        0.6702\n",
      "Estimator:                   PanelOLS   R-squared (Between):              0.9934\n",
      "No. Observations:                4172   R-squared (Within):               0.6702\n",
      "Date:                Tue, Dec 17 2019   R-squared (Overall):              0.9933\n",
      "Time:                        19:11:21   Log-likelihood                    1018.9\n",
      "Cov. Estimator:            Unadjusted                                           \n",
      "                                        F-statistic:                      658.69\n",
      "Entities:                         270   P-value                           0.0000\n",
      "Avg Obs:                       15.452   Distribution:                 F(12,3890)\n",
      "Min Obs:                       3.0000                                           \n",
      "Max Obs:                       17.000   F-statistic (robust):             658.69\n",
      "                                        P-value                           0.0000\n",
      "Time periods:                      17   Distribution:                 F(12,3890)\n",
      "Avg Obs:                       245.41                                           \n",
      "Min Obs:                       179.00                                           \n",
      "Max Obs:                       269.00                                           \n",
      "                                                                                \n",
      "                                      Parameter Estimates                                       \n",
      "================================================================================================\n",
      "                              Parameter  Std. Err.     T-stat    P-value    Lower CI    Upper CI\n",
      "------------------------------------------------------------------------------------------------\n",
      "VRM_ADJ_log                      0.8290     0.0118     70.073     0.0000      0.8058      0.8522\n",
      "FARE_per_UPT_2018_log           -0.5895     0.0191    -30.882     0.0000     -0.6269     -0.5520\n",
      "POP_EMP_log                      0.3315     0.0598     5.5386     0.0000      0.2141      0.4488\n",
      "GAS_PRICE_2018_log               0.2036     0.0269     7.5734     0.0000      0.1509      0.2563\n",
      "TOTAL_MED_INC_INDIV_2018_log    -0.2554     0.0565    -4.5225     0.0000     -0.3661     -0.1447\n",
      "PCT_HH_NO_VEH                    0.0072     0.0031     2.2890     0.0221      0.0010      0.0133\n",
      "TSD_POP_PCT                      0.0051     0.0016     3.1995     0.0014      0.0020      0.0082\n",
      "JTW_HOME_PCT                    -0.0052     0.0042    -1.2344     0.2171     -0.0133      0.0030\n",
      "YEARS_SINCE_TNC_BUS             -0.0297     0.0044    -6.7731     0.0000     -0.0382     -0.0211\n",
      "YEARS_SINCE_TNC_RAIL            -0.0085     0.0058    -1.4669     0.1425     -0.0199      0.0029\n",
      "BIKE_SHARE                       0.0174     0.0136     1.2826     0.1997     -0.0092      0.0440\n",
      "scooter_flag                    -0.0313     0.0277    -1.1309     0.2582     -0.0856      0.0230\n",
      "================================================================================================\n",
      "\n",
      "F-test for Poolability: 94.110\n",
      "P-value: 0.0000\n",
      "Distribution: F(269,3890)\n",
      "\n",
      "Included effects: Entity\n"
     ]
    }
   ],
   "source": [
    "# 7.3 Specification\n",
    "\n",
    "mod=PanelOLS.from_formula('UPT_ADJ_log \\\n",
    "                    ~ VRM_ADJ_log \\\n",
    "                    + FARE_per_UPT_2018_log \\\n",
    "                    + POP_EMP_log \\\n",
    "                    + GAS_PRICE_2018_log \\\n",
    "                    + TOTAL_MED_INC_INDIV_2018_log \\\n",
    "                    + PCT_HH_NO_VEH \\\n",
    "                    + TSD_POP_PCT \\\n",
    "                    + JTW_HOME_PCT \\\n",
    "                    + YEARS_SINCE_TNC_BUS \\\n",
    "                    + YEARS_SINCE_TNC_RAIL \\\n",
    "                    + BIKE_SHARE \\\n",
    "                    + scooter_flag \\\n",
    "                    + EntityEffects \\\n",
    "                    ',data=df)\n",
    "res=mod.fit()\n",
    "print(res)"
   ]
  },
  {
   "cell_type": "code",
   "execution_count": null,
   "metadata": {
    "collapsed": true
   },
   "outputs": [],
   "source": []
  },
  {
   "cell_type": "code",
   "execution_count": 68,
   "metadata": {
    "collapsed": false
   },
   "outputs": [
    {
     "name": "stderr",
     "output_type": "stream",
     "text": [
      "C:\\Program Files\\Anaconda3\\lib\\site-packages\\linearmodels\\panel\\data.py:39: FutureWarning: \n",
      "Passing list-likes to .loc or [] with any missing label will raise\n",
      "KeyError in the future, you can use .reindex() as an alternative.\n",
      "\n",
      "See the documentation here:\n",
      "https://pandas.pydata.org/pandas-docs/stable/indexing.html#deprecate-loc-reindex-listlike\n",
      "  new_df = df.copy().loc[self._full_index]\n",
      "C:\\Program Files\\Anaconda3\\lib\\site-packages\\linearmodels\\utility.py:476: MissingValueWarning: \n",
      "Inputs contain missing values. Dropping rows with missing observations.\n",
      "  warnings.warn(missing_value_warning_msg, MissingValueWarning)\n"
     ]
    },
    {
     "name": "stdout",
     "output_type": "stream",
     "text": [
      "                          PanelOLS Estimation Summary                           \n",
      "================================================================================\n",
      "Dep. Variable:            UPT_ADJ_log   R-squared:                        0.6699\n",
      "Estimator:                   PanelOLS   R-squared (Between):              0.9944\n",
      "No. Observations:                4172   R-squared (Within):               0.6699\n",
      "Date:                Tue, Dec 17 2019   R-squared (Overall):              0.9942\n",
      "Time:                        19:11:22   Log-likelihood                    1017.3\n",
      "Cov. Estimator:            Unadjusted                                           \n",
      "                                        F-statistic:                      657.96\n",
      "Entities:                         270   P-value                           0.0000\n",
      "Avg Obs:                       15.452   Distribution:                 F(12,3890)\n",
      "Min Obs:                       3.0000                                           \n",
      "Max Obs:                       17.000   F-statistic (robust):             657.96\n",
      "                                        P-value                           0.0000\n",
      "Time periods:                      17   Distribution:                 F(12,3890)\n",
      "Avg Obs:                       245.41                                           \n",
      "Min Obs:                       179.00                                           \n",
      "Max Obs:                       269.00                                           \n",
      "                                                                                \n",
      "                                      Parameter Estimates                                       \n",
      "================================================================================================\n",
      "                              Parameter  Std. Err.     T-stat    P-value    Lower CI    Upper CI\n",
      "------------------------------------------------------------------------------------------------\n",
      "VRM_ADJ_log                      0.8309     0.0119     70.057     0.0000      0.8077      0.8542\n",
      "FARE_per_UPT_2018_log           -0.5882     0.0191    -30.803     0.0000     -0.6257     -0.5508\n",
      "POP_EMP_log                      0.3509     0.0606     5.7865     0.0000      0.2320      0.4698\n",
      "GAS_PRICE_2018_log               0.1880     0.0278     6.7735     0.0000      0.1336      0.2424\n",
      "TOTAL_MED_INC_INDIV_2018_log    -0.2717     0.0565    -4.8121     0.0000     -0.3825     -0.1610\n",
      "PCT_HH_NO_VEH                    0.0071     0.0031     2.2846     0.0224      0.0010      0.0133\n",
      "TSD_POP_PCT                      0.0048     0.0016     3.0108     0.0026      0.0017      0.0080\n",
      "JTW_HOME_PCT                    -0.0044     0.0042    -1.0535     0.2922     -0.0127      0.0038\n",
      "YEARS_SINCE_TNC_BUS2            -0.0235     0.0036    -6.6239     0.0000     -0.0305     -0.0166\n",
      "YEARS_SINCE_TNC_RAIL2           -0.0097     0.0049    -1.9800     0.0478     -0.0193   -9.51e-05\n",
      "BIKE_SHARE                       0.0185     0.0137     1.3551     0.1755     -0.0083      0.0454\n",
      "scooter_flag                    -0.0386     0.0272    -1.4175     0.1564     -0.0919      0.0148\n",
      "================================================================================================\n",
      "\n",
      "F-test for Poolability: 93.854\n",
      "P-value: 0.0000\n",
      "Distribution: F(269,3890)\n",
      "\n",
      "Included effects: Entity\n"
     ]
    }
   ],
   "source": [
    "## start in first year TNCs show up\n",
    "\n",
    "df['YEARS_SINCE_TNC_BUS2'] = df['YEARS_SINCE_TNC_BUS'] + df['TNC_FLAG_BUS']\n",
    "df['YEARS_SINCE_TNC_RAIL2'] = df['YEARS_SINCE_TNC_RAIL'] + df['TNC_FLAG_RAIL']\n",
    "\n",
    "mod=PanelOLS.from_formula('UPT_ADJ_log \\\n",
    "                    ~ VRM_ADJ_log \\\n",
    "                    + FARE_per_UPT_2018_log \\\n",
    "                    + POP_EMP_log \\\n",
    "                    + GAS_PRICE_2018_log \\\n",
    "                    + TOTAL_MED_INC_INDIV_2018_log \\\n",
    "                    + PCT_HH_NO_VEH \\\n",
    "                    + TSD_POP_PCT \\\n",
    "                    + JTW_HOME_PCT \\\n",
    "                    + YEARS_SINCE_TNC_BUS2 \\\n",
    "                    + YEARS_SINCE_TNC_RAIL2 \\\n",
    "                    + BIKE_SHARE \\\n",
    "                    + scooter_flag \\\n",
    "                    + EntityEffects \\\n",
    "                    ',data=df)\n",
    "res=mod.fit()\n",
    "print(res)\n"
   ]
  },
  {
   "cell_type": "code",
   "execution_count": 69,
   "metadata": {
    "collapsed": false
   },
   "outputs": [
    {
     "name": "stderr",
     "output_type": "stream",
     "text": [
      "C:\\Program Files\\Anaconda3\\lib\\site-packages\\linearmodels\\panel\\data.py:39: FutureWarning: \n",
      "Passing list-likes to .loc or [] with any missing label will raise\n",
      "KeyError in the future, you can use .reindex() as an alternative.\n",
      "\n",
      "See the documentation here:\n",
      "https://pandas.pydata.org/pandas-docs/stable/indexing.html#deprecate-loc-reindex-listlike\n",
      "  new_df = df.copy().loc[self._full_index]\n",
      "C:\\Program Files\\Anaconda3\\lib\\site-packages\\linearmodels\\utility.py:476: MissingValueWarning: \n",
      "Inputs contain missing values. Dropping rows with missing observations.\n",
      "  warnings.warn(missing_value_warning_msg, MissingValueWarning)\n"
     ]
    },
    {
     "name": "stdout",
     "output_type": "stream",
     "text": [
      "                          PanelOLS Estimation Summary                           \n",
      "================================================================================\n",
      "Dep. Variable:            UPT_ADJ_log   R-squared:                        0.6716\n",
      "Estimator:                   PanelOLS   R-squared (Between):              0.9965\n",
      "No. Observations:                4172   R-squared (Within):               0.6716\n",
      "Date:                Tue, Dec 17 2019   R-squared (Overall):              0.9964\n",
      "Time:                        19:11:23   Log-likelihood                    1027.9\n",
      "Cov. Estimator:            Unadjusted                                           \n",
      "                                        F-statistic:                      567.97\n",
      "Entities:                         270   P-value                           0.0000\n",
      "Avg Obs:                       15.452   Distribution:                 F(14,3888)\n",
      "Min Obs:                       3.0000                                           \n",
      "Max Obs:                       17.000   F-statistic (robust):             567.97\n",
      "                                        P-value                           0.0000\n",
      "Time periods:                      17   Distribution:                 F(14,3888)\n",
      "Avg Obs:                       245.41                                           \n",
      "Min Obs:                       179.00                                           \n",
      "Max Obs:                       269.00                                           \n",
      "                                                                                \n",
      "                                      Parameter Estimates                                       \n",
      "================================================================================================\n",
      "                              Parameter  Std. Err.     T-stat    P-value    Lower CI    Upper CI\n",
      "------------------------------------------------------------------------------------------------\n",
      "VRM_ADJ_log                      0.8307     0.0118     70.311     0.0000      0.8076      0.8539\n",
      "FARE_per_UPT_2018_log           -0.5922     0.0191    -31.057     0.0000     -0.6295     -0.5548\n",
      "POP_EMP_log                      0.3582     0.0601     5.9576     0.0000      0.2403      0.4761\n",
      "GAS_PRICE_2018_log               0.1924     0.0270     7.1321     0.0000      0.1395      0.2453\n",
      "TOTAL_MED_INC_INDIV_2018_log    -0.2559     0.0564    -4.5389     0.0000     -0.3664     -0.1453\n",
      "PCT_HH_NO_VEH                    0.0068     0.0031     2.1733     0.0298      0.0007      0.0129\n",
      "TSD_POP_PCT                      0.0057     0.0016     3.5766     0.0004      0.0026      0.0089\n",
      "JTW_HOME_PCT                    -0.0034     0.0042    -0.8071     0.4197     -0.0116      0.0048\n",
      "YEARS_SINCE_TNC_BUS_HINY        -0.0150     0.0064    -2.3525     0.0187     -0.0276     -0.0025\n",
      "YEARS_SINCE_TNC_BUS_MIDLOW      -0.0365     0.0048    -7.5972     0.0000     -0.0460     -0.0271\n",
      "YEARS_SINCE_TNC_RAIL_HINY       -0.0011     0.0064    -0.1669     0.8674     -0.0137      0.0116\n",
      "YEARS_SINCE_TNC_RAIL_MIDLOW     -0.0291     0.0098    -2.9774     0.0029     -0.0482     -0.0099\n",
      "BIKE_SHARE                       0.0147     0.0136     1.0818     0.2794     -0.0119      0.0413\n",
      "scooter_flag                    -0.0408     0.0278    -1.4702     0.1416     -0.0953      0.0136\n",
      "================================================================================================\n",
      "\n",
      "F-test for Poolability: 94.402\n",
      "P-value: 0.0000\n",
      "Distribution: F(269,3888)\n",
      "\n",
      "Included effects: Entity\n"
     ]
    }
   ],
   "source": [
    "# TNC segmentation\n",
    "\n",
    "mod=PanelOLS.from_formula('UPT_ADJ_log \\\n",
    "                    ~ VRM_ADJ_log \\\n",
    "                    + FARE_per_UPT_2018_log \\\n",
    "                    + POP_EMP_log \\\n",
    "                    + GAS_PRICE_2018_log \\\n",
    "                    + TOTAL_MED_INC_INDIV_2018_log \\\n",
    "                    + PCT_HH_NO_VEH \\\n",
    "                    + TSD_POP_PCT \\\n",
    "                    + JTW_HOME_PCT \\\n",
    "                    + YEARS_SINCE_TNC_BUS_HINY \\\n",
    "                    + YEARS_SINCE_TNC_BUS_MIDLOW \\\n",
    "                    + YEARS_SINCE_TNC_RAIL_HINY \\\n",
    "                    + YEARS_SINCE_TNC_RAIL_MIDLOW \\\n",
    "                    + BIKE_SHARE \\\n",
    "                    + scooter_flag \\\n",
    "                    + EntityEffects \\\n",
    "                    ',data=df)\n",
    "res=mod.fit()\n",
    "print(res)"
   ]
  },
  {
   "cell_type": "code",
   "execution_count": 70,
   "metadata": {
    "collapsed": true
   },
   "outputs": [],
   "source": [
    "## start in first year TNCs show up\n",
    "\n",
    "df['YEARS_SINCE_TNC_BUS2_NY']  = df['YEARS_SINCE_TNC_BUS2'] * df['NEW_YORK']\n",
    "df['YEARS_SINCE_TNC_BUS2_HI']  = df['YEARS_SINCE_TNC_BUS2'] * df['HI_OPEX']\n",
    "df['YEARS_SINCE_TNC_BUS2_MID'] = df['YEARS_SINCE_TNC_BUS2'] * df['MID_OPEX']\n",
    "df['YEARS_SINCE_TNC_BUS2_LOW'] = df['YEARS_SINCE_TNC_BUS2'] * df['LOW_OPEX']\n",
    "\n",
    "df['YEARS_SINCE_TNC_BUS2_HINY']   = df['YEARS_SINCE_TNC_BUS2_NY'] + df['YEARS_SINCE_TNC_BUS2_HI']\n",
    "df['YEARS_SINCE_TNC_BUS2_MIDLOW'] = df['YEARS_SINCE_TNC_BUS2_MID'] + df['YEARS_SINCE_TNC_BUS2_LOW']\n",
    "\n",
    "df['YEARS_SINCE_TNC_RAIL2_NY']  = df['YEARS_SINCE_TNC_RAIL2'] * df['NEW_YORK']\n",
    "df['YEARS_SINCE_TNC_RAIL2_HI']  = df['YEARS_SINCE_TNC_RAIL2'] * df['HI_OPEX']\n",
    "df['YEARS_SINCE_TNC_RAIL2_MID'] = df['YEARS_SINCE_TNC_RAIL2'] * df['MID_OPEX']\n",
    "df['YEARS_SINCE_TNC_RAIL2_LOW'] = df['YEARS_SINCE_TNC_RAIL2'] * df['LOW_OPEX']\n",
    "\n",
    "df['YEARS_SINCE_TNC_RAIL2_HINY']   = df['YEARS_SINCE_TNC_RAIL2_NY'] + df['YEARS_SINCE_TNC_RAIL2_HI']\n",
    "df['YEARS_SINCE_TNC_RAIL2_MIDLOW'] = df['YEARS_SINCE_TNC_RAIL2_MID'] + df['YEARS_SINCE_TNC_RAIL2_LOW']\n",
    "\n"
   ]
  },
  {
   "cell_type": "code",
   "execution_count": 71,
   "metadata": {
    "collapsed": false
   },
   "outputs": [
    {
     "name": "stderr",
     "output_type": "stream",
     "text": [
      "C:\\Program Files\\Anaconda3\\lib\\site-packages\\linearmodels\\panel\\data.py:39: FutureWarning: \n",
      "Passing list-likes to .loc or [] with any missing label will raise\n",
      "KeyError in the future, you can use .reindex() as an alternative.\n",
      "\n",
      "See the documentation here:\n",
      "https://pandas.pydata.org/pandas-docs/stable/indexing.html#deprecate-loc-reindex-listlike\n",
      "  new_df = df.copy().loc[self._full_index]\n",
      "C:\\Program Files\\Anaconda3\\lib\\site-packages\\linearmodels\\utility.py:476: MissingValueWarning: \n",
      "Inputs contain missing values. Dropping rows with missing observations.\n",
      "  warnings.warn(missing_value_warning_msg, MissingValueWarning)\n"
     ]
    },
    {
     "name": "stdout",
     "output_type": "stream",
     "text": [
      "                          PanelOLS Estimation Summary                           \n",
      "================================================================================\n",
      "Dep. Variable:            UPT_ADJ_log   R-squared:                        0.6711\n",
      "Estimator:                   PanelOLS   R-squared (Between):              0.9968\n",
      "No. Observations:                4172   R-squared (Within):               0.6711\n",
      "Date:                Tue, Dec 17 2019   R-squared (Overall):              0.9967\n",
      "Time:                        19:11:25   Log-likelihood                    1024.8\n",
      "Cov. Estimator:            Unadjusted                                           \n",
      "                                        F-statistic:                      566.71\n",
      "Entities:                         270   P-value                           0.0000\n",
      "Avg Obs:                       15.452   Distribution:                 F(14,3888)\n",
      "Min Obs:                       3.0000                                           \n",
      "Max Obs:                       17.000   F-statistic (robust):             566.71\n",
      "                                        P-value                           0.0000\n",
      "Time periods:                      17   Distribution:                 F(14,3888)\n",
      "Avg Obs:                       245.41                                           \n",
      "Min Obs:                       179.00                                           \n",
      "Max Obs:                       269.00                                           \n",
      "                                                                                \n",
      "                                      Parameter Estimates                                       \n",
      "================================================================================================\n",
      "                              Parameter  Std. Err.     T-stat    P-value    Lower CI    Upper CI\n",
      "------------------------------------------------------------------------------------------------\n",
      "VRM_ADJ_log                      0.8328     0.0119     70.253     0.0000      0.8096      0.8561\n",
      "FARE_per_UPT_2018_log           -0.5910     0.0191    -30.965     0.0000     -0.6284     -0.5535\n",
      "POP_EMP_log                      0.3767     0.0610     6.1729     0.0000      0.2570      0.4963\n",
      "GAS_PRICE_2018_log               0.1762     0.0279     6.3135     0.0000      0.1215      0.2309\n",
      "TOTAL_MED_INC_INDIV_2018_log    -0.2753     0.0564    -4.8812     0.0000     -0.3858     -0.1647\n",
      "PCT_HH_NO_VEH                    0.0069     0.0031     2.2023     0.0277      0.0008      0.0130\n",
      "TSD_POP_PCT                      0.0055     0.0016     3.3940     0.0007      0.0023      0.0086\n",
      "JTW_HOME_PCT                    -0.0030     0.0042    -0.7111     0.4771     -0.0113      0.0053\n",
      "YEARS_SINCE_TNC_BUS2_HINY       -0.0129     0.0054    -2.3802     0.0174     -0.0236     -0.0023\n",
      "YEARS_SINCE_TNC_BUS2_MIDLOW     -0.0274     0.0038    -7.2201     0.0000     -0.0348     -0.0200\n",
      "YEARS_SINCE_TNC_RAIL2_HINY      -0.0026     0.0055    -0.4671     0.6405     -0.0134      0.0082\n",
      "YEARS_SINCE_TNC_RAIL2_MIDLOW    -0.0258     0.0078    -3.3273     0.0009     -0.0410     -0.0106\n",
      "BIKE_SHARE                       0.0146     0.0137     1.0674     0.2859     -0.0123      0.0416\n",
      "scooter_flag                    -0.0484     0.0273    -1.7702     0.0768     -0.1020      0.0052\n",
      "================================================================================================\n",
      "\n",
      "F-test for Poolability: 94.066\n",
      "P-value: 0.0000\n",
      "Distribution: F(269,3888)\n",
      "\n",
      "Included effects: Entity\n"
     ]
    }
   ],
   "source": [
    "# TNC segmentation\n",
    "\n",
    "mod=PanelOLS.from_formula('UPT_ADJ_log \\\n",
    "                    ~ VRM_ADJ_log \\\n",
    "                    + FARE_per_UPT_2018_log \\\n",
    "                    + POP_EMP_log \\\n",
    "                    + GAS_PRICE_2018_log \\\n",
    "                    + TOTAL_MED_INC_INDIV_2018_log \\\n",
    "                    + PCT_HH_NO_VEH \\\n",
    "                    + TSD_POP_PCT \\\n",
    "                    + JTW_HOME_PCT \\\n",
    "                    + YEARS_SINCE_TNC_BUS2_HINY \\\n",
    "                    + YEARS_SINCE_TNC_BUS2_MIDLOW \\\n",
    "                    + YEARS_SINCE_TNC_RAIL2_HINY \\\n",
    "                    + YEARS_SINCE_TNC_RAIL2_MIDLOW \\\n",
    "                    + BIKE_SHARE \\\n",
    "                    + scooter_flag \\\n",
    "                    + EntityEffects \\\n",
    "                    ',data=df)\n",
    "res=mod.fit()\n",
    "print(res)"
   ]
  },
  {
   "cell_type": "code",
   "execution_count": 72,
   "metadata": {
    "collapsed": false
   },
   "outputs": [
    {
     "name": "stderr",
     "output_type": "stream",
     "text": [
      "C:\\Program Files\\Anaconda3\\lib\\site-packages\\linearmodels\\panel\\data.py:39: FutureWarning: \n",
      "Passing list-likes to .loc or [] with any missing label will raise\n",
      "KeyError in the future, you can use .reindex() as an alternative.\n",
      "\n",
      "See the documentation here:\n",
      "https://pandas.pydata.org/pandas-docs/stable/indexing.html#deprecate-loc-reindex-listlike\n",
      "  new_df = df.copy().loc[self._full_index]\n",
      "C:\\Program Files\\Anaconda3\\lib\\site-packages\\linearmodels\\utility.py:476: MissingValueWarning: \n",
      "Inputs contain missing values. Dropping rows with missing observations.\n",
      "  warnings.warn(missing_value_warning_msg, MissingValueWarning)\n"
     ]
    },
    {
     "name": "stdout",
     "output_type": "stream",
     "text": [
      "                          PanelOLS Estimation Summary                           \n",
      "================================================================================\n",
      "Dep. Variable:            UPT_ADJ_log   R-squared:                        0.6713\n",
      "Estimator:                   PanelOLS   R-squared (Between):              0.9969\n",
      "No. Observations:                4172   R-squared (Within):               0.6713\n",
      "Date:                Tue, Dec 17 2019   R-squared (Overall):              0.9968\n",
      "Time:                        19:11:26   Log-likelihood                    1025.7\n",
      "Cov. Estimator:            Unadjusted                                           \n",
      "                                        F-statistic:                      495.93\n",
      "Entities:                         270   P-value                           0.0000\n",
      "Avg Obs:                       15.452   Distribution:                 F(16,3886)\n",
      "Min Obs:                       3.0000                                           \n",
      "Max Obs:                       17.000   F-statistic (robust):             495.93\n",
      "                                        P-value                           0.0000\n",
      "Time periods:                      17   Distribution:                 F(16,3886)\n",
      "Avg Obs:                       245.41                                           \n",
      "Min Obs:                       179.00                                           \n",
      "Max Obs:                       269.00                                           \n",
      "                                                                                \n",
      "                                      Parameter Estimates                                       \n",
      "================================================================================================\n",
      "                              Parameter  Std. Err.     T-stat    P-value    Lower CI    Upper CI\n",
      "------------------------------------------------------------------------------------------------\n",
      "VRM_ADJ_log                      0.8331     0.0119     70.170     0.0000      0.8099      0.8564\n",
      "FARE_per_UPT_2018_log           -0.5908     0.0191    -30.939     0.0000     -0.6283     -0.5534\n",
      "POP_EMP_log                      0.3776     0.0610     6.1868     0.0000      0.2579      0.4972\n",
      "GAS_PRICE_2018_log               0.1759     0.0279     6.3015     0.0000      0.1212      0.2306\n",
      "TOTAL_MED_INC_INDIV_2018_log    -0.2749     0.0564    -4.8734     0.0000     -0.3855     -0.1643\n",
      "PCT_HH_NO_VEH                    0.0069     0.0031     2.1960     0.0282      0.0007      0.0130\n",
      "TSD_POP_PCT                      0.0055     0.0016     3.3992     0.0007      0.0023      0.0086\n",
      "JTW_HOME_PCT                    -0.0030     0.0042    -0.7055     0.4805     -0.0112      0.0053\n",
      "YEARS_SINCE_TNC_BUS2_HINY       -0.0144     0.0056    -2.5838     0.0098     -0.0254     -0.0035\n",
      "YEARS_SINCE_TNC_BUS2_MIDLOW     -0.0283     0.0039    -7.2616     0.0000     -0.0359     -0.0207\n",
      "YEARS_SINCE_TNC_RAIL2_HINY       0.0022     0.0071     0.3058     0.7597     -0.0117      0.0161\n",
      "YEARS_SINCE_TNC_RAIL2_MIDLOW    -0.0216     0.0088    -2.4568     0.0141     -0.0389     -0.0044\n",
      "BIKE_SHARE_BUS                   0.0183     0.0154     1.1932     0.2329     -0.0118      0.0485\n",
      "BIKE_SHARE_RAIL                 -0.0035     0.0302    -0.1146     0.9088     -0.0626      0.0557\n",
      "scooter_flag_BUS                -0.0281     0.0329    -0.8555     0.3924     -0.0926      0.0363\n",
      "scooter_flag_RAIL               -0.0959     0.0486    -1.9724     0.0486     -0.1912     -0.0006\n",
      "================================================================================================\n",
      "\n",
      "F-test for Poolability: 93.166\n",
      "P-value: 0.0000\n",
      "Distribution: F(269,3886)\n",
      "\n",
      "Included effects: Entity\n"
     ]
    }
   ],
   "source": [
    "# TNC segmentation\n",
    "\n",
    "mod=PanelOLS.from_formula('UPT_ADJ_log \\\n",
    "                    ~ VRM_ADJ_log \\\n",
    "                    + FARE_per_UPT_2018_log \\\n",
    "                    + POP_EMP_log \\\n",
    "                    + GAS_PRICE_2018_log \\\n",
    "                    + TOTAL_MED_INC_INDIV_2018_log \\\n",
    "                    + PCT_HH_NO_VEH \\\n",
    "                    + TSD_POP_PCT \\\n",
    "                    + JTW_HOME_PCT \\\n",
    "                    + YEARS_SINCE_TNC_BUS2_HINY \\\n",
    "                    + YEARS_SINCE_TNC_BUS2_MIDLOW \\\n",
    "                    + YEARS_SINCE_TNC_RAIL2_HINY \\\n",
    "                    + YEARS_SINCE_TNC_RAIL2_MIDLOW \\\n",
    "                    + BIKE_SHARE_BUS \\\n",
    "                    + BIKE_SHARE_RAIL \\\n",
    "                    + scooter_flag_BUS \\\n",
    "                    + scooter_flag_RAIL \\\n",
    "                    + EntityEffects \\\n",
    "                    ',data=df)\n",
    "res=mod.fit()\n",
    "print(res)"
   ]
  },
  {
   "cell_type": "code",
   "execution_count": 73,
   "metadata": {
    "collapsed": false
   },
   "outputs": [],
   "source": [
    "## BIKE SHARE SEGMENTATION\n",
    "\n",
    "df['BIKE_SHARE_NY']  = df['BIKE_SHARE'] * df['NEW_YORK']\n",
    "df['BIKE_SHARE_HI']  = df['BIKE_SHARE'] * df['HI_OPEX']\n",
    "df['BIKE_SHARE_MID'] = df['BIKE_SHARE'] * df['MID_OPEX']\n",
    "df['BIKE_SHARE_LOW'] = df['BIKE_SHARE'] * df['LOW_OPEX']\n",
    "\n",
    "df['BIKE_SHARE_HINY']   = df['BIKE_SHARE_NY'] + df['BIKE_SHARE_HI']\n",
    "df['BIKE_SHARE_MIDLOW'] = df['BIKE_SHARE_MID'] + df['BIKE_SHARE_LOW']\n",
    "\n",
    "df['scooter_flag_NY']  = df['scooter_flag'] * df['NEW_YORK']\n",
    "df['scooter_flag_HI']  = df['scooter_flag'] * df['HI_OPEX']\n",
    "df['scooter_flag_MID'] = df['scooter_flag'] * df['MID_OPEX']\n",
    "df['scooter_flag_LOW'] = df['scooter_flag'] * df['LOW_OPEX']\n",
    "\n",
    "df['scooter_flag_HINY']   = df['scooter_flag_NY'] + df['scooter_flag_HI']\n",
    "df['scooter_flag_MIDLOW'] = df['scooter_flag_MID'] + df['scooter_flag_LOW']\n",
    "\n"
   ]
  },
  {
   "cell_type": "code",
   "execution_count": 74,
   "metadata": {
    "collapsed": false
   },
   "outputs": [
    {
     "name": "stderr",
     "output_type": "stream",
     "text": [
      "C:\\Program Files\\Anaconda3\\lib\\site-packages\\linearmodels\\panel\\data.py:39: FutureWarning: \n",
      "Passing list-likes to .loc or [] with any missing label will raise\n",
      "KeyError in the future, you can use .reindex() as an alternative.\n",
      "\n",
      "See the documentation here:\n",
      "https://pandas.pydata.org/pandas-docs/stable/indexing.html#deprecate-loc-reindex-listlike\n",
      "  new_df = df.copy().loc[self._full_index]\n",
      "C:\\Program Files\\Anaconda3\\lib\\site-packages\\linearmodels\\utility.py:476: MissingValueWarning: \n",
      "Inputs contain missing values. Dropping rows with missing observations.\n",
      "  warnings.warn(missing_value_warning_msg, MissingValueWarning)\n"
     ]
    },
    {
     "name": "stdout",
     "output_type": "stream",
     "text": [
      "                          PanelOLS Estimation Summary                           \n",
      "================================================================================\n",
      "Dep. Variable:            UPT_ADJ_log   R-squared:                        0.6713\n",
      "Estimator:                   PanelOLS   R-squared (Between):              0.9969\n",
      "No. Observations:                4172   R-squared (Within):               0.6713\n",
      "Date:                Tue, Dec 17 2019   R-squared (Overall):              0.9969\n",
      "Time:                        19:11:28   Log-likelihood                    1026.0\n",
      "Cov. Estimator:            Unadjusted                                           \n",
      "                                        F-statistic:                      496.04\n",
      "Entities:                         270   P-value                           0.0000\n",
      "Avg Obs:                       15.452   Distribution:                 F(16,3886)\n",
      "Min Obs:                       3.0000                                           \n",
      "Max Obs:                       17.000   F-statistic (robust):             496.04\n",
      "                                        P-value                           0.0000\n",
      "Time periods:                      17   Distribution:                 F(16,3886)\n",
      "Avg Obs:                       245.41                                           \n",
      "Min Obs:                       179.00                                           \n",
      "Max Obs:                       269.00                                           \n",
      "                                                                                \n",
      "                                      Parameter Estimates                                       \n",
      "================================================================================================\n",
      "                              Parameter  Std. Err.     T-stat    P-value    Lower CI    Upper CI\n",
      "------------------------------------------------------------------------------------------------\n",
      "VRM_ADJ_log                      0.8332     0.0119     70.268     0.0000      0.8099      0.8564\n",
      "FARE_per_UPT_2018_log           -0.5904     0.0191    -30.930     0.0000     -0.6278     -0.5530\n",
      "POP_EMP_log                      0.3773     0.0611     6.1795     0.0000      0.2576      0.4970\n",
      "GAS_PRICE_2018_log               0.1755     0.0279     6.2869     0.0000      0.1208      0.2302\n",
      "TOTAL_MED_INC_INDIV_2018_log    -0.2743     0.0564    -4.8627     0.0000     -0.3849     -0.1637\n",
      "PCT_HH_NO_VEH                    0.0068     0.0031     2.1719     0.0299      0.0007      0.0129\n",
      "TSD_POP_PCT                      0.0054     0.0016     3.3661     0.0008      0.0023      0.0086\n",
      "JTW_HOME_PCT                    -0.0029     0.0042    -0.6837     0.4942     -0.0112      0.0054\n",
      "YEARS_SINCE_TNC_BUS2_HINY       -0.0068     0.0068    -0.9887     0.3229     -0.0202      0.0066\n",
      "YEARS_SINCE_TNC_BUS2_MIDLOW     -0.0289     0.0039    -7.3607     0.0000     -0.0366     -0.0212\n",
      "YEARS_SINCE_TNC_RAIL2_HINY       0.0035     0.0069     0.5152     0.6065     -0.0099      0.0170\n",
      "YEARS_SINCE_TNC_RAIL2_MIDLOW    -0.0277     0.0079    -3.5222     0.0004     -0.0432     -0.0123\n",
      "BIKE_SHARE_HINY                 -0.0212     0.0287    -0.7391     0.4599     -0.0774      0.0350\n",
      "BIKE_SHARE_MIDLOW                0.0246     0.0156     1.5758     0.1152     -0.0060      0.0551\n",
      "scooter_flag_HINY               -0.0702     0.0433    -1.6220     0.1049     -0.1551      0.0147\n",
      "scooter_flag_MIDLOW             -0.0385     0.0351    -1.0968     0.2728     -0.1073      0.0303\n",
      "================================================================================================\n",
      "\n",
      "F-test for Poolability: 93.959\n",
      "P-value: 0.0000\n",
      "Distribution: F(269,3886)\n",
      "\n",
      "Included effects: Entity\n"
     ]
    }
   ],
   "source": [
    "# TNC segmentation\n",
    "\n",
    "mod=PanelOLS.from_formula('UPT_ADJ_log \\\n",
    "                    ~ VRM_ADJ_log \\\n",
    "                    + FARE_per_UPT_2018_log \\\n",
    "                    + POP_EMP_log \\\n",
    "                    + GAS_PRICE_2018_log \\\n",
    "                    + TOTAL_MED_INC_INDIV_2018_log \\\n",
    "                    + PCT_HH_NO_VEH \\\n",
    "                    + TSD_POP_PCT \\\n",
    "                    + JTW_HOME_PCT \\\n",
    "                    + YEARS_SINCE_TNC_BUS2_HINY \\\n",
    "                    + YEARS_SINCE_TNC_BUS2_MIDLOW \\\n",
    "                    + YEARS_SINCE_TNC_RAIL2_HINY \\\n",
    "                    + YEARS_SINCE_TNC_RAIL2_MIDLOW \\\n",
    "                    + BIKE_SHARE_HINY \\\n",
    "                    + BIKE_SHARE_MIDLOW \\\n",
    "                    + scooter_flag_HINY \\\n",
    "                    + scooter_flag_MIDLOW \\\n",
    "                    + EntityEffects \\\n",
    "                    ',data=df)\n",
    "res=mod.fit()\n",
    "print(res)"
   ]
  },
  {
   "cell_type": "code",
   "execution_count": null,
   "metadata": {
    "collapsed": true
   },
   "outputs": [],
   "source": []
  },
  {
   "cell_type": "markdown",
   "metadata": {},
   "source": [
    "## Run some analytics"
   ]
  },
  {
   "cell_type": "code",
   "execution_count": 94,
   "metadata": {
    "collapsed": false
   },
   "outputs": [
    {
     "name": "stderr",
     "output_type": "stream",
     "text": [
      "C:\\Program Files\\Anaconda3\\lib\\site-packages\\linearmodels\\panel\\data.py:39: FutureWarning: \n",
      "Passing list-likes to .loc or [] with any missing label will raise\n",
      "KeyError in the future, you can use .reindex() as an alternative.\n",
      "\n",
      "See the documentation here:\n",
      "https://pandas.pydata.org/pandas-docs/stable/indexing.html#deprecate-loc-reindex-listlike\n",
      "  new_df = df.copy().loc[self._full_index]\n",
      "C:\\Program Files\\Anaconda3\\lib\\site-packages\\linearmodels\\utility.py:476: MissingValueWarning: \n",
      "Inputs contain missing values. Dropping rows with missing observations.\n",
      "  warnings.warn(missing_value_warning_msg, MissingValueWarning)\n"
     ]
    },
    {
     "name": "stdout",
     "output_type": "stream",
     "text": [
      "                          PanelOLS Estimation Summary                           \n",
      "================================================================================\n",
      "Dep. Variable:            UPT_ADJ_log   R-squared:                        0.6711\n",
      "Estimator:                   PanelOLS   R-squared (Between):              0.9968\n",
      "No. Observations:                4172   R-squared (Within):               0.6711\n",
      "Date:                Tue, Dec 17 2019   R-squared (Overall):              0.9967\n",
      "Time:                        16:48:03   Log-likelihood                    1024.8\n",
      "Cov. Estimator:            Unadjusted                                           \n",
      "                                        F-statistic:                      566.71\n",
      "Entities:                         270   P-value                           0.0000\n",
      "Avg Obs:                       15.452   Distribution:                 F(14,3888)\n",
      "Min Obs:                       3.0000                                           \n",
      "Max Obs:                       17.000   F-statistic (robust):             566.71\n",
      "                                        P-value                           0.0000\n",
      "Time periods:                      17   Distribution:                 F(14,3888)\n",
      "Avg Obs:                       245.41                                           \n",
      "Min Obs:                       179.00                                           \n",
      "Max Obs:                       269.00                                           \n",
      "                                                                                \n",
      "                                      Parameter Estimates                                       \n",
      "================================================================================================\n",
      "                              Parameter  Std. Err.     T-stat    P-value    Lower CI    Upper CI\n",
      "------------------------------------------------------------------------------------------------\n",
      "VRM_ADJ_log                      0.8328     0.0119     70.253     0.0000      0.8096      0.8561\n",
      "FARE_per_UPT_2018_log           -0.5910     0.0191    -30.965     0.0000     -0.6284     -0.5535\n",
      "POP_EMP_log                      0.3767     0.0610     6.1729     0.0000      0.2570      0.4963\n",
      "GAS_PRICE_2018_log               0.1762     0.0279     6.3135     0.0000      0.1215      0.2309\n",
      "TOTAL_MED_INC_INDIV_2018_log    -0.2753     0.0564    -4.8812     0.0000     -0.3858     -0.1647\n",
      "PCT_HH_NO_VEH                    0.0069     0.0031     2.2023     0.0277      0.0008      0.0130\n",
      "TSD_POP_PCT                      0.0055     0.0016     3.3940     0.0007      0.0023      0.0086\n",
      "JTW_HOME_PCT                    -0.0030     0.0042    -0.7111     0.4771     -0.0113      0.0053\n",
      "YEARS_SINCE_TNC_BUS2_HINY       -0.0129     0.0054    -2.3802     0.0174     -0.0236     -0.0023\n",
      "YEARS_SINCE_TNC_BUS2_MIDLOW     -0.0274     0.0038    -7.2201     0.0000     -0.0348     -0.0200\n",
      "YEARS_SINCE_TNC_RAIL2_HINY      -0.0026     0.0055    -0.4671     0.6405     -0.0134      0.0082\n",
      "YEARS_SINCE_TNC_RAIL2_MIDLOW    -0.0258     0.0078    -3.3273     0.0009     -0.0410     -0.0106\n",
      "BIKE_SHARE                       0.0146     0.0137     1.0674     0.2859     -0.0123      0.0416\n",
      "scooter_flag                    -0.0484     0.0273    -1.7702     0.0768     -0.1020      0.0052\n",
      "================================================================================================\n",
      "\n",
      "F-test for Poolability: 94.066\n",
      "P-value: 0.0000\n",
      "Distribution: F(269,3888)\n",
      "\n",
      "Included effects: Entity\n"
     ]
    }
   ],
   "source": [
    "# 7.4 Specification\n",
    "\n",
    "mod=PanelOLS.from_formula('UPT_ADJ_log \\\n",
    "                    ~ VRM_ADJ_log \\\n",
    "                    + FARE_per_UPT_2018_log \\\n",
    "                    + POP_EMP_log \\\n",
    "                    + GAS_PRICE_2018_log \\\n",
    "                    + TOTAL_MED_INC_INDIV_2018_log \\\n",
    "                    + PCT_HH_NO_VEH \\\n",
    "                    + TSD_POP_PCT \\\n",
    "                    + JTW_HOME_PCT \\\n",
    "                    + YEARS_SINCE_TNC_BUS2_HINY \\\n",
    "                    + YEARS_SINCE_TNC_BUS2_MIDLOW \\\n",
    "                    + YEARS_SINCE_TNC_RAIL2_HINY \\\n",
    "                    + YEARS_SINCE_TNC_RAIL2_MIDLOW \\\n",
    "                    + BIKE_SHARE \\\n",
    "                    + scooter_flag \\\n",
    "                    + EntityEffects \\\n",
    "                    ',data=df)\n",
    "res=mod.fit()\n",
    "print(res)"
   ]
  },
  {
   "cell_type": "code",
   "execution_count": 75,
   "metadata": {
    "collapsed": false
   },
   "outputs": [
    {
     "name": "stderr",
     "output_type": "stream",
     "text": [
      "C:\\Program Files\\Anaconda3\\lib\\site-packages\\linearmodels\\panel\\data.py:39: FutureWarning: \n",
      "Passing list-likes to .loc or [] with any missing label will raise\n",
      "KeyError in the future, you can use .reindex() as an alternative.\n",
      "\n",
      "See the documentation here:\n",
      "https://pandas.pydata.org/pandas-docs/stable/indexing.html#deprecate-loc-reindex-listlike\n",
      "  new_df = df.copy().loc[self._full_index]\n",
      "C:\\Program Files\\Anaconda3\\lib\\site-packages\\linearmodels\\utility.py:476: MissingValueWarning: \n",
      "Inputs contain missing values. Dropping rows with missing observations.\n",
      "  warnings.warn(missing_value_warning_msg, MissingValueWarning)\n"
     ]
    },
    {
     "name": "stdout",
     "output_type": "stream",
     "text": [
      "                          PanelOLS Estimation Summary                           \n",
      "================================================================================\n",
      "Dep. Variable:            UPT_ADJ_log   R-squared:                        0.6711\n",
      "Estimator:                   PanelOLS   R-squared (Between):              0.9968\n",
      "No. Observations:                4172   R-squared (Within):               0.6711\n",
      "Date:                Tue, Dec 17 2019   R-squared (Overall):              0.9967\n",
      "Time:                        19:12:46   Log-likelihood                    1024.8\n",
      "Cov. Estimator:            Unadjusted                                           \n",
      "                                        F-statistic:                      566.71\n",
      "Entities:                         270   P-value                           0.0000\n",
      "Avg Obs:                       15.452   Distribution:                 F(14,3888)\n",
      "Min Obs:                       3.0000                                           \n",
      "Max Obs:                       17.000   F-statistic (robust):             566.71\n",
      "                                        P-value                           0.0000\n",
      "Time periods:                      17   Distribution:                 F(14,3888)\n",
      "Avg Obs:                       245.41                                           \n",
      "Min Obs:                       179.00                                           \n",
      "Max Obs:                       269.00                                           \n",
      "                                                                                \n",
      "                                      Parameter Estimates                                       \n",
      "================================================================================================\n",
      "                              Parameter  Std. Err.     T-stat    P-value    Lower CI    Upper CI\n",
      "------------------------------------------------------------------------------------------------\n",
      "VRM_ADJ_log                      0.8328     0.0119     70.253     0.0000      0.8096      0.8561\n",
      "FARE_per_UPT_2018_log           -0.5910     0.0191    -30.965     0.0000     -0.6284     -0.5535\n",
      "POP_EMP_log                      0.3767     0.0610     6.1729     0.0000      0.2570      0.4963\n",
      "TSD_POP_PCT                      0.0055     0.0016     3.3940     0.0007      0.0023      0.0086\n",
      "GAS_PRICE_2018_log               0.1762     0.0279     6.3135     0.0000      0.1215      0.2309\n",
      "TOTAL_MED_INC_INDIV_2018_log    -0.2753     0.0564    -4.8812     0.0000     -0.3858     -0.1647\n",
      "PCT_HH_NO_VEH                    0.0069     0.0031     2.2023     0.0277      0.0008      0.0130\n",
      "JTW_HOME_PCT                    -0.0030     0.0042    -0.7111     0.4771     -0.0113      0.0053\n",
      "YEARS_SINCE_TNC_BUS2_HINY       -0.0129     0.0054    -2.3802     0.0174     -0.0236     -0.0023\n",
      "YEARS_SINCE_TNC_BUS2_MIDLOW     -0.0274     0.0038    -7.2201     0.0000     -0.0348     -0.0200\n",
      "YEARS_SINCE_TNC_RAIL2_HINY      -0.0026     0.0055    -0.4671     0.6405     -0.0134      0.0082\n",
      "YEARS_SINCE_TNC_RAIL2_MIDLOW    -0.0258     0.0078    -3.3273     0.0009     -0.0410     -0.0106\n",
      "BIKE_SHARE                       0.0146     0.0137     1.0674     0.2859     -0.0123      0.0416\n",
      "scooter_flag                    -0.0484     0.0273    -1.7702     0.0768     -0.1020      0.0052\n",
      "================================================================================================\n",
      "\n",
      "F-test for Poolability: 94.066\n",
      "P-value: 0.0000\n",
      "Distribution: F(269,3888)\n",
      "\n",
      "Included effects: Entity\n"
     ]
    }
   ],
   "source": [
    "# 7.4 Specification with different order. \n",
    "\n",
    "mod=PanelOLS.from_formula('UPT_ADJ_log \\\n",
    "                    ~ VRM_ADJ_log \\\n",
    "                    + FARE_per_UPT_2018_log \\\n",
    "                    + POP_EMP_log \\\n",
    "                    + TSD_POP_PCT \\\n",
    "                    + GAS_PRICE_2018_log \\\n",
    "                    + TOTAL_MED_INC_INDIV_2018_log \\\n",
    "                    + PCT_HH_NO_VEH \\\n",
    "                    + JTW_HOME_PCT \\\n",
    "                    + YEARS_SINCE_TNC_BUS2_HINY \\\n",
    "                    + YEARS_SINCE_TNC_BUS2_MIDLOW \\\n",
    "                    + YEARS_SINCE_TNC_RAIL2_HINY \\\n",
    "                    + YEARS_SINCE_TNC_RAIL2_MIDLOW \\\n",
    "                    + BIKE_SHARE \\\n",
    "                    + scooter_flag \\\n",
    "                    + EntityEffects \\\n",
    "                    ',data=df)\n",
    "res=mod.fit()\n",
    "print(res)"
   ]
  },
  {
   "cell_type": "code",
   "execution_count": 95,
   "metadata": {
    "collapsed": false
   },
   "outputs": [
    {
     "data": {
      "text/plain": [
       "<matplotlib.axes._subplots.AxesSubplot at 0x48469e7470>"
      ]
     },
     "execution_count": 95,
     "metadata": {},
     "output_type": "execute_result"
    },
    {
     "data": {
      "image/png": "[encoded data removed]",
      "text/plain": [
       "<matplotlib.figure.Figure at 0x484690b160>"
      ]
     },
     "metadata": {},
     "output_type": "display_data"
    }
   ],
   "source": [
    "sns.distplot(res.resids)"
   ]
  },
  {
   "cell_type": "code",
   "execution_count": 96,
   "metadata": {
    "collapsed": false
   },
   "outputs": [
    {
     "data": {
      "image/png": "[encoded data removed]",
      "text/plain": [
       "<matplotlib.figure.Figure at 0x48465d77b8>"
      ]
     },
     "execution_count": 96,
     "metadata": {},
     "output_type": "execute_result"
    },
    {
     "data": {
      "image/png": "[encoded data removed]",
      "text/plain": [
       "<matplotlib.figure.Figure at 0x48465d77b8>"
      ]
     },
     "metadata": {},
     "output_type": "display_data"
    }
   ],
   "source": [
    "sm.graphics.qqplot(res.resids,line = 'q')"
   ]
  },
  {
   "cell_type": "code",
   "execution_count": null,
   "metadata": {
    "collapsed": true
   },
   "outputs": [],
   "source": []
  },
  {
   "cell_type": "code",
   "execution_count": null,
   "metadata": {
    "collapsed": true
   },
   "outputs": [],
   "source": []
  },
  {
   "cell_type": "code",
   "execution_count": null,
   "metadata": {
    "collapsed": true
   },
   "outputs": [],
   "source": []
  },
  {
   "cell_type": "markdown",
   "metadata": {},
   "source": [
    "## Calculate FAC"
   ]
  },
  {
   "cell_type": "code",
   "execution_count": 97,
   "metadata": {
    "collapsed": true
   },
   "outputs": [],
   "source": [
    "# keep the relevant fields in the data set\n",
    "app_data = pd.concat([df[['RAIL_FLAG', 'CLUSTER_APTA']], \n",
    "                      res.model.dependent.dataframe, \n",
    "                      res.model.exog.dataframe, \n",
    "                      res.estimated_effects, \n",
    "                      res.resids], axis=1)\n"
   ]
  },
  {
   "cell_type": "code",
   "execution_count": 98,
   "metadata": {
    "collapsed": false
   },
   "outputs": [
    {
     "data": {
      "text/html": [
       "<div>\n",
       "<style scoped>\n",
       "    .dataframe tbody tr th:only-of-type {\n",
       "        vertical-align: middle;\n",
       "    }\n",
       "\n",
       "    .dataframe tbody tr th {\n",
       "        vertical-align: top;\n",
       "    }\n",
       "\n",
       "    .dataframe thead th {\n",
       "        text-align: right;\n",
       "    }\n",
       "</style>\n",
       "<table border=\"1\" class=\"dataframe\">\n",
       "  <thead>\n",
       "    <tr style=\"text-align: right;\">\n",
       "      <th></th>\n",
       "      <th></th>\n",
       "      <th>RAIL_FLAG</th>\n",
       "      <th>CLUSTER_APTA</th>\n",
       "      <th>UPT_ADJ_log</th>\n",
       "      <th>VRM_ADJ_log</th>\n",
       "      <th>FARE_per_UPT_2018_log</th>\n",
       "      <th>POP_EMP_log</th>\n",
       "      <th>GAS_PRICE_2018_log</th>\n",
       "      <th>TOTAL_MED_INC_INDIV_2018_log</th>\n",
       "      <th>PCT_HH_NO_VEH</th>\n",
       "      <th>TSD_POP_PCT</th>\n",
       "      <th>JTW_HOME_PCT</th>\n",
       "      <th>YEARS_SINCE_TNC_BUS2_HINY</th>\n",
       "      <th>YEARS_SINCE_TNC_BUS2_MIDLOW</th>\n",
       "      <th>YEARS_SINCE_TNC_RAIL2_HINY</th>\n",
       "      <th>YEARS_SINCE_TNC_RAIL2_MIDLOW</th>\n",
       "      <th>BIKE_SHARE</th>\n",
       "      <th>scooter_flag</th>\n",
       "      <th>effects</th>\n",
       "      <th>residual</th>\n",
       "    </tr>\n",
       "  </thead>\n",
       "  <tbody>\n",
       "    <tr>\n",
       "      <th rowspan=\"5\" valign=\"top\">Akron, OH Metro Area-Bus</th>\n",
       "      <th>2002</th>\n",
       "      <td>0</td>\n",
       "      <td>24</td>\n",
       "      <td>15.469231</td>\n",
       "      <td>15.208377</td>\n",
       "      <td>0.148254</td>\n",
       "      <td>13.808216</td>\n",
       "      <td>1.066089</td>\n",
       "      <td>10.479210</td>\n",
       "      <td>8.60</td>\n",
       "      <td>18.525984</td>\n",
       "      <td>3.1</td>\n",
       "      <td>0.0</td>\n",
       "      <td>0.0</td>\n",
       "      <td>0.0</td>\n",
       "      <td>0.0</td>\n",
       "      <td>0.0</td>\n",
       "      <td>0.0</td>\n",
       "      <td>0.478562</td>\n",
       "      <td>-0.243245</td>\n",
       "    </tr>\n",
       "    <tr>\n",
       "      <th>2003</th>\n",
       "      <td>0</td>\n",
       "      <td>24</td>\n",
       "      <td>15.501150</td>\n",
       "      <td>15.195930</td>\n",
       "      <td>0.462904</td>\n",
       "      <td>13.823451</td>\n",
       "      <td>1.138954</td>\n",
       "      <td>10.446267</td>\n",
       "      <td>8.20</td>\n",
       "      <td>18.076969</td>\n",
       "      <td>3.1</td>\n",
       "      <td>0.0</td>\n",
       "      <td>0.0</td>\n",
       "      <td>0.0</td>\n",
       "      <td>0.0</td>\n",
       "      <td>0.0</td>\n",
       "      <td>0.0</td>\n",
       "      <td>0.478562</td>\n",
       "      <td>-0.037458</td>\n",
       "    </tr>\n",
       "    <tr>\n",
       "      <th>2004</th>\n",
       "      <td>0</td>\n",
       "      <td>24</td>\n",
       "      <td>15.591676</td>\n",
       "      <td>15.277699</td>\n",
       "      <td>0.414204</td>\n",
       "      <td>13.839439</td>\n",
       "      <td>1.233697</td>\n",
       "      <td>10.403980</td>\n",
       "      <td>7.79</td>\n",
       "      <td>17.637662</td>\n",
       "      <td>3.1</td>\n",
       "      <td>0.0</td>\n",
       "      <td>0.0</td>\n",
       "      <td>0.0</td>\n",
       "      <td>0.0</td>\n",
       "      <td>0.0</td>\n",
       "      <td>0.0</td>\n",
       "      <td>0.478562</td>\n",
       "      <td>-0.072950</td>\n",
       "    </tr>\n",
       "    <tr>\n",
       "      <th>2005</th>\n",
       "      <td>0</td>\n",
       "      <td>24</td>\n",
       "      <td>15.609548</td>\n",
       "      <td>15.214971</td>\n",
       "      <td>0.460804</td>\n",
       "      <td>13.857195</td>\n",
       "      <td>1.361617</td>\n",
       "      <td>10.365663</td>\n",
       "      <td>7.47</td>\n",
       "      <td>17.243546</td>\n",
       "      <td>3.1</td>\n",
       "      <td>0.0</td>\n",
       "      <td>0.0</td>\n",
       "      <td>0.0</td>\n",
       "      <td>0.0</td>\n",
       "      <td>0.0</td>\n",
       "      <td>0.0</td>\n",
       "      <td>0.478562</td>\n",
       "      <td>-0.010719</td>\n",
       "    </tr>\n",
       "    <tr>\n",
       "      <th>2006</th>\n",
       "      <td>0</td>\n",
       "      <td>24</td>\n",
       "      <td>15.619001</td>\n",
       "      <td>15.200501</td>\n",
       "      <td>0.462420</td>\n",
       "      <td>13.879496</td>\n",
       "      <td>1.429114</td>\n",
       "      <td>10.305856</td>\n",
       "      <td>6.85</td>\n",
       "      <td>16.754287</td>\n",
       "      <td>2.5</td>\n",
       "      <td>0.0</td>\n",
       "      <td>0.0</td>\n",
       "      <td>0.0</td>\n",
       "      <td>0.0</td>\n",
       "      <td>0.0</td>\n",
       "      <td>0.0</td>\n",
       "      <td>0.478562</td>\n",
       "      <td>-0.019880</td>\n",
       "    </tr>\n",
       "  </tbody>\n",
       "</table>\n",
       "</div>"
      ],
      "text/plain": [
       "                               RAIL_FLAG  CLUSTER_APTA  UPT_ADJ_log  \\\n",
       "Akron, OH Metro Area-Bus 2002          0            24    15.469231   \n",
       "                         2003          0            24    15.501150   \n",
       "                         2004          0            24    15.591676   \n",
       "                         2005          0            24    15.609548   \n",
       "                         2006          0            24    15.619001   \n",
       "\n",
       "                               VRM_ADJ_log  FARE_per_UPT_2018_log  \\\n",
       "Akron, OH Metro Area-Bus 2002    15.208377               0.148254   \n",
       "                         2003    15.195930               0.462904   \n",
       "                         2004    15.277699               0.414204   \n",
       "                         2005    15.214971               0.460804   \n",
       "                         2006    15.200501               0.462420   \n",
       "\n",
       "                               POP_EMP_log  GAS_PRICE_2018_log  \\\n",
       "Akron, OH Metro Area-Bus 2002    13.808216            1.066089   \n",
       "                         2003    13.823451            1.138954   \n",
       "                         2004    13.839439            1.233697   \n",
       "                         2005    13.857195            1.361617   \n",
       "                         2006    13.879496            1.429114   \n",
       "\n",
       "                               TOTAL_MED_INC_INDIV_2018_log  PCT_HH_NO_VEH  \\\n",
       "Akron, OH Metro Area-Bus 2002                     10.479210           8.60   \n",
       "                         2003                     10.446267           8.20   \n",
       "                         2004                     10.403980           7.79   \n",
       "                         2005                     10.365663           7.47   \n",
       "                         2006                     10.305856           6.85   \n",
       "\n",
       "                               TSD_POP_PCT  JTW_HOME_PCT  \\\n",
       "Akron, OH Metro Area-Bus 2002    18.525984           3.1   \n",
       "                         2003    18.076969           3.1   \n",
       "                         2004    17.637662           3.1   \n",
       "                         2005    17.243546           3.1   \n",
       "                         2006    16.754287           2.5   \n",
       "\n",
       "                               YEARS_SINCE_TNC_BUS2_HINY  \\\n",
       "Akron, OH Metro Area-Bus 2002                        0.0   \n",
       "                         2003                        0.0   \n",
       "                         2004                        0.0   \n",
       "                         2005                        0.0   \n",
       "                         2006                        0.0   \n",
       "\n",
       "                               YEARS_SINCE_TNC_BUS2_MIDLOW  \\\n",
       "Akron, OH Metro Area-Bus 2002                          0.0   \n",
       "                         2003                          0.0   \n",
       "                         2004                          0.0   \n",
       "                         2005                          0.0   \n",
       "                         2006                          0.0   \n",
       "\n",
       "                               YEARS_SINCE_TNC_RAIL2_HINY  \\\n",
       "Akron, OH Metro Area-Bus 2002                         0.0   \n",
       "                         2003                         0.0   \n",
       "                         2004                         0.0   \n",
       "                         2005                         0.0   \n",
       "                         2006                         0.0   \n",
       "\n",
       "                               YEARS_SINCE_TNC_RAIL2_MIDLOW  BIKE_SHARE  \\\n",
       "Akron, OH Metro Area-Bus 2002                           0.0         0.0   \n",
       "                         2003                           0.0         0.0   \n",
       "                         2004                           0.0         0.0   \n",
       "                         2005                           0.0         0.0   \n",
       "                         2006                           0.0         0.0   \n",
       "\n",
       "                               scooter_flag   effects  residual  \n",
       "Akron, OH Metro Area-Bus 2002           0.0  0.478562 -0.243245  \n",
       "                         2003           0.0  0.478562 -0.037458  \n",
       "                         2004           0.0  0.478562 -0.072950  \n",
       "                         2005           0.0  0.478562 -0.010719  \n",
       "                         2006           0.0  0.478562 -0.019880  "
      ]
     },
     "execution_count": 98,
     "metadata": {},
     "output_type": "execute_result"
    }
   ],
   "source": [
    "app_data.head()"
   ]
  },
  {
   "cell_type": "code",
   "execution_count": 99,
   "metadata": {
    "collapsed": true
   },
   "outputs": [],
   "source": [
    "# calculate the fitted values\n",
    "app_data['fitted'] = app_data['effects']\n",
    "for var in res.params.keys(): \n",
    "    app_data['fitted'] = app_data['fitted'] + (res.params[var] * app_data[var])\n",
    "\n",
    "# and check that we add up correctly\n",
    "app_data['check_fitted'] = app_data['fitted'] + app_data['residual'] - app_data['UPT_ADJ_log']"
   ]
  },
  {
   "cell_type": "code",
   "execution_count": 100,
   "metadata": {
    "collapsed": true
   },
   "outputs": [],
   "source": [
    "# create the necessary columns\n",
    "\n",
    "# dependents\n",
    "app_data['UPT_ADJ']    = np.exp(app_data['UPT_ADJ_log']) - 1\n",
    "app_data['fitted_exp'] = np.exp(app_data['fitted']) - 1\n",
    "\n",
    "# linear versions of logged variables\n",
    "for var in res.params.keys(): \n",
    "    if '_log' in var: \n",
    "        app_data[var.replace('_log', '')] = np.exp(app_data[var]) - 1              \n",
    "\n",
    "# ratios and differences\n",
    "for var in res.params.keys(): \n",
    "    if '_log' in var: \n",
    "        app_data[var.replace('_log', '_ratio')] = 1\n",
    "    else: \n",
    "        app_data[var+'_diff'] = 0\n",
    "\n",
    "# FAC multipliers\n",
    "for var in res.params.keys(): \n",
    "    app_data[var+'_FAC_ratio'] = 1\n",
    "\n",
    "app_data['UPT_ADJ_base'] = 0\n",
    "app_data['UPT_ADJ_ratio'] = 1\n",
    "app_data['fitted_exp_ratio'] = 1\n",
    "app_data['UPT_ADJ_diff'] = 0\n",
    "app_data['fitted_exp_diff'] = 0\n",
    "\n",
    "# for tracking new systems\n",
    "app_data['UPT_ADJ_first_year'] = 0\n",
    "app_data['UPT_ADJ_new_reporter'] = 0\n"
   ]
  },
  {
   "cell_type": "code",
   "execution_count": 101,
   "metadata": {
    "collapsed": true
   },
   "outputs": [],
   "source": [
    "# get the ridership in the first year the system starts. This allows us to track new systems. \n",
    "# calculate the FAC relative to a specific base year\n",
    "ids = app_data.index.get_level_values(0).unique()\n",
    "\n",
    "for id in ids: \n",
    "    years = app_data.loc[id].index.get_level_values(0).sort_values()\n",
    "    first_year = years[0]\n",
    "\n",
    "    app_data.loc[(id,first_year),'UPT_ADJ_new_reporter'] = app_data.loc[(id,first_year),'UPT_ADJ']\n",
    "    \n",
    "    for year in years: \n",
    "        app_data.loc[(id,year),'UPT_ADJ_first_year']   = app_data.loc[(id,first_year),'UPT_ADJ']\n"
   ]
  },
  {
   "cell_type": "code",
   "execution_count": 102,
   "metadata": {
    "collapsed": true
   },
   "outputs": [],
   "source": [
    "app_data.to_csv('temp.csv')"
   ]
  },
  {
   "cell_type": "code",
   "execution_count": 103,
   "metadata": {
    "collapsed": false
   },
   "outputs": [
    {
     "name": "stderr",
     "output_type": "stream",
     "text": [
      "C:\\Program Files\\Anaconda3\\lib\\site-packages\\ipykernel\\__main__.py:15: RuntimeWarning: divide by zero encountered in double_scalars\n",
      "C:\\Program Files\\Anaconda3\\lib\\site-packages\\ipykernel\\__main__.py:15: RuntimeWarning: invalid value encountered in double_scalars\n"
     ]
    }
   ],
   "source": [
    "# calculate the FAC relative to a specific base year\n",
    "ids = app_data.index.get_level_values(0).unique()\n",
    "\n",
    "for id in ids: \n",
    "    years = app_data.loc[id].index.get_level_values(0).sort_values()\n",
    "\n",
    "    for year in years[1:]:       \n",
    "        base_year = year-1\n",
    "        \n",
    "        for var in res.params.keys(): \n",
    "            # ratios and differences\n",
    "            if '_log' in var: \n",
    "                out_var = var.replace('_log', '_ratio')\n",
    "                app_data.loc[(id,year), out_var] = (app_data.loc[(id,year), var] \n",
    "                                                 / app_data.loc[(id,base_year), var])\n",
    "            else: \n",
    "                out_var = var+'_diff'                    \n",
    "                app_data.loc[(id,year), out_var] = (app_data.loc[(id,year), var] \n",
    "                                                 - app_data.loc[(id,base_year), var])\n",
    "\n",
    "            # FAC multipliers\n",
    "            app_data.loc[(id,year),var+'_FAC_ratio'] = np.exp(res.params[var] * (\n",
    "                                                    app_data.loc[(id,year), var] \n",
    "                                                    - app_data.loc[(id,base_year), var]))\n",
    "\n",
    "            # estimated effects (if time effects is zero, no change)\n",
    "            app_data.loc[(id,year),'effects_FAC_ratio'] = np.exp(\n",
    "                                                    app_data.loc[(id,year), 'effects'] \n",
    "                                                    - app_data.loc[(id,base_year), 'effects'])\n",
    "\n",
    "            # residual\n",
    "            app_data.loc[(id,year),'residual_FAC_ratio'] = np.exp(\n",
    "                                                    app_data.loc[(id,year), 'residual'] \n",
    "                                                    - app_data.loc[(id,base_year), 'residual'])\n",
    "\n",
    "        # observed and fitted changes            \n",
    "        app_data.loc[(id,year),'UPT_ADJ_base'] = app_data.loc[(id,base_year),'UPT_ADJ']\n",
    "        app_data.loc[(id,year),'UPT_ADJ_ratio'] = (app_data.loc[(id,year),'UPT_ADJ'] \n",
    "                                                 / app_data.loc[(id,base_year),'UPT_ADJ'])\n",
    "        app_data.loc[(id,year),'fitted_exp_ratio'] = (app_data.loc[(id,year),'fitted_exp'] \n",
    "                                                 / app_data.loc[(id,base_year),'fitted_exp'])\n",
    "\n",
    "        app_data.loc[(id,year),'UPT_ADJ_diff'] = (app_data.loc[(id,year),'UPT_ADJ'] \n",
    "                                                 - app_data.loc[(id,base_year),'UPT_ADJ'])\n",
    "        app_data.loc[(id,year),'fitted_exp_diff'] = (app_data.loc[(id,year),'fitted_exp'] \n",
    "                                                 - app_data.loc[(id,base_year),'fitted_exp'])\n",
    "        "
   ]
  },
  {
   "cell_type": "code",
   "execution_count": 104,
   "metadata": {
    "collapsed": true
   },
   "outputs": [],
   "source": [
    "# calculate the FAC\n",
    "app_data['FAC_Sum'] = 0\n",
    "for var in res.params.keys(): \n",
    "    app_data[var+'_FAC'] = (app_data[var+'_FAC_ratio'] - 1) * app_data['UPT_ADJ_base']\n",
    "    app_data['FAC_Sum'] = app_data['FAC_Sum'] + app_data[var+'_FAC']\n"
   ]
  },
  {
   "cell_type": "code",
   "execution_count": 105,
   "metadata": {
    "collapsed": true
   },
   "outputs": [],
   "source": [
    "\n",
    "# total FAC is based on the fitted model (applied multiplicitively)\n",
    "app_data['Known_FAC'] = (app_data['fitted_exp_ratio'] - 1) * app_data['UPT_ADJ_base']\n",
    "\n",
    "# uknown change is the difference between the observed change and the known change\n",
    "app_data['Unknown_FAC'] = app_data['UPT_ADJ_diff'] - app_data['Known_FAC']\n",
    "\n",
    "# the change in ridership associated new systems\n",
    "app_data['New_Reporter_FAC'] = app_data['UPT_ADJ_new_reporter'] \n",
    "\n",
    "# should be teh same as UPT_ADJ_DIFF\n",
    "app_data['Total_Change'] = app_data['Known_FAC'] + app_data['Unknown_FAC'] + app_data['New_Reporter_FAC']\n"
   ]
  },
  {
   "cell_type": "code",
   "execution_count": 106,
   "metadata": {
    "collapsed": true
   },
   "outputs": [],
   "source": [
    "# calculate APTA - 4 groups\n",
    "app_data['CLUSTER_APTA4'] = np.floor(app_data['CLUSTER_APTA']/10)"
   ]
  },
  {
   "cell_type": "code",
   "execution_count": 107,
   "metadata": {
    "collapsed": true
   },
   "outputs": [],
   "source": [
    "# reset the index so I get ID and year\n",
    "app_data = app_data.reset_index()\n",
    "app_data = app_data.rename(columns={'level_0' : 'ID', 'level_1' : 'Year'})\n",
    "app_data.to_csv('FAC.csv')"
   ]
  },
  {
   "cell_type": "code",
   "execution_count": 108,
   "metadata": {
    "collapsed": true
   },
   "outputs": [],
   "source": [
    "# these are the fields we keep\n",
    "out_fields = ['ID', 'Year', 'RAIL_FLAG', \n",
    "              'CLUSTER_APTA', 'CLUSTER_APTA4',    \n",
    "              'UPT_ADJ_first_year', \n",
    "              'UPT_ADJ_base', 'UPT_ADJ', 'UPT_ADJ_diff', \n",
    "              'fitted_exp', 'fitted_exp_diff']\n",
    "\n",
    "# exogenous variables \n",
    "for var in res.params.keys(): \n",
    "    out_var = var.replace('_log', '')\n",
    "    out_fields = out_fields + [out_var]\n",
    "    \n",
    "# FAC\n",
    "for var in res.params.keys(): \n",
    "    out_fields = out_fields + [var+'_FAC']\n",
    "out_fields = out_fields + ['FAC_Sum', 'Known_FAC', 'Unknown_FAC', 'New_Reporter_FAC', 'Total_Change']\n",
    "    \n",
    "# keep those fields\n",
    "summary_data = app_data.reset_index()[out_fields]"
   ]
  },
  {
   "cell_type": "code",
   "execution_count": null,
   "metadata": {
    "collapsed": true
   },
   "outputs": [],
   "source": []
  },
  {
   "cell_type": "code",
   "execution_count": 109,
   "metadata": {
    "collapsed": true
   },
   "outputs": [],
   "source": [
    "# take weighted average of exogenous variables\n",
    "for var in res.params.keys(): \n",
    "    out_var = var.replace('_log', '')\n",
    "    summary_data[out_var] = summary_data[out_var] * summary_data['UPT_ADJ_first_year']\n",
    "\n",
    "# aggregate to bus/rail totals\n",
    "summary_data_apta4 = summary_data.groupby(by=['CLUSTER_APTA4', 'RAIL_FLAG', 'Year']).agg('sum')\n",
    "\n",
    "# divide for weighted averages\n",
    "for var in res.params.keys(): \n",
    "    out_var = var.replace('_log', '')\n",
    "    summary_data_apta4[out_var] = summary_data_apta4[out_var] / summary_data_apta4['UPT_ADJ_first_year']\n",
    "    "
   ]
  },
  {
   "cell_type": "code",
   "execution_count": 110,
   "metadata": {
    "collapsed": true
   },
   "outputs": [],
   "source": [
    "\n",
    "summary_data_apta4.to_csv('FAC_totals_APTA4_CLUSTERS.csv')\n"
   ]
  },
  {
   "cell_type": "code",
   "execution_count": null,
   "metadata": {
    "collapsed": true
   },
   "outputs": [],
   "source": []
  },
  {
   "cell_type": "code",
   "execution_count": 84,
   "metadata": {
    "collapsed": true
   },
   "outputs": [],
   "source": [
    "df.to_csv('temp.csv')"
   ]
  },
  {
   "cell_type": "code",
   "execution_count": null,
   "metadata": {
    "collapsed": true
   },
   "outputs": [],
   "source": []
  }
 ],
 "metadata": {
  "anaconda-cloud": {},
  "kernelspec": {
   "display_name": "Python [default]",
   "language": "python",
   "name": "python3"
  },
  "language_info": {
   "codemirror_mode": {
    "name": "ipython",
    "version": 3
   },
   "file_extension": ".py",
   "mimetype": "text/x-python",
   "name": "python",
   "nbconvert_exporter": "python",
   "pygments_lexer": "ipython3",
   "version": "3.5.6"
  }
 },
 "nbformat": 4,
 "nbformat_minor": 1
}
