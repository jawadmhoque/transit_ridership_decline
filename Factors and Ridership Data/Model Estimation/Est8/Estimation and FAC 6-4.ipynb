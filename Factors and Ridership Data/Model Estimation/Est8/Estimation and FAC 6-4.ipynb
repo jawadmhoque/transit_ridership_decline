{
 "cells": [
  {
   "cell_type": "code",
   "execution_count": 1,
   "metadata": {
    "collapsed": false
   },
   "outputs": [
    {
     "name": "stderr",
     "output_type": "stream",
     "text": [
      "C:\\Program Files\\Anaconda3\\lib\\site-packages\\statsmodels\\compat\\pandas.py:56: FutureWarning: The pandas.core.datetools module is deprecated and will be removed in a future version. Please use the pandas.tseries module instead.\n",
      "  from pandas.core import datetools\n"
     ]
    }
   ],
   "source": [
    "import pandas as pd\n",
    "import seaborn as sns\n",
    "import numpy as np\n",
    "import linearmodels as lm\n",
    "import matplotlib\n",
    "import math\n",
    "import statsmodels.formula.api as smf\n",
    "import statsmodels.api as sm\n",
    "\n",
    "from linearmodels.panel import PanelOLS\n",
    "from linearmodels.panel import RandomEffects\n",
    "from linearmodels.panel import FirstDifferenceOLS\n",
    "from linearmodels.panel import compare\n",
    "from matplotlib import pyplot as plt\n",
    "\n",
    "from pandas.api.types import is_numeric_dtype\n",
    "\n",
    "pd.set_option('display.max_columns', 500)\n",
    "\n",
    "%matplotlib inline"
   ]
  },
  {
   "cell_type": "code",
   "execution_count": 2,
   "metadata": {
    "collapsed": false
   },
   "outputs": [
    {
     "name": "stderr",
     "output_type": "stream",
     "text": [
      "C:\\Program Files\\Anaconda3\\lib\\site-packages\\IPython\\core\\interactiveshell.py:2717: DtypeWarning: Columns (139,140,148) have mixed types. Specify dtype option on import or set low_memory=False.\n",
      "  interactivity=interactivity, compiler=compiler, result=result)\n"
     ]
    }
   ],
   "source": [
    "# read the main data set\n",
    "df=pd.read_csv('estimation_file.csv',\n",
    "                    encoding='utf-8')\n"
   ]
  },
  {
   "cell_type": "code",
   "execution_count": 3,
   "metadata": {
    "collapsed": true
   },
   "outputs": [],
   "source": [
    "# read in and join the maintenance and restructure data\n",
    "mr=pd.read_csv('maintenance_restructure.csv',\n",
    "                    encoding='utf-8')\n",
    "mr = mr[['CBSA', 'Mode', 'Year', 'MAINTENANCE', 'MAINTENANCE_NYC', 'MAINTENANCE_WMATA', 'RESTRUCTURE']]\n",
    "\n",
    "df = df.merge(mr, on=['CBSA', 'Mode', 'Year'], how='left')"
   ]
  },
  {
   "cell_type": "code",
   "execution_count": 4,
   "metadata": {
    "collapsed": true
   },
   "outputs": [],
   "source": [
    "# exclude if ridership is zero--missing data\n",
    "df = df[df['UPT_ADJ']>0]"
   ]
  },
  {
   "cell_type": "code",
   "execution_count": 5,
   "metadata": {
    "collapsed": false
   },
   "outputs": [
    {
     "name": "stdout",
     "output_type": "stream",
     "text": [
      "Excluding 3 records with missing VRM\n",
      "Excluding 108 records with zero or negative fare\n",
      "Excluding 66 records with fare greater than $20\n",
      "Excluding 27 records with negative 0 veh HH\n"
     ]
    }
   ],
   "source": [
    "# exclude problematic data\n",
    "old_len = len(df)\n",
    "df = df[df['VRM_ADJ']>0]\n",
    "new_len = len(df)\n",
    "print('Excluding ' + str(old_len-new_len) + ' records with missing VRM') \n",
    "\n",
    "# exclude problematic data\n",
    "old_len = len(df)\n",
    "df = df[df['FARE_per_UPT_2018']>0]\n",
    "new_len = len(df)\n",
    "print('Excluding ' + str(old_len-new_len) + ' records with zero or negative fare') \n",
    "\n",
    "# exclude problematic data\n",
    "old_len = len(df)\n",
    "df = df[df['FARE_per_UPT_2018']<20]\n",
    "new_len = len(df)\n",
    "print('Excluding ' + str(old_len-new_len) + ' records with fare greater than $20') \n",
    "\n",
    "# exclude problematic data\n",
    "old_len = len(df)\n",
    "df = df[df['HH_0Veh']>0]\n",
    "new_len = len(df)\n",
    "print('Excluding ' + str(old_len-new_len) + ' records with negative 0 veh HH') \n"
   ]
  },
  {
   "cell_type": "code",
   "execution_count": 6,
   "metadata": {
    "collapsed": false
   },
   "outputs": [
    {
     "name": "stdout",
     "output_type": "stream",
     "text": [
      "Excluding 28 records with discontinuities in year.\n",
      "Excluding 23 records with discontinuities in year.\n",
      "Excluding 19 records with discontinuities in year.\n",
      "Excluding 14 records with discontinuities in year.\n",
      "Excluding 9 records with discontinuities in year.\n",
      "Excluding 8 records with discontinuities in year.\n",
      "Excluding 6 records with discontinuities in year.\n",
      "Excluding 6 records with discontinuities in year.\n",
      "Excluding 6 records with discontinuities in year.\n",
      "Excluding 4 records with discontinuities in year.\n",
      "Excluding 3 records with discontinuities in year.\n",
      "Excluding 2 records with discontinuities in year.\n",
      "Excluding 2 records with discontinuities in year.\n",
      "Excluding 2 records with discontinuities in year.\n",
      "Excluding 2 records with discontinuities in year.\n",
      "Excluding 1 records with discontinuities in year.\n",
      "Excluding 0 records with discontinuities in year.\n"
     ]
    }
   ],
   "source": [
    "# exclude discontinuous data\n",
    "df = df.sort_values(by=['CBSA', 'Mode', 'Year'])\n",
    "\n",
    "excluded_records = 100\n",
    "while excluded_records > 0: \n",
    "    old_len = len(df)\n",
    "    df['YearDiff'] = df['Year'].shift(-1) - df['Year']\n",
    "    df = df[(df['YearDiff']==1) | (df['Year']==2018)]\n",
    "    excluded_records = old_len - len(df)\n",
    "    print('Excluding ' + str(excluded_records) + ' records with discontinuities in year.') \n",
    "\n"
   ]
  },
  {
   "cell_type": "code",
   "execution_count": 7,
   "metadata": {
    "collapsed": true
   },
   "outputs": [],
   "source": [
    "df['BUS_FLAG'] = np.where(df['Mode']=='Bus', 1, 0)\n",
    "df['RAIL_FLAG'] = np.where(df['Mode']=='Rail', 1, 0)"
   ]
  },
  {
   "cell_type": "code",
   "execution_count": 8,
   "metadata": {
    "collapsed": true
   },
   "outputs": [],
   "source": [
    "# include population + employment\n",
    "df['POP_EMP'] = df['Tot_Pop'] + df['TOT_EMP_MSA']\n",
    "df['HH_EMP'] = df['Total_HH'] + df['TOT_EMP_MSA']\n",
    "\n",
    "# percent of population in transit supportive density\n",
    "df['TSD_POP_PCT'] = df['POP_CENSUSTRACT'] / df['Tot_Pop']\n",
    "\n",
    "# percent of pop born outside USA\n",
    "df['Tot_NonUSA_POP_pct'] = df['Tot_NonUSA_POP'] / df['Tot_Pop'] * 100\n"
   ]
  },
  {
   "cell_type": "code",
   "execution_count": 9,
   "metadata": {
    "collapsed": true
   },
   "outputs": [],
   "source": [
    "# mode specific effects\n",
    "\n",
    "df['Bus_VRM_ADJ_RAIL']  = df['Bus_VRM_ADJ'] * df['RAIL_FLAG']\n",
    "df['Rail_VRM_ADJ_BUS'] = df['Rail_VRM_ADJ']  * df['BUS_FLAG']\n",
    "\n",
    "df['Bus_VRM_ADJ_RAIL_log'] = np.log(1+df['Bus_VRM_ADJ_RAIL'])\n",
    "df['Rail_VRM_ADJ_BUS_log'] = np.log(1+df['Rail_VRM_ADJ_BUS'])\n"
   ]
  },
  {
   "cell_type": "code",
   "execution_count": 10,
   "metadata": {
    "collapsed": true
   },
   "outputs": [],
   "source": [
    "# time effects\n",
    "df['YEARS_SINCE_2002']  = df['Year'] - 2002\n",
    "\n",
    "df['YEARS_2002_2010']  = df['Year'].apply(lambda x : min(x-2002, 8))\n",
    "df['YEARS_AFTER_2010'] = df['Year'].apply(lambda x : max(x-2010, 0))\n",
    "\n",
    "df['YEARS_2002_2014']  = df['Year'].apply(lambda x : min(x-2002, 12))\n",
    "df['YEARS_AFTER_2014'] = df['Year'].apply(lambda x : max(x-2014, 0))\n",
    "\n",
    "\n",
    "df['YEARS_SINCE_2002_BUS']  = df['YEARS_SINCE_2002'] * df['BUS_FLAG']\n",
    "df['YEARS_SINCE_2002_RAIL'] = df['YEARS_SINCE_2002'] * df['RAIL_FLAG']\n",
    "\n",
    "df['YEARS_2002_2010_BUS']   = df['YEARS_2002_2010'] * df['BUS_FLAG']\n",
    "df['YEARS_AFTER_2010_BUS']  = df['YEARS_AFTER_2010']* df['BUS_FLAG']\n",
    "df['YEARS_2002_2010_RAIL']  = df['YEARS_2002_2010'] * df['RAIL_FLAG']\n",
    "df['YEARS_AFTER_2010_RAIL'] = df['YEARS_AFTER_2010']* df['RAIL_FLAG']\n",
    "\n",
    "df['YEARS_2002_2014_BUS']   = df['YEARS_2002_2014'] * df['BUS_FLAG']\n",
    "df['YEARS_AFTER_2014_BUS']  = df['YEARS_AFTER_2014']* df['BUS_FLAG']\n",
    "df['YEARS_2002_2014_RAIL']  = df['YEARS_2002_2014'] * df['RAIL_FLAG']\n",
    "df['YEARS_AFTER_2014_RAIL'] = df['YEARS_AFTER_2014']* df['RAIL_FLAG']"
   ]
  },
  {
   "cell_type": "code",
   "execution_count": 11,
   "metadata": {
    "collapsed": true
   },
   "outputs": [],
   "source": [
    "# test rail ramp up period\n",
    "df['YEARS_SINCE_RAIL_START'] = (df['Year'] - df['min_year']) * df['RAIL_FLAG']\n",
    "df['YEARS_SINCE_RAIL_START'] = np.where(df['min_year']==2002, 0, df['YEARS_SINCE_RAIL_START'])\n",
    "\n",
    "df['YEARS_SINCE_RAIL_START_1'] = df['YEARS_SINCE_RAIL_START'].apply(lambda x : min(x, 1))\n",
    "df['YEARS_SINCE_RAIL_START_2'] = df['YEARS_SINCE_RAIL_START'].apply(lambda x : min(x, 2))\n",
    "df['YEARS_SINCE_RAIL_START_3'] = df['YEARS_SINCE_RAIL_START'].apply(lambda x : min(x, 3))\n",
    "\n"
   ]
  },
  {
   "cell_type": "code",
   "execution_count": 12,
   "metadata": {
    "collapsed": true
   },
   "outputs": [],
   "source": [
    "# calculate bus vs rail stuff\n",
    "\n",
    "# various bus/rail specifics\n",
    "\n",
    "df['TNC_FLAG_BUS'] = df['TNC_FLAG'] * df['BUS_FLAG']\n",
    "df['TNC_FLAG_RAIL'] = df['TNC_FLAG'] * df['RAIL_FLAG']\n",
    "\n",
    "df['YEARS_SINCE_TNC_BUS'] = df['YEARS_SINCE_TNC'] * df['BUS_FLAG']\n",
    "df['YEARS_SINCE_TNC_RAIL'] = df['YEARS_SINCE_TNC'] * df['RAIL_FLAG']\n",
    "\n",
    "df['dockless_flag'] = df['dockCt'].apply(lambda x : min(x,1))\n",
    "df['scooter_flag']  = df['scooterCt'].apply(lambda x : min(x,1))\n",
    "\n",
    "df['BIKE_SHARE'] = df['PBS_Flag'] + df['dockless_flag']\n",
    "df['BIKE_SHARE'] = df['BIKE_SHARE'].apply(lambda x : min(x,1))\n",
    "\n",
    "\n",
    "df['PBS_Flag_BUS']   = df['PBS_Flag']   * df['BUS_FLAG']\n",
    "df['dockCt_BUS']     = df['dockCt']     * df['BUS_FLAG']\n",
    "df['docklessCt_BUS'] = df['docklessCt'] * df['BUS_FLAG']\n",
    "df['scooterCt_BUS']  = df['scooterCt']  * df['BUS_FLAG']\n",
    "df['dockless_flag_BUS'] = df['dockless_flag'] * df['BUS_FLAG']\n",
    "df['scooter_flag_BUS']  = df['scooter_flag']  * df['BUS_FLAG']\n",
    "df['BIKE_SHARE_BUS']  = df['BIKE_SHARE']  * df['BUS_FLAG']\n",
    "\n",
    "\n",
    "df['PBS_Flag_RAIL']   = df['PBS_Flag']   * df['RAIL_FLAG']\n",
    "df['dockCt_RAIL']     = df['dockCt']     * df['RAIL_FLAG']\n",
    "df['docklessCt_RAIL'] = df['docklessCt'] * df['RAIL_FLAG']\n",
    "df['scooterCt_RAIL']  = df['scooterCt']  * df['RAIL_FLAG']\n",
    "df['dockless_flag_RAIL'] = df['dockless_flag'] * df['RAIL_FLAG']\n",
    "df['scooter_flag_RAIL']  = df['scooter_flag']  * df['RAIL_FLAG']\n",
    "df['BIKE_SHARE_RAIL']  = df['BIKE_SHARE']  * df['RAIL_FLAG']\n",
    "\n",
    "\n"
   ]
  },
  {
   "cell_type": "code",
   "execution_count": 13,
   "metadata": {
    "collapsed": true
   },
   "outputs": [],
   "source": [
    "# convert JTW to numeric columns\n",
    "df['JTW_DA_PCT']        = df['JTW_DA_PCT'].astype(float)\n",
    "df['JTW_CARPOOLED_PCT'] = df['JTW_CARPOOLED_PCT'].astype(float)\n",
    "df['JTW_TRANSIT_PCT']   = df['JTW_TRANSIT_PCT'].astype(float)\n",
    "df['JTW_WALK_PCT']      = df['JTW_WALK_PCT'].astype(float)\n",
    "df['JTW_BICYCLE_PCT']   = df['JTW_BICYCLE_PCT'].astype(float)\n",
    "df['JTW_OTHER_PCT']     = df['JTW_OTHER_PCT'].astype(float)\n",
    "df['JTW_HOME_PCT']      = df['JTW_HOME_PCT'].astype(float)\n"
   ]
  },
  {
   "cell_type": "code",
   "execution_count": 14,
   "metadata": {
    "collapsed": true
   },
   "outputs": [],
   "source": [
    "# Calculate service cuts versus gains\n",
    "df['VRM_CUT'] =np.where(df['Bus_VRM_ADJ_diff']<0, 1, 0)\n",
    "df['VRM_CUT'] =np.where(df['Rail_VRM_ADJ_diff']<0, 1, df['VRM_CUT'])\n",
    "\n",
    "df['VRM_ADJ_CUT']  = df['VRM_ADJ'] * df['VRM_CUT']\n",
    "df['VRM_ADJ_GAIN'] = df['VRM_ADJ'] * (1-df['VRM_CUT'])\n",
    "\n",
    "df['VRM_ADJ_LAGGED_1_CUT']  = df['VRM_ADJ_LAGGED_1'] * df['VRM_CUT']\n",
    "df['VRM_ADJ_LAGGED_1_GAIN'] = df['VRM_ADJ_LAGGED_1'] * (1-df['VRM_CUT'])\n",
    "\n",
    "df['VRM_ADJ_LAGGED_2_CUT']  = df['VRM_ADJ_LAGGED_2'] * df['VRM_CUT']\n",
    "df['VRM_ADJ_LAGGED_2_GAIN'] = df['VRM_ADJ_LAGGED_2'] * (1-df['VRM_CUT'])\n",
    "\n",
    "# calculate fare increase versus decrease\n",
    "df['FARE_INCREASE'] =np.where(df['FARE_per_UPT_2018']>0, 1, 0)\n",
    "\n",
    "df['FARE_per_UPT_INCREASE_2018']  = df['FARE_per_UPT_2018'] * df['FARE_INCREASE']\n",
    "df['FARE_per_UPT_DECREASE_2018']  = df['FARE_per_UPT_2018'] * (1-df['FARE_INCREASE'])\n",
    "\n",
    "df['FARE_per_UPT_INCREASE_2018_LAGGED_1']  = df['FARE_per_UPT_2018_LAGGED_1'] * df['FARE_INCREASE']\n",
    "df['FARE_per_UPT_DECREASE_2018_LAGGED_1']  = df['FARE_per_UPT_2018_LAGGED_1'] * (1-df['FARE_INCREASE'])\n",
    "\n",
    "df['FARE_per_UPT_INCREASE_2018_LAGGED_2']  = df['FARE_per_UPT_2018_LAGGED_2'] * df['FARE_INCREASE']\n",
    "df['FARE_per_UPT_DECREASE_2018_LAGGED_2']  = df['FARE_per_UPT_2018_LAGGED_2'] * (1-df['FARE_INCREASE'])\n"
   ]
  },
  {
   "cell_type": "code",
   "execution_count": 15,
   "metadata": {
    "collapsed": true
   },
   "outputs": [],
   "source": [
    "# immigrant population percentage\n",
    "df['Tot_NonUSA_POP_pct'] = df['Tot_NonUSA_POP'] / df['Tot_Pop'] * 100\n",
    "\n",
    "# include VRM on competing modes -- split\n",
    "df['VRM_ADJ_COMPETING_BUS']  = df['VRM_ADJ_COMPETING'] * df['RAIL_FLAG']\n",
    "df['VRM_ADJ_COMPETING_RAIL'] = df['VRM_ADJ_COMPETING'] * df['BUS_FLAG']\n",
    "\n",
    "# include VRM on competing modes -- split\n",
    "df['VRM_ADJ_COMPETING_BUS']  = df['VRM_ADJ_COMPETING'] * df['RAIL_FLAG']\n",
    "df['VRM_ADJ_COMPETING_RAIL'] = df['VRM_ADJ_COMPETING'] * df['BUS_FLAG']\n",
    "\n",
    "# flag testing introduction of new rail\n",
    "df['RAIL_COMPETITION'] = np.where(df['VRM_ADJ_COMPETING']>0, 1, 0) * df['BUS_FLAG']\n",
    "\n"
   ]
  },
  {
   "cell_type": "code",
   "execution_count": 16,
   "metadata": {
    "collapsed": true
   },
   "outputs": [],
   "source": [
    "# TNC lags -- bus vs rail\n",
    "df['TNC_FLAG_BUS_LAGGED_1'] = df['TNC_FLAG_LAGGED_1'] * df['BUS_FLAG']\n",
    "df['TNC_FLAG_BUS_LAGGED_2'] = df['TNC_FLAG_LAGGED_2'] * df['BUS_FLAG']\n",
    "df['TNC_FLAG_BUS_LAGGED_3'] = df['TNC_FLAG_LAGGED_3'] * df['BUS_FLAG']\n",
    "\n",
    "df['TNC_FLAG_RAIL_LAGGED_1'] = df['TNC_FLAG_LAGGED_1'] * df['RAIL_FLAG']\n",
    "df['TNC_FLAG_RAIL_LAGGED_2'] = df['TNC_FLAG_LAGGED_2'] * df['RAIL_FLAG']\n",
    "df['TNC_FLAG_RAIL_LAGGED_3'] = df['TNC_FLAG_LAGGED_3'] * df['RAIL_FLAG']\n",
    "\n",
    "# bike share plus scooters for rail\n",
    "df['BIKE_SCOOTER_RAIL'] = df['BIKE_SHARE_RAIL'] + df['scooter_flag_RAIL']\n",
    "\n",
    "# different spec of bike and scooter\n",
    "df['BIKE_SCOOTER_SCOOTER_RAIL'] = df['BIKE_SHARE_RAIL'] + df['scooter_flag_RAIL'] + df['scooter_flag_RAIL']\n",
    "\n",
    "# different spec of bike and scooter\n",
    "df['BIKE_SCOOTER_SCOOTER_RAIL'] = df['BIKE_SHARE_RAIL'] + df['scooter_flag_RAIL'] + df['scooter_flag_RAIL']\n",
    "\n",
    "# merge bike and scooter for bus\n",
    "df['BIKE_SCOOTER_SCOOTER_BUS'] = df['BIKE_SHARE_BUS'] + df['scooter_flag_BUS'] + df['scooter_flag_BUS']\n",
    "\n",
    "# merge bike and scooter for bus\n",
    "df['BIKE_SCOOTER_BUS'] = df['BIKE_SHARE_BUS'] + df['scooter_flag_BUS'] \n",
    "df['BIKE_SCOOTER_RAIL'] = df['BIKE_SHARE_RAIL'] + df['scooter_flag_RAIL'] \n",
    "\n",
    "# scooter or bike\n",
    "df['BIKE_OR_SCOOTER_BUS']  = df['BIKE_SHARE_BUS'] + df['scooter_flag_BUS'] \n",
    "df['BIKE_OR_SCOOTER_BUS']  = df['BIKE_OR_SCOOTER_BUS'].apply(lambda x : min(x, 1))\n",
    "\n",
    "df['BIKE_OR_SCOOTER_RAIL'] = df['BIKE_SHARE_RAIL'] + df['scooter_flag_RAIL'] \n",
    "df['BIKE_OR_SCOOTER_RAIL'] = df['BIKE_OR_SCOOTER_RAIL'].apply(lambda x : min(x, 1))\n",
    "\n",
    "# calculate average vehicles\n",
    "df['AVG_VEHS'] = (df['HH_1Veh'] + 2*df['HH_2Veh'] + 3*df['HH_3Veh'] + 4*df['HH_4+Veh']) / (df['HH_0Veh'] + df['HH_1Veh'] + df['HH_2Veh'] + df['HH_3Veh'] + df['HH_4+Veh'])\n",
    "df['AVG_VEHS_log'] = np.log(1+df['AVG_VEHS'])\n",
    "\n"
   ]
  },
  {
   "cell_type": "code",
   "execution_count": 17,
   "metadata": {
    "collapsed": true
   },
   "outputs": [],
   "source": [
    "# walk bike other commuting\n",
    "df['JTW_WALK_BIKE_OTHER_PCT'] = df['JTW_WALK_PCT'] + df['JTW_BICYCLE_PCT'] + df['JTW_OTHER_PCT']\n",
    "\n",
    "# walk bike commuting\n",
    "df['JTW_WALK_BIKE_PCT'] = df['JTW_WALK_PCT'] + df['JTW_BICYCLE_PCT']\n"
   ]
  },
  {
   "cell_type": "code",
   "execution_count": 18,
   "metadata": {
    "collapsed": true
   },
   "outputs": [],
   "source": [
    "# set the indices\n",
    "df['ID'] = df['MNAME'] + '-' + df['Mode']\n",
    "df=df.set_index(['ID','Year'])"
   ]
  },
  {
   "cell_type": "code",
   "execution_count": 19,
   "metadata": {
    "collapsed": true
   },
   "outputs": [],
   "source": [
    "# keep only the numeric columns -- the estimation will give an error otherwise\n",
    "df = df.select_dtypes(include=[np.number])"
   ]
  },
  {
   "cell_type": "code",
   "execution_count": 20,
   "metadata": {
    "collapsed": false
   },
   "outputs": [
    {
     "name": "stderr",
     "output_type": "stream",
     "text": [
      "C:\\Program Files\\Anaconda3\\lib\\site-packages\\ipykernel\\__main__.py:3: RuntimeWarning: invalid value encountered in log\n",
      "  app.launch_new_instance()\n",
      "C:\\Program Files\\Anaconda3\\lib\\site-packages\\ipykernel\\__main__.py:3: RuntimeWarning: divide by zero encountered in log\n",
      "  app.launch_new_instance()\n"
     ]
    }
   ],
   "source": [
    "# create a log of all fields\n",
    "for col in df.columns:\n",
    "    df[col+'_log'] = np.log(df[col]+1)\n",
    "    "
   ]
  },
  {
   "cell_type": "markdown",
   "metadata": {},
   "source": [
    "## Model Estimation Tests"
   ]
  },
  {
   "cell_type": "code",
   "execution_count": 21,
   "metadata": {
    "collapsed": false
   },
   "outputs": [
    {
     "name": "stderr",
     "output_type": "stream",
     "text": [
      "C:\\Program Files\\Anaconda3\\lib\\site-packages\\linearmodels\\panel\\data.py:39: FutureWarning: \n",
      "Passing list-likes to .loc or [] with any missing label will raise\n",
      "KeyError in the future, you can use .reindex() as an alternative.\n",
      "\n",
      "See the documentation here:\n",
      "https://pandas.pydata.org/pandas-docs/stable/indexing.html#deprecate-loc-reindex-listlike\n",
      "  new_df = df.copy().loc[self._full_index]\n",
      "C:\\Program Files\\Anaconda3\\lib\\site-packages\\linearmodels\\utility.py:476: MissingValueWarning: \n",
      "Inputs contain missing values. Dropping rows with missing observations.\n",
      "  warnings.warn(missing_value_warning_msg, MissingValueWarning)\n"
     ]
    },
    {
     "name": "stdout",
     "output_type": "stream",
     "text": [
      "                          PanelOLS Estimation Summary                           \n",
      "================================================================================\n",
      "Dep. Variable:            UPT_ADJ_log   R-squared:                        0.4961\n",
      "Estimator:                   PanelOLS   R-squared (Between):              0.9489\n",
      "No. Observations:                3979   R-squared (Within):               0.4961\n",
      "Date:                Sun, Dec 15 2019   R-squared (Overall):              0.9485\n",
      "Time:                        13:28:02   Log-likelihood                    1292.4\n",
      "Cov. Estimator:            Unadjusted                                           \n",
      "                                        F-statistic:                      227.89\n",
      "Entities:                         260   P-value                           0.0000\n",
      "Avg Obs:                       15.304   Distribution:                 F(16,3703)\n",
      "Min Obs:                       1.0000                                           \n",
      "Max Obs:                       17.000   F-statistic (robust):             227.89\n",
      "                                        P-value                           0.0000\n",
      "Time periods:                      17   Distribution:                 F(16,3703)\n",
      "Avg Obs:                       234.06                                           \n",
      "Min Obs:                       166.00                                           \n",
      "Max Obs:                       258.00                                           \n",
      "                                                                                \n",
      "                                      Parameter Estimates                                       \n",
      "================================================================================================\n",
      "                              Parameter  Std. Err.     T-stat    P-value    Lower CI    Upper CI\n",
      "------------------------------------------------------------------------------------------------\n",
      "VRM_ADJ_log                      0.6027     0.0138     43.560     0.0000      0.5756      0.6298\n",
      "FARE_per_UPT_2018_log           -0.2707     0.0155    -17.496     0.0000     -0.3011     -0.2404\n",
      "POP_EMP_log                      0.4798     0.0572     8.3874     0.0000      0.3677      0.5920\n",
      "GAS_PRICE_2018_log               0.1691     0.0253     6.6729     0.0000      0.1194      0.2187\n",
      "TOTAL_MED_INC_INDIV_2018_log    -0.3470     0.0534    -6.5011     0.0000     -0.4516     -0.2423\n",
      "Tot_NonUSA_POP_pct               0.0301     0.0087     3.4434     0.0006      0.0129      0.0472\n",
      "PCT_HH_NO_VEH                    0.0065     0.0031     2.1101     0.0349      0.0005      0.0126\n",
      "TSD_POP_PCT                      0.3396     0.1484     2.2889     0.0221      0.0487      0.6305\n",
      "JTW_HOME_PCT                    -0.0083     0.0040    -2.0554     0.0399     -0.0161     -0.0004\n",
      "RAIL_COMPETITION                -0.0847     0.0282    -3.0064     0.0027     -0.1399     -0.0295\n",
      "YEARS_SINCE_RAIL_START_1         0.1279     0.0750     1.7052     0.0882     -0.0192      0.2749\n",
      "YEARS_SINCE_TNC_BUS             -0.0241     0.0043    -5.6052     0.0000     -0.0325     -0.0156\n",
      "YEARS_SINCE_TNC_RAIL            -0.0062     0.0053    -1.1669     0.2433     -0.0165      0.0042\n",
      "MAINTENANCE_WMATA               -0.2399     0.1324    -1.8120     0.0701     -0.4994      0.0197\n",
      "BIKE_SHARE_BUS                   0.0107     0.0145     0.7356     0.4620     -0.0178      0.0392\n",
      "scooter_flag_BUS                -0.0197     0.0307    -0.6421     0.5209     -0.0798      0.0404\n",
      "================================================================================================\n",
      "\n",
      "F-test for Poolability: 105.46\n",
      "P-value: 0.0000\n",
      "Distribution: F(259,3703)\n",
      "\n",
      "Included effects: Entity\n"
     ]
    }
   ],
   "source": [
    "# fully specified model  \n",
    "\n",
    "mod=PanelOLS.from_formula('UPT_ADJ_log \\\n",
    "                    ~ VRM_ADJ_log \\\n",
    "                    + FARE_per_UPT_2018_log \\\n",
    "                    + POP_EMP_log \\\n",
    "                    + GAS_PRICE_2018_log \\\n",
    "                    + TOTAL_MED_INC_INDIV_2018_log \\\n",
    "                    + Tot_NonUSA_POP_pct \\\n",
    "                    + PCT_HH_NO_VEH \\\n",
    "                    + TSD_POP_PCT \\\n",
    "                    + JTW_HOME_PCT \\\n",
    "                    + RAIL_COMPETITION \\\n",
    "                    + YEARS_SINCE_RAIL_START_1 \\\n",
    "                    + YEARS_SINCE_TNC_BUS \\\n",
    "                    + YEARS_SINCE_TNC_RAIL \\\n",
    "                    + MAINTENANCE_WMATA \\\n",
    "                    + BIKE_SHARE_BUS \\\n",
    "                    + scooter_flag_BUS \\\n",
    "                    + EntityEffects \\\n",
    "                    ',data=df)\n",
    "res=mod.fit()\n",
    "print(res)"
   ]
  },
  {
   "cell_type": "code",
   "execution_count": 22,
   "metadata": {
    "collapsed": false
   },
   "outputs": [
    {
     "name": "stderr",
     "output_type": "stream",
     "text": [
      "C:\\Program Files\\Anaconda3\\lib\\site-packages\\linearmodels\\panel\\data.py:39: FutureWarning: \n",
      "Passing list-likes to .loc or [] with any missing label will raise\n",
      "KeyError in the future, you can use .reindex() as an alternative.\n",
      "\n",
      "See the documentation here:\n",
      "https://pandas.pydata.org/pandas-docs/stable/indexing.html#deprecate-loc-reindex-listlike\n",
      "  new_df = df.copy().loc[self._full_index]\n",
      "C:\\Program Files\\Anaconda3\\lib\\site-packages\\linearmodels\\utility.py:476: MissingValueWarning: \n",
      "Inputs contain missing values. Dropping rows with missing observations.\n",
      "  warnings.warn(missing_value_warning_msg, MissingValueWarning)\n"
     ]
    },
    {
     "name": "stdout",
     "output_type": "stream",
     "text": [
      "                          PanelOLS Estimation Summary                           \n",
      "================================================================================\n",
      "Dep. Variable:            UPT_ADJ_log   R-squared:                        0.4967\n",
      "Estimator:                   PanelOLS   R-squared (Between):              0.9513\n",
      "No. Observations:                3979   R-squared (Within):               0.4967\n",
      "Date:                Sun, Dec 15 2019   R-squared (Overall):              0.9509\n",
      "Time:                        13:28:03   Log-likelihood                    1294.4\n",
      "Cov. Estimator:            Unadjusted                                           \n",
      "                                        F-statistic:                      202.88\n",
      "Entities:                         260   P-value                           0.0000\n",
      "Avg Obs:                       15.304   Distribution:                 F(18,3701)\n",
      "Min Obs:                       1.0000                                           \n",
      "Max Obs:                       17.000   F-statistic (robust):             202.88\n",
      "                                        P-value                           0.0000\n",
      "Time periods:                      17   Distribution:                 F(18,3701)\n",
      "Avg Obs:                       234.06                                           \n",
      "Min Obs:                       166.00                                           \n",
      "Max Obs:                       258.00                                           \n",
      "                                                                                \n",
      "                                      Parameter Estimates                                       \n",
      "================================================================================================\n",
      "                              Parameter  Std. Err.     T-stat    P-value    Lower CI    Upper CI\n",
      "------------------------------------------------------------------------------------------------\n",
      "VRM_ADJ_log                      0.6022     0.0139     43.433     0.0000      0.5750      0.6294\n",
      "FARE_per_UPT_2018_log           -0.2721     0.0155    -17.552     0.0000     -0.3025     -0.2417\n",
      "POP_EMP_log                      0.4820     0.0572     8.4247     0.0000      0.3698      0.5941\n",
      "GAS_PRICE_2018_log               0.1727     0.0254     6.7997     0.0000      0.1229      0.2225\n",
      "TOTAL_MED_INC_INDIV_2018_log    -0.3418     0.0534    -6.3976     0.0000     -0.4465     -0.2370\n",
      "Tot_NonUSA_POP_pct               0.0299     0.0087     3.4264     0.0006      0.0128      0.0470\n",
      "PCT_HH_NO_VEH                    0.0065     0.0031     2.1201     0.0341      0.0005      0.0126\n",
      "TSD_POP_PCT                      0.3533     0.1486     2.3779     0.0175      0.0620      0.6446\n",
      "JTW_HOME_PCT                    -0.0082     0.0040    -2.0456     0.0409     -0.0161     -0.0003\n",
      "RAIL_COMPETITION                -0.0847     0.0282    -3.0075     0.0027     -0.1399     -0.0295\n",
      "YEARS_SINCE_RAIL_START_1         0.1274     0.0751     1.6958     0.0900     -0.0199      0.2746\n",
      "YEARS_SINCE_TNC_BUS             -0.0239     0.0043    -5.5584     0.0000     -0.0323     -0.0155\n",
      "YEARS_SINCE_TNC_RAIL            -0.0019     0.0077    -0.2524     0.8007     -0.0170      0.0131\n",
      "MAINTENANCE_WMATA               -0.2518     0.1332    -1.8906     0.0588     -0.5130      0.0093\n",
      "BIKE_SHARE_BUS                   0.0109     0.0145     0.7505     0.4530     -0.0176      0.0394\n",
      "scooter_flag_BUS                -0.0204     0.0307    -0.6638     0.5068     -0.0805      0.0398\n",
      "BIKE_SHARE_RAIL                  0.0083     0.0292     0.2838     0.7766     -0.0490      0.0656\n",
      "scooter_flag_RAIL               -0.0937     0.0493    -1.8998     0.0575     -0.1904      0.0030\n",
      "================================================================================================\n",
      "\n",
      "F-test for Poolability: 104.89\n",
      "P-value: 0.0000\n",
      "Distribution: F(259,3701)\n",
      "\n",
      "Included effects: Entity\n"
     ]
    }
   ],
   "source": [
    "# fully specified model  \n",
    "\n",
    "mod=PanelOLS.from_formula('UPT_ADJ_log \\\n",
    "                    ~ VRM_ADJ_log \\\n",
    "                    + FARE_per_UPT_2018_log \\\n",
    "                    + POP_EMP_log \\\n",
    "                    + GAS_PRICE_2018_log \\\n",
    "                    + TOTAL_MED_INC_INDIV_2018_log \\\n",
    "                    + Tot_NonUSA_POP_pct \\\n",
    "                    + PCT_HH_NO_VEH \\\n",
    "                    + TSD_POP_PCT \\\n",
    "                    + JTW_HOME_PCT \\\n",
    "                    + RAIL_COMPETITION \\\n",
    "                    + YEARS_SINCE_RAIL_START_1 \\\n",
    "                    + YEARS_SINCE_TNC_BUS \\\n",
    "                    + YEARS_SINCE_TNC_RAIL \\\n",
    "                    + MAINTENANCE_WMATA \\\n",
    "                    + BIKE_SHARE_BUS \\\n",
    "                    + scooter_flag_BUS \\\n",
    "                    + BIKE_SHARE_RAIL \\\n",
    "                    + scooter_flag_RAIL \\\n",
    "                    + EntityEffects \\\n",
    "                    ',data=df)\n",
    "res=mod.fit()\n",
    "print(res)"
   ]
  },
  {
   "cell_type": "code",
   "execution_count": 23,
   "metadata": {
    "collapsed": false
   },
   "outputs": [
    {
     "name": "stderr",
     "output_type": "stream",
     "text": [
      "C:\\Program Files\\Anaconda3\\lib\\site-packages\\linearmodels\\panel\\data.py:39: FutureWarning: \n",
      "Passing list-likes to .loc or [] with any missing label will raise\n",
      "KeyError in the future, you can use .reindex() as an alternative.\n",
      "\n",
      "See the documentation here:\n",
      "https://pandas.pydata.org/pandas-docs/stable/indexing.html#deprecate-loc-reindex-listlike\n",
      "  new_df = df.copy().loc[self._full_index]\n",
      "C:\\Program Files\\Anaconda3\\lib\\site-packages\\linearmodels\\utility.py:476: MissingValueWarning: \n",
      "Inputs contain missing values. Dropping rows with missing observations.\n",
      "  warnings.warn(missing_value_warning_msg, MissingValueWarning)\n"
     ]
    },
    {
     "name": "stdout",
     "output_type": "stream",
     "text": [
      "                          PanelOLS Estimation Summary                           \n",
      "================================================================================\n",
      "Dep. Variable:            UPT_ADJ_log   R-squared:                        0.4919\n",
      "Estimator:                   PanelOLS   R-squared (Between):              0.9189\n",
      "No. Observations:                3979   R-squared (Within):               0.4919\n",
      "Date:                Sun, Dec 15 2019   R-squared (Overall):              0.9186\n",
      "Time:                        13:28:04   Log-likelihood                    1275.5\n",
      "Cov. Estimator:            Unadjusted                                           \n",
      "                                        F-statistic:                      256.16\n",
      "Entities:                         260   P-value                           0.0000\n",
      "Avg Obs:                       15.304   Distribution:                 F(14,3705)\n",
      "Min Obs:                       1.0000                                           \n",
      "Max Obs:                       17.000   F-statistic (robust):             256.16\n",
      "                                        P-value                           0.0000\n",
      "Time periods:                      17   Distribution:                 F(14,3705)\n",
      "Avg Obs:                       234.06                                           \n",
      "Min Obs:                       166.00                                           \n",
      "Max Obs:                       258.00                                           \n",
      "                                                                                \n",
      "                                      Parameter Estimates                                       \n",
      "================================================================================================\n",
      "                              Parameter  Std. Err.     T-stat    P-value    Lower CI    Upper CI\n",
      "------------------------------------------------------------------------------------------------\n",
      "VRM_ADJ_log                      0.6033     0.0138     43.767     0.0000      0.5763      0.6303\n",
      "FARE_per_UPT_2018_log           -0.2692     0.0155    -17.332     0.0000     -0.2996     -0.2387\n",
      "POP_EMP_log                      0.4161     0.0563     7.3969     0.0000      0.3058      0.5264\n",
      "GAS_PRICE_2018_log               0.2129     0.0240     8.8662     0.0000      0.1658      0.2599\n",
      "TOTAL_MED_INC_INDIV_2018_log    -0.3574     0.0535    -6.6760     0.0000     -0.4624     -0.2525\n",
      "Tot_NonUSA_POP_pct               0.0251     0.0087     2.8753     0.0041      0.0080      0.0421\n",
      "PCT_HH_NO_VEH                    0.0073     0.0031     2.3759     0.0176      0.0013      0.0134\n",
      "TSD_POP_PCT                      0.4217     0.1476     2.8573     0.0043      0.1323      0.7110\n",
      "JTW_HOME_PCT                    -0.0134     0.0039    -3.4431     0.0006     -0.0210     -0.0058\n",
      "RAIL_COMPETITION                -0.0918     0.0282    -3.2522     0.0012     -0.1472     -0.0365\n",
      "YEARS_SINCE_RAIL_START_1         0.1282     0.0751     1.7062     0.0881     -0.0191      0.2755\n",
      "MAINTENANCE_WMATA               -0.2434     0.1301    -1.8710     0.0614     -0.4985      0.0117\n",
      "BIKE_SHARE_BUS                  -0.0254     0.0129    -1.9614     0.0499     -0.0507  -1.026e-05\n",
      "scooter_flag_BUS                -0.0726     0.0293    -2.4797     0.0132     -0.1300     -0.0152\n",
      "================================================================================================\n",
      "\n",
      "F-test for Poolability: 105.10\n",
      "P-value: 0.0000\n",
      "Distribution: F(259,3705)\n",
      "\n",
      "Included effects: Entity\n"
     ]
    }
   ],
   "source": [
    "# remove TNCs to see effect on bike share\n",
    "# when we do this, the bike share and scooter variables become more negative\n",
    "# this suggests that since both are happening at the same time, so it is difficult to \n",
    "# separate the effect of each.  \n",
    "\n",
    "# the remaining coefficients are pretty stable, which is encouraging\n",
    "\n",
    "mod=PanelOLS.from_formula('UPT_ADJ_log \\\n",
    "                    ~ VRM_ADJ_log \\\n",
    "                    + FARE_per_UPT_2018_log \\\n",
    "                    + POP_EMP_log \\\n",
    "                    + GAS_PRICE_2018_log \\\n",
    "                    + TOTAL_MED_INC_INDIV_2018_log \\\n",
    "                    + Tot_NonUSA_POP_pct \\\n",
    "                    + PCT_HH_NO_VEH \\\n",
    "                    + TSD_POP_PCT \\\n",
    "                    + JTW_HOME_PCT \\\n",
    "                    + RAIL_COMPETITION \\\n",
    "                    + YEARS_SINCE_RAIL_START_1 \\\n",
    "                    + MAINTENANCE_WMATA \\\n",
    "                    + BIKE_SHARE_BUS \\\n",
    "                    + scooter_flag_BUS \\\n",
    "                    + EntityEffects \\\n",
    "                    ',data=df)\n",
    "res=mod.fit()\n",
    "print(res)"
   ]
  },
  {
   "cell_type": "code",
   "execution_count": 24,
   "metadata": {
    "collapsed": false
   },
   "outputs": [
    {
     "name": "stderr",
     "output_type": "stream",
     "text": [
      "C:\\Program Files\\Anaconda3\\lib\\site-packages\\linearmodels\\panel\\data.py:39: FutureWarning: \n",
      "Passing list-likes to .loc or [] with any missing label will raise\n",
      "KeyError in the future, you can use .reindex() as an alternative.\n",
      "\n",
      "See the documentation here:\n",
      "https://pandas.pydata.org/pandas-docs/stable/indexing.html#deprecate-loc-reindex-listlike\n",
      "  new_df = df.copy().loc[self._full_index]\n",
      "C:\\Program Files\\Anaconda3\\lib\\site-packages\\linearmodels\\utility.py:476: MissingValueWarning: \n",
      "Inputs contain missing values. Dropping rows with missing observations.\n",
      "  warnings.warn(missing_value_warning_msg, MissingValueWarning)\n"
     ]
    },
    {
     "name": "stdout",
     "output_type": "stream",
     "text": [
      "                          PanelOLS Estimation Summary                           \n",
      "================================================================================\n",
      "Dep. Variable:            UPT_ADJ_log   R-squared:                        0.4960\n",
      "Estimator:                   PanelOLS   R-squared (Between):              0.9489\n",
      "No. Observations:                3979   R-squared (Within):               0.4960\n",
      "Date:                Sun, Dec 15 2019   R-squared (Overall):              0.9485\n",
      "Time:                        13:28:06   Log-likelihood                    1291.9\n",
      "Cov. Estimator:            Unadjusted                                           \n",
      "                                        F-statistic:                      260.45\n",
      "Entities:                         260   P-value                           0.0000\n",
      "Avg Obs:                       15.304   Distribution:                 F(14,3705)\n",
      "Min Obs:                       1.0000                                           \n",
      "Max Obs:                       17.000   F-statistic (robust):             260.45\n",
      "                                        P-value                           0.0000\n",
      "Time periods:                      17   Distribution:                 F(14,3705)\n",
      "Avg Obs:                       234.06                                           \n",
      "Min Obs:                       166.00                                           \n",
      "Max Obs:                       258.00                                           \n",
      "                                                                                \n",
      "                                      Parameter Estimates                                       \n",
      "================================================================================================\n",
      "                              Parameter  Std. Err.     T-stat    P-value    Lower CI    Upper CI\n",
      "------------------------------------------------------------------------------------------------\n",
      "VRM_ADJ_log                      0.6026     0.0138     43.565     0.0000      0.5755      0.6297\n",
      "FARE_per_UPT_2018_log           -0.2706     0.0155    -17.493     0.0000     -0.3009     -0.2402\n",
      "POP_EMP_log                      0.4825     0.0571     8.4510     0.0000      0.3706      0.5944\n",
      "GAS_PRICE_2018_log               0.1662     0.0251     6.6199     0.0000      0.1170      0.2155\n",
      "TOTAL_MED_INC_INDIV_2018_log    -0.3499     0.0533    -6.5696     0.0000     -0.4543     -0.2455\n",
      "Tot_NonUSA_POP_pct               0.0301     0.0087     3.4486     0.0006      0.0130      0.0472\n",
      "PCT_HH_NO_VEH                    0.0065     0.0031     2.1188     0.0342      0.0005      0.0126\n",
      "TSD_POP_PCT                      0.3322     0.1481     2.2429     0.0250      0.0418      0.6226\n",
      "JTW_HOME_PCT                    -0.0081     0.0040    -2.0130     0.0442     -0.0159     -0.0002\n",
      "RAIL_COMPETITION                -0.0834     0.0281    -2.9681     0.0030     -0.1384     -0.0283\n",
      "YEARS_SINCE_RAIL_START_1         0.1277     0.0750     1.7027     0.0887     -0.0193      0.2747\n",
      "YEARS_SINCE_TNC_BUS             -0.0235     0.0036    -6.5541     0.0000     -0.0305     -0.0165\n",
      "YEARS_SINCE_TNC_RAIL            -0.0064     0.0053    -1.2148     0.2245     -0.0167      0.0039\n",
      "MAINTENANCE_WMATA               -0.2403     0.1324    -1.8152     0.0696     -0.4998      0.0192\n",
      "================================================================================================\n",
      "\n",
      "F-test for Poolability: 105.58\n",
      "P-value: 0.0000\n",
      "Distribution: F(259,3705)\n",
      "\n",
      "Included effects: Entity\n"
     ]
    }
   ],
   "source": [
    "# remove bike share to see the effect on TNCs\n",
    "# when we do this, we see that the TNC variables don't change very much\n",
    "# this suggests that the TNC terms are more stable/more important than the bike share terms. \n",
    "\n",
    "mod=PanelOLS.from_formula('UPT_ADJ_log \\\n",
    "                    ~ VRM_ADJ_log \\\n",
    "                    + FARE_per_UPT_2018_log \\\n",
    "                    + POP_EMP_log \\\n",
    "                    + GAS_PRICE_2018_log \\\n",
    "                    + TOTAL_MED_INC_INDIV_2018_log \\\n",
    "                    + Tot_NonUSA_POP_pct \\\n",
    "                    + PCT_HH_NO_VEH \\\n",
    "                    + TSD_POP_PCT \\\n",
    "                    + JTW_HOME_PCT \\\n",
    "                    + RAIL_COMPETITION \\\n",
    "                    + YEARS_SINCE_RAIL_START_1 \\\n",
    "                    + YEARS_SINCE_TNC_BUS \\\n",
    "                    + YEARS_SINCE_TNC_RAIL \\\n",
    "                    + MAINTENANCE_WMATA \\\n",
    "                    + EntityEffects \\\n",
    "                    ',data=df)\n",
    "res=mod.fit()\n",
    "print(res)"
   ]
  },
  {
   "cell_type": "code",
   "execution_count": 25,
   "metadata": {
    "collapsed": false
   },
   "outputs": [
    {
     "name": "stderr",
     "output_type": "stream",
     "text": [
      "C:\\Program Files\\Anaconda3\\lib\\site-packages\\linearmodels\\panel\\data.py:39: FutureWarning: \n",
      "Passing list-likes to .loc or [] with any missing label will raise\n",
      "KeyError in the future, you can use .reindex() as an alternative.\n",
      "\n",
      "See the documentation here:\n",
      "https://pandas.pydata.org/pandas-docs/stable/indexing.html#deprecate-loc-reindex-listlike\n",
      "  new_df = df.copy().loc[self._full_index]\n",
      "C:\\Program Files\\Anaconda3\\lib\\site-packages\\linearmodels\\utility.py:476: MissingValueWarning: \n",
      "Inputs contain missing values. Dropping rows with missing observations.\n",
      "  warnings.warn(missing_value_warning_msg, MissingValueWarning)\n"
     ]
    },
    {
     "name": "stdout",
     "output_type": "stream",
     "text": [
      "                          PanelOLS Estimation Summary                           \n",
      "================================================================================\n",
      "Dep. Variable:            UPT_ADJ_log   R-squared:                        0.4940\n",
      "Estimator:                   PanelOLS   R-squared (Between):              0.9522\n",
      "No. Observations:                3979   R-squared (Within):               0.4940\n",
      "Date:                Sun, Dec 15 2019   R-squared (Overall):              0.9519\n",
      "Time:                        13:28:07   Log-likelihood                    1284.1\n",
      "Cov. Estimator:            Unadjusted                                           \n",
      "                                        F-statistic:                      278.37\n",
      "Entities:                         260   P-value                           0.0000\n",
      "Avg Obs:                       15.304   Distribution:                 F(13,3706)\n",
      "Min Obs:                       1.0000                                           \n",
      "Max Obs:                       17.000   F-statistic (robust):             278.37\n",
      "                                        P-value                           0.0000\n",
      "Time periods:                      17   Distribution:                 F(13,3706)\n",
      "Avg Obs:                       234.06                                           \n",
      "Min Obs:                       166.00                                           \n",
      "Max Obs:                       258.00                                           \n",
      "                                                                                \n",
      "                                      Parameter Estimates                                       \n",
      "================================================================================================\n",
      "                              Parameter  Std. Err.     T-stat    P-value    Lower CI    Upper CI\n",
      "------------------------------------------------------------------------------------------------\n",
      "VRM_ADJ_log                      0.6078     0.0137     44.460     0.0000      0.5810      0.6346\n",
      "FARE_per_UPT_2018_log           -0.2676     0.0155    -17.302     0.0000     -0.2979     -0.2372\n",
      "POP_EMP_log                      0.4774     0.0573     8.3322     0.0000      0.3650      0.5897\n",
      "GAS_PRICE_2018_log               0.1667     0.0254     6.5776     0.0000      0.1170      0.2164\n",
      "TOTAL_MED_INC_INDIV_2018_log    -0.3415     0.0534    -6.3902     0.0000     -0.4463     -0.2367\n",
      "Tot_NonUSA_POP_pct               0.0292     0.0087     3.3423     0.0008      0.0121      0.0463\n",
      "PCT_HH_NO_VEH                    0.0071     0.0031     2.3165     0.0206      0.0011      0.0132\n",
      "TSD_POP_PCT                      0.3643     0.1484     2.4549     0.0141      0.0733      0.6552\n",
      "JTW_HOME_PCT                    -0.0087     0.0040    -2.1663     0.0303     -0.0166     -0.0008\n",
      "YEARS_SINCE_TNC_BUS             -0.0247     0.0043    -5.7409     0.0000     -0.0331     -0.0162\n",
      "YEARS_SINCE_TNC_RAIL            -0.0073     0.0052    -1.4169     0.1566     -0.0175      0.0028\n",
      "BIKE_SHARE_BUS                   0.0077     0.0145     0.5279     0.5976     -0.0208      0.0361\n",
      "scooter_flag_BUS                -0.0203     0.0307    -0.6611     0.5086     -0.0805      0.0399\n",
      "================================================================================================\n",
      "\n",
      "F-test for Poolability: 105.29\n",
      "P-value: 0.0000\n",
      "Distribution: F(259,3706)\n",
      "\n",
      "Included effects: Entity\n"
     ]
    }
   ],
   "source": [
    "# simplified model\n",
    "# drops rail ramp up, rail competition and maintenance\n",
    "\n",
    "mod=PanelOLS.from_formula('UPT_ADJ_log \\\n",
    "                    ~ VRM_ADJ_log \\\n",
    "                    + FARE_per_UPT_2018_log \\\n",
    "                    + POP_EMP_log \\\n",
    "                    + GAS_PRICE_2018_log \\\n",
    "                    + TOTAL_MED_INC_INDIV_2018_log \\\n",
    "                    + Tot_NonUSA_POP_pct \\\n",
    "                    + PCT_HH_NO_VEH \\\n",
    "                    + TSD_POP_PCT \\\n",
    "                    + JTW_HOME_PCT \\\n",
    "                    + YEARS_SINCE_TNC_BUS \\\n",
    "                    + YEARS_SINCE_TNC_RAIL \\\n",
    "                    + BIKE_SHARE_BUS \\\n",
    "                    + scooter_flag_BUS \\\n",
    "                    + EntityEffects \\\n",
    "                    ',data=df)\n",
    "res=mod.fit()\n",
    "print(res)"
   ]
  },
  {
   "cell_type": "code",
   "execution_count": 26,
   "metadata": {
    "collapsed": false
   },
   "outputs": [
    {
     "name": "stderr",
     "output_type": "stream",
     "text": [
      "C:\\Program Files\\Anaconda3\\lib\\site-packages\\linearmodels\\panel\\data.py:39: FutureWarning: \n",
      "Passing list-likes to .loc or [] with any missing label will raise\n",
      "KeyError in the future, you can use .reindex() as an alternative.\n",
      "\n",
      "See the documentation here:\n",
      "https://pandas.pydata.org/pandas-docs/stable/indexing.html#deprecate-loc-reindex-listlike\n",
      "  new_df = df.copy().loc[self._full_index]\n",
      "C:\\Program Files\\Anaconda3\\lib\\site-packages\\linearmodels\\utility.py:476: MissingValueWarning: \n",
      "Inputs contain missing values. Dropping rows with missing observations.\n",
      "  warnings.warn(missing_value_warning_msg, MissingValueWarning)\n"
     ]
    },
    {
     "name": "stdout",
     "output_type": "stream",
     "text": [
      "                          PanelOLS Estimation Summary                           \n",
      "================================================================================\n",
      "Dep. Variable:            UPT_ADJ_log   R-squared:                        0.4962\n",
      "Estimator:                   PanelOLS   R-squared (Between):              0.9517\n",
      "No. Observations:                3979   R-squared (Within):               0.4962\n",
      "Date:                Sun, Dec 15 2019   R-squared (Overall):              0.9513\n",
      "Time:                        13:28:08   Log-likelihood                    1292.5\n",
      "Cov. Estimator:            Unadjusted                                           \n",
      "                                        F-statistic:                      214.45\n",
      "Entities:                         260   P-value                           0.0000\n",
      "Avg Obs:                       15.304   Distribution:                 F(17,3702)\n",
      "Min Obs:                       1.0000                                           \n",
      "Max Obs:                       17.000   F-statistic (robust):             214.45\n",
      "                                        P-value                           0.0000\n",
      "Time periods:                      17   Distribution:                 F(17,3702)\n",
      "Avg Obs:                       234.06                                           \n",
      "Min Obs:                       166.00                                           \n",
      "Max Obs:                       258.00                                           \n",
      "                                                                                \n",
      "                                      Parameter Estimates                                       \n",
      "================================================================================================\n",
      "                              Parameter  Std. Err.     T-stat    P-value    Lower CI    Upper CI\n",
      "------------------------------------------------------------------------------------------------\n",
      "VRM_ADJ_log                      0.6026     0.0139     43.445     0.0000      0.5754      0.6297\n",
      "FARE_per_UPT_2018_log           -0.2725     0.0155    -17.574     0.0000     -0.3029     -0.2421\n",
      "POP_EMP_log                      0.4819     0.0572     8.4214     0.0000      0.3697      0.5942\n",
      "GAS_PRICE_2018_log               0.1735     0.0254     6.8297     0.0000      0.1237      0.2233\n",
      "TOTAL_MED_INC_INDIV_2018_log    -0.3411     0.0534    -6.3820     0.0000     -0.4458     -0.2363\n",
      "Tot_NonUSA_POP_pct               0.0299     0.0087     3.4242     0.0006      0.0128      0.0470\n",
      "PCT_HH_NO_VEH                    0.0065     0.0031     2.1100     0.0349      0.0005      0.0126\n",
      "TSD_POP_PCT                      0.3600     0.1486     2.4227     0.0155      0.0687      0.6513\n",
      "JTW_HOME_PCT                    -0.0082     0.0040    -2.0295     0.0425     -0.0160     -0.0003\n",
      "RAIL_COMPETITION                -0.0846     0.0282    -3.0051     0.0027     -0.1399     -0.0294\n",
      "YEARS_SINCE_RAIL_START_1         0.1290     0.0751     1.7174     0.0860     -0.0183      0.2763\n",
      "YEARS_SINCE_TNC_BUS             -0.0238     0.0043    -5.5465     0.0000     -0.0323     -0.0154\n",
      "YEARS_SINCE_TNC_RAIL            -0.0051     0.0075    -0.6838     0.4941     -0.0198      0.0096\n",
      "BIKE_SHARE_BUS                   0.0110     0.0145     0.7549     0.4503     -0.0175      0.0395\n",
      "scooter_flag_BUS                -0.0205     0.0307    -0.6689     0.5036     -0.0806      0.0396\n",
      "BIKE_SHARE_RAIL                  0.0136     0.0291     0.4669     0.6406     -0.0435      0.0707\n",
      "scooter_flag_RAIL               -0.0873     0.0492    -1.7726     0.0764     -0.1838      0.0093\n",
      "================================================================================================\n",
      "\n",
      "F-test for Poolability: 104.84\n",
      "P-value: 0.0000\n",
      "Distribution: F(259,3702)\n",
      "\n",
      "Included effects: Entity\n"
     ]
    }
   ],
   "source": [
    "# model without maintenance\n",
    "\n",
    "mod=PanelOLS.from_formula('UPT_ADJ_log \\\n",
    "                    ~ VRM_ADJ_log \\\n",
    "                    + FARE_per_UPT_2018_log \\\n",
    "                    + POP_EMP_log \\\n",
    "                    + GAS_PRICE_2018_log \\\n",
    "                    + TOTAL_MED_INC_INDIV_2018_log \\\n",
    "                    + Tot_NonUSA_POP_pct \\\n",
    "                    + PCT_HH_NO_VEH \\\n",
    "                    + TSD_POP_PCT \\\n",
    "                    + JTW_HOME_PCT \\\n",
    "                    + RAIL_COMPETITION \\\n",
    "                    + YEARS_SINCE_RAIL_START_1 \\\n",
    "                    + YEARS_SINCE_TNC_BUS \\\n",
    "                    + YEARS_SINCE_TNC_RAIL \\\n",
    "                    + BIKE_SHARE_BUS \\\n",
    "                    + scooter_flag_BUS \\\n",
    "                    + BIKE_SHARE_RAIL \\\n",
    "                    + scooter_flag_RAIL \\\n",
    "                    + EntityEffects \\\n",
    "                    ',data=df)\n",
    "res=mod.fit()\n",
    "print(res)"
   ]
  },
  {
   "cell_type": "code",
   "execution_count": 27,
   "metadata": {
    "collapsed": false
   },
   "outputs": [
    {
     "name": "stderr",
     "output_type": "stream",
     "text": [
      "C:\\Program Files\\Anaconda3\\lib\\site-packages\\linearmodels\\panel\\data.py:39: FutureWarning: \n",
      "Passing list-likes to .loc or [] with any missing label will raise\n",
      "KeyError in the future, you can use .reindex() as an alternative.\n",
      "\n",
      "See the documentation here:\n",
      "https://pandas.pydata.org/pandas-docs/stable/indexing.html#deprecate-loc-reindex-listlike\n",
      "  new_df = df.copy().loc[self._full_index]\n",
      "C:\\Program Files\\Anaconda3\\lib\\site-packages\\linearmodels\\utility.py:476: MissingValueWarning: \n",
      "Inputs contain missing values. Dropping rows with missing observations.\n",
      "  warnings.warn(missing_value_warning_msg, MissingValueWarning)\n"
     ]
    },
    {
     "name": "stdout",
     "output_type": "stream",
     "text": [
      "                          PanelOLS Estimation Summary                           \n",
      "================================================================================\n",
      "Dep. Variable:            UPT_ADJ_log   R-squared:                        0.4958\n",
      "Estimator:                   PanelOLS   R-squared (Between):              0.9526\n",
      "No. Observations:                3979   R-squared (Within):               0.4958\n",
      "Date:                Sun, Dec 15 2019   R-squared (Overall):              0.9523\n",
      "Time:                        13:28:10   Log-likelihood                    1290.9\n",
      "Cov. Estimator:            Unadjusted                                           \n",
      "                                        F-statistic:                      227.55\n",
      "Entities:                         260   P-value                           0.0000\n",
      "Avg Obs:                       15.304   Distribution:                 F(16,3703)\n",
      "Min Obs:                       1.0000                                           \n",
      "Max Obs:                       17.000   F-statistic (robust):             227.55\n",
      "                                        P-value                           0.0000\n",
      "Time periods:                      17   Distribution:                 F(16,3703)\n",
      "Avg Obs:                       234.06                                           \n",
      "Min Obs:                       166.00                                           \n",
      "Max Obs:                       258.00                                           \n",
      "                                                                                \n",
      "                                      Parameter Estimates                                       \n",
      "================================================================================================\n",
      "                              Parameter  Std. Err.     T-stat    P-value    Lower CI    Upper CI\n",
      "------------------------------------------------------------------------------------------------\n",
      "VRM_ADJ_log                      0.6063     0.0137     44.254     0.0000      0.5794      0.6332\n",
      "FARE_per_UPT_2018_log           -0.2714     0.0155    -17.513     0.0000     -0.3018     -0.2410\n",
      "POP_EMP_log                      0.4798     0.0572     8.3843     0.0000      0.3676      0.5920\n",
      "GAS_PRICE_2018_log               0.1737     0.0254     6.8341     0.0000      0.1239      0.2235\n",
      "TOTAL_MED_INC_INDIV_2018_log    -0.3400     0.0535    -6.3614     0.0000     -0.4448     -0.2352\n",
      "Tot_NonUSA_POP_pct               0.0301     0.0087     3.4506     0.0006      0.0130      0.0472\n",
      "PCT_HH_NO_VEH                    0.0066     0.0031     2.1229     0.0338      0.0005      0.0126\n",
      "TSD_POP_PCT                      0.3569     0.1486     2.4018     0.0164      0.0656      0.6483\n",
      "JTW_HOME_PCT                    -0.0084     0.0040    -2.0892     0.0368     -0.0163     -0.0005\n",
      "RAIL_COMPETITION                -0.0846     0.0282    -3.0034     0.0027     -0.1398     -0.0294\n",
      "YEARS_SINCE_TNC_BUS             -0.0238     0.0043    -5.5467     0.0000     -0.0323     -0.0154\n",
      "YEARS_SINCE_TNC_RAIL            -0.0051     0.0075    -0.6853     0.4932     -0.0198      0.0096\n",
      "BIKE_SHARE_BUS                   0.0110     0.0145     0.7531     0.4514     -0.0176      0.0395\n",
      "scooter_flag_BUS                -0.0204     0.0307    -0.6654     0.5059     -0.0806      0.0397\n",
      "BIKE_SHARE_RAIL                  0.0167     0.0291     0.5739     0.5661     -0.0403      0.0737\n",
      "scooter_flag_RAIL               -0.0863     0.0492    -1.7519     0.0799     -0.1828      0.0103\n",
      "================================================================================================\n",
      "\n",
      "F-test for Poolability: 104.88\n",
      "P-value: 0.0000\n",
      "Distribution: F(259,3703)\n",
      "\n",
      "Included effects: Entity\n"
     ]
    }
   ],
   "source": [
    "# drop rail ramp up\n",
    "\n",
    "\n",
    "mod=PanelOLS.from_formula('UPT_ADJ_log \\\n",
    "                    ~ VRM_ADJ_log \\\n",
    "                    + FARE_per_UPT_2018_log \\\n",
    "                    + POP_EMP_log \\\n",
    "                    + GAS_PRICE_2018_log \\\n",
    "                    + TOTAL_MED_INC_INDIV_2018_log \\\n",
    "                    + Tot_NonUSA_POP_pct \\\n",
    "                    + PCT_HH_NO_VEH \\\n",
    "                    + TSD_POP_PCT \\\n",
    "                    + JTW_HOME_PCT \\\n",
    "                    + RAIL_COMPETITION \\\n",
    "                    + YEARS_SINCE_TNC_BUS \\\n",
    "                    + YEARS_SINCE_TNC_RAIL \\\n",
    "                    + BIKE_SHARE_BUS \\\n",
    "                    + scooter_flag_BUS \\\n",
    "                    + BIKE_SHARE_RAIL \\\n",
    "                    + scooter_flag_RAIL \\\n",
    "                    + EntityEffects \\\n",
    "                    ',data=df)\n",
    "res=mod.fit()\n",
    "print(res)"
   ]
  },
  {
   "cell_type": "code",
   "execution_count": 28,
   "metadata": {
    "collapsed": false
   },
   "outputs": [
    {
     "name": "stderr",
     "output_type": "stream",
     "text": [
      "C:\\Program Files\\Anaconda3\\lib\\site-packages\\linearmodels\\panel\\data.py:39: FutureWarning: \n",
      "Passing list-likes to .loc or [] with any missing label will raise\n",
      "KeyError in the future, you can use .reindex() as an alternative.\n",
      "\n",
      "See the documentation here:\n",
      "https://pandas.pydata.org/pandas-docs/stable/indexing.html#deprecate-loc-reindex-listlike\n",
      "  new_df = df.copy().loc[self._full_index]\n",
      "C:\\Program Files\\Anaconda3\\lib\\site-packages\\linearmodels\\utility.py:476: MissingValueWarning: \n",
      "Inputs contain missing values. Dropping rows with missing observations.\n",
      "  warnings.warn(missing_value_warning_msg, MissingValueWarning)\n"
     ]
    },
    {
     "name": "stdout",
     "output_type": "stream",
     "text": [
      "                          PanelOLS Estimation Summary                           \n",
      "================================================================================\n",
      "Dep. Variable:            UPT_ADJ_log   R-squared:                        0.4945\n",
      "Estimator:                   PanelOLS   R-squared (Between):              0.9542\n",
      "No. Observations:                3979   R-squared (Within):               0.4945\n",
      "Date:                Sun, Dec 15 2019   R-squared (Overall):              0.9539\n",
      "Time:                        13:28:11   Log-likelihood                    1286.1\n",
      "Cov. Estimator:            Unadjusted                                           \n",
      "                                        F-statistic:                      241.60\n",
      "Entities:                         260   P-value                           0.0000\n",
      "Avg Obs:                       15.304   Distribution:                 F(15,3704)\n",
      "Min Obs:                       1.0000                                           \n",
      "Max Obs:                       17.000   F-statistic (robust):             241.60\n",
      "                                        P-value                           0.0000\n",
      "Time periods:                      17   Distribution:                 F(15,3704)\n",
      "Avg Obs:                       234.06                                           \n",
      "Min Obs:                       166.00                                           \n",
      "Max Obs:                       258.00                                           \n",
      "                                                                                \n",
      "                                      Parameter Estimates                                       \n",
      "================================================================================================\n",
      "                              Parameter  Std. Err.     T-stat    P-value    Lower CI    Upper CI\n",
      "------------------------------------------------------------------------------------------------\n",
      "VRM_ADJ_log                      0.6070     0.0137     44.265     0.0000      0.5801      0.6339\n",
      "FARE_per_UPT_2018_log           -0.2691     0.0155    -17.368     0.0000     -0.2995     -0.2388\n",
      "POP_EMP_log                      0.4793     0.0573     8.3653     0.0000      0.3669      0.5916\n",
      "GAS_PRICE_2018_log               0.1704     0.0254     6.7045     0.0000      0.1206      0.2203\n",
      "TOTAL_MED_INC_INDIV_2018_log    -0.3365     0.0535    -6.2901     0.0000     -0.4414     -0.2316\n",
      "Tot_NonUSA_POP_pct               0.0290     0.0087     3.3231     0.0009      0.0119      0.0461\n",
      "PCT_HH_NO_VEH                    0.0072     0.0031     2.3321     0.0197      0.0011      0.0132\n",
      "TSD_POP_PCT                      0.3790     0.1486     2.5508     0.0108      0.0877      0.6703\n",
      "JTW_HOME_PCT                    -0.0087     0.0040    -2.1662     0.0304     -0.0166     -0.0008\n",
      "YEARS_SINCE_TNC_BUS             -0.0244     0.0043    -5.6848     0.0000     -0.0329     -0.0160\n",
      "YEARS_SINCE_TNC_RAIL            -0.0050     0.0075    -0.6657     0.5056     -0.0197      0.0097\n",
      "BIKE_SHARE_BUS                   0.0079     0.0145     0.5462     0.5850     -0.0205      0.0364\n",
      "scooter_flag_BUS                -0.0210     0.0307    -0.6836     0.4943     -0.0812      0.0392\n",
      "BIKE_SHARE_RAIL                  0.0172     0.0291     0.5920     0.5539     -0.0398      0.0743\n",
      "scooter_flag_RAIL               -0.0860     0.0493    -1.7450     0.0811     -0.1826      0.0106\n",
      "================================================================================================\n",
      "\n",
      "F-test for Poolability: 104.62\n",
      "P-value: 0.0000\n",
      "Distribution: F(259,3704)\n",
      "\n",
      "Included effects: Entity\n"
     ]
    }
   ],
   "source": [
    "# drop rail competition -- it only makes it more complicated\n",
    "\n",
    "mod=PanelOLS.from_formula('UPT_ADJ_log \\\n",
    "                    ~ VRM_ADJ_log \\\n",
    "                    + FARE_per_UPT_2018_log \\\n",
    "                    + POP_EMP_log \\\n",
    "                    + GAS_PRICE_2018_log \\\n",
    "                    + TOTAL_MED_INC_INDIV_2018_log \\\n",
    "                    + Tot_NonUSA_POP_pct \\\n",
    "                    + PCT_HH_NO_VEH \\\n",
    "                    + TSD_POP_PCT \\\n",
    "                    + JTW_HOME_PCT \\\n",
    "                    + YEARS_SINCE_TNC_BUS \\\n",
    "                    + YEARS_SINCE_TNC_RAIL \\\n",
    "                    + BIKE_SHARE_BUS \\\n",
    "                    + scooter_flag_BUS \\\n",
    "                    + BIKE_SHARE_RAIL \\\n",
    "                    + scooter_flag_RAIL \\\n",
    "                    + EntityEffects \\\n",
    "                    ',data=df)\n",
    "res=mod.fit()\n",
    "print(res)"
   ]
  },
  {
   "cell_type": "code",
   "execution_count": 29,
   "metadata": {
    "collapsed": false
   },
   "outputs": [
    {
     "name": "stderr",
     "output_type": "stream",
     "text": [
      "C:\\Program Files\\Anaconda3\\lib\\site-packages\\linearmodels\\panel\\data.py:39: FutureWarning: \n",
      "Passing list-likes to .loc or [] with any missing label will raise\n",
      "KeyError in the future, you can use .reindex() as an alternative.\n",
      "\n",
      "See the documentation here:\n",
      "https://pandas.pydata.org/pandas-docs/stable/indexing.html#deprecate-loc-reindex-listlike\n",
      "  new_df = df.copy().loc[self._full_index]\n",
      "C:\\Program Files\\Anaconda3\\lib\\site-packages\\linearmodels\\utility.py:476: MissingValueWarning: \n",
      "Inputs contain missing values. Dropping rows with missing observations.\n",
      "  warnings.warn(missing_value_warning_msg, MissingValueWarning)\n"
     ]
    },
    {
     "name": "stdout",
     "output_type": "stream",
     "text": [
      "                          PanelOLS Estimation Summary                           \n",
      "================================================================================\n",
      "Dep. Variable:            UPT_ADJ_log   R-squared:                        0.4930\n",
      "Estimator:                   PanelOLS   R-squared (Between):              0.9598\n",
      "No. Observations:                3979   R-squared (Within):               0.4930\n",
      "Date:                Sun, Dec 15 2019   R-squared (Overall):              0.9595\n",
      "Time:                        13:28:12   Log-likelihood                    1280.2\n",
      "Cov. Estimator:            Unadjusted                                           \n",
      "                                        F-statistic:                      257.37\n",
      "Entities:                         260   P-value                           0.0000\n",
      "Avg Obs:                       15.304   Distribution:                 F(14,3705)\n",
      "Min Obs:                       1.0000                                           \n",
      "Max Obs:                       17.000   F-statistic (robust):             257.37\n",
      "                                        P-value                           0.0000\n",
      "Time periods:                      17   Distribution:                 F(14,3705)\n",
      "Avg Obs:                       234.06                                           \n",
      "Min Obs:                       166.00                                           \n",
      "Max Obs:                       258.00                                           \n",
      "                                                                                \n",
      "                                      Parameter Estimates                                       \n",
      "================================================================================================\n",
      "                              Parameter  Std. Err.     T-stat    P-value    Lower CI    Upper CI\n",
      "------------------------------------------------------------------------------------------------\n",
      "VRM_ADJ_log                      0.6080     0.0137     44.286     0.0000      0.5811      0.6349\n",
      "FARE_per_UPT_2018_log           -0.2676     0.0155    -17.254     0.0000     -0.2980     -0.2372\n",
      "POP_EMP_log                      0.5016     0.0570     8.8043     0.0000      0.3899      0.6133\n",
      "GAS_PRICE_2018_log               0.1734     0.0254     6.8185     0.0000      0.1236      0.2233\n",
      "TOTAL_MED_INC_INDIV_2018_log    -0.3445     0.0535    -6.4371     0.0000     -0.4494     -0.2396\n",
      "PCT_HH_NO_VEH                    0.0073     0.0031     2.3744     0.0176      0.0013      0.0134\n",
      "TSD_POP_PCT                      0.3633     0.1487     2.4428     0.0146      0.0717      0.6548\n",
      "JTW_HOME_PCT                    -0.0078     0.0040    -1.9410     0.0523     -0.0157   7.857e-05\n",
      "YEARS_SINCE_TNC_BUS             -0.0230     0.0043    -5.3622     0.0000     -0.0313     -0.0146\n",
      "YEARS_SINCE_TNC_RAIL            -0.0043     0.0075    -0.5673     0.5706     -0.0190      0.0105\n",
      "BIKE_SHARE_BUS                   0.0076     0.0145     0.5198     0.6032     -0.0210      0.0361\n",
      "scooter_flag_BUS                -0.0229     0.0307    -0.7440     0.4569     -0.0832      0.0374\n",
      "BIKE_SHARE_RAIL                  0.0181     0.0291     0.6228     0.5335     -0.0390      0.0753\n",
      "scooter_flag_RAIL               -0.0871     0.0494    -1.7657     0.0775     -0.1839      0.0096\n",
      "================================================================================================\n",
      "\n",
      "F-test for Poolability: 106.70\n",
      "P-value: 0.0000\n",
      "Distribution: F(259,3705)\n",
      "\n",
      "Included effects: Entity\n"
     ]
    }
   ],
   "source": [
    "# drop immigrant population -- it only makes it more complicated and doesn't add much\n",
    "\n",
    "mod=PanelOLS.from_formula('UPT_ADJ_log \\\n",
    "                    ~ VRM_ADJ_log \\\n",
    "                    + FARE_per_UPT_2018_log \\\n",
    "                    + POP_EMP_log \\\n",
    "                    + GAS_PRICE_2018_log \\\n",
    "                    + TOTAL_MED_INC_INDIV_2018_log \\\n",
    "                    + PCT_HH_NO_VEH \\\n",
    "                    + TSD_POP_PCT \\\n",
    "                    + JTW_HOME_PCT \\\n",
    "                    + YEARS_SINCE_TNC_BUS \\\n",
    "                    + YEARS_SINCE_TNC_RAIL \\\n",
    "                    + BIKE_SHARE_BUS \\\n",
    "                    + scooter_flag_BUS \\\n",
    "                    + BIKE_SHARE_RAIL \\\n",
    "                    + scooter_flag_RAIL \\\n",
    "                    + EntityEffects \\\n",
    "                    ',data=df)\n",
    "res=mod.fit()\n",
    "print(res)"
   ]
  },
  {
   "cell_type": "code",
   "execution_count": 30,
   "metadata": {
    "collapsed": false
   },
   "outputs": [
    {
     "name": "stderr",
     "output_type": "stream",
     "text": [
      "C:\\Program Files\\Anaconda3\\lib\\site-packages\\linearmodels\\panel\\data.py:39: FutureWarning: \n",
      "Passing list-likes to .loc or [] with any missing label will raise\n",
      "KeyError in the future, you can use .reindex() as an alternative.\n",
      "\n",
      "See the documentation here:\n",
      "https://pandas.pydata.org/pandas-docs/stable/indexing.html#deprecate-loc-reindex-listlike\n",
      "  new_df = df.copy().loc[self._full_index]\n",
      "C:\\Program Files\\Anaconda3\\lib\\site-packages\\linearmodels\\utility.py:476: MissingValueWarning: \n",
      "Inputs contain missing values. Dropping rows with missing observations.\n",
      "  warnings.warn(missing_value_warning_msg, MissingValueWarning)\n"
     ]
    },
    {
     "name": "stdout",
     "output_type": "stream",
     "text": [
      "                          PanelOLS Estimation Summary                           \n",
      "================================================================================\n",
      "Dep. Variable:            UPT_ADJ_log   R-squared:                        0.4994\n",
      "Estimator:                   PanelOLS   R-squared (Between):              0.9501\n",
      "No. Observations:                3979   R-squared (Within):               0.4994\n",
      "Date:                Sun, Dec 15 2019   R-squared (Overall):              0.9514\n",
      "Time:                        13:28:13   Log-likelihood                    1305.3\n",
      "Cov. Estimator:            Unadjusted                                           \n",
      "                                        F-statistic:                      246.34\n",
      "Entities:                         260   P-value                           0.0000\n",
      "Avg Obs:                       15.304   Distribution:                 F(15,3704)\n",
      "Min Obs:                       1.0000                                           \n",
      "Max Obs:                       17.000   F-statistic (robust):             246.34\n",
      "                                        P-value                           0.0000\n",
      "Time periods:                      17   Distribution:                 F(15,3704)\n",
      "Avg Obs:                       234.06                                           \n",
      "Min Obs:                       166.00                                           \n",
      "Max Obs:                       258.00                                           \n",
      "                                                                                \n",
      "                                      Parameter Estimates                                       \n",
      "================================================================================================\n",
      "                              Parameter  Std. Err.     T-stat    P-value    Lower CI    Upper CI\n",
      "------------------------------------------------------------------------------------------------\n",
      "VRM_ADJ_BUS_log                  0.6594     0.0156     42.371     0.0000      0.6288      0.6899\n",
      "VRM_ADJ_RAIL_log                 0.4513     0.0266     16.969     0.0000      0.3991      0.5034\n",
      "FARE_per_UPT_2018_log           -0.2637     0.0154    -17.098     0.0000     -0.2940     -0.2335\n",
      "POP_EMP_log                      0.4627     0.0569     8.1301     0.0000      0.3511      0.5742\n",
      "GAS_PRICE_2018_log               0.1739     0.0253     6.8775     0.0000      0.1243      0.2234\n",
      "TOTAL_MED_INC_INDIV_2018_log    -0.3352     0.0532    -6.2998     0.0000     -0.4395     -0.2309\n",
      "PCT_HH_NO_VEH                    0.0080     0.0031     2.6007     0.0093      0.0020      0.0140\n",
      "TSD_POP_PCT                      0.2423     0.1488     1.6277     0.1037     -0.0496      0.5341\n",
      "JTW_HOME_PCT                    -0.0083     0.0040    -2.0673     0.0388     -0.0161     -0.0004\n",
      "YEARS_SINCE_TNC_BUS             -0.0238     0.0043    -5.5817     0.0000     -0.0321     -0.0154\n",
      "YEARS_SINCE_TNC_RAIL             0.0023     0.0075     0.3081     0.7580     -0.0124      0.0171\n",
      "BIKE_SHARE_BUS                   0.0062     0.0145     0.4266     0.6697     -0.0222      0.0345\n",
      "scooter_flag_BUS                -0.0206     0.0306    -0.6747     0.4999     -0.0805      0.0393\n",
      "BIKE_SHARE_RAIL                  0.0526     0.0294     1.7894     0.0736     -0.0050      0.1102\n",
      "scooter_flag_RAIL               -0.0831     0.0491    -1.6941     0.0903     -0.1793      0.0131\n",
      "================================================================================================\n",
      "\n",
      "F-test for Poolability: 105.81\n",
      "P-value: 0.0000\n",
      "Distribution: F(259,3704)\n",
      "\n",
      "Included effects: Entity\n"
     ]
    }
   ],
   "source": [
    "# segment VRM by bus vs rail -- don't keep this.\n",
    "\n",
    "df['VRM_ADJ_BUS_log'] = df['VRM_ADJ_log'] * df['BUS_FLAG']\n",
    "df['VRM_ADJ_RAIL_log'] = df['VRM_ADJ_log'] * df['RAIL_FLAG']\n",
    "\n",
    "\n",
    "mod=PanelOLS.from_formula('UPT_ADJ_log \\\n",
    "                    ~ VRM_ADJ_BUS_log \\\n",
    "                    + VRM_ADJ_RAIL_log \\\n",
    "                    + FARE_per_UPT_2018_log \\\n",
    "                    + POP_EMP_log \\\n",
    "                    + GAS_PRICE_2018_log \\\n",
    "                    + TOTAL_MED_INC_INDIV_2018_log \\\n",
    "                    + PCT_HH_NO_VEH \\\n",
    "                    + TSD_POP_PCT \\\n",
    "                    + JTW_HOME_PCT \\\n",
    "                    + YEARS_SINCE_TNC_BUS \\\n",
    "                    + YEARS_SINCE_TNC_RAIL \\\n",
    "                    + BIKE_SHARE_BUS \\\n",
    "                    + scooter_flag_BUS \\\n",
    "                    + BIKE_SHARE_RAIL \\\n",
    "                    + scooter_flag_RAIL \\\n",
    "                    + EntityEffects \\\n",
    "                    ',data=df)\n",
    "res=mod.fit()\n",
    "print(res)"
   ]
  },
  {
   "cell_type": "code",
   "execution_count": null,
   "metadata": {
    "collapsed": true
   },
   "outputs": [],
   "source": []
  },
  {
   "cell_type": "markdown",
   "metadata": {},
   "source": [
    "## Run some analytics"
   ]
  },
  {
   "cell_type": "code",
   "execution_count": 31,
   "metadata": {
    "collapsed": false
   },
   "outputs": [
    {
     "name": "stderr",
     "output_type": "stream",
     "text": [
      "C:\\Program Files\\Anaconda3\\lib\\site-packages\\linearmodels\\panel\\data.py:39: FutureWarning: \n",
      "Passing list-likes to .loc or [] with any missing label will raise\n",
      "KeyError in the future, you can use .reindex() as an alternative.\n",
      "\n",
      "See the documentation here:\n",
      "https://pandas.pydata.org/pandas-docs/stable/indexing.html#deprecate-loc-reindex-listlike\n",
      "  new_df = df.copy().loc[self._full_index]\n",
      "C:\\Program Files\\Anaconda3\\lib\\site-packages\\linearmodels\\utility.py:476: MissingValueWarning: \n",
      "Inputs contain missing values. Dropping rows with missing observations.\n",
      "  warnings.warn(missing_value_warning_msg, MissingValueWarning)\n"
     ]
    },
    {
     "name": "stdout",
     "output_type": "stream",
     "text": [
      "                          PanelOLS Estimation Summary                           \n",
      "================================================================================\n",
      "Dep. Variable:            UPT_ADJ_log   R-squared:                        0.4930\n",
      "Estimator:                   PanelOLS   R-squared (Between):              0.9598\n",
      "No. Observations:                3979   R-squared (Within):               0.4930\n",
      "Date:                Sun, Dec 15 2019   R-squared (Overall):              0.9595\n",
      "Time:                        13:28:19   Log-likelihood                    1280.2\n",
      "Cov. Estimator:            Unadjusted                                           \n",
      "                                        F-statistic:                      257.37\n",
      "Entities:                         260   P-value                           0.0000\n",
      "Avg Obs:                       15.304   Distribution:                 F(14,3705)\n",
      "Min Obs:                       1.0000                                           \n",
      "Max Obs:                       17.000   F-statistic (robust):             257.37\n",
      "                                        P-value                           0.0000\n",
      "Time periods:                      17   Distribution:                 F(14,3705)\n",
      "Avg Obs:                       234.06                                           \n",
      "Min Obs:                       166.00                                           \n",
      "Max Obs:                       258.00                                           \n",
      "                                                                                \n",
      "                                      Parameter Estimates                                       \n",
      "================================================================================================\n",
      "                              Parameter  Std. Err.     T-stat    P-value    Lower CI    Upper CI\n",
      "------------------------------------------------------------------------------------------------\n",
      "VRM_ADJ_log                      0.6080     0.0137     44.286     0.0000      0.5811      0.6349\n",
      "FARE_per_UPT_2018_log           -0.2676     0.0155    -17.254     0.0000     -0.2980     -0.2372\n",
      "POP_EMP_log                      0.5016     0.0570     8.8043     0.0000      0.3899      0.6133\n",
      "GAS_PRICE_2018_log               0.1734     0.0254     6.8185     0.0000      0.1236      0.2233\n",
      "TOTAL_MED_INC_INDIV_2018_log    -0.3445     0.0535    -6.4371     0.0000     -0.4494     -0.2396\n",
      "PCT_HH_NO_VEH                    0.0073     0.0031     2.3744     0.0176      0.0013      0.0134\n",
      "TSD_POP_PCT                      0.3633     0.1487     2.4428     0.0146      0.0717      0.6548\n",
      "JTW_HOME_PCT                    -0.0078     0.0040    -1.9410     0.0523     -0.0157   7.857e-05\n",
      "YEARS_SINCE_TNC_BUS             -0.0230     0.0043    -5.3622     0.0000     -0.0313     -0.0146\n",
      "YEARS_SINCE_TNC_RAIL            -0.0043     0.0075    -0.5673     0.5706     -0.0190      0.0105\n",
      "BIKE_SHARE_BUS                   0.0076     0.0145     0.5198     0.6032     -0.0210      0.0361\n",
      "scooter_flag_BUS                -0.0229     0.0307    -0.7440     0.4569     -0.0832      0.0374\n",
      "BIKE_SHARE_RAIL                  0.0181     0.0291     0.6228     0.5335     -0.0390      0.0753\n",
      "scooter_flag_RAIL               -0.0871     0.0494    -1.7657     0.0775     -0.1839      0.0096\n",
      "================================================================================================\n",
      "\n",
      "F-test for Poolability: 106.70\n",
      "P-value: 0.0000\n",
      "Distribution: F(259,3705)\n",
      "\n",
      "Included effects: Entity\n"
     ]
    }
   ],
   "source": [
    "# without immigrant population\n",
    "\n",
    "mod=PanelOLS.from_formula('UPT_ADJ_log \\\n",
    "                    ~ VRM_ADJ_log \\\n",
    "                    + FARE_per_UPT_2018_log \\\n",
    "                    + POP_EMP_log \\\n",
    "                    + GAS_PRICE_2018_log \\\n",
    "                    + TOTAL_MED_INC_INDIV_2018_log \\\n",
    "                    + PCT_HH_NO_VEH \\\n",
    "                    + TSD_POP_PCT \\\n",
    "                    + JTW_HOME_PCT \\\n",
    "                    + YEARS_SINCE_TNC_BUS \\\n",
    "                    + YEARS_SINCE_TNC_RAIL \\\n",
    "                    + BIKE_SHARE_BUS \\\n",
    "                    + scooter_flag_BUS \\\n",
    "                    + BIKE_SHARE_RAIL \\\n",
    "                    + scooter_flag_RAIL \\\n",
    "                    + EntityEffects \\\n",
    "                    ',data=df)\n",
    "res=mod.fit()\n",
    "print(res)"
   ]
  },
  {
   "cell_type": "code",
   "execution_count": 32,
   "metadata": {
    "collapsed": false
   },
   "outputs": [
    {
     "data": {
      "text/plain": [
       "<matplotlib.axes._subplots.AxesSubplot at 0xff10bc9710>"
      ]
     },
     "execution_count": 32,
     "metadata": {},
     "output_type": "execute_result"
    },
    {
     "data": {
      "image/png": "[encoded data removed]",
      "text/plain": [
       "<matplotlib.figure.Figure at 0xff10c52ef0>"
      ]
     },
     "metadata": {},
     "output_type": "display_data"
    }
   ],
   "source": [
    "sns.distplot(res.resids)"
   ]
  },
  {
   "cell_type": "code",
   "execution_count": 33,
   "metadata": {
    "collapsed": false
   },
   "outputs": [
    {
     "data": {
      "image/png": "[encoded data removed]",
      "text/plain": [
       "<matplotlib.figure.Figure at 0xff10bde5f8>"
      ]
     },
     "execution_count": 33,
     "metadata": {},
     "output_type": "execute_result"
    },
    {
     "data": {
      "image/png": "[encoded data removed]",
      "text/plain": [
       "<matplotlib.figure.Figure at 0xff10bde5f8>"
      ]
     },
     "metadata": {},
     "output_type": "display_data"
    }
   ],
   "source": [
    "sm.graphics.qqplot(res.resids,line = 'q')"
   ]
  },
  {
   "cell_type": "code",
   "execution_count": null,
   "metadata": {
    "collapsed": true
   },
   "outputs": [],
   "source": []
  },
  {
   "cell_type": "code",
   "execution_count": null,
   "metadata": {
    "collapsed": true
   },
   "outputs": [],
   "source": []
  },
  {
   "cell_type": "code",
   "execution_count": null,
   "metadata": {
    "collapsed": true
   },
   "outputs": [],
   "source": []
  },
  {
   "cell_type": "markdown",
   "metadata": {},
   "source": [
    "## Calculate FAC"
   ]
  },
  {
   "cell_type": "code",
   "execution_count": 34,
   "metadata": {
    "collapsed": true
   },
   "outputs": [],
   "source": [
    "# keep the relevant fields in the data set\n",
    "app_data = pd.concat([df[['RAIL_FLAG', 'CLUSTER_APTA']], \n",
    "                      res.model.dependent.dataframe, \n",
    "                      res.model.exog.dataframe, \n",
    "                      res.estimated_effects, \n",
    "                      res.resids], axis=1)\n"
   ]
  },
  {
   "cell_type": "code",
   "execution_count": 35,
   "metadata": {
    "collapsed": false
   },
   "outputs": [
    {
     "data": {
      "text/html": [
       "<div>\n",
       "<style scoped>\n",
       "    .dataframe tbody tr th:only-of-type {\n",
       "        vertical-align: middle;\n",
       "    }\n",
       "\n",
       "    .dataframe tbody tr th {\n",
       "        vertical-align: top;\n",
       "    }\n",
       "\n",
       "    .dataframe thead th {\n",
       "        text-align: right;\n",
       "    }\n",
       "</style>\n",
       "<table border=\"1\" class=\"dataframe\">\n",
       "  <thead>\n",
       "    <tr style=\"text-align: right;\">\n",
       "      <th></th>\n",
       "      <th></th>\n",
       "      <th>RAIL_FLAG</th>\n",
       "      <th>CLUSTER_APTA</th>\n",
       "      <th>UPT_ADJ_log</th>\n",
       "      <th>VRM_ADJ_log</th>\n",
       "      <th>FARE_per_UPT_2018_log</th>\n",
       "      <th>POP_EMP_log</th>\n",
       "      <th>GAS_PRICE_2018_log</th>\n",
       "      <th>TOTAL_MED_INC_INDIV_2018_log</th>\n",
       "      <th>PCT_HH_NO_VEH</th>\n",
       "      <th>TSD_POP_PCT</th>\n",
       "      <th>JTW_HOME_PCT</th>\n",
       "      <th>YEARS_SINCE_TNC_BUS</th>\n",
       "      <th>YEARS_SINCE_TNC_RAIL</th>\n",
       "      <th>BIKE_SHARE_BUS</th>\n",
       "      <th>scooter_flag_BUS</th>\n",
       "      <th>BIKE_SHARE_RAIL</th>\n",
       "      <th>scooter_flag_RAIL</th>\n",
       "      <th>effects</th>\n",
       "      <th>residual</th>\n",
       "    </tr>\n",
       "  </thead>\n",
       "  <tbody>\n",
       "    <tr>\n",
       "      <th rowspan=\"5\" valign=\"top\">Akron, OH Metro Area-Bus</th>\n",
       "      <th>2002</th>\n",
       "      <td>0</td>\n",
       "      <td>24</td>\n",
       "      <td>15.469231</td>\n",
       "      <td>15.208377</td>\n",
       "      <td>0.568842</td>\n",
       "      <td>13.808216</td>\n",
       "      <td>1.066089</td>\n",
       "      <td>10.479210</td>\n",
       "      <td>8.60</td>\n",
       "      <td>0.185260</td>\n",
       "      <td>3.1</td>\n",
       "      <td>0.0</td>\n",
       "      <td>0.0</td>\n",
       "      <td>0.0</td>\n",
       "      <td>0.0</td>\n",
       "      <td>0.0</td>\n",
       "      <td>0.0</td>\n",
       "      <td>2.975394</td>\n",
       "      <td>-0.207894</td>\n",
       "    </tr>\n",
       "    <tr>\n",
       "      <th>2003</th>\n",
       "      <td>0</td>\n",
       "      <td>24</td>\n",
       "      <td>15.501150</td>\n",
       "      <td>15.195930</td>\n",
       "      <td>1.362981</td>\n",
       "      <td>13.823451</td>\n",
       "      <td>1.138954</td>\n",
       "      <td>10.446267</td>\n",
       "      <td>8.20</td>\n",
       "      <td>0.180770</td>\n",
       "      <td>3.1</td>\n",
       "      <td>0.0</td>\n",
       "      <td>0.0</td>\n",
       "      <td>0.0</td>\n",
       "      <td>0.0</td>\n",
       "      <td>0.0</td>\n",
       "      <td>0.0</td>\n",
       "      <td>2.975394</td>\n",
       "      <td>0.017054</td>\n",
       "    </tr>\n",
       "    <tr>\n",
       "      <th>2004</th>\n",
       "      <td>0</td>\n",
       "      <td>24</td>\n",
       "      <td>15.591676</td>\n",
       "      <td>15.277699</td>\n",
       "      <td>1.247162</td>\n",
       "      <td>13.839439</td>\n",
       "      <td>1.233697</td>\n",
       "      <td>10.403980</td>\n",
       "      <td>7.79</td>\n",
       "      <td>0.176377</td>\n",
       "      <td>3.1</td>\n",
       "      <td>0.0</td>\n",
       "      <td>0.0</td>\n",
       "      <td>0.0</td>\n",
       "      <td>0.0</td>\n",
       "      <td>0.0</td>\n",
       "      <td>0.0</td>\n",
       "      <td>2.975394</td>\n",
       "      <td>-0.007549</td>\n",
       "    </tr>\n",
       "    <tr>\n",
       "      <th>2005</th>\n",
       "      <td>0</td>\n",
       "      <td>24</td>\n",
       "      <td>15.609548</td>\n",
       "      <td>15.214971</td>\n",
       "      <td>1.355716</td>\n",
       "      <td>13.857195</td>\n",
       "      <td>1.361617</td>\n",
       "      <td>10.365663</td>\n",
       "      <td>7.47</td>\n",
       "      <td>0.172435</td>\n",
       "      <td>3.1</td>\n",
       "      <td>0.0</td>\n",
       "      <td>0.0</td>\n",
       "      <td>0.0</td>\n",
       "      <td>0.0</td>\n",
       "      <td>0.0</td>\n",
       "      <td>0.0</td>\n",
       "      <td>2.975394</td>\n",
       "      <td>0.036995</td>\n",
       "    </tr>\n",
       "    <tr>\n",
       "      <th>2006</th>\n",
       "      <td>0</td>\n",
       "      <td>24</td>\n",
       "      <td>15.619001</td>\n",
       "      <td>15.200501</td>\n",
       "      <td>1.356994</td>\n",
       "      <td>13.879496</td>\n",
       "      <td>1.429114</td>\n",
       "      <td>10.305856</td>\n",
       "      <td>6.85</td>\n",
       "      <td>0.167543</td>\n",
       "      <td>2.5</td>\n",
       "      <td>0.0</td>\n",
       "      <td>0.0</td>\n",
       "      <td>0.0</td>\n",
       "      <td>0.0</td>\n",
       "      <td>0.0</td>\n",
       "      <td>0.0</td>\n",
       "      <td>2.975394</td>\n",
       "      <td>0.013736</td>\n",
       "    </tr>\n",
       "  </tbody>\n",
       "</table>\n",
       "</div>"
      ],
      "text/plain": [
       "                               RAIL_FLAG  CLUSTER_APTA  UPT_ADJ_log  \\\n",
       "Akron, OH Metro Area-Bus 2002          0            24    15.469231   \n",
       "                         2003          0            24    15.501150   \n",
       "                         2004          0            24    15.591676   \n",
       "                         2005          0            24    15.609548   \n",
       "                         2006          0            24    15.619001   \n",
       "\n",
       "                               VRM_ADJ_log  FARE_per_UPT_2018_log  \\\n",
       "Akron, OH Metro Area-Bus 2002    15.208377               0.568842   \n",
       "                         2003    15.195930               1.362981   \n",
       "                         2004    15.277699               1.247162   \n",
       "                         2005    15.214971               1.355716   \n",
       "                         2006    15.200501               1.356994   \n",
       "\n",
       "                               POP_EMP_log  GAS_PRICE_2018_log  \\\n",
       "Akron, OH Metro Area-Bus 2002    13.808216            1.066089   \n",
       "                         2003    13.823451            1.138954   \n",
       "                         2004    13.839439            1.233697   \n",
       "                         2005    13.857195            1.361617   \n",
       "                         2006    13.879496            1.429114   \n",
       "\n",
       "                               TOTAL_MED_INC_INDIV_2018_log  PCT_HH_NO_VEH  \\\n",
       "Akron, OH Metro Area-Bus 2002                     10.479210           8.60   \n",
       "                         2003                     10.446267           8.20   \n",
       "                         2004                     10.403980           7.79   \n",
       "                         2005                     10.365663           7.47   \n",
       "                         2006                     10.305856           6.85   \n",
       "\n",
       "                               TSD_POP_PCT  JTW_HOME_PCT  YEARS_SINCE_TNC_BUS  \\\n",
       "Akron, OH Metro Area-Bus 2002     0.185260           3.1                  0.0   \n",
       "                         2003     0.180770           3.1                  0.0   \n",
       "                         2004     0.176377           3.1                  0.0   \n",
       "                         2005     0.172435           3.1                  0.0   \n",
       "                         2006     0.167543           2.5                  0.0   \n",
       "\n",
       "                               YEARS_SINCE_TNC_RAIL  BIKE_SHARE_BUS  \\\n",
       "Akron, OH Metro Area-Bus 2002                   0.0             0.0   \n",
       "                         2003                   0.0             0.0   \n",
       "                         2004                   0.0             0.0   \n",
       "                         2005                   0.0             0.0   \n",
       "                         2006                   0.0             0.0   \n",
       "\n",
       "                               scooter_flag_BUS  BIKE_SHARE_RAIL  \\\n",
       "Akron, OH Metro Area-Bus 2002               0.0              0.0   \n",
       "                         2003               0.0              0.0   \n",
       "                         2004               0.0              0.0   \n",
       "                         2005               0.0              0.0   \n",
       "                         2006               0.0              0.0   \n",
       "\n",
       "                               scooter_flag_RAIL   effects  residual  \n",
       "Akron, OH Metro Area-Bus 2002                0.0  2.975394 -0.207894  \n",
       "                         2003                0.0  2.975394  0.017054  \n",
       "                         2004                0.0  2.975394 -0.007549  \n",
       "                         2005                0.0  2.975394  0.036995  \n",
       "                         2006                0.0  2.975394  0.013736  "
      ]
     },
     "execution_count": 35,
     "metadata": {},
     "output_type": "execute_result"
    }
   ],
   "source": [
    "app_data.head()"
   ]
  },
  {
   "cell_type": "code",
   "execution_count": 36,
   "metadata": {
    "collapsed": true
   },
   "outputs": [],
   "source": [
    "# calculate the fitted values\n",
    "app_data['fitted'] = app_data['effects']\n",
    "for var in res.params.keys(): \n",
    "    app_data['fitted'] = app_data['fitted'] + (res.params[var] * app_data[var])\n",
    "\n",
    "# and check that we add up correctly\n",
    "app_data['check_fitted'] = app_data['fitted'] + app_data['residual'] - app_data['UPT_ADJ_log']"
   ]
  },
  {
   "cell_type": "code",
   "execution_count": 37,
   "metadata": {
    "collapsed": true
   },
   "outputs": [],
   "source": [
    "# create the necessary columns\n",
    "\n",
    "# dependents\n",
    "app_data['UPT_ADJ']    = np.exp(app_data['UPT_ADJ_log']) - 1\n",
    "app_data['fitted_exp'] = np.exp(app_data['fitted']) - 1\n",
    "\n",
    "# linear versions of logged variables\n",
    "for var in res.params.keys(): \n",
    "    if '_log' in var: \n",
    "        app_data[var.replace('_log', '')] = np.exp(app_data[var]) - 1              \n",
    "\n",
    "# ratios and differences\n",
    "for var in res.params.keys(): \n",
    "    if '_log' in var: \n",
    "        app_data[var.replace('_log', '_ratio')] = 1\n",
    "    else: \n",
    "        app_data[var+'_diff'] = 0\n",
    "\n",
    "# FAC multipliers\n",
    "for var in res.params.keys(): \n",
    "    app_data[var+'_FAC_ratio'] = 1\n",
    "\n",
    "app_data['UPT_ADJ_base'] = 0\n",
    "app_data['UPT_ADJ_ratio'] = 1\n",
    "app_data['fitted_exp_ratio'] = 1\n",
    "app_data['UPT_ADJ_diff'] = 0\n",
    "app_data['fitted_exp_diff'] = 0\n",
    "\n",
    "# for tracking new systems\n",
    "app_data['UPT_ADJ_first_year'] = 0\n",
    "app_data['UPT_ADJ_new_reporter'] = 0\n"
   ]
  },
  {
   "cell_type": "code",
   "execution_count": 39,
   "metadata": {
    "collapsed": false
   },
   "outputs": [],
   "source": [
    "# get the ridership in the first year the system starts. This allows us to track new systems. \n",
    "# calculate the FAC relative to a specific base year\n",
    "ids = app_data.index.get_level_values(0).unique()\n",
    "\n",
    "for id in ids: \n",
    "    years = app_data.loc[id].index.get_level_values(0).sort_values()\n",
    "    first_year = years[0]\n",
    "\n",
    "    app_data.loc[(id,first_year),'UPT_ADJ_new_reporter'] = app_data.loc[(id,first_year),'UPT_ADJ']\n",
    "    \n",
    "    for year in years: \n",
    "        app_data.loc[(id,year),'UPT_ADJ_first_year']   = app_data.loc[(id,first_year),'UPT_ADJ']\n"
   ]
  },
  {
   "cell_type": "code",
   "execution_count": 40,
   "metadata": {
    "collapsed": true
   },
   "outputs": [],
   "source": [
    "# calculate the FAC relative to a specific base year\n",
    "ids = app_data.index.get_level_values(0).unique()\n",
    "\n",
    "for id in ids: \n",
    "    years = app_data.loc[id].index.get_level_values(0).sort_values()\n",
    "\n",
    "    for year in years[1:]:       \n",
    "        base_year = year-1\n",
    "        \n",
    "        for var in res.params.keys(): \n",
    "            # ratios and differences\n",
    "            if '_log' in var: \n",
    "                out_var = var.replace('_log', '_ratio')\n",
    "                app_data.loc[(id,year), out_var] = (app_data.loc[(id,year), var] \n",
    "                                                 / app_data.loc[(id,base_year), var])\n",
    "            else: \n",
    "                out_var = var+'_diff'                    \n",
    "                app_data.loc[(id,year), out_var] = (app_data.loc[(id,year), var] \n",
    "                                                 - app_data.loc[(id,base_year), var])\n",
    "\n",
    "            # FAC multipliers\n",
    "            app_data.loc[(id,year),var+'_FAC_ratio'] = np.exp(res.params[var] * (\n",
    "                                                    app_data.loc[(id,year), var] \n",
    "                                                    - app_data.loc[(id,base_year), var]))\n",
    "\n",
    "            # estimated effects (if time effects is zero, no change)\n",
    "            app_data.loc[(id,year),'effects_FAC_ratio'] = np.exp(\n",
    "                                                    app_data.loc[(id,year), 'effects'] \n",
    "                                                    - app_data.loc[(id,base_year), 'effects'])\n",
    "\n",
    "            # residual\n",
    "            app_data.loc[(id,year),'residual_FAC_ratio'] = np.exp(\n",
    "                                                    app_data.loc[(id,year), 'residual'] \n",
    "                                                    - app_data.loc[(id,base_year), 'residual'])\n",
    "\n",
    "        # observed and fitted changes            \n",
    "        app_data.loc[(id,year),'UPT_ADJ_base'] = app_data.loc[(id,base_year),'UPT_ADJ']\n",
    "        app_data.loc[(id,year),'UPT_ADJ_ratio'] = (app_data.loc[(id,year),'UPT_ADJ'] \n",
    "                                                 / app_data.loc[(id,base_year),'UPT_ADJ'])\n",
    "        app_data.loc[(id,year),'fitted_exp_ratio'] = (app_data.loc[(id,year),'fitted_exp'] \n",
    "                                                 / app_data.loc[(id,base_year),'fitted_exp'])\n",
    "\n",
    "        app_data.loc[(id,year),'UPT_ADJ_diff'] = (app_data.loc[(id,year),'UPT_ADJ'] \n",
    "                                                 - app_data.loc[(id,base_year),'UPT_ADJ'])\n",
    "        app_data.loc[(id,year),'fitted_exp_diff'] = (app_data.loc[(id,year),'fitted_exp'] \n",
    "                                                 - app_data.loc[(id,base_year),'fitted_exp'])\n",
    "        "
   ]
  },
  {
   "cell_type": "code",
   "execution_count": 41,
   "metadata": {
    "collapsed": true
   },
   "outputs": [],
   "source": [
    "# calculate the FAC\n",
    "app_data['FAC_Sum'] = 0\n",
    "for var in res.params.keys(): \n",
    "    app_data[var+'_FAC'] = (app_data[var+'_FAC_ratio'] - 1) * app_data['UPT_ADJ_base']\n",
    "    app_data['FAC_Sum'] = app_data['FAC_Sum'] + app_data[var+'_FAC']\n"
   ]
  },
  {
   "cell_type": "code",
   "execution_count": 42,
   "metadata": {
    "collapsed": true
   },
   "outputs": [],
   "source": [
    "\n",
    "# total FAC is based on the fitted model (applied multiplicitively)\n",
    "app_data['Known_FAC'] = (app_data['fitted_exp_ratio'] - 1) * app_data['UPT_ADJ_base']\n",
    "\n",
    "# uknown change is the difference between the observed change and the known change\n",
    "app_data['Unknown_FAC'] = app_data['UPT_ADJ_diff'] - app_data['Known_FAC']\n",
    "\n",
    "# the change in ridership associated new systems\n",
    "app_data['New_Reporter_FAC'] = app_data['UPT_ADJ_new_reporter'] \n",
    "\n",
    "# should be teh same as UPT_ADJ_DIFF\n",
    "app_data['Total_Change'] = app_data['Known_FAC'] + app_data['Unknown_FAC'] + app_data['New_Reporter_FAC']\n"
   ]
  },
  {
   "cell_type": "code",
   "execution_count": 43,
   "metadata": {
    "collapsed": true
   },
   "outputs": [],
   "source": [
    "# calculate APTA - 4 groups\n",
    "app_data['CLUSTER_APTA4'] = np.floor(app_data['CLUSTER_APTA']/10)"
   ]
  },
  {
   "cell_type": "code",
   "execution_count": 44,
   "metadata": {
    "collapsed": true
   },
   "outputs": [],
   "source": [
    "# reset the index so I get ID and year\n",
    "app_data = app_data.reset_index()\n",
    "app_data = app_data.rename(columns={'level_0' : 'ID', 'level_1' : 'Year'})\n",
    "app_data.to_csv('FAC.csv')"
   ]
  },
  {
   "cell_type": "code",
   "execution_count": null,
   "metadata": {
    "collapsed": true
   },
   "outputs": [],
   "source": [
    "# these are the fields we keep\n",
    "out_fields = ['ID', 'Year', 'RAIL_FLAG', \n",
    "              'CLUSTER_APTA', 'CLUSTER_APTA4',    \n",
    "              'UPT_ADJ_first_year'\n",
    "              'UPT_ADJ_base', 'UPT_ADJ', 'UPT_ADJ_diff', \n",
    "              'fitted_exp', 'fitted_exp_diff']\n",
    "\n",
    "# exogenous variables \n",
    "for var in res.params.keys(): \n",
    "    out_var = var.replace('_log', '')\n",
    "    out_fields = out_fields + [out_var]\n",
    "    \n",
    "# FAC\n",
    "for var in res.params.keys(): \n",
    "    out_fields = out_fields + [var+'_FAC']\n",
    "out_fields = out_fields + ['FAC_Sum', 'Known_FAC', 'Unknown_FAC', 'New_Reporter_FAC', 'Total_Change']\n",
    "    \n",
    "# keep those fields\n",
    "summary_data = app_data.reset_index()[out_fields]"
   ]
  },
  {
   "cell_type": "code",
   "execution_count": null,
   "metadata": {
    "collapsed": true
   },
   "outputs": [],
   "source": []
  },
  {
   "cell_type": "code",
   "execution_count": null,
   "metadata": {
    "collapsed": true
   },
   "outputs": [],
   "source": [
    "# take weighted average of exogenous variables\n",
    "for var in res.params.keys(): \n",
    "    out_var = var.replace('_log', '')\n",
    "    summary_data[out_var] = summary_data[out_var] * summary_data['UPT_ADJ_base']\n",
    "\n",
    "# aggregate to bus/rail totals\n",
    "summary_data_apta4 = summary_data.groupby(by=['CLUSTER_APTA4', 'RAIL_FLAG', 'Year']).agg('sum')\n",
    "\n",
    "# divide for weighted averages\n",
    "for var in res.params.keys(): \n",
    "    out_var = var.replace('_log', '')\n",
    "    summary_data_apta4[out_var] = summary_data_apta4[out_var] / summary_data_apta4['UPT_ADJ_base']\n",
    "    "
   ]
  },
  {
   "cell_type": "code",
   "execution_count": null,
   "metadata": {
    "collapsed": true
   },
   "outputs": [],
   "source": [
    "# combine Bus and Rail effects into a single set of columns\n",
    "summary_data_apta4['YEARS_SINCE_TNC'] = summary_data_apta4['YEARS_SINCE_TNC_BUS'] + summary_data_apta4['YEARS_SINCE_TNC_RAIL']\n",
    "summary_data_apta4['BIKE_SHARE']      = summary_data_apta4['BIKE_SHARE_BUS'] + summary_data_apta4['BIKE_SHARE_RAIL']\n",
    "summary_data_apta4['scooter_flag']    = summary_data_apta4['scooter_flag_BUS'] + summary_data_apta4['scooter_flag_RAIL']\n",
    "\n",
    "summary_data_apta4['YEARS_SINCE_TNC_FAC'] = summary_data_apta4['YEARS_SINCE_TNC_BUS_FAC'] + summary_data_apta4['YEARS_SINCE_TNC_RAIL_FAC']\n",
    "summary_data_apta4['BIKE_SHARE_FAC']      = summary_data_apta4['BIKE_SHARE_BUS_FAC'] + summary_data_apta4['BIKE_SHARE_RAIL_FAC']\n",
    "summary_data_apta4['scooter_flag_FAC']    = summary_data_apta4['scooter_flag_BUS_FAC'] + summary_data_apta4['scooter_flag_RAIL_FAC']\n"
   ]
  },
  {
   "cell_type": "code",
   "execution_count": null,
   "metadata": {
    "collapsed": true
   },
   "outputs": [],
   "source": [
    "\n",
    "summary_data_apta4.to_csv('FAC_totals_APTA4_CLUSTERS.csv')\n"
   ]
  },
  {
   "cell_type": "code",
   "execution_count": null,
   "metadata": {
    "collapsed": false
   },
   "outputs": [],
   "source": [
    "summary_data_apta4.head(20)"
   ]
  },
  {
   "cell_type": "code",
   "execution_count": null,
   "metadata": {
    "collapsed": true
   },
   "outputs": [],
   "source": []
  },
  {
   "cell_type": "code",
   "execution_count": null,
   "metadata": {
    "collapsed": true
   },
   "outputs": [],
   "source": []
  }
 ],
 "metadata": {
  "anaconda-cloud": {},
  "kernelspec": {
   "display_name": "Python [default]",
   "language": "python",
   "name": "python3"
  },
  "language_info": {
   "codemirror_mode": {
    "name": "ipython",
    "version": 3
   },
   "file_extension": ".py",
   "mimetype": "text/x-python",
   "name": "python",
   "nbconvert_exporter": "python",
   "pygments_lexer": "ipython3",
   "version": "3.5.6"
  }
 },
 "nbformat": 4,
 "nbformat_minor": 1
}
