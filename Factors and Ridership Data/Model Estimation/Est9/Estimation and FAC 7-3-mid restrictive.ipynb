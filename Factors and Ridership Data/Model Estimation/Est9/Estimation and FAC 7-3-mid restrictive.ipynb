{
 "cells": [
  {
   "cell_type": "code",
   "execution_count": 1,
   "metadata": {
    "collapsed": false
   },
   "outputs": [
    {
     "name": "stderr",
     "output_type": "stream",
     "text": [
      "C:\\Program Files\\Anaconda3\\lib\\site-packages\\statsmodels\\compat\\pandas.py:56: FutureWarning: The pandas.core.datetools module is deprecated and will be removed in a future version. Please use the pandas.tseries module instead.\n",
      "  from pandas.core import datetools\n"
     ]
    }
   ],
   "source": [
    "import pandas as pd\n",
    "import seaborn as sns\n",
    "import numpy as np\n",
    "import linearmodels as lm\n",
    "import matplotlib\n",
    "import math\n",
    "import statsmodels.formula.api as smf\n",
    "import statsmodels.api as sm\n",
    "\n",
    "from linearmodels.panel import PanelOLS\n",
    "from linearmodels.panel import RandomEffects\n",
    "from linearmodels.panel import FirstDifferenceOLS\n",
    "from linearmodels.panel import compare\n",
    "from matplotlib import pyplot as plt\n",
    "\n",
    "from pandas.api.types import is_numeric_dtype\n",
    "\n",
    "pd.set_option('display.max_columns', 500)\n",
    "\n",
    "%matplotlib inline"
   ]
  },
  {
   "cell_type": "code",
   "execution_count": 2,
   "metadata": {
    "collapsed": false
   },
   "outputs": [
    {
     "name": "stderr",
     "output_type": "stream",
     "text": [
      "C:\\Program Files\\Anaconda3\\lib\\site-packages\\IPython\\core\\interactiveshell.py:2717: DtypeWarning: Columns (117,126) have mixed types. Specify dtype option on import or set low_memory=False.\n",
      "  interactivity=interactivity, compiler=compiler, result=result)\n"
     ]
    }
   ],
   "source": [
    "# read the main data set\n",
    "df=pd.read_csv('estimation_file_normal_fare.csv',\n",
    "                    encoding='utf-8')\n"
   ]
  },
  {
   "cell_type": "code",
   "execution_count": 3,
   "metadata": {
    "collapsed": true
   },
   "outputs": [],
   "source": [
    "# read in and join the maintenance and restructure data\n",
    "mr=pd.read_csv('maintenance_restructure.csv',\n",
    "                    encoding='utf-8')\n",
    "mr = mr[['CBSA', 'Mode', 'Year', 'MAINTENANCE', 'MAINTENANCE_NYC', 'MAINTENANCE_WMATA', 'RESTRUCTURE']]\n",
    "\n",
    "df = df.merge(mr, on=['CBSA', 'Mode', 'Year'], how='left')"
   ]
  },
  {
   "cell_type": "code",
   "execution_count": 4,
   "metadata": {
    "collapsed": true
   },
   "outputs": [],
   "source": [
    "# read in and join the bike share updates\n",
    "bsu=pd.read_csv('bike_share_update.csv',\n",
    "                    encoding='utf-8')\n",
    "bsu = bsu[['CBSA', 'Mode', 'Year', 'PBS_Flag_Update']]\n",
    "\n",
    "df = df.merge(bsu, on=['CBSA', 'Mode', 'Year'], how='left')\n",
    "\n",
    "#df['PBS_Flag_Missing'] = df['PBS_Flag'].apply(lambda x : x.isnan())\n",
    "df['PBS_Flag'] = np.where(df['PBS_Flag'].isnull(), df['PBS_Flag_Update'], df['PBS_Flag'])"
   ]
  },
  {
   "cell_type": "code",
   "execution_count": 5,
   "metadata": {
    "collapsed": true
   },
   "outputs": [],
   "source": [
    "# 4 apta clusers\n",
    "df['CLUSTER_APTA4'] = np.floor(df['CLUSTER_APTA']/10)"
   ]
  },
  {
   "cell_type": "code",
   "execution_count": 6,
   "metadata": {
    "collapsed": true
   },
   "outputs": [],
   "source": [
    "# exclude if ridership is zero--missing data\n",
    "df = df[df['UPT_ADJ']>0]"
   ]
  },
  {
   "cell_type": "code",
   "execution_count": 7,
   "metadata": {
    "collapsed": false
   },
   "outputs": [
    {
     "name": "stdout",
     "output_type": "stream",
     "text": [
      "Excluding 0 records with missing VRM\n",
      "Excluding 74 records with zero or negative fare\n",
      "Excluding 7 records with fare greater than $20\n",
      "Excluding 27 records with negative 0 veh HH\n",
      "Excluding 48 cluster 3 rail\n"
     ]
    }
   ],
   "source": [
    "# exclude problematic data\n",
    "old_len = len(df)\n",
    "df = df[df['VRM_ADJ']>0]\n",
    "new_len = len(df)\n",
    "print('Excluding ' + str(old_len-new_len) + ' records with missing VRM') \n",
    "\n",
    "# exclude problematic data\n",
    "old_len = len(df)\n",
    "df = df[df['FARE_per_UPT_2018']>0]\n",
    "new_len = len(df)\n",
    "print('Excluding ' + str(old_len-new_len) + ' records with zero or negative fare') \n",
    "\n",
    "# exclude problematic data\n",
    "old_len = len(df)\n",
    "df = df[df['FARE_per_UPT_2018']<20]\n",
    "new_len = len(df)\n",
    "print('Excluding ' + str(old_len-new_len) + ' records with fare greater than $20') \n",
    "\n",
    "# exclude problematic data\n",
    "old_len = len(df)\n",
    "df = df[df['HH_0Veh']>0]\n",
    "new_len = len(df)\n",
    "print('Excluding ' + str(old_len-new_len) + ' records with negative 0 veh HH') \n",
    "\n",
    "# drop low op-ex cluster rail\n",
    "old_len = len(df)\n",
    "df = df[(df['CLUSTER_APTA4']!=3) |  (df['Mode']=='Bus')]\n",
    "new_len = len(df)\n",
    "print('Excluding ' + str(old_len-new_len) + ' cluster 3 rail') \n",
    "\n"
   ]
  },
  {
   "cell_type": "code",
   "execution_count": 8,
   "metadata": {
    "collapsed": false
   },
   "outputs": [
    {
     "name": "stdout",
     "output_type": "stream",
     "text": [
      "Excluding 24 records with discontinuities in year.\n",
      "Excluding 18 records with discontinuities in year.\n",
      "Excluding 15 records with discontinuities in year.\n",
      "Excluding 13 records with discontinuities in year.\n",
      "Excluding 7 records with discontinuities in year.\n",
      "Excluding 7 records with discontinuities in year.\n",
      "Excluding 5 records with discontinuities in year.\n",
      "Excluding 5 records with discontinuities in year.\n",
      "Excluding 4 records with discontinuities in year.\n",
      "Excluding 2 records with discontinuities in year.\n",
      "Excluding 1 records with discontinuities in year.\n",
      "Excluding 0 records with discontinuities in year.\n"
     ]
    }
   ],
   "source": [
    "# exclude discontinuous data\n",
    "df = df.sort_values(by=['CBSA', 'Mode', 'Year'])\n",
    "\n",
    "excluded_records = 100\n",
    "while excluded_records > 0: \n",
    "    old_len = len(df)\n",
    "    df['YearDiff'] = df['Year'].shift(-1) - df['Year']\n",
    "    df = df[(df['YearDiff']==1) | (df['Year']==2018)]\n",
    "    excluded_records = old_len - len(df)\n",
    "    print('Excluding ' + str(excluded_records) + ' records with discontinuities in year.') \n",
    "\n"
   ]
  },
  {
   "cell_type": "code",
   "execution_count": 9,
   "metadata": {
    "collapsed": true
   },
   "outputs": [],
   "source": [
    "df['BUS_FLAG'] = np.where(df['Mode']=='Bus', 1, 0)\n",
    "df['RAIL_FLAG'] = np.where(df['Mode']=='Rail', 1, 0)"
   ]
  },
  {
   "cell_type": "code",
   "execution_count": 10,
   "metadata": {
    "collapsed": true
   },
   "outputs": [],
   "source": [
    "# include population + employment\n",
    "df['POP_EMP'] = df['Tot_Pop'] + df['TOT_EMP_MSA']\n",
    "df['HH_EMP'] = df['Total_HH'] + df['TOT_EMP_MSA']\n",
    "\n",
    "# percent of population in transit supportive density\n",
    "df['TSD_POP_PCT'] = df['POP_CENSUSTRACT'] / df['Tot_Pop']\n",
    "\n",
    "# percent of pop born outside USA\n",
    "df['Tot_NonUSA_POP_pct'] = df['Tot_NonUSA_POP'] / df['Tot_Pop'] * 100\n"
   ]
  },
  {
   "cell_type": "code",
   "execution_count": 11,
   "metadata": {
    "collapsed": true
   },
   "outputs": [],
   "source": [
    "# mode specific effects\n",
    "\n",
    "df['Bus_VRM_ADJ_RAIL']  = df['Bus_VRM_ADJ'] * df['RAIL_FLAG']\n",
    "df['Rail_VRM_ADJ_BUS'] = df['Rail_VRM_ADJ']  * df['BUS_FLAG']\n",
    "\n",
    "df['Bus_VRM_ADJ_RAIL_log'] = np.log(1+df['Bus_VRM_ADJ_RAIL'])\n",
    "df['Rail_VRM_ADJ_BUS_log'] = np.log(1+df['Rail_VRM_ADJ_BUS'])\n"
   ]
  },
  {
   "cell_type": "code",
   "execution_count": 12,
   "metadata": {
    "collapsed": true
   },
   "outputs": [],
   "source": [
    "# time effects\n",
    "df['YEARS_SINCE_2002']  = df['Year'] - 2002\n",
    "\n",
    "df['YEARS_2002_2010']  = df['Year'].apply(lambda x : min(x-2002, 8))\n",
    "df['YEARS_AFTER_2010'] = df['Year'].apply(lambda x : max(x-2010, 0))\n",
    "\n",
    "df['YEARS_2002_2014']  = df['Year'].apply(lambda x : min(x-2002, 12))\n",
    "df['YEARS_AFTER_2014'] = df['Year'].apply(lambda x : max(x-2014, 0))\n",
    "\n",
    "\n",
    "df['YEARS_SINCE_2002_BUS']  = df['YEARS_SINCE_2002'] * df['BUS_FLAG']\n",
    "df['YEARS_SINCE_2002_RAIL'] = df['YEARS_SINCE_2002'] * df['RAIL_FLAG']\n",
    "\n",
    "df['YEARS_2002_2010_BUS']   = df['YEARS_2002_2010'] * df['BUS_FLAG']\n",
    "df['YEARS_AFTER_2010_BUS']  = df['YEARS_AFTER_2010']* df['BUS_FLAG']\n",
    "df['YEARS_2002_2010_RAIL']  = df['YEARS_2002_2010'] * df['RAIL_FLAG']\n",
    "df['YEARS_AFTER_2010_RAIL'] = df['YEARS_AFTER_2010']* df['RAIL_FLAG']\n",
    "\n",
    "df['YEARS_2002_2014_BUS']   = df['YEARS_2002_2014'] * df['BUS_FLAG']\n",
    "df['YEARS_AFTER_2014_BUS']  = df['YEARS_AFTER_2014']* df['BUS_FLAG']\n",
    "df['YEARS_2002_2014_RAIL']  = df['YEARS_2002_2014'] * df['RAIL_FLAG']\n",
    "df['YEARS_AFTER_2014_RAIL'] = df['YEARS_AFTER_2014']* df['RAIL_FLAG']"
   ]
  },
  {
   "cell_type": "code",
   "execution_count": 13,
   "metadata": {
    "collapsed": false
   },
   "outputs": [],
   "source": [
    "# more time effects\n",
    "\n",
    "df['YEARS_AFTER_2012'] = df['Year'].apply(lambda x : max(x-2012, 0))\n",
    "\n",
    "df['TNC_YEARS_AFTER_2012'] = df['YEARS_AFTER_2012'] * df['TNC_FLAG']\n",
    "\n",
    "df['TNC_YEARS_AFTER_2012_BUS'] = df['TNC_YEARS_AFTER_2012'] * df['BUS_FLAG']\n",
    "df['TNC_YEARS_AFTER_2012_RAIL'] = df['TNC_YEARS_AFTER_2012'] * df['RAIL_FLAG']\n",
    "\n",
    "\n"
   ]
  },
  {
   "cell_type": "code",
   "execution_count": 14,
   "metadata": {
    "collapsed": true
   },
   "outputs": [],
   "source": [
    "# test rail ramp up period\n",
    "df['YEARS_SINCE_RAIL_START'] = (df['Year'] - df['min_year']) * df['RAIL_FLAG']\n",
    "df['YEARS_SINCE_RAIL_START'] = np.where(df['min_year']==2002, 0, df['YEARS_SINCE_RAIL_START'])\n",
    "\n",
    "df['YEARS_SINCE_RAIL_START_1'] = df['YEARS_SINCE_RAIL_START'].apply(lambda x : min(x, 1))\n",
    "df['YEARS_SINCE_RAIL_START_2'] = df['YEARS_SINCE_RAIL_START'].apply(lambda x : min(x, 2))\n",
    "df['YEARS_SINCE_RAIL_START_3'] = df['YEARS_SINCE_RAIL_START'].apply(lambda x : min(x, 3))\n",
    "\n"
   ]
  },
  {
   "cell_type": "code",
   "execution_count": 15,
   "metadata": {
    "collapsed": true
   },
   "outputs": [],
   "source": [
    "# calculate bus vs rail stuff\n",
    "\n",
    "# various bus/rail specifics\n",
    "\n",
    "df['TNC_FLAG_BUS'] = df['TNC_FLAG'] * df['BUS_FLAG']\n",
    "df['TNC_FLAG_RAIL'] = df['TNC_FLAG'] * df['RAIL_FLAG']\n",
    "\n",
    "df['YEARS_SINCE_TNC_BUS'] = df['YEARS_SINCE_TNC'] * df['BUS_FLAG']\n",
    "df['YEARS_SINCE_TNC_RAIL'] = df['YEARS_SINCE_TNC'] * df['RAIL_FLAG']\n",
    "\n",
    "df['dockless_flag'] = df['dockCt'].apply(lambda x : min(x,1))\n",
    "df['scooter_flag']  = df['scooterCt'].apply(lambda x : min(x,1))\n",
    "\n",
    "df['BIKE_SHARE'] = df['PBS_Flag'] + df['dockless_flag']\n",
    "df['BIKE_SHARE'] = df['BIKE_SHARE'].apply(lambda x : min(x,1))\n",
    "\n",
    "\n",
    "df['PBS_Flag_BUS']   = df['PBS_Flag']   * df['BUS_FLAG']\n",
    "df['dockCt_BUS']     = df['dockCt']     * df['BUS_FLAG']\n",
    "df['docklessCt_BUS'] = df['docklessCt'] * df['BUS_FLAG']\n",
    "df['scooterCt_BUS']  = df['scooterCt']  * df['BUS_FLAG']\n",
    "df['dockless_flag_BUS'] = df['dockless_flag'] * df['BUS_FLAG']\n",
    "df['scooter_flag_BUS']  = df['scooter_flag']  * df['BUS_FLAG']\n",
    "df['BIKE_SHARE_BUS']  = df['BIKE_SHARE']  * df['BUS_FLAG']\n",
    "\n",
    "\n",
    "df['PBS_Flag_RAIL']   = df['PBS_Flag']   * df['RAIL_FLAG']\n",
    "df['dockCt_RAIL']     = df['dockCt']     * df['RAIL_FLAG']\n",
    "df['docklessCt_RAIL'] = df['docklessCt'] * df['RAIL_FLAG']\n",
    "df['scooterCt_RAIL']  = df['scooterCt']  * df['RAIL_FLAG']\n",
    "df['dockless_flag_RAIL'] = df['dockless_flag'] * df['RAIL_FLAG']\n",
    "df['scooter_flag_RAIL']  = df['scooter_flag']  * df['RAIL_FLAG']\n",
    "df['BIKE_SHARE_RAIL']  = df['BIKE_SHARE']  * df['RAIL_FLAG']\n",
    "\n",
    "\n"
   ]
  },
  {
   "cell_type": "code",
   "execution_count": 16,
   "metadata": {
    "collapsed": true
   },
   "outputs": [],
   "source": [
    "# convert JTW to numeric columns\n",
    "df['JTW_DA_PCT']        = df['JTW_DA_PCT'].replace('#VALUE!', np.nan)\n",
    "df['JTW_CARPOOLED_PCT'] = df['JTW_CARPOOLED_PCT'].replace('#VALUE!', np.nan)\n",
    "df['JTW_TRANSIT_PCT']   = df['JTW_TRANSIT_PCT'].replace('#VALUE!', np.nan)\n",
    "df['JTW_WALK_PCT']      = df['JTW_WALK_PCT'].replace('#VALUE!', np.nan)\n",
    "df['JTW_BICYCLE_PCT']   = df['JTW_BICYCLE_PCT'].replace('#VALUE!', np.nan)\n",
    "df['JTW_OTHER_PCT']     = df['JTW_OTHER_PCT'].replace('#VALUE!', np.nan)\n",
    "df['JTW_HOME_PCT']      = df['JTW_HOME_PCT'].replace('#VALUE!', np.nan)\n",
    "\n",
    "\n",
    "df['JTW_DA_PCT']        = df['JTW_DA_PCT'].replace('N', np.nan)\n",
    "df['JTW_CARPOOLED_PCT'] = df['JTW_CARPOOLED_PCT'].replace('N', np.nan)\n",
    "df['JTW_TRANSIT_PCT']   = df['JTW_TRANSIT_PCT'].replace('N', np.nan)\n",
    "df['JTW_WALK_PCT']      = df['JTW_WALK_PCT'].replace('N', np.nan)\n",
    "df['JTW_BICYCLE_PCT']   = df['JTW_BICYCLE_PCT'].replace('N', np.nan)\n",
    "df['JTW_OTHER_PCT']     = df['JTW_OTHER_PCT'].replace('N', np.nan)\n",
    "df['JTW_HOME_PCT']      = df['JTW_HOME_PCT'].replace('N', np.nan)\n",
    "\n"
   ]
  },
  {
   "cell_type": "code",
   "execution_count": 17,
   "metadata": {
    "collapsed": true
   },
   "outputs": [],
   "source": [
    "# convert JTW to numeric columns\n",
    "df['JTW_DA_PCT']        = df['JTW_DA_PCT'].astype(float)\n",
    "df['JTW_CARPOOLED_PCT'] = df['JTW_CARPOOLED_PCT'].astype(float)\n",
    "df['JTW_TRANSIT_PCT']   = df['JTW_TRANSIT_PCT'].astype(float)\n",
    "df['JTW_WALK_PCT']      = df['JTW_WALK_PCT'].astype(float)\n",
    "df['JTW_BICYCLE_PCT']   = df['JTW_BICYCLE_PCT'].astype(float)\n",
    "df['JTW_OTHER_PCT']     = df['JTW_OTHER_PCT'].astype(float)\n",
    "df['JTW_HOME_PCT']      = df['JTW_HOME_PCT'].astype(float)\n"
   ]
  },
  {
   "cell_type": "code",
   "execution_count": 18,
   "metadata": {
    "collapsed": true
   },
   "outputs": [],
   "source": [
    "# immigrant population percentage\n",
    "df['Tot_NonUSA_POP_pct'] = df['Tot_NonUSA_POP'] / df['Tot_Pop'] * 100\n",
    "\n",
    "# include VRM on competing modes -- split\n",
    "df['VRM_ADJ_COMPETING_BUS']  = df['VRM_ADJ_COMPETING'] * df['RAIL_FLAG']\n",
    "df['VRM_ADJ_COMPETING_RAIL'] = df['VRM_ADJ_COMPETING'] * df['BUS_FLAG']\n",
    "\n",
    "# include VRM on competing modes -- split\n",
    "df['VRM_ADJ_COMPETING_BUS']  = df['VRM_ADJ_COMPETING'] * df['RAIL_FLAG']\n",
    "df['VRM_ADJ_COMPETING_RAIL'] = df['VRM_ADJ_COMPETING'] * df['BUS_FLAG']\n",
    "\n",
    "# flag testing introduction of new rail\n",
    "df['RAIL_COMPETITION'] = np.where(df['VRM_ADJ_COMPETING']>0, 1, 0) * df['BUS_FLAG']\n",
    "\n"
   ]
  },
  {
   "cell_type": "code",
   "execution_count": 19,
   "metadata": {
    "collapsed": true
   },
   "outputs": [],
   "source": [
    "# TNC lags -- bus vs rail\n",
    "df['TNC_FLAG_BUS_LAGGED_1'] = df['TNC_FLAG_LAGGED_1'] * df['BUS_FLAG']\n",
    "df['TNC_FLAG_BUS_LAGGED_2'] = df['TNC_FLAG_LAGGED_2'] * df['BUS_FLAG']\n",
    "df['TNC_FLAG_BUS_LAGGED_3'] = df['TNC_FLAG_LAGGED_3'] * df['BUS_FLAG']\n",
    "\n",
    "df['TNC_FLAG_RAIL_LAGGED_1'] = df['TNC_FLAG_LAGGED_1'] * df['RAIL_FLAG']\n",
    "df['TNC_FLAG_RAIL_LAGGED_2'] = df['TNC_FLAG_LAGGED_2'] * df['RAIL_FLAG']\n",
    "df['TNC_FLAG_RAIL_LAGGED_3'] = df['TNC_FLAG_LAGGED_3'] * df['RAIL_FLAG']\n",
    "\n",
    "# bike share plus scooters for rail\n",
    "df['BIKE_SCOOTER_RAIL'] = df['BIKE_SHARE_RAIL'] + df['scooter_flag_RAIL']\n",
    "\n",
    "# different spec of bike and scooter\n",
    "df['BIKE_SCOOTER_SCOOTER_RAIL'] = df['BIKE_SHARE_RAIL'] + df['scooter_flag_RAIL'] + df['scooter_flag_RAIL']\n",
    "\n",
    "# different spec of bike and scooter\n",
    "df['BIKE_SCOOTER_SCOOTER_RAIL'] = df['BIKE_SHARE_RAIL'] + df['scooter_flag_RAIL'] + df['scooter_flag_RAIL']\n",
    "\n",
    "# merge bike and scooter for bus\n",
    "df['BIKE_SCOOTER_SCOOTER_BUS'] = df['BIKE_SHARE_BUS'] + df['scooter_flag_BUS'] + df['scooter_flag_BUS']\n",
    "\n",
    "# merge bike and scooter for bus\n",
    "df['BIKE_SCOOTER_BUS'] = df['BIKE_SHARE_BUS'] + df['scooter_flag_BUS'] \n",
    "df['BIKE_SCOOTER_RAIL'] = df['BIKE_SHARE_RAIL'] + df['scooter_flag_RAIL'] \n",
    "\n",
    "# scooter or bike\n",
    "df['BIKE_OR_SCOOTER_BUS']  = df['BIKE_SHARE_BUS'] + df['scooter_flag_BUS'] \n",
    "df['BIKE_OR_SCOOTER_BUS']  = df['BIKE_OR_SCOOTER_BUS'].apply(lambda x : min(x, 1))\n",
    "\n",
    "df['BIKE_OR_SCOOTER_RAIL'] = df['BIKE_SHARE_RAIL'] + df['scooter_flag_RAIL'] \n",
    "df['BIKE_OR_SCOOTER_RAIL'] = df['BIKE_OR_SCOOTER_RAIL'].apply(lambda x : min(x, 1))\n",
    "\n",
    "# calculate average vehicles\n",
    "df['AVG_VEHS'] = (df['HH_1Veh'] + 2*df['HH_2Veh'] + 3*df['HH_3Veh'] + 4*df['HH_4+Veh']) / (df['HH_0Veh'] + df['HH_1Veh'] + df['HH_2Veh'] + df['HH_3Veh'] + df['HH_4+Veh'])\n",
    "df['AVG_VEHS_log'] = np.log(1+df['AVG_VEHS'])\n",
    "\n"
   ]
  },
  {
   "cell_type": "code",
   "execution_count": 20,
   "metadata": {
    "collapsed": true
   },
   "outputs": [],
   "source": [
    "# walk bike other commuting\n",
    "df['JTW_WALK_BIKE_OTHER_PCT'] = df['JTW_WALK_PCT'] + df['JTW_BICYCLE_PCT'] + df['JTW_OTHER_PCT']\n",
    "\n",
    "# walk bike commuting\n",
    "df['JTW_WALK_BIKE_PCT'] = df['JTW_WALK_PCT'] + df['JTW_BICYCLE_PCT']\n"
   ]
  },
  {
   "cell_type": "code",
   "execution_count": 21,
   "metadata": {
    "collapsed": false
   },
   "outputs": [],
   "source": [
    "\n",
    "df['VRM_ADJ_BUS'] = df['VRM_ADJ'] * df['BUS_FLAG']\n",
    "df['VRM_ADJ_RAIL'] = df['VRM_ADJ'] * df['RAIL_FLAG']"
   ]
  },
  {
   "cell_type": "code",
   "execution_count": 22,
   "metadata": {
    "collapsed": true
   },
   "outputs": [],
   "source": [
    "# percent of HH in transit supportive density\n",
    "df['TSD_POP_PCT'] = df['TSD_POP_PCT'] * 100"
   ]
  },
  {
   "cell_type": "code",
   "execution_count": 23,
   "metadata": {
    "collapsed": true
   },
   "outputs": [],
   "source": [
    "# segment TNCs by cluster\n",
    "df['HI_OPEX']  = np.where(df['CLUSTER_APTA4']==1, 1, 0)\n",
    "df['MID_OPEX'] = np.where(df['CLUSTER_APTA4']==2, 1, 0)\n",
    "df['LOW_OPEX'] = np.where(df['CLUSTER_APTA4']==3, 1, 0)\n",
    "df['NEW_YORK'] = np.where(df['CLUSTER_APTA4']==10, 1, 0)\n",
    "\n",
    "df['YEARS_SINCE_TNC_BUS_HI']  = df['YEARS_SINCE_TNC_BUS'] * df['HI_OPEX']\n",
    "df['YEARS_SINCE_TNC_BUS_MID'] = df['YEARS_SINCE_TNC_BUS'] * df['MID_OPEX']\n",
    "df['YEARS_SINCE_TNC_BUS_LOW'] = df['YEARS_SINCE_TNC_BUS'] * df['LOW_OPEX']\n",
    "df['YEARS_SINCE_TNC_BUS_NY']  = df['YEARS_SINCE_TNC_BUS'] * df['NEW_YORK']\n",
    "\n",
    "df['YEARS_SINCE_TNC_RAIL_HI']  = df['YEARS_SINCE_TNC_RAIL'] * df['HI_OPEX']\n",
    "df['YEARS_SINCE_TNC_RAIL_MID'] = df['YEARS_SINCE_TNC_RAIL'] * df['MID_OPEX']\n",
    "df['YEARS_SINCE_TNC_RAIL_LOW'] = df['YEARS_SINCE_TNC_RAIL'] * df['LOW_OPEX']\n",
    "df['YEARS_SINCE_TNC_RAIL_NY']  = df['YEARS_SINCE_TNC_RAIL'] * df['NEW_YORK']\n",
    "\n",
    "df['YEARS_SINCE_TNC_BUS_HINY']  = df['YEARS_SINCE_TNC_BUS_HI'] + df['YEARS_SINCE_TNC_BUS_NY']\n",
    "df['YEARS_SINCE_TNC_RAIL_HINY']  = df['YEARS_SINCE_TNC_RAIL_HI'] + df['YEARS_SINCE_TNC_RAIL_NY']\n",
    "\n",
    "df['YEARS_SINCE_TNC_BUS_MIDLOW']  = df['YEARS_SINCE_TNC_BUS_MID'] + df['YEARS_SINCE_TNC_BUS_LOW']\n",
    "df['YEARS_SINCE_TNC_RAIL_MIDLOW']  = df['YEARS_SINCE_TNC_RAIL_MID'] + df['YEARS_SINCE_TNC_RAIL_LOW']"
   ]
  },
  {
   "cell_type": "code",
   "execution_count": 24,
   "metadata": {
    "collapsed": true
   },
   "outputs": [],
   "source": [
    "# bikes and scooters by segment\n",
    "\n",
    "df['BIKE_SHARE_HI']  = df['BIKE_SHARE'] * df['HI_OPEX']\n",
    "df['BIKE_SHARE_MID'] = df['BIKE_SHARE'] * df['MID_OPEX']\n",
    "df['BIKE_SHARE_LOW'] = df['BIKE_SHARE'] * df['LOW_OPEX']\n",
    "df['BIKE_SHARE_NY']  = df['BIKE_SHARE'] * df['NEW_YORK']\n",
    "\n",
    "df['scooter_flag_HI']  = df['scooter_flag'] * df['HI_OPEX']\n",
    "df['scooter_flag_MID'] = df['scooter_flag'] * df['MID_OPEX']\n",
    "df['scooter_flag_LOW'] = df['scooter_flag'] * df['LOW_OPEX']\n",
    "df['scooter_flag_NY']  = df['scooter_flag'] * df['NEW_YORK']\n",
    "\n",
    "\n",
    "df['BIKE_SHARE_HINY']  = df['BIKE_SHARE_HI'] + df['BIKE_SHARE_NY']\n",
    "df['BIKE_SHARE_MIDLOW']  = df['BIKE_SHARE_MID'] + df['BIKE_SHARE_LOW']\n",
    "\n",
    "df['scooter_flag_HINY']  = df['scooter_flag_HI'] + df['scooter_flag_NY']\n",
    "df['scooter_flag_MIDLOW']  = df['scooter_flag_MID'] + df['scooter_flag_LOW']"
   ]
  },
  {
   "cell_type": "code",
   "execution_count": 25,
   "metadata": {
    "collapsed": true
   },
   "outputs": [],
   "source": [
    "# set the indices\n",
    "df['ID'] = df['MNAME'] + '-' + df['Mode']\n",
    "df=df.set_index(['ID','Year'])"
   ]
  },
  {
   "cell_type": "code",
   "execution_count": 26,
   "metadata": {
    "collapsed": true
   },
   "outputs": [],
   "source": [
    "# keep only the numeric columns -- the estimation will give an error otherwise\n",
    "df = df.select_dtypes(include=[np.number])"
   ]
  },
  {
   "cell_type": "code",
   "execution_count": 27,
   "metadata": {
    "collapsed": false
   },
   "outputs": [
    {
     "name": "stderr",
     "output_type": "stream",
     "text": [
      "C:\\Program Files\\Anaconda3\\lib\\site-packages\\ipykernel\\__main__.py:3: RuntimeWarning: invalid value encountered in log\n",
      "  app.launch_new_instance()\n",
      "C:\\Program Files\\Anaconda3\\lib\\site-packages\\ipykernel\\__main__.py:3: RuntimeWarning: divide by zero encountered in log\n",
      "  app.launch_new_instance()\n"
     ]
    }
   ],
   "source": [
    "# create a log of all fields\n",
    "for col in df.columns:\n",
    "    df[col+'_log'] = np.log(df[col]+1)\n",
    "    "
   ]
  },
  {
   "cell_type": "markdown",
   "metadata": {},
   "source": [
    "## Model Estimation Tests"
   ]
  },
  {
   "cell_type": "code",
   "execution_count": 28,
   "metadata": {
    "collapsed": false
   },
   "outputs": [
    {
     "name": "stderr",
     "output_type": "stream",
     "text": [
      "C:\\Program Files\\Anaconda3\\lib\\site-packages\\linearmodels\\panel\\data.py:39: FutureWarning: \n",
      "Passing list-likes to .loc or [] with any missing label will raise\n",
      "KeyError in the future, you can use .reindex() as an alternative.\n",
      "\n",
      "See the documentation here:\n",
      "https://pandas.pydata.org/pandas-docs/stable/indexing.html#deprecate-loc-reindex-listlike\n",
      "  new_df = df.copy().loc[self._full_index]\n",
      "C:\\Program Files\\Anaconda3\\lib\\site-packages\\linearmodels\\utility.py:476: MissingValueWarning: \n",
      "Inputs contain missing values. Dropping rows with missing observations.\n",
      "  warnings.warn(missing_value_warning_msg, MissingValueWarning)\n"
     ]
    },
    {
     "name": "stdout",
     "output_type": "stream",
     "text": [
      "                          PanelOLS Estimation Summary                           \n",
      "================================================================================\n",
      "Dep. Variable:            UPT_ADJ_log   R-squared:                        0.6494\n",
      "Estimator:                   PanelOLS   R-squared (Between):              0.9940\n",
      "No. Observations:                4011   R-squared (Within):               0.6494\n",
      "Date:                Tue, Dec 17 2019   R-squared (Overall):              0.9939\n",
      "Time:                        15:42:24   Log-likelihood                    1166.3\n",
      "Cov. Estimator:            Unadjusted                                           \n",
      "                                        F-statistic:                      577.10\n",
      "Entities:                         261   P-value                           0.0000\n",
      "Avg Obs:                       15.368   Distribution:                 F(12,3738)\n",
      "Min Obs:                       3.0000                                           \n",
      "Max Obs:                       17.000   F-statistic (robust):             577.10\n",
      "                                        P-value                           0.0000\n",
      "Time periods:                      17   Distribution:                 F(12,3738)\n",
      "Avg Obs:                       235.94                                           \n",
      "Min Obs:                       167.00                                           \n",
      "Max Obs:                       261.00                                           \n",
      "                                                                                \n",
      "                                      Parameter Estimates                                       \n",
      "================================================================================================\n",
      "                              Parameter  Std. Err.     T-stat    P-value    Lower CI    Upper CI\n",
      "------------------------------------------------------------------------------------------------\n",
      "VRM_ADJ_log                      0.8129     0.0126     64.595     0.0000      0.7882      0.8376\n",
      "FARE_per_UPT_2018_log           -0.5654     0.0214    -26.396     0.0000     -0.6073     -0.5234\n",
      "POP_EMP_log                      0.3691     0.0583     6.3346     0.0000      0.2549      0.4833\n",
      "GAS_PRICE_2018_log               0.2212     0.0262     8.4330     0.0000      0.1698      0.2727\n",
      "TOTAL_MED_INC_INDIV_2018_log    -0.2915     0.0553    -5.2678     0.0000     -0.3999     -0.1830\n",
      "PCT_HH_NO_VEH                    0.0103     0.0032     3.2325     0.0012      0.0040      0.0165\n",
      "TSD_POP_PCT                      0.0080     0.0016     5.1429     0.0000      0.0049      0.0110\n",
      "JTW_HOME_PCT                    -0.0107     0.0041    -2.6008     0.0093     -0.0188     -0.0026\n",
      "YEARS_SINCE_TNC_BUS             -0.0260     0.0042    -6.1601     0.0000     -0.0343     -0.0178\n",
      "YEARS_SINCE_TNC_RAIL            -0.0061     0.0057    -1.0784     0.2809     -0.0173      0.0050\n",
      "BIKE_SHARE                       0.0130     0.0132     0.9834     0.3255     -0.0129      0.0389\n",
      "scooter_flag                    -0.0089     0.0268    -0.3330     0.7391     -0.0615      0.0436\n",
      "================================================================================================\n",
      "\n",
      "F-test for Poolability: 75.592\n",
      "P-value: 0.0000\n",
      "Distribution: F(260,3738)\n",
      "\n",
      "Included effects: Entity\n"
     ]
    }
   ],
   "source": [
    "# base model\n",
    "\n",
    "mod=PanelOLS.from_formula('UPT_ADJ_log \\\n",
    "                    ~ VRM_ADJ_log \\\n",
    "                    + FARE_per_UPT_2018_log \\\n",
    "                    + POP_EMP_log \\\n",
    "                    + GAS_PRICE_2018_log \\\n",
    "                    + TOTAL_MED_INC_INDIV_2018_log \\\n",
    "                    + PCT_HH_NO_VEH \\\n",
    "                    + TSD_POP_PCT \\\n",
    "                    + JTW_HOME_PCT \\\n",
    "                    + YEARS_SINCE_TNC_BUS \\\n",
    "                    + YEARS_SINCE_TNC_RAIL \\\n",
    "                    + BIKE_SHARE \\\n",
    "                    + scooter_flag \\\n",
    "                    + EntityEffects \\\n",
    "                    ',data=df)\n",
    "res=mod.fit()\n",
    "print(res)"
   ]
  },
  {
   "cell_type": "code",
   "execution_count": 29,
   "metadata": {
    "collapsed": false
   },
   "outputs": [
    {
     "name": "stdout",
     "output_type": "stream",
     "text": [
      "                          PanelOLS Estimation Summary                           \n",
      "================================================================================\n",
      "Dep. Variable:            UPT_ADJ_log   R-squared:                        0.7568\n",
      "Estimator:                   PanelOLS   R-squared (Between):              0.4524\n",
      "No. Observations:                 635   R-squared (Within):               0.7568\n",
      "Date:                Tue, Dec 17 2019   R-squared (Overall):              0.4538\n",
      "Time:                        15:42:24   Log-likelihood                    450.51\n",
      "Cov. Estimator:            Unadjusted                                           \n",
      "                                        F-statistic:                      151.72\n",
      "Entities:                          38   P-value                           0.0000\n",
      "Avg Obs:                       16.711   Distribution:                  F(12,585)\n",
      "Min Obs:                      10.0000                                           \n",
      "Max Obs:                       17.000   F-statistic (robust):             151.72\n",
      "                                        P-value                           0.0000\n",
      "Time periods:                      17   Distribution:                  F(12,585)\n",
      "Avg Obs:                       37.353                                           \n",
      "Min Obs:                       35.000                                           \n",
      "Max Obs:                       38.000                                           \n",
      "                                                                                \n",
      "                                      Parameter Estimates                                       \n",
      "================================================================================================\n",
      "                              Parameter  Std. Err.     T-stat    P-value    Lower CI    Upper CI\n",
      "------------------------------------------------------------------------------------------------\n",
      "VRM_ADJ_log                      0.6900     0.0225     30.691     0.0000      0.6458      0.7341\n",
      "FARE_per_UPT_2018_log           -0.4961     0.0610    -8.1387     0.0000     -0.6158     -0.3764\n",
      "POP_EMP_log                     -0.4152     0.1817    -2.2848     0.0227     -0.7722     -0.0583\n",
      "GAS_PRICE_2018_log               0.2193     0.0514     4.2643     0.0000      0.1183      0.3202\n",
      "TOTAL_MED_INC_INDIV_2018_log    -0.0540     0.1439    -0.3754     0.7075     -0.3366      0.2286\n",
      "PCT_HH_NO_VEH                    0.0153     0.0118     1.2939     0.1962     -0.0079      0.0386\n",
      "TSD_POP_PCT                     -0.0027     0.0026    -1.0241     0.3062     -0.0078      0.0024\n",
      "JTW_HOME_PCT                     0.0245     0.0140     1.7448     0.0815     -0.0031      0.0520\n",
      "YEARS_SINCE_TNC_BUS             -0.0058     0.0061    -0.9518     0.3416     -0.0178      0.0062\n",
      "YEARS_SINCE_TNC_RAIL             0.0178     0.0059     3.0004     0.0028      0.0062      0.0295\n",
      "BIKE_SHARE                       0.0081     0.0189     0.4263     0.6701     -0.0291      0.0453\n",
      "scooter_flag                    -0.0723     0.0297    -2.4342     0.0152     -0.1307     -0.0140\n",
      "================================================================================================\n",
      "\n",
      "F-test for Poolability: 54.795\n",
      "P-value: 0.0000\n",
      "Distribution: F(37,585)\n",
      "\n",
      "Included effects: Entity\n"
     ]
    },
    {
     "name": "stderr",
     "output_type": "stream",
     "text": [
      "C:\\Program Files\\Anaconda3\\lib\\site-packages\\linearmodels\\panel\\data.py:39: FutureWarning: \n",
      "Passing list-likes to .loc or [] with any missing label will raise\n",
      "KeyError in the future, you can use .reindex() as an alternative.\n",
      "\n",
      "See the documentation here:\n",
      "https://pandas.pydata.org/pandas-docs/stable/indexing.html#deprecate-loc-reindex-listlike\n",
      "  new_df = df.copy().loc[self._full_index]\n",
      "C:\\Program Files\\Anaconda3\\lib\\site-packages\\linearmodels\\utility.py:476: MissingValueWarning: \n",
      "Inputs contain missing values. Dropping rows with missing observations.\n",
      "  warnings.warn(missing_value_warning_msg, MissingValueWarning)\n"
     ]
    }
   ],
   "source": [
    "# High op-ex + NY\n",
    "df2 = df[(df['CLUSTER_APTA4']==1) | (df['CLUSTER_APTA4']==10)]\n",
    "\n",
    "mod=PanelOLS.from_formula('UPT_ADJ_log \\\n",
    "                    ~ VRM_ADJ_log \\\n",
    "                    + FARE_per_UPT_2018_log \\\n",
    "                    + POP_EMP_log \\\n",
    "                    + GAS_PRICE_2018_log \\\n",
    "                    + TOTAL_MED_INC_INDIV_2018_log \\\n",
    "                    + PCT_HH_NO_VEH \\\n",
    "                    + TSD_POP_PCT \\\n",
    "                    + JTW_HOME_PCT \\\n",
    "                    + YEARS_SINCE_TNC_BUS \\\n",
    "                    + YEARS_SINCE_TNC_RAIL \\\n",
    "                    + BIKE_SHARE \\\n",
    "                    + scooter_flag \\\n",
    "                    + EntityEffects \\\n",
    "                    ',data=df2)\n",
    "res=mod.fit()\n",
    "print(res)"
   ]
  },
  {
   "cell_type": "code",
   "execution_count": 30,
   "metadata": {
    "collapsed": false
   },
   "outputs": [
    {
     "name": "stdout",
     "output_type": "stream",
     "text": [
      "                          PanelOLS Estimation Summary                           \n",
      "================================================================================\n",
      "Dep. Variable:            UPT_ADJ_log   R-squared:                        0.6447\n",
      "Estimator:                   PanelOLS   R-squared (Between):              0.8580\n",
      "No. Observations:                1270   R-squared (Within):               0.6447\n",
      "Date:                Tue, Dec 17 2019   R-squared (Overall):              0.8621\n",
      "Time:                        15:42:24   Log-likelihood                    524.91\n",
      "Cov. Estimator:            Unadjusted                                           \n",
      "                                        F-statistic:                      177.84\n",
      "Entities:                          82   P-value                           0.0000\n",
      "Avg Obs:                       15.488   Distribution:                 F(12,1176)\n",
      "Min Obs:                       4.0000                                           \n",
      "Max Obs:                       17.000   F-statistic (robust):             177.84\n",
      "                                        P-value                           0.0000\n",
      "Time periods:                      17   Distribution:                 F(12,1176)\n",
      "Avg Obs:                       74.706                                           \n",
      "Min Obs:                       63.000                                           \n",
      "Max Obs:                       82.000                                           \n",
      "                                                                                \n",
      "                                      Parameter Estimates                                       \n",
      "================================================================================================\n",
      "                              Parameter  Std. Err.     T-stat    P-value    Lower CI    Upper CI\n",
      "------------------------------------------------------------------------------------------------\n",
      "VRM_ADJ_log                      0.6392     0.0219     29.140     0.0000      0.5962      0.6822\n",
      "FARE_per_UPT_2018_log           -0.8487     0.0349    -24.334     0.0000     -0.9171     -0.7802\n",
      "POP_EMP_log                      0.9819     0.1186     8.2806     0.0000      0.7493      1.2146\n",
      "GAS_PRICE_2018_log               0.0853     0.0450     1.8969     0.0581     -0.0029      0.1735\n",
      "TOTAL_MED_INC_INDIV_2018_log    -0.1669     0.0974    -1.7132     0.0869     -0.3580      0.0242\n",
      "PCT_HH_NO_VEH                    0.0205     0.0056     3.6425     0.0003      0.0094      0.0315\n",
      "TSD_POP_PCT                      0.0076     0.0026     2.8926     0.0039      0.0024      0.0127\n",
      "JTW_HOME_PCT                     0.0011     0.0085     0.1288     0.8975     -0.0156      0.0177\n",
      "YEARS_SINCE_TNC_BUS             -0.0513     0.0075    -6.8063     0.0000     -0.0661     -0.0365\n",
      "YEARS_SINCE_TNC_RAIL            -0.0380     0.0105    -3.6270     0.0003     -0.0585     -0.0174\n",
      "BIKE_SHARE                      -0.0103     0.0195    -0.5290     0.5969     -0.0485      0.0279\n",
      "scooter_flag                 -5.119e-05     0.0381    -0.0013     0.9989     -0.0748      0.0747\n",
      "================================================================================================\n",
      "\n",
      "F-test for Poolability: 49.514\n",
      "P-value: 0.0000\n",
      "Distribution: F(81,1176)\n",
      "\n",
      "Included effects: Entity\n"
     ]
    },
    {
     "name": "stderr",
     "output_type": "stream",
     "text": [
      "C:\\Program Files\\Anaconda3\\lib\\site-packages\\linearmodels\\panel\\data.py:39: FutureWarning: \n",
      "Passing list-likes to .loc or [] with any missing label will raise\n",
      "KeyError in the future, you can use .reindex() as an alternative.\n",
      "\n",
      "See the documentation here:\n",
      "https://pandas.pydata.org/pandas-docs/stable/indexing.html#deprecate-loc-reindex-listlike\n",
      "  new_df = df.copy().loc[self._full_index]\n",
      "C:\\Program Files\\Anaconda3\\lib\\site-packages\\linearmodels\\utility.py:476: MissingValueWarning: \n",
      "Inputs contain missing values. Dropping rows with missing observations.\n",
      "  warnings.warn(missing_value_warning_msg, MissingValueWarning)\n"
     ]
    }
   ],
   "source": [
    "# Mid op-ex \n",
    "df2 = df[(df['CLUSTER_APTA4']==2)]\n",
    "\n",
    "mod=PanelOLS.from_formula('UPT_ADJ_log \\\n",
    "                    ~ VRM_ADJ_log \\\n",
    "                    + FARE_per_UPT_2018_log \\\n",
    "                    + POP_EMP_log \\\n",
    "                    + GAS_PRICE_2018_log \\\n",
    "                    + TOTAL_MED_INC_INDIV_2018_log \\\n",
    "                    + PCT_HH_NO_VEH \\\n",
    "                    + TSD_POP_PCT \\\n",
    "                    + JTW_HOME_PCT \\\n",
    "                    + YEARS_SINCE_TNC_BUS \\\n",
    "                    + YEARS_SINCE_TNC_RAIL \\\n",
    "                    + BIKE_SHARE \\\n",
    "                    + scooter_flag \\\n",
    "                    + EntityEffects \\\n",
    "                    ',data=df2)\n",
    "res=mod.fit()\n",
    "print(res)"
   ]
  },
  {
   "cell_type": "code",
   "execution_count": 31,
   "metadata": {
    "collapsed": false
   },
   "outputs": [
    {
     "name": "stdout",
     "output_type": "stream",
     "text": [
      "                          PanelOLS Estimation Summary                           \n",
      "================================================================================\n",
      "Dep. Variable:            UPT_ADJ_log   R-squared:                        0.6692\n",
      "Estimator:                   PanelOLS   R-squared (Between):              0.9969\n",
      "No. Observations:                2106   R-squared (Within):               0.6692\n",
      "Date:                Tue, Dec 17 2019   R-squared (Overall):              0.9967\n",
      "Time:                        15:42:24   Log-likelihood                    437.80\n",
      "Cov. Estimator:            Unadjusted                                           \n",
      "                                        F-statistic:                      359.31\n",
      "Entities:                         141   P-value                           0.0000\n",
      "Avg Obs:                       14.936   Distribution:                 F(11,1954)\n",
      "Min Obs:                       3.0000                                           \n",
      "Max Obs:                       17.000   F-statistic (robust):             359.31\n",
      "                                        P-value                           0.0000\n",
      "Time periods:                      17   Distribution:                 F(11,1954)\n",
      "Avg Obs:                       123.88                                           \n",
      "Min Obs:                       69.000                                           \n",
      "Max Obs:                       141.00                                           \n",
      "                                                                                \n",
      "                                      Parameter Estimates                                       \n",
      "================================================================================================\n",
      "                              Parameter  Std. Err.     T-stat    P-value    Lower CI    Upper CI\n",
      "------------------------------------------------------------------------------------------------\n",
      "VRM_ADJ_log                      0.9298     0.0180     51.597     0.0000      0.8944      0.9651\n",
      "FARE_per_UPT_2018_log           -0.4306     0.0293    -14.702     0.0000     -0.4881     -0.3732\n",
      "POP_EMP_log                      0.2676     0.0757     3.5379     0.0004      0.1193      0.4160\n",
      "GAS_PRICE_2018_log               0.2520     0.0373     6.7582     0.0000      0.1789      0.3251\n",
      "TOTAL_MED_INC_INDIV_2018_log    -0.2980     0.0742    -4.0146     0.0001     -0.4436     -0.1524\n",
      "PCT_HH_NO_VEH                    0.0038     0.0041     0.9247     0.3553     -0.0043      0.0120\n",
      "TSD_POP_PCT                      0.0111     0.0029     3.8417     0.0001      0.0054      0.0167\n",
      "JTW_HOME_PCT                    -0.0143     0.0052    -2.7727     0.0056     -0.0244     -0.0042\n",
      "YEARS_SINCE_TNC_BUS             -0.0342     0.0067    -5.1340     0.0000     -0.0473     -0.0212\n",
      "BIKE_SHARE                       0.0293     0.0232     1.2628     0.2068     -0.0162      0.0749\n",
      "scooter_flag                     0.0570     0.0691     0.8241     0.4100     -0.0786      0.1926\n",
      "================================================================================================\n",
      "\n",
      "F-test for Poolability: 62.786\n",
      "P-value: 0.0000\n",
      "Distribution: F(140,1954)\n",
      "\n",
      "Included effects: Entity\n"
     ]
    },
    {
     "name": "stderr",
     "output_type": "stream",
     "text": [
      "C:\\Program Files\\Anaconda3\\lib\\site-packages\\linearmodels\\panel\\data.py:39: FutureWarning: \n",
      "Passing list-likes to .loc or [] with any missing label will raise\n",
      "KeyError in the future, you can use .reindex() as an alternative.\n",
      "\n",
      "See the documentation here:\n",
      "https://pandas.pydata.org/pandas-docs/stable/indexing.html#deprecate-loc-reindex-listlike\n",
      "  new_df = df.copy().loc[self._full_index]\n",
      "C:\\Program Files\\Anaconda3\\lib\\site-packages\\linearmodels\\utility.py:476: MissingValueWarning: \n",
      "Inputs contain missing values. Dropping rows with missing observations.\n",
      "  warnings.warn(missing_value_warning_msg, MissingValueWarning)\n"
     ]
    }
   ],
   "source": [
    "# low op-ex\n",
    "\n",
    "df2 = df[(df['CLUSTER_APTA4']==3)]\n",
    "\n",
    "mod=PanelOLS.from_formula('UPT_ADJ_log \\\n",
    "                    ~ VRM_ADJ_log \\\n",
    "                    + FARE_per_UPT_2018_log \\\n",
    "                    + POP_EMP_log \\\n",
    "                    + GAS_PRICE_2018_log \\\n",
    "                    + TOTAL_MED_INC_INDIV_2018_log \\\n",
    "                    + PCT_HH_NO_VEH \\\n",
    "                    + TSD_POP_PCT \\\n",
    "                    + JTW_HOME_PCT \\\n",
    "                    + YEARS_SINCE_TNC_BUS \\\n",
    "                    + BIKE_SHARE \\\n",
    "                    + scooter_flag \\\n",
    "                    + EntityEffects \\\n",
    "                    ',data=df2)\n",
    "res=mod.fit()\n",
    "print(res)"
   ]
  },
  {
   "cell_type": "markdown",
   "metadata": {},
   "source": [
    "## with bus vs rail VRM"
   ]
  },
  {
   "cell_type": "code",
   "execution_count": 32,
   "metadata": {
    "collapsed": false
   },
   "outputs": [
    {
     "name": "stderr",
     "output_type": "stream",
     "text": [
      "C:\\Program Files\\Anaconda3\\lib\\site-packages\\linearmodels\\panel\\data.py:39: FutureWarning: \n",
      "Passing list-likes to .loc or [] with any missing label will raise\n",
      "KeyError in the future, you can use .reindex() as an alternative.\n",
      "\n",
      "See the documentation here:\n",
      "https://pandas.pydata.org/pandas-docs/stable/indexing.html#deprecate-loc-reindex-listlike\n",
      "  new_df = df.copy().loc[self._full_index]\n",
      "C:\\Program Files\\Anaconda3\\lib\\site-packages\\linearmodels\\utility.py:476: MissingValueWarning: \n",
      "Inputs contain missing values. Dropping rows with missing observations.\n",
      "  warnings.warn(missing_value_warning_msg, MissingValueWarning)\n"
     ]
    },
    {
     "name": "stdout",
     "output_type": "stream",
     "text": [
      "                          PanelOLS Estimation Summary                           \n",
      "================================================================================\n",
      "Dep. Variable:            UPT_ADJ_log   R-squared:                        0.6617\n",
      "Estimator:                   PanelOLS   R-squared (Between):              0.9775\n",
      "No. Observations:                4011   R-squared (Within):               0.6617\n",
      "Date:                Tue, Dec 17 2019   R-squared (Overall):              0.9785\n",
      "Time:                        15:42:25   Log-likelihood                    1237.4\n",
      "Cov. Estimator:            Unadjusted                                           \n",
      "                                        F-statistic:                      562.16\n",
      "Entities:                         261   P-value                           0.0000\n",
      "Avg Obs:                       15.368   Distribution:                 F(13,3737)\n",
      "Min Obs:                       3.0000                                           \n",
      "Max Obs:                       17.000   F-statistic (robust):             562.16\n",
      "                                        P-value                           0.0000\n",
      "Time periods:                      17   Distribution:                 F(13,3737)\n",
      "Avg Obs:                       235.94                                           \n",
      "Min Obs:                       167.00                                           \n",
      "Max Obs:                       261.00                                           \n",
      "                                                                                \n",
      "                                      Parameter Estimates                                       \n",
      "================================================================================================\n",
      "                              Parameter  Std. Err.     T-stat    P-value    Lower CI    Upper CI\n",
      "------------------------------------------------------------------------------------------------\n",
      "VRM_ADJ_BUS_log                  0.8883     0.0140     63.605     0.0000      0.8609      0.9157\n",
      "VRM_ADJ_RAIL_log                 0.5656     0.0246     22.972     0.0000      0.5174      0.6139\n",
      "FARE_per_UPT_2018_log           -0.5537     0.0211    -26.281     0.0000     -0.5950     -0.5124\n",
      "POP_EMP_log                      0.3116     0.0575     5.4233     0.0000      0.1990      0.4243\n",
      "GAS_PRICE_2018_log               0.2205     0.0258     8.5517     0.0000      0.1699      0.2710\n",
      "TOTAL_MED_INC_INDIV_2018_log    -0.2790     0.0544    -5.1307     0.0000     -0.3856     -0.1724\n",
      "PCT_HH_NO_VEH                    0.0098     0.0031     3.1233     0.0018      0.0036      0.0159\n",
      "TSD_POP_PCT                      0.0057     0.0015     3.7045     0.0002      0.0027      0.0087\n",
      "JTW_HOME_PCT                    -0.0104     0.0040    -2.5632     0.0104     -0.0183     -0.0024\n",
      "YEARS_SINCE_TNC_BUS             -0.0292     0.0042    -7.0067     0.0000     -0.0373     -0.0210\n",
      "YEARS_SINCE_TNC_RAIL             0.0141     0.0058     2.4179     0.0157      0.0027      0.0256\n",
      "BIKE_SHARE                       0.0201     0.0130     1.5448     0.1225     -0.0054      0.0455\n",
      "scooter_flag                    -0.0124     0.0263    -0.4713     0.6375     -0.0641      0.0392\n",
      "================================================================================================\n",
      "\n",
      "F-test for Poolability: 72.432\n",
      "P-value: 0.0000\n",
      "Distribution: F(260,3737)\n",
      "\n",
      "Included effects: Entity\n"
     ]
    }
   ],
   "source": [
    "# base model\n",
    "\n",
    "mod=PanelOLS.from_formula('UPT_ADJ_log \\\n",
    "                    ~ VRM_ADJ_BUS_log \\\n",
    "                    + VRM_ADJ_RAIL_log \\\n",
    "                    + FARE_per_UPT_2018_log \\\n",
    "                    + POP_EMP_log \\\n",
    "                    + GAS_PRICE_2018_log \\\n",
    "                    + TOTAL_MED_INC_INDIV_2018_log \\\n",
    "                    + PCT_HH_NO_VEH \\\n",
    "                    + TSD_POP_PCT \\\n",
    "                    + JTW_HOME_PCT \\\n",
    "                    + YEARS_SINCE_TNC_BUS \\\n",
    "                    + YEARS_SINCE_TNC_RAIL \\\n",
    "                    + BIKE_SHARE \\\n",
    "                    + scooter_flag \\\n",
    "                    + EntityEffects \\\n",
    "                    ',data=df)\n",
    "res=mod.fit()\n",
    "print(res)"
   ]
  },
  {
   "cell_type": "code",
   "execution_count": 33,
   "metadata": {
    "collapsed": false
   },
   "outputs": [
    {
     "name": "stdout",
     "output_type": "stream",
     "text": [
      "                          PanelOLS Estimation Summary                           \n",
      "================================================================================\n",
      "Dep. Variable:            UPT_ADJ_log   R-squared:                        0.7596\n",
      "Estimator:                   PanelOLS   R-squared (Between):              0.2869\n",
      "No. Observations:                 635   R-squared (Within):               0.7596\n",
      "Date:                Tue, Dec 17 2019   R-squared (Overall):              0.2855\n",
      "Time:                        15:42:25   Log-likelihood                    454.19\n",
      "Cov. Estimator:            Unadjusted                                           \n",
      "                                        F-statistic:                      141.97\n",
      "Entities:                          38   P-value                           0.0000\n",
      "Avg Obs:                       16.711   Distribution:                  F(13,584)\n",
      "Min Obs:                      10.0000                                           \n",
      "Max Obs:                       17.000   F-statistic (robust):             141.97\n",
      "                                        P-value                           0.0000\n",
      "Time periods:                      17   Distribution:                  F(13,584)\n",
      "Avg Obs:                       37.353                                           \n",
      "Min Obs:                       35.000                                           \n",
      "Max Obs:                       38.000                                           \n",
      "                                                                                \n",
      "                                      Parameter Estimates                                       \n",
      "================================================================================================\n",
      "                              Parameter  Std. Err.     T-stat    P-value    Lower CI    Upper CI\n",
      "------------------------------------------------------------------------------------------------\n",
      "VRM_ADJ_BUS_log                  0.4615     0.0903     5.1085     0.0000      0.2841      0.6389\n",
      "VRM_ADJ_RAIL_log                 0.7007     0.0227     30.805     0.0000      0.6561      0.7454\n",
      "FARE_per_UPT_2018_log           -0.5156     0.0611    -8.4370     0.0000     -0.6356     -0.3956\n",
      "POP_EMP_log                     -0.3651     0.1819    -2.0076     0.0451     -0.7223     -0.0079\n",
      "GAS_PRICE_2018_log               0.2067     0.0514     4.0218     0.0001      0.1057      0.3076\n",
      "TOTAL_MED_INC_INDIV_2018_log    -0.1038     0.1444    -0.7185     0.4727     -0.3875      0.1799\n",
      "PCT_HH_NO_VEH                    0.0085     0.0121     0.7083     0.4790     -0.0151      0.0322\n",
      "TSD_POP_PCT                     -0.0023     0.0026    -0.8839     0.3771     -0.0074      0.0028\n",
      "JTW_HOME_PCT                     0.0198     0.0141     1.4071     0.1599     -0.0078      0.0474\n",
      "YEARS_SINCE_TNC_BUS             -0.0041     0.0061    -0.6681     0.5043     -0.0161      0.0079\n",
      "YEARS_SINCE_TNC_RAIL             0.0162     0.0059     2.7219     0.0067      0.0045      0.0279\n",
      "BIKE_SHARE                       0.0106     0.0189     0.5606     0.5753     -0.0265      0.0476\n",
      "scooter_flag                    -0.0689     0.0296    -2.3293     0.0202     -0.1271     -0.0108\n",
      "================================================================================================\n",
      "\n",
      "F-test for Poolability: 48.592\n",
      "P-value: 0.0000\n",
      "Distribution: F(37,584)\n",
      "\n",
      "Included effects: Entity\n"
     ]
    },
    {
     "name": "stderr",
     "output_type": "stream",
     "text": [
      "C:\\Program Files\\Anaconda3\\lib\\site-packages\\linearmodels\\panel\\data.py:39: FutureWarning: \n",
      "Passing list-likes to .loc or [] with any missing label will raise\n",
      "KeyError in the future, you can use .reindex() as an alternative.\n",
      "\n",
      "See the documentation here:\n",
      "https://pandas.pydata.org/pandas-docs/stable/indexing.html#deprecate-loc-reindex-listlike\n",
      "  new_df = df.copy().loc[self._full_index]\n",
      "C:\\Program Files\\Anaconda3\\lib\\site-packages\\linearmodels\\utility.py:476: MissingValueWarning: \n",
      "Inputs contain missing values. Dropping rows with missing observations.\n",
      "  warnings.warn(missing_value_warning_msg, MissingValueWarning)\n"
     ]
    }
   ],
   "source": [
    "# High op-ex + NY\n",
    "df2 = df[(df['CLUSTER_APTA4']==1) | (df['CLUSTER_APTA4']==10)]\n",
    "\n",
    "mod=PanelOLS.from_formula('UPT_ADJ_log \\\n",
    "                    ~ VRM_ADJ_BUS_log \\\n",
    "                    + VRM_ADJ_RAIL_log \\\n",
    "                    + FARE_per_UPT_2018_log \\\n",
    "                    + POP_EMP_log \\\n",
    "                    + GAS_PRICE_2018_log \\\n",
    "                    + TOTAL_MED_INC_INDIV_2018_log \\\n",
    "                    + PCT_HH_NO_VEH \\\n",
    "                    + TSD_POP_PCT \\\n",
    "                    + JTW_HOME_PCT \\\n",
    "                    + YEARS_SINCE_TNC_BUS \\\n",
    "                    + YEARS_SINCE_TNC_RAIL \\\n",
    "                    + BIKE_SHARE \\\n",
    "                    + scooter_flag \\\n",
    "                    + EntityEffects \\\n",
    "                    ',data=df2)\n",
    "res=mod.fit()\n",
    "print(res)"
   ]
  },
  {
   "cell_type": "code",
   "execution_count": 34,
   "metadata": {
    "collapsed": false
   },
   "outputs": [
    {
     "name": "stderr",
     "output_type": "stream",
     "text": [
      "C:\\Program Files\\Anaconda3\\lib\\site-packages\\linearmodels\\panel\\data.py:39: FutureWarning: \n",
      "Passing list-likes to .loc or [] with any missing label will raise\n",
      "KeyError in the future, you can use .reindex() as an alternative.\n",
      "\n",
      "See the documentation here:\n",
      "https://pandas.pydata.org/pandas-docs/stable/indexing.html#deprecate-loc-reindex-listlike\n",
      "  new_df = df.copy().loc[self._full_index]\n"
     ]
    },
    {
     "name": "stdout",
     "output_type": "stream",
     "text": [
      "                          PanelOLS Estimation Summary                           \n",
      "================================================================================\n",
      "Dep. Variable:            UPT_ADJ_log   R-squared:                        0.6793\n",
      "Estimator:                   PanelOLS   R-squared (Between):              0.8870\n",
      "No. Observations:                1270   R-squared (Within):               0.6793\n",
      "Date:                Tue, Dec 17 2019   R-squared (Overall):              0.8811\n",
      "Time:                        15:42:25   Log-likelihood                    589.95\n",
      "Cov. Estimator:            Unadjusted                                           \n",
      "                                        F-statistic:                      191.45\n",
      "Entities:                          82   P-value                           0.0000\n",
      "Avg Obs:                       15.488   Distribution:                 F(13,1175)\n",
      "Min Obs:                       4.0000                                           \n",
      "Max Obs:                       17.000   F-statistic (robust):             191.45\n",
      "                                        P-value                           0.0000\n",
      "Time periods:                      17   Distribution:                 F(13,1175)\n",
      "Avg Obs:                       74.706                                           \n",
      "Min Obs:                       63.000                                           \n",
      "Max Obs:                       82.000                                           \n",
      "                                                                                \n",
      "                                      Parameter Estimates                                       \n",
      "================================================================================================\n",
      "                              Parameter  Std. Err.     T-stat    P-value    Lower CI    Upper CI\n",
      "------------------------------------------------------------------------------------------------\n",
      "VRM_ADJ_BUS_log                  0.7974     0.0251     31.713     0.0000      0.7481      0.8468\n",
      "VRM_ADJ_RAIL_log                 0.3254     0.0348     9.3464     0.0000      0.2571      0.3937\n",
      "FARE_per_UPT_2018_log           -0.8332     0.0332    -25.114     0.0000     -0.8983     -0.7681\n",
      "POP_EMP_log                      0.8481     0.1133     7.4832     0.0000      0.6258      1.0705\n",
      "GAS_PRICE_2018_log               0.1044     0.0428     2.4411     0.0148      0.0205      0.1883\n",
      "TOTAL_MED_INC_INDIV_2018_log    -0.2123     0.0927    -2.2907     0.0222     -0.3941     -0.0305\n",
      "PCT_HH_NO_VEH                    0.0193     0.0053     3.6152     0.0003      0.0088      0.0298\n",
      "TSD_POP_PCT                      0.0069     0.0025     2.7648     0.0058      0.0020      0.0117\n",
      "JTW_HOME_PCT                     0.0020     0.0081     0.2533     0.8001     -0.0138      0.0179\n",
      "YEARS_SINCE_TNC_BUS             -0.0521     0.0072    -7.2614     0.0000     -0.0661     -0.0380\n",
      "YEARS_SINCE_TNC_RAIL            -0.0052     0.0104    -0.5032     0.6149     -0.0256      0.0151\n",
      "BIKE_SHARE                      -0.0017     0.0185    -0.0927     0.9261     -0.0381      0.0347\n",
      "scooter_flag                    -0.0049     0.0362    -0.1359     0.8919     -0.0759      0.0661\n",
      "================================================================================================\n",
      "\n",
      "F-test for Poolability: 52.953\n",
      "P-value: 0.0000\n",
      "Distribution: F(81,1175)\n",
      "\n",
      "Included effects: Entity\n"
     ]
    },
    {
     "name": "stderr",
     "output_type": "stream",
     "text": [
      "C:\\Program Files\\Anaconda3\\lib\\site-packages\\linearmodels\\utility.py:476: MissingValueWarning: \n",
      "Inputs contain missing values. Dropping rows with missing observations.\n",
      "  warnings.warn(missing_value_warning_msg, MissingValueWarning)\n"
     ]
    }
   ],
   "source": [
    "# Mid op-ex \n",
    "df2 = df[(df['CLUSTER_APTA4']==2)]\n",
    "\n",
    "mod=PanelOLS.from_formula('UPT_ADJ_log \\\n",
    "                    ~ VRM_ADJ_BUS_log \\\n",
    "                    + VRM_ADJ_RAIL_log \\\n",
    "                    + FARE_per_UPT_2018_log \\\n",
    "                    + POP_EMP_log \\\n",
    "                    + GAS_PRICE_2018_log \\\n",
    "                    + TOTAL_MED_INC_INDIV_2018_log \\\n",
    "                    + PCT_HH_NO_VEH \\\n",
    "                    + TSD_POP_PCT \\\n",
    "                    + JTW_HOME_PCT \\\n",
    "                    + YEARS_SINCE_TNC_BUS \\\n",
    "                    + YEARS_SINCE_TNC_RAIL \\\n",
    "                    + BIKE_SHARE \\\n",
    "                    + scooter_flag \\\n",
    "                    + EntityEffects \\\n",
    "                    ',data=df2)\n",
    "res=mod.fit()\n",
    "print(res)"
   ]
  },
  {
   "cell_type": "code",
   "execution_count": 35,
   "metadata": {
    "collapsed": false
   },
   "outputs": [
    {
     "name": "stderr",
     "output_type": "stream",
     "text": [
      "C:\\Program Files\\Anaconda3\\lib\\site-packages\\linearmodels\\panel\\data.py:39: FutureWarning: \n",
      "Passing list-likes to .loc or [] with any missing label will raise\n",
      "KeyError in the future, you can use .reindex() as an alternative.\n",
      "\n",
      "See the documentation here:\n",
      "https://pandas.pydata.org/pandas-docs/stable/indexing.html#deprecate-loc-reindex-listlike\n",
      "  new_df = df.copy().loc[self._full_index]\n",
      "C:\\Program Files\\Anaconda3\\lib\\site-packages\\linearmodels\\utility.py:476: MissingValueWarning: \n",
      "Inputs contain missing values. Dropping rows with missing observations.\n",
      "  warnings.warn(missing_value_warning_msg, MissingValueWarning)\n"
     ]
    },
    {
     "name": "stdout",
     "output_type": "stream",
     "text": [
      "                          PanelOLS Estimation Summary                           \n",
      "================================================================================\n",
      "Dep. Variable:            UPT_ADJ_log   R-squared:                        0.6692\n",
      "Estimator:                   PanelOLS   R-squared (Between):              0.9969\n",
      "No. Observations:                2106   R-squared (Within):               0.6692\n",
      "Date:                Tue, Dec 17 2019   R-squared (Overall):              0.9967\n",
      "Time:                        15:42:26   Log-likelihood                    437.80\n",
      "Cov. Estimator:            Unadjusted                                           \n",
      "                                        F-statistic:                      359.31\n",
      "Entities:                         141   P-value                           0.0000\n",
      "Avg Obs:                       14.936   Distribution:                 F(11,1954)\n",
      "Min Obs:                       3.0000                                           \n",
      "Max Obs:                       17.000   F-statistic (robust):             359.31\n",
      "                                        P-value                           0.0000\n",
      "Time periods:                      17   Distribution:                 F(11,1954)\n",
      "Avg Obs:                       123.88                                           \n",
      "Min Obs:                       69.000                                           \n",
      "Max Obs:                       141.00                                           \n",
      "                                                                                \n",
      "                                      Parameter Estimates                                       \n",
      "================================================================================================\n",
      "                              Parameter  Std. Err.     T-stat    P-value    Lower CI    Upper CI\n",
      "------------------------------------------------------------------------------------------------\n",
      "VRM_ADJ_BUS_log                  0.9298     0.0180     51.597     0.0000      0.8944      0.9651\n",
      "FARE_per_UPT_2018_log           -0.4306     0.0293    -14.702     0.0000     -0.4881     -0.3732\n",
      "POP_EMP_log                      0.2676     0.0757     3.5379     0.0004      0.1193      0.4160\n",
      "GAS_PRICE_2018_log               0.2520     0.0373     6.7582     0.0000      0.1789      0.3251\n",
      "TOTAL_MED_INC_INDIV_2018_log    -0.2980     0.0742    -4.0146     0.0001     -0.4436     -0.1524\n",
      "PCT_HH_NO_VEH                    0.0038     0.0041     0.9247     0.3553     -0.0043      0.0120\n",
      "TSD_POP_PCT                      0.0111     0.0029     3.8417     0.0001      0.0054      0.0167\n",
      "JTW_HOME_PCT                    -0.0143     0.0052    -2.7727     0.0056     -0.0244     -0.0042\n",
      "YEARS_SINCE_TNC_BUS             -0.0342     0.0067    -5.1340     0.0000     -0.0473     -0.0212\n",
      "BIKE_SHARE                       0.0293     0.0232     1.2628     0.2068     -0.0162      0.0749\n",
      "scooter_flag                     0.0570     0.0691     0.8241     0.4100     -0.0786      0.1926\n",
      "================================================================================================\n",
      "\n",
      "F-test for Poolability: 62.786\n",
      "P-value: 0.0000\n",
      "Distribution: F(140,1954)\n",
      "\n",
      "Included effects: Entity\n"
     ]
    }
   ],
   "source": [
    "# low op-ex\n",
    "\n",
    "df2 = df[(df['CLUSTER_APTA4']==3)]\n",
    "\n",
    "mod=PanelOLS.from_formula('UPT_ADJ_log \\\n",
    "                    ~ VRM_ADJ_BUS_log \\\n",
    "                    + FARE_per_UPT_2018_log \\\n",
    "                    + POP_EMP_log \\\n",
    "                    + GAS_PRICE_2018_log \\\n",
    "                    + TOTAL_MED_INC_INDIV_2018_log \\\n",
    "                    + PCT_HH_NO_VEH \\\n",
    "                    + TSD_POP_PCT \\\n",
    "                    + JTW_HOME_PCT \\\n",
    "                    + YEARS_SINCE_TNC_BUS \\\n",
    "                    + BIKE_SHARE \\\n",
    "                    + scooter_flag \\\n",
    "                    + EntityEffects \\\n",
    "                    ',data=df2)\n",
    "res=mod.fit()\n",
    "print(res)"
   ]
  },
  {
   "cell_type": "markdown",
   "metadata": {},
   "source": [
    "## Treat just low as its own grouping"
   ]
  },
  {
   "cell_type": "code",
   "execution_count": 36,
   "metadata": {
    "collapsed": false
   },
   "outputs": [
    {
     "name": "stdout",
     "output_type": "stream",
     "text": [
      "                          PanelOLS Estimation Summary                           \n",
      "================================================================================\n",
      "Dep. Variable:            UPT_ADJ_log   R-squared:                        0.6745\n",
      "Estimator:                   PanelOLS   R-squared (Between):              0.9837\n",
      "No. Observations:                1905   R-squared (Within):               0.6745\n",
      "Date:                Tue, Dec 17 2019   R-squared (Overall):              0.9833\n",
      "Time:                        15:42:26   Log-likelihood                    933.80\n",
      "Cov. Estimator:            Unadjusted                                           \n",
      "                                        F-statistic:                      282.48\n",
      "Entities:                         120   P-value                           0.0000\n",
      "Avg Obs:                       15.875   Distribution:                 F(13,1772)\n",
      "Min Obs:                       4.0000                                           \n",
      "Max Obs:                       17.000   F-statistic (robust):             282.48\n",
      "                                        P-value                           0.0000\n",
      "Time periods:                      17   Distribution:                 F(13,1772)\n",
      "Avg Obs:                       112.06                                           \n",
      "Min Obs:                       98.000                                           \n",
      "Max Obs:                       120.00                                           \n",
      "                                                                                \n",
      "                                      Parameter Estimates                                       \n",
      "================================================================================================\n",
      "                              Parameter  Std. Err.     T-stat    P-value    Lower CI    Upper CI\n",
      "------------------------------------------------------------------------------------------------\n",
      "VRM_ADJ_BUS_log                  0.7870     0.0237     33.236     0.0000      0.7406      0.8335\n",
      "VRM_ADJ_RAIL_log                 0.5361     0.0209     25.693     0.0000      0.4952      0.5770\n",
      "FARE_per_UPT_2018_log           -0.7833     0.0295    -26.541     0.0000     -0.8412     -0.7254\n",
      "POP_EMP_log                      0.5444     0.0950     5.7297     0.0000      0.3581      0.7308\n",
      "GAS_PRICE_2018_log               0.1610     0.0342     4.7037     0.0000      0.0939      0.2282\n",
      "TOTAL_MED_INC_INDIV_2018_log    -0.1475     0.0792    -1.8614     0.0629     -0.3029      0.0079\n",
      "PCT_HH_NO_VEH                    0.0225     0.0048     4.6661     0.0000      0.0130      0.0319\n",
      "TSD_POP_PCT                      0.0026     0.0018     1.4440     0.1489     -0.0009      0.0062\n",
      "JTW_HOME_PCT                     0.0018     0.0070     0.2544     0.7992     -0.0119      0.0155\n",
      "YEARS_SINCE_TNC_BUS             -0.0309     0.0050    -6.2282     0.0000     -0.0407     -0.0212\n",
      "YEARS_SINCE_TNC_RAIL             0.0122     0.0054     2.2421     0.0251      0.0015      0.0228\n",
      "BIKE_SHARE                       0.0067     0.0140     0.4790     0.6320     -0.0208      0.0343\n",
      "scooter_flag                    -0.0415     0.0251    -1.6571     0.0977     -0.0907      0.0076\n",
      "================================================================================================\n",
      "\n",
      "F-test for Poolability: 61.171\n",
      "P-value: 0.0000\n",
      "Distribution: F(119,1772)\n",
      "\n",
      "Included effects: Entity\n"
     ]
    },
    {
     "name": "stderr",
     "output_type": "stream",
     "text": [
      "C:\\Program Files\\Anaconda3\\lib\\site-packages\\linearmodels\\panel\\data.py:39: FutureWarning: \n",
      "Passing list-likes to .loc or [] with any missing label will raise\n",
      "KeyError in the future, you can use .reindex() as an alternative.\n",
      "\n",
      "See the documentation here:\n",
      "https://pandas.pydata.org/pandas-docs/stable/indexing.html#deprecate-loc-reindex-listlike\n",
      "  new_df = df.copy().loc[self._full_index]\n",
      "C:\\Program Files\\Anaconda3\\lib\\site-packages\\linearmodels\\utility.py:476: MissingValueWarning: \n",
      "Inputs contain missing values. Dropping rows with missing observations.\n",
      "  warnings.warn(missing_value_warning_msg, MissingValueWarning)\n"
     ]
    }
   ],
   "source": [
    "# High op-ex + Mid op-ex + NY\n",
    "df2 = df[(df['CLUSTER_APTA4']!=3)]\n",
    "\n",
    "mod=PanelOLS.from_formula('UPT_ADJ_log \\\n",
    "                    ~ VRM_ADJ_BUS_log \\\n",
    "                    + VRM_ADJ_RAIL_log \\\n",
    "                    + FARE_per_UPT_2018_log \\\n",
    "                    + POP_EMP_log \\\n",
    "                    + GAS_PRICE_2018_log \\\n",
    "                    + TOTAL_MED_INC_INDIV_2018_log \\\n",
    "                    + PCT_HH_NO_VEH \\\n",
    "                    + TSD_POP_PCT \\\n",
    "                    + JTW_HOME_PCT \\\n",
    "                    + YEARS_SINCE_TNC_BUS \\\n",
    "                    + YEARS_SINCE_TNC_RAIL \\\n",
    "                    + BIKE_SHARE \\\n",
    "                    + scooter_flag \\\n",
    "                    + EntityEffects \\\n",
    "                    ',data=df2)\n",
    "res=mod.fit()\n",
    "print(res)"
   ]
  },
  {
   "cell_type": "code",
   "execution_count": 37,
   "metadata": {
    "collapsed": false
   },
   "outputs": [
    {
     "name": "stdout",
     "output_type": "stream",
     "text": [
      "                          PanelOLS Estimation Summary                           \n",
      "================================================================================\n",
      "Dep. Variable:            UPT_ADJ_log   R-squared:                        0.6692\n",
      "Estimator:                   PanelOLS   R-squared (Between):              0.9969\n",
      "No. Observations:                2106   R-squared (Within):               0.6692\n",
      "Date:                Tue, Dec 17 2019   R-squared (Overall):              0.9967\n",
      "Time:                        15:42:26   Log-likelihood                    437.80\n",
      "Cov. Estimator:            Unadjusted                                           \n",
      "                                        F-statistic:                      359.31\n",
      "Entities:                         141   P-value                           0.0000\n",
      "Avg Obs:                       14.936   Distribution:                 F(11,1954)\n",
      "Min Obs:                       3.0000                                           \n",
      "Max Obs:                       17.000   F-statistic (robust):             359.31\n",
      "                                        P-value                           0.0000\n",
      "Time periods:                      17   Distribution:                 F(11,1954)\n",
      "Avg Obs:                       123.88                                           \n",
      "Min Obs:                       69.000                                           \n",
      "Max Obs:                       141.00                                           \n",
      "                                                                                \n",
      "                                      Parameter Estimates                                       \n",
      "================================================================================================\n",
      "                              Parameter  Std. Err.     T-stat    P-value    Lower CI    Upper CI\n",
      "------------------------------------------------------------------------------------------------\n",
      "VRM_ADJ_BUS_log                  0.9298     0.0180     51.597     0.0000      0.8944      0.9651\n",
      "FARE_per_UPT_2018_log           -0.4306     0.0293    -14.702     0.0000     -0.4881     -0.3732\n",
      "POP_EMP_log                      0.2676     0.0757     3.5379     0.0004      0.1193      0.4160\n",
      "GAS_PRICE_2018_log               0.2520     0.0373     6.7582     0.0000      0.1789      0.3251\n",
      "TOTAL_MED_INC_INDIV_2018_log    -0.2980     0.0742    -4.0146     0.0001     -0.4436     -0.1524\n",
      "PCT_HH_NO_VEH                    0.0038     0.0041     0.9247     0.3553     -0.0043      0.0120\n",
      "TSD_POP_PCT                      0.0111     0.0029     3.8417     0.0001      0.0054      0.0167\n",
      "JTW_HOME_PCT                    -0.0143     0.0052    -2.7727     0.0056     -0.0244     -0.0042\n",
      "YEARS_SINCE_TNC_BUS             -0.0342     0.0067    -5.1340     0.0000     -0.0473     -0.0212\n",
      "BIKE_SHARE                       0.0293     0.0232     1.2628     0.2068     -0.0162      0.0749\n",
      "scooter_flag                     0.0570     0.0691     0.8241     0.4100     -0.0786      0.1926\n",
      "================================================================================================\n",
      "\n",
      "F-test for Poolability: 62.786\n",
      "P-value: 0.0000\n",
      "Distribution: F(140,1954)\n",
      "\n",
      "Included effects: Entity\n"
     ]
    },
    {
     "name": "stderr",
     "output_type": "stream",
     "text": [
      "C:\\Program Files\\Anaconda3\\lib\\site-packages\\linearmodels\\panel\\data.py:39: FutureWarning: \n",
      "Passing list-likes to .loc or [] with any missing label will raise\n",
      "KeyError in the future, you can use .reindex() as an alternative.\n",
      "\n",
      "See the documentation here:\n",
      "https://pandas.pydata.org/pandas-docs/stable/indexing.html#deprecate-loc-reindex-listlike\n",
      "  new_df = df.copy().loc[self._full_index]\n",
      "C:\\Program Files\\Anaconda3\\lib\\site-packages\\linearmodels\\utility.py:476: MissingValueWarning: \n",
      "Inputs contain missing values. Dropping rows with missing observations.\n",
      "  warnings.warn(missing_value_warning_msg, MissingValueWarning)\n"
     ]
    }
   ],
   "source": [
    "# Low op-ex\n",
    "df2 = df[(df['CLUSTER_APTA4']==3)]\n",
    "\n",
    "mod=PanelOLS.from_formula('UPT_ADJ_log \\\n",
    "                    ~ VRM_ADJ_BUS_log \\\n",
    "                    + FARE_per_UPT_2018_log \\\n",
    "                    + POP_EMP_log \\\n",
    "                    + GAS_PRICE_2018_log \\\n",
    "                    + TOTAL_MED_INC_INDIV_2018_log \\\n",
    "                    + PCT_HH_NO_VEH \\\n",
    "                    + TSD_POP_PCT \\\n",
    "                    + JTW_HOME_PCT \\\n",
    "                    + YEARS_SINCE_TNC_BUS \\\n",
    "                    + BIKE_SHARE \\\n",
    "                    + scooter_flag \\\n",
    "                    + EntityEffects \\\n",
    "                    ',data=df2)\n",
    "res=mod.fit()\n",
    "print(res)"
   ]
  },
  {
   "cell_type": "markdown",
   "metadata": {},
   "source": [
    "## Partial Segmentation -- low vs others"
   ]
  },
  {
   "cell_type": "code",
   "execution_count": 38,
   "metadata": {
    "collapsed": false
   },
   "outputs": [
    {
     "name": "stderr",
     "output_type": "stream",
     "text": [
      "C:\\Program Files\\Anaconda3\\lib\\site-packages\\linearmodels\\panel\\data.py:39: FutureWarning: \n",
      "Passing list-likes to .loc or [] with any missing label will raise\n",
      "KeyError in the future, you can use .reindex() as an alternative.\n",
      "\n",
      "See the documentation here:\n",
      "https://pandas.pydata.org/pandas-docs/stable/indexing.html#deprecate-loc-reindex-listlike\n",
      "  new_df = df.copy().loc[self._full_index]\n",
      "C:\\Program Files\\Anaconda3\\lib\\site-packages\\linearmodels\\utility.py:476: MissingValueWarning: \n",
      "Inputs contain missing values. Dropping rows with missing observations.\n",
      "  warnings.warn(missing_value_warning_msg, MissingValueWarning)\n"
     ]
    },
    {
     "name": "stdout",
     "output_type": "stream",
     "text": [
      "                          PanelOLS Estimation Summary                           \n",
      "================================================================================\n",
      "Dep. Variable:            UPT_ADJ_log   R-squared:                        0.6624\n",
      "Estimator:                   PanelOLS   R-squared (Between):              0.9800\n",
      "No. Observations:                4011   R-squared (Within):               0.6624\n",
      "Date:                Tue, Dec 17 2019   R-squared (Overall):              0.9809\n",
      "Time:                        15:42:27   Log-likelihood                    1241.8\n",
      "Cov. Estimator:            Unadjusted                                           \n",
      "                                        F-statistic:                      457.90\n",
      "Entities:                         261   P-value                           0.0000\n",
      "Avg Obs:                       15.368   Distribution:                 F(16,3734)\n",
      "Min Obs:                       3.0000                                           \n",
      "Max Obs:                       17.000   F-statistic (robust):             457.90\n",
      "                                        P-value                           0.0000\n",
      "Time periods:                      17   Distribution:                 F(16,3734)\n",
      "Avg Obs:                       235.94                                           \n",
      "Min Obs:                       167.00                                           \n",
      "Max Obs:                       261.00                                           \n",
      "                                                                                \n",
      "                                      Parameter Estimates                                       \n",
      "================================================================================================\n",
      "                              Parameter  Std. Err.     T-stat    P-value    Lower CI    Upper CI\n",
      "------------------------------------------------------------------------------------------------\n",
      "VRM_ADJ_BUS_log                  0.8896     0.0140     63.622     0.0000      0.8622      0.9170\n",
      "VRM_ADJ_RAIL_log                 0.5674     0.0246     23.020     0.0000      0.5191      0.6158\n",
      "FARE_per_UPT_2018_log           -0.5544     0.0211    -26.321     0.0000     -0.5957     -0.5131\n",
      "POP_EMP_log                      0.3204     0.0575     5.5686     0.0000      0.2076      0.4332\n",
      "GAS_PRICE_2018_log               0.2188     0.0258     8.4886     0.0000      0.1683      0.2694\n",
      "TOTAL_MED_INC_INDIV_2018_log    -0.2721     0.0544    -5.0020     0.0000     -0.3787     -0.1654\n",
      "PCT_HH_NO_VEH                    0.0101     0.0031     3.2361     0.0012      0.0040      0.0162\n",
      "TSD_POP_PCT                      0.0059     0.0015     3.8379     0.0001      0.0029      0.0090\n",
      "JTW_HOME_PCT                    -0.0101     0.0040    -2.4923     0.0127     -0.0180     -0.0021\n",
      "YEARS_SINCE_TNC_BUS             -0.0209     0.0053    -3.9821     0.0001     -0.0313     -0.0106\n",
      "YEARS_SINCE_TNC_BUS_LOW         -0.0184     0.0072    -2.5617     0.0105     -0.0325     -0.0043\n",
      "YEARS_SINCE_TNC_RAIL             0.0176     0.0061     2.8653     0.0042      0.0055      0.0296\n",
      "BIKE_SHARE                       0.0084     0.0165     0.5071     0.6121     -0.0240      0.0408\n",
      "BIKE_SHARE_LOW                   0.0201     0.0265     0.7582     0.4484     -0.0318      0.0720\n",
      "scooter_flag                    -0.0440     0.0295    -1.4906     0.1362     -0.1018      0.0139\n",
      "scooter_flag_LOW                 0.1140     0.0687     1.6598     0.0970     -0.0207      0.2487\n",
      "================================================================================================\n",
      "\n",
      "F-test for Poolability: 72.351\n",
      "P-value: 0.0000\n",
      "Distribution: F(260,3734)\n",
      "\n",
      "Included effects: Entity\n"
     ]
    }
   ],
   "source": [
    "# base model\n",
    "\n",
    "mod=PanelOLS.from_formula('UPT_ADJ_log \\\n",
    "                    ~ VRM_ADJ_BUS_log \\\n",
    "                    + VRM_ADJ_RAIL_log \\\n",
    "                    + FARE_per_UPT_2018_log \\\n",
    "                    + POP_EMP_log \\\n",
    "                    + GAS_PRICE_2018_log \\\n",
    "                    + TOTAL_MED_INC_INDIV_2018_log \\\n",
    "                    + PCT_HH_NO_VEH \\\n",
    "                    + TSD_POP_PCT \\\n",
    "                    + JTW_HOME_PCT \\\n",
    "                    + YEARS_SINCE_TNC_BUS \\\n",
    "                    + YEARS_SINCE_TNC_BUS_LOW \\\n",
    "                    + YEARS_SINCE_TNC_RAIL \\\n",
    "                    + BIKE_SHARE \\\n",
    "                    + BIKE_SHARE_LOW \\\n",
    "                    + scooter_flag \\\n",
    "                    + scooter_flag_LOW \\\n",
    "                    + EntityEffects \\\n",
    "                    ',data=df)\n",
    "res=mod.fit()\n",
    "print(res)"
   ]
  },
  {
   "cell_type": "code",
   "execution_count": 39,
   "metadata": {
    "collapsed": false
   },
   "outputs": [
    {
     "name": "stderr",
     "output_type": "stream",
     "text": [
      "C:\\Program Files\\Anaconda3\\lib\\site-packages\\linearmodels\\panel\\data.py:39: FutureWarning: \n",
      "Passing list-likes to .loc or [] with any missing label will raise\n",
      "KeyError in the future, you can use .reindex() as an alternative.\n",
      "\n",
      "See the documentation here:\n",
      "https://pandas.pydata.org/pandas-docs/stable/indexing.html#deprecate-loc-reindex-listlike\n",
      "  new_df = df.copy().loc[self._full_index]\n",
      "C:\\Program Files\\Anaconda3\\lib\\site-packages\\linearmodels\\utility.py:476: MissingValueWarning: \n",
      "Inputs contain missing values. Dropping rows with missing observations.\n",
      "  warnings.warn(missing_value_warning_msg, MissingValueWarning)\n"
     ]
    },
    {
     "name": "stdout",
     "output_type": "stream",
     "text": [
      "                          PanelOLS Estimation Summary                           \n",
      "================================================================================\n",
      "Dep. Variable:            UPT_ADJ_log   R-squared:                        0.6503\n",
      "Estimator:                   PanelOLS   R-squared (Between):              0.9957\n",
      "No. Observations:                4011   R-squared (Within):               0.6503\n",
      "Date:                Tue, Dec 17 2019   R-squared (Overall):              0.9956\n",
      "Time:                        15:42:28   Log-likelihood                    1171.1\n",
      "Cov. Estimator:            Unadjusted                                           \n",
      "                                        F-statistic:                      462.99\n",
      "Entities:                         261   P-value                           0.0000\n",
      "Avg Obs:                       15.368   Distribution:                 F(15,3735)\n",
      "Min Obs:                       3.0000                                           \n",
      "Max Obs:                       17.000   F-statistic (robust):             462.99\n",
      "                                        P-value                           0.0000\n",
      "Time periods:                      17   Distribution:                 F(15,3735)\n",
      "Avg Obs:                       235.94                                           \n",
      "Min Obs:                       167.00                                           \n",
      "Max Obs:                       261.00                                           \n",
      "                                                                                \n",
      "                                      Parameter Estimates                                       \n",
      "================================================================================================\n",
      "                              Parameter  Std. Err.     T-stat    P-value    Lower CI    Upper CI\n",
      "------------------------------------------------------------------------------------------------\n",
      "VRM_ADJ_log                      0.8143     0.0126     64.654     0.0000      0.7896      0.8390\n",
      "FARE_per_UPT_2018_log           -0.5656     0.0214    -26.415     0.0000     -0.6076     -0.5236\n",
      "POP_EMP_log                      0.3770     0.0583     6.4616     0.0000      0.2626      0.4913\n",
      "GAS_PRICE_2018_log               0.2199     0.0262     8.3798     0.0000      0.1684      0.2713\n",
      "TOTAL_MED_INC_INDIV_2018_log    -0.2847     0.0553    -5.1448     0.0000     -0.3932     -0.1762\n",
      "PCT_HH_NO_VEH                    0.0106     0.0032     3.3362     0.0009      0.0044      0.0168\n",
      "TSD_POP_PCT                      0.0081     0.0016     5.2190     0.0000      0.0051      0.0112\n",
      "JTW_HOME_PCT                    -0.0105     0.0041    -2.5580     0.0106     -0.0186     -0.0025\n",
      "YEARS_SINCE_TNC_BUS             -0.0168     0.0053    -3.1495     0.0016     -0.0273     -0.0063\n",
      "YEARS_SINCE_TNC_BUS_LOW         -0.0206     0.0073    -2.8133     0.0049     -0.0349     -0.0062\n",
      "YEARS_SINCE_TNC_RAIL            -0.0014     0.0060    -0.2392     0.8110     -0.0132      0.0103\n",
      "BIKE_SHARE                      -0.0061     0.0168    -0.3643     0.7156     -0.0390      0.0268\n",
      "BIKE_SHARE_LOW                   0.0400     0.0269     1.4892     0.1365     -0.0127      0.0927\n",
      "scooter_flag                    -0.0399     0.0300    -1.3288     0.1840     -0.0988      0.0190\n",
      "scooter_flag_LOW                 0.1071     0.0699     1.5315     0.1257     -0.0300      0.2442\n",
      "================================================================================================\n",
      "\n",
      "F-test for Poolability: 75.598\n",
      "P-value: 0.0000\n",
      "Distribution: F(260,3735)\n",
      "\n",
      "Included effects: Entity\n"
     ]
    }
   ],
   "source": [
    "# base model\n",
    "\n",
    "mod=PanelOLS.from_formula('UPT_ADJ_log \\\n",
    "                    ~ VRM_ADJ_log \\\n",
    "                    + FARE_per_UPT_2018_log \\\n",
    "                    + POP_EMP_log \\\n",
    "                    + GAS_PRICE_2018_log \\\n",
    "                    + TOTAL_MED_INC_INDIV_2018_log \\\n",
    "                    + PCT_HH_NO_VEH \\\n",
    "                    + TSD_POP_PCT \\\n",
    "                    + JTW_HOME_PCT \\\n",
    "                    + YEARS_SINCE_TNC_BUS \\\n",
    "                    + YEARS_SINCE_TNC_BUS_LOW \\\n",
    "                    + YEARS_SINCE_TNC_RAIL \\\n",
    "                    + BIKE_SHARE \\\n",
    "                    + BIKE_SHARE_LOW \\\n",
    "                    + scooter_flag \\\n",
    "                    + scooter_flag_LOW \\\n",
    "                    + EntityEffects \\\n",
    "                    ',data=df)\n",
    "res=mod.fit()\n",
    "print(res)"
   ]
  },
  {
   "cell_type": "code",
   "execution_count": null,
   "metadata": {
    "collapsed": true
   },
   "outputs": [],
   "source": []
  },
  {
   "cell_type": "markdown",
   "metadata": {},
   "source": [
    "## look again at rail expansion"
   ]
  },
  {
   "cell_type": "code",
   "execution_count": 40,
   "metadata": {
    "collapsed": false
   },
   "outputs": [
    {
     "name": "stderr",
     "output_type": "stream",
     "text": [
      "C:\\Program Files\\Anaconda3\\lib\\site-packages\\linearmodels\\panel\\data.py:39: FutureWarning: \n",
      "Passing list-likes to .loc or [] with any missing label will raise\n",
      "KeyError in the future, you can use .reindex() as an alternative.\n",
      "\n",
      "See the documentation here:\n",
      "https://pandas.pydata.org/pandas-docs/stable/indexing.html#deprecate-loc-reindex-listlike\n",
      "  new_df = df.copy().loc[self._full_index]\n",
      "C:\\Program Files\\Anaconda3\\lib\\site-packages\\linearmodels\\utility.py:476: MissingValueWarning: \n",
      "Inputs contain missing values. Dropping rows with missing observations.\n",
      "  warnings.warn(missing_value_warning_msg, MissingValueWarning)\n"
     ]
    },
    {
     "name": "stdout",
     "output_type": "stream",
     "text": [
      "                          PanelOLS Estimation Summary                           \n",
      "================================================================================\n",
      "Dep. Variable:            UPT_ADJ_log   R-squared:                        0.6498\n",
      "Estimator:                   PanelOLS   R-squared (Between):              0.9941\n",
      "No. Observations:                4011   R-squared (Within):               0.6498\n",
      "Date:                Tue, Dec 17 2019   R-squared (Overall):              0.9940\n",
      "Time:                        15:42:29   Log-likelihood                    1168.2\n",
      "Cov. Estimator:            Unadjusted                                           \n",
      "                                        F-statistic:                      495.09\n",
      "Entities:                         261   P-value                           0.0000\n",
      "Avg Obs:                       15.368   Distribution:                 F(14,3736)\n",
      "Min Obs:                       3.0000                                           \n",
      "Max Obs:                       17.000   F-statistic (robust):             495.09\n",
      "                                        P-value                           0.0000\n",
      "Time periods:                      17   Distribution:                 F(14,3736)\n",
      "Avg Obs:                       235.94                                           \n",
      "Min Obs:                       167.00                                           \n",
      "Max Obs:                       261.00                                           \n",
      "                                                                                \n",
      "                                      Parameter Estimates                                       \n",
      "================================================================================================\n",
      "                              Parameter  Std. Err.     T-stat    P-value    Lower CI    Upper CI\n",
      "------------------------------------------------------------------------------------------------\n",
      "VRM_ADJ_log                      0.8148     0.0126     64.415     0.0000      0.7900      0.8396\n",
      "FARE_per_UPT_2018_log           -0.5648     0.0215    -26.311     0.0000     -0.6069     -0.5227\n",
      "POP_EMP_log                      0.3703     0.0583     6.3547     0.0000      0.2560      0.4845\n",
      "GAS_PRICE_2018_log               0.2222     0.0263     8.4607     0.0000      0.1707      0.2736\n",
      "TOTAL_MED_INC_INDIV_2018_log    -0.2942     0.0553    -5.3153     0.0000     -0.4027     -0.1857\n",
      "PCT_HH_NO_VEH                    0.0101     0.0032     3.1565     0.0016      0.0038      0.0163\n",
      "TSD_POP_PCT                      0.0079     0.0016     5.0989     0.0000      0.0049      0.0110\n",
      "JTW_HOME_PCT                    -0.0107     0.0041    -2.6099     0.0091     -0.0188     -0.0027\n",
      "RAIL_COMPETITION                -0.0247     0.0280    -0.8803     0.3788     -0.0796      0.0303\n",
      "YEARS_SINCE_RAIL_START_2        -0.0567     0.0346    -1.6393     0.1012     -0.1245      0.0111\n",
      "YEARS_SINCE_TNC_BUS             -0.0260     0.0042    -6.1366     0.0000     -0.0343     -0.0177\n",
      "YEARS_SINCE_TNC_RAIL            -0.0056     0.0057    -0.9798     0.3272     -0.0168      0.0056\n",
      "BIKE_SHARE                       0.0147     0.0132     1.1104     0.2669     -0.0113      0.0406\n",
      "scooter_flag                    -0.0094     0.0268    -0.3509     0.7257     -0.0620      0.0432\n",
      "================================================================================================\n",
      "\n",
      "F-test for Poolability: 72.198\n",
      "P-value: 0.0000\n",
      "Distribution: F(260,3736)\n",
      "\n",
      "Included effects: Entity\n"
     ]
    }
   ],
   "source": [
    "# rail expansion--nope\n",
    "\n",
    "mod=PanelOLS.from_formula('UPT_ADJ_log \\\n",
    "                    ~ VRM_ADJ_log \\\n",
    "                    + FARE_per_UPT_2018_log \\\n",
    "                    + POP_EMP_log \\\n",
    "                    + GAS_PRICE_2018_log \\\n",
    "                    + TOTAL_MED_INC_INDIV_2018_log \\\n",
    "                    + PCT_HH_NO_VEH \\\n",
    "                    + TSD_POP_PCT \\\n",
    "                    + JTW_HOME_PCT \\\n",
    "                    + RAIL_COMPETITION \\\n",
    "                    + YEARS_SINCE_RAIL_START_2 \\\n",
    "                    + YEARS_SINCE_TNC_BUS \\\n",
    "                    + YEARS_SINCE_TNC_RAIL \\\n",
    "                    + BIKE_SHARE \\\n",
    "                    + scooter_flag \\\n",
    "                    + EntityEffects \\\n",
    "                    ',data=df)\n",
    "res=mod.fit()\n",
    "print(res)"
   ]
  },
  {
   "cell_type": "markdown",
   "metadata": {},
   "source": [
    "## Look at years since TNC segmentation again"
   ]
  },
  {
   "cell_type": "code",
   "execution_count": 41,
   "metadata": {
    "collapsed": false
   },
   "outputs": [
    {
     "name": "stderr",
     "output_type": "stream",
     "text": [
      "C:\\Program Files\\Anaconda3\\lib\\site-packages\\linearmodels\\panel\\data.py:39: FutureWarning: \n",
      "Passing list-likes to .loc or [] with any missing label will raise\n",
      "KeyError in the future, you can use .reindex() as an alternative.\n",
      "\n",
      "See the documentation here:\n",
      "https://pandas.pydata.org/pandas-docs/stable/indexing.html#deprecate-loc-reindex-listlike\n",
      "  new_df = df.copy().loc[self._full_index]\n",
      "C:\\Program Files\\Anaconda3\\lib\\site-packages\\linearmodels\\utility.py:476: MissingValueWarning: \n",
      "Inputs contain missing values. Dropping rows with missing observations.\n",
      "  warnings.warn(missing_value_warning_msg, MissingValueWarning)\n"
     ]
    },
    {
     "name": "stdout",
     "output_type": "stream",
     "text": [
      "                          PanelOLS Estimation Summary                           \n",
      "================================================================================\n",
      "Dep. Variable:            UPT_ADJ_log   R-squared:                        0.6638\n",
      "Estimator:                   PanelOLS   R-squared (Between):              0.9824\n",
      "No. Observations:                4011   R-squared (Within):               0.6638\n",
      "Date:                Tue, Dec 17 2019   R-squared (Overall):              0.9832\n",
      "Time:                        15:42:30   Log-likelihood                    1250.4\n",
      "Cov. Estimator:            Unadjusted                                           \n",
      "                                        F-statistic:                      409.43\n",
      "Entities:                         261   P-value                           0.0000\n",
      "Avg Obs:                       15.368   Distribution:                 F(18,3732)\n",
      "Min Obs:                       3.0000                                           \n",
      "Max Obs:                       17.000   F-statistic (robust):             409.43\n",
      "                                        P-value                           0.0000\n",
      "Time periods:                      17   Distribution:                 F(18,3732)\n",
      "Avg Obs:                       235.94                                           \n",
      "Min Obs:                       167.00                                           \n",
      "Max Obs:                       261.00                                           \n",
      "                                                                                \n",
      "                                      Parameter Estimates                                       \n",
      "================================================================================================\n",
      "                              Parameter  Std. Err.     T-stat    P-value    Lower CI    Upper CI\n",
      "------------------------------------------------------------------------------------------------\n",
      "VRM_ADJ_BUS_log                  0.8904     0.0140     63.808     0.0000      0.8630      0.9178\n",
      "VRM_ADJ_RAIL_log                 0.5720     0.0247     23.146     0.0000      0.5235      0.6204\n",
      "FARE_per_UPT_2018_log           -0.5557     0.0210    -26.430     0.0000     -0.5969     -0.5145\n",
      "POP_EMP_log                      0.3395     0.0577     5.8807     0.0000      0.2263      0.4527\n",
      "GAS_PRICE_2018_log               0.2091     0.0258     8.0935     0.0000      0.1585      0.2598\n",
      "TOTAL_MED_INC_INDIV_2018_log    -0.2769     0.0543    -5.0997     0.0000     -0.3834     -0.1704\n",
      "PCT_HH_NO_VEH                    0.0094     0.0031     3.0022     0.0027      0.0033      0.0155\n",
      "TSD_POP_PCT                      0.0064     0.0015     4.1640     0.0000      0.0034      0.0095\n",
      "JTW_HOME_PCT                    -0.0086     0.0041    -2.1322     0.0331     -0.0166     -0.0007\n",
      "YEARS_SINCE_TNC_BUS_NY          -0.0173     0.0192    -0.9007     0.3678     -0.0550      0.0204\n",
      "YEARS_SINCE_TNC_BUS_HI          -0.0140     0.0062    -2.2561     0.0241     -0.0262     -0.0018\n",
      "YEARS_SINCE_TNC_BUS_MID         -0.0335     0.0061    -5.5239     0.0000     -0.0454     -0.0216\n",
      "YEARS_SINCE_TNC_BUS_LOW         -0.0376     0.0053    -7.1154     0.0000     -0.0480     -0.0272\n",
      "YEARS_SINCE_TNC_RAIL_NY          0.0405     0.0192     2.1087     0.0350      0.0028      0.0782\n",
      "YEARS_SINCE_TNC_RAIL_HI          0.0210     0.0065     3.2083     0.0013      0.0082      0.0338\n",
      "YEARS_SINCE_TNC_RAIL_MID        -0.0146     0.0103    -1.4134     0.1576     -0.0348      0.0057\n",
      "BIKE_SHARE                       0.0163     0.0130     1.2554     0.2094     -0.0092      0.0418\n",
      "scooter_flag                    -0.0242     0.0266    -0.9081     0.3639     -0.0764      0.0280\n",
      "================================================================================================\n",
      "\n",
      "F-test for Poolability: 72.205\n",
      "P-value: 0.0000\n",
      "Distribution: F(260,3732)\n",
      "\n",
      "Included effects: Entity\n"
     ]
    }
   ],
   "source": [
    "# Final Model\n",
    "\n",
    "mod=PanelOLS.from_formula('UPT_ADJ_log \\\n",
    "                    ~ VRM_ADJ_BUS_log \\\n",
    "                    + VRM_ADJ_RAIL_log \\\n",
    "                    + FARE_per_UPT_2018_log \\\n",
    "                    + POP_EMP_log \\\n",
    "                    + GAS_PRICE_2018_log \\\n",
    "                    + TOTAL_MED_INC_INDIV_2018_log \\\n",
    "                    + PCT_HH_NO_VEH \\\n",
    "                    + TSD_POP_PCT \\\n",
    "                    + JTW_HOME_PCT \\\n",
    "                    + YEARS_SINCE_TNC_BUS_NY \\\n",
    "                    + YEARS_SINCE_TNC_BUS_HI \\\n",
    "                    + YEARS_SINCE_TNC_BUS_MID \\\n",
    "                    + YEARS_SINCE_TNC_BUS_LOW \\\n",
    "                    + YEARS_SINCE_TNC_RAIL_NY \\\n",
    "                    + YEARS_SINCE_TNC_RAIL_HI \\\n",
    "                    + YEARS_SINCE_TNC_RAIL_MID \\\n",
    "                    + BIKE_SHARE \\\n",
    "                    + scooter_flag \\\n",
    "                    + EntityEffects \\\n",
    "                    ',data=df)\n",
    "res=mod.fit()\n",
    "print(res)"
   ]
  },
  {
   "cell_type": "code",
   "execution_count": 42,
   "metadata": {
    "collapsed": false
   },
   "outputs": [
    {
     "name": "stderr",
     "output_type": "stream",
     "text": [
      "C:\\Program Files\\Anaconda3\\lib\\site-packages\\linearmodels\\panel\\data.py:39: FutureWarning: \n",
      "Passing list-likes to .loc or [] with any missing label will raise\n",
      "KeyError in the future, you can use .reindex() as an alternative.\n",
      "\n",
      "See the documentation here:\n",
      "https://pandas.pydata.org/pandas-docs/stable/indexing.html#deprecate-loc-reindex-listlike\n",
      "  new_df = df.copy().loc[self._full_index]\n",
      "C:\\Program Files\\Anaconda3\\lib\\site-packages\\linearmodels\\utility.py:476: MissingValueWarning: \n",
      "Inputs contain missing values. Dropping rows with missing observations.\n",
      "  warnings.warn(missing_value_warning_msg, MissingValueWarning)\n"
     ]
    },
    {
     "name": "stdout",
     "output_type": "stream",
     "text": [
      "                          PanelOLS Estimation Summary                           \n",
      "================================================================================\n",
      "Dep. Variable:            UPT_ADJ_log   R-squared:                        0.6627\n",
      "Estimator:                   PanelOLS   R-squared (Between):              0.9809\n",
      "No. Observations:                4011   R-squared (Within):               0.6627\n",
      "Date:                Tue, Dec 17 2019   R-squared (Overall):              0.9818\n",
      "Time:                        15:42:30   Log-likelihood                    1243.7\n",
      "Cov. Estimator:            Unadjusted                                           \n",
      "                                        F-statistic:                      458.54\n",
      "Entities:                         261   P-value                           0.0000\n",
      "Avg Obs:                       15.368   Distribution:                 F(16,3734)\n",
      "Min Obs:                       3.0000                                           \n",
      "Max Obs:                       17.000   F-statistic (robust):             458.54\n",
      "                                        P-value                           0.0000\n",
      "Time periods:                      17   Distribution:                 F(16,3734)\n",
      "Avg Obs:                       235.94                                           \n",
      "Min Obs:                       167.00                                           \n",
      "Max Obs:                       261.00                                           \n",
      "                                                                                \n",
      "                                      Parameter Estimates                                       \n",
      "================================================================================================\n",
      "                              Parameter  Std. Err.     T-stat    P-value    Lower CI    Upper CI\n",
      "------------------------------------------------------------------------------------------------\n",
      "VRM_ADJ_BUS_log                  0.8903     0.0140     63.712     0.0000      0.8629      0.9177\n",
      "VRM_ADJ_RAIL_log                 0.5667     0.0246     23.038     0.0000      0.5185      0.6149\n",
      "FARE_per_UPT_2018_log           -0.5549     0.0211    -26.360     0.0000     -0.5962     -0.5137\n",
      "POP_EMP_log                      0.3319     0.0578     5.7469     0.0000      0.2187      0.4452\n",
      "GAS_PRICE_2018_log               0.2129     0.0259     8.2354     0.0000      0.1622      0.2636\n",
      "TOTAL_MED_INC_INDIV_2018_log    -0.2778     0.0544    -5.1109     0.0000     -0.3844     -0.1712\n",
      "PCT_HH_NO_VEH                    0.0097     0.0031     3.1123     0.0019      0.0036      0.0158\n",
      "TSD_POP_PCT                      0.0061     0.0015     3.9798     0.0001      0.0031      0.0092\n",
      "JTW_HOME_PCT                    -0.0093     0.0041    -2.3065     0.0211     -0.0173     -0.0014\n",
      "YEARS_SINCE_TNC_BUS_NY          -0.0175     0.0193    -0.9081     0.3639     -0.0552      0.0203\n",
      "YEARS_SINCE_TNC_BUS_HI          -0.0140     0.0062    -2.2440     0.0249     -0.0262     -0.0018\n",
      "YEARS_SINCE_TNC_BUS_MID         -0.0331     0.0061    -5.4521     0.0000     -0.0450     -0.0212\n",
      "YEARS_SINCE_TNC_BUS_LOW         -0.0371     0.0053    -7.0112     0.0000     -0.0474     -0.0267\n",
      "YEARS_SINCE_TNC_RAIL             0.0145     0.0059     2.4818     0.0131      0.0030      0.0260\n",
      "BIKE_SHARE                       0.0170     0.0130     1.3080     0.1910     -0.0085      0.0426\n",
      "scooter_flag                    -0.0234     0.0267    -0.8758     0.3812     -0.0757      0.0289\n",
      "================================================================================================\n",
      "\n",
      "F-test for Poolability: 72.328\n",
      "P-value: 0.0000\n",
      "Distribution: F(260,3734)\n",
      "\n",
      "Included effects: Entity\n"
     ]
    }
   ],
   "source": [
    "# merge rail\n",
    "\n",
    "mod=PanelOLS.from_formula('UPT_ADJ_log \\\n",
    "                    ~ VRM_ADJ_BUS_log \\\n",
    "                    + VRM_ADJ_RAIL_log \\\n",
    "                    + FARE_per_UPT_2018_log \\\n",
    "                    + POP_EMP_log \\\n",
    "                    + GAS_PRICE_2018_log \\\n",
    "                    + TOTAL_MED_INC_INDIV_2018_log \\\n",
    "                    + PCT_HH_NO_VEH \\\n",
    "                    + TSD_POP_PCT \\\n",
    "                    + JTW_HOME_PCT \\\n",
    "                    + YEARS_SINCE_TNC_BUS_NY \\\n",
    "                    + YEARS_SINCE_TNC_BUS_HI \\\n",
    "                    + YEARS_SINCE_TNC_BUS_MID \\\n",
    "                    + YEARS_SINCE_TNC_BUS_LOW \\\n",
    "                    + YEARS_SINCE_TNC_RAIL \\\n",
    "                    + BIKE_SHARE \\\n",
    "                    + scooter_flag \\\n",
    "                    + EntityEffects \\\n",
    "                    ',data=df)\n",
    "res=mod.fit()\n",
    "print(res)"
   ]
  },
  {
   "cell_type": "code",
   "execution_count": 43,
   "metadata": {
    "collapsed": false
   },
   "outputs": [
    {
     "name": "stderr",
     "output_type": "stream",
     "text": [
      "C:\\Program Files\\Anaconda3\\lib\\site-packages\\linearmodels\\panel\\data.py:39: FutureWarning: \n",
      "Passing list-likes to .loc or [] with any missing label will raise\n",
      "KeyError in the future, you can use .reindex() as an alternative.\n",
      "\n",
      "See the documentation here:\n",
      "https://pandas.pydata.org/pandas-docs/stable/indexing.html#deprecate-loc-reindex-listlike\n",
      "  new_df = df.copy().loc[self._full_index]\n",
      "C:\\Program Files\\Anaconda3\\lib\\site-packages\\linearmodels\\utility.py:476: MissingValueWarning: \n",
      "Inputs contain missing values. Dropping rows with missing observations.\n",
      "  warnings.warn(missing_value_warning_msg, MissingValueWarning)\n"
     ]
    },
    {
     "name": "stdout",
     "output_type": "stream",
     "text": [
      "                          PanelOLS Estimation Summary                           \n",
      "================================================================================\n",
      "Dep. Variable:            UPT_ADJ_log   R-squared:                        0.6627\n",
      "Estimator:                   PanelOLS   R-squared (Between):              0.9807\n",
      "No. Observations:                4011   R-squared (Within):               0.6627\n",
      "Date:                Tue, Dec 17 2019   R-squared (Overall):              0.9816\n",
      "Time:                        15:42:31   Log-likelihood                    1243.5\n",
      "Cov. Estimator:            Unadjusted                                           \n",
      "                                        F-statistic:                      489.17\n",
      "Entities:                         261   P-value                           0.0000\n",
      "Avg Obs:                       15.368   Distribution:                 F(15,3735)\n",
      "Min Obs:                       3.0000                                           \n",
      "Max Obs:                       17.000   F-statistic (robust):             489.17\n",
      "                                        P-value                           0.0000\n",
      "Time periods:                      17   Distribution:                 F(15,3735)\n",
      "Avg Obs:                       235.94                                           \n",
      "Min Obs:                       167.00                                           \n",
      "Max Obs:                       261.00                                           \n",
      "                                                                                \n",
      "                                      Parameter Estimates                                       \n",
      "================================================================================================\n",
      "                              Parameter  Std. Err.     T-stat    P-value    Lower CI    Upper CI\n",
      "------------------------------------------------------------------------------------------------\n",
      "VRM_ADJ_BUS_log                  0.8899     0.0140     63.749     0.0000      0.8626      0.9173\n",
      "VRM_ADJ_RAIL_log                 0.5665     0.0246     23.033     0.0000      0.5182      0.6147\n",
      "FARE_per_UPT_2018_log           -0.5548     0.0210    -26.358     0.0000     -0.5961     -0.5136\n",
      "POP_EMP_log                      0.3316     0.0578     5.7423     0.0000      0.2184      0.4449\n",
      "GAS_PRICE_2018_log               0.2128     0.0258     8.2323     0.0000      0.1621      0.2635\n",
      "TOTAL_MED_INC_INDIV_2018_log    -0.2789     0.0543    -5.1336     0.0000     -0.3854     -0.1724\n",
      "PCT_HH_NO_VEH                    0.0096     0.0031     3.0884     0.0020      0.0035      0.0158\n",
      "TSD_POP_PCT                      0.0061     0.0015     3.9560     0.0001      0.0031      0.0091\n",
      "JTW_HOME_PCT                    -0.0093     0.0041    -2.3006     0.0215     -0.0173     -0.0014\n",
      "YEARS_SINCE_TNC_BUS_NY          -0.0178     0.0192    -0.9232     0.3559     -0.0555      0.0200\n",
      "YEARS_SINCE_TNC_BUS_HI          -0.0142     0.0062    -2.2919     0.0220     -0.0264     -0.0021\n",
      "YEARS_SINCE_TNC_BUS_MIDLOW      -0.0355     0.0046    -7.7716     0.0000     -0.0444     -0.0265\n",
      "YEARS_SINCE_TNC_RAIL             0.0143     0.0058     2.4470     0.0145      0.0028      0.0257\n",
      "BIKE_SHARE                       0.0176     0.0130     1.3547     0.1756     -0.0079      0.0431\n",
      "scooter_flag                    -0.0212     0.0264    -0.8033     0.4218     -0.0731      0.0306\n",
      "================================================================================================\n",
      "\n",
      "F-test for Poolability: 72.416\n",
      "P-value: 0.0000\n",
      "Distribution: F(260,3735)\n",
      "\n",
      "Included effects: Entity\n"
     ]
    }
   ],
   "source": [
    "# merge mid/low\n",
    "\n",
    "mod=PanelOLS.from_formula('UPT_ADJ_log \\\n",
    "                    ~ VRM_ADJ_BUS_log \\\n",
    "                    + VRM_ADJ_RAIL_log \\\n",
    "                    + FARE_per_UPT_2018_log \\\n",
    "                    + POP_EMP_log \\\n",
    "                    + GAS_PRICE_2018_log \\\n",
    "                    + TOTAL_MED_INC_INDIV_2018_log \\\n",
    "                    + PCT_HH_NO_VEH \\\n",
    "                    + TSD_POP_PCT \\\n",
    "                    + JTW_HOME_PCT \\\n",
    "                    + YEARS_SINCE_TNC_BUS_NY \\\n",
    "                    + YEARS_SINCE_TNC_BUS_HI \\\n",
    "                    + YEARS_SINCE_TNC_BUS_MIDLOW \\\n",
    "                    + YEARS_SINCE_TNC_RAIL \\\n",
    "                    + BIKE_SHARE \\\n",
    "                    + scooter_flag \\\n",
    "                    + EntityEffects \\\n",
    "                    ',data=df)\n",
    "res=mod.fit()\n",
    "print(res)"
   ]
  },
  {
   "cell_type": "code",
   "execution_count": 44,
   "metadata": {
    "collapsed": false
   },
   "outputs": [
    {
     "name": "stderr",
     "output_type": "stream",
     "text": [
      "C:\\Program Files\\Anaconda3\\lib\\site-packages\\linearmodels\\panel\\data.py:39: FutureWarning: \n",
      "Passing list-likes to .loc or [] with any missing label will raise\n",
      "KeyError in the future, you can use .reindex() as an alternative.\n",
      "\n",
      "See the documentation here:\n",
      "https://pandas.pydata.org/pandas-docs/stable/indexing.html#deprecate-loc-reindex-listlike\n",
      "  new_df = df.copy().loc[self._full_index]\n",
      "C:\\Program Files\\Anaconda3\\lib\\site-packages\\linearmodels\\utility.py:476: MissingValueWarning: \n",
      "Inputs contain missing values. Dropping rows with missing observations.\n",
      "  warnings.warn(missing_value_warning_msg, MissingValueWarning)\n"
     ]
    },
    {
     "name": "stdout",
     "output_type": "stream",
     "text": [
      "                          PanelOLS Estimation Summary                           \n",
      "================================================================================\n",
      "Dep. Variable:            UPT_ADJ_log   R-squared:                        0.6627\n",
      "Estimator:                   PanelOLS   R-squared (Between):              0.9808\n",
      "No. Observations:                4011   R-squared (Within):               0.6627\n",
      "Date:                Tue, Dec 17 2019   R-squared (Overall):              0.9817\n",
      "Time:                        15:42:31   Log-likelihood                    1243.5\n",
      "Cov. Estimator:            Unadjusted                                           \n",
      "                                        F-statistic:                      524.24\n",
      "Entities:                         261   P-value                           0.0000\n",
      "Avg Obs:                       15.368   Distribution:                 F(14,3736)\n",
      "Min Obs:                       3.0000                                           \n",
      "Max Obs:                       17.000   F-statistic (robust):             524.24\n",
      "                                        P-value                           0.0000\n",
      "Time periods:                      17   Distribution:                 F(14,3736)\n",
      "Avg Obs:                       235.94                                           \n",
      "Min Obs:                       167.00                                           \n",
      "Max Obs:                       261.00                                           \n",
      "                                                                                \n",
      "                                      Parameter Estimates                                       \n",
      "================================================================================================\n",
      "                              Parameter  Std. Err.     T-stat    P-value    Lower CI    Upper CI\n",
      "------------------------------------------------------------------------------------------------\n",
      "VRM_ADJ_BUS_log                  0.8899     0.0140     63.769     0.0000      0.8625      0.9172\n",
      "VRM_ADJ_RAIL_log                 0.5665     0.0246     23.036     0.0000      0.5182      0.6147\n",
      "FARE_per_UPT_2018_log           -0.5549     0.0210    -26.370     0.0000     -0.5962     -0.5136\n",
      "POP_EMP_log                      0.3320     0.0577     5.7535     0.0000      0.2189      0.4451\n",
      "GAS_PRICE_2018_log               0.2128     0.0258     8.2337     0.0000      0.1621      0.2635\n",
      "TOTAL_MED_INC_INDIV_2018_log    -0.2786     0.0543    -5.1313     0.0000     -0.3851     -0.1722\n",
      "PCT_HH_NO_VEH                    0.0096     0.0031     3.0932     0.0020      0.0035      0.0158\n",
      "TSD_POP_PCT                      0.0061     0.0015     3.9599     0.0001      0.0031      0.0091\n",
      "JTW_HOME_PCT                    -0.0093     0.0040    -2.2965     0.0217     -0.0172     -0.0014\n",
      "YEARS_SINCE_TNC_BUS_HINY        -0.0145     0.0060    -2.4045     0.0162     -0.0263     -0.0027\n",
      "YEARS_SINCE_TNC_BUS_MIDLOW      -0.0355     0.0046    -7.7758     0.0000     -0.0444     -0.0265\n",
      "YEARS_SINCE_TNC_RAIL             0.0143     0.0058     2.4467     0.0145      0.0028      0.0257\n",
      "BIKE_SHARE                       0.0176     0.0130     1.3528     0.1762     -0.0079      0.0430\n",
      "scooter_flag                    -0.0213     0.0264    -0.8040     0.4214     -0.0731      0.0306\n",
      "================================================================================================\n",
      "\n",
      "F-test for Poolability: 72.552\n",
      "P-value: 0.0000\n",
      "Distribution: F(260,3736)\n",
      "\n",
      "Included effects: Entity\n"
     ]
    }
   ],
   "source": [
    "# merge NY and high\n",
    "\n",
    "mod=PanelOLS.from_formula('UPT_ADJ_log \\\n",
    "                    ~ VRM_ADJ_BUS_log \\\n",
    "                    + VRM_ADJ_RAIL_log \\\n",
    "                    + FARE_per_UPT_2018_log \\\n",
    "                    + POP_EMP_log \\\n",
    "                    + GAS_PRICE_2018_log \\\n",
    "                    + TOTAL_MED_INC_INDIV_2018_log \\\n",
    "                    + PCT_HH_NO_VEH \\\n",
    "                    + TSD_POP_PCT \\\n",
    "                    + JTW_HOME_PCT \\\n",
    "                    + YEARS_SINCE_TNC_BUS_HINY \\\n",
    "                    + YEARS_SINCE_TNC_BUS_MIDLOW \\\n",
    "                    + YEARS_SINCE_TNC_RAIL \\\n",
    "                    + BIKE_SHARE \\\n",
    "                    + scooter_flag \\\n",
    "                    + EntityEffects \\\n",
    "                    ',data=df)\n",
    "res=mod.fit()\n",
    "print(res)"
   ]
  },
  {
   "cell_type": "markdown",
   "metadata": {},
   "source": [
    "## more TNC specifications"
   ]
  },
  {
   "cell_type": "code",
   "execution_count": 45,
   "metadata": {
    "collapsed": false
   },
   "outputs": [
    {
     "name": "stderr",
     "output_type": "stream",
     "text": [
      "C:\\Program Files\\Anaconda3\\lib\\site-packages\\linearmodels\\panel\\data.py:39: FutureWarning: \n",
      "Passing list-likes to .loc or [] with any missing label will raise\n",
      "KeyError in the future, you can use .reindex() as an alternative.\n",
      "\n",
      "See the documentation here:\n",
      "https://pandas.pydata.org/pandas-docs/stable/indexing.html#deprecate-loc-reindex-listlike\n",
      "  new_df = df.copy().loc[self._full_index]\n",
      "C:\\Program Files\\Anaconda3\\lib\\site-packages\\linearmodels\\utility.py:476: MissingValueWarning: \n",
      "Inputs contain missing values. Dropping rows with missing observations.\n",
      "  warnings.warn(missing_value_warning_msg, MissingValueWarning)\n"
     ]
    },
    {
     "name": "stdout",
     "output_type": "stream",
     "text": [
      "                          PanelOLS Estimation Summary                           \n",
      "================================================================================\n",
      "Dep. Variable:            UPT_ADJ_log   R-squared:                        0.6617\n",
      "Estimator:                   PanelOLS   R-squared (Between):              0.9775\n",
      "No. Observations:                4011   R-squared (Within):               0.6617\n",
      "Date:                Tue, Dec 17 2019   R-squared (Overall):              0.9785\n",
      "Time:                        15:42:33   Log-likelihood                    1237.4\n",
      "Cov. Estimator:            Unadjusted                                           \n",
      "                                        F-statistic:                      562.16\n",
      "Entities:                         261   P-value                           0.0000\n",
      "Avg Obs:                       15.368   Distribution:                 F(13,3737)\n",
      "Min Obs:                       3.0000                                           \n",
      "Max Obs:                       17.000   F-statistic (robust):             562.16\n",
      "                                        P-value                           0.0000\n",
      "Time periods:                      17   Distribution:                 F(13,3737)\n",
      "Avg Obs:                       235.94                                           \n",
      "Min Obs:                       167.00                                           \n",
      "Max Obs:                       261.00                                           \n",
      "                                                                                \n",
      "                                      Parameter Estimates                                       \n",
      "================================================================================================\n",
      "                              Parameter  Std. Err.     T-stat    P-value    Lower CI    Upper CI\n",
      "------------------------------------------------------------------------------------------------\n",
      "VRM_ADJ_BUS_log                  0.8883     0.0140     63.605     0.0000      0.8609      0.9157\n",
      "VRM_ADJ_RAIL_log                 0.5656     0.0246     22.972     0.0000      0.5174      0.6139\n",
      "FARE_per_UPT_2018_log           -0.5537     0.0211    -26.281     0.0000     -0.5950     -0.5124\n",
      "POP_EMP_log                      0.3116     0.0575     5.4233     0.0000      0.1990      0.4243\n",
      "GAS_PRICE_2018_log               0.2205     0.0258     8.5517     0.0000      0.1699      0.2710\n",
      "TOTAL_MED_INC_INDIV_2018_log    -0.2790     0.0544    -5.1307     0.0000     -0.3856     -0.1724\n",
      "PCT_HH_NO_VEH                    0.0098     0.0031     3.1233     0.0018      0.0036      0.0159\n",
      "TSD_POP_PCT                      0.0057     0.0015     3.7045     0.0002      0.0027      0.0087\n",
      "JTW_HOME_PCT                    -0.0104     0.0040    -2.5632     0.0104     -0.0183     -0.0024\n",
      "YEARS_SINCE_TNC_BUS             -0.0292     0.0042    -7.0067     0.0000     -0.0373     -0.0210\n",
      "YEARS_SINCE_TNC_RAIL             0.0141     0.0058     2.4179     0.0157      0.0027      0.0256\n",
      "BIKE_SHARE                       0.0201     0.0130     1.5448     0.1225     -0.0054      0.0455\n",
      "scooter_flag                    -0.0124     0.0263    -0.4713     0.6375     -0.0641      0.0392\n",
      "================================================================================================\n",
      "\n",
      "F-test for Poolability: 72.432\n",
      "P-value: 0.0000\n",
      "Distribution: F(260,3737)\n",
      "\n",
      "Included effects: Entity\n"
     ]
    }
   ],
   "source": [
    "# base model\n",
    "\n",
    "mod=PanelOLS.from_formula('UPT_ADJ_log \\\n",
    "                    ~ VRM_ADJ_BUS_log \\\n",
    "                    + VRM_ADJ_RAIL_log \\\n",
    "                    + FARE_per_UPT_2018_log \\\n",
    "                    + POP_EMP_log \\\n",
    "                    + GAS_PRICE_2018_log \\\n",
    "                    + TOTAL_MED_INC_INDIV_2018_log \\\n",
    "                    + PCT_HH_NO_VEH \\\n",
    "                    + TSD_POP_PCT \\\n",
    "                    + JTW_HOME_PCT \\\n",
    "                    + YEARS_SINCE_TNC_BUS \\\n",
    "                    + YEARS_SINCE_TNC_RAIL \\\n",
    "                    + BIKE_SHARE \\\n",
    "                    + scooter_flag \\\n",
    "                    + EntityEffects \\\n",
    "                    ',data=df)\n",
    "res=mod.fit()\n",
    "print(res)\n"
   ]
  },
  {
   "cell_type": "code",
   "execution_count": 46,
   "metadata": {
    "collapsed": false
   },
   "outputs": [
    {
     "name": "stderr",
     "output_type": "stream",
     "text": [
      "C:\\Program Files\\Anaconda3\\lib\\site-packages\\linearmodels\\panel\\data.py:39: FutureWarning: \n",
      "Passing list-likes to .loc or [] with any missing label will raise\n",
      "KeyError in the future, you can use .reindex() as an alternative.\n",
      "\n",
      "See the documentation here:\n",
      "https://pandas.pydata.org/pandas-docs/stable/indexing.html#deprecate-loc-reindex-listlike\n",
      "  new_df = df.copy().loc[self._full_index]\n",
      "C:\\Program Files\\Anaconda3\\lib\\site-packages\\linearmodels\\utility.py:476: MissingValueWarning: \n",
      "Inputs contain missing values. Dropping rows with missing observations.\n",
      "  warnings.warn(missing_value_warning_msg, MissingValueWarning)\n"
     ]
    },
    {
     "name": "stdout",
     "output_type": "stream",
     "text": [
      "                          PanelOLS Estimation Summary                           \n",
      "================================================================================\n",
      "Dep. Variable:            UPT_ADJ_log   R-squared:                        0.6569\n",
      "Estimator:                   PanelOLS   R-squared (Between):              0.9732\n",
      "No. Observations:                4011   R-squared (Within):               0.6569\n",
      "Date:                Tue, Dec 17 2019   R-squared (Overall):              0.9743\n",
      "Time:                        15:42:34   Log-likelihood                    1209.6\n",
      "Cov. Estimator:            Unadjusted                                           \n",
      "                                        F-statistic:                      550.45\n",
      "Entities:                         261   P-value                           0.0000\n",
      "Avg Obs:                       15.368   Distribution:                 F(13,3737)\n",
      "Min Obs:                       3.0000                                           \n",
      "Max Obs:                       17.000   F-statistic (robust):             550.45\n",
      "                                        P-value                           0.0000\n",
      "Time periods:                      17   Distribution:                 F(13,3737)\n",
      "Avg Obs:                       235.94                                           \n",
      "Min Obs:                       167.00                                           \n",
      "Max Obs:                       261.00                                           \n",
      "                                                                                \n",
      "                                      Parameter Estimates                                       \n",
      "================================================================================================\n",
      "                              Parameter  Std. Err.     T-stat    P-value    Lower CI    Upper CI\n",
      "------------------------------------------------------------------------------------------------\n",
      "VRM_ADJ_BUS_log                  0.8898     0.0141     63.213     0.0000      0.8622      0.9174\n",
      "VRM_ADJ_RAIL_log                 0.5862     0.0258     22.723     0.0000      0.5356      0.6367\n",
      "FARE_per_UPT_2018_log           -0.5505     0.0212    -25.913     0.0000     -0.5922     -0.5089\n",
      "POP_EMP_log                      0.2980     0.0589     5.0594     0.0000      0.1825      0.4135\n",
      "GAS_PRICE_2018_log               0.2252     0.0271     8.3181     0.0000      0.1721      0.2783\n",
      "TOTAL_MED_INC_INDIV_2018_log    -0.3091     0.0551    -5.6049     0.0000     -0.4172     -0.2009\n",
      "PCT_HH_NO_VEH                    0.0102     0.0031     3.2571     0.0011      0.0041      0.0164\n",
      "TSD_POP_PCT                      0.0061     0.0016     3.9488     0.0001      0.0031      0.0092\n",
      "JTW_HOME_PCT                    -0.0135     0.0040    -3.3391     0.0008     -0.0214     -0.0056\n",
      "TNC_FLAG_BUS                    -0.0413     0.0102    -4.0561     0.0001     -0.0612     -0.0213\n",
      "TNC_FLAG_RAIL                    0.0397     0.0215     1.8512     0.0642     -0.0023      0.0818\n",
      "BIKE_SHARE                       0.0007     0.0124     0.0602     0.9520     -0.0235      0.0250\n",
      "scooter_flag                    -0.0416     0.0249    -1.6718     0.0946     -0.0904      0.0072\n",
      "================================================================================================\n",
      "\n",
      "F-test for Poolability: 71.431\n",
      "P-value: 0.0000\n",
      "Distribution: F(260,3737)\n",
      "\n",
      "Included effects: Entity\n"
     ]
    }
   ],
   "source": [
    "# flags\n",
    "\n",
    "mod=PanelOLS.from_formula('UPT_ADJ_log \\\n",
    "                    ~ VRM_ADJ_BUS_log \\\n",
    "                    + VRM_ADJ_RAIL_log \\\n",
    "                    + FARE_per_UPT_2018_log \\\n",
    "                    + POP_EMP_log \\\n",
    "                    + GAS_PRICE_2018_log \\\n",
    "                    + TOTAL_MED_INC_INDIV_2018_log \\\n",
    "                    + PCT_HH_NO_VEH \\\n",
    "                    + TSD_POP_PCT \\\n",
    "                    + JTW_HOME_PCT \\\n",
    "                    + TNC_FLAG_BUS \\\n",
    "                    + TNC_FLAG_RAIL \\\n",
    "                    + BIKE_SHARE \\\n",
    "                    + scooter_flag \\\n",
    "                    + EntityEffects \\\n",
    "                    ',data=df)\n",
    "res=mod.fit()\n",
    "print(res)\n"
   ]
  },
  {
   "cell_type": "code",
   "execution_count": 47,
   "metadata": {
    "collapsed": false
   },
   "outputs": [
    {
     "name": "stderr",
     "output_type": "stream",
     "text": [
      "C:\\Program Files\\Anaconda3\\lib\\site-packages\\linearmodels\\panel\\data.py:39: FutureWarning: \n",
      "Passing list-likes to .loc or [] with any missing label will raise\n",
      "KeyError in the future, you can use .reindex() as an alternative.\n",
      "\n",
      "See the documentation here:\n",
      "https://pandas.pydata.org/pandas-docs/stable/indexing.html#deprecate-loc-reindex-listlike\n",
      "  new_df = df.copy().loc[self._full_index]\n",
      "C:\\Program Files\\Anaconda3\\lib\\site-packages\\linearmodels\\utility.py:476: MissingValueWarning: \n",
      "Inputs contain missing values. Dropping rows with missing observations.\n",
      "  warnings.warn(missing_value_warning_msg, MissingValueWarning)\n"
     ]
    },
    {
     "name": "stdout",
     "output_type": "stream",
     "text": [
      "                          PanelOLS Estimation Summary                           \n",
      "================================================================================\n",
      "Dep. Variable:            UPT_ADJ_log   R-squared:                        0.6606\n",
      "Estimator:                   PanelOLS   R-squared (Between):              0.9766\n",
      "No. Observations:                4011   R-squared (Within):               0.6606\n",
      "Date:                Tue, Dec 17 2019   R-squared (Overall):              0.9776\n",
      "Time:                        15:42:34   Log-likelihood                    1231.3\n",
      "Cov. Estimator:            Unadjusted                                           \n",
      "                                        F-statistic:                      382.25\n",
      "Entities:                         261   P-value                           0.0000\n",
      "Avg Obs:                       15.368   Distribution:                 F(19,3731)\n",
      "Min Obs:                       3.0000                                           \n",
      "Max Obs:                       17.000   F-statistic (robust):             382.25\n",
      "                                        P-value                           0.0000\n",
      "Time periods:                      17   Distribution:                 F(19,3731)\n",
      "Avg Obs:                       235.94                                           \n",
      "Min Obs:                       167.00                                           \n",
      "Max Obs:                       261.00                                           \n",
      "                                                                                \n",
      "                                      Parameter Estimates                                       \n",
      "================================================================================================\n",
      "                              Parameter  Std. Err.     T-stat    P-value    Lower CI    Upper CI\n",
      "------------------------------------------------------------------------------------------------\n",
      "VRM_ADJ_BUS_log                  0.8867     0.0140     63.214     0.0000      0.8592      0.9142\n",
      "VRM_ADJ_RAIL_log                 0.5826     0.0259     22.474     0.0000      0.5318      0.6335\n",
      "FARE_per_UPT_2018_log           -0.5514     0.0212    -26.060     0.0000     -0.5929     -0.5099\n",
      "POP_EMP_log                      0.2847     0.0591     4.8183     0.0000      0.1688      0.4005\n",
      "GAS_PRICE_2018_log               0.2046     0.0280     7.3179     0.0000      0.1498      0.2594\n",
      "TOTAL_MED_INC_INDIV_2018_log    -0.2595     0.0557    -4.6568     0.0000     -0.3687     -0.1502\n",
      "PCT_HH_NO_VEH                    0.0099     0.0031     3.1611     0.0016      0.0038      0.0160\n",
      "TSD_POP_PCT                      0.0059     0.0016     3.8213     0.0001      0.0029      0.0090\n",
      "JTW_HOME_PCT                    -0.0119     0.0041    -2.9309     0.0034     -0.0199     -0.0039\n",
      "TNC_FLAG_BUS                    -0.0122     0.0137    -0.8890     0.3740     -0.0391      0.0147\n",
      "TNC_FLAG_BUS_LAGGED_1           -0.0365     0.0163    -2.2418     0.0250     -0.0684     -0.0046\n",
      "TNC_FLAG_BUS_LAGGED_2           -0.0064     0.0129    -0.4976     0.6188     -0.0316      0.0188\n",
      "TNC_FLAG_BUS_LAGGED_3           -0.0384     0.0108    -3.5468     0.0004     -0.0597     -0.0172\n",
      "TNC_FLAG_RAIL                   -0.0207     0.0346    -0.5969     0.5506     -0.0886      0.0472\n",
      "TNC_FLAG_RAIL_LAGGED_1           0.0454     0.0403     1.1257     0.2604     -0.0337      0.1245\n",
      "TNC_FLAG_RAIL_LAGGED_2           0.0275     0.0329     0.8368     0.4027     -0.0370      0.0920\n",
      "TNC_FLAG_RAIL_LAGGED_3          -0.0041     0.0260    -0.1580     0.8745     -0.0551      0.0469\n",
      "BIKE_SHARE                       0.0141     0.0128     1.1081     0.2679     -0.0109      0.0392\n",
      "scooter_flag                    -0.0294     0.0251    -1.1732     0.2408     -0.0786      0.0198\n",
      "================================================================================================\n",
      "\n",
      "F-test for Poolability: 72.096\n",
      "P-value: 0.0000\n",
      "Distribution: F(260,3731)\n",
      "\n",
      "Included effects: Entity\n"
     ]
    }
   ],
   "source": [
    "# LAGGED TNC EFFECT\n",
    "\n",
    "mod=PanelOLS.from_formula('UPT_ADJ_log \\\n",
    "                    ~ VRM_ADJ_BUS_log \\\n",
    "                    + VRM_ADJ_RAIL_log \\\n",
    "                    + FARE_per_UPT_2018_log \\\n",
    "                    + POP_EMP_log \\\n",
    "                    + GAS_PRICE_2018_log \\\n",
    "                    + TOTAL_MED_INC_INDIV_2018_log \\\n",
    "                    + PCT_HH_NO_VEH \\\n",
    "                    + TSD_POP_PCT \\\n",
    "                    + JTW_HOME_PCT \\\n",
    "                    + TNC_FLAG_BUS \\\n",
    "                    + TNC_FLAG_BUS_LAGGED_1 \\\n",
    "                    + TNC_FLAG_BUS_LAGGED_2 \\\n",
    "                    + TNC_FLAG_BUS_LAGGED_3 \\\n",
    "                    + TNC_FLAG_RAIL \\\n",
    "                    + TNC_FLAG_RAIL_LAGGED_1 \\\n",
    "                    + TNC_FLAG_RAIL_LAGGED_2 \\\n",
    "                    + TNC_FLAG_RAIL_LAGGED_3 \\\n",
    "                    + BIKE_SHARE \\\n",
    "                    + scooter_flag \\\n",
    "                    + EntityEffects \\\n",
    "                    ',data=df)\n",
    "res=mod.fit()\n",
    "print(res)\n"
   ]
  },
  {
   "cell_type": "code",
   "execution_count": 48,
   "metadata": {
    "collapsed": true
   },
   "outputs": [],
   "source": [
    "# Test TNC ramp up\n",
    "\n",
    "df['YEARS_SINCE_TNC_BUS_2'] = df['YEARS_SINCE_TNC_BUS'].apply(lambda x : min(x, 2))\n",
    "df['YEARS_SINCE_TNC_BUS_3'] = df['YEARS_SINCE_TNC_BUS'].apply(lambda x : min(x, 3))\n",
    "df['YEARS_SINCE_TNC_BUS_4'] = df['YEARS_SINCE_TNC_BUS'].apply(lambda x : min(x, 4))\n",
    "df['YEARS_SINCE_TNC_BUS_5'] = df['YEARS_SINCE_TNC_BUS'].apply(lambda x : min(x, 5))\n",
    "\n",
    "df['YEARS_SINCE_TNC_RAIL_2'] = df['YEARS_SINCE_TNC_RAIL'].apply(lambda x : min(x, 2))\n",
    "df['YEARS_SINCE_TNC_RAIL_3'] = df['YEARS_SINCE_TNC_RAIL'].apply(lambda x : min(x, 3))\n",
    "df['YEARS_SINCE_TNC_RAIL_4'] = df['YEARS_SINCE_TNC_RAIL'].apply(lambda x : min(x, 4))\n",
    "df['YEARS_SINCE_TNC_RAIL_5'] = df['YEARS_SINCE_TNC_RAIL'].apply(lambda x : min(x, 5))"
   ]
  },
  {
   "cell_type": "code",
   "execution_count": 49,
   "metadata": {
    "collapsed": false
   },
   "outputs": [
    {
     "name": "stderr",
     "output_type": "stream",
     "text": [
      "C:\\Program Files\\Anaconda3\\lib\\site-packages\\linearmodels\\panel\\data.py:39: FutureWarning: \n",
      "Passing list-likes to .loc or [] with any missing label will raise\n",
      "KeyError in the future, you can use .reindex() as an alternative.\n",
      "\n",
      "See the documentation here:\n",
      "https://pandas.pydata.org/pandas-docs/stable/indexing.html#deprecate-loc-reindex-listlike\n",
      "  new_df = df.copy().loc[self._full_index]\n",
      "C:\\Program Files\\Anaconda3\\lib\\site-packages\\linearmodels\\utility.py:476: MissingValueWarning: \n",
      "Inputs contain missing values. Dropping rows with missing observations.\n",
      "  warnings.warn(missing_value_warning_msg, MissingValueWarning)\n"
     ]
    },
    {
     "name": "stdout",
     "output_type": "stream",
     "text": [
      "                          PanelOLS Estimation Summary                           \n",
      "================================================================================\n",
      "Dep. Variable:            UPT_ADJ_log   R-squared:                        0.6599\n",
      "Estimator:                   PanelOLS   R-squared (Between):              0.9775\n",
      "No. Observations:                4011   R-squared (Within):               0.6599\n",
      "Date:                Tue, Dec 17 2019   R-squared (Overall):              0.9785\n",
      "Time:                        15:42:39   Log-likelihood                    1227.1\n",
      "Cov. Estimator:            Unadjusted                                           \n",
      "                                        F-statistic:                      557.79\n",
      "Entities:                         261   P-value                           0.0000\n",
      "Avg Obs:                       15.368   Distribution:                 F(13,3737)\n",
      "Min Obs:                       3.0000                                           \n",
      "Max Obs:                       17.000   F-statistic (robust):             557.79\n",
      "                                        P-value                           0.0000\n",
      "Time periods:                      17   Distribution:                 F(13,3737)\n",
      "Avg Obs:                       235.94                                           \n",
      "Min Obs:                       167.00                                           \n",
      "Max Obs:                       261.00                                           \n",
      "                                                                                \n",
      "                                      Parameter Estimates                                       \n",
      "================================================================================================\n",
      "                              Parameter  Std. Err.     T-stat    P-value    Lower CI    Upper CI\n",
      "------------------------------------------------------------------------------------------------\n",
      "VRM_ADJ_BUS_log                  0.8893     0.0140     63.508     0.0000      0.8618      0.9168\n",
      "VRM_ADJ_RAIL_log                 0.5707     0.0252     22.684     0.0000      0.5213      0.6200\n",
      "FARE_per_UPT_2018_log           -0.5519     0.0211    -26.119     0.0000     -0.5933     -0.5105\n",
      "POP_EMP_log                      0.3159     0.0581     5.4368     0.0000      0.2020      0.4298\n",
      "GAS_PRICE_2018_log               0.2129     0.0268     7.9553     0.0000      0.1605      0.2654\n",
      "TOTAL_MED_INC_INDIV_2018_log    -0.2894     0.0545    -5.3088     0.0000     -0.3963     -0.1825\n",
      "PCT_HH_NO_VEH                    0.0102     0.0031     3.2652     0.0011      0.0041      0.0164\n",
      "TSD_POP_PCT                      0.0058     0.0015     3.7564     0.0002      0.0028      0.0088\n",
      "JTW_HOME_PCT                    -0.0107     0.0041    -2.6379     0.0084     -0.0187     -0.0028\n",
      "YEARS_SINCE_TNC_BUS_2           -0.0398     0.0065    -6.1228     0.0000     -0.0525     -0.0271\n",
      "YEARS_SINCE_TNC_RAIL_2           0.0284     0.0119     2.3928     0.0168      0.0051      0.0517\n",
      "BIKE_SHARE                       0.0108     0.0127     0.8524     0.3940     -0.0141      0.0358\n",
      "scooter_flag                    -0.0366     0.0249    -1.4706     0.1415     -0.0854      0.0122\n",
      "================================================================================================\n",
      "\n",
      "F-test for Poolability: 72.060\n",
      "P-value: 0.0000\n",
      "Distribution: F(260,3737)\n",
      "\n",
      "Included effects: Entity\n"
     ]
    }
   ],
   "source": [
    "# TNC RAMP UP\n",
    "\n",
    "\n",
    "mod=PanelOLS.from_formula('UPT_ADJ_log \\\n",
    "                    ~ VRM_ADJ_BUS_log \\\n",
    "                    + VRM_ADJ_RAIL_log \\\n",
    "                    + FARE_per_UPT_2018_log \\\n",
    "                    + POP_EMP_log \\\n",
    "                    + GAS_PRICE_2018_log \\\n",
    "                    + TOTAL_MED_INC_INDIV_2018_log \\\n",
    "                    + PCT_HH_NO_VEH \\\n",
    "                    + TSD_POP_PCT \\\n",
    "                    + JTW_HOME_PCT \\\n",
    "                    + YEARS_SINCE_TNC_BUS_2 \\\n",
    "                    + YEARS_SINCE_TNC_RAIL_2 \\\n",
    "                    + BIKE_SHARE \\\n",
    "                    + scooter_flag \\\n",
    "                    + EntityEffects \\\n",
    "                    ',data=df)\n",
    "res=mod.fit()\n",
    "print(res)\n",
    "\n"
   ]
  },
  {
   "cell_type": "code",
   "execution_count": 50,
   "metadata": {
    "collapsed": false
   },
   "outputs": [
    {
     "name": "stderr",
     "output_type": "stream",
     "text": [
      "C:\\Program Files\\Anaconda3\\lib\\site-packages\\linearmodels\\panel\\data.py:39: FutureWarning: \n",
      "Passing list-likes to .loc or [] with any missing label will raise\n",
      "KeyError in the future, you can use .reindex() as an alternative.\n",
      "\n",
      "See the documentation here:\n",
      "https://pandas.pydata.org/pandas-docs/stable/indexing.html#deprecate-loc-reindex-listlike\n",
      "  new_df = df.copy().loc[self._full_index]\n",
      "C:\\Program Files\\Anaconda3\\lib\\site-packages\\linearmodels\\utility.py:476: MissingValueWarning: \n",
      "Inputs contain missing values. Dropping rows with missing observations.\n",
      "  warnings.warn(missing_value_warning_msg, MissingValueWarning)\n"
     ]
    },
    {
     "name": "stdout",
     "output_type": "stream",
     "text": [
      "                          PanelOLS Estimation Summary                           \n",
      "================================================================================\n",
      "Dep. Variable:            UPT_ADJ_log   R-squared:                        0.6611\n",
      "Estimator:                   PanelOLS   R-squared (Between):              0.9786\n",
      "No. Observations:                4011   R-squared (Within):               0.6611\n",
      "Date:                Tue, Dec 17 2019   R-squared (Overall):              0.9795\n",
      "Time:                        15:42:39   Log-likelihood                    1234.1\n",
      "Cov. Estimator:            Unadjusted                                           \n",
      "                                        F-statistic:                      560.75\n",
      "Entities:                         261   P-value                           0.0000\n",
      "Avg Obs:                       15.368   Distribution:                 F(13,3737)\n",
      "Min Obs:                       3.0000                                           \n",
      "Max Obs:                       17.000   F-statistic (robust):             560.75\n",
      "                                        P-value                           0.0000\n",
      "Time periods:                      17   Distribution:                 F(13,3737)\n",
      "Avg Obs:                       235.94                                           \n",
      "Min Obs:                       167.00                                           \n",
      "Max Obs:                       261.00                                           \n",
      "                                                                                \n",
      "                                      Parameter Estimates                                       \n",
      "================================================================================================\n",
      "                              Parameter  Std. Err.     T-stat    P-value    Lower CI    Upper CI\n",
      "------------------------------------------------------------------------------------------------\n",
      "VRM_ADJ_BUS_log                  0.8889     0.0140     63.592     0.0000      0.8615      0.9163\n",
      "VRM_ADJ_RAIL_log                 0.5679     0.0250     22.728     0.0000      0.5189      0.6169\n",
      "FARE_per_UPT_2018_log           -0.5531     0.0211    -26.225     0.0000     -0.5944     -0.5117\n",
      "POP_EMP_log                      0.3203     0.0578     5.5437     0.0000      0.2070      0.4336\n",
      "GAS_PRICE_2018_log               0.2130     0.0263     8.1124     0.0000      0.1615      0.2645\n",
      "TOTAL_MED_INC_INDIV_2018_log    -0.2837     0.0544    -5.2153     0.0000     -0.3904     -0.1771\n",
      "PCT_HH_NO_VEH                    0.0099     0.0031     3.1588     0.0016      0.0037      0.0160\n",
      "TSD_POP_PCT                      0.0057     0.0015     3.7216     0.0002      0.0027      0.0087\n",
      "JTW_HOME_PCT                    -0.0100     0.0041    -2.4566     0.0141     -0.0179     -0.0020\n",
      "YEARS_SINCE_TNC_BUS_3           -0.0346     0.0050    -6.9440     0.0000     -0.0444     -0.0248\n",
      "YEARS_SINCE_TNC_RAIL_3           0.0191     0.0086     2.2299     0.0258      0.0023      0.0358\n",
      "BIKE_SHARE                       0.0177     0.0129     1.3718     0.1702     -0.0076      0.0431\n",
      "scooter_flag                    -0.0293     0.0250    -1.1689     0.2425     -0.0783      0.0198\n",
      "================================================================================================\n",
      "\n",
      "F-test for Poolability: 72.356\n",
      "P-value: 0.0000\n",
      "Distribution: F(260,3737)\n",
      "\n",
      "Included effects: Entity\n"
     ]
    }
   ],
   "source": [
    "# TNC RAMP UP\n",
    "\n",
    "\n",
    "mod=PanelOLS.from_formula('UPT_ADJ_log \\\n",
    "                    ~ VRM_ADJ_BUS_log \\\n",
    "                    + VRM_ADJ_RAIL_log \\\n",
    "                    + FARE_per_UPT_2018_log \\\n",
    "                    + POP_EMP_log \\\n",
    "                    + GAS_PRICE_2018_log \\\n",
    "                    + TOTAL_MED_INC_INDIV_2018_log \\\n",
    "                    + PCT_HH_NO_VEH \\\n",
    "                    + TSD_POP_PCT \\\n",
    "                    + JTW_HOME_PCT \\\n",
    "                    + YEARS_SINCE_TNC_BUS_3 \\\n",
    "                    + YEARS_SINCE_TNC_RAIL_3 \\\n",
    "                    + BIKE_SHARE \\\n",
    "                    + scooter_flag \\\n",
    "                    + EntityEffects \\\n",
    "                    ',data=df)\n",
    "res=mod.fit()\n",
    "print(res)\n",
    "\n"
   ]
  },
  {
   "cell_type": "code",
   "execution_count": 51,
   "metadata": {
    "collapsed": false
   },
   "outputs": [
    {
     "name": "stderr",
     "output_type": "stream",
     "text": [
      "C:\\Program Files\\Anaconda3\\lib\\site-packages\\linearmodels\\panel\\data.py:39: FutureWarning: \n",
      "Passing list-likes to .loc or [] with any missing label will raise\n",
      "KeyError in the future, you can use .reindex() as an alternative.\n",
      "\n",
      "See the documentation here:\n",
      "https://pandas.pydata.org/pandas-docs/stable/indexing.html#deprecate-loc-reindex-listlike\n",
      "  new_df = df.copy().loc[self._full_index]\n",
      "C:\\Program Files\\Anaconda3\\lib\\site-packages\\linearmodels\\utility.py:476: MissingValueWarning: \n",
      "Inputs contain missing values. Dropping rows with missing observations.\n",
      "  warnings.warn(missing_value_warning_msg, MissingValueWarning)\n"
     ]
    },
    {
     "name": "stdout",
     "output_type": "stream",
     "text": [
      "                          PanelOLS Estimation Summary                           \n",
      "================================================================================\n",
      "Dep. Variable:            UPT_ADJ_log   R-squared:                        0.6618\n",
      "Estimator:                   PanelOLS   R-squared (Between):              0.9788\n",
      "No. Observations:                4011   R-squared (Within):               0.6618\n",
      "Date:                Tue, Dec 17 2019   R-squared (Overall):              0.9798\n",
      "Time:                        15:42:40   Log-likelihood                    1238.3\n",
      "Cov. Estimator:            Unadjusted                                           \n",
      "                                        F-statistic:                      562.51\n",
      "Entities:                         261   P-value                           0.0000\n",
      "Avg Obs:                       15.368   Distribution:                 F(13,3737)\n",
      "Min Obs:                       3.0000                                           \n",
      "Max Obs:                       17.000   F-statistic (robust):             562.51\n",
      "                                        P-value                           0.0000\n",
      "Time periods:                      17   Distribution:                 F(13,3737)\n",
      "Avg Obs:                       235.94                                           \n",
      "Min Obs:                       167.00                                           \n",
      "Max Obs:                       261.00                                           \n",
      "                                                                                \n",
      "                                      Parameter Estimates                                       \n",
      "================================================================================================\n",
      "                              Parameter  Std. Err.     T-stat    P-value    Lower CI    Upper CI\n",
      "------------------------------------------------------------------------------------------------\n",
      "VRM_ADJ_BUS_log                  0.8886     0.0140     63.636     0.0000      0.8612      0.9159\n",
      "VRM_ADJ_RAIL_log                 0.5660     0.0248     22.788     0.0000      0.5173      0.6147\n",
      "FARE_per_UPT_2018_log           -0.5540     0.0211    -26.296     0.0000     -0.5953     -0.5126\n",
      "POP_EMP_log                      0.3202     0.0576     5.5610     0.0000      0.2073      0.4331\n",
      "GAS_PRICE_2018_log               0.2156     0.0259     8.3179     0.0000      0.1648      0.2664\n",
      "TOTAL_MED_INC_INDIV_2018_log    -0.2797     0.0543    -5.1455     0.0000     -0.3862     -0.1731\n",
      "PCT_HH_NO_VEH                    0.0097     0.0031     3.0888     0.0020      0.0035      0.0158\n",
      "TSD_POP_PCT                      0.0057     0.0015     3.7211     0.0002      0.0027      0.0087\n",
      "JTW_HOME_PCT                    -0.0097     0.0041    -2.4023     0.0163     -0.0177     -0.0018\n",
      "YEARS_SINCE_TNC_BUS_4           -0.0323     0.0044    -7.3369     0.0000     -0.0409     -0.0237\n",
      "YEARS_SINCE_TNC_RAIL_4           0.0153     0.0070     2.1770     0.0295      0.0015      0.0292\n",
      "BIKE_SHARE                       0.0215     0.0130     1.6532     0.0984     -0.0040      0.0470\n",
      "scooter_flag                    -0.0185     0.0254    -0.7271     0.4672     -0.0683      0.0314\n",
      "================================================================================================\n",
      "\n",
      "F-test for Poolability: 72.499\n",
      "P-value: 0.0000\n",
      "Distribution: F(260,3737)\n",
      "\n",
      "Included effects: Entity\n"
     ]
    }
   ],
   "source": [
    "# TNC RAMP UP\n",
    "\n",
    "\n",
    "mod=PanelOLS.from_formula('UPT_ADJ_log \\\n",
    "                    ~ VRM_ADJ_BUS_log \\\n",
    "                    + VRM_ADJ_RAIL_log \\\n",
    "                    + FARE_per_UPT_2018_log \\\n",
    "                    + POP_EMP_log \\\n",
    "                    + GAS_PRICE_2018_log \\\n",
    "                    + TOTAL_MED_INC_INDIV_2018_log \\\n",
    "                    + PCT_HH_NO_VEH \\\n",
    "                    + TSD_POP_PCT \\\n",
    "                    + JTW_HOME_PCT \\\n",
    "                    + YEARS_SINCE_TNC_BUS_4 \\\n",
    "                    + YEARS_SINCE_TNC_RAIL_4 \\\n",
    "                    + BIKE_SHARE \\\n",
    "                    + scooter_flag \\\n",
    "                    + EntityEffects \\\n",
    "                    ',data=df)\n",
    "res=mod.fit()\n",
    "print(res)\n",
    "\n"
   ]
  },
  {
   "cell_type": "code",
   "execution_count": 52,
   "metadata": {
    "collapsed": false
   },
   "outputs": [
    {
     "name": "stderr",
     "output_type": "stream",
     "text": [
      "C:\\Program Files\\Anaconda3\\lib\\site-packages\\linearmodels\\panel\\data.py:39: FutureWarning: \n",
      "Passing list-likes to .loc or [] with any missing label will raise\n",
      "KeyError in the future, you can use .reindex() as an alternative.\n",
      "\n",
      "See the documentation here:\n",
      "https://pandas.pydata.org/pandas-docs/stable/indexing.html#deprecate-loc-reindex-listlike\n",
      "  new_df = df.copy().loc[self._full_index]\n",
      "C:\\Program Files\\Anaconda3\\lib\\site-packages\\linearmodels\\utility.py:476: MissingValueWarning: \n",
      "Inputs contain missing values. Dropping rows with missing observations.\n",
      "  warnings.warn(missing_value_warning_msg, MissingValueWarning)\n"
     ]
    },
    {
     "name": "stdout",
     "output_type": "stream",
     "text": [
      "                          PanelOLS Estimation Summary                           \n",
      "================================================================================\n",
      "Dep. Variable:            UPT_ADJ_log   R-squared:                        0.6618\n",
      "Estimator:                   PanelOLS   R-squared (Between):              0.9781\n",
      "No. Observations:                4011   R-squared (Within):               0.6618\n",
      "Date:                Tue, Dec 17 2019   R-squared (Overall):              0.9791\n",
      "Time:                        15:42:41   Log-likelihood                    1238.5\n",
      "Cov. Estimator:            Unadjusted                                           \n",
      "                                        F-statistic:                      562.63\n",
      "Entities:                         261   P-value                           0.0000\n",
      "Avg Obs:                       15.368   Distribution:                 F(13,3737)\n",
      "Min Obs:                       3.0000                                           \n",
      "Max Obs:                       17.000   F-statistic (robust):             562.63\n",
      "                                        P-value                           0.0000\n",
      "Time periods:                      17   Distribution:                 F(13,3737)\n",
      "Avg Obs:                       235.94                                           \n",
      "Min Obs:                       167.00                                           \n",
      "Max Obs:                       261.00                                           \n",
      "                                                                                \n",
      "                                      Parameter Estimates                                       \n",
      "================================================================================================\n",
      "                              Parameter  Std. Err.     T-stat    P-value    Lower CI    Upper CI\n",
      "------------------------------------------------------------------------------------------------\n",
      "VRM_ADJ_BUS_log                  0.8885     0.0140     63.636     0.0000      0.8611      0.9159\n",
      "VRM_ADJ_RAIL_log                 0.5646     0.0247     22.812     0.0000      0.5160      0.6131\n",
      "FARE_per_UPT_2018_log           -0.5539     0.0211    -26.295     0.0000     -0.5952     -0.5126\n",
      "POP_EMP_log                      0.3164     0.0575     5.4995     0.0000      0.2036      0.4292\n",
      "GAS_PRICE_2018_log               0.2179     0.0259     8.4231     0.0000      0.1672      0.2686\n",
      "TOTAL_MED_INC_INDIV_2018_log    -0.2796     0.0543    -5.1440     0.0000     -0.3861     -0.1730\n",
      "PCT_HH_NO_VEH                    0.0097     0.0031     3.1057     0.0019      0.0036      0.0158\n",
      "TSD_POP_PCT                      0.0057     0.0015     3.7144     0.0002      0.0027      0.0087\n",
      "JTW_HOME_PCT                    -0.0100     0.0040    -2.4750     0.0134     -0.0180     -0.0021\n",
      "YEARS_SINCE_TNC_BUS_5           -0.0308     0.0043    -7.1900     0.0000     -0.0392     -0.0224\n",
      "YEARS_SINCE_TNC_RAIL_5           0.0151     0.0064     2.3698     0.0178      0.0026      0.0276\n",
      "BIKE_SHARE                       0.0209     0.0130     1.6053     0.1085     -0.0046      0.0464\n",
      "scooter_flag                    -0.0151     0.0258    -0.5856     0.5582     -0.0657      0.0355\n",
      "================================================================================================\n",
      "\n",
      "F-test for Poolability: 72.510\n",
      "P-value: 0.0000\n",
      "Distribution: F(260,3737)\n",
      "\n",
      "Included effects: Entity\n"
     ]
    }
   ],
   "source": [
    "# TNC RAMP UP\n",
    "# this is about the same as years since TNC\n",
    "\n",
    "mod=PanelOLS.from_formula('UPT_ADJ_log \\\n",
    "                    ~ VRM_ADJ_BUS_log \\\n",
    "                    + VRM_ADJ_RAIL_log \\\n",
    "                    + FARE_per_UPT_2018_log \\\n",
    "                    + POP_EMP_log \\\n",
    "                    + GAS_PRICE_2018_log \\\n",
    "                    + TOTAL_MED_INC_INDIV_2018_log \\\n",
    "                    + PCT_HH_NO_VEH \\\n",
    "                    + TSD_POP_PCT \\\n",
    "                    + JTW_HOME_PCT \\\n",
    "                    + YEARS_SINCE_TNC_BUS_5 \\\n",
    "                    + YEARS_SINCE_TNC_RAIL_5 \\\n",
    "                    + BIKE_SHARE \\\n",
    "                    + scooter_flag \\\n",
    "                    + EntityEffects \\\n",
    "                    ',data=df)\n",
    "res=mod.fit()\n",
    "print(res)\n",
    "\n"
   ]
  },
  {
   "cell_type": "code",
   "execution_count": 53,
   "metadata": {
    "collapsed": false
   },
   "outputs": [
    {
     "name": "stderr",
     "output_type": "stream",
     "text": [
      "C:\\Program Files\\Anaconda3\\lib\\site-packages\\linearmodels\\panel\\data.py:39: FutureWarning: \n",
      "Passing list-likes to .loc or [] with any missing label will raise\n",
      "KeyError in the future, you can use .reindex() as an alternative.\n",
      "\n",
      "See the documentation here:\n",
      "https://pandas.pydata.org/pandas-docs/stable/indexing.html#deprecate-loc-reindex-listlike\n",
      "  new_df = df.copy().loc[self._full_index]\n",
      "C:\\Program Files\\Anaconda3\\lib\\site-packages\\linearmodels\\utility.py:476: MissingValueWarning: \n",
      "Inputs contain missing values. Dropping rows with missing observations.\n",
      "  warnings.warn(missing_value_warning_msg, MissingValueWarning)\n"
     ]
    },
    {
     "name": "stdout",
     "output_type": "stream",
     "text": [
      "                          PanelOLS Estimation Summary                           \n",
      "================================================================================\n",
      "Dep. Variable:            UPT_ADJ_log   R-squared:                        0.6602\n",
      "Estimator:                   PanelOLS   R-squared (Between):              0.9828\n",
      "No. Observations:                4011   R-squared (Within):               0.6602\n",
      "Date:                Tue, Dec 17 2019   R-squared (Overall):              0.9836\n",
      "Time:                        15:42:43   Log-likelihood                    1228.9\n",
      "Cov. Estimator:            Unadjusted                                           \n",
      "                                        F-statistic:                      558.57\n",
      "Entities:                         261   P-value                           0.0000\n",
      "Avg Obs:                       15.368   Distribution:                 F(13,3737)\n",
      "Min Obs:                       3.0000                                           \n",
      "Max Obs:                       17.000   F-statistic (robust):             558.57\n",
      "                                        P-value                           0.0000\n",
      "Time periods:                      17   Distribution:                 F(13,3737)\n",
      "Avg Obs:                       235.94                                           \n",
      "Min Obs:                       167.00                                           \n",
      "Max Obs:                       261.00                                           \n",
      "                                                                                \n",
      "                                      Parameter Estimates                                       \n",
      "================================================================================================\n",
      "                              Parameter  Std. Err.     T-stat    P-value    Lower CI    Upper CI\n",
      "------------------------------------------------------------------------------------------------\n",
      "VRM_ADJ_BUS_log                  0.8927     0.0140     63.700     0.0000      0.8652      0.9202\n",
      "VRM_ADJ_RAIL_log                 0.5829     0.0254     22.968     0.0000      0.5332      0.6327\n",
      "FARE_per_UPT_2018_log           -0.5511     0.0211    -26.096     0.0000     -0.5925     -0.5097\n",
      "POP_EMP_log                      0.3490     0.0589     5.9226     0.0000      0.2335      0.4645\n",
      "GAS_PRICE_2018_log               0.1883     0.0275     6.8553     0.0000      0.1345      0.2422\n",
      "TOTAL_MED_INC_INDIV_2018_log    -0.2941     0.0545    -5.3986     0.0000     -0.4008     -0.1873\n",
      "PCT_HH_NO_VEH                    0.0098     0.0031     3.1380     0.0017      0.0037      0.0160\n",
      "TSD_POP_PCT                      0.0056     0.0015     3.6562     0.0003      0.0026      0.0086\n",
      "JTW_HOME_PCT                    -0.0081     0.0041    -1.9496     0.0513     -0.0162   4.538e-05\n",
      "TNC_YEARS_AFTER_2012_BUS        -0.0173     0.0025    -7.0387     0.0000     -0.0221     -0.0125\n",
      "TNC_YEARS_AFTER_2012_RAIL        0.0035     0.0054     0.6446     0.5192     -0.0071      0.0141\n",
      "BIKE_SHARE                       0.0153     0.0126     1.2121     0.2256     -0.0094      0.0399\n",
      "scooter_flag                    -0.0258     0.0255    -1.0134     0.3109     -0.0758      0.0241\n",
      "================================================================================================\n",
      "\n",
      "F-test for Poolability: 71.709\n",
      "P-value: 0.0000\n",
      "Distribution: F(260,3737)\n",
      "\n",
      "Included effects: Entity\n"
     ]
    }
   ],
   "source": [
    "# TNC years since 2012\n",
    "\n",
    "mod=PanelOLS.from_formula('UPT_ADJ_log \\\n",
    "                    ~ VRM_ADJ_BUS_log \\\n",
    "                    + VRM_ADJ_RAIL_log \\\n",
    "                    + FARE_per_UPT_2018_log \\\n",
    "                    + POP_EMP_log \\\n",
    "                    + GAS_PRICE_2018_log \\\n",
    "                    + TOTAL_MED_INC_INDIV_2018_log \\\n",
    "                    + PCT_HH_NO_VEH \\\n",
    "                    + TSD_POP_PCT \\\n",
    "                    + JTW_HOME_PCT \\\n",
    "                    + TNC_YEARS_AFTER_2012_BUS \\\n",
    "                    + TNC_YEARS_AFTER_2012_RAIL \\\n",
    "                    + BIKE_SHARE \\\n",
    "                    + scooter_flag \\\n",
    "                    + EntityEffects \\\n",
    "                    ',data=df)\n",
    "res=mod.fit()\n",
    "print(res)\n"
   ]
  },
  {
   "cell_type": "code",
   "execution_count": 54,
   "metadata": {
    "collapsed": false
   },
   "outputs": [
    {
     "name": "stderr",
     "output_type": "stream",
     "text": [
      "C:\\Program Files\\Anaconda3\\lib\\site-packages\\linearmodels\\panel\\data.py:39: FutureWarning: \n",
      "Passing list-likes to .loc or [] with any missing label will raise\n",
      "KeyError in the future, you can use .reindex() as an alternative.\n",
      "\n",
      "See the documentation here:\n",
      "https://pandas.pydata.org/pandas-docs/stable/indexing.html#deprecate-loc-reindex-listlike\n",
      "  new_df = df.copy().loc[self._full_index]\n",
      "C:\\Program Files\\Anaconda3\\lib\\site-packages\\linearmodels\\utility.py:476: MissingValueWarning: \n",
      "Inputs contain missing values. Dropping rows with missing observations.\n",
      "  warnings.warn(missing_value_warning_msg, MissingValueWarning)\n"
     ]
    },
    {
     "name": "stdout",
     "output_type": "stream",
     "text": [
      "                          PanelOLS Estimation Summary                           \n",
      "================================================================================\n",
      "Dep. Variable:            UPT_ADJ_log   R-squared:                        0.6638\n",
      "Estimator:                   PanelOLS   R-squared (Between):              0.9845\n",
      "No. Observations:                4011   R-squared (Within):               0.6638\n",
      "Date:                Tue, Dec 17 2019   R-squared (Overall):              0.9852\n",
      "Time:                        15:42:45   Log-likelihood                    1250.5\n",
      "Cov. Estimator:            Unadjusted                                           \n",
      "                                        F-statistic:                      491.74\n",
      "Entities:                         261   P-value                           0.0000\n",
      "Avg Obs:                       15.368   Distribution:                 F(15,3735)\n",
      "Min Obs:                       3.0000                                           \n",
      "Max Obs:                       17.000   F-statistic (robust):             491.74\n",
      "                                        P-value                           0.0000\n",
      "Time periods:                      17   Distribution:                 F(15,3735)\n",
      "Avg Obs:                       235.94                                           \n",
      "Min Obs:                       167.00                                           \n",
      "Max Obs:                       261.00                                           \n",
      "                                                                                \n",
      "                                      Parameter Estimates                                       \n",
      "================================================================================================\n",
      "                              Parameter  Std. Err.     T-stat    P-value    Lower CI    Upper CI\n",
      "------------------------------------------------------------------------------------------------\n",
      "VRM_ADJ_BUS_log                  0.8911     0.0140     63.815     0.0000      0.8637      0.9184\n",
      "VRM_ADJ_RAIL_log                 0.5920     0.0254     23.351     0.0000      0.5423      0.6418\n",
      "FARE_per_UPT_2018_log           -0.5512     0.0210    -26.234     0.0000     -0.5924     -0.5100\n",
      "POP_EMP_log                      0.3514     0.0586     5.9933     0.0000      0.2364      0.4663\n",
      "GAS_PRICE_2018_log               0.1892     0.0273     6.9210     0.0000      0.1356      0.2428\n",
      "TOTAL_MED_INC_INDIV_2018_log    -0.2870     0.0543    -5.2888     0.0000     -0.3934     -0.1806\n",
      "PCT_HH_NO_VEH                    0.0092     0.0031     2.9576     0.0031      0.0031      0.0153\n",
      "TSD_POP_PCT                      0.0060     0.0015     3.8863     0.0001      0.0030      0.0090\n",
      "JTW_HOME_PCT                    -0.0071     0.0041    -1.7265     0.0843     -0.0152      0.0010\n",
      "TNC_YEARS_AFTER_2012_BUS        -0.0081     0.0034    -2.4120     0.0159     -0.0147     -0.0015\n",
      "TNC_YEARS_AFTER_2012_RAIL       -0.0548     0.0123    -4.4464     0.0000     -0.0789     -0.0306\n",
      "YEARS_SINCE_TNC_BUS             -0.0216     0.0057    -3.7573     0.0002     -0.0328     -0.0103\n",
      "YEARS_SINCE_TNC_RAIL             0.0655     0.0133     4.9370     0.0000      0.0395      0.0916\n",
      "BIKE_SHARE                       0.0271     0.0130     2.0820     0.0374      0.0016      0.0526\n",
      "scooter_flag                    -0.0142     0.0263    -0.5403     0.5890     -0.0658      0.0374\n",
      "================================================================================================\n",
      "\n",
      "F-test for Poolability: 72.430\n",
      "P-value: 0.0000\n",
      "Distribution: F(260,3735)\n",
      "\n",
      "Included effects: Entity\n"
     ]
    }
   ],
   "source": [
    "# BOTH\n",
    "\n",
    "mod=PanelOLS.from_formula('UPT_ADJ_log \\\n",
    "                    ~ VRM_ADJ_BUS_log \\\n",
    "                    + VRM_ADJ_RAIL_log \\\n",
    "                    + FARE_per_UPT_2018_log \\\n",
    "                    + POP_EMP_log \\\n",
    "                    + GAS_PRICE_2018_log \\\n",
    "                    + TOTAL_MED_INC_INDIV_2018_log \\\n",
    "                    + PCT_HH_NO_VEH \\\n",
    "                    + TSD_POP_PCT \\\n",
    "                    + JTW_HOME_PCT \\\n",
    "                    + TNC_YEARS_AFTER_2012_BUS \\\n",
    "                    + TNC_YEARS_AFTER_2012_RAIL \\\n",
    "                    + YEARS_SINCE_TNC_BUS \\\n",
    "                    + YEARS_SINCE_TNC_RAIL \\\n",
    "                    + BIKE_SHARE \\\n",
    "                    + scooter_flag \\\n",
    "                    + EntityEffects \\\n",
    "                    ',data=df)\n",
    "res=mod.fit()\n",
    "print(res)\n"
   ]
  },
  {
   "cell_type": "code",
   "execution_count": null,
   "metadata": {
    "collapsed": true
   },
   "outputs": [],
   "source": []
  },
  {
   "cell_type": "code",
   "execution_count": 55,
   "metadata": {
    "collapsed": false
   },
   "outputs": [
    {
     "name": "stderr",
     "output_type": "stream",
     "text": [
      "C:\\Program Files\\Anaconda3\\lib\\site-packages\\linearmodels\\panel\\data.py:39: FutureWarning: \n",
      "Passing list-likes to .loc or [] with any missing label will raise\n",
      "KeyError in the future, you can use .reindex() as an alternative.\n",
      "\n",
      "See the documentation here:\n",
      "https://pandas.pydata.org/pandas-docs/stable/indexing.html#deprecate-loc-reindex-listlike\n",
      "  new_df = df.copy().loc[self._full_index]\n",
      "C:\\Program Files\\Anaconda3\\lib\\site-packages\\linearmodels\\utility.py:476: MissingValueWarning: \n",
      "Inputs contain missing values. Dropping rows with missing observations.\n",
      "  warnings.warn(missing_value_warning_msg, MissingValueWarning)\n"
     ]
    },
    {
     "name": "stdout",
     "output_type": "stream",
     "text": [
      "                          PanelOLS Estimation Summary                           \n",
      "================================================================================\n",
      "Dep. Variable:            UPT_ADJ_log   R-squared:                        0.6613\n",
      "Estimator:                   PanelOLS   R-squared (Between):              0.9787\n",
      "No. Observations:                4011   R-squared (Within):               0.6613\n",
      "Date:                Tue, Dec 17 2019   R-squared (Overall):              0.9797\n",
      "Time:                        15:42:46   Log-likelihood                    1235.1\n",
      "Cov. Estimator:            Unadjusted                                           \n",
      "                                        F-statistic:                      561.19\n",
      "Entities:                         261   P-value                           0.0000\n",
      "Avg Obs:                       15.368   Distribution:                 F(13,3737)\n",
      "Min Obs:                       3.0000                                           \n",
      "Max Obs:                       17.000   F-statistic (robust):             561.19\n",
      "                                        P-value                           0.0000\n",
      "Time periods:                      17   Distribution:                 F(13,3737)\n",
      "Avg Obs:                       235.94                                           \n",
      "Min Obs:                       167.00                                           \n",
      "Max Obs:                       261.00                                           \n",
      "                                                                                \n",
      "                                      Parameter Estimates                                       \n",
      "================================================================================================\n",
      "                              Parameter  Std. Err.     T-stat    P-value    Lower CI    Upper CI\n",
      "------------------------------------------------------------------------------------------------\n",
      "VRM_ADJ_BUS_log                  0.8897     0.0140     63.659     0.0000      0.8623      0.9171\n",
      "VRM_ADJ_RAIL_log                 0.5630     0.0251     22.442     0.0000      0.5138      0.6121\n",
      "FARE_per_UPT_2018_log           -0.5535     0.0211    -26.248     0.0000     -0.5948     -0.5121\n",
      "POP_EMP_log                      0.3321     0.0582     5.7033     0.0000      0.2179      0.4463\n",
      "GAS_PRICE_2018_log               0.2058     0.0266     7.7311     0.0000      0.1536      0.2579\n",
      "TOTAL_MED_INC_INDIV_2018_log    -0.2932     0.0544    -5.3917     0.0000     -0.3999     -0.1866\n",
      "PCT_HH_NO_VEH                    0.0098     0.0031     3.1422     0.0017      0.0037      0.0159\n",
      "TSD_POP_PCT                      0.0055     0.0015     3.5583     0.0004      0.0025      0.0085\n",
      "JTW_HOME_PCT                    -0.0098     0.0041    -2.4165     0.0157     -0.0178     -0.0019\n",
      "YEARS_SINCE_TNC_BUS2            -0.0231     0.0034    -6.8190     0.0000     -0.0297     -0.0164\n",
      "YEARS_SINCE_TNC_RAIL2            0.0107     0.0050     2.1385     0.0325      0.0009      0.0205\n",
      "BIKE_SHARE                       0.0196     0.0131     1.4999     0.1337     -0.0060      0.0453\n",
      "scooter_flag                    -0.0186     0.0259    -0.7185     0.4725     -0.0694      0.0322\n",
      "================================================================================================\n",
      "\n",
      "F-test for Poolability: 72.283\n",
      "P-value: 0.0000\n",
      "Distribution: F(260,3737)\n",
      "\n",
      "Included effects: Entity\n"
     ]
    }
   ],
   "source": [
    "# count the first year of TNC presence\n",
    "df['YEARS_SINCE_TNC_BUS2'] = df['YEARS_SINCE_TNC_BUS'] + df['TNC_FLAG_BUS']\n",
    "df['YEARS_SINCE_TNC_RAIL2'] = df['YEARS_SINCE_TNC_RAIL'] + df['TNC_FLAG_RAIL']\n",
    "\n",
    "\n",
    "mod=PanelOLS.from_formula('UPT_ADJ_log \\\n",
    "                    ~ VRM_ADJ_BUS_log \\\n",
    "                    + VRM_ADJ_RAIL_log \\\n",
    "                    + FARE_per_UPT_2018_log \\\n",
    "                    + POP_EMP_log \\\n",
    "                    + GAS_PRICE_2018_log \\\n",
    "                    + TOTAL_MED_INC_INDIV_2018_log \\\n",
    "                    + PCT_HH_NO_VEH \\\n",
    "                    + TSD_POP_PCT \\\n",
    "                    + JTW_HOME_PCT \\\n",
    "                    + YEARS_SINCE_TNC_BUS2 \\\n",
    "                    + YEARS_SINCE_TNC_RAIL2 \\\n",
    "                    + BIKE_SHARE \\\n",
    "                    + scooter_flag \\\n",
    "                    + EntityEffects \\\n",
    "                    ',data=df)\n",
    "res=mod.fit()\n",
    "print(res)"
   ]
  },
  {
   "cell_type": "code",
   "execution_count": 56,
   "metadata": {
    "collapsed": false
   },
   "outputs": [
    {
     "name": "stderr",
     "output_type": "stream",
     "text": [
      "C:\\Program Files\\Anaconda3\\lib\\site-packages\\linearmodels\\panel\\data.py:39: FutureWarning: \n",
      "Passing list-likes to .loc or [] with any missing label will raise\n",
      "KeyError in the future, you can use .reindex() as an alternative.\n",
      "\n",
      "See the documentation here:\n",
      "https://pandas.pydata.org/pandas-docs/stable/indexing.html#deprecate-loc-reindex-listlike\n",
      "  new_df = df.copy().loc[self._full_index]\n",
      "C:\\Program Files\\Anaconda3\\lib\\site-packages\\linearmodels\\utility.py:476: MissingValueWarning: \n",
      "Inputs contain missing values. Dropping rows with missing observations.\n",
      "  warnings.warn(missing_value_warning_msg, MissingValueWarning)\n"
     ]
    },
    {
     "name": "stdout",
     "output_type": "stream",
     "text": [
      "                          PanelOLS Estimation Summary                           \n",
      "================================================================================\n",
      "Dep. Variable:            UPT_ADJ_log   R-squared:                        0.6619\n",
      "Estimator:                   PanelOLS   R-squared (Between):              0.9771\n",
      "No. Observations:                4011   R-squared (Within):               0.6619\n",
      "Date:                Tue, Dec 17 2019   R-squared (Overall):              0.9781\n",
      "Time:                        15:42:47   Log-likelihood                    1238.6\n",
      "Cov. Estimator:            Unadjusted                                           \n",
      "                                        F-statistic:                      522.33\n",
      "Entities:                         261   P-value                           0.0000\n",
      "Avg Obs:                       15.368   Distribution:                 F(14,3736)\n",
      "Min Obs:                       3.0000                                           \n",
      "Max Obs:                       17.000   F-statistic (robust):             522.33\n",
      "                                        P-value                           0.0000\n",
      "Time periods:                      17   Distribution:                 F(14,3736)\n",
      "Avg Obs:                       235.94                                           \n",
      "Min Obs:                       167.00                                           \n",
      "Max Obs:                       261.00                                           \n",
      "                                                                                \n",
      "                                      Parameter Estimates                                       \n",
      "================================================================================================\n",
      "                              Parameter  Std. Err.     T-stat    P-value    Lower CI    Upper CI\n",
      "------------------------------------------------------------------------------------------------\n",
      "VRM_ADJ_BUS_log                  0.8883     0.0140     63.614     0.0000      0.8609      0.9157\n",
      "VRM_ADJ_RAIL_log                 0.5627     0.0247     22.779     0.0000      0.5142      0.6111\n",
      "FARE_per_UPT_2018_log           -0.5533     0.0211    -26.261     0.0000     -0.5946     -0.5120\n",
      "POP_EMP_log                      0.3112     0.0575     5.4167     0.0000      0.1986      0.4239\n",
      "GAS_PRICE_2018_log               0.2201     0.0258     8.5382     0.0000      0.1695      0.2706\n",
      "TOTAL_MED_INC_INDIV_2018_log    -0.2790     0.0544    -5.1320     0.0000     -0.3856     -0.1724\n",
      "PCT_HH_NO_VEH                    0.0097     0.0031     3.1199     0.0018      0.0036      0.0159\n",
      "TSD_POP_PCT                      0.0056     0.0015     3.6563     0.0003      0.0026      0.0087\n",
      "JTW_HOME_PCT                    -0.0103     0.0040    -2.5554     0.0106     -0.0182     -0.0024\n",
      "YEARS_SINCE_TNC_BUS             -0.0291     0.0042    -6.9869     0.0000     -0.0372     -0.0209\n",
      "YEARS_SINCE_TNC_RAIL             0.0161     0.0060     2.6916     0.0071      0.0044      0.0279\n",
      "BIKE_SHARE                       0.0193     0.0130     1.4826     0.1383     -0.0062      0.0447\n",
      "scooter_flag                    -0.0124     0.0263    -0.4718     0.6371     -0.0641      0.0392\n",
      "MAINTENANCE                     -0.1285     0.0867    -1.4830     0.1382     -0.2984      0.0414\n",
      "================================================================================================\n",
      "\n",
      "F-test for Poolability: 72.432\n",
      "P-value: 0.0000\n",
      "Distribution: F(260,3736)\n",
      "\n",
      "Included effects: Entity\n"
     ]
    }
   ],
   "source": [
    "# MAINTENANCE\n",
    "\n",
    "mod=PanelOLS.from_formula('UPT_ADJ_log \\\n",
    "                    ~ VRM_ADJ_BUS_log \\\n",
    "                    + VRM_ADJ_RAIL_log \\\n",
    "                    + FARE_per_UPT_2018_log \\\n",
    "                    + POP_EMP_log \\\n",
    "                    + GAS_PRICE_2018_log \\\n",
    "                    + TOTAL_MED_INC_INDIV_2018_log \\\n",
    "                    + PCT_HH_NO_VEH \\\n",
    "                    + TSD_POP_PCT \\\n",
    "                    + JTW_HOME_PCT \\\n",
    "                    + YEARS_SINCE_TNC_BUS \\\n",
    "                    + YEARS_SINCE_TNC_RAIL \\\n",
    "                    + BIKE_SHARE \\\n",
    "                    + scooter_flag \\\n",
    "                    + MAINTENANCE \\\n",
    "                    + EntityEffects \\\n",
    "                    ',data=df)\n",
    "res=mod.fit()\n",
    "print(res)"
   ]
  },
  {
   "cell_type": "code",
   "execution_count": null,
   "metadata": {
    "collapsed": true
   },
   "outputs": [],
   "source": []
  },
  {
   "cell_type": "markdown",
   "metadata": {},
   "source": [
    "## model without new york\n",
    "\n"
   ]
  },
  {
   "cell_type": "code",
   "execution_count": 57,
   "metadata": {
    "collapsed": false
   },
   "outputs": [
    {
     "name": "stderr",
     "output_type": "stream",
     "text": [
      "C:\\Program Files\\Anaconda3\\lib\\site-packages\\linearmodels\\panel\\data.py:39: FutureWarning: \n",
      "Passing list-likes to .loc or [] with any missing label will raise\n",
      "KeyError in the future, you can use .reindex() as an alternative.\n",
      "\n",
      "See the documentation here:\n",
      "https://pandas.pydata.org/pandas-docs/stable/indexing.html#deprecate-loc-reindex-listlike\n",
      "  new_df = df.copy().loc[self._full_index]\n",
      "C:\\Program Files\\Anaconda3\\lib\\site-packages\\linearmodels\\utility.py:476: MissingValueWarning: \n",
      "Inputs contain missing values. Dropping rows with missing observations.\n",
      "  warnings.warn(missing_value_warning_msg, MissingValueWarning)\n"
     ]
    },
    {
     "name": "stdout",
     "output_type": "stream",
     "text": [
      "                          PanelOLS Estimation Summary                           \n",
      "================================================================================\n",
      "Dep. Variable:            UPT_ADJ_log   R-squared:                        0.6617\n",
      "Estimator:                   PanelOLS   R-squared (Between):              0.9775\n",
      "No. Observations:                4011   R-squared (Within):               0.6617\n",
      "Date:                Tue, Dec 17 2019   R-squared (Overall):              0.9785\n",
      "Time:                        15:42:49   Log-likelihood                    1237.4\n",
      "Cov. Estimator:            Unadjusted                                           \n",
      "                                        F-statistic:                      562.16\n",
      "Entities:                         261   P-value                           0.0000\n",
      "Avg Obs:                       15.368   Distribution:                 F(13,3737)\n",
      "Min Obs:                       3.0000                                           \n",
      "Max Obs:                       17.000   F-statistic (robust):             562.16\n",
      "                                        P-value                           0.0000\n",
      "Time periods:                      17   Distribution:                 F(13,3737)\n",
      "Avg Obs:                       235.94                                           \n",
      "Min Obs:                       167.00                                           \n",
      "Max Obs:                       261.00                                           \n",
      "                                                                                \n",
      "                                      Parameter Estimates                                       \n",
      "================================================================================================\n",
      "                              Parameter  Std. Err.     T-stat    P-value    Lower CI    Upper CI\n",
      "------------------------------------------------------------------------------------------------\n",
      "VRM_ADJ_BUS_log                  0.8883     0.0140     63.605     0.0000      0.8609      0.9157\n",
      "VRM_ADJ_RAIL_log                 0.5656     0.0246     22.972     0.0000      0.5174      0.6139\n",
      "FARE_per_UPT_2018_log           -0.5537     0.0211    -26.281     0.0000     -0.5950     -0.5124\n",
      "POP_EMP_log                      0.3116     0.0575     5.4233     0.0000      0.1990      0.4243\n",
      "GAS_PRICE_2018_log               0.2205     0.0258     8.5517     0.0000      0.1699      0.2710\n",
      "TOTAL_MED_INC_INDIV_2018_log    -0.2790     0.0544    -5.1307     0.0000     -0.3856     -0.1724\n",
      "PCT_HH_NO_VEH                    0.0098     0.0031     3.1233     0.0018      0.0036      0.0159\n",
      "TSD_POP_PCT                      0.0057     0.0015     3.7045     0.0002      0.0027      0.0087\n",
      "JTW_HOME_PCT                    -0.0104     0.0040    -2.5632     0.0104     -0.0183     -0.0024\n",
      "YEARS_SINCE_TNC_BUS             -0.0292     0.0042    -7.0067     0.0000     -0.0373     -0.0210\n",
      "YEARS_SINCE_TNC_RAIL             0.0141     0.0058     2.4179     0.0157      0.0027      0.0256\n",
      "BIKE_SHARE                       0.0201     0.0130     1.5448     0.1225     -0.0054      0.0455\n",
      "scooter_flag                    -0.0124     0.0263    -0.4713     0.6375     -0.0641      0.0392\n",
      "================================================================================================\n",
      "\n",
      "F-test for Poolability: 72.432\n",
      "P-value: 0.0000\n",
      "Distribution: F(260,3737)\n",
      "\n",
      "Included effects: Entity\n"
     ]
    }
   ],
   "source": [
    "# base model\n",
    "\n",
    "mod=PanelOLS.from_formula('UPT_ADJ_log \\\n",
    "                    ~ VRM_ADJ_BUS_log \\\n",
    "                    + VRM_ADJ_RAIL_log \\\n",
    "                    + FARE_per_UPT_2018_log \\\n",
    "                    + POP_EMP_log \\\n",
    "                    + GAS_PRICE_2018_log \\\n",
    "                    + TOTAL_MED_INC_INDIV_2018_log \\\n",
    "                    + PCT_HH_NO_VEH \\\n",
    "                    + TSD_POP_PCT \\\n",
    "                    + JTW_HOME_PCT \\\n",
    "                    + YEARS_SINCE_TNC_BUS \\\n",
    "                    + YEARS_SINCE_TNC_RAIL \\\n",
    "                    + BIKE_SHARE \\\n",
    "                    + scooter_flag \\\n",
    "                    + EntityEffects \\\n",
    "                    ',data=df)\n",
    "res=mod.fit()\n",
    "print(res)"
   ]
  },
  {
   "cell_type": "code",
   "execution_count": 58,
   "metadata": {
    "collapsed": false
   },
   "outputs": [
    {
     "name": "stderr",
     "output_type": "stream",
     "text": [
      "C:\\Program Files\\Anaconda3\\lib\\site-packages\\linearmodels\\panel\\data.py:39: FutureWarning: \n",
      "Passing list-likes to .loc or [] with any missing label will raise\n",
      "KeyError in the future, you can use .reindex() as an alternative.\n",
      "\n",
      "See the documentation here:\n",
      "https://pandas.pydata.org/pandas-docs/stable/indexing.html#deprecate-loc-reindex-listlike\n",
      "  new_df = df.copy().loc[self._full_index]\n",
      "C:\\Program Files\\Anaconda3\\lib\\site-packages\\linearmodels\\utility.py:476: MissingValueWarning: \n",
      "Inputs contain missing values. Dropping rows with missing observations.\n",
      "  warnings.warn(missing_value_warning_msg, MissingValueWarning)\n"
     ]
    },
    {
     "name": "stdout",
     "output_type": "stream",
     "text": [
      "                          PanelOLS Estimation Summary                           \n",
      "================================================================================\n",
      "Dep. Variable:            UPT_ADJ_log   R-squared:                        0.6619\n",
      "Estimator:                   PanelOLS   R-squared (Between):              0.9798\n",
      "No. Observations:                3977   R-squared (Within):               0.6619\n",
      "Date:                Tue, Dec 17 2019   R-squared (Overall):              0.9808\n",
      "Time:                        15:42:50   Log-likelihood                    1213.7\n",
      "Cov. Estimator:            Unadjusted                                           \n",
      "                                        F-statistic:                      558.06\n",
      "Entities:                         259   P-value                           0.0000\n",
      "Avg Obs:                       15.355   Distribution:                 F(13,3705)\n",
      "Min Obs:                       3.0000                                           \n",
      "Max Obs:                       17.000   F-statistic (robust):             558.06\n",
      "                                        P-value                           0.0000\n",
      "Time periods:                      17   Distribution:                 F(13,3705)\n",
      "Avg Obs:                       233.94                                           \n",
      "Min Obs:                       165.00                                           \n",
      "Max Obs:                       259.00                                           \n",
      "                                                                                \n",
      "                                      Parameter Estimates                                       \n",
      "================================================================================================\n",
      "                              Parameter  Std. Err.     T-stat    P-value    Lower CI    Upper CI\n",
      "------------------------------------------------------------------------------------------------\n",
      "VRM_ADJ_BUS_log                  0.8884     0.0140     63.373     0.0000      0.8609      0.9158\n",
      "VRM_ADJ_RAIL_log                 0.5689     0.0249     22.890     0.0000      0.5202      0.6176\n",
      "FARE_per_UPT_2018_log           -0.5551     0.0212    -26.200     0.0000     -0.5966     -0.5135\n",
      "POP_EMP_log                      0.3170     0.0579     5.4745     0.0000      0.2034      0.4305\n",
      "GAS_PRICE_2018_log               0.2204     0.0259     8.4981     0.0000      0.1695      0.2712\n",
      "TOTAL_MED_INC_INDIV_2018_log    -0.2751     0.0546    -5.0340     0.0000     -0.3822     -0.1679\n",
      "PCT_HH_NO_VEH                    0.0099     0.0031     3.1561     0.0016      0.0038      0.0161\n",
      "TSD_POP_PCT                      0.0058     0.0016     3.7615     0.0002      0.0028      0.0089\n",
      "JTW_HOME_PCT                    -0.0101     0.0041    -2.4834     0.0131     -0.0180     -0.0021\n",
      "YEARS_SINCE_TNC_BUS             -0.0295     0.0042    -7.0117     0.0000     -0.0378     -0.0213\n",
      "YEARS_SINCE_TNC_RAIL             0.0122     0.0060     2.0313     0.0423      0.0004      0.0241\n",
      "BIKE_SHARE                       0.0197     0.0131     1.5084     0.1315     -0.0059      0.0454\n",
      "scooter_flag                    -0.0125     0.0268    -0.4664     0.6409     -0.0650      0.0400\n",
      "================================================================================================\n",
      "\n",
      "F-test for Poolability: 68.950\n",
      "P-value: 0.0000\n",
      "Distribution: F(258,3705)\n",
      "\n",
      "Included effects: Entity\n"
     ]
    }
   ],
   "source": [
    "# excluding NY\n",
    "\n",
    "df2 = df[df['NEW_YORK']==0]\n",
    "\n",
    "mod=PanelOLS.from_formula('UPT_ADJ_log \\\n",
    "                    ~ VRM_ADJ_BUS_log \\\n",
    "                    + VRM_ADJ_RAIL_log \\\n",
    "                    + FARE_per_UPT_2018_log \\\n",
    "                    + POP_EMP_log \\\n",
    "                    + GAS_PRICE_2018_log \\\n",
    "                    + TOTAL_MED_INC_INDIV_2018_log \\\n",
    "                    + PCT_HH_NO_VEH \\\n",
    "                    + TSD_POP_PCT \\\n",
    "                    + JTW_HOME_PCT \\\n",
    "                    + YEARS_SINCE_TNC_BUS \\\n",
    "                    + YEARS_SINCE_TNC_RAIL \\\n",
    "                    + BIKE_SHARE \\\n",
    "                    + scooter_flag \\\n",
    "                    + EntityEffects \\\n",
    "                    ',data=df2)\n",
    "res=mod.fit()\n",
    "print(res)"
   ]
  },
  {
   "cell_type": "code",
   "execution_count": 59,
   "metadata": {
    "collapsed": false
   },
   "outputs": [
    {
     "name": "stderr",
     "output_type": "stream",
     "text": [
      "C:\\Program Files\\Anaconda3\\lib\\site-packages\\linearmodels\\panel\\data.py:39: FutureWarning: \n",
      "Passing list-likes to .loc or [] with any missing label will raise\n",
      "KeyError in the future, you can use .reindex() as an alternative.\n",
      "\n",
      "See the documentation here:\n",
      "https://pandas.pydata.org/pandas-docs/stable/indexing.html#deprecate-loc-reindex-listlike\n",
      "  new_df = df.copy().loc[self._full_index]\n",
      "C:\\Program Files\\Anaconda3\\lib\\site-packages\\linearmodels\\utility.py:476: MissingValueWarning: \n",
      "Inputs contain missing values. Dropping rows with missing observations.\n",
      "  warnings.warn(missing_value_warning_msg, MissingValueWarning)\n"
     ]
    },
    {
     "name": "stdout",
     "output_type": "stream",
     "text": [
      "                          PanelOLS Estimation Summary                           \n",
      "================================================================================\n",
      "Dep. Variable:            UPT_ADJ_log   R-squared:                        0.6620\n",
      "Estimator:                   PanelOLS   R-squared (Between):              0.9799\n",
      "No. Observations:                3977   R-squared (Within):               0.6620\n",
      "Date:                Tue, Dec 17 2019   R-squared (Overall):              0.9808\n",
      "Time:                        15:42:50   Log-likelihood                    1213.9\n",
      "Cov. Estimator:            Unadjusted                                           \n",
      "                                        F-statistic:                      483.47\n",
      "Entities:                         259   P-value                           0.0000\n",
      "Avg Obs:                       15.355   Distribution:                 F(15,3703)\n",
      "Min Obs:                       3.0000                                           \n",
      "Max Obs:                       17.000   F-statistic (robust):             483.47\n",
      "                                        P-value                           0.0000\n",
      "Time periods:                      17   Distribution:                 F(15,3703)\n",
      "Avg Obs:                       233.94                                           \n",
      "Min Obs:                       165.00                                           \n",
      "Max Obs:                       259.00                                           \n",
      "                                                                                \n",
      "                                      Parameter Estimates                                       \n",
      "================================================================================================\n",
      "                              Parameter  Std. Err.     T-stat    P-value    Lower CI    Upper CI\n",
      "------------------------------------------------------------------------------------------------\n",
      "VRM_ADJ_BUS_log                  0.8884     0.0140     63.356     0.0000      0.8609      0.9159\n",
      "VRM_ADJ_RAIL_log                 0.5678     0.0253     22.478     0.0000      0.5183      0.6173\n",
      "FARE_per_UPT_2018_log           -0.5554     0.0212    -26.192     0.0000     -0.5969     -0.5138\n",
      "POP_EMP_log                      0.3177     0.0579     5.4855     0.0000      0.2042      0.4313\n",
      "GAS_PRICE_2018_log               0.2203     0.0259     8.4943     0.0000      0.1695      0.2712\n",
      "TOTAL_MED_INC_INDIV_2018_log    -0.2745     0.0547    -5.0213     0.0000     -0.3816     -0.1673\n",
      "PCT_HH_NO_VEH                    0.0099     0.0031     3.1609     0.0016      0.0038      0.0161\n",
      "TSD_POP_PCT                      0.0058     0.0016     3.7620     0.0002      0.0028      0.0089\n",
      "JTW_HOME_PCT                    -0.0101     0.0041    -2.4742     0.0134     -0.0180     -0.0021\n",
      "YEARS_SINCE_TNC_BUS             -0.0298     0.0044    -6.8309     0.0000     -0.0383     -0.0212\n",
      "YEARS_SINCE_TNC_RAIL             0.0132     0.0078     1.6970     0.0898     -0.0021      0.0285\n",
      "BIKE_SHARE_BUS                   0.0186     0.0145     1.2831     0.1995     -0.0098      0.0470\n",
      "BIKE_SHARE_RAIL                  0.0230     0.0298     0.7704     0.4411     -0.0355      0.0814\n",
      "scooter_flag_BUS                -0.0021     0.0315    -0.0676     0.9461     -0.0639      0.0597\n",
      "scooter_flag_RAIL               -0.0382     0.0501    -0.7634     0.4453     -0.1364      0.0599\n",
      "================================================================================================\n",
      "\n",
      "F-test for Poolability: 68.869\n",
      "P-value: 0.0000\n",
      "Distribution: F(258,3703)\n",
      "\n",
      "Included effects: Entity\n"
     ]
    }
   ],
   "source": [
    "# excluding NY\n",
    "\n",
    "df2 = df[df['NEW_YORK']==0]\n",
    "\n",
    "mod=PanelOLS.from_formula('UPT_ADJ_log \\\n",
    "                    ~ VRM_ADJ_BUS_log \\\n",
    "                    + VRM_ADJ_RAIL_log \\\n",
    "                    + FARE_per_UPT_2018_log \\\n",
    "                    + POP_EMP_log \\\n",
    "                    + GAS_PRICE_2018_log \\\n",
    "                    + TOTAL_MED_INC_INDIV_2018_log \\\n",
    "                    + PCT_HH_NO_VEH \\\n",
    "                    + TSD_POP_PCT \\\n",
    "                    + JTW_HOME_PCT \\\n",
    "                    + YEARS_SINCE_TNC_BUS \\\n",
    "                    + YEARS_SINCE_TNC_RAIL \\\n",
    "                    + BIKE_SHARE_BUS \\\n",
    "                    + BIKE_SHARE_RAIL \\\n",
    "                    + scooter_flag_BUS \\\n",
    "                    + scooter_flag_RAIL \\\n",
    "                    + EntityEffects \\\n",
    "                    ',data=df2)\n",
    "res=mod.fit()\n",
    "print(res)"
   ]
  },
  {
   "cell_type": "code",
   "execution_count": null,
   "metadata": {
    "collapsed": true
   },
   "outputs": [],
   "source": []
  },
  {
   "cell_type": "markdown",
   "metadata": {},
   "source": [
    "## Segmentation"
   ]
  },
  {
   "cell_type": "code",
   "execution_count": 60,
   "metadata": {
    "collapsed": false
   },
   "outputs": [
    {
     "name": "stderr",
     "output_type": "stream",
     "text": [
      "C:\\Program Files\\Anaconda3\\lib\\site-packages\\linearmodels\\panel\\data.py:39: FutureWarning: \n",
      "Passing list-likes to .loc or [] with any missing label will raise\n",
      "KeyError in the future, you can use .reindex() as an alternative.\n",
      "\n",
      "See the documentation here:\n",
      "https://pandas.pydata.org/pandas-docs/stable/indexing.html#deprecate-loc-reindex-listlike\n",
      "  new_df = df.copy().loc[self._full_index]\n",
      "C:\\Program Files\\Anaconda3\\lib\\site-packages\\linearmodels\\utility.py:476: MissingValueWarning: \n",
      "Inputs contain missing values. Dropping rows with missing observations.\n",
      "  warnings.warn(missing_value_warning_msg, MissingValueWarning)\n"
     ]
    },
    {
     "name": "stdout",
     "output_type": "stream",
     "text": [
      "                          PanelOLS Estimation Summary                           \n",
      "================================================================================\n",
      "Dep. Variable:            UPT_ADJ_log   R-squared:                        0.6638\n",
      "Estimator:                   PanelOLS   R-squared (Between):              0.9824\n",
      "No. Observations:                4011   R-squared (Within):               0.6638\n",
      "Date:                Tue, Dec 17 2019   R-squared (Overall):              0.9832\n",
      "Time:                        15:42:52   Log-likelihood                    1250.4\n",
      "Cov. Estimator:            Unadjusted                                           \n",
      "                                        F-statistic:                      409.43\n",
      "Entities:                         261   P-value                           0.0000\n",
      "Avg Obs:                       15.368   Distribution:                 F(18,3732)\n",
      "Min Obs:                       3.0000                                           \n",
      "Max Obs:                       17.000   F-statistic (robust):             409.43\n",
      "                                        P-value                           0.0000\n",
      "Time periods:                      17   Distribution:                 F(18,3732)\n",
      "Avg Obs:                       235.94                                           \n",
      "Min Obs:                       167.00                                           \n",
      "Max Obs:                       261.00                                           \n",
      "                                                                                \n",
      "                                      Parameter Estimates                                       \n",
      "================================================================================================\n",
      "                              Parameter  Std. Err.     T-stat    P-value    Lower CI    Upper CI\n",
      "------------------------------------------------------------------------------------------------\n",
      "VRM_ADJ_BUS_log                  0.8904     0.0140     63.808     0.0000      0.8630      0.9178\n",
      "VRM_ADJ_RAIL_log                 0.5720     0.0247     23.146     0.0000      0.5235      0.6204\n",
      "FARE_per_UPT_2018_log           -0.5557     0.0210    -26.430     0.0000     -0.5969     -0.5145\n",
      "POP_EMP_log                      0.3395     0.0577     5.8807     0.0000      0.2263      0.4527\n",
      "GAS_PRICE_2018_log               0.2091     0.0258     8.0935     0.0000      0.1585      0.2598\n",
      "TOTAL_MED_INC_INDIV_2018_log    -0.2769     0.0543    -5.0997     0.0000     -0.3834     -0.1704\n",
      "PCT_HH_NO_VEH                    0.0094     0.0031     3.0022     0.0027      0.0033      0.0155\n",
      "TSD_POP_PCT                      0.0064     0.0015     4.1640     0.0000      0.0034      0.0095\n",
      "JTW_HOME_PCT                    -0.0086     0.0041    -2.1322     0.0331     -0.0166     -0.0007\n",
      "YEARS_SINCE_TNC_BUS_NY          -0.0173     0.0192    -0.9007     0.3678     -0.0550      0.0204\n",
      "YEARS_SINCE_TNC_BUS_HI          -0.0140     0.0062    -2.2561     0.0241     -0.0262     -0.0018\n",
      "YEARS_SINCE_TNC_BUS_MID         -0.0335     0.0061    -5.5239     0.0000     -0.0454     -0.0216\n",
      "YEARS_SINCE_TNC_BUS_LOW         -0.0376     0.0053    -7.1154     0.0000     -0.0480     -0.0272\n",
      "YEARS_SINCE_TNC_RAIL_NY          0.0405     0.0192     2.1087     0.0350      0.0028      0.0782\n",
      "YEARS_SINCE_TNC_RAIL_HI          0.0210     0.0065     3.2083     0.0013      0.0082      0.0338\n",
      "YEARS_SINCE_TNC_RAIL_MID        -0.0146     0.0103    -1.4134     0.1576     -0.0348      0.0057\n",
      "BIKE_SHARE                       0.0163     0.0130     1.2554     0.2094     -0.0092      0.0418\n",
      "scooter_flag                    -0.0242     0.0266    -0.9081     0.3639     -0.0764      0.0280\n",
      "================================================================================================\n",
      "\n",
      "F-test for Poolability: 72.205\n",
      "P-value: 0.0000\n",
      "Distribution: F(260,3732)\n",
      "\n",
      "Included effects: Entity\n"
     ]
    }
   ],
   "source": [
    "# TNC segmentation\n",
    "\n",
    "mod=PanelOLS.from_formula('UPT_ADJ_log \\\n",
    "                    ~ VRM_ADJ_BUS_log \\\n",
    "                    + VRM_ADJ_RAIL_log \\\n",
    "                    + FARE_per_UPT_2018_log \\\n",
    "                    + POP_EMP_log \\\n",
    "                    + GAS_PRICE_2018_log \\\n",
    "                    + TOTAL_MED_INC_INDIV_2018_log \\\n",
    "                    + PCT_HH_NO_VEH \\\n",
    "                    + TSD_POP_PCT \\\n",
    "                    + JTW_HOME_PCT \\\n",
    "                    + YEARS_SINCE_TNC_BUS_NY \\\n",
    "                    + YEARS_SINCE_TNC_BUS_HI \\\n",
    "                    + YEARS_SINCE_TNC_BUS_MID \\\n",
    "                    + YEARS_SINCE_TNC_BUS_LOW \\\n",
    "                    + YEARS_SINCE_TNC_RAIL_NY \\\n",
    "                    + YEARS_SINCE_TNC_RAIL_HI \\\n",
    "                    + YEARS_SINCE_TNC_RAIL_MID \\\n",
    "                    + BIKE_SHARE \\\n",
    "                    + scooter_flag \\\n",
    "                    + EntityEffects \\\n",
    "                    ',data=df)\n",
    "res=mod.fit()\n",
    "print(res)"
   ]
  },
  {
   "cell_type": "code",
   "execution_count": 61,
   "metadata": {
    "collapsed": false
   },
   "outputs": [
    {
     "name": "stderr",
     "output_type": "stream",
     "text": [
      "C:\\Program Files\\Anaconda3\\lib\\site-packages\\linearmodels\\panel\\data.py:39: FutureWarning: \n",
      "Passing list-likes to .loc or [] with any missing label will raise\n",
      "KeyError in the future, you can use .reindex() as an alternative.\n",
      "\n",
      "See the documentation here:\n",
      "https://pandas.pydata.org/pandas-docs/stable/indexing.html#deprecate-loc-reindex-listlike\n",
      "  new_df = df.copy().loc[self._full_index]\n",
      "C:\\Program Files\\Anaconda3\\lib\\site-packages\\linearmodels\\utility.py:476: MissingValueWarning: \n",
      "Inputs contain missing values. Dropping rows with missing observations.\n",
      "  warnings.warn(missing_value_warning_msg, MissingValueWarning)\n"
     ]
    },
    {
     "name": "stdout",
     "output_type": "stream",
     "text": [
      "                          PanelOLS Estimation Summary                           \n",
      "================================================================================\n",
      "Dep. Variable:            UPT_ADJ_log   R-squared:                        0.6637\n",
      "Estimator:                   PanelOLS   R-squared (Between):              0.9817\n",
      "No. Observations:                4011   R-squared (Within):               0.6637\n",
      "Date:                Tue, Dec 17 2019   R-squared (Overall):              0.9826\n",
      "Time:                        15:42:52   Log-likelihood                    1249.6\n",
      "Cov. Estimator:            Unadjusted                                           \n",
      "                                        F-statistic:                      491.43\n",
      "Entities:                         261   P-value                           0.0000\n",
      "Avg Obs:                       15.368   Distribution:                 F(15,3735)\n",
      "Min Obs:                       3.0000                                           \n",
      "Max Obs:                       17.000   F-statistic (robust):             491.43\n",
      "                                        P-value                           0.0000\n",
      "Time periods:                      17   Distribution:                 F(15,3735)\n",
      "Avg Obs:                       235.94                                           \n",
      "Min Obs:                       167.00                                           \n",
      "Max Obs:                       261.00                                           \n",
      "                                                                                \n",
      "                                      Parameter Estimates                                       \n",
      "================================================================================================\n",
      "                              Parameter  Std. Err.     T-stat    P-value    Lower CI    Upper CI\n",
      "------------------------------------------------------------------------------------------------\n",
      "VRM_ADJ_BUS_log                  0.8900     0.0139     63.867     0.0000      0.8627      0.9173\n",
      "VRM_ADJ_RAIL_log                 0.5692     0.0246     23.167     0.0000      0.5210      0.6174\n",
      "FARE_per_UPT_2018_log           -0.5557     0.0210    -26.444     0.0000     -0.5969     -0.5145\n",
      "POP_EMP_log                      0.3377     0.0576     5.8580     0.0000      0.2247      0.4507\n",
      "GAS_PRICE_2018_log               0.2090     0.0258     8.0905     0.0000      0.1583      0.2596\n",
      "TOTAL_MED_INC_INDIV_2018_log    -0.2791     0.0542    -5.1463     0.0000     -0.3854     -0.1727\n",
      "PCT_HH_NO_VEH                    0.0092     0.0031     2.9646     0.0031      0.0031      0.0154\n",
      "TSD_POP_PCT                      0.0063     0.0015     4.1135     0.0000      0.0033      0.0094\n",
      "JTW_HOME_PCT                    -0.0087     0.0040    -2.1474     0.0318     -0.0166     -0.0008\n",
      "YEARS_SINCE_TNC_BUS_HINY        -0.0146     0.0060    -2.4197     0.0156     -0.0264     -0.0028\n",
      "YEARS_SINCE_TNC_BUS_MIDLOW      -0.0359     0.0046    -7.8794     0.0000     -0.0449     -0.0270\n",
      "YEARS_SINCE_TNC_RAIL_HINY        0.0224     0.0063     3.5546     0.0004      0.0100      0.0347\n",
      "YEARS_SINCE_TNC_RAIL_MIDLOW     -0.0146     0.0103    -1.4124     0.1579     -0.0348      0.0057\n",
      "BIKE_SHARE                       0.0171     0.0130     1.3223     0.1861     -0.0083      0.0426\n",
      "scooter_flag                    -0.0220     0.0264    -0.8327     0.4051     -0.0737      0.0298\n",
      "================================================================================================\n",
      "\n",
      "F-test for Poolability: 72.767\n",
      "P-value: 0.0000\n",
      "Distribution: F(260,3735)\n",
      "\n",
      "Included effects: Entity\n"
     ]
    }
   ],
   "source": [
    "# TNC segmentation\n",
    "\n",
    "mod=PanelOLS.from_formula('UPT_ADJ_log \\\n",
    "                    ~ VRM_ADJ_BUS_log \\\n",
    "                    + VRM_ADJ_RAIL_log \\\n",
    "                    + FARE_per_UPT_2018_log \\\n",
    "                    + POP_EMP_log \\\n",
    "                    + GAS_PRICE_2018_log \\\n",
    "                    + TOTAL_MED_INC_INDIV_2018_log \\\n",
    "                    + PCT_HH_NO_VEH \\\n",
    "                    + TSD_POP_PCT \\\n",
    "                    + JTW_HOME_PCT \\\n",
    "                    + YEARS_SINCE_TNC_BUS_HINY \\\n",
    "                    + YEARS_SINCE_TNC_BUS_MIDLOW \\\n",
    "                    + YEARS_SINCE_TNC_RAIL_HINY \\\n",
    "                    + YEARS_SINCE_TNC_RAIL_MIDLOW \\\n",
    "                    + BIKE_SHARE \\\n",
    "                    + scooter_flag \\\n",
    "                    + EntityEffects \\\n",
    "                    ',data=df)\n",
    "res=mod.fit()\n",
    "print(res)"
   ]
  },
  {
   "cell_type": "code",
   "execution_count": 62,
   "metadata": {
    "collapsed": false
   },
   "outputs": [
    {
     "name": "stderr",
     "output_type": "stream",
     "text": [
      "C:\\Program Files\\Anaconda3\\lib\\site-packages\\linearmodels\\panel\\data.py:39: FutureWarning: \n",
      "Passing list-likes to .loc or [] with any missing label will raise\n",
      "KeyError in the future, you can use .reindex() as an alternative.\n",
      "\n",
      "See the documentation here:\n",
      "https://pandas.pydata.org/pandas-docs/stable/indexing.html#deprecate-loc-reindex-listlike\n",
      "  new_df = df.copy().loc[self._full_index]\n",
      "C:\\Program Files\\Anaconda3\\lib\\site-packages\\linearmodels\\utility.py:476: MissingValueWarning: \n",
      "Inputs contain missing values. Dropping rows with missing observations.\n",
      "  warnings.warn(missing_value_warning_msg, MissingValueWarning)\n"
     ]
    },
    {
     "name": "stdout",
     "output_type": "stream",
     "text": [
      "                          PanelOLS Estimation Summary                           \n",
      "================================================================================\n",
      "Dep. Variable:            UPT_ADJ_log   R-squared:                        0.6497\n",
      "Estimator:                   PanelOLS   R-squared (Between):              0.9940\n",
      "No. Observations:                4011   R-squared (Within):               0.6497\n",
      "Date:                Tue, Dec 17 2019   R-squared (Overall):              0.9939\n",
      "Time:                        15:42:53   Log-likelihood                    1167.7\n",
      "Cov. Estimator:            Unadjusted                                           \n",
      "                                        F-statistic:                      494.92\n",
      "Entities:                         261   P-value                           0.0000\n",
      "Avg Obs:                       15.368   Distribution:                 F(14,3736)\n",
      "Min Obs:                       3.0000                                           \n",
      "Max Obs:                       17.000   F-statistic (robust):             494.92\n",
      "                                        P-value                           0.0000\n",
      "Time periods:                      17   Distribution:                 F(14,3736)\n",
      "Avg Obs:                       235.94                                           \n",
      "Min Obs:                       167.00                                           \n",
      "Max Obs:                       261.00                                           \n",
      "                                                                                \n",
      "                                      Parameter Estimates                                       \n",
      "================================================================================================\n",
      "                              Parameter  Std. Err.     T-stat    P-value    Lower CI    Upper CI\n",
      "------------------------------------------------------------------------------------------------\n",
      "VRM_ADJ_log                      0.8142     0.0126     64.543     0.0000      0.7895      0.8389\n",
      "FARE_per_UPT_2018_log           -0.5642     0.0214    -26.325     0.0000     -0.6063     -0.5222\n",
      "POP_EMP_log                      0.3675     0.0583     6.3039     0.0000      0.2532      0.4818\n",
      "GAS_PRICE_2018_log               0.2211     0.0262     8.4273     0.0000      0.1697      0.2725\n",
      "TOTAL_MED_INC_INDIV_2018_log    -0.2915     0.0553    -5.2682     0.0000     -0.4000     -0.1830\n",
      "PCT_HH_NO_VEH                    0.0102     0.0032     3.2045     0.0014      0.0040      0.0164\n",
      "TSD_POP_PCT                      0.0080     0.0016     5.1285     0.0000      0.0049      0.0110\n",
      "JTW_HOME_PCT                    -0.0107     0.0041    -2.6024     0.0093     -0.0188     -0.0026\n",
      "YEARS_SINCE_TNC_BUS             -0.0278     0.0044    -6.3425     0.0000     -0.0364     -0.0192\n",
      "YEARS_SINCE_TNC_RAIL             0.0019     0.0077     0.2501     0.8025     -0.0131      0.0170\n",
      "BIKE_SHARE_BUS                   0.0228     0.0147     1.5535     0.1204     -0.0060      0.0515\n",
      "scooter_flag_BUS                -0.0033     0.0317    -0.1054     0.9161     -0.0654      0.0587\n",
      "BIKE_SHARE_RAIL                 -0.0287     0.0295    -0.9718     0.3312     -0.0866      0.0292\n",
      "scooter_flag_RAIL               -0.0297     0.0497    -0.5978     0.5500     -0.1271      0.0677\n",
      "================================================================================================\n",
      "\n",
      "F-test for Poolability: 74.865\n",
      "P-value: 0.0000\n",
      "Distribution: F(260,3736)\n",
      "\n",
      "Included effects: Entity\n"
     ]
    }
   ],
   "source": [
    "# model 6.4 specification  \n",
    "\n",
    "mod=PanelOLS.from_formula('UPT_ADJ_log \\\n",
    "                    ~ VRM_ADJ_log \\\n",
    "                    + FARE_per_UPT_2018_log \\\n",
    "                    + POP_EMP_log \\\n",
    "                    + GAS_PRICE_2018_log \\\n",
    "                    + TOTAL_MED_INC_INDIV_2018_log \\\n",
    "                    + PCT_HH_NO_VEH \\\n",
    "                    + TSD_POP_PCT \\\n",
    "                    + JTW_HOME_PCT \\\n",
    "                    + YEARS_SINCE_TNC_BUS \\\n",
    "                    + YEARS_SINCE_TNC_RAIL \\\n",
    "                    + BIKE_SHARE_BUS \\\n",
    "                    + scooter_flag_BUS \\\n",
    "                    + BIKE_SHARE_RAIL \\\n",
    "                    + scooter_flag_RAIL \\\n",
    "                    + EntityEffects \\\n",
    "                    ',data=df)\n",
    "res=mod.fit()\n",
    "print(res)"
   ]
  },
  {
   "cell_type": "code",
   "execution_count": null,
   "metadata": {
    "collapsed": true
   },
   "outputs": [],
   "source": []
  },
  {
   "cell_type": "code",
   "execution_count": null,
   "metadata": {
    "collapsed": true
   },
   "outputs": [],
   "source": []
  },
  {
   "cell_type": "markdown",
   "metadata": {},
   "source": [
    "## Run some analytics"
   ]
  },
  {
   "cell_type": "code",
   "execution_count": 64,
   "metadata": {
    "collapsed": false
   },
   "outputs": [
    {
     "name": "stderr",
     "output_type": "stream",
     "text": [
      "C:\\Program Files\\Anaconda3\\lib\\site-packages\\linearmodels\\panel\\data.py:39: FutureWarning: \n",
      "Passing list-likes to .loc or [] with any missing label will raise\n",
      "KeyError in the future, you can use .reindex() as an alternative.\n",
      "\n",
      "See the documentation here:\n",
      "https://pandas.pydata.org/pandas-docs/stable/indexing.html#deprecate-loc-reindex-listlike\n",
      "  new_df = df.copy().loc[self._full_index]\n",
      "C:\\Program Files\\Anaconda3\\lib\\site-packages\\linearmodels\\utility.py:476: MissingValueWarning: \n",
      "Inputs contain missing values. Dropping rows with missing observations.\n",
      "  warnings.warn(missing_value_warning_msg, MissingValueWarning)\n"
     ]
    },
    {
     "name": "stdout",
     "output_type": "stream",
     "text": [
      "                          PanelOLS Estimation Summary                           \n",
      "================================================================================\n",
      "Dep. Variable:            UPT_ADJ_log   R-squared:                        0.6562\n",
      "Estimator:                   PanelOLS   R-squared (Between):              0.9773\n",
      "No. Observations:                3746   R-squared (Within):               0.6562\n",
      "Date:                Tue, Dec 17 2019   R-squared (Overall):              0.9788\n",
      "Time:                        14:58:00   Log-likelihood                    2054.3\n",
      "Cov. Estimator:            Unadjusted                                           \n",
      "                                        F-statistic:                      604.33\n",
      "Entities:                         252   P-value                           0.0000\n",
      "Avg Obs:                       14.865   Distribution:                 F(11,3483)\n",
      "Min Obs:                       1.0000                                           \n",
      "Max Obs:                       17.000   F-statistic (robust):             604.33\n",
      "                                        P-value                           0.0000\n",
      "Time periods:                      17   Distribution:                 F(11,3483)\n",
      "Avg Obs:                       220.35                                           \n",
      "Min Obs:                       144.00                                           \n",
      "Max Obs:                       249.00                                           \n",
      "                                                                                \n",
      "                                      Parameter Estimates                                       \n",
      "================================================================================================\n",
      "                              Parameter  Std. Err.     T-stat    P-value    Lower CI    Upper CI\n",
      "------------------------------------------------------------------------------------------------\n",
      "VRM_ADJ_BUS_log                  0.8690     0.0135     64.210     0.0000      0.8424      0.8955\n",
      "VRM_ADJ_RAIL_log                 0.5186     0.0218     23.739     0.0000      0.4757      0.5614\n",
      "FARE_per_UPT_2018_log           -0.3556     0.0221    -16.113     0.0000     -0.3989     -0.3124\n",
      "POP_EMP_log                      0.3209     0.0471     6.8114     0.0000      0.2285      0.4133\n",
      "GAS_PRICE_2018_log               0.2121     0.0207     10.270     0.0000      0.1716      0.2526\n",
      "TOTAL_MED_INC_INDIV_2018_log    -0.2427     0.0448    -5.4225     0.0000     -0.3304     -0.1549\n",
      "PCT_HH_NO_VEH                    0.0052     0.0026     1.9811     0.0477   5.313e-05      0.0102\n",
      "TSD_POP_PCT                      0.0046     0.0013     3.5711     0.0004      0.0021      0.0071\n",
      "JTW_HOME_PCT                    -0.0131     0.0033    -4.0224     0.0001     -0.0195     -0.0067\n",
      "YEARS_SINCE_TNC_BUS             -0.0218     0.0030    -7.2746     0.0000     -0.0276     -0.0159\n",
      "scooter_flag                    -0.0244     0.0205    -1.1941     0.2325     -0.0646      0.0157\n",
      "================================================================================================\n",
      "\n",
      "F-test for Poolability: 119.40\n",
      "P-value: 0.0000\n",
      "Distribution: F(251,3483)\n",
      "\n",
      "Included effects: Entity\n"
     ]
    }
   ],
   "source": [
    "# Final Model -- EXCLUDE TNC RAIL AND BIKE SHARE\n",
    "\n",
    "mod=PanelOLS.from_formula('UPT_ADJ_log \\\n",
    "                    ~ VRM_ADJ_BUS_log \\\n",
    "                    + VRM_ADJ_RAIL_log \\\n",
    "                    + FARE_per_UPT_2018_log \\\n",
    "                    + POP_EMP_log \\\n",
    "                    + GAS_PRICE_2018_log \\\n",
    "                    + TOTAL_MED_INC_INDIV_2018_log \\\n",
    "                    + PCT_HH_NO_VEH \\\n",
    "                    + TSD_POP_PCT \\\n",
    "                    + JTW_HOME_PCT \\\n",
    "                    + YEARS_SINCE_TNC_BUS \\\n",
    "                    + scooter_flag \\\n",
    "                    + EntityEffects \\\n",
    "                    ',data=df)\n",
    "res=mod.fit()\n",
    "print(res)"
   ]
  },
  {
   "cell_type": "code",
   "execution_count": 65,
   "metadata": {
    "collapsed": false
   },
   "outputs": [
    {
     "data": {
      "text/plain": [
       "<matplotlib.axes._subplots.AxesSubplot at 0xb5d3bee208>"
      ]
     },
     "execution_count": 65,
     "metadata": {},
     "output_type": "execute_result"
    },
    {
     "data": {
      "image/png": "[encoded data removed]",
      "text/plain": [
       "<matplotlib.figure.Figure at 0xb5d3bfa0b8>"
      ]
     },
     "metadata": {},
     "output_type": "display_data"
    }
   ],
   "source": [
    "sns.distplot(res.resids)"
   ]
  },
  {
   "cell_type": "code",
   "execution_count": 66,
   "metadata": {
    "collapsed": false
   },
   "outputs": [
    {
     "data": {
      "image/png": "[encoded data removed]",
      "text/plain": [
       "<matplotlib.figure.Figure at 0xb5c6e64390>"
      ]
     },
     "execution_count": 66,
     "metadata": {},
     "output_type": "execute_result"
    },
    {
     "data": {
      "image/png": "[encoded data removed]",
      "text/plain": [
       "<matplotlib.figure.Figure at 0xb5c6e64390>"
      ]
     },
     "metadata": {},
     "output_type": "display_data"
    }
   ],
   "source": [
    "sm.graphics.qqplot(res.resids,line = 'q')"
   ]
  },
  {
   "cell_type": "code",
   "execution_count": null,
   "metadata": {
    "collapsed": true
   },
   "outputs": [],
   "source": []
  },
  {
   "cell_type": "code",
   "execution_count": null,
   "metadata": {
    "collapsed": true
   },
   "outputs": [],
   "source": []
  },
  {
   "cell_type": "code",
   "execution_count": null,
   "metadata": {
    "collapsed": true
   },
   "outputs": [],
   "source": []
  },
  {
   "cell_type": "markdown",
   "metadata": {},
   "source": [
    "## Calculate FAC"
   ]
  },
  {
   "cell_type": "code",
   "execution_count": 67,
   "metadata": {
    "collapsed": true
   },
   "outputs": [],
   "source": [
    "# keep the relevant fields in the data set\n",
    "app_data = pd.concat([df[['RAIL_FLAG', 'CLUSTER_APTA']], \n",
    "                      res.model.dependent.dataframe, \n",
    "                      res.model.exog.dataframe, \n",
    "                      res.estimated_effects, \n",
    "                      res.resids], axis=1)\n"
   ]
  },
  {
   "cell_type": "code",
   "execution_count": 68,
   "metadata": {
    "collapsed": false
   },
   "outputs": [
    {
     "data": {
      "text/html": [
       "<div>\n",
       "<style scoped>\n",
       "    .dataframe tbody tr th:only-of-type {\n",
       "        vertical-align: middle;\n",
       "    }\n",
       "\n",
       "    .dataframe tbody tr th {\n",
       "        vertical-align: top;\n",
       "    }\n",
       "\n",
       "    .dataframe thead th {\n",
       "        text-align: right;\n",
       "    }\n",
       "</style>\n",
       "<table border=\"1\" class=\"dataframe\">\n",
       "  <thead>\n",
       "    <tr style=\"text-align: right;\">\n",
       "      <th></th>\n",
       "      <th></th>\n",
       "      <th>RAIL_FLAG</th>\n",
       "      <th>CLUSTER_APTA</th>\n",
       "      <th>UPT_ADJ_log</th>\n",
       "      <th>VRM_ADJ_BUS_log</th>\n",
       "      <th>VRM_ADJ_RAIL_log</th>\n",
       "      <th>FARE_per_UPT_2018_log</th>\n",
       "      <th>POP_EMP_log</th>\n",
       "      <th>GAS_PRICE_2018_log</th>\n",
       "      <th>TOTAL_MED_INC_INDIV_2018_log</th>\n",
       "      <th>PCT_HH_NO_VEH</th>\n",
       "      <th>TSD_POP_PCT</th>\n",
       "      <th>JTW_HOME_PCT</th>\n",
       "      <th>YEARS_SINCE_TNC_BUS</th>\n",
       "      <th>scooter_flag</th>\n",
       "      <th>effects</th>\n",
       "      <th>residual</th>\n",
       "    </tr>\n",
       "  </thead>\n",
       "  <tbody>\n",
       "    <tr>\n",
       "      <th rowspan=\"5\" valign=\"top\">Akron, OH Metro Area-Bus</th>\n",
       "      <th>2002</th>\n",
       "      <td>0</td>\n",
       "      <td>24</td>\n",
       "      <td>15.469231</td>\n",
       "      <td>15.208377</td>\n",
       "      <td>0.0</td>\n",
       "      <td>0.148254</td>\n",
       "      <td>13.808216</td>\n",
       "      <td>1.066089</td>\n",
       "      <td>10.479210</td>\n",
       "      <td>8.60</td>\n",
       "      <td>18.525984</td>\n",
       "      <td>3.1</td>\n",
       "      <td>0.0</td>\n",
       "      <td>0.0</td>\n",
       "      <td>0.237028</td>\n",
       "      <td>-0.133159</td>\n",
       "    </tr>\n",
       "    <tr>\n",
       "      <th>2003</th>\n",
       "      <td>0</td>\n",
       "      <td>24</td>\n",
       "      <td>15.501150</td>\n",
       "      <td>15.195930</td>\n",
       "      <td>0.0</td>\n",
       "      <td>0.462904</td>\n",
       "      <td>13.823451</td>\n",
       "      <td>1.138954</td>\n",
       "      <td>10.446267</td>\n",
       "      <td>8.20</td>\n",
       "      <td>18.076969</td>\n",
       "      <td>3.1</td>\n",
       "      <td>0.0</td>\n",
       "      <td>0.0</td>\n",
       "      <td>0.237028</td>\n",
       "      <td>-0.002739</td>\n",
       "    </tr>\n",
       "    <tr>\n",
       "      <th>2004</th>\n",
       "      <td>0</td>\n",
       "      <td>24</td>\n",
       "      <td>15.591676</td>\n",
       "      <td>15.277699</td>\n",
       "      <td>0.0</td>\n",
       "      <td>0.414204</td>\n",
       "      <td>13.839439</td>\n",
       "      <td>1.233697</td>\n",
       "      <td>10.403980</td>\n",
       "      <td>7.79</td>\n",
       "      <td>17.637662</td>\n",
       "      <td>3.1</td>\n",
       "      <td>0.0</td>\n",
       "      <td>0.0</td>\n",
       "      <td>0.237028</td>\n",
       "      <td>-0.031946</td>\n",
       "    </tr>\n",
       "    <tr>\n",
       "      <th>2005</th>\n",
       "      <td>0</td>\n",
       "      <td>24</td>\n",
       "      <td>15.609548</td>\n",
       "      <td>15.214971</td>\n",
       "      <td>0.0</td>\n",
       "      <td>0.460804</td>\n",
       "      <td>13.857195</td>\n",
       "      <td>1.361617</td>\n",
       "      <td>10.365663</td>\n",
       "      <td>7.47</td>\n",
       "      <td>17.243546</td>\n",
       "      <td>3.1</td>\n",
       "      <td>0.0</td>\n",
       "      <td>0.0</td>\n",
       "      <td>0.237028</td>\n",
       "      <td>0.018335</td>\n",
       "    </tr>\n",
       "    <tr>\n",
       "      <th>2006</th>\n",
       "      <td>0</td>\n",
       "      <td>24</td>\n",
       "      <td>15.619001</td>\n",
       "      <td>15.200501</td>\n",
       "      <td>0.0</td>\n",
       "      <td>0.462420</td>\n",
       "      <td>13.879496</td>\n",
       "      <td>1.429114</td>\n",
       "      <td>10.305856</td>\n",
       "      <td>6.85</td>\n",
       "      <td>16.754287</td>\n",
       "      <td>2.5</td>\n",
       "      <td>0.0</td>\n",
       "      <td>0.0</td>\n",
       "      <td>0.237028</td>\n",
       "      <td>0.002517</td>\n",
       "    </tr>\n",
       "  </tbody>\n",
       "</table>\n",
       "</div>"
      ],
      "text/plain": [
       "                               RAIL_FLAG  CLUSTER_APTA  UPT_ADJ_log  \\\n",
       "Akron, OH Metro Area-Bus 2002          0            24    15.469231   \n",
       "                         2003          0            24    15.501150   \n",
       "                         2004          0            24    15.591676   \n",
       "                         2005          0            24    15.609548   \n",
       "                         2006          0            24    15.619001   \n",
       "\n",
       "                               VRM_ADJ_BUS_log  VRM_ADJ_RAIL_log  \\\n",
       "Akron, OH Metro Area-Bus 2002        15.208377               0.0   \n",
       "                         2003        15.195930               0.0   \n",
       "                         2004        15.277699               0.0   \n",
       "                         2005        15.214971               0.0   \n",
       "                         2006        15.200501               0.0   \n",
       "\n",
       "                               FARE_per_UPT_2018_log  POP_EMP_log  \\\n",
       "Akron, OH Metro Area-Bus 2002               0.148254    13.808216   \n",
       "                         2003               0.462904    13.823451   \n",
       "                         2004               0.414204    13.839439   \n",
       "                         2005               0.460804    13.857195   \n",
       "                         2006               0.462420    13.879496   \n",
       "\n",
       "                               GAS_PRICE_2018_log  \\\n",
       "Akron, OH Metro Area-Bus 2002            1.066089   \n",
       "                         2003            1.138954   \n",
       "                         2004            1.233697   \n",
       "                         2005            1.361617   \n",
       "                         2006            1.429114   \n",
       "\n",
       "                               TOTAL_MED_INC_INDIV_2018_log  PCT_HH_NO_VEH  \\\n",
       "Akron, OH Metro Area-Bus 2002                     10.479210           8.60   \n",
       "                         2003                     10.446267           8.20   \n",
       "                         2004                     10.403980           7.79   \n",
       "                         2005                     10.365663           7.47   \n",
       "                         2006                     10.305856           6.85   \n",
       "\n",
       "                               TSD_POP_PCT  JTW_HOME_PCT  YEARS_SINCE_TNC_BUS  \\\n",
       "Akron, OH Metro Area-Bus 2002    18.525984           3.1                  0.0   \n",
       "                         2003    18.076969           3.1                  0.0   \n",
       "                         2004    17.637662           3.1                  0.0   \n",
       "                         2005    17.243546           3.1                  0.0   \n",
       "                         2006    16.754287           2.5                  0.0   \n",
       "\n",
       "                               scooter_flag   effects  residual  \n",
       "Akron, OH Metro Area-Bus 2002           0.0  0.237028 -0.133159  \n",
       "                         2003           0.0  0.237028 -0.002739  \n",
       "                         2004           0.0  0.237028 -0.031946  \n",
       "                         2005           0.0  0.237028  0.018335  \n",
       "                         2006           0.0  0.237028  0.002517  "
      ]
     },
     "execution_count": 68,
     "metadata": {},
     "output_type": "execute_result"
    }
   ],
   "source": [
    "app_data.head()"
   ]
  },
  {
   "cell_type": "code",
   "execution_count": 69,
   "metadata": {
    "collapsed": true
   },
   "outputs": [],
   "source": [
    "# calculate the fitted values\n",
    "app_data['fitted'] = app_data['effects']\n",
    "for var in res.params.keys(): \n",
    "    app_data['fitted'] = app_data['fitted'] + (res.params[var] * app_data[var])\n",
    "\n",
    "# and check that we add up correctly\n",
    "app_data['check_fitted'] = app_data['fitted'] + app_data['residual'] - app_data['UPT_ADJ_log']"
   ]
  },
  {
   "cell_type": "code",
   "execution_count": 70,
   "metadata": {
    "collapsed": true
   },
   "outputs": [],
   "source": [
    "# create the necessary columns\n",
    "\n",
    "# dependents\n",
    "app_data['UPT_ADJ']    = np.exp(app_data['UPT_ADJ_log']) - 1\n",
    "app_data['fitted_exp'] = np.exp(app_data['fitted']) - 1\n",
    "\n",
    "# linear versions of logged variables\n",
    "for var in res.params.keys(): \n",
    "    if '_log' in var: \n",
    "        app_data[var.replace('_log', '')] = np.exp(app_data[var]) - 1              \n",
    "\n",
    "# ratios and differences\n",
    "for var in res.params.keys(): \n",
    "    if '_log' in var: \n",
    "        app_data[var.replace('_log', '_ratio')] = 1\n",
    "    else: \n",
    "        app_data[var+'_diff'] = 0\n",
    "\n",
    "# FAC multipliers\n",
    "for var in res.params.keys(): \n",
    "    app_data[var+'_FAC_ratio'] = 1\n",
    "\n",
    "app_data['UPT_ADJ_base'] = 0\n",
    "app_data['UPT_ADJ_ratio'] = 1\n",
    "app_data['fitted_exp_ratio'] = 1\n",
    "app_data['UPT_ADJ_diff'] = 0\n",
    "app_data['fitted_exp_diff'] = 0\n",
    "\n",
    "# for tracking new systems\n",
    "app_data['UPT_ADJ_first_year'] = 0\n",
    "app_data['UPT_ADJ_new_reporter'] = 0\n"
   ]
  },
  {
   "cell_type": "code",
   "execution_count": 71,
   "metadata": {
    "collapsed": true
   },
   "outputs": [],
   "source": [
    "# get the ridership in the first year the system starts. This allows us to track new systems. \n",
    "# calculate the FAC relative to a specific base year\n",
    "ids = app_data.index.get_level_values(0).unique()\n",
    "\n",
    "for id in ids: \n",
    "    years = app_data.loc[id].index.get_level_values(0).sort_values()\n",
    "    first_year = years[0]\n",
    "\n",
    "    app_data.loc[(id,first_year),'UPT_ADJ_new_reporter'] = app_data.loc[(id,first_year),'UPT_ADJ']\n",
    "    \n",
    "    for year in years: \n",
    "        app_data.loc[(id,year),'UPT_ADJ_first_year']   = app_data.loc[(id,first_year),'UPT_ADJ']\n"
   ]
  },
  {
   "cell_type": "code",
   "execution_count": 72,
   "metadata": {
    "collapsed": false
   },
   "outputs": [
    {
     "name": "stderr",
     "output_type": "stream",
     "text": [
      "C:\\Program Files\\Anaconda3\\lib\\site-packages\\ipykernel\\__main__.py:15: RuntimeWarning: invalid value encountered in double_scalars\n"
     ]
    }
   ],
   "source": [
    "# calculate the FAC relative to a specific base year\n",
    "ids = app_data.index.get_level_values(0).unique()\n",
    "\n",
    "for id in ids: \n",
    "    years = app_data.loc[id].index.get_level_values(0).sort_values()\n",
    "\n",
    "    for year in years[1:]:       \n",
    "        base_year = year-1\n",
    "        \n",
    "        for var in res.params.keys(): \n",
    "            # ratios and differences\n",
    "            if '_log' in var: \n",
    "                out_var = var.replace('_log', '_ratio')\n",
    "                app_data.loc[(id,year), out_var] = (app_data.loc[(id,year), var] \n",
    "                                                 / app_data.loc[(id,base_year), var])\n",
    "            else: \n",
    "                out_var = var+'_diff'                    \n",
    "                app_data.loc[(id,year), out_var] = (app_data.loc[(id,year), var] \n",
    "                                                 - app_data.loc[(id,base_year), var])\n",
    "\n",
    "            # FAC multipliers\n",
    "            app_data.loc[(id,year),var+'_FAC_ratio'] = np.exp(res.params[var] * (\n",
    "                                                    app_data.loc[(id,year), var] \n",
    "                                                    - app_data.loc[(id,base_year), var]))\n",
    "\n",
    "            # estimated effects (if time effects is zero, no change)\n",
    "            app_data.loc[(id,year),'effects_FAC_ratio'] = np.exp(\n",
    "                                                    app_data.loc[(id,year), 'effects'] \n",
    "                                                    - app_data.loc[(id,base_year), 'effects'])\n",
    "\n",
    "            # residual\n",
    "            app_data.loc[(id,year),'residual_FAC_ratio'] = np.exp(\n",
    "                                                    app_data.loc[(id,year), 'residual'] \n",
    "                                                    - app_data.loc[(id,base_year), 'residual'])\n",
    "\n",
    "        # observed and fitted changes            \n",
    "        app_data.loc[(id,year),'UPT_ADJ_base'] = app_data.loc[(id,base_year),'UPT_ADJ']\n",
    "        app_data.loc[(id,year),'UPT_ADJ_ratio'] = (app_data.loc[(id,year),'UPT_ADJ'] \n",
    "                                                 / app_data.loc[(id,base_year),'UPT_ADJ'])\n",
    "        app_data.loc[(id,year),'fitted_exp_ratio'] = (app_data.loc[(id,year),'fitted_exp'] \n",
    "                                                 / app_data.loc[(id,base_year),'fitted_exp'])\n",
    "\n",
    "        app_data.loc[(id,year),'UPT_ADJ_diff'] = (app_data.loc[(id,year),'UPT_ADJ'] \n",
    "                                                 - app_data.loc[(id,base_year),'UPT_ADJ'])\n",
    "        app_data.loc[(id,year),'fitted_exp_diff'] = (app_data.loc[(id,year),'fitted_exp'] \n",
    "                                                 - app_data.loc[(id,base_year),'fitted_exp'])\n",
    "        "
   ]
  },
  {
   "cell_type": "code",
   "execution_count": 73,
   "metadata": {
    "collapsed": true
   },
   "outputs": [],
   "source": [
    "# calculate the FAC\n",
    "app_data['FAC_Sum'] = 0\n",
    "for var in res.params.keys(): \n",
    "    app_data[var+'_FAC'] = (app_data[var+'_FAC_ratio'] - 1) * app_data['UPT_ADJ_base']\n",
    "    app_data['FAC_Sum'] = app_data['FAC_Sum'] + app_data[var+'_FAC']\n"
   ]
  },
  {
   "cell_type": "code",
   "execution_count": 74,
   "metadata": {
    "collapsed": true
   },
   "outputs": [],
   "source": [
    "\n",
    "# total FAC is based on the fitted model (applied multiplicitively)\n",
    "app_data['Known_FAC'] = (app_data['fitted_exp_ratio'] - 1) * app_data['UPT_ADJ_base']\n",
    "\n",
    "# uknown change is the difference between the observed change and the known change\n",
    "app_data['Unknown_FAC'] = app_data['UPT_ADJ_diff'] - app_data['Known_FAC']\n",
    "\n",
    "# the change in ridership associated new systems\n",
    "app_data['New_Reporter_FAC'] = app_data['UPT_ADJ_new_reporter'] \n",
    "\n",
    "# should be teh same as UPT_ADJ_DIFF\n",
    "app_data['Total_Change'] = app_data['Known_FAC'] + app_data['Unknown_FAC'] + app_data['New_Reporter_FAC']\n"
   ]
  },
  {
   "cell_type": "code",
   "execution_count": 75,
   "metadata": {
    "collapsed": true
   },
   "outputs": [],
   "source": [
    "# calculate APTA - 4 groups\n",
    "app_data['CLUSTER_APTA4'] = np.floor(app_data['CLUSTER_APTA']/10)"
   ]
  },
  {
   "cell_type": "code",
   "execution_count": 76,
   "metadata": {
    "collapsed": true
   },
   "outputs": [],
   "source": [
    "# reset the index so I get ID and year\n",
    "app_data = app_data.reset_index()\n",
    "app_data = app_data.rename(columns={'level_0' : 'ID', 'level_1' : 'Year'})\n",
    "app_data.to_csv('FAC.csv')"
   ]
  },
  {
   "cell_type": "code",
   "execution_count": 81,
   "metadata": {
    "collapsed": true
   },
   "outputs": [],
   "source": [
    "# these are the fields we keep\n",
    "out_fields = ['ID', 'Year', 'RAIL_FLAG', \n",
    "              'CLUSTER_APTA', 'CLUSTER_APTA4',    \n",
    "              'UPT_ADJ_first_year', \n",
    "              'UPT_ADJ_base', 'UPT_ADJ', 'UPT_ADJ_diff', \n",
    "              'fitted_exp', 'fitted_exp_diff']\n",
    "\n",
    "# exogenous variables \n",
    "for var in res.params.keys(): \n",
    "    out_var = var.replace('_log', '')\n",
    "    out_fields = out_fields + [out_var]\n",
    "    \n",
    "# FAC\n",
    "for var in res.params.keys(): \n",
    "    out_fields = out_fields + [var+'_FAC']\n",
    "out_fields = out_fields + ['FAC_Sum', 'Known_FAC', 'Unknown_FAC', 'New_Reporter_FAC', 'Total_Change']\n",
    "    \n",
    "# keep those fields\n",
    "summary_data = app_data.reset_index()[out_fields]"
   ]
  },
  {
   "cell_type": "code",
   "execution_count": null,
   "metadata": {
    "collapsed": true
   },
   "outputs": [],
   "source": []
  },
  {
   "cell_type": "code",
   "execution_count": 82,
   "metadata": {
    "collapsed": true
   },
   "outputs": [],
   "source": [
    "# take weighted average of exogenous variables\n",
    "for var in res.params.keys(): \n",
    "    out_var = var.replace('_log', '')\n",
    "    summary_data[out_var] = summary_data[out_var] * summary_data['UPT_ADJ_first_year']\n",
    "\n",
    "# aggregate to bus/rail totals\n",
    "summary_data_apta4 = summary_data.groupby(by=['CLUSTER_APTA4', 'RAIL_FLAG', 'Year']).agg('sum')\n",
    "\n",
    "# divide for weighted averages\n",
    "for var in res.params.keys(): \n",
    "    out_var = var.replace('_log', '')\n",
    "    summary_data_apta4[out_var] = summary_data_apta4[out_var] / summary_data_apta4['UPT_ADJ_first_year']\n",
    "    "
   ]
  },
  {
   "cell_type": "code",
   "execution_count": 83,
   "metadata": {
    "collapsed": true
   },
   "outputs": [],
   "source": [
    "\n",
    "summary_data_apta4.to_csv('FAC_totals_APTA4_CLUSTERS.csv')\n"
   ]
  },
  {
   "cell_type": "code",
   "execution_count": null,
   "metadata": {
    "collapsed": true
   },
   "outputs": [],
   "source": []
  },
  {
   "cell_type": "code",
   "execution_count": null,
   "metadata": {
    "collapsed": true
   },
   "outputs": [],
   "source": []
  }
 ],
 "metadata": {
  "anaconda-cloud": {},
  "kernelspec": {
   "display_name": "Python [default]",
   "language": "python",
   "name": "python3"
  },
  "language_info": {
   "codemirror_mode": {
    "name": "ipython",
    "version": 3
   },
   "file_extension": ".py",
   "mimetype": "text/x-python",
   "name": "python",
   "nbconvert_exporter": "python",
   "pygments_lexer": "ipython3",
   "version": "3.5.6"
  }
 },
 "nbformat": 4,
 "nbformat_minor": 1
}
