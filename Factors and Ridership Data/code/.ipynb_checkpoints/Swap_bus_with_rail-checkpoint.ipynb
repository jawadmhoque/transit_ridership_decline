{
 "cells": [
  {
   "cell_type": "code",
   "execution_count": 12,
   "metadata": {},
   "outputs": [],
   "source": [
    "import os.path\n",
    "import matplotlib.pyplot as plt\n",
    "import numpy as np\n",
    "import pandas as pd\n",
    "\n",
    "# Provide paths to the respective folders\n",
    "script_folder = r'D:\\UoK\\OneDrive - University of Kentucky\\github\\Transit_ridership\\transit_ridership_decline\\Factors and Ridership Data\\code'\n",
    "load_data = r'D:\\UoK\\OneDrive - University of Kentucky\\github\\Transit_ridership\\transit_ridership_decline\\Factors and Ridership Data\\Estimation_File'\n",
    "output_folder = r'D:\\UoK\\OneDrive - University of Kentucky\\github\\Transit_ridership\\transit_ridership_decline\\Factors and Ridership Data\\Script Outputs'\n",
    "folder_path = ''\n",
    "file_name = ''\n",
    "sFoldername = \"\""
   ]
  },
  {
   "cell_type": "code",
   "execution_count": 13,
   "metadata": {},
   "outputs": [],
   "source": [
    "os.chdir(load_data)\n",
    "df = pd.read_csv('testing-data.csv')\n",
    "df_copy = df.copy()"
   ]
  },
  {
   "cell_type": "code",
   "execution_count": 16,
   "metadata": {},
   "outputs": [
    {
     "data": {
      "text/html": [
       "<div>\n",
       "<style scoped>\n",
       "    .dataframe tbody tr th:only-of-type {\n",
       "        vertical-align: middle;\n",
       "    }\n",
       "\n",
       "    .dataframe tbody tr th {\n",
       "        vertical-align: top;\n",
       "    }\n",
       "\n",
       "    .dataframe thead th {\n",
       "        text-align: right;\n",
       "    }\n",
       "</style>\n",
       "<table border=\"1\" class=\"dataframe\">\n",
       "  <thead>\n",
       "    <tr style=\"text-align: right;\">\n",
       "      <th></th>\n",
       "      <th>CLUSTER_APTA</th>\n",
       "      <th>Mode</th>\n",
       "      <th>Year</th>\n",
       "      <th>UPT</th>\n",
       "      <th>VRM</th>\n",
       "      <th>UPT_ADJ</th>\n",
       "      <th>VRM_ADJ</th>\n",
       "      <th>VRH_ADJ</th>\n",
       "      <th>FARE_ADJ</th>\n",
       "      <th>FARE_per_UPT</th>\n",
       "      <th>...</th>\n",
       "      <th>dockCt_LAGGED_2</th>\n",
       "      <th>dockCt_LAGGED_3</th>\n",
       "      <th>docklessCt_LAGGED_1</th>\n",
       "      <th>docklessCt_LAGGED_2</th>\n",
       "      <th>docklessCt_LAGGED_3</th>\n",
       "      <th>scooterCt_LAGGED_1</th>\n",
       "      <th>scooterCt_LAGGED_2</th>\n",
       "      <th>scooterCt_LAGGED_3</th>\n",
       "      <th>TNC_FLAG_LAGGED_4</th>\n",
       "      <th>TNC_FLAG_LAGGED_5</th>\n",
       "    </tr>\n",
       "  </thead>\n",
       "  <tbody>\n",
       "  </tbody>\n",
       "</table>\n",
       "<p>0 rows × 158 columns</p>\n",
       "</div>"
      ],
      "text/plain": [
       "Empty DataFrame\n",
       "Columns: [CLUSTER_APTA, Mode, Year, UPT, VRM, UPT_ADJ, VRM_ADJ, VRH_ADJ, FARE_ADJ, FARE_per_UPT, FARE_ADJ_ORIGINAL, AREALANDPT, Tot_Pop, Tot_Instate_Pop, Tot_Outstate_Pop, Tot_NonUSA_POP, Total_Median_Income_Individual, Native_Instate_Med_Inc_Indiv, Native_Outstate_Med_Inc_Indiv, Total_Pop_Poverty, Pop_Below100_Poverty, Pop_Below150_Poverty, Pop_Above150_Poverty, Age_under18, Age_18to64, Age_over64, Total_HH, HH_0Veh, HH_1Veh, HH_2Veh, HH_3Veh, HH_4+Veh, PCT_HH_NO_VEH, HH_MED_INC, HH_MEAN_INC, INC_U35, INC_35_100, INC_100P, TOT_UNEMP_MSA, TOT_EMP_MSA, TOT_LABOR_MSA, UNEMP_RATE_PCT, EMP_RATE_PCT, GasPrice, Area_acre, POP_CENSUSTRACT, AVG_SPEED, 2018_Dollar_Multiplier, TNC_ARRIVAL, TNC_FLAG, YEARS_SINCE_TNC, FARE_ADJ_2018, TOTAL_MED_INC_INDIV_2018, NATIVE_INSTATE_MED_INC_2018, NATIVE_OUTSTATE_MED_INC_2018, HH_MED_INC_2018, HH_MEAN_INC_2018, GAS_PRICE_2018, FARE_per_UPT_2018, dockCt, docklessCt, scooterCt, PBS_Start, PBS_End, PBS_Flag, walkscore, transit, bike, Bus_UPT_ADJ, Bus_UPT_ADJ_diff, Bus_UPT_ADJ_log, PCT_Bus_UPT_ADJ_rel_diff, Bus_UPT_ADJ_scale, Bus_VRM_ADJ, Bus_VRM_ADJ_diff, Bus_VRM_ADJ_log, PCT_Bus_VRM_ADJ_rel_diff, Bus_VRM_ADJ_scale, Bus_VRH_ADJ, Bus_VRH_ADJ_diff, Bus_VRH_ADJ_log, PCT_Bus_VRH_ADJ_rel_diff, Bus_VRH_ADJ_scale, Bus_FARE_TOTAL, Bus_FARE_TOTAL_diff, Bus_FARE_TOTAL_log, PCT_Bus_FARE_TOTAL_rel_diff, Bus_FARE_TOTAL_scale, Bus_FARE_per_UPT_2018, Bus_FARE_per_UPT_2018_diff, Bus_FARE_per_UPT_2018_log, PCT_Bus_FARE_per_UPT_2018_rel_diff, Bus_FARE_per_UPT_2018_scale, Bus_AVG_SPEED, Bus_AVG_SPEED_diff, Bus_AVG_SPEED_log, PCT_Bus_AVG_SPEED_rel_diff, Bus_AVG_SPEED_scale, Rail_UPT_ADJ, Rail_UPT_ADJ_diff, ...]\n",
       "Index: []\n",
       "\n",
       "[0 rows x 158 columns]"
      ]
     },
     "execution_count": 16,
     "metadata": {},
     "output_type": "execute_result"
    }
   ],
   "source": [
    "clusters = df['CLUSTER_APTA'].unique()\n",
    "modes = df['Mode'].unique()\n",
    "years = df['Year'].unique()\n",
    "\n",
    "clustercolumn = 'CLUSTER_APTA'\n",
    "df_fltr = pd.DataFrame()\n",
    "for cluster in clusters:\n",
    "    df_fltr = df[df[clustercolumn] == cluster]\n",
    "    for year in years:\n",
    "        df_fltr = df_fltr[df_fltr.Year == year]\n",
    "        \n",
    "\n",
    "df_fltr"
   ]
  },
  {
   "cell_type": "code",
   "execution_count": 11,
   "metadata": {},
   "outputs": [
    {
     "ename": "IndexError",
     "evalue": "single positional indexer is out-of-bounds",
     "output_type": "error",
     "traceback": [
      "\u001b[1;31m---------------------------------------------------------------------------\u001b[0m",
      "\u001b[1;31mIndexError\u001b[0m                                Traceback (most recent call last)",
      "\u001b[1;32m<ipython-input-11-2d9ce7ea0a1e>\u001b[0m in \u001b[0;36m<module>\u001b[1;34m\u001b[0m\n\u001b[0;32m     19\u001b[0m \u001b[1;33m\u001b[0m\u001b[0m\n\u001b[0;32m     20\u001b[0m \u001b[1;33m\u001b[0m\u001b[0m\n\u001b[1;32m---> 21\u001b[1;33m         \u001b[0mtemp\u001b[0m \u001b[1;33m=\u001b[0m \u001b[0mdf_fltr_2_mode\u001b[0m\u001b[1;33m.\u001b[0m\u001b[0miloc\u001b[0m\u001b[1;33m[\u001b[0m\u001b[1;36m5\u001b[0m\u001b[1;33m]\u001b[0m\u001b[1;33m\u001b[0m\u001b[1;33m\u001b[0m\u001b[0m\n\u001b[0m\u001b[0;32m     22\u001b[0m         \u001b[0mdf_fltr_2_mode\u001b[0m\u001b[1;33m.\u001b[0m\u001b[0miloc\u001b[0m\u001b[1;33m[\u001b[0m\u001b[1;36m5\u001b[0m\u001b[1;33m]\u001b[0m \u001b[1;33m=\u001b[0m \u001b[0mdf_fltr_1_mode\u001b[0m\u001b[1;33m.\u001b[0m\u001b[0miloc\u001b[0m\u001b[1;33m[\u001b[0m\u001b[1;36m5\u001b[0m\u001b[1;33m]\u001b[0m\u001b[1;33m\u001b[0m\u001b[1;33m\u001b[0m\u001b[0m\n\u001b[0;32m     23\u001b[0m         \u001b[0mdf_fltr_1_mode\u001b[0m\u001b[1;33m.\u001b[0m\u001b[0miloc\u001b[0m\u001b[1;33m[\u001b[0m\u001b[1;36m5\u001b[0m\u001b[1;33m]\u001b[0m \u001b[1;33m=\u001b[0m \u001b[0mtemp\u001b[0m\u001b[1;33m\u001b[0m\u001b[1;33m\u001b[0m\u001b[0m\n",
      "\u001b[1;32mC:\\ProgramData\\Anaconda3\\lib\\site-packages\\pandas\\core\\indexing.py\u001b[0m in \u001b[0;36m__getitem__\u001b[1;34m(self, key)\u001b[0m\n\u001b[0;32m   1422\u001b[0m \u001b[1;33m\u001b[0m\u001b[0m\n\u001b[0;32m   1423\u001b[0m             \u001b[0mmaybe_callable\u001b[0m \u001b[1;33m=\u001b[0m \u001b[0mcom\u001b[0m\u001b[1;33m.\u001b[0m\u001b[0mapply_if_callable\u001b[0m\u001b[1;33m(\u001b[0m\u001b[0mkey\u001b[0m\u001b[1;33m,\u001b[0m \u001b[0mself\u001b[0m\u001b[1;33m.\u001b[0m\u001b[0mobj\u001b[0m\u001b[1;33m)\u001b[0m\u001b[1;33m\u001b[0m\u001b[1;33m\u001b[0m\u001b[0m\n\u001b[1;32m-> 1424\u001b[1;33m             \u001b[1;32mreturn\u001b[0m \u001b[0mself\u001b[0m\u001b[1;33m.\u001b[0m\u001b[0m_getitem_axis\u001b[0m\u001b[1;33m(\u001b[0m\u001b[0mmaybe_callable\u001b[0m\u001b[1;33m,\u001b[0m \u001b[0maxis\u001b[0m\u001b[1;33m=\u001b[0m\u001b[0maxis\u001b[0m\u001b[1;33m)\u001b[0m\u001b[1;33m\u001b[0m\u001b[1;33m\u001b[0m\u001b[0m\n\u001b[0m\u001b[0;32m   1425\u001b[0m \u001b[1;33m\u001b[0m\u001b[0m\n\u001b[0;32m   1426\u001b[0m     \u001b[1;32mdef\u001b[0m \u001b[0m_is_scalar_access\u001b[0m\u001b[1;33m(\u001b[0m\u001b[0mself\u001b[0m\u001b[1;33m,\u001b[0m \u001b[0mkey\u001b[0m\u001b[1;33m:\u001b[0m \u001b[0mTuple\u001b[0m\u001b[1;33m)\u001b[0m\u001b[1;33m:\u001b[0m\u001b[1;33m\u001b[0m\u001b[1;33m\u001b[0m\u001b[0m\n",
      "\u001b[1;32mC:\\ProgramData\\Anaconda3\\lib\\site-packages\\pandas\\core\\indexing.py\u001b[0m in \u001b[0;36m_getitem_axis\u001b[1;34m(self, key, axis)\u001b[0m\n\u001b[0;32m   2155\u001b[0m \u001b[1;33m\u001b[0m\u001b[0m\n\u001b[0;32m   2156\u001b[0m             \u001b[1;31m# validate the location\u001b[0m\u001b[1;33m\u001b[0m\u001b[1;33m\u001b[0m\u001b[1;33m\u001b[0m\u001b[0m\n\u001b[1;32m-> 2157\u001b[1;33m             \u001b[0mself\u001b[0m\u001b[1;33m.\u001b[0m\u001b[0m_validate_integer\u001b[0m\u001b[1;33m(\u001b[0m\u001b[0mkey\u001b[0m\u001b[1;33m,\u001b[0m \u001b[0maxis\u001b[0m\u001b[1;33m)\u001b[0m\u001b[1;33m\u001b[0m\u001b[1;33m\u001b[0m\u001b[0m\n\u001b[0m\u001b[0;32m   2158\u001b[0m \u001b[1;33m\u001b[0m\u001b[0m\n\u001b[0;32m   2159\u001b[0m             \u001b[1;32mreturn\u001b[0m \u001b[0mself\u001b[0m\u001b[1;33m.\u001b[0m\u001b[0m_get_loc\u001b[0m\u001b[1;33m(\u001b[0m\u001b[0mkey\u001b[0m\u001b[1;33m,\u001b[0m \u001b[0maxis\u001b[0m\u001b[1;33m=\u001b[0m\u001b[0maxis\u001b[0m\u001b[1;33m)\u001b[0m\u001b[1;33m\u001b[0m\u001b[1;33m\u001b[0m\u001b[0m\n",
      "\u001b[1;32mC:\\ProgramData\\Anaconda3\\lib\\site-packages\\pandas\\core\\indexing.py\u001b[0m in \u001b[0;36m_validate_integer\u001b[1;34m(self, key, axis)\u001b[0m\n\u001b[0;32m   2086\u001b[0m         \u001b[0mlen_axis\u001b[0m \u001b[1;33m=\u001b[0m \u001b[0mlen\u001b[0m\u001b[1;33m(\u001b[0m\u001b[0mself\u001b[0m\u001b[1;33m.\u001b[0m\u001b[0mobj\u001b[0m\u001b[1;33m.\u001b[0m\u001b[0m_get_axis\u001b[0m\u001b[1;33m(\u001b[0m\u001b[0maxis\u001b[0m\u001b[1;33m)\u001b[0m\u001b[1;33m)\u001b[0m\u001b[1;33m\u001b[0m\u001b[1;33m\u001b[0m\u001b[0m\n\u001b[0;32m   2087\u001b[0m         \u001b[1;32mif\u001b[0m \u001b[0mkey\u001b[0m \u001b[1;33m>=\u001b[0m \u001b[0mlen_axis\u001b[0m \u001b[1;32mor\u001b[0m \u001b[0mkey\u001b[0m \u001b[1;33m<\u001b[0m \u001b[1;33m-\u001b[0m\u001b[0mlen_axis\u001b[0m\u001b[1;33m:\u001b[0m\u001b[1;33m\u001b[0m\u001b[1;33m\u001b[0m\u001b[0m\n\u001b[1;32m-> 2088\u001b[1;33m             \u001b[1;32mraise\u001b[0m \u001b[0mIndexError\u001b[0m\u001b[1;33m(\u001b[0m\u001b[1;34m\"single positional indexer is out-of-bounds\"\u001b[0m\u001b[1;33m)\u001b[0m\u001b[1;33m\u001b[0m\u001b[1;33m\u001b[0m\u001b[0m\n\u001b[0m\u001b[0;32m   2089\u001b[0m \u001b[1;33m\u001b[0m\u001b[0m\n\u001b[0;32m   2090\u001b[0m     \u001b[1;32mdef\u001b[0m \u001b[0m_getitem_tuple\u001b[0m\u001b[1;33m(\u001b[0m\u001b[0mself\u001b[0m\u001b[1;33m,\u001b[0m \u001b[0mtup\u001b[0m\u001b[1;33m)\u001b[0m\u001b[1;33m:\u001b[0m\u001b[1;33m\u001b[0m\u001b[1;33m\u001b[0m\u001b[0m\n",
      "\u001b[1;31mIndexError\u001b[0m: single positional indexer is out-of-bounds"
     ]
    }
   ],
   "source": [
    "clusters = df['CLUSTER_APTA'].unique()\n",
    "modes = df['Mode'].unique()\n",
    "years = df['Year'].unique()\n",
    "\n",
    "clustercolumn = 'CLUSTER_APTA'\n",
    "\n",
    "for cluster in clusters:\n",
    "    df_fltr_2 = df_copy[df_copy[clustercolumn] == cluster]\n",
    "    df_fltr_1 = df[df[clustercolumn] == cluster]\n",
    "    for year in years:\n",
    "        df_fltr_2_year = df_fltr_2[df_fltr_2.Year == year]\n",
    "        df_fltr_1_year = df_fltr_1[df_fltr_1.Year == year]\n",
    "    for mode in modes:      \n",
    "        df_fltr_2_mode = df_fltr_2_year[df_fltr_2_year.Mode == mode]\n",
    "        if mode is \"Rail\":\n",
    "            df_fltr_1_mode = df_fltr_1_year[df_fltr_1_year.Mode == \"Bus\"]\n",
    "        if mode is \"Bus\":\n",
    "            df_fltr_1_mode = df_fltr_1_year[df_fltr_1_year.Mode == \"Rail\"]\n",
    "            \n",
    "        \n",
    "        temp = df_fltr_2_mode.iloc[5]\n",
    "        df_fltr_2_mode.iloc[5] = df_fltr_1_mode.iloc[5]\n",
    "        df_fltr_1_mode.iloc[5] = temp"
   ]
  },
  {
   "cell_type": "code",
   "execution_count": null,
   "metadata": {},
   "outputs": [],
   "source": []
  },
  {
   "cell_type": "code",
   "execution_count": null,
   "metadata": {},
   "outputs": [],
   "source": [
    "df_fltr_1_mode"
   ]
  },
  {
   "cell_type": "code",
   "execution_count": null,
   "metadata": {},
   "outputs": [],
   "source": [
    "df_fltr_2_mode"
   ]
  },
  {
   "cell_type": "code",
   "execution_count": 9,
   "metadata": {},
   "outputs": [
    {
     "data": {
      "text/html": [
       "<div>\n",
       "<style scoped>\n",
       "    .dataframe tbody tr th:only-of-type {\n",
       "        vertical-align: middle;\n",
       "    }\n",
       "\n",
       "    .dataframe tbody tr th {\n",
       "        vertical-align: top;\n",
       "    }\n",
       "\n",
       "    .dataframe thead th {\n",
       "        text-align: right;\n",
       "    }\n",
       "</style>\n",
       "<table border=\"1\" class=\"dataframe\">\n",
       "  <thead>\n",
       "    <tr style=\"text-align: right;\">\n",
       "      <th></th>\n",
       "      <th>Parameters</th>\n",
       "      <th>Values</th>\n",
       "    </tr>\n",
       "  </thead>\n",
       "  <tbody>\n",
       "  </tbody>\n",
       "</table>\n",
       "</div>"
      ],
      "text/plain": [
       "Empty DataFrame\n",
       "Columns: [Parameters, Values]\n",
       "Index: []"
      ]
     },
     "execution_count": 9,
     "metadata": {},
     "output_type": "execute_result"
    }
   ],
   "source": [
    "# x = 9\n",
    "# df1 = pd.DataFrame(columns=['Parameters', 'Values'])\n",
    "# df2=pd.DataFrame(columns=['Parameters', 'Values'])\n",
    "# df2['Values'].iloc[x-1:], df1['Values'].iloc[x-1:] = df1['Values'].iloc[x-1:].copy(), df2['Values'].iloc[x-1:].copy()\n",
    "# df1\n",
    "# df2\n",
    "\n",
    "# x = 4\n",
    "# df2['Values'].iloc[x-1:], df1['Values'].iloc[x-1:] = df1['Values'].iloc[x-1:].copy(), df2['Values'].iloc[x-1:].copy()"
   ]
  }
 ],
 "metadata": {
  "kernelspec": {
   "display_name": "Python 3",
   "language": "python",
   "name": "python3"
  },
  "language_info": {
   "codemirror_mode": {
    "name": "ipython",
    "version": 3
   },
   "file_extension": ".py",
   "mimetype": "text/x-python",
   "name": "python",
   "nbconvert_exporter": "python",
   "pygments_lexer": "ipython3",
   "version": "3.7.3"
  }
 },
 "nbformat": 4,
 "nbformat_minor": 2
}
