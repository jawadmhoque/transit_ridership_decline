{
 "cells": [
  {
   "cell_type": "code",
   "execution_count": 1,
   "metadata": {
    "pycharm": {
     "is_executing": false
    }
   },
   "outputs": [],
   "source": [
    "import os.path\n",
    "import matplotlib.pyplot as plt\n",
    "import numpy as np\n",
    "import pandas as pd\n",
    "\n",
    "# Provide paths to the respective folders\n",
    "script_folder = r'D:\\UoK\\OneDrive - University of Kentucky\\github\\Transit_ridership\\transit_ridership_decline\\Factors and Ridership Data\\code'\n",
    "load_data = r'D:\\UoK\\OneDrive - University of Kentucky\\github\\Transit_ridership\\transit_ridership_decline\\Factors and Ridership Data\\Estimation_File'\n",
    "output_folder = r'D:\\UoK\\OneDrive - University of Kentucky\\github\\Transit_ridership\\transit_ridership_decline\\Factors and Ridership Data\\Script Outputs'\n",
    "folder_path = ''\n",
    "file_name = ''\n",
    "sFoldername = \"\""
   ]
  },
  {
   "cell_type": "code",
   "execution_count": 2,
   "metadata": {
    "pycharm": {
     "is_executing": false,
     "name": "#%%\n"
    }
   },
   "outputs": [],
   "source": [
    "def create_clusterwise_files():    \n",
    "    # read the basic estimation file    \n",
    "    os.chdir(load_data) \n",
    "    df = pd.read_csv('estimation_file.csv')\n",
    "    \n",
    "    # create cluster-wise files\n",
    "    df_cluster_gt = df.groupby(['CLUSTER_GT_NEW_11','Mode','Year']).sum().reset_index()\n",
    "    df_cluster_gt_grouped = df.groupby(['CLUSTER_GT_8_GROUPS','Mode','Year']).sum().reset_index()\n",
    "    df_cluster_apta = df.groupby(['CLUSTER_APTA','Mode','Year']).sum().reset_index()\n",
    "    # df_cluster_apta_grouped = df.groupby(['CLUSTER_APTA_GROUPED','Mode','Year']).sum().reset_index()\n",
    "    \n",
    "    os.chdir(os.path.join(output_folder, \"Clusterwise_data_charts\"))\n",
    "\n",
    "    df_cluster_gt.to_csv('CLUSTER_GT_NEW_11.csv')\n",
    "    df_cluster_gt_grouped.to_csv('CLUSTER_GT_8_GROUPS.csv')\n",
    "    df_cluster_apta.to_csv('CLUSTER_APTA.csv')\n",
    "    # df_cluster_apta_grouped.to_csv('CLUSTER_APTA_GROUPED.csv')"
   ]
  },
  {
   "cell_type": "code",
   "execution_count": 3,
   "metadata": {
    "pycharm": {
     "name": "#%%\n"
    }
   },
   "outputs": [],
   "source": [
    "def generate_charts(_dataset, _filename, _chartname, _foldername):\n",
    "    df = _dataset\n",
    "    file_name = _filename\n",
    "    clustercolumn = file_name\n",
    "    chartname = _chartname\n",
    "    foldername = _foldername\n",
    "    \n",
    "    sFoldername = output_folder + \"\\\\Clusterwise_data_charts\\\\Charts\\\\\"\n",
    "    \n",
    "    yrs = df['Year'].unique()\n",
    "    yrs.sort()\n",
    "    clusters = df[chartname].unique()\n",
    "    clusters.sort()\n",
    "    modes = df['Mode'].unique()\n",
    "    modes.sort()\n",
    "    \n",
    "    for cluster in clusters:\n",
    "        df_fltr = df[df[clustercolumn] == cluster]\n",
    "        # Print the cluster \n",
    "        col_index = df_fltr.columns.get_loc(clustercolumn)\n",
    "        cluster_code = str(df_fltr.iloc[0, col_index])\n",
    "        print('Cluster Code:' + str(cluster_code))\n",
    "        df_fltr['Year'] = pd.to_datetime(df_fltr['Year'].astype(str), format='%Y')\n",
    "        df_fltr_mod = df_fltr.set_index(pd.DatetimeIndex(df_fltr['Year']).year)        \n",
    "        # get number of sub-plots defined - 4*2 means 4 rows having 2 graphs (each sized 18x9) in each row = 8 graphs\n",
    "        fig, ax = plt.subplots(nrows=4, ncols=2, figsize=(18, 9))        \n",
    "        x = 1\n",
    "        for mode in modes:\n",
    "            df_fltr_mode = df_fltr_mod[df_fltr_mod.Mode == mode]\n",
    "\n",
    "            # Year vs Total_Population --> Graph (0,0)\n",
    "            df_fltr_mode.groupby('Mode').plot(x='Year', y='Tot_Pop', label=str(mode), ax=ax[0][0], legend=True)\n",
    "            ax[0][0].set(xlabel=\"Years\", ylabel='Tot Pop')\n",
    "            ax[0][0].legend(loc='best')\n",
    "\n",
    "            # Year vs POP_EMP_log_FAC_scaled --> Graph (1,0)\n",
    "            df_fltr_mode.groupby('Mode').plot(x='Year', y='PCT_HH_NO_VEH', label=str(mode), ax=ax[1][0], legend=True)\n",
    "            ax[1][0].set(xlabel=\"Years\", ylabel='PCT of HH with no veh.')\n",
    "            ax[1][0].legend(loc='best')\n",
    "\n",
    "            # Year vs Income levels --> Graph (2,0)\n",
    "            df_fltr_mode.groupby('Mode').plot(x='Year', y='INC_U35', label=str(mode), ax=ax[2][0], legend=True)\n",
    "            df_fltr_mode.groupby('Mode').plot(x='Year', y='INC_35_100', label=str(mode), ax=ax[2][0], legend=True)\n",
    "            df_fltr_mode.groupby('Mode').plot(x='Year', y='INC_100P', label=str(mode), ax=ax[2][0], legend=True)\n",
    "            ax[2][0].set(xlabel=\"Years\", ylabel='INC_Levels($)')\n",
    "            ax[2][0].legend(loc='best')\n",
    "\n",
    "            # Year vs Gas price (S) --> Graph (3,0)\n",
    "            df_fltr_mode.groupby('Mode').plot(x='Year', y='GAS_PRICE_2018', label=str(mode), ax=ax[3][0], legend=True)\n",
    "            ax[3][0].set(xlabel=\"Years\", ylabel='Gas price ($)')\n",
    "            ax[3][0].legend(loc='best')\n",
    "\n",
    "            label_upt_adj = str(mode)+\"_UPT_ADJ\"\n",
    "            label_upt_adj = str(mode)+\"_UPT_ADJ\"\n",
    "            label_avg_spd = str(mode)+\"_AVG_SPEED\"\n",
    "            label_fare = str(mode)+\"_FARE_per_UPT_2018\"\n",
    "            label_VRMs = str(mode)+\"_VRM_ADJ\"\n",
    "\n",
    "            # Year vs UPT_ADJ --> Graph (0,1)\n",
    "            df_fltr_mode.groupby('Mode').plot(x='Year', y=label_upt_adj, label=str(mode), ax=ax[0][1], legend=True)\n",
    "            ax[0][1].set(xlabel=\"Years\", ylabel='Ridership')\n",
    "            ax[0][1].legend(loc='best')\n",
    "\n",
    "             # Year vs FARE_per_UPT --> Graph (1,1)\n",
    "            df_fltr_mode.groupby('Mode').plot(x='Year', y=label_fare, label=str(mode), ax=ax[1][1], legend=True)\n",
    "            ax[1][1].set(xlabel=\"Years\", ylabel='Fare per UPT (S)')\n",
    "            ax[1][1].legend(loc='best')\n",
    "\n",
    "            # Year vs Avg speed --> Graph (2,1)\n",
    "            df_fltr_mode.groupby('Mode').plot(x='Year', y=label_avg_spd, label=str(mode), ax=ax[2][1], legend=True)\n",
    "            ax[2][1].set(xlabel=\"Years\", ylabel='Avg speed')\n",
    "            ax[2][1].legend(loc='best')   \n",
    "\n",
    "            # Year vs VRM_ADJ_log_FAC_scaled --> Graph (1,3)\n",
    "            df_fltr_mode.groupby('Mode').plot(x='Year', y=label_VRMs, label=str(mode), ax=ax[3][1], legend=True)\n",
    "            ax[3][1].set(xlabel=\"Years\", ylabel='VRMs')\n",
    "            ax[3][1].legend(loc='best')\n",
    "\n",
    "        fig.suptitle(('Cluster Code:' + str(cluster_code)),fontsize=14)\n",
    "        fig.tight_layout()\n",
    "        _figno = x\n",
    "\n",
    "        # code to let these file save in the specific folder\n",
    "        os.chdir(sFoldername)\n",
    "        # add folder name\n",
    "    #         save_folder = output_folder +'\\\\' + folder_path\n",
    "        os.path.join(sFoldername, folder_path)\n",
    "        if not os.path.exists(os.path.join(output_folder, folder_path)):\n",
    "            os.mkdir(folder_path)\n",
    "            print (folder_path + \": sucessfully created\")\n",
    "        else:\n",
    "            print (folder_path + \": already exists\")\n",
    "\n",
    "        mod = sFoldername + \"\\\\\" + str(folder_path)\n",
    "        os.chdir(mod)\n",
    "        fig.savefig((\"Fig \" + str(_figno) + \"-\" + cluster_code + \".png\"))\n",
    "        plt.suptitle(cluster_code,fontsize=14)\n",
    "        plt.close(fig)\n",
    "        x += 1"
   ]
  },
  {
   "cell_type": "code",
   "execution_count": 4,
   "metadata": {},
   "outputs": [
    {
     "name": "stderr",
     "output_type": "stream",
     "text": [
      "C:\\ProgramData\\Anaconda3\\lib\\site-packages\\IPython\\core\\interactiveshell.py:3326: DtypeWarning: Columns (143,152) have mixed types. Specify dtype option on import or set low_memory=False.\n",
      "  exec(code_obj, self.user_global_ns, self.user_ns)\n"
     ]
    },
    {
     "name": "stdout",
     "output_type": "stream",
     "text": [
      "Folder for CLUSTER_GT_NEW_11 : already exists\n",
      "Cluster Code:1\n"
     ]
    },
    {
     "name": "stderr",
     "output_type": "stream",
     "text": [
      "C:\\ProgramData\\Anaconda3\\lib\\site-packages\\ipykernel_launcher.py:23: SettingWithCopyWarning: \n",
      "A value is trying to be set on a copy of a slice from a DataFrame.\n",
      "Try using .loc[row_indexer,col_indexer] = value instead\n",
      "\n",
      "See the caveats in the documentation: http://pandas.pydata.org/pandas-docs/stable/user_guide/indexing.html#returning-a-view-versus-a-copy\n"
     ]
    },
    {
     "name": "stdout",
     "output_type": "stream",
     "text": [
      ": already exists\n",
      "Cluster Code:2\n",
      ": already exists\n",
      "Cluster Code:3\n",
      ": already exists\n",
      "Cluster Code:4\n",
      ": already exists\n",
      "Cluster Code:5\n",
      ": already exists\n",
      "Cluster Code:6\n",
      ": already exists\n",
      "Cluster Code:7\n",
      ": already exists\n",
      "Cluster Code:8\n",
      ": already exists\n",
      "Cluster Code:9\n",
      ": already exists\n",
      "Cluster Code:10\n",
      ": already exists\n",
      "Cluster Code:11\n",
      ": already exists\n",
      "Cluster Code:100\n",
      ": already exists\n",
      "Folder for CLUSTER_GT_8_GROUPS : already exists\n",
      "Cluster Code:100\n",
      ": already exists\n",
      "Cluster Code:A\n",
      ": already exists\n",
      "Cluster Code:B\n",
      ": already exists\n",
      "Cluster Code:C\n",
      ": already exists\n",
      "Cluster Code:D\n",
      ": already exists\n",
      "Cluster Code:E\n",
      ": already exists\n",
      "Cluster Code:F\n",
      ": already exists\n",
      "Cluster Code:G\n",
      ": already exists\n",
      "Cluster Code:H\n",
      ": already exists\n",
      "Folder for CLUSTER_APTA : already exists\n",
      "Cluster Code:10\n",
      ": already exists\n",
      "Cluster Code:21\n",
      ": already exists\n",
      "Cluster Code:22\n",
      ": already exists\n",
      "Cluster Code:23\n",
      ": already exists\n",
      "Cluster Code:24\n",
      ": already exists\n",
      "Cluster Code:31\n",
      ": already exists\n",
      "Cluster Code:32\n",
      ": already exists\n",
      "Cluster Code:33\n",
      ": already exists\n",
      "Cluster Code:34\n",
      ": already exists\n",
      "Cluster Code:100\n",
      ": already exists\n"
     ]
    }
   ],
   "source": [
    "def main():\n",
    "    create_clusterwise_files()\n",
    "    clusters = ['CLUSTER_GT_NEW_11', 'CLUSTER_GT_8_GROUPS','CLUSTER_APTA']\n",
    "    for cluster in clusters:\n",
    "        folder_path = str(cluster)\n",
    "        sFoldername = output_folder + \"\\Clusterwise_data_charts\\Charts\"\n",
    "        os.chdir(sFoldername)\n",
    "        if not os.path.exists(os.path.join(sFoldername,cluster)):                        \n",
    "            os.mkdir(cluster)\n",
    "            print (\"Folder for \" + cluster+\" : sucessfully created\")\n",
    "        else:\n",
    "            print (\"Folder for \" + cluster+\" : already exists\")\n",
    "        \n",
    "        os.chdir(os.path.join(output_folder, \"Clusterwise_data_charts\"))\n",
    "        df = pd.read_csv(str(cluster)+\".csv\")\n",
    "        os.chdir(sFoldername)\n",
    "        generate_charts(df, str(cluster), str(cluster), str(cluster))\n",
    "    \n",
    "\n",
    "if __name__ == \"__main__\":\n",
    "    main()"
   ]
  }
 ],
 "metadata": {
  "kernelspec": {
   "display_name": "Python 3",
   "language": "python",
   "name": "python3"
  },
  "language_info": {
   "codemirror_mode": {
    "name": "ipython",
    "version": 3
   },
   "file_extension": ".py",
   "mimetype": "text/x-python",
   "name": "python",
   "nbconvert_exporter": "python",
   "pygments_lexer": "ipython3",
   "version": "3.7.3"
  },
  "pycharm": {
   "stem_cell": {
    "cell_type": "raw",
    "metadata": {
     "collapsed": false
    },
    "source": []
   }
  }
 },
 "nbformat": 4,
 "nbformat_minor": 1
}
