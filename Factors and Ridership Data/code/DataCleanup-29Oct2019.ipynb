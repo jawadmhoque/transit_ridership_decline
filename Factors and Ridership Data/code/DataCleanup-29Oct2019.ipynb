{
 "cells": [
  {
   "cell_type": "code",
   "execution_count": 1,
   "metadata": {},
   "outputs": [],
   "source": [
    "# input to the this file is the final merged (stage 3.csv) file which is used to get the charts \n",
    "import os.path\n",
    "import sys\n",
    "import numpy as np\n",
    "import pandas as pd\n",
    "import math"
   ]
  },
  {
   "cell_type": "code",
   "execution_count": 2,
   "metadata": {},
   "outputs": [
    {
     "name": "stdout",
     "output_type": "stream",
     "text": [
      "Success\n"
     ]
    }
   ],
   "source": [
    "# read the final merged dataset file\n",
    "os.chdir(r'D:\\UoK\\OneDrive - University of Kentucky\\github\\Transit_ridership\\transit_ridership_decline\\Factors and Ridership Data\\Shared_dataset')\n",
    "df = pd.read_csv('merged_df_3.csv')\n",
    "modes = df['Mode'].unique()\n",
    "modes.sort()\n",
    "colnames = ['UPT_ADJ', 'VRM_ADJ', 'VRH_ADJ', 'FARE_TOTAL', 'FARE_per_UPT', 'AVG_SPEED']\n",
    "for _mode in modes:    \n",
    "    for col in colnames:\n",
    "        colName = _mode + \"_\" + col\n",
    "        df[colName] = np.where(df['Mode'] ==str(_mode), df[str(col)],0)\n",
    "        df[colName+\"_diff\"]=0\n",
    "        df[colName+\"_log\"]=0\n",
    "        df[\"PCT_\"+colName+\"_rel_diff\"]=0\n",
    "        \n",
    "\n",
    "df.drop(columns=['Unnamed: 0', 'NEW_CBSA'], inplace=True)        \n",
    "df.to_csv('modified_dataset.csv')\n",
    "print(\"Success\")"
   ]
  },
  {
   "cell_type": "code",
   "execution_count": 3,
   "metadata": {},
   "outputs": [
    {
     "name": "stderr",
     "output_type": "stream",
     "text": [
      "C:\\Users\\vsgo222\\AppData\\Local\\Continuum\\anaconda3\\lib\\site-packages\\ipykernel_launcher.py:13: FutureWarning: The 'contains' method is deprecated and will be removed in a future version. Use 'key in index' instead of 'index.contains(key)'\n",
      "  del sys.path[0]\n",
      "C:\\Users\\vsgo222\\AppData\\Local\\Continuum\\anaconda3\\lib\\site-packages\\ipykernel_launcher.py:14: FutureWarning: The 'contains' method is deprecated and will be removed in a future version. Use 'key in index' instead of 'index.contains(key)'\n",
      "  \n",
      "C:\\Users\\vsgo222\\AppData\\Local\\Continuum\\anaconda3\\lib\\site-packages\\IPython\\core\\interactiveshell.py:2855: PerformanceWarning: indexing past lexsort depth may impact performance.\n",
      "  raw_cell, store_history, silent, shell_futures)\n",
      "C:\\Users\\vsgo222\\AppData\\Local\\Continuum\\anaconda3\\lib\\site-packages\\ipykernel_launcher.py:21: RuntimeWarning: divide by zero encountered in double_scalars\n",
      "C:\\Users\\vsgo222\\AppData\\Local\\Continuum\\anaconda3\\lib\\site-packages\\ipykernel_launcher.py:21: RuntimeWarning: invalid value encountered in double_scalars\n"
     ]
    },
    {
     "name": "stdout",
     "output_type": "stream",
     "text": [
      "Sucess\n"
     ]
    }
   ],
   "source": [
    "# get unique values of years and city_ids\n",
    "_df = pd.read_csv('modified_dataset.csv')\n",
    "_df2 = _df.drop_duplicates(['CBSA','Mode','Year'])\n",
    "cbsas = _df2['CBSA'].unique()\n",
    "modes = _df2['Mode'].unique()\n",
    "years = _df2['Year'].unique()\n",
    "df2 = _df2.set_index(['CBSA','Mode','Year'])\n",
    "# df2.head()\n",
    "\n",
    "for cbsa in cbsas:\n",
    "    for mode in modes: \n",
    "        for year in years: \n",
    "            if df2.index.contains((cbsa,mode,year)): \n",
    "                if df2.index.contains((cbsa,mode,year-1)):\n",
    "                    colnames = ['UPT_ADJ', 'VRM_ADJ', 'VRH_ADJ', 'FARE_TOTAL', 'FARE_per_UPT', 'AVG_SPEED']\n",
    "                    for col in colnames:\n",
    "                        cName = str(mode)+\"_\"+str(col)\n",
    "                        colName = cName+'_diff'\n",
    "                        logName = cName+'_log'\n",
    "                        df2.loc[(cbsa,mode,year),colName] = df2.loc[(cbsa,mode,year),cName] - df2.loc[(cbsa,mode,year-1),cName]#                       \n",
    "                        df[\"PCT_\"+cName+\"_rel_diff\"] = 100*df2.loc[(cbsa,mode,year),colName]/df2.loc[(cbsa,mode,year),cName]\n",
    "                        if (df2.loc[(cbsa,mode,year),cName]>0 and df2.loc[(cbsa,mode,year-1),cName]>0):\n",
    "                            df2.loc[(cbsa,mode,year),logName] = df2.loc[(cbsa,mode,year),cName] - df2.loc[(cbsa,mode,year-1),cName]\n",
    "                        \n",
    "                        \n",
    "df2.to_csv('modified_dataset_2.csv')                       \n",
    "print(\"Sucess\")                    "
   ]
  },
  {
   "cell_type": "code",
   "execution_count": null,
   "metadata": {},
   "outputs": [],
   "source": []
  }
 ],
 "metadata": {
  "anaconda-cloud": {},
  "kernelspec": {
   "display_name": "Python 3",
   "language": "python",
   "name": "python3"
  },
  "language_info": {
   "codemirror_mode": {
    "name": "ipython",
    "version": 3
   },
   "file_extension": ".py",
   "mimetype": "text/x-python",
   "name": "python",
   "nbconvert_exporter": "python",
   "pygments_lexer": "ipython3",
   "version": "3.7.4"
  }
 },
 "nbformat": 4,
 "nbformat_minor": 2
}
