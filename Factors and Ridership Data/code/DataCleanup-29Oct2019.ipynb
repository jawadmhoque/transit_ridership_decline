{
 "cells": [
  {
   "cell_type": "code",
   "execution_count": 1,
   "metadata": {},
   "outputs": [],
   "source": [
    "# input to the this file is the final merged (stage 3.csv) file which is used to get the charts \n",
    "import os.path\n",
    "import sys\n",
    "import numpy as np\n",
    "import pandas as pd"
   ]
  },
  {
   "cell_type": "code",
   "execution_count": 2,
   "metadata": {},
   "outputs": [
    {
     "name": "stdout",
     "output_type": "stream",
     "text": [
      "Success\n"
     ]
    }
   ],
   "source": [
    "# read the final merged dataset file\n",
    "os.chdir(r'D:\\UoK\\OneDrive - University of Kentucky\\github\\transit_ridership_decline\\Factors and Ridership Data\\Shared_dataset')\n",
    "df = pd.read_csv('merged_df_3.csv')\n",
    "modes = df['Mode'].unique()\n",
    "modes.sort()\n",
    "colnames = ['UPT_ADJ', 'VRM_ADJ', 'VRH_ADJ', 'FARE_TOTAL', 'FARE_per_UPT', 'AVG_SPEED']\n",
    "for _mode in modes:    \n",
    "    for col in colnames:\n",
    "        colName = _mode + \"_\" + col\n",
    "        df[colName] = np.where(df['Mode'] ==str(_mode), df[str(col)],0)\n",
    "\n",
    "        \n",
    "df.to_csv('modified_dataset.csv')\n",
    "print(\"Success\")"
   ]
  },
  {
   "cell_type": "code",
   "execution_count": 3,
   "metadata": {},
   "outputs": [
    {
     "name": "stderr",
     "output_type": "stream",
     "text": [
      "C:\\Users\\vsgo222\\AppData\\Local\\Continuum\\anaconda3\\lib\\site-packages\\ipykernel_launcher.py:17: SettingWithCopyWarning: \n",
      "A value is trying to be set on a copy of a slice from a DataFrame.\n",
      "Try using .loc[row_indexer,col_indexer] = value instead\n",
      "\n",
      "See the caveats in the documentation: http://pandas.pydata.org/pandas-docs/stable/user_guide/indexing.html#returning-a-view-versus-a-copy\n"
     ]
    },
    {
     "name": "stdout",
     "output_type": "stream",
     "text": [
      "Success\n"
     ]
    }
   ],
   "source": [
    "# get unique values of years and city_ids\n",
    "df2 = pd.read_csv('modified_dataset.csv')\n",
    "yrs = df2['Year'].unique()\n",
    "yrs.sort()\n",
    "id2s = df2['CBSA'].unique()\n",
    "id2s.sort()\n",
    "colnames = ['UPT_ADJ', 'VRM_ADJ', 'VRH_ADJ', 'FARE_TOTAL', 'FARE_per_UPT', 'AVG_SPEED']\n",
    "output =[]\n",
    "for _id2s in id2s:\n",
    "    id2 = _id2s    \n",
    "    df3 = df2.query('CBSA == \"10740\"')\n",
    "    modes = df3['Mode'].unique()\n",
    "    modes.sort()\n",
    "    for _mode in modes:\n",
    "        mode = str(_mode)\n",
    "        for col in colnames:\n",
    "#             df3[mode+'_'+col+'_difference'] = (df3[mode+'_'+col] - df3[mode+'_'+col].shift(-1))\n",
    "            df3[mode+'_'+col+'_difference'] = 0\n",
    "            df3[['CBSA',(mode+'_'+col+'_difference')]].set_index([])\n",
    "    \n",
    "            df3.head()\n",
    "    \n",
    "    \n",
    "# pd.DataFrame(output).to_csv(\"modified_dataset_2.csv\")\n",
    "print(\"Success\")                        \n",
    "# print(\"Success\")"
   ]
  },
  {
   "cell_type": "code",
   "execution_count": 4,
   "metadata": {},
   "outputs": [],
   "source": [
    "# df3[]\n",
    "#         mode = _mode\n",
    "#         for col in colnames:\n",
    "#             df3[mode+'_'+colName+'_difference'] = (df3[mode+'_'+colName] - df3[mode+'_'+colName].shift(-1))\n",
    "#             print(df3[mode+'_'+colName+'_difference'])\n",
    "\n",
    "\n",
    "\n",
    "#  for col in colnames:        \n",
    "#         df3[colName+'_difference'] = (df3[colName] - df3[colName].shift(-1))\n",
    "#         # df_fltr_id2.to_dict('index')\n",
    "# #     for _mode in modes:\n",
    "#         for col in colnames:\n",
    "#             colName = _mode + \"_\" + col\n",
    "#             df2[colName+'_difference'] = np.where(df['CBSA'] ==str(_id2s), (df[colName] - df[colName].shift(-1)),0)\n",
    "# #             df2[colName+'_difference'] = df[colName].shift(+1) - df[colName]\n",
    "#             result.append(df2.to_dict('index'))\n",
    "# print(output)\n",
    "# pd.DataFrame(output).to_csv(\"modified_dataset_2.csv\")\n",
    "# df2.head()\n",
    "# # # output.to_csv('modified_dataset_2.csv')"
   ]
  }
 ],
 "metadata": {
  "kernelspec": {
   "display_name": "Python 3",
   "language": "python",
   "name": "python3"
  },
  "language_info": {
   "codemirror_mode": {
    "name": "ipython",
    "version": 3
   },
   "file_extension": ".py",
   "mimetype": "text/x-python",
   "name": "python",
   "nbconvert_exporter": "python",
   "pygments_lexer": "ipython3",
   "version": "3.7.4"
  }
 },
 "nbformat": 4,
 "nbformat_minor": 2
}
