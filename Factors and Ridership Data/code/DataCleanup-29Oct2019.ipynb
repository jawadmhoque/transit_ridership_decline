{
 "cells": [
  {
   "cell_type": "code",
   "execution_count": 1,
   "metadata": {
    "collapsed": true
   },
   "outputs": [],
   "source": [
    "# input to the this file is the final merged (stage 3.csv) file which is used to get the charts \n",
    "import os.path\n",
    "import sys\n",
    "import numpy as np\n",
    "import pandas as pd"
   ]
  },
  {
   "cell_type": "code",
   "execution_count": 3,
   "metadata": {
    "collapsed": false
   },
   "outputs": [
    {
     "name": "stdout",
     "output_type": "stream",
     "text": [
      "Success\n"
     ]
    }
   ],
   "source": [
    "# read the final merged dataset file\n",
    "os.chdir(r'C:\\SHARE\\UKY\\Projects\\TCRP A-43\\REPO\\transit_ridership_decline\\Factors and Ridership Data\\Shared_dataset')\n",
    "df = pd.read_csv('merged_df_3.csv')\n",
    "modes = df['Mode'].unique()\n",
    "modes.sort()\n",
    "colnames = ['UPT_ADJ', 'VRM_ADJ', 'VRH_ADJ', 'FARE_TOTAL', 'FARE_per_UPT', 'AVG_SPEED']\n",
    "for _mode in modes:    \n",
    "    for col in colnames:\n",
    "        colName = _mode + \"_\" + col\n",
    "        df[colName] = np.where(df['Mode'] ==str(_mode), df[str(col)],0)\n",
    "\n",
    "        \n",
    "df.to_csv('modified_dataset.csv')\n",
    "print(\"Success\")"
   ]
  },
  {
   "cell_type": "code",
   "execution_count": 6,
   "metadata": {
    "collapsed": false
   },
   "outputs": [
    {
     "name": "stderr",
     "output_type": "stream",
     "text": [
      "C:\\Program Files\\Anaconda3\\lib\\site-packages\\ipykernel\\__main__.py:18: SettingWithCopyWarning: \n",
      "A value is trying to be set on a copy of a slice from a DataFrame.\n",
      "Try using .loc[row_indexer,col_indexer] = value instead\n",
      "\n",
      "See the caveats in the documentation: http://pandas.pydata.org/pandas-docs/stable/indexing.html#indexing-view-versus-copy\n"
     ]
    },
    {
     "name": "stdout",
     "output_type": "stream",
     "text": [
      "Success\n"
     ]
    }
   ],
   "source": [
    "# get unique values of years and city_ids\n",
    "df2 = pd.read_csv('modified_dataset.csv')\n",
    "yrs = df2['Year'].unique()\n",
    "yrs.sort()\n",
    "id2s = df2['CBSA'].unique()\n",
    "id2s.sort()\n",
    "colnames = ['UPT_ADJ', 'VRM_ADJ', 'VRH_ADJ', 'FARE_TOTAL', 'FARE_per_UPT', 'AVG_SPEED']\n",
    "output =[]\n",
    "for _id2s in id2s:\n",
    "    id2 = _id2s    \n",
    "    df3 = df2.query('CBSA == \"10740\"')\n",
    "    modes = df3['Mode'].unique()\n",
    "    modes.sort()\n",
    "    for _mode in modes:\n",
    "        mode = str(_mode)\n",
    "        for col in colnames:\n",
    "#             df3[mode+'_'+col+'_difference'] = (df3[mode+'_'+col] - df3[mode+'_'+col].shift(-1))\n",
    "            df3[mode+'_'+col+'_difference'] = 0\n",
    "            #df3[['CBSA',(mode+'_'+col+'_difference')]].set_index([])\n",
    "    \n",
    "            #df3.head()\n",
    "    \n",
    "    \n",
    "# pd.DataFrame(output).to_csv(\"modified_dataset_2.csv\")\n",
    "print(\"Success\")                        \n",
    "# print(\"Success\")"
   ]
  },
  {
   "cell_type": "code",
   "execution_count": 4,
   "metadata": {
    "collapsed": true
   },
   "outputs": [],
   "source": [
    "# df3[]\n",
    "#         mode = _mode\n",
    "#         for col in colnames:\n",
    "#             df3[mode+'_'+colName+'_difference'] = (df3[mode+'_'+colName] - df3[mode+'_'+colName].shift(-1))\n",
    "#             print(df3[mode+'_'+colName+'_difference'])\n",
    "\n",
    "\n",
    "\n",
    "#  for col in colnames:        \n",
    "#         df3[colName+'_difference'] = (df3[colName] - df3[colName].shift(-1))\n",
    "#         # df_fltr_id2.to_dict('index')\n",
    "# #     for _mode in modes:\n",
    "#         for col in colnames:\n",
    "#             colName = _mode + \"_\" + col\n",
    "#             df2[colName+'_difference'] = np.where(df['CBSA'] ==str(_id2s), (df[colName] - df[colName].shift(-1)),0)\n",
    "# #             df2[colName+'_difference'] = df[colName].shift(+1) - df[colName]\n",
    "#             result.append(df2.to_dict('index'))\n",
    "# print(output)\n",
    "# pd.DataFrame(output).to_csv(\"modified_dataset_2.csv\")\n",
    "# df2.head()\n",
    "# # # output.to_csv('modified_dataset_2.csv')"
   ]
  },
  {
   "cell_type": "code",
   "execution_count": 7,
   "metadata": {
    "collapsed": true
   },
   "outputs": [],
   "source": [
    "df2 = pd.read_csv('modified_dataset.csv')"
   ]
  },
  {
   "cell_type": "code",
   "execution_count": 8,
   "metadata": {
    "collapsed": false
   },
   "outputs": [
    {
     "data": {
      "text/html": [
       "<div>\n",
       "<style scoped>\n",
       "    .dataframe tbody tr th:only-of-type {\n",
       "        vertical-align: middle;\n",
       "    }\n",
       "\n",
       "    .dataframe tbody tr th {\n",
       "        vertical-align: top;\n",
       "    }\n",
       "\n",
       "    .dataframe thead th {\n",
       "        text-align: right;\n",
       "    }\n",
       "</style>\n",
       "<table border=\"1\" class=\"dataframe\">\n",
       "  <thead>\n",
       "    <tr style=\"text-align: right;\">\n",
       "      <th></th>\n",
       "      <th>Unnamed: 0</th>\n",
       "      <th>Unnamed: 0.1</th>\n",
       "      <th>CBSA</th>\n",
       "      <th>NEW_CBSA</th>\n",
       "      <th>MNAME</th>\n",
       "      <th>Mode</th>\n",
       "      <th>Year</th>\n",
       "      <th>UPT</th>\n",
       "      <th>VRM</th>\n",
       "      <th>UPT_ADJ</th>\n",
       "      <th>...</th>\n",
       "      <th>Bus_VRH_ADJ</th>\n",
       "      <th>Bus_FARE_TOTAL</th>\n",
       "      <th>Bus_FARE_per_UPT</th>\n",
       "      <th>Bus_AVG_SPEED</th>\n",
       "      <th>Rail_UPT_ADJ</th>\n",
       "      <th>Rail_VRM_ADJ</th>\n",
       "      <th>Rail_VRH_ADJ</th>\n",
       "      <th>Rail_FARE_TOTAL</th>\n",
       "      <th>Rail_FARE_per_UPT</th>\n",
       "      <th>Rail_AVG_SPEED</th>\n",
       "    </tr>\n",
       "  </thead>\n",
       "  <tbody>\n",
       "    <tr>\n",
       "      <th>0</th>\n",
       "      <td>0</td>\n",
       "      <td>0</td>\n",
       "      <td>10180</td>\n",
       "      <td>NaN</td>\n",
       "      <td>Abilene, TX Metro Area</td>\n",
       "      <td>Bus</td>\n",
       "      <td>2002</td>\n",
       "      <td>493073.0</td>\n",
       "      <td>389678.0</td>\n",
       "      <td>493073.0</td>\n",
       "      <td>...</td>\n",
       "      <td>29016.0</td>\n",
       "      <td>162609.0</td>\n",
       "      <td>0.329787</td>\n",
       "      <td>13.43</td>\n",
       "      <td>0.0</td>\n",
       "      <td>0.0</td>\n",
       "      <td>0.0</td>\n",
       "      <td>0.0</td>\n",
       "      <td>0.0</td>\n",
       "      <td>0.0</td>\n",
       "    </tr>\n",
       "    <tr>\n",
       "      <th>1</th>\n",
       "      <td>1</td>\n",
       "      <td>1</td>\n",
       "      <td>10180</td>\n",
       "      <td>NaN</td>\n",
       "      <td>Abilene, TX Metro Area</td>\n",
       "      <td>Bus</td>\n",
       "      <td>2003</td>\n",
       "      <td>475747.0</td>\n",
       "      <td>383239.0</td>\n",
       "      <td>475747.0</td>\n",
       "      <td>...</td>\n",
       "      <td>28597.0</td>\n",
       "      <td>173563.0</td>\n",
       "      <td>0.364822</td>\n",
       "      <td>13.40</td>\n",
       "      <td>0.0</td>\n",
       "      <td>0.0</td>\n",
       "      <td>0.0</td>\n",
       "      <td>0.0</td>\n",
       "      <td>0.0</td>\n",
       "      <td>0.0</td>\n",
       "    </tr>\n",
       "    <tr>\n",
       "      <th>2</th>\n",
       "      <td>2</td>\n",
       "      <td>2</td>\n",
       "      <td>10180</td>\n",
       "      <td>NaN</td>\n",
       "      <td>Abilene, TX Metro Area</td>\n",
       "      <td>Bus</td>\n",
       "      <td>2004</td>\n",
       "      <td>469981.0</td>\n",
       "      <td>388907.0</td>\n",
       "      <td>469981.0</td>\n",
       "      <td>...</td>\n",
       "      <td>29126.0</td>\n",
       "      <td>185046.0</td>\n",
       "      <td>0.393731</td>\n",
       "      <td>13.35</td>\n",
       "      <td>0.0</td>\n",
       "      <td>0.0</td>\n",
       "      <td>0.0</td>\n",
       "      <td>0.0</td>\n",
       "      <td>0.0</td>\n",
       "      <td>0.0</td>\n",
       "    </tr>\n",
       "    <tr>\n",
       "      <th>3</th>\n",
       "      <td>3</td>\n",
       "      <td>3</td>\n",
       "      <td>10180</td>\n",
       "      <td>NaN</td>\n",
       "      <td>Abilene, TX Metro Area</td>\n",
       "      <td>Bus</td>\n",
       "      <td>2005</td>\n",
       "      <td>507165.0</td>\n",
       "      <td>444176.0</td>\n",
       "      <td>507165.0</td>\n",
       "      <td>...</td>\n",
       "      <td>31147.0</td>\n",
       "      <td>213965.0</td>\n",
       "      <td>0.421884</td>\n",
       "      <td>14.26</td>\n",
       "      <td>0.0</td>\n",
       "      <td>0.0</td>\n",
       "      <td>0.0</td>\n",
       "      <td>0.0</td>\n",
       "      <td>0.0</td>\n",
       "      <td>0.0</td>\n",
       "    </tr>\n",
       "    <tr>\n",
       "      <th>4</th>\n",
       "      <td>4</td>\n",
       "      <td>4</td>\n",
       "      <td>10180</td>\n",
       "      <td>NaN</td>\n",
       "      <td>Abilene, TX Metro Area</td>\n",
       "      <td>Bus</td>\n",
       "      <td>2006</td>\n",
       "      <td>493638.0</td>\n",
       "      <td>441300.0</td>\n",
       "      <td>493638.0</td>\n",
       "      <td>...</td>\n",
       "      <td>30750.0</td>\n",
       "      <td>201795.0</td>\n",
       "      <td>0.408791</td>\n",
       "      <td>14.35</td>\n",
       "      <td>0.0</td>\n",
       "      <td>0.0</td>\n",
       "      <td>0.0</td>\n",
       "      <td>0.0</td>\n",
       "      <td>0.0</td>\n",
       "      <td>0.0</td>\n",
       "    </tr>\n",
       "  </tbody>\n",
       "</table>\n",
       "<p>5 rows × 84 columns</p>\n",
       "</div>"
      ],
      "text/plain": [
       "   Unnamed: 0  Unnamed: 0.1   CBSA  NEW_CBSA                   MNAME Mode  \\\n",
       "0           0             0  10180       NaN  Abilene, TX Metro Area  Bus   \n",
       "1           1             1  10180       NaN  Abilene, TX Metro Area  Bus   \n",
       "2           2             2  10180       NaN  Abilene, TX Metro Area  Bus   \n",
       "3           3             3  10180       NaN  Abilene, TX Metro Area  Bus   \n",
       "4           4             4  10180       NaN  Abilene, TX Metro Area  Bus   \n",
       "\n",
       "   Year       UPT       VRM   UPT_ADJ       ...        Bus_VRH_ADJ  \\\n",
       "0  2002  493073.0  389678.0  493073.0       ...            29016.0   \n",
       "1  2003  475747.0  383239.0  475747.0       ...            28597.0   \n",
       "2  2004  469981.0  388907.0  469981.0       ...            29126.0   \n",
       "3  2005  507165.0  444176.0  507165.0       ...            31147.0   \n",
       "4  2006  493638.0  441300.0  493638.0       ...            30750.0   \n",
       "\n",
       "   Bus_FARE_TOTAL  Bus_FARE_per_UPT  Bus_AVG_SPEED  Rail_UPT_ADJ  \\\n",
       "0        162609.0          0.329787          13.43           0.0   \n",
       "1        173563.0          0.364822          13.40           0.0   \n",
       "2        185046.0          0.393731          13.35           0.0   \n",
       "3        213965.0          0.421884          14.26           0.0   \n",
       "4        201795.0          0.408791          14.35           0.0   \n",
       "\n",
       "   Rail_VRM_ADJ  Rail_VRH_ADJ  Rail_FARE_TOTAL  Rail_FARE_per_UPT  \\\n",
       "0           0.0           0.0              0.0                0.0   \n",
       "1           0.0           0.0              0.0                0.0   \n",
       "2           0.0           0.0              0.0                0.0   \n",
       "3           0.0           0.0              0.0                0.0   \n",
       "4           0.0           0.0              0.0                0.0   \n",
       "\n",
       "   Rail_AVG_SPEED  \n",
       "0             0.0  \n",
       "1             0.0  \n",
       "2             0.0  \n",
       "3             0.0  \n",
       "4             0.0  \n",
       "\n",
       "[5 rows x 84 columns]"
      ]
     },
     "execution_count": 8,
     "metadata": {},
     "output_type": "execute_result"
    }
   ],
   "source": [
    "df2.head()"
   ]
  },
  {
   "cell_type": "code",
   "execution_count": 26,
   "metadata": {
    "collapsed": true
   },
   "outputs": [],
   "source": [
    "cbsas = df2['CBSA'].unique()\n",
    "modes = df2['Mode'].unique()\n",
    "years = df2['Year'].unique()\n"
   ]
  },
  {
   "cell_type": "code",
   "execution_count": 27,
   "metadata": {
    "collapsed": false
   },
   "outputs": [
    {
     "name": "stdout",
     "output_type": "stream",
     "text": [
      "6232\n"
     ]
    }
   ],
   "source": [
    "print(len(df2))"
   ]
  },
  {
   "cell_type": "code",
   "execution_count": 43,
   "metadata": {
    "collapsed": true
   },
   "outputs": [],
   "source": [
    "df3 = df2.drop_duplicates(['CBSA','Mode','Year'])"
   ]
  },
  {
   "cell_type": "code",
   "execution_count": 44,
   "metadata": {
    "collapsed": false
   },
   "outputs": [
    {
     "name": "stdout",
     "output_type": "stream",
     "text": [
      "6137\n"
     ]
    }
   ],
   "source": [
    "print(len(df3))"
   ]
  },
  {
   "cell_type": "code",
   "execution_count": 45,
   "metadata": {
    "collapsed": true
   },
   "outputs": [],
   "source": [
    "df3 = df3.set_index(['CBSA','Mode','Year'])"
   ]
  },
  {
   "cell_type": "code",
   "execution_count": 46,
   "metadata": {
    "collapsed": false
   },
   "outputs": [
    {
     "data": {
      "text/html": [
       "<div>\n",
       "<style scoped>\n",
       "    .dataframe tbody tr th:only-of-type {\n",
       "        vertical-align: middle;\n",
       "    }\n",
       "\n",
       "    .dataframe tbody tr th {\n",
       "        vertical-align: top;\n",
       "    }\n",
       "\n",
       "    .dataframe thead th {\n",
       "        text-align: right;\n",
       "    }\n",
       "</style>\n",
       "<table border=\"1\" class=\"dataframe\">\n",
       "  <thead>\n",
       "    <tr style=\"text-align: right;\">\n",
       "      <th></th>\n",
       "      <th></th>\n",
       "      <th></th>\n",
       "      <th>Unnamed: 0</th>\n",
       "      <th>Unnamed: 0.1</th>\n",
       "      <th>NEW_CBSA</th>\n",
       "      <th>MNAME</th>\n",
       "      <th>UPT</th>\n",
       "      <th>VRM</th>\n",
       "      <th>UPT_ADJ</th>\n",
       "      <th>VRM_ADJ</th>\n",
       "      <th>VRH_ADJ</th>\n",
       "      <th>FARE_TOTAL</th>\n",
       "      <th>...</th>\n",
       "      <th>Bus_VRH_ADJ</th>\n",
       "      <th>Bus_FARE_TOTAL</th>\n",
       "      <th>Bus_FARE_per_UPT</th>\n",
       "      <th>Bus_AVG_SPEED</th>\n",
       "      <th>Rail_UPT_ADJ</th>\n",
       "      <th>Rail_VRM_ADJ</th>\n",
       "      <th>Rail_VRH_ADJ</th>\n",
       "      <th>Rail_FARE_TOTAL</th>\n",
       "      <th>Rail_FARE_per_UPT</th>\n",
       "      <th>Rail_AVG_SPEED</th>\n",
       "    </tr>\n",
       "    <tr>\n",
       "      <th>CBSA</th>\n",
       "      <th>Mode</th>\n",
       "      <th>Year</th>\n",
       "      <th></th>\n",
       "      <th></th>\n",
       "      <th></th>\n",
       "      <th></th>\n",
       "      <th></th>\n",
       "      <th></th>\n",
       "      <th></th>\n",
       "      <th></th>\n",
       "      <th></th>\n",
       "      <th></th>\n",
       "      <th></th>\n",
       "      <th></th>\n",
       "      <th></th>\n",
       "      <th></th>\n",
       "      <th></th>\n",
       "      <th></th>\n",
       "      <th></th>\n",
       "      <th></th>\n",
       "      <th></th>\n",
       "      <th></th>\n",
       "      <th></th>\n",
       "    </tr>\n",
       "  </thead>\n",
       "  <tbody>\n",
       "    <tr>\n",
       "      <th rowspan=\"5\" valign=\"top\">10180</th>\n",
       "      <th rowspan=\"5\" valign=\"top\">Bus</th>\n",
       "      <th>2002</th>\n",
       "      <td>0</td>\n",
       "      <td>0</td>\n",
       "      <td>NaN</td>\n",
       "      <td>Abilene, TX Metro Area</td>\n",
       "      <td>493073.0</td>\n",
       "      <td>389678.0</td>\n",
       "      <td>493073.0</td>\n",
       "      <td>389678.0</td>\n",
       "      <td>29016.0</td>\n",
       "      <td>162609.0</td>\n",
       "      <td>...</td>\n",
       "      <td>29016.0</td>\n",
       "      <td>162609.0</td>\n",
       "      <td>0.329787</td>\n",
       "      <td>13.43</td>\n",
       "      <td>0.0</td>\n",
       "      <td>0.0</td>\n",
       "      <td>0.0</td>\n",
       "      <td>0.0</td>\n",
       "      <td>0.0</td>\n",
       "      <td>0.0</td>\n",
       "    </tr>\n",
       "    <tr>\n",
       "      <th>2003</th>\n",
       "      <td>1</td>\n",
       "      <td>1</td>\n",
       "      <td>NaN</td>\n",
       "      <td>Abilene, TX Metro Area</td>\n",
       "      <td>475747.0</td>\n",
       "      <td>383239.0</td>\n",
       "      <td>475747.0</td>\n",
       "      <td>383239.0</td>\n",
       "      <td>28597.0</td>\n",
       "      <td>173563.0</td>\n",
       "      <td>...</td>\n",
       "      <td>28597.0</td>\n",
       "      <td>173563.0</td>\n",
       "      <td>0.364822</td>\n",
       "      <td>13.40</td>\n",
       "      <td>0.0</td>\n",
       "      <td>0.0</td>\n",
       "      <td>0.0</td>\n",
       "      <td>0.0</td>\n",
       "      <td>0.0</td>\n",
       "      <td>0.0</td>\n",
       "    </tr>\n",
       "    <tr>\n",
       "      <th>2004</th>\n",
       "      <td>2</td>\n",
       "      <td>2</td>\n",
       "      <td>NaN</td>\n",
       "      <td>Abilene, TX Metro Area</td>\n",
       "      <td>469981.0</td>\n",
       "      <td>388907.0</td>\n",
       "      <td>469981.0</td>\n",
       "      <td>388907.0</td>\n",
       "      <td>29126.0</td>\n",
       "      <td>185046.0</td>\n",
       "      <td>...</td>\n",
       "      <td>29126.0</td>\n",
       "      <td>185046.0</td>\n",
       "      <td>0.393731</td>\n",
       "      <td>13.35</td>\n",
       "      <td>0.0</td>\n",
       "      <td>0.0</td>\n",
       "      <td>0.0</td>\n",
       "      <td>0.0</td>\n",
       "      <td>0.0</td>\n",
       "      <td>0.0</td>\n",
       "    </tr>\n",
       "    <tr>\n",
       "      <th>2005</th>\n",
       "      <td>3</td>\n",
       "      <td>3</td>\n",
       "      <td>NaN</td>\n",
       "      <td>Abilene, TX Metro Area</td>\n",
       "      <td>507165.0</td>\n",
       "      <td>444176.0</td>\n",
       "      <td>507165.0</td>\n",
       "      <td>444176.0</td>\n",
       "      <td>31147.0</td>\n",
       "      <td>213965.0</td>\n",
       "      <td>...</td>\n",
       "      <td>31147.0</td>\n",
       "      <td>213965.0</td>\n",
       "      <td>0.421884</td>\n",
       "      <td>14.26</td>\n",
       "      <td>0.0</td>\n",
       "      <td>0.0</td>\n",
       "      <td>0.0</td>\n",
       "      <td>0.0</td>\n",
       "      <td>0.0</td>\n",
       "      <td>0.0</td>\n",
       "    </tr>\n",
       "    <tr>\n",
       "      <th>2006</th>\n",
       "      <td>4</td>\n",
       "      <td>4</td>\n",
       "      <td>NaN</td>\n",
       "      <td>Abilene, TX Metro Area</td>\n",
       "      <td>493638.0</td>\n",
       "      <td>441300.0</td>\n",
       "      <td>493638.0</td>\n",
       "      <td>441300.0</td>\n",
       "      <td>30750.0</td>\n",
       "      <td>201795.0</td>\n",
       "      <td>...</td>\n",
       "      <td>30750.0</td>\n",
       "      <td>201795.0</td>\n",
       "      <td>0.408791</td>\n",
       "      <td>14.35</td>\n",
       "      <td>0.0</td>\n",
       "      <td>0.0</td>\n",
       "      <td>0.0</td>\n",
       "      <td>0.0</td>\n",
       "      <td>0.0</td>\n",
       "      <td>0.0</td>\n",
       "    </tr>\n",
       "  </tbody>\n",
       "</table>\n",
       "<p>5 rows × 81 columns</p>\n",
       "</div>"
      ],
      "text/plain": [
       "                 Unnamed: 0  Unnamed: 0.1  NEW_CBSA                   MNAME  \\\n",
       "CBSA  Mode Year                                                               \n",
       "10180 Bus  2002           0             0       NaN  Abilene, TX Metro Area   \n",
       "           2003           1             1       NaN  Abilene, TX Metro Area   \n",
       "           2004           2             2       NaN  Abilene, TX Metro Area   \n",
       "           2005           3             3       NaN  Abilene, TX Metro Area   \n",
       "           2006           4             4       NaN  Abilene, TX Metro Area   \n",
       "\n",
       "                      UPT       VRM   UPT_ADJ   VRM_ADJ  VRH_ADJ  FARE_TOTAL  \\\n",
       "CBSA  Mode Year                                                                \n",
       "10180 Bus  2002  493073.0  389678.0  493073.0  389678.0  29016.0    162609.0   \n",
       "           2003  475747.0  383239.0  475747.0  383239.0  28597.0    173563.0   \n",
       "           2004  469981.0  388907.0  469981.0  388907.0  29126.0    185046.0   \n",
       "           2005  507165.0  444176.0  507165.0  444176.0  31147.0    213965.0   \n",
       "           2006  493638.0  441300.0  493638.0  441300.0  30750.0    201795.0   \n",
       "\n",
       "                     ...        Bus_VRH_ADJ  Bus_FARE_TOTAL  Bus_FARE_per_UPT  \\\n",
       "CBSA  Mode Year      ...                                                        \n",
       "10180 Bus  2002      ...            29016.0        162609.0          0.329787   \n",
       "           2003      ...            28597.0        173563.0          0.364822   \n",
       "           2004      ...            29126.0        185046.0          0.393731   \n",
       "           2005      ...            31147.0        213965.0          0.421884   \n",
       "           2006      ...            30750.0        201795.0          0.408791   \n",
       "\n",
       "                 Bus_AVG_SPEED  Rail_UPT_ADJ  Rail_VRM_ADJ  Rail_VRH_ADJ  \\\n",
       "CBSA  Mode Year                                                            \n",
       "10180 Bus  2002          13.43           0.0           0.0           0.0   \n",
       "           2003          13.40           0.0           0.0           0.0   \n",
       "           2004          13.35           0.0           0.0           0.0   \n",
       "           2005          14.26           0.0           0.0           0.0   \n",
       "           2006          14.35           0.0           0.0           0.0   \n",
       "\n",
       "                 Rail_FARE_TOTAL  Rail_FARE_per_UPT Rail_AVG_SPEED  \n",
       "CBSA  Mode Year                                                     \n",
       "10180 Bus  2002              0.0                0.0            0.0  \n",
       "           2003              0.0                0.0            0.0  \n",
       "           2004              0.0                0.0            0.0  \n",
       "           2005              0.0                0.0            0.0  \n",
       "           2006              0.0                0.0            0.0  \n",
       "\n",
       "[5 rows x 81 columns]"
      ]
     },
     "execution_count": 46,
     "metadata": {},
     "output_type": "execute_result"
    }
   ],
   "source": [
    "df3.head()"
   ]
  },
  {
   "cell_type": "code",
   "execution_count": 47,
   "metadata": {
    "collapsed": false
   },
   "outputs": [
    {
     "data": {
      "text/plain": [
       "493073.0"
      ]
     },
     "execution_count": 47,
     "metadata": {},
     "output_type": "execute_result"
    }
   ],
   "source": [
    "df3.loc[(10180,'Bus',2002),'UPT']"
   ]
  },
  {
   "cell_type": "code",
   "execution_count": 48,
   "metadata": {
    "collapsed": true
   },
   "outputs": [],
   "source": [
    "df3['UPT_DIFF'] = 0"
   ]
  },
  {
   "cell_type": "code",
   "execution_count": 49,
   "metadata": {
    "collapsed": false
   },
   "outputs": [
    {
     "data": {
      "text/plain": [
       "array([(10180, 'Bus', 2002), (10180, 'Bus', 2003), (10180, 'Bus', 2004),\n",
       "       ..., (49740, 'Bus', 2016), (49740, 'Bus', 2017),\n",
       "       (49740, 'Bus', 2018)], dtype=object)"
      ]
     },
     "execution_count": 49,
     "metadata": {},
     "output_type": "execute_result"
    }
   ],
   "source": [
    "df3.index.values"
   ]
  },
  {
   "cell_type": "code",
   "execution_count": 50,
   "metadata": {
    "collapsed": false
   },
   "outputs": [
    {
     "data": {
      "text/plain": [
       "array([10180, 10420, 10500, 10580, 10740, 10780, 10900, 11020, 11100,\n",
       "       11180, 11260, 11300, 11460, 11540, 11700, 12020, 12060, 12100,\n",
       "       12220, 12260, 12420, 12540, 12580, 12620, 12700, 12940, 12980,\n",
       "       13020, 13140, 13380, 13460, 13740, 13780, 13820, 13900, 13980,\n",
       "       14020, 14060, 14260, 14460, 14540, 14740, 14860, 15180, 15380,\n",
       "       15540, 15940, 15980, 16220, 16300, 16580, 16620, 16700, 16740,\n",
       "       16820, 16860, 16940, 16980, 17020, 17140, 17300, 17420, 17460,\n",
       "       17660, 17780, 17820, 17860, 17900, 17980, 18140, 18580, 18700,\n",
       "       18880, 19060, 19100, 19340, 19380, 19500, 19660, 19740, 19780,\n",
       "       19820, 20220, 20260, 20500, 20740, 20940, 21340, 21060, 21140,\n",
       "       21300, 21500, 21660, 21780, 21820, 22020, 22180, 22220, 22380,\n",
       "       22420, 22500, 22540, 22660, 22900, 23060, 23420, 23540, 23580,\n",
       "       24020, 24220, 24300, 24340, 24500, 24540, 24580, 24660, 24860,\n",
       "       25060, 25180, 25260, 25420, 25500, 25540, 25860, 26100, 26380,\n",
       "       26420, 26580, 26620, 26820, 26900, 26980, 27060, 27100, 27140,\n",
       "       27180, 27260, 27500, 27620, 27740, 27780, 27860, 28020, 28100,\n",
       "       28140, 28420, 28660, 28700, 28940, 29020, 29100, 29140, 29180,\n",
       "       29460, 29540, 29620, 29700, 29740, 29820, 29940, 30020, 30140,\n",
       "       30340, 30460, 30620, 30700, 30780, 30860, 31020, 31100, 31140,\n",
       "       31180, 31340, 31420, 31540, 31700, 31900, 32580, 32780, 32820,\n",
       "       32900, 33100, 33340, 33460, 33540, 33660, 33700, 33740, 33860,\n",
       "       34060, 34580, 34620, 34740, 34820, 34900, 34940, 34980, 35300,\n",
       "       35380, 35620, 35660, 35840, 35980, 36100, 36140, 36220, 36420,\n",
       "       36500, 36540, 36740, 36780, 37100, 37340, 37380, 37460, 37620,\n",
       "       37700, 37860, 37900, 37980, 38060, 38300, 38340, 38540, 38940,\n",
       "       38860, 38900, 39100, 39300, 39380, 39540, 39580, 39660, 39740,\n",
       "       39820, 39900, 40060, 40140, 40220, 40340, 40380, 40420, 40660,\n",
       "       40900, 40980, 41420, 41500, 41540, 41620, 41660, 41700, 41740,\n",
       "       41860, 41940, 42020, 42060, 42100, 42140, 42220, 42340, 42540,\n",
       "       42660, 42680, 43100, 43300, 43340, 43580, 43620, 43780, 43900,\n",
       "       44060, 44100, 44140, 44180, 44220, 41060, 41140, 41180, 44300,\n",
       "       44700, 44940, 45060, 45220, 45300, 45460, 45500, 45780, 45820,\n",
       "       46060, 46140, 46220, 46540, 46700, 47020, 47260, 47300, 47380,\n",
       "       47900, 47940, 48140, 48300, 48540, 48620, 48700, 48900, 49020,\n",
       "       49180, 49340, 49420, 49620, 49660, 49700, 49740], dtype=int64)"
      ]
     },
     "execution_count": 50,
     "metadata": {},
     "output_type": "execute_result"
    }
   ],
   "source": [
    "cbsas"
   ]
  },
  {
   "cell_type": "code",
   "execution_count": 51,
   "metadata": {
    "collapsed": false
   },
   "outputs": [
    {
     "data": {
      "text/plain": [
       "array(['Bus', 'Rail'], dtype=object)"
      ]
     },
     "execution_count": 51,
     "metadata": {},
     "output_type": "execute_result"
    }
   ],
   "source": [
    "modes"
   ]
  },
  {
   "cell_type": "code",
   "execution_count": 52,
   "metadata": {
    "collapsed": false
   },
   "outputs": [
    {
     "data": {
      "text/plain": [
       "array([2002, 2003, 2004, 2005, 2006, 2007, 2008, 2009, 2010, 2011, 2012,\n",
       "       2013, 2014, 2015, 2016, 2017, 2018], dtype=int64)"
      ]
     },
     "execution_count": 52,
     "metadata": {},
     "output_type": "execute_result"
    }
   ],
   "source": [
    "years"
   ]
  },
  {
   "cell_type": "code",
   "execution_count": 53,
   "metadata": {
    "collapsed": false
   },
   "outputs": [
    {
     "name": "stderr",
     "output_type": "stream",
     "text": [
      "C:\\Program Files\\Anaconda3\\lib\\site-packages\\ipykernel\\kernelbase.py:390: PerformanceWarning: indexing past lexsort depth may impact performance.\n",
      "  user_expressions, allow_stdin)\n"
     ]
    }
   ],
   "source": [
    "for cbsa in cbsas:\n",
    "    for mode in modes: \n",
    "        for year in years: \n",
    "            if df3.index.contains((cbsa,mode,year)): \n",
    "                if df3.index.contains((cbsa,mode,year-1)):                \n",
    "                    df3.loc[(cbsa,mode,year),'UPT_DIFF'] = df3.loc[(cbsa,mode,year),'UPT'] - df3.loc[(cbsa,mode,year-1),'UPT']"
   ]
  },
  {
   "cell_type": "code",
   "execution_count": 54,
   "metadata": {
    "collapsed": false
   },
   "outputs": [
    {
     "data": {
      "text/html": [
       "<div>\n",
       "<style scoped>\n",
       "    .dataframe tbody tr th:only-of-type {\n",
       "        vertical-align: middle;\n",
       "    }\n",
       "\n",
       "    .dataframe tbody tr th {\n",
       "        vertical-align: top;\n",
       "    }\n",
       "\n",
       "    .dataframe thead th {\n",
       "        text-align: right;\n",
       "    }\n",
       "</style>\n",
       "<table border=\"1\" class=\"dataframe\">\n",
       "  <thead>\n",
       "    <tr style=\"text-align: right;\">\n",
       "      <th></th>\n",
       "      <th></th>\n",
       "      <th></th>\n",
       "      <th>Unnamed: 0</th>\n",
       "      <th>Unnamed: 0.1</th>\n",
       "      <th>NEW_CBSA</th>\n",
       "      <th>MNAME</th>\n",
       "      <th>UPT</th>\n",
       "      <th>VRM</th>\n",
       "      <th>UPT_ADJ</th>\n",
       "      <th>VRM_ADJ</th>\n",
       "      <th>VRH_ADJ</th>\n",
       "      <th>FARE_TOTAL</th>\n",
       "      <th>...</th>\n",
       "      <th>Bus_FARE_TOTAL</th>\n",
       "      <th>Bus_FARE_per_UPT</th>\n",
       "      <th>Bus_AVG_SPEED</th>\n",
       "      <th>Rail_UPT_ADJ</th>\n",
       "      <th>Rail_VRM_ADJ</th>\n",
       "      <th>Rail_VRH_ADJ</th>\n",
       "      <th>Rail_FARE_TOTAL</th>\n",
       "      <th>Rail_FARE_per_UPT</th>\n",
       "      <th>Rail_AVG_SPEED</th>\n",
       "      <th>UPT_DIFF</th>\n",
       "    </tr>\n",
       "    <tr>\n",
       "      <th>CBSA</th>\n",
       "      <th>Mode</th>\n",
       "      <th>Year</th>\n",
       "      <th></th>\n",
       "      <th></th>\n",
       "      <th></th>\n",
       "      <th></th>\n",
       "      <th></th>\n",
       "      <th></th>\n",
       "      <th></th>\n",
       "      <th></th>\n",
       "      <th></th>\n",
       "      <th></th>\n",
       "      <th></th>\n",
       "      <th></th>\n",
       "      <th></th>\n",
       "      <th></th>\n",
       "      <th></th>\n",
       "      <th></th>\n",
       "      <th></th>\n",
       "      <th></th>\n",
       "      <th></th>\n",
       "      <th></th>\n",
       "      <th></th>\n",
       "    </tr>\n",
       "  </thead>\n",
       "  <tbody>\n",
       "    <tr>\n",
       "      <th rowspan=\"5\" valign=\"top\">10180</th>\n",
       "      <th rowspan=\"5\" valign=\"top\">Bus</th>\n",
       "      <th>2002</th>\n",
       "      <td>0</td>\n",
       "      <td>0</td>\n",
       "      <td>NaN</td>\n",
       "      <td>Abilene, TX Metro Area</td>\n",
       "      <td>493073.0</td>\n",
       "      <td>389678.0</td>\n",
       "      <td>493073.0</td>\n",
       "      <td>389678.0</td>\n",
       "      <td>29016.0</td>\n",
       "      <td>162609.0</td>\n",
       "      <td>...</td>\n",
       "      <td>162609.0</td>\n",
       "      <td>0.329787</td>\n",
       "      <td>13.43</td>\n",
       "      <td>0.0</td>\n",
       "      <td>0.0</td>\n",
       "      <td>0.0</td>\n",
       "      <td>0.0</td>\n",
       "      <td>0.0</td>\n",
       "      <td>0.0</td>\n",
       "      <td>0.0</td>\n",
       "    </tr>\n",
       "    <tr>\n",
       "      <th>2003</th>\n",
       "      <td>1</td>\n",
       "      <td>1</td>\n",
       "      <td>NaN</td>\n",
       "      <td>Abilene, TX Metro Area</td>\n",
       "      <td>475747.0</td>\n",
       "      <td>383239.0</td>\n",
       "      <td>475747.0</td>\n",
       "      <td>383239.0</td>\n",
       "      <td>28597.0</td>\n",
       "      <td>173563.0</td>\n",
       "      <td>...</td>\n",
       "      <td>173563.0</td>\n",
       "      <td>0.364822</td>\n",
       "      <td>13.40</td>\n",
       "      <td>0.0</td>\n",
       "      <td>0.0</td>\n",
       "      <td>0.0</td>\n",
       "      <td>0.0</td>\n",
       "      <td>0.0</td>\n",
       "      <td>0.0</td>\n",
       "      <td>-17326.0</td>\n",
       "    </tr>\n",
       "    <tr>\n",
       "      <th>2004</th>\n",
       "      <td>2</td>\n",
       "      <td>2</td>\n",
       "      <td>NaN</td>\n",
       "      <td>Abilene, TX Metro Area</td>\n",
       "      <td>469981.0</td>\n",
       "      <td>388907.0</td>\n",
       "      <td>469981.0</td>\n",
       "      <td>388907.0</td>\n",
       "      <td>29126.0</td>\n",
       "      <td>185046.0</td>\n",
       "      <td>...</td>\n",
       "      <td>185046.0</td>\n",
       "      <td>0.393731</td>\n",
       "      <td>13.35</td>\n",
       "      <td>0.0</td>\n",
       "      <td>0.0</td>\n",
       "      <td>0.0</td>\n",
       "      <td>0.0</td>\n",
       "      <td>0.0</td>\n",
       "      <td>0.0</td>\n",
       "      <td>-5766.0</td>\n",
       "    </tr>\n",
       "    <tr>\n",
       "      <th>2005</th>\n",
       "      <td>3</td>\n",
       "      <td>3</td>\n",
       "      <td>NaN</td>\n",
       "      <td>Abilene, TX Metro Area</td>\n",
       "      <td>507165.0</td>\n",
       "      <td>444176.0</td>\n",
       "      <td>507165.0</td>\n",
       "      <td>444176.0</td>\n",
       "      <td>31147.0</td>\n",
       "      <td>213965.0</td>\n",
       "      <td>...</td>\n",
       "      <td>213965.0</td>\n",
       "      <td>0.421884</td>\n",
       "      <td>14.26</td>\n",
       "      <td>0.0</td>\n",
       "      <td>0.0</td>\n",
       "      <td>0.0</td>\n",
       "      <td>0.0</td>\n",
       "      <td>0.0</td>\n",
       "      <td>0.0</td>\n",
       "      <td>37184.0</td>\n",
       "    </tr>\n",
       "    <tr>\n",
       "      <th>2006</th>\n",
       "      <td>4</td>\n",
       "      <td>4</td>\n",
       "      <td>NaN</td>\n",
       "      <td>Abilene, TX Metro Area</td>\n",
       "      <td>493638.0</td>\n",
       "      <td>441300.0</td>\n",
       "      <td>493638.0</td>\n",
       "      <td>441300.0</td>\n",
       "      <td>30750.0</td>\n",
       "      <td>201795.0</td>\n",
       "      <td>...</td>\n",
       "      <td>201795.0</td>\n",
       "      <td>0.408791</td>\n",
       "      <td>14.35</td>\n",
       "      <td>0.0</td>\n",
       "      <td>0.0</td>\n",
       "      <td>0.0</td>\n",
       "      <td>0.0</td>\n",
       "      <td>0.0</td>\n",
       "      <td>0.0</td>\n",
       "      <td>-13527.0</td>\n",
       "    </tr>\n",
       "  </tbody>\n",
       "</table>\n",
       "<p>5 rows × 82 columns</p>\n",
       "</div>"
      ],
      "text/plain": [
       "                 Unnamed: 0  Unnamed: 0.1  NEW_CBSA                   MNAME  \\\n",
       "CBSA  Mode Year                                                               \n",
       "10180 Bus  2002           0             0       NaN  Abilene, TX Metro Area   \n",
       "           2003           1             1       NaN  Abilene, TX Metro Area   \n",
       "           2004           2             2       NaN  Abilene, TX Metro Area   \n",
       "           2005           3             3       NaN  Abilene, TX Metro Area   \n",
       "           2006           4             4       NaN  Abilene, TX Metro Area   \n",
       "\n",
       "                      UPT       VRM   UPT_ADJ   VRM_ADJ  VRH_ADJ  FARE_TOTAL  \\\n",
       "CBSA  Mode Year                                                                \n",
       "10180 Bus  2002  493073.0  389678.0  493073.0  389678.0  29016.0    162609.0   \n",
       "           2003  475747.0  383239.0  475747.0  383239.0  28597.0    173563.0   \n",
       "           2004  469981.0  388907.0  469981.0  388907.0  29126.0    185046.0   \n",
       "           2005  507165.0  444176.0  507165.0  444176.0  31147.0    213965.0   \n",
       "           2006  493638.0  441300.0  493638.0  441300.0  30750.0    201795.0   \n",
       "\n",
       "                  ...     Bus_FARE_TOTAL  Bus_FARE_per_UPT  Bus_AVG_SPEED  \\\n",
       "CBSA  Mode Year   ...                                                       \n",
       "10180 Bus  2002   ...           162609.0          0.329787          13.43   \n",
       "           2003   ...           173563.0          0.364822          13.40   \n",
       "           2004   ...           185046.0          0.393731          13.35   \n",
       "           2005   ...           213965.0          0.421884          14.26   \n",
       "           2006   ...           201795.0          0.408791          14.35   \n",
       "\n",
       "                 Rail_UPT_ADJ  Rail_VRM_ADJ  Rail_VRH_ADJ  Rail_FARE_TOTAL  \\\n",
       "CBSA  Mode Year                                                              \n",
       "10180 Bus  2002           0.0           0.0           0.0              0.0   \n",
       "           2003           0.0           0.0           0.0              0.0   \n",
       "           2004           0.0           0.0           0.0              0.0   \n",
       "           2005           0.0           0.0           0.0              0.0   \n",
       "           2006           0.0           0.0           0.0              0.0   \n",
       "\n",
       "                 Rail_FARE_per_UPT  Rail_AVG_SPEED UPT_DIFF  \n",
       "CBSA  Mode Year                                              \n",
       "10180 Bus  2002                0.0             0.0      0.0  \n",
       "           2003                0.0             0.0 -17326.0  \n",
       "           2004                0.0             0.0  -5766.0  \n",
       "           2005                0.0             0.0  37184.0  \n",
       "           2006                0.0             0.0 -13527.0  \n",
       "\n",
       "[5 rows x 82 columns]"
      ]
     },
     "execution_count": 54,
     "metadata": {},
     "output_type": "execute_result"
    }
   ],
   "source": [
    "df3.head()"
   ]
  },
  {
   "cell_type": "code",
   "execution_count": 67,
   "metadata": {
    "collapsed": false
   },
   "outputs": [
    {
     "data": {
      "text/plain": [
       "Unnamed: 0                                                          0\n",
       "Unnamed: 0.1                                                        0\n",
       "NEW_CBSA                                                          NaN\n",
       "MNAME                                          Abilene, TX Metro Area\n",
       "UPT                                                            493073\n",
       "VRM                                                            389678\n",
       "UPT_ADJ                                                        493073\n",
       "VRM_ADJ                                                        389678\n",
       "VRH_ADJ                                                         29016\n",
       "FARE_TOTAL                                                     162609\n",
       "FARE_per_UPT                                                 0.329787\n",
       "AREALANDPT                                                  141756054\n",
       "Tot_Pop                                                        117258\n",
       "Tot_Instate_Pop                                                 87724\n",
       "Tot_Outstate_Pop                                              23752.2\n",
       "Tot_NonUSA_POP                                                2987.48\n",
       "Total_Median_Income_Individual                                19756.7\n",
       "Native_Instate_Med_Inc_Indiv                                  22848.1\n",
       "Native_Outstate_Med_Inc_Indiv                                 17091.5\n",
       "Native_Outcountry_Med_Inc_Indiv                          -1768.703125\n",
       "Total_Pop_Poverty                                              147632\n",
       "Pop_Below100_Poverty                                             22.3\n",
       "Pop_Below150_Poverty                                            12.89\n",
       "Pop_Above150_Poverty                                            64.82\n",
       "Age_under18                                                     31.23\n",
       "Age_18to64                                                       54.9\n",
       "Age_over64                                                      13.87\n",
       "Total_HH                                                      61601.7\n",
       "HH_0Veh                                                       1195.73\n",
       "HH_1Veh                                                       27303.6\n",
       "                                                  ...                \n",
       "2018_Dollar_Multiplier                                            1.4\n",
       "TNC_ARRIVAL                                                      2016\n",
       "Link_x                             Judgement Call based on Population\n",
       "TNC_FLAG                                                            0\n",
       "YEARS_SINCE_TNC                                                     0\n",
       "PROBLEM_FLAG                                                      NaN\n",
       "NOTE                                                              NaN\n",
       "dockCt                                                              0\n",
       "docklessCt                                                          0\n",
       "scooterCt                                                           0\n",
       "PBS_Start                                                         NaN\n",
       "PBS_End                                                           NaN\n",
       "PBS_Flag                                                          NaN\n",
       "Link_y                                                            NaN\n",
       "walkscore                                                           0\n",
       "transit                                                             0\n",
       "bike                                                                0\n",
       "Bus_UPT_ADJ                                                    493073\n",
       "Bus_VRM_ADJ                                                    389678\n",
       "Bus_VRH_ADJ                                                     29016\n",
       "Bus_FARE_TOTAL                                                 162609\n",
       "Bus_FARE_per_UPT                                             0.329787\n",
       "Bus_AVG_SPEED                                                   13.43\n",
       "Rail_UPT_ADJ                                                        0\n",
       "Rail_VRM_ADJ                                                        0\n",
       "Rail_VRH_ADJ                                                        0\n",
       "Rail_FARE_TOTAL                                                     0\n",
       "Rail_FARE_per_UPT                                                   0\n",
       "Rail_AVG_SPEED                                                      0\n",
       "UPT_DIFF                                                            0\n",
       "Name: (10180, Bus, 2002), Length: 82, dtype: object"
      ]
     },
     "execution_count": 67,
     "metadata": {},
     "output_type": "execute_result"
    }
   ],
   "source": [
    "df3.loc[(10180,'Bus',2002),:]"
   ]
  },
  {
   "cell_type": "code",
   "execution_count": null,
   "metadata": {
    "collapsed": true
   },
   "outputs": [],
   "source": []
  }
 ],
 "metadata": {
  "anaconda-cloud": {},
  "kernelspec": {
   "display_name": "Python [default]",
   "language": "python",
   "name": "python3"
  },
  "language_info": {
   "codemirror_mode": {
    "name": "ipython",
    "version": 3
   },
   "file_extension": ".py",
   "mimetype": "text/x-python",
   "name": "python",
   "nbconvert_exporter": "python",
   "pygments_lexer": "ipython3",
   "version": "3.5.6"
  }
 },
 "nbformat": 4,
 "nbformat_minor": 2
}
