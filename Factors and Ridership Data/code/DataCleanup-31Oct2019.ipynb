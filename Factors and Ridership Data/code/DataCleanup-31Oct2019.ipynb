{
 "cells": [
  {
   "cell_type": "code",
   "execution_count": 1,
   "metadata": {},
   "outputs": [],
   "source": [
    "# input to the this file is the final merged (stage 3.csv) file which is used to get the charts \n",
    "import os.path\n",
    "import sys\n",
    "import numpy as np\n",
    "import pandas as pd\n",
    "import math\n",
    "import decimal"
   ]
  },
  {
   "cell_type": "code",
   "execution_count": 2,
   "metadata": {},
   "outputs": [
    {
     "name": "stdout",
     "output_type": "stream",
     "text": [
      "Success\n"
     ]
    }
   ],
   "source": [
    "# read the final merged dataset file\n",
    "path = r'D:\\UoK\\OneDrive - University of Kentucky\\github\\Transit_ridership\\transit_ridership_decline\\Factors and Ridership Data\\Dependent Datasets'\n",
    "os.chdir(path)\n",
    "\n",
    "df = pd.read_csv('merged_df_3.csv')\n",
    "modes = df['Mode'].unique()\n",
    "modes.sort()\n",
    "colnames = ['UPT_ADJ', 'VRM_ADJ', 'VRH_ADJ', 'FARE_TOTAL', 'FARE_per_UPT_2018', 'AVG_SPEED']\n",
    "for _mode in modes:    \n",
    "    for col in colnames:\n",
    "        colName = _mode + \"_\" + col\n",
    "        df[colName] = np.where(df['Mode'] ==str(_mode), df[str(col)],0)\n",
    "        df[colName+\"_diff\"]=0.00\n",
    "        df[colName+\"_log\"]=0.00\n",
    "        df[\"PCT_\"+colName+\"_rel_diff\"]=0.00\n",
    "        df[colName+\"_scale\"]=0.00\n",
    "        \n",
    "\n",
    "df.drop(columns=['Unnamed: 0', 'NEW_CBSA'], inplace=True)        \n",
    "df.to_csv('modified_dataset.csv')\n",
    "print(\"Success\")"
   ]
  },
  {
   "cell_type": "code",
   "execution_count": 3,
   "metadata": {},
   "outputs": [
    {
     "name": "stderr",
     "output_type": "stream",
     "text": [
      "C:\\Users\\vsgo222\\AppData\\Local\\Continuum\\anaconda3\\lib\\site-packages\\IPython\\core\\interactiveshell.py:3058: DtypeWarning: Columns (6) have mixed types. Specify dtype option on import or set low_memory=False.\n",
      "  interactivity=interactivity, compiler=compiler, result=result)\n",
      "C:\\Users\\vsgo222\\AppData\\Local\\Continuum\\anaconda3\\lib\\site-packages\\ipykernel_launcher.py:13: FutureWarning: The 'contains' method is deprecated and will be removed in a future version. Use 'key in index' instead of 'index.contains(key)'\n",
      "  del sys.path[0]\n",
      "C:\\Users\\vsgo222\\AppData\\Local\\Continuum\\anaconda3\\lib\\site-packages\\ipykernel_launcher.py:14: FutureWarning: The 'contains' method is deprecated and will be removed in a future version. Use 'key in index' instead of 'index.contains(key)'\n",
      "  \n",
      "C:\\Users\\vsgo222\\AppData\\Local\\Continuum\\anaconda3\\lib\\site-packages\\IPython\\core\\interactiveshell.py:2855: PerformanceWarning: indexing past lexsort depth may impact performance.\n",
      "  raw_cell, store_history, silent, shell_futures)\n",
      "C:\\Users\\vsgo222\\AppData\\Local\\Continuum\\anaconda3\\lib\\site-packages\\ipykernel_launcher.py:25: RuntimeWarning: divide by zero encountered in double_scalars\n",
      "C:\\Users\\vsgo222\\AppData\\Local\\Continuum\\anaconda3\\lib\\site-packages\\ipykernel_launcher.py:27: RuntimeWarning: invalid value encountered in double_scalars\n"
     ]
    },
    {
     "name": "stdout",
     "output_type": "stream",
     "text": [
      "Sucess\n"
     ]
    }
   ],
   "source": [
    "# get unique values of years and city_ids\n",
    "_df = pd.read_csv('modified_dataset.csv')\n",
    "_df2 = _df.drop_duplicates(['CBSA','Mode','Year'])\n",
    "cbsas = _df2['CBSA'].unique()\n",
    "modes = _df2['Mode'].unique()\n",
    "years = _df2['Year'].unique()\n",
    "df2 = _df2.set_index(['CBSA','Mode','Year'])\n",
    "# df2.head()\n",
    "\n",
    "for cbsa in cbsas:\n",
    "    for mode in modes: \n",
    "        for year in years: \n",
    "            if df2.index.contains((cbsa,mode,year)): \n",
    "                if df2.index.contains((cbsa,mode,year-1)):\n",
    "                    colnames = ['UPT_ADJ', 'VRM_ADJ', 'VRH_ADJ', 'FARE_TOTAL', 'FARE_per_UPT_2018', 'AVG_SPEED']\n",
    "                    for col in colnames:\n",
    "                        cName = str(mode)+\"_\"+str(col)\n",
    "                        colName = cName+'_diff'\n",
    "                        logName = cName+'_log'\n",
    "                        reldiff = \"PCT_\"+cName+\"_rel_diff\"\n",
    "                        if (df2.loc[(cbsa,mode,year),cName]>0):\n",
    "                            # get the difference colmn populated\n",
    "                            df2.loc[(cbsa,mode,year),colName] = df2.loc[(cbsa,mode,year),cName] - df2.loc[(cbsa,mode,year-1),cName]\n",
    "                            # get the percent relative difference colmn populated\n",
    "                            df2.loc[(cbsa,mode,year),reldiff] = (df2.loc[(cbsa,mode,year),colName]*(100))/(df2.loc[(cbsa,mode,year-1),cName])\n",
    "                            # get the scale colmn populated\n",
    "                            df2[cName+\"_scale\"] = df2.loc[(cbsa,mode,year),reldiff]*(df2.loc[(cbsa,mode,year-1),cName])                        \n",
    "                            # get the lograthmic difference colmn populated\n",
    "                            if (df2.loc[(cbsa,mode,year),cName]>0 and df2.loc[(cbsa,mode,year-1),cName]>0):\n",
    "                                df2.loc[(cbsa,mode,year),logName] = np.log(df2.loc[(cbsa,mode,year),cName]) - np.log(df2.loc[(cbsa,mode,year-1),cName])\n",
    "                        \n",
    "                        \n",
    "df2.to_csv('modified_dataset_2.csv')                       \n",
    "print(\"Sucess\")                    "
   ]
  },
  {
   "cell_type": "code",
   "execution_count": null,
   "metadata": {},
   "outputs": [],
   "source": []
  }
 ],
 "metadata": {
  "anaconda-cloud": {},
  "kernelspec": {
   "display_name": "Python 3",
   "language": "python",
   "name": "python3"
  },
  "language_info": {
   "codemirror_mode": {
    "name": "ipython",
    "version": 3
   },
   "file_extension": ".py",
   "mimetype": "text/x-python",
   "name": "python",
   "nbconvert_exporter": "python",
   "pygments_lexer": "ipython3",
   "version": "3.7.4"
  }
 },
 "nbformat": 4,
 "nbformat_minor": 2
}
