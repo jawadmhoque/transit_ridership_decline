{
 "cells": [
  {
   "cell_type": "code",
   "execution_count": 9,
   "metadata": {
    "collapsed": true
   },
   "outputs": [],
   "source": [
    "import os.path\n",
    "import matplotlib.pyplot as plt\n",
    "import numpy as np\n",
    "import pandas as pd"
   ]
  },
  {
   "cell_type": "code",
   "execution_count": 34,
   "metadata": {},
   "outputs": [],
   "source": [
    "script_folder = r'D:\\UoK\\OneDrive - University of Kentucky\\github\\Transit_ridership\\transit_ridership_decline\\Factors and Ridership Data\\code'\n",
    "load_data = r'D:\\UoK\\OneDrive - University of Kentucky\\github\\Transit_ridership\\transit_ridership_decline\\Factors and Ridership Data\\Model Estimation\\Est4'\n",
    "output_folder = r'CD:\\UoK\\OneDrive - University of Kentucky\\github\\Transit_ridership\\transit_ridership_decline\\Factors and Ridership Data\\Script Outputs'\n",
    "folder_path = ''\n",
    "file_name = ''\n"
   ]
  },
  {
   "cell_type": "code",
   "execution_count": 35,
   "metadata": {
    "collapsed": true
   },
   "outputs": [],
   "source": [
    "def FAC_total_GTClusters():\n",
    "    os.chdir(load_data)\n",
    "    df = pd.read_csv('FAC_totals_GT_CLUSTERS.csv')\n",
    "\n",
    "    # get dataset's file name\n",
    "    file_name = 'FAC_totals_GT_CLUSTERS'\n",
    "\n",
    "    # Define columns    \n",
    "    clusters_col = 'CLUSTER_GT_NEW_11'\n",
    "    # charname = 'FAC_totals_GT_CLUSTERS'\n",
    "    chartinitials = file_name\n",
    "\n",
    "    # set folder  path\n",
    "    folder_path = file_name\n",
    "    # df, CLUSTER_GT_NEW_11, FAC_totals_GT_CLUSTERS\n",
    "    prepare_charts(df,clusters_col,chartinitials,file_name)"
   ]
  },
  {
   "cell_type": "code",
   "execution_count": 36,
   "metadata": {
    "collapsed": true
   },
   "outputs": [],
   "source": [
    "def FAC_totals_gt_grouped_CLUSTERS():\n",
    "    os.chdir(load_data)\n",
    "    df = pd.read_csv('FAC_totals_gt_grouped_CLUSTERS.csv')\n",
    "\n",
    "    # get dataset's file name\n",
    "    file_name = 'FAC_totals_gt_grouped_CLUSTERS'\n",
    "\n",
    "    # Define columns \n",
    "    clusters_col = 'CLUSTER_GT_8_GROUPS'\n",
    "    \n",
    "    # charname = 'FAC_totals_GT_CLUSTERS'\n",
    "    chartinitials = file_name\n",
    "\n",
    "    # set folder  path\n",
    "    folder_path = file_name\n",
    "    # df, CLUSTER_GT_8_GROUPS, FAC_totals_gt_grouped_CLUSTERS\n",
    "    prepare_charts(df,clusters_col,chartinitials,file_name)"
   ]
  },
  {
   "cell_type": "code",
   "execution_count": 37,
   "metadata": {
    "collapsed": true
   },
   "outputs": [],
   "source": [
    "def FAC_totals_APTA_CLUSTERS():\n",
    "    os.chdir(load_data)\n",
    "    df = pd.read_csv('FAC_totals_APTA_CLUSTERS.csv')\n",
    "\n",
    "    # get dataset's file name\n",
    "    file_name = 'FAC_totals_APTA_CLUSTERS'\n",
    "\n",
    "    # Define columns \n",
    "    clusters_col = 'CLUSTER_APTA'\n",
    "    \n",
    "    # charname = 'FAC_totals_GT_CLUSTERS'\n",
    "    chartinitials = file_name\n",
    "\n",
    "    # set folder  path\n",
    "    folder_path = file_name\n",
    "    # df, CLUSTER_APTA, FAC_totals_APTA_CLUSTERS\n",
    "    prepare_charts(df,clusters_col,chartinitials,file_name)"
   ]
  },
  {
   "cell_type": "code",
   "execution_count": 38,
   "metadata": {
    "collapsed": true
   },
   "outputs": [],
   "source": [
    "def FAC_totals_apta_grouped_CLUSTERS():\n",
    "    os.chdir(load_data)\n",
    "    df = pd.read_csv('FAC_totals_apta_grouped_CLUSTERS.csv')\n",
    "\n",
    "    # get dataset's file name\n",
    "    file_name = 'FAC_totals_apta_grouped_CLUSTERS'\n",
    "\n",
    "    # Define columns \n",
    "    clusters_col = 'CLUSTER_APTA_GROUPED'\n",
    "    \n",
    "    # charname = 'FAC_totals_GT_CLUSTERS'\n",
    "    chartinitials = file_name\n",
    "\n",
    "    # set folder  path\n",
    "    folder_path = file_name\n",
    "    # df, CLUSTER_APTA_GROUPED, FAC_totals_APTA_HML_CLUSTERS\n",
    "    prepare_charts(df,clusters_col,chartinitials,file_name)"
   ]
  },
  {
   "cell_type": "code",
   "execution_count": 39,
   "metadata": {
    "collapsed": true
   },
   "outputs": [],
   "source": [
    "# df, CLUSTER_GT_8_GROUPS, FAC_totals_gt_grouped_CLUSTERS\n",
    "def prepare_charts(_df, _clustercolumn, _charinitials,_file_name):\n",
    "    df = _df\n",
    "    clustercolumn = _clustercolumn\n",
    "    chartinitials = _charinitials\n",
    "    folder_path = _file_name\n",
    "    # get unique clusters\n",
    "    clusters = df[clustercolumn].unique()\n",
    "    clusters.sort()\n",
    "    # get unique modes\n",
    "    df.rename(columns={'RAIL_FLAG': 'Mode'}, inplace=True)\n",
    "    modes = df['Mode'].unique()\n",
    "    modes.sort()\n",
    "    # get unique years\n",
    "    years = df['Year'].unique()\n",
    "    years.sort()      \n",
    "\n",
    "    for cluster in clusters:        \n",
    "        df_fltr = df[df[clustercolumn] == cluster]\n",
    "        # Print the cluster \n",
    "        col_index = df_fltr.columns.get_loc(clustercolumn)\n",
    "        cluster_code = str(df_fltr.iloc[0, col_index])\n",
    "        print('Cluster Code:' + str(cluster_code))\n",
    "        df_fltr['Year'] = pd.to_datetime(df_fltr['Year'].astype(str), format='%Y')\n",
    "        df_fltr_mod = df_fltr.set_index(pd.DatetimeIndex(df_fltr['Year']).year)        \n",
    "        # get number of sub-plots defined - 4*2 means 4 rows having 2 graphs (each sized 18x9) in each row = 8 graphs\n",
    "        fig, ax = plt.subplots(nrows=4, ncols=2, figsize=(18, 9))        \n",
    "        x = 1\n",
    "        for mode in modes:\n",
    "            df_fltr_mode = df_fltr_mod[df_fltr_mod.Mode == mode]            \n",
    "            # Year vs Total_FAC_Scaled --> Graph (0,0)\n",
    "            df_fltr_mode.groupby('Mode').plot(x='Year', y='Total_FAC', label=str(mode), ax=ax[0][0], legend=True)\n",
    "            ax[0][0].set(xlabel=\"Years\", ylabel='Total FAC scaled')\n",
    "            ax[0][0].legend(loc='best')\n",
    "            # Year vs POP_EMP_log_FAC_scaled --> Graph (1,0)\n",
    "            df_fltr_mode.groupby('Mode').plot(x='Year', y='POP_EMP_log_FAC', label=str(mode), ax=ax[1][0], legend=True)\n",
    "            ax[1][0].set(xlabel=\"Years\", ylabel='Ppl Employment scaled')\n",
    "            ax[1][0].legend(loc='best')\n",
    "            # Year vs TSD_POP_PCT_FAC_scaled --> Graph (2,0)\n",
    "            df_fltr_mode.groupby('Mode').plot(x='Year', y='TSD_POP_PCT_FAC', label=str(mode), ax=ax[2][0], legend=True)\n",
    "            ax[2][0].set(xlabel=\"Years\", ylabel='TSD Ppl scaled')\n",
    "            ax[2][0].legend(loc='best')\n",
    "            # Year vs PCT_HH_NO_VEH_FAC_scaled --> Graph (3,0)\n",
    "            df_fltr_mode.groupby('Mode').plot(x='Year', y='PCT_HH_NO_VEH_FAC', label=str(mode), ax=ax[3][0], legend=True)\n",
    "            ax[3][0].set(xlabel=\"Years\", ylabel='HH with no vehicles scaled')\n",
    "            ax[3][0].legend(loc='best')           \n",
    "            # # Year vs Total_FAC_Scaled --> Graph (1,0)\n",
    "            # df_fltr_modes.groupby('Mode').plot(x='Year', y='Total_FAC_scaled', label=str(mode), ax=ax[0][0], legend=True)\n",
    "            # Year vs FARE_per_UPT_log_FAC_scaled --> Graph (1,1)\n",
    "            df_fltr_mode.groupby('Mode').plot(x='Year', y='GasPrice_log_FAC', label=str(mode), ax=ax[1][1], legend=True)\n",
    "            ax[1][1].set(xlabel=\"Years\", ylabel='Gas Price Scaled')\n",
    "            ax[1][1].legend(loc='best')\n",
    "            # Year vs FARE_per_UPT_log_FAC_scaled --> Graph (2,1)\n",
    "            df_fltr_mode.groupby('Mode').plot(x='Year', y='FARE_per_UPT_log_FAC', label=str(mode), ax=ax[2][1], legend=True)\n",
    "            ax[2][1].set(xlabel=\"Years\", ylabel='Fare Scaled')\n",
    "            ax[2][1].legend(loc='best')\n",
    "            # Year vs VRM_ADJ_log_FAC_scaled --> Graph (1,3)\n",
    "            df_fltr_mode.groupby('Mode').plot(x='Year', y='VRM_ADJ_log_FAC', label=str(mode), ax=ax[3][1], legend=True)\n",
    "            ax[3][1].set(xlabel=\"Years\", ylabel='VRMs Scaled')\n",
    "            ax[3][1].legend(loc='best')\n",
    "                        \n",
    "        fig.suptitle(('Cluster Code:' + str(cluster_code)),fontsize=14)\n",
    "        fig.tight_layout()\n",
    "        _figno = x\n",
    "\n",
    "        # code to let these file save in the specific folder\n",
    "        os.chdir(output_folder)\n",
    "        # add folder name\n",
    "#         save_folder = output_folder +'\\\\' + folder_path\n",
    "        os.path.join(output_folder, folder_path)\n",
    "        if not os.path.exists(os.path.join(output_folder, folder_path)):\n",
    "            os.mkdir(folder_path)\n",
    "            print (folder_path + \": sucessfully created\")\n",
    "        else:\n",
    "            print (folder_path + \": already exists\")\n",
    "            \n",
    "        mod = output_folder + \"\\\\\" + str(folder_path)\n",
    "        os.chdir(mod)\n",
    "        fig.savefig((\"Fig \" + str(_figno) + \"-\" + cluster_code + \".png\"))\n",
    "        plt.suptitle(cluster_code,fontsize=14)\n",
    "        plt.close(fig)\n",
    "        x += 1        "
   ]
  },
  {
   "cell_type": "code",
   "execution_count": 40,
   "metadata": {},
   "outputs": [
    {
     "name": "stdout",
     "output_type": "stream",
     "text": [
      "Cluster Code:1\n"
     ]
    },
    {
     "name": "stderr",
     "output_type": "stream",
     "text": [
      "C:\\Program Files\\Anaconda3\\lib\\site-packages\\ipykernel\\__main__.py:24: SettingWithCopyWarning: \n",
      "A value is trying to be set on a copy of a slice from a DataFrame.\n",
      "Try using .loc[row_indexer,col_indexer] = value instead\n",
      "\n",
      "See the caveats in the documentation: http://pandas.pydata.org/pandas-docs/stable/indexing.html#indexing-view-versus-copy\n"
     ]
    },
    {
     "name": "stdout",
     "output_type": "stream",
     "text": [
      "FAC_totals_GT_CLUSTERS: already exists\n",
      "Cluster Code:2\n",
      "FAC_totals_GT_CLUSTERS: already exists\n",
      "Cluster Code:3\n",
      "FAC_totals_GT_CLUSTERS: already exists\n",
      "Cluster Code:4\n",
      "FAC_totals_GT_CLUSTERS: already exists\n",
      "Cluster Code:5\n",
      "FAC_totals_GT_CLUSTERS: already exists\n",
      "Cluster Code:6\n",
      "FAC_totals_GT_CLUSTERS: already exists\n",
      "Cluster Code:7\n",
      "FAC_totals_GT_CLUSTERS: already exists\n",
      "Cluster Code:8\n",
      "FAC_totals_GT_CLUSTERS: already exists\n",
      "Cluster Code:9\n",
      "FAC_totals_GT_CLUSTERS: already exists\n",
      "Cluster Code:10\n",
      "FAC_totals_GT_CLUSTERS: already exists\n",
      "Cluster Code:11\n",
      "FAC_totals_GT_CLUSTERS: already exists\n",
      "Cluster Code:100\n",
      "FAC_totals_GT_CLUSTERS: already exists\n",
      "Cluster Code:100\n",
      "FAC_totals_gt_grouped_CLUSTERS: already exists\n",
      "Cluster Code:A\n",
      "FAC_totals_gt_grouped_CLUSTERS: already exists\n",
      "Cluster Code:B\n",
      "FAC_totals_gt_grouped_CLUSTERS: already exists\n",
      "Cluster Code:C\n",
      "FAC_totals_gt_grouped_CLUSTERS: already exists\n",
      "Cluster Code:D\n",
      "FAC_totals_gt_grouped_CLUSTERS: already exists\n",
      "Cluster Code:E\n",
      "FAC_totals_gt_grouped_CLUSTERS: already exists\n",
      "Cluster Code:F\n",
      "FAC_totals_gt_grouped_CLUSTERS: already exists\n",
      "Cluster Code:G\n",
      "FAC_totals_gt_grouped_CLUSTERS: already exists\n",
      "Cluster Code:H\n",
      "FAC_totals_gt_grouped_CLUSTERS: already exists\n",
      "Cluster Code:10.0\n",
      "FAC_totals_APTA_CLUSTERS: already exists\n",
      "Cluster Code:21.0\n",
      "FAC_totals_APTA_CLUSTERS: already exists\n",
      "Cluster Code:22.0\n",
      "FAC_totals_APTA_CLUSTERS: already exists\n",
      "Cluster Code:23.0\n",
      "FAC_totals_APTA_CLUSTERS: already exists\n",
      "Cluster Code:24.0\n",
      "FAC_totals_APTA_CLUSTERS: already exists\n",
      "Cluster Code:31.0\n",
      "FAC_totals_APTA_CLUSTERS: already exists\n",
      "Cluster Code:32.0\n",
      "FAC_totals_APTA_CLUSTERS: already exists\n",
      "Cluster Code:33.0\n",
      "FAC_totals_APTA_CLUSTERS: already exists\n",
      "Cluster Code:34.0\n",
      "FAC_totals_APTA_CLUSTERS: already exists\n",
      "Cluster Code:100.0\n",
      "FAC_totals_APTA_CLUSTERS: already exists\n",
      "Cluster Code:1\n",
      "FAC_totals_apta_grouped_CLUSTERS: already exists\n",
      "Cluster Code:2\n",
      "FAC_totals_apta_grouped_CLUSTERS: already exists\n",
      "Cluster Code:3\n",
      "FAC_totals_apta_grouped_CLUSTERS: already exists\n"
     ]
    }
   ],
   "source": [
    "def main():\n",
    "    FAC_total_GTClusters()\n",
    "    FAC_totals_gt_grouped_CLUSTERS()\n",
    "    FAC_totals_APTA_CLUSTERS()\n",
    "    FAC_totals_apta_grouped_CLUSTERS()\n",
    "\n",
    "\n",
    "if __name__ == \"__main__\":\n",
    "    main()"
   ]
  },
  {
   "cell_type": "code",
   "execution_count": 33,
   "metadata": {},
   "outputs": [
    {
     "data": {
      "text/plain": [
       "<function dir>"
      ]
     },
     "execution_count": 33,
     "metadata": {},
     "output_type": "execute_result"
    }
   ],
   "source": []
  },
  {
   "cell_type": "code",
   "execution_count": null,
   "metadata": {
    "collapsed": true
   },
   "outputs": [],
   "source": []
  }
 ],
 "metadata": {
  "anaconda-cloud": {},
  "file_extension": ".py",
  "kernelspec": {
   "display_name": "Python 3",
   "language": "python",
   "name": "python3"
  },
  "language_info": {
   "codemirror_mode": {
    "name": "ipython",
    "version": 3
   },
   "file_extension": ".py",
   "mimetype": "text/x-python",
   "name": "python",
   "nbconvert_exporter": "python",
   "pygments_lexer": "ipython3",
   "version": "3.7.4"
  },
  "mimetype": "text/x-python",
  "name": "python",
  "npconvert_exporter": "python",
  "pygments_lexer": "ipython3",
  "version": 3
 },
 "nbformat": 4,
 "nbformat_minor": 2
}
