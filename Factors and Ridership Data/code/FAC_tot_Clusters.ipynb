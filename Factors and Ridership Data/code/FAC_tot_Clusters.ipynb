{
 "nbformat": 4,
 "nbformat_minor": 2,
 "metadata": {
  "language_info": {
   "name": "python",
   "codemirror_mode": {
    "name": "ipython",
    "version": 3
   }
  },
  "orig_nbformat": 2,
  "file_extension": ".py",
  "mimetype": "text/x-python",
  "name": "python",
  "npconvert_exporter": "python",
  "pygments_lexer": "ipython3",
  "version": 3
 },
 "cells": [
  {
   "cell_type": "code",
   "execution_count": 217,
   "metadata": {},
   "outputs": [],
   "source": [
    "import os.path\n",
    "import matplotlib.pyplot as plt\n",
    "import numpy as np\n",
    "import pandas as pd\n",
    "import send2trash"
   ]
  },
  {
   "cell_type": "code",
   "execution_count": 218,
   "metadata": {},
   "outputs": [],
   "source": [
    "script_folder = r'D:\\UoK\\OneDrive - University of Kentucky\\github\\Transit_ridership\\transit_ridership_decline\\Factors and Ridership Data\\code'\n",
    "load_data = r'D:\\UoK\\OneDrive - University of Kentucky\\github\\Transit_ridership\\transit_ridership_decline\\Factors and Ridership Data\\Model Estimation\\Est4'\n",
    "output_folder = r'D:\\UoK\\OneDrive - University of Kentucky\\github\\Transit_ridership\\transit_ridership_decline\\Factors and Ridership Data\\Script Outputs'\n",
    "folder_path = 'FAC_Charts'\n"
   ]
  },
  {
   "cell_type": "code",
   "execution_count": 219,
   "metadata": {},
   "outputs": [],
   "source": [
    "def FAC_total_GTClusters():\n",
    "    os.chdir(load_data)\n",
    "    df = pd.read_csv('FAC_totals_GT_CLUSTERS.csv')\n",
    "    # Define columns\n",
    "    clusters_col = 'CLUSTER_GT_NEW_11'\n",
    "    charname = 'FAC_totals_GT_CLUSTERS'\n",
    "    charint = 'FAC_totals_GT_CLUSTERS'\n",
    "    prepare_charts(df,clusters_col,charint)"
   ]
  },
  {
   "cell_type": "code",
   "execution_count": null,
   "metadata": {},
   "outputs": [],
   "source": [
    "def FAC_totals_gt_grouped_CLUSTERS():\n",
    "    os.chdir(load_data)\n",
    "    df = pd.read_csv('FAC_totals_GT_CLUSTERS.csv')\n",
    "    # Define columns\n",
    "    clusters_col = 'CLUSTER_GT_8_GROUPS'\n",
    "    charname = 'FAC_totals_GT_CLUSTERS'\n",
    "    charint = 'FAC_totals_GT_CLUSTERS'\n",
    "    prepare_charts(df,clusters_col,charint)"
   ]
  },
  {
   "cell_type": "code",
   "execution_count": 220,
   "metadata": {},
   "outputs": [],
   "source": [
    "# def FAC_total_GTGrouped():\n",
    "# os.chdir(load_data)\n",
    "# df = pd.read_csv('FAC_totals_gt_grouped_CLUSTERS.csv')\n",
    "# df.head(50)"
   ]
  },
  {
   "cell_type": "code",
   "execution_count": 221,
   "metadata": {},
   "outputs": [],
   "source": [
    "def prepare_charts(_df, _clustercolumn, _charinitials):\n",
    "    df = _df\n",
    "    clustercolumn = _clustercolumn\n",
    "    chartinitials = _charinitials\n",
    "    # get unique clusters\n",
    "    clusters = df[clustercolumn].unique()\n",
    "    clusters.sort()\n",
    "    # get unique modes\n",
    "    df.rename(columns={'RAIL_FLAG': 'Mode'}, inplace=True)\n",
    "    modes = df['Mode'].unique()\n",
    "    modes.sort()\n",
    "    # get unique years\n",
    "    years = df['Year'].unique()\n",
    "    years.sort()    \n",
    "\n",
    "    for cluster in clusters:\n",
    "        df_fltr = df[df[clustercolumn] == cluster]\n",
    "        # Print the cluster \n",
    "        col_index = df_fltr.columns.get_loc(clustercolumn)\n",
    "        cluster_code = str(df_fltr.iloc[0, col_index])\n",
    "        print('Cluster Code:' + str(cluster_code))\n",
    "        df_fltr['Year'] = pd.to_datetime(df_fltr['Year'].astype(str), format='%Y')\n",
    "        df_fltr_mod = df_fltr.set_index(pd.DatetimeIndex(df_fltr['Year']).year)        \n",
    "        # get number of sub-plots defined - 4*2 means 4 rows having 2 graphs (each sized 18x9) in each row = 8 graphs\n",
    "        fig, ax = plt.subplots(nrows=4, ncols=2, figsize=(18, 9))        \n",
    "        x = 1\n",
    "        for mode in modes:\n",
    "            df_fltr_mode = df_fltr_mod[df_fltr_mod.Mode == mode]            \n",
    "            # Year vs Total_FAC_Scaled --> Graph (0,0)\n",
    "            df_fltr_mode.groupby('Mode').plot(x='Year', y='Total_FAC_scaled', label=str(mode), ax=ax[0][0], legend=True)\n",
    "            ax[0][0].set(xlabel=\"Years\", ylabel='Total FAC scaled')\n",
    "            ax[0][0].legend(loc='best')\n",
    "            # Year vs POP_EMP_log_FAC_scaled --> Graph (1,0)\n",
    "            df_fltr_mode.groupby('Mode').plot(x='Year', y='POP_EMP_log_FAC_scaled', label=str(mode), ax=ax[1][0], legend=True)\n",
    "            ax[1][0].set(xlabel=\"Years\", ylabel='Ppl Employment scaled')\n",
    "            ax[1][0].legend(loc='best')\n",
    "            # Year vs TSD_POP_PCT_FAC_scaled --> Graph (2,0)\n",
    "            df_fltr_mode.groupby('Mode').plot(x='Year', y='TSD_POP_PCT_FAC_scaled', label=str(mode), ax=ax[2][0], legend=True)\n",
    "            ax[2][0].set(xlabel=\"Years\", ylabel='TSD Ppl scaled')\n",
    "            ax[2][0].legend(loc='best')\n",
    "            # Year vs PCT_HH_NO_VEH_FAC_scaled --> Graph (3,0)\n",
    "            df_fltr_mode.groupby('Mode').plot(x='Year', y='PCT_HH_NO_VEH_FAC_scaled', label=str(mode), ax=ax[3][0], legend=True)\n",
    "            ax[3][0].set(xlabel=\"Years\", ylabel='HH with no vehicles scaled')\n",
    "            ax[3][0].legend(loc='best')           \n",
    "            # # Year vs Total_FAC_Scaled --> Graph (1,0)\n",
    "            # df_fltr_modes.groupby('Mode').plot(x='Year', y='Total_FAC_scaled', label=str(mode), ax=ax[0][0], legend=True)\n",
    "            # Year vs FARE_per_UPT_log_FAC_scaled --> Graph (1,1)\n",
    "            df_fltr_mode.groupby('Mode').plot(x='Year', y='GasPrice_log_FAC_scaled', label=str(mode), ax=ax[1][1], legend=True)\n",
    "            ax[1][1].set(xlabel=\"Years\", ylabel='Gas Price Scaled')\n",
    "            ax[1][1].legend(loc='best')\n",
    "            # Year vs FARE_per_UPT_log_FAC_scaled --> Graph (2,1)\n",
    "            df_fltr_mode.groupby('Mode').plot(x='Year', y='FARE_per_UPT_log_FAC_scaled', label=str(mode), ax=ax[2][1], legend=True)\n",
    "            ax[2][1].set(xlabel=\"Years\", ylabel='Fare Scaled')\n",
    "            ax[2][1].legend(loc='best')\n",
    "            # Year vs VRM_ADJ_log_FAC_scaled --> Graph (1,3)\n",
    "            df_fltr_mode.groupby('Mode').plot(x='Year', y='VRM_ADJ_log_FAC_scaled', label=str(mode), ax=ax[3][1], legend=True)\n",
    "            ax[3][1].set(xlabel=\"Years\", ylabel='VRMs Scaled')\n",
    "            ax[3][1].legend(loc='best')\n",
    "                        \n",
    "        fig.suptitle(('Cluster Code:' + str(cluster_code)),fontsize=14)\n",
    "        fig.tight_layout()\n",
    "        _figno = x\n",
    "        # setting path to the dataset folder\n",
    "        os.chdir(output_folder)\n",
    "        # basepath = Path(output_folder + '\\\\'+ folder_path)        \n",
    "        # if not os.path.exists(folder_path):\n",
    "        #     os.makedirs(folder_path)                \n",
    "        fig.savefig((folder_path + \"\\Fig - \" + str(_figno) + \" - \" + cluster_code + \".png\"))\n",
    "        plt.suptitle(cluster_code,fontsize=14)\n",
    "        # plt.title(city_name)\n",
    "        plt.close(fig)\n",
    "        x += 1   "
   ]
  },
  {
   "cell_type": "code",
   "execution_count": null,
   "metadata": {},
   "outputs": [],
   "source": []
  },
  {
   "cell_type": "code",
   "execution_count": 222,
   "metadata": {},
   "outputs": [
    {
     "name": "stdout",
     "output_type": "stream",
     "text": "Cluster Code:1\nC:\\ProgramData\\Anaconda3\\lib\\site-packages\\ipykernel_launcher.py:22: SettingWithCopyWarning: \nA value is trying to be set on a copy of a slice from a DataFrame.\nTry using .loc[row_indexer,col_indexer] = value instead\n\nSee the caveats in the documentation: http://pandas.pydata.org/pandas-docs/stable/user_guide/indexing.html#returning-a-view-versus-a-copy\nCluster Code:2\nCluster Code:3\nCluster Code:4\nCluster Code:5\nCluster Code:6\nCluster Code:7\nCluster Code:8\nCluster Code:9\nCluster Code:10\nCluster Code:11\nCluster Code:100\n"
    }
   ],
   "source": [
    "def main():\n",
    "#     # FAC_total_APTAClusters()\n",
    "#     # FAC_total_APTAGrouped()\n",
    "    FAC_total_GTClusters()\n",
    "    FAC_totals_gt_grouped_CLUSTERS()\n",
    "\n",
    "\n",
    "if __name__ == \"__main__\":\n",
    "    main()"
   ]
  },
  {
   "cell_type": "code",
   "execution_count": null,
   "metadata": {},
   "outputs": [],
   "source": []
  }
 ]
}