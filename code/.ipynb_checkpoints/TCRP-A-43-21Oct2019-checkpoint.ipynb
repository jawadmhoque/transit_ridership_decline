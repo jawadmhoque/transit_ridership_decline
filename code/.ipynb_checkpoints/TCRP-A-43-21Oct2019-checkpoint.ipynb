{
 "cells": [
  {
   "cell_type": "code",
   "execution_count": 2,
   "metadata": {
    "scrolled": true
   },
   "outputs": [],
   "source": [
    "import os.path\n",
    "import matplotlib.pyplot as plt\n",
    "import numpy as np\n",
    "import pandas as pd\n",
    "\n",
    "path = r'D:\\UoK\\OneDrive - University of Kentucky\\github\\transit_ridership_decline\\Factors and Ridership Data\\Shared_dataset'"
   ]
  },
  {
   "cell_type": "code",
   "execution_count": 3,
   "metadata": {
    "scrolled": true
   },
   "outputs": [],
   "source": [
    "def read_PBS():\n",
    "    os.chdir(\n",
    "        r'D:\\UoK\\OneDrive - University of Kentucky\\github\\transit_ridership_decline\\Factors and Ridership Data\\Shared_dataset')\n",
    "    df = pd.read_excel('CBSA_PBS.xlsx')\n",
    "\n",
    "    df['PBS_Start'] = np.where(df['PBS_Start'].isnull(), 0, df['PBS_Start'])\n",
    "    df['PBS_End'] = np.where(df['PBS_End'].isnull(), 0, df['PBS_End'])\n",
    "\n",
    "    df2 = pd.DataFrame(columns=['CBSAFP', 'Year', 'PBS_Start', 'PBS_End', 'PBS_Flag', 'Link'])\n",
    "    PBS_Scores = []\n",
    "    for index, row in df.iterrows():\n",
    "        x = 2002\n",
    "        result = 0\n",
    "        while x < 2019:\n",
    "            if row['PBS_Start'] != 0:\n",
    "                result = np.where(int(row['PBS_Start']) > x, 0, 1)\n",
    "            if row['PBS_End'] != 0:\n",
    "                result = np.where(row['PBS_End'] > x, 1, 0)\n",
    "            result_dict = {\n",
    "                'CBSAFP': str(row['CBSAFP']), 'Year': str(x), 'PBS_Start': str(row['PBS_Start']),\n",
    "                'PBS_End': str(row['PBS_End']), 'PBS_Flag': int(result), 'Link': str(row['Link'])\n",
    "            }\n",
    "            PBS_Scores.append(result_dict)\n",
    "            x += 1\n",
    "    # set the path to the dataset folder\n",
    "    os.chdir(\n",
    "        r'D:\\UoK\\OneDrive - University of Kentucky\\github\\transit_ridership_decline\\Factors and Ridership Data\\Shared_dataset')\n",
    "    # Write the full results to csv using the pandas library.\n",
    "    pd.DataFrame(PBS_Scores).to_csv(\"PBS_Scores.csv\", encoding='utf8')\n",
    "    pd.DataFrame(PBS_Scores).to_excel(\"CBSA_PBS_Scores.xlsx\")\n",
    "    print(\"PBS file created sucessfully\")\n",
    "\n",
    "# get data for the dockless and scooters\n",
    "def get_cbsa_dockless_scooters():\n",
    "    os.chdir(r'D:\\UoK\\OneDrive - University of Kentucky\\github\\transit_ridership_decline\\Factors and Ridership Data\\Shared_dataset')\n",
    "    df = pd.read_csv('CBSA_Dockless&Scooter.csv')\n",
    "    # Group by and sum the docked, dockless and scooters based on CBSA code values and  years\n",
    "    df.groupby(['CBSAFP', 'Year']).sum().to_csv('summed_CBSA_copy.csv')\n",
    "    # _df = df.groupby(['CBSAFP', 'Year']).sum()\n",
    "#     _df.to_csv('summed_copy.csv')\n",
    "    _df=pd.read_csv('summed_copy.csv')\n",
    "    # now return\n",
    "    return _df\n",
    "# \n",
    "# get data for the public bike sharing schemes (PBS) -- Note - this data is different from the dockless and scooters.\n",
    "def get_cbsa_pbs():\n",
    "    # read the Dockless and Scooter file and save it as excel\n",
    "    os.chdir(r'D:\\UoK\\OneDrive - University of Kentucky\\github\\transit_ridership_decline\\Factors and Ridership Data\\Shared_dataset')\n",
    "    df = pd.read_excel('CBSA_PBS_Scores.xlsx')\n",
    "    # now return\n",
    "    return df\n",
    "\n",
    "# get the walkscores for each city part of the analysis. If there are new cities please run the walkscore_script.py\n",
    "# before running this function\n",
    "def get_cbsa_walkscore():\n",
    "    # read the Dockless and Scooter file and save it as excel\n",
    "    os.chdir(r'D:\\UoK\\OneDrive - University of Kentucky\\github\\transit_ridership_decline\\Factors and Ridership Data\\Shared_dataset')\n",
    "    df = pd.read_excel('CBSA_Walkscore.xlsx')\n",
    "    # now return\n",
    "    return df\n",
    "\n",
    "# merge datasets Stage 1 --> Stage 2 --> Stage 3\n",
    "def merge_dataset_main_dockless_scooters(_df1, _df2):\n",
    "    df = pd.merge(_df1, _df2[['CBSAFP', 'Year', 'dockCt','docklessCt','scooterCt']], how='left', left_on=['CBSA', 'Year'],\n",
    "                  right_on=['CBSAFP', 'Year'], indicator=True)\n",
    "    print(\"Dockless sucess\")\n",
    "    return df\n",
    "\n",
    "# def merge_dataset_main_pbs(_df1, _df2):\n",
    "#     _df1 = _df1.drop(columns=['_merge'])\n",
    "#     df = pd.merge(_df1, _df2[['CBSAFP', 'As_of', 'PBS_Start', 'PBS_End']], how='left', left_on=['CBSA'],\n",
    "#                   right_on=['CBSAFP'], indicator=False)\n",
    "#     print(\"PBS sucess\")\n",
    "#     return df                                                                                 \n",
    "\n",
    "def merge_dataset_main_pbs(_df1, _df2):\n",
    "    _df1 = _df1.drop(columns=['_merge'])\n",
    "    df = pd.merge(_df1, _df2[['CBSAFP', 'Year', 'PBS_Start', 'PBS_End', 'PBS_Flag', 'Link']], how='left', left_on=['CBSA', 'Year'],\n",
    "                  right_on=['CBSAFP', 'Year'], indicator=False)\n",
    "    print(\"PBS sucess\")\n",
    "    return df\n",
    "\n",
    "def merge_dataset_main_walkscore(_df1, _df2):\n",
    "    _df1 = _df1.drop(columns=['CBSAFP_x'])\n",
    "    df = pd.merge(_df1, _df2[['CBSAFP', 'Year', 'walkscore', 'transit', 'bike']], how='left', left_on=['CBSA', 'Year'],\n",
    "                  right_on=['CBSAFP', 'Year'], indicator=False)\n",
    "    print(\"Walkscore sucess\")\n",
    "    return df"
   ]
  },
  {
   "cell_type": "code",
   "execution_count": null,
   "metadata": {},
   "outputs": [],
   "source": []
  },
  {
   "cell_type": "code",
   "execution_count": 4,
   "metadata": {
    "scrolled": true
   },
   "outputs": [],
   "source": [
    "def prepare_charts(_mergeddf):\n",
    "    df = _mergeddf\n",
    "\n",
    "    # rename the columns\n",
    "    df.rename(columns={'CBSA': 'CBSACode'}, inplace=True)\n",
    "\n",
    "    # sort values based on city_id and then year\n",
    "    df = df.sort_values(['CBSACode', 'Year'], ascending=[True, False])\n",
    "\n",
    "    # get unique values of years and city_ids\n",
    "    yrs = df['Year'].unique()\n",
    "    yrs.sort()\n",
    "    id2s = df['CBSACode'].unique()\n",
    "    id2s.sort()\n",
    "\n",
    "    # TNC_year=\"\"\n",
    "    x = 1\n",
    "    for _id2s in id2s:\n",
    "        # df_fltr_id2 = df[df['CBSACode'] == _id2s]\n",
    "        df_fltr_id2 = df[df.CBSACode == _id2s]\n",
    "        print(_id2s)\n",
    "\n",
    "        # get unique modes in the city\n",
    "        modes = df_fltr_id2['Mode'].unique()\n",
    "        modes.sort()\n",
    "\n",
    "        col_index = df_fltr_id2.columns.get_loc(\"MNAME\")\n",
    "        city_name = str(df_fltr_id2.iloc[0, col_index])\n",
    "        print('Cityname:' + str(city_name))\n",
    "\n",
    "        df_fltr_id2['Year'] = pd.to_datetime(df_fltr_id2['Year'].astype(str), format='%Y')\n",
    "\n",
    "        df_fltr_id2 = df_fltr_id2.set_index(pd.DatetimeIndex(df_fltr_id2['Year']).year)\n",
    "\n",
    "        # get number of sub-plots defined - 4*3 means 4 rows having 3 graphs (each sized 18x9) in each row = 12 graphs\n",
    "        fig, ax = plt.subplots(nrows=4, ncols=3, figsize=(18, 9))\n",
    "\n",
    "        # Year vs Total Population --> Graph (0,1)\n",
    "        df_fltr_id2.groupby('CBSACode').plot(x='Year', y='Tot_Pop', ax=ax[0][0], legend=True)\n",
    "        ax[0][0].set(xlabel=\"Years\", ylabel=\"Total population\")\n",
    "        ax[0][0].legend(loc='best')\n",
    "\n",
    "#         # Year vs HH with no veh\n",
    "        df_fltr_id2.groupby('CBSACode').plot(x='Year', y='PCT_HH_NO_VEH', ax=ax[1][0], legend=True)\n",
    "        ax[1][0].set(xlabel=\"Years\", ylabel=\"HH with no vehicles (in percentage)\")\n",
    "#         ax[0][1].legend(loc='best')\n",
    "\n",
    "        # Year vs Gas price\n",
    "        df_fltr_id2.groupby('CBSACode').plot(x='Year', y='GasPrice', ax=ax[3][0], legend=True)\n",
    "        ax[3][0].set(xlabel=\"Years\", ylabel=\"Gas Price ($) \")\n",
    "        ax[3][0].legend(loc='best')\n",
    "\n",
    "        # Year vs Income levels\n",
    "        df_fltr_id2.groupby('CBSACode').plot(x='Year', y=r'INC_U35', ax=ax[2][0], legend=True, marker='', color='skyblue', linewidth=2)\n",
    "        df_fltr_id2.groupby('CBSACode').plot(x='Year', y=r'INC_35_100', ax=ax[2][0], legend=True, marker='', color='olive', linewidth=2)\n",
    "        df_fltr_id2.groupby('CBSACode').plot(x='Year', y=r'INC_100P', ax=ax[2][0], legend=True, marker='', color='yellow', linewidth=2)\n",
    "        ax[2][0].set(xlabel=\"Years\", ylabel='INC_Levels($)')\n",
    "        ax[2][0].legend(loc='best')\n",
    "\n",
    "        # Year vs VRM_ADJ, UPT_ADJ, FARE_PER_UPT\n",
    "        # iterate and differentiate graph items mode wise -- Rail or Bus?\n",
    "        for _mode in modes:\n",
    "            df_fltr_modes = df_fltr_id2[df_fltr_id2['Mode'] == _mode]\n",
    "            \n",
    "            # Year vs Avg. speed\n",
    "            df_fltr_modes.groupby('Mode').plot(x='Year', y='AVG_SPEED', label=str(_mode), ax=ax[2][1], legend=True)\n",
    "#             df_fltr_id2.groupby('CBSACode').plot(x='Year', y='AVG_SPEED', ax=ax[1][0], legend=True)\n",
    "            ax[2][1].set(xlabel=\"Years\", ylabel='Avg Speed (mph)')\n",
    "            ax[2][1].legend(loc='best')\n",
    "\n",
    "            df_fltr_modes.groupby('Mode').plot(x='Year', y='VRM_ADJ', label=str(_mode), ax=ax[3][1], legend=True)\n",
    "            ax[3][1].set(xlabel=\"Years\", ylabel='VRMs')\n",
    "            ax[3][1].legend(loc='best')\n",
    "\n",
    "            df_fltr_modes.groupby('Mode').plot(x='Year', y='UPT_ADJ', label=('UPT - ' + str(_mode)), ax=ax[0][1],legend=True)\n",
    "            ax[0][1].set(xlabel=\"Years\", ylabel='Rdrship')\n",
    "            ax[0][1].legend(loc='best')\n",
    "\n",
    "            df_fltr_modes.groupby('Mode').plot(x='Year', y='FARE_per_UPT', label=('Fare/Rdr - ' + str(_mode)), ax=ax[1][1], legend=True)\n",
    "            ax[1][1].set(xlabel=\"Years\", ylabel='Fare per rdrship')\n",
    "            ax[1][1].legend(loc='best')\n",
    "\n",
    "        # # Year vs Dock count - Dockless and Scooters\n",
    "        df_fltr_id2.groupby('CBSACode').plot(x='Year', y='dockCt', ax=ax[2][2], legend=True, marker='', color='skyblue',linewidth=2)\n",
    "        df_fltr_id2.groupby('CBSACode').plot(x='Year', y='docklessCt', ax=ax[2][2], legend=True, marker='',color='olive', linewidth=2)\n",
    "        df_fltr_id2.groupby('CBSACode').plot(x='Year', y='scooterCt', ax=ax[2][2], legend=True, marker='',color='yellow', linewidth=2)\n",
    "        ax[2][2].set(xlabel=\"Years\", ylabel='PBS_Dockless_Scooters_details')\n",
    "        ax[2][2].legend(loc='best')\n",
    "        \n",
    "        # Year vs TNC Presence\n",
    "        df_fltr_id2.groupby('CBSACode').plot(x='Year', y='TNC_FLAG', ax=ax[0][2], legend=True)\n",
    "        ax[0][2].set(xlabel=\"Years\", ylabel='TNC Presence')\n",
    "        ax[0][2].legend(loc='best')\n",
    "\n",
    "        # Year vs Walkscore\n",
    "        df_fltr_id2.groupby('CBSACode').plot(x='Year', y='walkscore', ax=ax[3][2], legend=True, marker='',color='skyblue',linewidth=2)\n",
    "        df_fltr_id2.groupby('CBSACode').plot(x='Year', y='transit', ax=ax[3][2], legend=True, marker='', color='olive',linewidth=2)\n",
    "        df_fltr_id2.groupby('CBSACode').plot(x='Year', y='bike', ax=ax[3][2], legend=True, marker='', color='yellow',linewidth=2)\n",
    "        left,right = ax[3][2].get_xlim()\n",
    "        ax[3][2].set_xlim(left+1, right+1)       \n",
    "        ax[3][2].set(xlabel=\"Years\", ylabel='Walk Scores')\n",
    "        ax[3][2].legend(loc='best')\n",
    "        \n",
    "#         df_fltr_id2['PBS_Start'] = pd.to_datetime(df_fltr_id2['PBS_Start'],format='%Y')\n",
    "#         df_fltr_id2['PBS_End'] = pd.to_datetime(df_fltr_id2['PBS_End'], format='%Y')\n",
    "        # Year vs PBS_Start and End_Date\n",
    "#         PBS_prs_yr = df_fltr_id2['PBS_Start'].unique().tolist() \n",
    "#         col_index_PBS = df_fltr_id2.columns.get_loc(\"PBS_Start\") \n",
    "#         df_fltr_id2['PBS_Start'] = pd.to_datetime(df_fltr_id2['PBS_Start'].astype(str), format='%Y')\n",
    "#         if TNC_prs_yr:\n",
    "#             ax[3][2].axvline(PBS_prs_yr[0],color='green', linewidth=1)\n",
    "        df_fltr_id2.groupby('CBSACode').plot(x='Year', y='PBS_Flag', ax=ax[1][2], legend=True)\n",
    "#         df_fltr_id2.groupby('CBSACode').plot(x='Year', y='PBS_Start', ax=ax[1][2], legend=False, marker='^',color='skyblue',linewidth=2)\n",
    "#         df_fltr_id2.groupby('CBSACode').plot(x='Year', y='PBS_End', ax=ax[1][2], legend=False, marker='v',color='yellow',linewidth=2)        \n",
    "        left,right = ax[1][2].get_xlim()\n",
    "        ax[1][2].set_xlim(left+2, right+2)\n",
    "        ax[1][2].set(xlabel=\"Years\")\n",
    "        ax[1][2].legend(loc='best')\n",
    "        \n",
    "        fig.suptitle(city_name,fontsize=14)\n",
    "        fig.tight_layout()\n",
    "        _figno = x\n",
    "\n",
    "        # setting path to the dataset folder\n",
    "        os.chdir(r'D:\\UoK\\OneDrive - University of Kentucky\\github\\transit_ridership_decline\\Factors and Ridership Data\\Final Datasets')\n",
    "        #     if os.path.exists((\"Charts\\\\\"+ \"Fig \" + str(_figno) + \" - \" + city_name + \".png\")):\n",
    "        #         os.remove((\"Charts\\\\\"+ \"Fig \" + str(_figno) + \" - \" + city_name + \".png\"))\n",
    "\n",
    "        # chartname = (\"Charts\\\\\" + \"Fig \" + str(_figno) + \" - \" + city_name + \".png\")\n",
    "        fig.savefig((\"Charts\\\\\" + \"Fig \" + str(_figno) + \" - \" + city_name + \".png\"))\n",
    "        plt.suptitle(city_name,fontsize=14)\n",
    "#         plt.title(city_name)\n",
    "        plt.close(fig)\n",
    "        x += 1"
   ]
  },
  {
   "cell_type": "code",
   "execution_count": null,
   "metadata": {
    "scrolled": false
   },
   "outputs": [
    {
     "name": "stdout",
     "output_type": "stream",
     "text": [
      "PBS file created sucessfully\n",
      "Dockless sucess\n",
      "PBS sucess\n",
      "Walkscore sucess\n",
      "10180\n",
      "Cityname:Abilene, TX Metro Area\n"
     ]
    },
    {
     "name": "stderr",
     "output_type": "stream",
     "text": [
      "C:\\ProgramData\\Anaconda3\\lib\\site-packages\\ipykernel_launcher.py:31: SettingWithCopyWarning: \n",
      "A value is trying to be set on a copy of a slice from a DataFrame.\n",
      "Try using .loc[row_indexer,col_indexer] = value instead\n",
      "\n",
      "See the caveats in the documentation: http://pandas.pydata.org/pandas-docs/stable/indexing.html#indexing-view-versus-copy\n"
     ]
    },
    {
     "name": "stdout",
     "output_type": "stream",
     "text": [
      "10420\n",
      "Cityname:Akron, OH Metro Area\n",
      "10500\n",
      "Cityname:Albany, GA Metro Area\n",
      "10580\n",
      "Cityname:Albany-Schenectady-Troy, NY Metro Area\n",
      "10740\n",
      "Cityname:Albuquerque, NM Metro Area\n",
      "10780\n",
      "Cityname:Alexandria, LA Metro Area\n"
     ]
    },
    {
     "name": "stderr",
     "output_type": "stream",
     "text": [
      "C:\\ProgramData\\Anaconda3\\lib\\site-packages\\ipykernel_launcher.py:31: SettingWithCopyWarning: \n",
      "A value is trying to be set on a copy of a slice from a DataFrame.\n",
      "Try using .loc[row_indexer,col_indexer] = value instead\n",
      "\n",
      "See the caveats in the documentation: http://pandas.pydata.org/pandas-docs/stable/indexing.html#indexing-view-versus-copy\n"
     ]
    },
    {
     "name": "stdout",
     "output_type": "stream",
     "text": [
      "10900\n",
      "Cityname:Allentown-Bethlehem-Easton, PA-NJ Metro Area\n",
      "11020\n",
      "Cityname:Altoona, PA Metro Area\n",
      "11100\n",
      "Cityname:Amarillo, TX Metro Area\n",
      "11180\n",
      "Cityname:Ames, IA Metro Area\n",
      "11260\n",
      "Cityname:Anchorage, AK Metro Area\n",
      "11300\n",
      "Cityname:Anderson, IN Metro Area\n",
      "11460\n",
      "Cityname:Ann Arbor, MI Metro Area\n",
      "11540\n",
      "Cityname:Appleton, WI Metro Area\n",
      "11700\n",
      "Cityname:Asheville, NC Metro Area\n",
      "12020\n",
      "Cityname:Athens-Clarke County, GA Metro Area\n",
      "12060\n",
      "Cityname:Atlanta-Sandy Springs-Marietta, GA Metro Area\n",
      "12100\n",
      "Cityname:Atlantic City-Hammonton, NJ Metro Area\n"
     ]
    },
    {
     "name": "stderr",
     "output_type": "stream",
     "text": [
      "C:\\ProgramData\\Anaconda3\\lib\\site-packages\\ipykernel_launcher.py:31: SettingWithCopyWarning: \n",
      "A value is trying to be set on a copy of a slice from a DataFrame.\n",
      "Try using .loc[row_indexer,col_indexer] = value instead\n",
      "\n",
      "See the caveats in the documentation: http://pandas.pydata.org/pandas-docs/stable/indexing.html#indexing-view-versus-copy\n"
     ]
    },
    {
     "name": "stdout",
     "output_type": "stream",
     "text": [
      "12220\n",
      "Cityname:Auburn-Opelika, AL Metro Area\n",
      "12260\n",
      "Cityname:Augusta-Richmond County, GA-SC Metro Area\n",
      "12420\n",
      "Cityname:Austin-Round Rock-San Marcos, TX Metro Area\n",
      "12540\n",
      "Cityname:Bakersfield-Delano, CA Metro Area\n"
     ]
    },
    {
     "name": "stderr",
     "output_type": "stream",
     "text": [
      "C:\\ProgramData\\Anaconda3\\lib\\site-packages\\ipykernel_launcher.py:31: SettingWithCopyWarning: \n",
      "A value is trying to be set on a copy of a slice from a DataFrame.\n",
      "Try using .loc[row_indexer,col_indexer] = value instead\n",
      "\n",
      "See the caveats in the documentation: http://pandas.pydata.org/pandas-docs/stable/indexing.html#indexing-view-versus-copy\n"
     ]
    },
    {
     "name": "stdout",
     "output_type": "stream",
     "text": [
      "12580\n",
      "Cityname:Baltimore-Towson, MD Metro Area\n",
      "12620\n",
      "Cityname:Bangor, ME Metro Area\n"
     ]
    },
    {
     "name": "stderr",
     "output_type": "stream",
     "text": [
      "C:\\ProgramData\\Anaconda3\\lib\\site-packages\\ipykernel_launcher.py:31: SettingWithCopyWarning: \n",
      "A value is trying to be set on a copy of a slice from a DataFrame.\n",
      "Try using .loc[row_indexer,col_indexer] = value instead\n",
      "\n",
      "See the caveats in the documentation: http://pandas.pydata.org/pandas-docs/stable/indexing.html#indexing-view-versus-copy\n"
     ]
    },
    {
     "name": "stdout",
     "output_type": "stream",
     "text": [
      "12700\n",
      "Cityname:Barnstable Town, MA Metro Area\n",
      "12940\n",
      "Cityname:Baton Rouge, LA Metro Area\n",
      "12980\n",
      "Cityname:Battle Creek, MI Metro Area\n",
      "13020\n",
      "Cityname:Bay City, MI Metro Area\n",
      "13140\n",
      "Cityname:Beaumont-Port Arthur, TX Metro Area\n",
      "13380\n",
      "Cityname:Bellingham, WA Metro Area\n",
      "13460\n",
      "Cityname:Bend, OR Metro Area\n",
      "13740\n",
      "Cityname:Billings, MT Metro Area\n",
      "13780\n",
      "Cityname:Binghamton, NY Metro Area\n",
      "13820\n",
      "Cityname:Birmingham-Hoover, AL Metro Area\n",
      "13900\n",
      "Cityname:Bismarck, ND Metro Area\n",
      "13980\n",
      "Cityname:Blacksburg-Christiansburg-Radford, VA Metro Area\n",
      "14020\n",
      "Cityname:Bloomington, IN Metro Area\n",
      "14060\n",
      "Cityname:Bloomington-Normal, IL Metro Area\n",
      "14260\n",
      "Cityname:Boise City-Nampa, ID Metro Area\n",
      "14460\n",
      "Cityname:Boston-Cambridge-Quincy, MA-NH Metro Area\n",
      "14540\n",
      "Cityname:Bowling Green, KY Metro Area\n"
     ]
    },
    {
     "name": "stderr",
     "output_type": "stream",
     "text": [
      "C:\\ProgramData\\Anaconda3\\lib\\site-packages\\ipykernel_launcher.py:31: SettingWithCopyWarning: \n",
      "A value is trying to be set on a copy of a slice from a DataFrame.\n",
      "Try using .loc[row_indexer,col_indexer] = value instead\n",
      "\n",
      "See the caveats in the documentation: http://pandas.pydata.org/pandas-docs/stable/indexing.html#indexing-view-versus-copy\n"
     ]
    },
    {
     "name": "stdout",
     "output_type": "stream",
     "text": [
      "14740\n",
      "Cityname:Bremerton-Silverdale, WA Metro Area\n",
      "14860\n",
      "Cityname:Bridgeport-Stamford-Norwalk, CT Metro Area\n",
      "15180\n",
      "Cityname:Brownsville-Harlingen, TX Metro Area\n",
      "15380\n",
      "Cityname:Buffalo-Niagara Falls, NY Metro Area\n",
      "15540\n",
      "Cityname:Burlington-South Burlington, VT Metro Area\n"
     ]
    },
    {
     "name": "stderr",
     "output_type": "stream",
     "text": [
      "C:\\ProgramData\\Anaconda3\\lib\\site-packages\\ipykernel_launcher.py:31: SettingWithCopyWarning: \n",
      "A value is trying to be set on a copy of a slice from a DataFrame.\n",
      "Try using .loc[row_indexer,col_indexer] = value instead\n",
      "\n",
      "See the caveats in the documentation: http://pandas.pydata.org/pandas-docs/stable/indexing.html#indexing-view-versus-copy\n"
     ]
    },
    {
     "name": "stdout",
     "output_type": "stream",
     "text": [
      "15940\n",
      "Cityname:Canton-Massillon, OH Metro Area\n",
      "15980\n",
      "Cityname:Cape Coral-Fort Myers, FL Metro Area\n",
      "16220\n",
      "Cityname:Casper, WY Metro Area\n",
      "16300\n",
      "Cityname:Cedar Rapids, IA Metro Area\n",
      "16580\n",
      "Cityname:Champaign-Urbana, IL Metro Area\n",
      "16620\n",
      "Cityname:Charleston, WV Metro Area\n",
      "16700\n",
      "Cityname:Charleston-North Charleston-Summerville, SC Metro Area\n",
      "16740\n",
      "Cityname:Charlotte-Gastonia-Rock Hill, NC-SC Metro Area\n",
      "16820\n",
      "Cityname:Charlottesville, VA Metro Area\n"
     ]
    },
    {
     "name": "stderr",
     "output_type": "stream",
     "text": [
      "C:\\ProgramData\\Anaconda3\\lib\\site-packages\\ipykernel_launcher.py:31: SettingWithCopyWarning: \n",
      "A value is trying to be set on a copy of a slice from a DataFrame.\n",
      "Try using .loc[row_indexer,col_indexer] = value instead\n",
      "\n",
      "See the caveats in the documentation: http://pandas.pydata.org/pandas-docs/stable/indexing.html#indexing-view-versus-copy\n"
     ]
    },
    {
     "name": "stdout",
     "output_type": "stream",
     "text": [
      "16860\n",
      "Cityname:Chattanooga, TN-GA Metro Area\n",
      "16940\n",
      "Cityname:Cheyenne, WY Metro Area\n"
     ]
    },
    {
     "name": "stderr",
     "output_type": "stream",
     "text": [
      "C:\\ProgramData\\Anaconda3\\lib\\site-packages\\ipykernel_launcher.py:31: SettingWithCopyWarning: \n",
      "A value is trying to be set on a copy of a slice from a DataFrame.\n",
      "Try using .loc[row_indexer,col_indexer] = value instead\n",
      "\n",
      "See the caveats in the documentation: http://pandas.pydata.org/pandas-docs/stable/indexing.html#indexing-view-versus-copy\n"
     ]
    },
    {
     "name": "stdout",
     "output_type": "stream",
     "text": [
      "16980\n",
      "Cityname:Chicago-Joliet-Naperville, IL-IN-WI Metro Area\n",
      "17020\n",
      "Cityname:Chico, CA Metro Area\n"
     ]
    },
    {
     "name": "stderr",
     "output_type": "stream",
     "text": [
      "C:\\ProgramData\\Anaconda3\\lib\\site-packages\\ipykernel_launcher.py:31: SettingWithCopyWarning: \n",
      "A value is trying to be set on a copy of a slice from a DataFrame.\n",
      "Try using .loc[row_indexer,col_indexer] = value instead\n",
      "\n",
      "See the caveats in the documentation: http://pandas.pydata.org/pandas-docs/stable/indexing.html#indexing-view-versus-copy\n"
     ]
    },
    {
     "name": "stdout",
     "output_type": "stream",
     "text": [
      "17140\n",
      "Cityname:Cincinnati-Middletown, OH-KY-IN Metro Area\n",
      "17300\n",
      "Cityname:Clarksville, TN-KY Metro Area\n"
     ]
    },
    {
     "name": "stderr",
     "output_type": "stream",
     "text": [
      "C:\\ProgramData\\Anaconda3\\lib\\site-packages\\ipykernel_launcher.py:31: SettingWithCopyWarning: \n",
      "A value is trying to be set on a copy of a slice from a DataFrame.\n",
      "Try using .loc[row_indexer,col_indexer] = value instead\n",
      "\n",
      "See the caveats in the documentation: http://pandas.pydata.org/pandas-docs/stable/indexing.html#indexing-view-versus-copy\n"
     ]
    },
    {
     "name": "stdout",
     "output_type": "stream",
     "text": [
      "17420\n",
      "Cityname:Cleveland, TN Metro Area\n",
      "17460\n",
      "Cityname:Cleveland-Elyria-Mentor, OH Metro Area\n",
      "17660\n",
      "Cityname:Coeur d'Alene, ID Metro Area\n"
     ]
    },
    {
     "name": "stderr",
     "output_type": "stream",
     "text": [
      "C:\\ProgramData\\Anaconda3\\lib\\site-packages\\ipykernel_launcher.py:31: SettingWithCopyWarning: \n",
      "A value is trying to be set on a copy of a slice from a DataFrame.\n",
      "Try using .loc[row_indexer,col_indexer] = value instead\n",
      "\n",
      "See the caveats in the documentation: http://pandas.pydata.org/pandas-docs/stable/indexing.html#indexing-view-versus-copy\n"
     ]
    },
    {
     "name": "stdout",
     "output_type": "stream",
     "text": [
      "17780\n",
      "Cityname:College Station-Bryan, TX Metro Area\n",
      "17820\n",
      "Cityname:Colorado Springs, CO Metro Area\n",
      "17860\n",
      "Cityname:Columbia, MO Metro Area\n",
      "17900\n",
      "Cityname:Columbia, SC Metro Area\n",
      "17980\n",
      "Cityname:Columbus, GA-AL Metro Area\n",
      "18140\n",
      "Cityname:Columbus, OH Metro Area\n",
      "18580\n",
      "Cityname:Corpus Christi, TX Metro Area\n",
      "18700\n",
      "Cityname:Corvallis, OR Metro Area\n",
      "18880\n",
      "Cityname:Crestview-Fort Walton Beach-Destin, FL Metro Area\n",
      "19060\n",
      "Cityname:Cumberland, MD-WV Metro Area\n",
      "19100\n",
      "Cityname:Dallas-Fort Worth-Arlington, TX Metro Area\n",
      "19340\n",
      "Cityname:Davenport-Moline-Rock Island, IA-IL Metro Area\n"
     ]
    },
    {
     "name": "stderr",
     "output_type": "stream",
     "text": [
      "C:\\ProgramData\\Anaconda3\\lib\\site-packages\\ipykernel_launcher.py:31: SettingWithCopyWarning: \n",
      "A value is trying to be set on a copy of a slice from a DataFrame.\n",
      "Try using .loc[row_indexer,col_indexer] = value instead\n",
      "\n",
      "See the caveats in the documentation: http://pandas.pydata.org/pandas-docs/stable/indexing.html#indexing-view-versus-copy\n"
     ]
    },
    {
     "name": "stdout",
     "output_type": "stream",
     "text": [
      "19380\n",
      "Cityname:Dayton, OH Metro Area\n",
      "19500\n",
      "Cityname:Decatur, IL Metro Area\n",
      "19660\n",
      "Cityname:Deltona-Daytona Beach-Ormond Beach, FL Metro Area\n",
      "19740\n",
      "Cityname:Denver-Aurora-Broomfield, CO Metro Area\n",
      "19780\n",
      "Cityname:Des Moines-West Des Moines, IA Metro Area\n"
     ]
    },
    {
     "name": "stderr",
     "output_type": "stream",
     "text": [
      "C:\\ProgramData\\Anaconda3\\lib\\site-packages\\ipykernel_launcher.py:31: SettingWithCopyWarning: \n",
      "A value is trying to be set on a copy of a slice from a DataFrame.\n",
      "Try using .loc[row_indexer,col_indexer] = value instead\n",
      "\n",
      "See the caveats in the documentation: http://pandas.pydata.org/pandas-docs/stable/indexing.html#indexing-view-versus-copy\n"
     ]
    },
    {
     "name": "stdout",
     "output_type": "stream",
     "text": [
      "19820\n",
      "Cityname:Detroit-Warren-Livonia, MI Metro Area\n",
      "20220\n",
      "Cityname:Dubuque, IA Metro Area\n"
     ]
    },
    {
     "name": "stderr",
     "output_type": "stream",
     "text": [
      "C:\\ProgramData\\Anaconda3\\lib\\site-packages\\ipykernel_launcher.py:31: SettingWithCopyWarning: \n",
      "A value is trying to be set on a copy of a slice from a DataFrame.\n",
      "Try using .loc[row_indexer,col_indexer] = value instead\n",
      "\n",
      "See the caveats in the documentation: http://pandas.pydata.org/pandas-docs/stable/indexing.html#indexing-view-versus-copy\n"
     ]
    },
    {
     "name": "stdout",
     "output_type": "stream",
     "text": [
      "20260\n",
      "Cityname:Duluth, MN-WI Metro Area\n",
      "20500\n",
      "Cityname:Durham-Chapel Hill, NC Metro Area\n",
      "20740\n",
      "Cityname:Eau Claire, WI Metro Area\n",
      "20940\n",
      "Cityname:El Centro, CA Metro Area\n",
      "21060\n",
      "Cityname:Elizabethtown, KY Metro Area\n",
      "21140\n",
      "Cityname:Elkhart-Goshen, IN Metro Area\n",
      "21300\n",
      "Cityname:Elmira, NY Metro Area\n",
      "21340\n",
      "Cityname:El Paso, TX Metro Area\n",
      "21500\n",
      "Cityname:Erie, PA Metro Area\n"
     ]
    },
    {
     "name": "stderr",
     "output_type": "stream",
     "text": [
      "C:\\ProgramData\\Anaconda3\\lib\\site-packages\\ipykernel_launcher.py:31: SettingWithCopyWarning: \n",
      "A value is trying to be set on a copy of a slice from a DataFrame.\n",
      "Try using .loc[row_indexer,col_indexer] = value instead\n",
      "\n",
      "See the caveats in the documentation: http://pandas.pydata.org/pandas-docs/stable/indexing.html#indexing-view-versus-copy\n"
     ]
    },
    {
     "name": "stdout",
     "output_type": "stream",
     "text": [
      "21660\n",
      "Cityname:Eugene-Springfield, OR Metro Area\n",
      "21780\n",
      "Cityname:Evansville, IN-KY Metro Area\n",
      "21820\n",
      "Cityname:Fairbanks, AK Metro Area\n",
      "22020\n",
      "Cityname:Fargo, ND-MN Metro Area\n",
      "22180\n",
      "Cityname:Fayetteville, NC Metro Area\n",
      "22220\n",
      "Cityname:Fayetteville-Springdale-Rogers, AR-MO Metro Area\n",
      "22380\n",
      "Cityname:Flagstaff, AZ Metro Area\n",
      "22420\n",
      "Cityname:Flint, MI Metro Area\n",
      "22500\n",
      "Cityname:Florence, SC Metro Area\n",
      "22540\n",
      "Cityname:Fond du Lac, WI Metro Area\n",
      "22660\n",
      "Cityname:Fort Collins-Loveland, CO Metro Area\n",
      "22900\n",
      "Cityname:Fort Smith, AR-OK Metro Area\n",
      "23060\n",
      "Cityname:Fort Wayne, IN Metro Area\n",
      "23420\n",
      "Cityname:Fresno, CA Metro Area\n",
      "23540\n",
      "Cityname:Gainesville, FL Metro Area\n",
      "23580\n",
      "Cityname:Gainesville, GA Metro Area\n",
      "24020\n",
      "Cityname:Glens Falls, NY Metro Area\n",
      "24220\n",
      "Cityname:Grand Forks, ND-MN Metro Area\n",
      "24300\n",
      "Cityname:Grand Junction, CO Metro Area\n",
      "24340\n",
      "Cityname:Grand Rapids-Wyoming, MI Metro Area\n",
      "24500\n",
      "Cityname:Great Falls, MT Metro Area\n"
     ]
    },
    {
     "name": "stderr",
     "output_type": "stream",
     "text": [
      "C:\\ProgramData\\Anaconda3\\lib\\site-packages\\ipykernel_launcher.py:31: SettingWithCopyWarning: \n",
      "A value is trying to be set on a copy of a slice from a DataFrame.\n",
      "Try using .loc[row_indexer,col_indexer] = value instead\n",
      "\n",
      "See the caveats in the documentation: http://pandas.pydata.org/pandas-docs/stable/indexing.html#indexing-view-versus-copy\n"
     ]
    },
    {
     "name": "stdout",
     "output_type": "stream",
     "text": [
      "24540\n",
      "Cityname:Greeley, CO Metro Area\n",
      "24580\n",
      "Cityname:Green Bay, WI Metro Area\n",
      "24660\n",
      "Cityname:Greensboro-High Point, NC Metro Area\n",
      "24860\n",
      "Cityname:Greenville-Mauldin-Easley, SC Metro Area\n",
      "25060\n",
      "Cityname:Gulfport-Biloxi, MS Metro Area\n",
      "25180\n",
      "Cityname:Hagerstown-Martinsburg, MD-WV Metro Area\n",
      "25260\n",
      "Cityname:Hanford-Corcoran, CA Metro Area\n",
      "25420\n",
      "Cityname:Harrisburg-Carlisle, PA Metro Area\n",
      "25500\n",
      "Cityname:Harrisonburg, VA Metro Area\n",
      "25540\n",
      "Cityname:Hartford-West Hartford-East Hartford, CT Metro Area\n",
      "25860\n",
      "Cityname:Hickory-Lenoir-Morganton, NC Metro Area\n"
     ]
    },
    {
     "name": "stderr",
     "output_type": "stream",
     "text": [
      "C:\\ProgramData\\Anaconda3\\lib\\site-packages\\ipykernel_launcher.py:31: SettingWithCopyWarning: \n",
      "A value is trying to be set on a copy of a slice from a DataFrame.\n",
      "Try using .loc[row_indexer,col_indexer] = value instead\n",
      "\n",
      "See the caveats in the documentation: http://pandas.pydata.org/pandas-docs/stable/indexing.html#indexing-view-versus-copy\n"
     ]
    },
    {
     "name": "stdout",
     "output_type": "stream",
     "text": [
      "26100\n",
      "Cityname:Holland-Grand Haven, MI Metro Area\n",
      "26380\n",
      "Cityname:Houma-Bayou Cane-Thibodaux, LA Metro Area\n",
      "26420\n",
      "Cityname:Houston-Sugar Land-Baytown, TX Metro Area\n",
      "26580\n",
      "Cityname:Huntington-Ashland, WV-KY-OH Metro Area\n"
     ]
    },
    {
     "name": "stderr",
     "output_type": "stream",
     "text": [
      "C:\\ProgramData\\Anaconda3\\lib\\site-packages\\ipykernel_launcher.py:31: SettingWithCopyWarning: \n",
      "A value is trying to be set on a copy of a slice from a DataFrame.\n",
      "Try using .loc[row_indexer,col_indexer] = value instead\n",
      "\n",
      "See the caveats in the documentation: http://pandas.pydata.org/pandas-docs/stable/indexing.html#indexing-view-versus-copy\n"
     ]
    },
    {
     "name": "stdout",
     "output_type": "stream",
     "text": [
      "26620\n",
      "Cityname:Huntsville, AL Metro Area\n",
      "26820\n",
      "Cityname:Idaho Falls, ID Metro Area\n",
      "26900\n",
      "Cityname:Indianapolis-Carmel, IN Metro Area\n",
      "26980\n",
      "Cityname:Iowa City, IA Metro Area\n",
      "27060\n",
      "Cityname:Ithaca, NY Metro Area\n",
      "27100\n",
      "Cityname:Jackson, MI Metro Area\n",
      "27140\n",
      "Cityname:Jackson, MS Metro Area\n",
      "27180\n",
      "Cityname:Jackson, TN Metro Area\n",
      "27260\n",
      "Cityname:Jacksonville, FL Metro Area\n",
      "27500\n",
      "Cityname:Janesville, WI Metro Area\n"
     ]
    },
    {
     "name": "stderr",
     "output_type": "stream",
     "text": [
      "C:\\ProgramData\\Anaconda3\\lib\\site-packages\\ipykernel_launcher.py:31: SettingWithCopyWarning: \n",
      "A value is trying to be set on a copy of a slice from a DataFrame.\n",
      "Try using .loc[row_indexer,col_indexer] = value instead\n",
      "\n",
      "See the caveats in the documentation: http://pandas.pydata.org/pandas-docs/stable/indexing.html#indexing-view-versus-copy\n"
     ]
    },
    {
     "name": "stdout",
     "output_type": "stream",
     "text": [
      "27620\n",
      "Cityname:Jefferson City, MO Metro Area\n",
      "27740\n",
      "Cityname:Johnson City, TN Metro Area\n",
      "27780\n",
      "Cityname:Johnstown, PA Metro Area\n",
      "27860\n",
      "Cityname:Jonesboro, AR Metro Area\n"
     ]
    },
    {
     "name": "stderr",
     "output_type": "stream",
     "text": [
      "C:\\ProgramData\\Anaconda3\\lib\\site-packages\\ipykernel_launcher.py:31: SettingWithCopyWarning: \n",
      "A value is trying to be set on a copy of a slice from a DataFrame.\n",
      "Try using .loc[row_indexer,col_indexer] = value instead\n",
      "\n",
      "See the caveats in the documentation: http://pandas.pydata.org/pandas-docs/stable/indexing.html#indexing-view-versus-copy\n"
     ]
    },
    {
     "name": "stdout",
     "output_type": "stream",
     "text": [
      "28020\n",
      "Cityname:Kalamazoo-Portage, MI Metro Area\n",
      "28100\n",
      "Cityname:Kankakee-Bradley, IL Metro Area\n",
      "28140\n",
      "Cityname:Kansas City, MO-KS Metro Area\n",
      "28420\n",
      "Cityname:Kennewick-Pasco-Richland, WA Metro Area\n"
     ]
    },
    {
     "name": "stderr",
     "output_type": "stream",
     "text": [
      "C:\\ProgramData\\Anaconda3\\lib\\site-packages\\ipykernel_launcher.py:31: SettingWithCopyWarning: \n",
      "A value is trying to be set on a copy of a slice from a DataFrame.\n",
      "Try using .loc[row_indexer,col_indexer] = value instead\n",
      "\n",
      "See the caveats in the documentation: http://pandas.pydata.org/pandas-docs/stable/indexing.html#indexing-view-versus-copy\n"
     ]
    },
    {
     "name": "stdout",
     "output_type": "stream",
     "text": [
      "28660\n",
      "Cityname:Killeen-Temple-Fort Hood, TX Metro Area\n",
      "28700\n",
      "Cityname:Kingsport-Bristol-Bristol, TN-VA Metro Area\n",
      "28940\n",
      "Cityname:Knoxville, TN Metro Area\n",
      "29020\n",
      "Cityname:Kokomo, IN Metro Area\n",
      "29100\n",
      "Cityname:La Crosse, WI-MN Metro Area\n",
      "29140\n",
      "Cityname:Lafayette, IN Metro Area\n",
      "29180\n",
      "Cityname:Lafayette, LA Metro Area\n",
      "29460\n",
      "Cityname:Lakeland-Winter Haven, FL Metro Area\n",
      "29540\n",
      "Cityname:Lancaster, PA Metro Area\n",
      "29620\n",
      "Cityname:Lansing-East Lansing, MI Metro Area\n",
      "29700\n",
      "Cityname:Laredo, TX Metro Area\n",
      "29740\n",
      "Cityname:Las Cruces, NM Metro Area\n",
      "29820\n",
      "Cityname:Las Vegas-Paradise, NV Metro Area\n",
      "29940\n",
      "Cityname:Lawrence, KS Metro Area\n"
     ]
    },
    {
     "name": "stderr",
     "output_type": "stream",
     "text": [
      "C:\\ProgramData\\Anaconda3\\lib\\site-packages\\ipykernel_launcher.py:31: SettingWithCopyWarning: \n",
      "A value is trying to be set on a copy of a slice from a DataFrame.\n",
      "Try using .loc[row_indexer,col_indexer] = value instead\n",
      "\n",
      "See the caveats in the documentation: http://pandas.pydata.org/pandas-docs/stable/indexing.html#indexing-view-versus-copy\n"
     ]
    },
    {
     "name": "stdout",
     "output_type": "stream",
     "text": [
      "30020\n",
      "Cityname:Lawton, OK Metro Area\n",
      "30140\n",
      "Cityname:Lebanon, PA Metro Area\n",
      "30340\n",
      "Cityname:Lewiston-Auburn, ME Metro Area\n",
      "30460\n",
      "Cityname:Lexington-Fayette, KY Metro Area\n",
      "30620\n",
      "Cityname:Lima, OH Metro Area\n",
      "30700\n",
      "Cityname:Lincoln, NE Metro Area\n",
      "30780\n",
      "Cityname:Little Rock-North Little Rock-Conway, AR Metro Area\n",
      "30860\n",
      "Cityname:Logan, UT-ID Metro Area\n"
     ]
    },
    {
     "name": "stderr",
     "output_type": "stream",
     "text": [
      "C:\\ProgramData\\Anaconda3\\lib\\site-packages\\ipykernel_launcher.py:31: SettingWithCopyWarning: \n",
      "A value is trying to be set on a copy of a slice from a DataFrame.\n",
      "Try using .loc[row_indexer,col_indexer] = value instead\n",
      "\n",
      "See the caveats in the documentation: http://pandas.pydata.org/pandas-docs/stable/indexing.html#indexing-view-versus-copy\n"
     ]
    },
    {
     "name": "stdout",
     "output_type": "stream",
     "text": [
      "31020\n",
      "Cityname:Longview, WA Metro Area\n",
      "31100\n",
      "Cityname:Los Angeles-Long Beach-Santa Ana, CA Metro Area\n",
      "31140\n",
      "Cityname:Louisville, Jefferson County, KY-IN Metro Area\n"
     ]
    },
    {
     "name": "stderr",
     "output_type": "stream",
     "text": [
      "C:\\ProgramData\\Anaconda3\\lib\\site-packages\\ipykernel_launcher.py:31: SettingWithCopyWarning: \n",
      "A value is trying to be set on a copy of a slice from a DataFrame.\n",
      "Try using .loc[row_indexer,col_indexer] = value instead\n",
      "\n",
      "See the caveats in the documentation: http://pandas.pydata.org/pandas-docs/stable/indexing.html#indexing-view-versus-copy\n"
     ]
    },
    {
     "name": "stdout",
     "output_type": "stream",
     "text": [
      "31180\n",
      "Cityname:Lubbock, TX Metro Area\n",
      "31340\n",
      "Cityname:Lynchburg, VA Metro Area\n",
      "31420\n",
      "Cityname:Macon, GA Metro Area\n",
      "31540\n",
      "Cityname:Madison, WI Metro Area\n",
      "31700\n",
      "Cityname:Manchester-Nashua, NH Metro Area\n",
      "31900\n",
      "Cityname:Mansfield, OH Metro Area\n",
      "32580\n",
      "Cityname:McAllen-Edinburg-Mission, TX Metro Area\n",
      "32780\n",
      "Cityname:Medford, OR Metro Area\n",
      "32820\n",
      "Cityname:Memphis, TN-MS-AR Metro Area\n",
      "32900\n",
      "Cityname:Merced, CA Metro Area\n"
     ]
    },
    {
     "name": "stderr",
     "output_type": "stream",
     "text": [
      "C:\\ProgramData\\Anaconda3\\lib\\site-packages\\ipykernel_launcher.py:31: SettingWithCopyWarning: \n",
      "A value is trying to be set on a copy of a slice from a DataFrame.\n",
      "Try using .loc[row_indexer,col_indexer] = value instead\n",
      "\n",
      "See the caveats in the documentation: http://pandas.pydata.org/pandas-docs/stable/indexing.html#indexing-view-versus-copy\n"
     ]
    },
    {
     "name": "stdout",
     "output_type": "stream",
     "text": [
      "33100\n",
      "Cityname:Miami-Fort Lauderdale-Pompano Beach, FL Metro Area\n",
      "33340\n",
      "Cityname:Milwaukee-Waukesha-West Allis, WI Metro Area\n"
     ]
    },
    {
     "name": "stderr",
     "output_type": "stream",
     "text": [
      "C:\\ProgramData\\Anaconda3\\lib\\site-packages\\ipykernel_launcher.py:31: SettingWithCopyWarning: \n",
      "A value is trying to be set on a copy of a slice from a DataFrame.\n",
      "Try using .loc[row_indexer,col_indexer] = value instead\n",
      "\n",
      "See the caveats in the documentation: http://pandas.pydata.org/pandas-docs/stable/indexing.html#indexing-view-versus-copy\n"
     ]
    },
    {
     "name": "stdout",
     "output_type": "stream",
     "text": [
      "33460\n",
      "Cityname:Minneapolis-St. Paul-Bloomington, MN-WI Metro Area\n",
      "33540\n",
      "Cityname:Missoula, MT Metro Area\n"
     ]
    },
    {
     "name": "stderr",
     "output_type": "stream",
     "text": [
      "C:\\ProgramData\\Anaconda3\\lib\\site-packages\\ipykernel_launcher.py:31: SettingWithCopyWarning: \n",
      "A value is trying to be set on a copy of a slice from a DataFrame.\n",
      "Try using .loc[row_indexer,col_indexer] = value instead\n",
      "\n",
      "See the caveats in the documentation: http://pandas.pydata.org/pandas-docs/stable/indexing.html#indexing-view-versus-copy\n"
     ]
    },
    {
     "name": "stdout",
     "output_type": "stream",
     "text": [
      "33660\n",
      "Cityname:Mobile, AL Metro Area\n",
      "33700\n",
      "Cityname:Modesto, CA Metro Area\n",
      "33740\n",
      "Cityname:Monroe, LA Metro Area\n",
      "33860\n",
      "Cityname:Montgomery, AL Metro Area\n",
      "34060\n",
      "Cityname:Morgantown, WV Metro Area\n",
      "34580\n",
      "Cityname:Mount Vernon-Anacortes, WA Metro Area\n"
     ]
    },
    {
     "name": "stderr",
     "output_type": "stream",
     "text": [
      "C:\\ProgramData\\Anaconda3\\lib\\site-packages\\ipykernel_launcher.py:31: SettingWithCopyWarning: \n",
      "A value is trying to be set on a copy of a slice from a DataFrame.\n",
      "Try using .loc[row_indexer,col_indexer] = value instead\n",
      "\n",
      "See the caveats in the documentation: http://pandas.pydata.org/pandas-docs/stable/indexing.html#indexing-view-versus-copy\n"
     ]
    },
    {
     "name": "stdout",
     "output_type": "stream",
     "text": [
      "34620\n",
      "Cityname:Muncie, IN Metro Area\n",
      "34740\n",
      "Cityname:Muskegon-Norton Shores, MI Metro Area\n",
      "34820\n",
      "Cityname:Myrtle Beach-North Myrtle Beach-Conway, SC Metro Area\n",
      "34900\n",
      "Cityname:Napa, CA Metro Area\n",
      "34940\n",
      "Cityname:Naples-Marco Island, FL Metro Area\n",
      "34980\n",
      "Cityname:Nashville-Davidson--Murfreesboro--Franklin, TN Metro Area\n",
      "35300\n",
      "Cityname:New Haven-Milford, CT Metro Area\n"
     ]
    },
    {
     "name": "stderr",
     "output_type": "stream",
     "text": [
      "C:\\ProgramData\\Anaconda3\\lib\\site-packages\\ipykernel_launcher.py:31: SettingWithCopyWarning: \n",
      "A value is trying to be set on a copy of a slice from a DataFrame.\n",
      "Try using .loc[row_indexer,col_indexer] = value instead\n",
      "\n",
      "See the caveats in the documentation: http://pandas.pydata.org/pandas-docs/stable/indexing.html#indexing-view-versus-copy\n"
     ]
    },
    {
     "name": "stdout",
     "output_type": "stream",
     "text": [
      "35380\n",
      "Cityname:New Orleans-Metairie-Kenner, LA Metro Area\n",
      "35620\n",
      "Cityname:New York-Northern New Jersey-Long Island, NY-NJ-PA Metro Area\n"
     ]
    },
    {
     "name": "stderr",
     "output_type": "stream",
     "text": [
      "C:\\ProgramData\\Anaconda3\\lib\\site-packages\\ipykernel_launcher.py:31: SettingWithCopyWarning: \n",
      "A value is trying to be set on a copy of a slice from a DataFrame.\n",
      "Try using .loc[row_indexer,col_indexer] = value instead\n",
      "\n",
      "See the caveats in the documentation: http://pandas.pydata.org/pandas-docs/stable/indexing.html#indexing-view-versus-copy\n"
     ]
    },
    {
     "name": "stdout",
     "output_type": "stream",
     "text": [
      "35660\n",
      "Cityname:Niles-Benton Harbor, MI Metro Area\n"
     ]
    },
    {
     "name": "stderr",
     "output_type": "stream",
     "text": [
      "C:\\ProgramData\\Anaconda3\\lib\\site-packages\\ipykernel_launcher.py:31: SettingWithCopyWarning: \n",
      "A value is trying to be set on a copy of a slice from a DataFrame.\n",
      "Try using .loc[row_indexer,col_indexer] = value instead\n",
      "\n",
      "See the caveats in the documentation: http://pandas.pydata.org/pandas-docs/stable/indexing.html#indexing-view-versus-copy\n"
     ]
    },
    {
     "name": "stdout",
     "output_type": "stream",
     "text": [
      "35840\n",
      "Cityname:North Port-Bradenton-Sarasota, FL Metro Area\n",
      "35980\n",
      "Cityname:Norwich-New London, CT Metro Area\n",
      "36100\n",
      "Cityname:Ocala, FL Metro Area\n",
      "36140\n",
      "Cityname:Ocean City, NJ Metro Area\n",
      "36220\n",
      "Cityname:Odessa, TX Metro Area\n",
      "36420\n",
      "Cityname:Oklahoma City, OK Metro Area\n",
      "36500\n",
      "Cityname:Olympia, WA Metro Area\n",
      "36540\n",
      "Cityname:Omaha-Council Bluffs, NE-IA Metro Area\n",
      "36740\n",
      "Cityname:Orlando-Kissimmee-Sanford, FL Metro Area\n",
      "36780\n",
      "Cityname:Oshkosh-Neenah, WI Metro Area\n"
     ]
    },
    {
     "name": "stderr",
     "output_type": "stream",
     "text": [
      "C:\\ProgramData\\Anaconda3\\lib\\site-packages\\ipykernel_launcher.py:31: SettingWithCopyWarning: \n",
      "A value is trying to be set on a copy of a slice from a DataFrame.\n",
      "Try using .loc[row_indexer,col_indexer] = value instead\n",
      "\n",
      "See the caveats in the documentation: http://pandas.pydata.org/pandas-docs/stable/indexing.html#indexing-view-versus-copy\n"
     ]
    },
    {
     "name": "stdout",
     "output_type": "stream",
     "text": [
      "37100\n",
      "Cityname:Oxnard-Thousand Oaks-Ventura, CA Metro Area\n",
      "37340\n",
      "Cityname:Palm Bay-Melbourne-Titusville, FL Metro Area\n",
      "37380\n",
      "Cityname:Palm Coast, FL Metro Area\n",
      "37460\n",
      "Cityname:Panama City-Lynn Haven-Panama City Beach, FL Metro Area\n",
      "37620\n",
      "Cityname:Parkersburg-Marietta-Vienna, WV-OH Metro Area\n",
      "37700\n",
      "Cityname:Pascagoula, MS Metro Area\n",
      "37860\n",
      "Cityname:Pensacola-Ferry Pass-Brent, FL Metro Area\n",
      "37900\n",
      "Cityname:Peoria, IL Metro Area\n",
      "37980\n",
      "Cityname:Philadelphia-Camden-Wilmington, PA-NJ-DE-MD Metro Area\n",
      "38060\n",
      "Cityname:Phoenix-Mesa-Glendale, AZ Metro Area\n"
     ]
    },
    {
     "name": "stderr",
     "output_type": "stream",
     "text": [
      "C:\\ProgramData\\Anaconda3\\lib\\site-packages\\ipykernel_launcher.py:31: SettingWithCopyWarning: \n",
      "A value is trying to be set on a copy of a slice from a DataFrame.\n",
      "Try using .loc[row_indexer,col_indexer] = value instead\n",
      "\n",
      "See the caveats in the documentation: http://pandas.pydata.org/pandas-docs/stable/indexing.html#indexing-view-versus-copy\n"
     ]
    },
    {
     "name": "stdout",
     "output_type": "stream",
     "text": [
      "38300\n",
      "Cityname:Pittsburgh, PA Metro Area\n"
     ]
    },
    {
     "name": "stderr",
     "output_type": "stream",
     "text": [
      "C:\\ProgramData\\Anaconda3\\lib\\site-packages\\ipykernel_launcher.py:31: SettingWithCopyWarning: \n",
      "A value is trying to be set on a copy of a slice from a DataFrame.\n",
      "Try using .loc[row_indexer,col_indexer] = value instead\n",
      "\n",
      "See the caveats in the documentation: http://pandas.pydata.org/pandas-docs/stable/indexing.html#indexing-view-versus-copy\n"
     ]
    },
    {
     "name": "stdout",
     "output_type": "stream",
     "text": [
      "38340\n",
      "Cityname:Pittsfield, MA Metro Area\n"
     ]
    },
    {
     "name": "stderr",
     "output_type": "stream",
     "text": [
      "C:\\ProgramData\\Anaconda3\\lib\\site-packages\\ipykernel_launcher.py:31: SettingWithCopyWarning: \n",
      "A value is trying to be set on a copy of a slice from a DataFrame.\n",
      "Try using .loc[row_indexer,col_indexer] = value instead\n",
      "\n",
      "See the caveats in the documentation: http://pandas.pydata.org/pandas-docs/stable/indexing.html#indexing-view-versus-copy\n"
     ]
    },
    {
     "name": "stdout",
     "output_type": "stream",
     "text": [
      "38540\n",
      "Cityname:Pocatello, ID Metro Area\n",
      "38860\n",
      "Cityname:Portland-South Portland-Biddeford, ME Metro Area\n",
      "38900\n",
      "Cityname:Portland-Vancouver-Hillsboro, OR-WA Metro Area\n"
     ]
    },
    {
     "name": "stderr",
     "output_type": "stream",
     "text": [
      "C:\\ProgramData\\Anaconda3\\lib\\site-packages\\ipykernel_launcher.py:31: SettingWithCopyWarning: \n",
      "A value is trying to be set on a copy of a slice from a DataFrame.\n",
      "Try using .loc[row_indexer,col_indexer] = value instead\n",
      "\n",
      "See the caveats in the documentation: http://pandas.pydata.org/pandas-docs/stable/indexing.html#indexing-view-versus-copy\n"
     ]
    },
    {
     "name": "stdout",
     "output_type": "stream",
     "text": [
      "38940\n",
      "Cityname:Port St. Lucie, FL Metro Area\n"
     ]
    },
    {
     "name": "stderr",
     "output_type": "stream",
     "text": [
      "C:\\ProgramData\\Anaconda3\\lib\\site-packages\\ipykernel_launcher.py:31: SettingWithCopyWarning: \n",
      "A value is trying to be set on a copy of a slice from a DataFrame.\n",
      "Try using .loc[row_indexer,col_indexer] = value instead\n",
      "\n",
      "See the caveats in the documentation: http://pandas.pydata.org/pandas-docs/stable/indexing.html#indexing-view-versus-copy\n"
     ]
    },
    {
     "name": "stdout",
     "output_type": "stream",
     "text": [
      "39100\n",
      "Cityname:Poughkeepsie-Newburgh-Middletown, NY Metro Area\n",
      "39300\n",
      "Cityname:Providence-New Bedford-Fall River, RI-MA Metro Area\n",
      "39380\n",
      "Cityname:Pueblo, CO Metro Area\n"
     ]
    }
   ],
   "source": [
    "def main():\n",
    "    # set the path to the dataset folder\n",
    "    path = r'D:\\UoK\\OneDrive - University of Kentucky\\github\\transit_ridership_decline\\Factors and Ridership Data\\Final Datasets'\n",
    "    os.chdir(path)\n",
    "    # read excel file - main dataset\n",
    "    df = pd.read_csv('final_dataset_oct_24.csv')\n",
    "    read_PBS()\n",
    "    \n",
    "    path =r'D:\\UoK\\OneDrive - University of Kentucky\\github\\transit_ridership_decline\\Factors and Ridership Data\\Shared_dataset'\n",
    "    \n",
    "    # Stage 1 - Merge the main dataset with CBSA_Dockless&Scooters data. Please note - here the order of the\n",
    "    # parameters is important\n",
    "    df_dockless_scooters = get_cbsa_dockless_scooters()\n",
    "    merged_df_1 = merge_dataset_main_dockless_scooters(df, df_dockless_scooters)\n",
    "    merged_df_1.to_csv('merged_df_1.csv')\n",
    "\n",
    "    # Stage 2 - Merge the modified dataset with CBSA_PBS data. Please note - here the order of the\n",
    "    # parameters is important\n",
    "    df_pbs = get_cbsa_pbs()\n",
    "    merged_df_2 = merge_dataset_main_pbs(merged_df_1, df_pbs)\n",
    "    merged_df_2.to_csv('merged_df_2.csv')\n",
    "\n",
    "    # Stage 3 - Merge the modified dataset with Walkscore data. Please note - here the order of the\n",
    "    # parameters is important\n",
    "    df_walkscore = get_cbsa_walkscore()\n",
    "    merged_df_3 = merge_dataset_main_walkscore(merged_df_2, df_walkscore)\n",
    "    merged_df_3 = merged_df_3.drop(columns=['CBSAFP_y', 'CBSAFP'])\n",
    "    \n",
    "    # cast columsn into INTEGER\n",
    "    merged_df_3.astype({'TNC_FLAG': 'int32'}).dtypes   \n",
    "\n",
    "    merged_df_3['MNAME'] = np.where(merged_df_3['MNAME']=='Louisville/Jefferson County, KY-IN Metro Area', 'Louisville, Jefferson County, KY-IN Metro Area', merged_df_3['MNAME'])\n",
    "    # Edit dataset\n",
    "    # set default values of the already existing columns\n",
    "    merged_df_3['UPT'] = np.where(merged_df_3['UPT'].isnull(), '0', merged_df_3['UPT'])\n",
    "    merged_df_3['VRM'] = np.where(merged_df_3['VRM'].isnull(), '0', merged_df_3['VRM'])\n",
    "\n",
    "    merged_df_3['UPT'] = np.where(merged_df_3['UPT_ADJ'].isnull(), '0', merged_df_3['UPT_ADJ'])\n",
    "    merged_df_3['VRM'] = np.where(merged_df_3['VRM_ADJ'].isnull(), '0', merged_df_3['VRM_ADJ'])\n",
    "\n",
    "    merged_df_3['Pop_Below150_Poverty'] = np.where(merged_df_3['Pop_Below150_Poverty'].isnull(), '0', merged_df_3['Pop_Below150_Poverty'])\n",
    "    merged_df_3['Pop_Above150_Poverty'] = np.where(merged_df_3['Pop_Above150_Poverty'].isnull(), '0', merged_df_3['Pop_Above150_Poverty'])\n",
    "\n",
    "    merged_df_3['walkscore'] = np.where(merged_df_3['walkscore'].isnull(), 0, merged_df_3['walkscore'])\n",
    "    \n",
    "    merged_df_3['bike'] = np.where(merged_df_3['bike'].isnull(), 0, merged_df_3['bike'])\n",
    "    \n",
    "    merged_df_3['transit'] = np.where(merged_df_3['transit'].isnull(), 0, merged_df_3['transit'])\n",
    "    \n",
    "    merged_df_3['dockCt'] = np.where(merged_df_3['dockCt'].isnull(), 0, merged_df_3['dockCt'])\n",
    "    \n",
    "    merged_df_3['docklessCt'] = np.where(merged_df_3['docklessCt'].isnull(), 0, merged_df_3['docklessCt'])\n",
    "    \n",
    "    merged_df_3['scooterCt'] = np.where(merged_df_3['scooterCt'].isnull(), 0, merged_df_3['scooterCt'])\n",
    "    \n",
    "# #     merged_df_3['dockNm'] = np.where(merged_df_3['dockNm'] == '-',None, merged_df_3['dockNm'])\n",
    "    \n",
    "# #     merged_df_3['docklessNm'] = np.where(merged_df_3['docklessNm'] == '-', None, merged_df_3['docklessNm'])\n",
    "    \n",
    "# #     merged_df_3['scooterNm'] = np.where(merged_df_3['scooterNm'] == '', None, merged_df_3['scooterNm'])\n",
    "    \n",
    "# #     merged_df_3['Type'] = np.where(merged_df_3['Type'] == '', None, merged_df_3['Type'])\n",
    "\n",
    "    merged_df_3['PBS_Start'] = np.where(merged_df_3['PBS_Start']== 0, None, merged_df_3['PBS_Start'])\n",
    "    # merged_df_3['PBS_Start'] = np.where(merged_df_3['PBS_Start'] == '-', '0', merged_df_3['PBS_Start'])\n",
    "\n",
    "    merged_df_3['PBS_End'] = np.where(merged_df_3['PBS_End']== 0, None, merged_df_3['PBS_End'])\n",
    "    # merged_df_3['PBS_End'] = np.where(merged_df_3['PBS_End'] == '-', '0', merged_df_3['PBS_End'])\n",
    "    # merged_df_3.to_csv('merged_df_3.csv')\n",
    "    \n",
    "    merged_df_3.astype({'walkscore': 'int32'}).dtypes\n",
    "    merged_df_3.astype({'bike': 'int32'}).dtypes\n",
    "    merged_df_3.astype({'transit': 'int32'}).dtypes\n",
    "    \n",
    "    merged_df_3.astype({'dockCt': 'int32'}).dtypes\n",
    "    merged_df_3.astype({'docklessCt': 'int32'}).dtypes\n",
    "    merged_df_3.astype({'scooterCt': 'int32'}).dtypes\n",
    "    \n",
    "    merged_df_3.to_csv('merged_df_3.csv')\n",
    "    \n",
    "    prepare_charts(merged_df_3)\n",
    "\n",
    "\n",
    "if __name__ == \"__main__\":\n",
    "    main()"
   ]
  },
  {
   "cell_type": "code",
   "execution_count": null,
   "metadata": {
    "scrolled": true
   },
   "outputs": [],
   "source": []
  },
  {
   "cell_type": "code",
   "execution_count": null,
   "metadata": {
    "scrolled": true
   },
   "outputs": [],
   "source": []
  }
 ],
 "metadata": {
  "kernelspec": {
   "display_name": "Python 3",
   "language": "python",
   "name": "python3"
  },
  "language_info": {
   "codemirror_mode": {
    "name": "ipython",
    "version": 3
   },
   "file_extension": ".py",
   "mimetype": "text/x-python",
   "name": "python",
   "nbconvert_exporter": "python",
   "pygments_lexer": "ipython3",
   "version": "3.7.3"
  }
 },
 "nbformat": 4,
 "nbformat_minor": 4
}
